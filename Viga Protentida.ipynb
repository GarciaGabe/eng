{
 "cells": [
  {
   "cell_type": "markdown",
   "id": "b6224006",
   "metadata": {
    "tags": []
   },
   "source": [
    "# CÁLCULO DE VIGA PROTENDIDA - VP43\n",
    "\n",
    "**OBRA:** SUPERMAGO Porto Alegre\n",
    "\n",
    "**Cliente:** JD Construções\n",
    "\n",
    "**Data:** 02/03/2023\n",
    "\n",
    "**Cálculo:** Gabriel Garcia\n",
    "\n",
    "<img src=\"img/logoRS.jpg\" alt=\"RS Engenharia & Arquitetura\" width=\"200px\"/>\n",
    "\n",
    "Todas as grandezas apresentadas possuem como unidades base kN [força] e cm [comprimento]."
   ]
  },
  {
   "cell_type": "code",
   "execution_count": 1,
   "id": "36ead105",
   "metadata": {},
   "outputs": [],
   "source": [
    "import handcalcs.render\n",
    "import pandas as pd\n",
    "import numpy as np\n",
    "from math import floor,ceil,sqrt,exp\n",
    "from numpy import log, pi\n",
    "from ggcp import calcpsi, linha_neutra_cp_ret\n",
    "from scipy.optimize import fsolve\n"
   ]
  },
  {
   "cell_type": "markdown",
   "id": "0827d7c6",
   "metadata": {
    "tags": []
   },
   "source": [
    "# Informações Iniciais:\n",
    "\n",
    "## Definição do EPS:"
   ]
  },
  {
   "cell_type": "markdown",
   "id": "dc46086c",
   "metadata": {},
   "source": [
    "## Geometria da Viga:"
   ]
  },
  {
   "cell_type": "code",
   "execution_count": 2,
   "id": "9ae2ffd6",
   "metadata": {},
   "outputs": [
    {
     "data": {
      "text/latex": [
       "\\[\n",
       "\\begin{aligned}\n",
       "h &= 105 \\; \n",
       "\\\\[10pt]\n",
       "b &= 40 \\; \n",
       "\\\\[10pt]\n",
       "h_{eps} &= 0 \\; \n",
       "\\\\[10pt]\n",
       "e_{eps} &= 0 \\; \n",
       "\\\\[10pt]\n",
       "A_{c} &= b \\cdot h - e_{eps} \\cdot h_{eps}  = 40 \\cdot 105 - 0 \\cdot 0 &= 4200  \n",
       "\\\\[10pt]\n",
       "I_{c} &= \\left( b \\cdot \\frac{ \\left( h \\right) ^{ 3 } }{ 12 } - e_{eps} \\cdot \\frac{ \\left( h_{eps} \\right) ^{ 3 } }{ 12 } \\right) \\\\&= \\left( 40 \\cdot \\frac{ \\left( 105 \\right) ^{ 3 } }{ 12 } - 0 \\cdot \\frac{ \\left( 0 \\right) ^{ 3 } }{ 12 } \\right) \\\\&= 3858750.000  \\\\[10pt]\n",
       "\\\\[10pt]\n",
       "y_{i} &= 53.100 \\; \n",
       "\\\\[10pt]\n",
       "y_{s} &= h - y_{i}  = 105 - 53.100 &= 51.900  \n",
       "\\\\[10pt]\n",
       "W_{i} &= \\frac{ I_{c} }{ y_{i} }  = \\frac{ 3858750.000 }{ 53.100 } &= 72669.492  \n",
       "\\\\[10pt]\n",
       "W_{s} &= \\frac{ I_{c} }{ y_{s} }  = \\frac{ 3858750.000 }{ 51.900 } &= 74349.711  \n",
       "\\\\[10pt]\n",
       "\\mathrm{Vao} &= 1075 \\; \n",
       "\\\\[10pt]\n",
       "& \\textrm{ Número de seções para dividir o vão:}\\\\[10pt]\n",
       "\\mathrm{nS} &= 21 \\; \n",
       "\\end{aligned}\n",
       "\\]"
      ],
      "text/plain": [
       "<IPython.core.display.Latex object>"
      ]
     },
     "metadata": {},
     "output_type": "display_data"
    }
   ],
   "source": [
    "%%render\n",
    "# Geometria da Viga:\n",
    "\n",
    "h = 105\n",
    "b = 40\n",
    "h_eps = 0\n",
    "e_eps = 0\n",
    "A_c = b*h - e_eps*h_eps\n",
    "I_c = (b*h**3/12 - e_eps*(h_eps**3)/12)\n",
    "y_i = 53.1\n",
    "y_s = h-y_i\n",
    "W_i = I_c/(y_i)\n",
    "W_s = I_c/(y_s)\n",
    "\n",
    "\n",
    "Vao = 1075\n",
    "\n",
    "## Número de seções para dividir o vão:\n",
    "# Escolher número impar\n",
    "nS = 21"
   ]
  },
  {
   "cell_type": "markdown",
   "id": "14134ea3",
   "metadata": {},
   "source": [
    "## Propriedades dos Materiais:"
   ]
  },
  {
   "cell_type": "code",
   "execution_count": 3,
   "id": "a7d62aa8",
   "metadata": {},
   "outputs": [
    {
     "data": {
      "text/latex": [
       "\\[\n",
       "\\begin{aligned}\n",
       "f_{ck} &= 4 \\; \n",
       "\\\\[10pt]\n",
       "f_{ctm} &= 0.03 \\cdot \\left( 10 \\cdot f_{ck} \\right) ^{ \\left( \\frac{ 2 }{ 3 } \\right) }  = 0.03 \\cdot \\left( 10 \\cdot 4 \\right) ^{ \\left( \\frac{ 2 }{ 3 } \\right) } &= 0.351  \n",
       "\\\\[10pt]\n",
       "f_{ptk} &= 190 \\; \n",
       "\\\\[10pt]\n",
       "f_{pyd} &= 148.700 \\; \n",
       "\\\\[10pt]\n",
       "f_{yk} &= 50 \\; \n",
       "\\\\[10pt]\n",
       "f_{cj} &= 2.800 \\; \n",
       "\\\\[10pt]\n",
       "E_{s} &= 21000 \\; \n",
       "\\\\[10pt]\n",
       "E_{p} &= 20000 \\; \n",
       "\\end{aligned}\n",
       "\\]"
      ],
      "text/plain": [
       "<IPython.core.display.Latex object>"
      ]
     },
     "metadata": {},
     "output_type": "display_data"
    }
   ],
   "source": [
    "%%render\n",
    "# Propriedades dos Materiais:\n",
    "\n",
    "f_ck = 4\n",
    "f_ctm = 0.03*(10*f_ck)**(2/3)\n",
    "f_ptk = 190\n",
    "f_pyd = 148.7\n",
    "f_yk = 50\n",
    "f_cj = 2.8\n",
    "\n",
    "E_s = 21000\n",
    "E_p = 20000"
   ]
  },
  {
   "cell_type": "code",
   "execution_count": 4,
   "id": "3fecd76f",
   "metadata": {},
   "outputs": [
    {
     "data": {
      "text/latex": [
       "\\[\n",
       "\\begin{aligned}\n",
       "f_{c} &= f_{ck} \\cdot \\frac{ 0.85 }{ 1.4 }  = 4 \\cdot \\frac{ 0.85 }{ 1.4 } &= 2.43  \n",
       "\\\\[10pt]\n",
       "E_{ci} &= 560 \\cdot \\left( f_{ck} \\cdot 10 \\right) ^{ \\left( \\frac{ 1 }{ 2 } \\right) }  = 560 \\cdot \\left( 4 \\cdot 10 \\right) ^{ \\left( \\frac{ 1 }{ 2 } \\right) } &= 3541.75  \n",
       "\\\\[10pt]\n",
       "E_{cs} &= E_{ci} \\cdot \\left( 0.8 + 0.2 \\cdot \\frac{ f_{ck} }{ 8 } \\right)  = 3541.75 \\cdot \\left( 0.8 + 0.2 \\cdot \\frac{ 4 }{ 8 } \\right) &= 3187.58  \n",
       "\\\\[10pt]\n",
       "E_{cit0} &= \\left( \\frac{ f_{cj} }{ f_{ck} } \\right) ^{ \\left( \\frac{ 1 }{ 2 } \\right) } \\cdot E_{ci}  = \\left( \\frac{ 2.80 }{ 4 } \\right) ^{ \\left( \\frac{ 1 }{ 2 } \\right) } \\cdot 3541.75 &= 2963.24  \n",
       "\\\\[10pt]\n",
       "E_{cst0} &= E_{cit0} \\cdot \\left( 0.8 + 0.2 \\cdot \\frac{ f_{cj} }{ 8 } \\right)  = 2963.24 \\cdot \\left( 0.8 + 0.2 \\cdot \\frac{ 2.80 }{ 8 } \\right) &= 2578.02  \n",
       "\\\\[10pt]\n",
       "f_{yd} &= \\frac{ f_{yk} }{ 1.15 }  = \\frac{ 50 }{ 1.15 } &= 43.48  \n",
       "\\\\[10pt]\n",
       "\\sigma_{p0} &= 0.8 \\cdot f_{ptk}  = 0.8 \\cdot 190 &= 152.00  \n",
       "\\end{aligned}\n",
       "\\]"
      ],
      "text/plain": [
       "<IPython.core.display.Latex object>"
      ]
     },
     "metadata": {},
     "output_type": "display_data"
    }
   ],
   "source": [
    "%%render 2 short\n",
    "\n",
    "f_c = f_ck*0.85/1.4\n",
    "E_ci = 560*(f_ck*10)**(1/2)\n",
    "E_cs = E_ci*(0.8+0.2*f_ck/8)\n",
    "\n",
    "E_cit0 = (f_cj/f_ck)**(1/2)*E_ci\n",
    "E_cst0 = E_cit0*(0.8+0.2*f_cj/8)\n",
    "\n",
    "f_yd = f_yk/1.15\n",
    "sigma_p0 = 0.8*f_ptk"
   ]
  },
  {
   "cell_type": "markdown",
   "id": "3d992512",
   "metadata": {},
   "source": [
    "## Carregamentos:"
   ]
  },
  {
   "cell_type": "code",
   "execution_count": 5,
   "id": "d578be19",
   "metadata": {
    "scrolled": true
   },
   "outputs": [
    {
     "data": {
      "text/latex": [
       "\\[\n",
       "\\begin{aligned}\n",
       "Q_{t0} &= 0.000025 \\cdot A_{c} \\cdot 1.0809  = 0.000025 \\cdot 4200 \\cdot 1.0809 &= 0.11  \n",
       "\\\\[10pt]\n",
       "Q_{tF} &= \\frac{ 117.000 }{ 100 } &= 1.17  \n",
       "\\\\[10pt]\n",
       "Q_{ELS} &= \\frac{ 80.61 }{ 100 } &= 0.81  \n",
       "\\end{aligned}\n",
       "\\]"
      ],
      "text/plain": [
       "<IPython.core.display.Latex object>"
      ]
     },
     "metadata": {},
     "output_type": "display_data"
    }
   ],
   "source": [
    "%%render 2 short\n",
    "\n",
    "Q_t0 = 0.000025*A_c*1.0809\n",
    "Q_tF = 117.000/100\n",
    "Q_ELS = 80.61/100"
   ]
  },
  {
   "cell_type": "markdown",
   "id": "c82c1fa3",
   "metadata": {},
   "source": [
    "## Esforços no Centro do Vão:"
   ]
  },
  {
   "cell_type": "code",
   "execution_count": 6,
   "id": "21d314b4",
   "metadata": {},
   "outputs": [
    {
     "data": {
      "text/latex": [
       "\\[\n",
       "\\begin{aligned}\n",
       "M_{F} &= Q_{tF} \\cdot \\left( \\mathrm{Vao} \\right) ^{ 2 } \\cdot 0.125  = 1.17 \\cdot \\left( 1075 \\right) ^{ 2 } \\cdot 0.125 &= 169010.16  \n",
       "\\\\[10pt]\n",
       "M_{0} &= Q_{t0} \\cdot \\left( \\mathrm{Vao} \\right) ^{ 2 } \\cdot 0.125  = 0.11 \\cdot \\left( 1075 \\right) ^{ 2 } \\cdot 0.125 &= 16394.64  \n",
       "\\\\[10pt]\n",
       "M_{ELS} &= Q_{ELS} \\cdot \\frac{ \\left( \\mathrm{Vao} \\right) ^{ 2 } }{ 8 }  = 0.81 \\cdot \\frac{ \\left( 1075 \\right) ^{ 2 } }{ 8 } &= 116443.66  \n",
       "\\\\[10pt]\n",
       "V_{F} &= Q_{tF} \\cdot \\frac{ \\mathrm{Vao} }{ 2 } \\cdot 1.065  = 1.17 \\cdot \\frac{ 1075 }{ 2 } \\cdot 1.065 &= 669.75  \n",
       "\\end{aligned}\n",
       "\\]"
      ],
      "text/plain": [
       "<IPython.core.display.Latex object>"
      ]
     },
     "metadata": {},
     "output_type": "display_data"
    }
   ],
   "source": [
    "%%render 2 short\n",
    "M_F = (Q_tF)*Vao**2*0.125\n",
    "M_0 = (Q_t0)*Vao**2*0.125\n",
    "M_ELS = Q_ELS*Vao**2/8\n",
    "V_F = (Q_tF)*Vao/2*1.065"
   ]
  },
  {
   "cell_type": "markdown",
   "id": "9b0ada7b",
   "metadata": {},
   "source": [
    "# Deteminação da Força de Protensão:\n",
    "\n",
    "## Limites de Tensão:"
   ]
  },
  {
   "cell_type": "code",
   "execution_count": 7,
   "id": "9b94d2e4",
   "metadata": {
    "scrolled": true
   },
   "outputs": [
    {
     "data": {
      "text/latex": [
       "\\[\n",
       "\\begin{aligned}\n",
       "\\sigma_{ct0} &= \\left( - 1.2 \\right) \\cdot 0.03 \\cdot \\left( f_{cj} \\cdot 10 \\right) ^{ \\left( \\frac{ 2 }{ 3 } \\right) }  = \\left( - 1.2 \\right) \\cdot 0.03 \\cdot \\left( 2.800 \\cdot 10 \\right) ^{ \\left( \\frac{ 2 }{ 3 } \\right) } &= -0.332  \n",
       "\\\\[10pt]\n",
       "\\sigma_{cc0} &= 0.7 \\cdot f_{cj}  = 0.7 \\cdot 2.800 &= 1.960  \n",
       "\\\\[10pt]\n",
       "\\sigma_{ctF} &= \\left( - 1.2 \\right) \\cdot 0.03 \\cdot \\left( f_{ck} \\cdot 10 \\right) ^{ \\left( \\frac{ 2 }{ 3 } \\right) }  = \\left( - 1.2 \\right) \\cdot 0.03 \\cdot \\left( 4 \\cdot 10 \\right) ^{ \\left( \\frac{ 2 }{ 3 } \\right) } &= -0.421  \n",
       "\\\\[10pt]\n",
       "\\sigma_{ccF} &= 0.5 \\cdot f_{ck}  = 0.5 \\cdot 4 &= 2.000  \n",
       "\\\\[10pt]\n",
       "r_{0} &= 0.950 \\; \n",
       "\\\\[10pt]\n",
       "r_{F} &= 0.800 \\; \n",
       "\\end{aligned}\n",
       "\\]"
      ],
      "text/plain": [
       "<IPython.core.display.Latex object>"
      ]
     },
     "metadata": {},
     "output_type": "display_data"
    }
   ],
   "source": [
    "%%render short\n",
    "\n",
    "sigma_ct0 = -1.2*0.03*(f_cj*10)**(2/3)\n",
    "sigma_cc0 = 0.7*f_cj\n",
    "sigma_ctF = -1.2*0.03*(f_ck*10)**(2/3)\n",
    "sigma_ccF = 0.5*f_ck\n",
    "\n",
    "r_0 = 0.95\n",
    "r_F = 0.80"
   ]
  },
  {
   "cell_type": "markdown",
   "id": "01901b13",
   "metadata": {},
   "source": [
    "## Cálculo da Força de Protensão:"
   ]
  },
  {
   "cell_type": "code",
   "execution_count": 8,
   "id": "654ce266",
   "metadata": {},
   "outputs": [
    {
     "data": {
      "text/latex": [
       "\\[\n",
       "\\begin{aligned}\n",
       "e_{p} &= 35.62 \\; \n",
       "\\\\[10pt]\n",
       "P_{1} &= \\frac{ \\sigma_{cc0} + \\frac{ M_{0} }{ W_{i} } }{ r_{0} \\cdot \\left( \\frac{ 1 }{ A_{c} } + \\frac{ e_{p} }{ W_{i} } \\right) }  = \\frac{ 1.96 + \\frac{ 16394.64 }{ 72669.49 } }{ 0.95 \\cdot \\left( \\frac{ 1 }{ 4200 } + \\frac{ 35.62 }{ 72669.49 } \\right) } &= 3158.79  \n",
       "\\\\[10pt]\n",
       "P_{2} &= \\frac{ \\sigma_{ct0} - \\frac{ M_{0} }{ W_{s} } }{ r_{0} \\cdot \\left( \\frac{ 1 }{ A_{c} } - \\frac{ e_{p} }{ W_{s} } \\right) }  = \\frac{ -0.33 - \\frac{ 16394.64 }{ 74349.71 } }{ 0.95 \\cdot \\left( \\frac{ 1 }{ 4200 } - \\frac{ 35.62 }{ 74349.71 } \\right) } &= 2412.42  \n",
       "\\\\[10pt]\n",
       "P_{3} &= \\frac{ \\sigma_{ctF} + \\frac{ M_{F} }{ W_{i} } }{ r_{F} \\cdot \\left( \\frac{ 1 }{ A_{c} } + \\frac{ e_{p} }{ W_{i} } \\right) }  = \\frac{ -0.42 + \\frac{ 169010.16 }{ 72669.49 } }{ 0.80 \\cdot \\left( \\frac{ 1 }{ 4200 } + \\frac{ 35.62 }{ 72669.49 } \\right) } &= 3268.92  \n",
       "\\\\[10pt]\n",
       "P_{4} &= \\frac{ \\sigma_{ccF} - \\frac{ M_{F} }{ W_{s} } }{ r_{F} \\cdot \\left( \\frac{ 1 }{ A_{c} } - \\frac{ e_{p} }{ W_{s} } \\right) }  = \\frac{ 2.00 - \\frac{ 169010.16 }{ 74349.71 } }{ 0.80 \\cdot \\left( \\frac{ 1 }{ 4200 } - \\frac{ 35.62 }{ 74349.71 } \\right) } &= 1416.55  \n",
       "\\\\[10pt]\n",
       "& \\textrm{Adotar valores entre:}\\\\[10pt]\n",
       "P_{min} &= \\operatorname{max} { \\left( P_{3} ,\\  P_{4} \\right) }  = \\operatorname{max} { \\left( 3268.92 ,\\  1416.55 \\right) } &= 3268.92  \n",
       "\\\\[10pt]\n",
       "P_{max} &= \\operatorname{min} { \\left( P_{1} ,\\  P_{2} \\right) }  = \\operatorname{min} { \\left( 3158.79 ,\\  2412.42 \\right) } &= 2412.42  \n",
       "\\end{aligned}\n",
       "\\]"
      ],
      "text/plain": [
       "<IPython.core.display.Latex object>"
      ]
     },
     "metadata": {},
     "output_type": "display_data"
    }
   ],
   "source": [
    "%%render short 2\n",
    "\n",
    "e_p = 35.625\n",
    "\n",
    "P_1 = (sigma_cc0+M_0/W_i)/(r_0*(1/A_c + e_p/W_i)) \n",
    "P_2 = (sigma_ct0-M_0/W_s)/(r_0*(1/A_c - e_p/W_s)) \n",
    "P_3 = (sigma_ctF+M_F/W_i)/(r_F*(1/A_c + e_p/W_i))\n",
    "P_4 = (sigma_ccF-M_F/W_s)/(r_F*(1/A_c - e_p/W_s))\n",
    "\n",
    "##Adotar valores entre:\n",
    "P_min = max(P_3, P_4)\n",
    "P_max = min(P_1, P_2)\n"
   ]
  },
  {
   "cell_type": "markdown",
   "id": "f125dec8",
   "metadata": {},
   "source": [
    "## Escolha da Protensão:"
   ]
  },
  {
   "cell_type": "code",
   "execution_count": 9,
   "id": "1643d970",
   "metadata": {},
   "outputs": [
    {
     "data": {
      "text/latex": [
       "\\[\n",
       "\\begin{aligned}\n",
       "P &= 2412.42 \\; \n",
       "\\\\[10pt]\n",
       "\\phi_{1} &= 1.52 \\; \n",
       "\\\\[10pt]\n",
       "A_{p1} &= 1.43 \\; \n",
       "\\\\[10pt]\n",
       "& \\textrm{ Número de cordoalhas para adotar:}\\\\[10pt]\n",
       "n &= \\left \\lfloor \\frac{ P }{ A_{p1} \\cdot \\sigma_{p0} } \\right \\rfloor  = \\left \\lfloor \\frac{ 2412.42 }{ 1.43 \\cdot 152.00 } \\right \\rfloor &= 11  \n",
       "\\end{aligned}\n",
       "\\]"
      ],
      "text/plain": [
       "<IPython.core.display.Latex object>"
      ]
     },
     "metadata": {},
     "output_type": "display_data"
    }
   ],
   "source": [
    "%%render 2\n",
    "# Força de Protensão Adotada:\n",
    "\n",
    "P = P_max\n",
    "phi_1 = 1.52\n",
    "A_p1 = 1.43\n",
    "\n",
    "## Número de cordoalhas para adotar:\n",
    "n = floor(P/(A_p1*sigma_p0))"
   ]
  },
  {
   "cell_type": "markdown",
   "id": "08fc61b2",
   "metadata": {},
   "source": [
    "## Ancoragem das Cordoalhas:\n",
    "\n",
    "### Comprimento de Ancoragem Básico:"
   ]
  },
  {
   "cell_type": "code",
   "execution_count": 10,
   "id": "20d2c7ff",
   "metadata": {},
   "outputs": [
    {
     "data": {
      "text/latex": [
       "\\[\n",
       "\\begin{aligned}\n",
       "f_{pyd} &= 0.9 \\cdot \\frac{ f_{ptk} }{ 1.15 }  = 0.9 \\cdot \\frac{ 190 }{ 1.15 } &= 148.696  \n",
       "\\\\[10pt]\n",
       "\\eta_{p1} &= 1.200 \\; \n",
       "\\\\[10pt]\n",
       "\\eta_{p2} &= 1.000 \\; \n",
       "\\\\[10pt]\n",
       "f_{ctd} &= \\frac{ 0.7 \\cdot 0.03 \\cdot \\left( f_{cj} \\cdot 10 \\right) ^{ \\left( \\frac{ 2 }{ 3 } \\right) } }{ 1.4 }  = \\frac{ 0.7 \\cdot 0.03 \\cdot \\left( 2.800 \\cdot 10 \\right) ^{ \\left( \\frac{ 2 }{ 3 } \\right) } }{ 1.4 } &= 0.138  \n",
       "\\\\[10pt]\n",
       "f_{bpd} &= \\eta_{p1} \\cdot \\eta_{p2} \\cdot f_{ctd}  = 1.200 \\cdot 1.000 \\cdot 0.138 &= 0.166  \n",
       "\\\\[10pt]\n",
       "l_{bp} &= \\frac{ 7 \\cdot \\phi_{1} }{ 36 } \\cdot \\frac{ f_{pyd} }{ f_{bpd} }  = \\frac{ 7 \\cdot 1.520 }{ 36 } \\cdot \\frac{ 148.696 }{ 0.166 } &= 264.785  \n",
       "\\end{aligned}\n",
       "\\]"
      ],
      "text/plain": [
       "<IPython.core.display.Latex object>"
      ]
     },
     "metadata": {},
     "output_type": "display_data"
    }
   ],
   "source": [
    "%%render short\n",
    "f_pyd = 0.9* f_ptk / 1.15\n",
    "\n",
    "eta_p1 = 1.2\n",
    "\n",
    "# Valores de Eta_p1:\n",
    "#     \n",
    "#     1.0 para fios lisos\n",
    "#     1.2 para cordoalhas de 3 e 7 fios\n",
    "#     1.5 para fios dentados\n",
    "\n",
    "eta_p2 = 1.0\n",
    "\n",
    "# Valores de Eta_p2:\n",
    "#     \n",
    "#     1.0 para situação de boa aderência\n",
    "#     0.7 para situação de má aderência\n",
    "\n",
    "f_ctd = (0.7*0.03*(f_cj*10)**(2/3))/1.4\n",
    "f_bpd = eta_p1 * eta_p2 * f_ctd\n",
    "\n",
    "l_bp = (7*phi_1)/36 * f_pyd/f_bpd"
   ]
  },
  {
   "cell_type": "markdown",
   "id": "a58b5804",
   "metadata": {},
   "source": [
    "### Cálculo do comprimento de Transferência:"
   ]
  },
  {
   "cell_type": "code",
   "execution_count": 11,
   "id": "d61ba68b",
   "metadata": {},
   "outputs": [
    {
     "data": {
      "text/latex": [
       "\\[\n",
       "\\begin{aligned}\n",
       "& \\textrm{ para fios lisos ou dentados:}\\\\[10pt]\n",
       "l_{bpt1} &= 0.7 \\cdot l_{bp} \\cdot \\frac{ \\sigma_{p0} }{ f_{pyd} }  = 0.7 \\cdot 264.785 \\cdot \\frac{ 152.000 }{ 148.696 } &= 189.468  \n",
       "\\\\[10pt]\n",
       "& \\textrm{ para cordoalhas de 3 e 7 fios:}\\\\[10pt]\n",
       "l_{bpt2} &= 0.5 \\cdot l_{bp} \\cdot \\frac{ \\sigma_{p0} }{ f_{pyd} }  = 0.5 \\cdot 264.785 \\cdot \\frac{ 152.000 }{ 148.696 } &= 135.334  \n",
       "\\\\[10pt]\n",
       "& \\textrm{ para transferência não gradual, os valores devem ser multiplicados por 1.25}\\\\[10pt]\n",
       "& \\textrm{ valor adotado:}\\\\[10pt]\n",
       "l_{bpt} &= 1.0 \\cdot l_{bpt2}  = 1.0 \\cdot 135.334 &= 135.334  \n",
       "\\\\[10pt]\n",
       "l_{p} &= \\left( \\left( h \\right) ^{ 2 } + \\left( 0.6 \\cdot l_{bpt} \\right) ^{ 2 } \\right) ^{ 0.5 }  = \\left( \\left( 105 \\right) ^{ 2 } + \\left( 0.6 \\cdot 135.334 \\right) ^{ 2 } \\right) ^{ 0.5 } &= 132.735  \n",
       "\\end{aligned}\n",
       "\\]"
      ],
      "text/plain": [
       "<IPython.core.display.Latex object>"
      ]
     },
     "metadata": {},
     "output_type": "display_data"
    }
   ],
   "source": [
    "%%render short\n",
    "\n",
    "## para fios lisos ou dentados:\n",
    "l_bpt1 = 0.7 * l_bp * sigma_p0/f_pyd\n",
    "\n",
    "## para cordoalhas de 3 e 7 fios:\n",
    "l_bpt2 = 0.5 * l_bp * sigma_p0/f_pyd\n",
    "\n",
    "## para transferência não gradual, os valores devem ser multiplicados por 1.25\n",
    "## valor adotado:\n",
    "\n",
    "l_bpt = 1.0 * l_bpt2\n",
    "\n",
    "l_p = (h**2 + (0.6*l_bpt)**2)**(0.5)\n"
   ]
  },
  {
   "cell_type": "markdown",
   "id": "9db35554",
   "metadata": {},
   "source": [
    "#  Esforços nas Seções:\n",
    "\n",
    "## Momento Fletor e Cortante:"
   ]
  },
  {
   "cell_type": "code",
   "execution_count": 12,
   "id": "e1ba7ee0-19b3-4324-901d-c3ff8ed461ea",
   "metadata": {
    "scrolled": true
   },
   "outputs": [
    {
     "name": "stdout",
     "output_type": "stream",
     "text": [
      "ESFORÇOS NO TEMPO FINAL:\n"
     ]
    },
    {
     "data": {
      "text/html": [
       "<div>\n",
       "<style scoped>\n",
       "    .dataframe tbody tr th:only-of-type {\n",
       "        vertical-align: middle;\n",
       "    }\n",
       "\n",
       "    .dataframe tbody tr th {\n",
       "        vertical-align: top;\n",
       "    }\n",
       "\n",
       "    .dataframe thead th {\n",
       "        text-align: right;\n",
       "    }\n",
       "</style>\n",
       "<table border=\"1\" class=\"dataframe\">\n",
       "  <thead>\n",
       "    <tr style=\"text-align: right;\">\n",
       "      <th></th>\n",
       "      <th>Pos (cm)</th>\n",
       "      <th>M (kNcm)</th>\n",
       "      <th>V (kN)</th>\n",
       "    </tr>\n",
       "  </thead>\n",
       "  <tbody>\n",
       "    <tr>\n",
       "      <th>0</th>\n",
       "      <td>0.0</td>\n",
       "      <td>0.0</td>\n",
       "      <td>628.9</td>\n",
       "    </tr>\n",
       "    <tr>\n",
       "      <th>1</th>\n",
       "      <td>53.8</td>\n",
       "      <td>32140.2</td>\n",
       "      <td>565.9</td>\n",
       "    </tr>\n",
       "    <tr>\n",
       "      <th>2</th>\n",
       "      <td>107.5</td>\n",
       "      <td>60843.7</td>\n",
       "      <td>503.1</td>\n",
       "    </tr>\n",
       "    <tr>\n",
       "      <th>3</th>\n",
       "      <td>161.2</td>\n",
       "      <td>86173.2</td>\n",
       "      <td>440.3</td>\n",
       "    </tr>\n",
       "    <tr>\n",
       "      <th>4</th>\n",
       "      <td>215.0</td>\n",
       "      <td>108166.5</td>\n",
       "      <td>377.3</td>\n",
       "    </tr>\n",
       "    <tr>\n",
       "      <th>5</th>\n",
       "      <td>268.8</td>\n",
       "      <td>126773.3</td>\n",
       "      <td>314.4</td>\n",
       "    </tr>\n",
       "    <tr>\n",
       "      <th>6</th>\n",
       "      <td>322.5</td>\n",
       "      <td>141968.5</td>\n",
       "      <td>251.6</td>\n",
       "    </tr>\n",
       "    <tr>\n",
       "      <th>7</th>\n",
       "      <td>376.2</td>\n",
       "      <td>153789.8</td>\n",
       "      <td>188.7</td>\n",
       "    </tr>\n",
       "    <tr>\n",
       "      <th>8</th>\n",
       "      <td>430.0</td>\n",
       "      <td>162249.8</td>\n",
       "      <td>125.8</td>\n",
       "    </tr>\n",
       "    <tr>\n",
       "      <th>9</th>\n",
       "      <td>483.8</td>\n",
       "      <td>167323.2</td>\n",
       "      <td>62.8</td>\n",
       "    </tr>\n",
       "    <tr>\n",
       "      <th>10</th>\n",
       "      <td>537.5</td>\n",
       "      <td>169010.2</td>\n",
       "      <td>0.0</td>\n",
       "    </tr>\n",
       "    <tr>\n",
       "      <th>11</th>\n",
       "      <td>591.2</td>\n",
       "      <td>167323.2</td>\n",
       "      <td>-62.8</td>\n",
       "    </tr>\n",
       "    <tr>\n",
       "      <th>12</th>\n",
       "      <td>645.0</td>\n",
       "      <td>162249.8</td>\n",
       "      <td>-125.8</td>\n",
       "    </tr>\n",
       "    <tr>\n",
       "      <th>13</th>\n",
       "      <td>698.8</td>\n",
       "      <td>153789.8</td>\n",
       "      <td>-188.7</td>\n",
       "    </tr>\n",
       "    <tr>\n",
       "      <th>14</th>\n",
       "      <td>752.5</td>\n",
       "      <td>141968.5</td>\n",
       "      <td>-251.6</td>\n",
       "    </tr>\n",
       "    <tr>\n",
       "      <th>15</th>\n",
       "      <td>806.2</td>\n",
       "      <td>126773.3</td>\n",
       "      <td>-314.4</td>\n",
       "    </tr>\n",
       "    <tr>\n",
       "      <th>16</th>\n",
       "      <td>860.0</td>\n",
       "      <td>108166.5</td>\n",
       "      <td>-377.3</td>\n",
       "    </tr>\n",
       "    <tr>\n",
       "      <th>17</th>\n",
       "      <td>913.8</td>\n",
       "      <td>86173.2</td>\n",
       "      <td>-440.3</td>\n",
       "    </tr>\n",
       "    <tr>\n",
       "      <th>18</th>\n",
       "      <td>967.5</td>\n",
       "      <td>60843.7</td>\n",
       "      <td>-503.1</td>\n",
       "    </tr>\n",
       "    <tr>\n",
       "      <th>19</th>\n",
       "      <td>1021.2</td>\n",
       "      <td>32140.2</td>\n",
       "      <td>-565.9</td>\n",
       "    </tr>\n",
       "    <tr>\n",
       "      <th>20</th>\n",
       "      <td>1075.0</td>\n",
       "      <td>0.0</td>\n",
       "      <td>-628.9</td>\n",
       "    </tr>\n",
       "  </tbody>\n",
       "</table>\n",
       "</div>"
      ],
      "text/plain": [
       "    Pos (cm)  M (kNcm)  V (kN)\n",
       "0        0.0       0.0   628.9\n",
       "1       53.8   32140.2   565.9\n",
       "2      107.5   60843.7   503.1\n",
       "3      161.2   86173.2   440.3\n",
       "4      215.0  108166.5   377.3\n",
       "5      268.8  126773.3   314.4\n",
       "6      322.5  141968.5   251.6\n",
       "7      376.2  153789.8   188.7\n",
       "8      430.0  162249.8   125.8\n",
       "9      483.8  167323.2    62.8\n",
       "10     537.5  169010.2     0.0\n",
       "11     591.2  167323.2   -62.8\n",
       "12     645.0  162249.8  -125.8\n",
       "13     698.8  153789.8  -188.7\n",
       "14     752.5  141968.5  -251.6\n",
       "15     806.2  126773.3  -314.4\n",
       "16     860.0  108166.5  -377.3\n",
       "17     913.8   86173.2  -440.3\n",
       "18     967.5   60843.7  -503.1\n",
       "19    1021.2   32140.2  -565.9\n",
       "20    1075.0       0.0  -628.9"
      ]
     },
     "metadata": {},
     "output_type": "display_data"
    }
   ],
   "source": [
    "esforcos = np.zeros((nS,3))\n",
    "esforcos_t0 = np.zeros((nS,3))\n",
    "\n",
    "# primeiro vetor contem X (cm)\n",
    "# segundo vetor contem Momentos (kNcm)\n",
    "# terceiro vetor contém cortante (kN)\n",
    "\n",
    "for i in range(nS):\n",
    "    esforcos[i,0] = round(i*(Vao/(nS-1)),1)\n",
    "    \n",
    "esforcos[:,1] = ( 0.5*Q_tF*esforcos[:,0]*(Vao-esforcos[:,0]))\n",
    "esforcos[:,2] = ( 0.5*Q_tF*(Vao-2*esforcos[:,0]))\n",
    "esforcos_t0[:,0] = esforcos[:,0]\n",
    "esforcos_t0[:,1] = 0.5*Q_t0*esforcos[:,0]*(Vao-esforcos[:,0])\n",
    "esforcos_t0[:,2] = 0.5*Q_t0*(Vao-2*esforcos[:,0])\n",
    "\n",
    "esforcos=np.round(esforcos,decimals=1)\n",
    "esforcos_t0 = np.round(esforcos_t0,decimals=1)\n",
    "    \n",
    "print(\"ESFORÇOS NO TEMPO FINAL:\")\n",
    "tabela = pd.DataFrame(esforcos)\n",
    "tabela.rename(columns={0:'Pos (cm)', 1:'M (kNcm)', 2:'V (kN)'},inplace = True)\n",
    "display(tabela)"
   ]
  },
  {
   "cell_type": "code",
   "execution_count": 13,
   "id": "a42e57eb",
   "metadata": {},
   "outputs": [
    {
     "name": "stdout",
     "output_type": "stream",
     "text": [
      "ESFORÇOS NO TEMPO INICIAL:\n"
     ]
    },
    {
     "data": {
      "text/html": [
       "<div>\n",
       "<style scoped>\n",
       "    .dataframe tbody tr th:only-of-type {\n",
       "        vertical-align: middle;\n",
       "    }\n",
       "\n",
       "    .dataframe tbody tr th {\n",
       "        vertical-align: top;\n",
       "    }\n",
       "\n",
       "    .dataframe thead th {\n",
       "        text-align: right;\n",
       "    }\n",
       "</style>\n",
       "<table border=\"1\" class=\"dataframe\">\n",
       "  <thead>\n",
       "    <tr style=\"text-align: right;\">\n",
       "      <th></th>\n",
       "      <th>Pos (cm)</th>\n",
       "      <th>M (kNcm)</th>\n",
       "      <th>V (kN)</th>\n",
       "    </tr>\n",
       "  </thead>\n",
       "  <tbody>\n",
       "    <tr>\n",
       "      <th>0</th>\n",
       "      <td>0.0</td>\n",
       "      <td>0.0</td>\n",
       "      <td>61.0</td>\n",
       "    </tr>\n",
       "    <tr>\n",
       "      <th>1</th>\n",
       "      <td>53.8</td>\n",
       "      <td>3117.7</td>\n",
       "      <td>54.9</td>\n",
       "    </tr>\n",
       "    <tr>\n",
       "      <th>2</th>\n",
       "      <td>107.5</td>\n",
       "      <td>5902.1</td>\n",
       "      <td>48.8</td>\n",
       "    </tr>\n",
       "    <tr>\n",
       "      <th>3</th>\n",
       "      <td>161.2</td>\n",
       "      <td>8359.1</td>\n",
       "      <td>42.7</td>\n",
       "    </tr>\n",
       "    <tr>\n",
       "      <th>4</th>\n",
       "      <td>215.0</td>\n",
       "      <td>10492.6</td>\n",
       "      <td>36.6</td>\n",
       "    </tr>\n",
       "    <tr>\n",
       "      <th>5</th>\n",
       "      <td>268.8</td>\n",
       "      <td>12297.5</td>\n",
       "      <td>30.5</td>\n",
       "    </tr>\n",
       "    <tr>\n",
       "      <th>6</th>\n",
       "      <td>322.5</td>\n",
       "      <td>13771.5</td>\n",
       "      <td>24.4</td>\n",
       "    </tr>\n",
       "    <tr>\n",
       "      <th>7</th>\n",
       "      <td>376.2</td>\n",
       "      <td>14918.2</td>\n",
       "      <td>18.3</td>\n",
       "    </tr>\n",
       "    <tr>\n",
       "      <th>8</th>\n",
       "      <td>430.0</td>\n",
       "      <td>15738.8</td>\n",
       "      <td>12.2</td>\n",
       "    </tr>\n",
       "    <tr>\n",
       "      <th>9</th>\n",
       "      <td>483.8</td>\n",
       "      <td>16231.0</td>\n",
       "      <td>6.1</td>\n",
       "    </tr>\n",
       "    <tr>\n",
       "      <th>10</th>\n",
       "      <td>537.5</td>\n",
       "      <td>16394.6</td>\n",
       "      <td>0.0</td>\n",
       "    </tr>\n",
       "    <tr>\n",
       "      <th>11</th>\n",
       "      <td>591.2</td>\n",
       "      <td>16231.0</td>\n",
       "      <td>-6.1</td>\n",
       "    </tr>\n",
       "    <tr>\n",
       "      <th>12</th>\n",
       "      <td>645.0</td>\n",
       "      <td>15738.8</td>\n",
       "      <td>-12.2</td>\n",
       "    </tr>\n",
       "    <tr>\n",
       "      <th>13</th>\n",
       "      <td>698.8</td>\n",
       "      <td>14918.2</td>\n",
       "      <td>-18.3</td>\n",
       "    </tr>\n",
       "    <tr>\n",
       "      <th>14</th>\n",
       "      <td>752.5</td>\n",
       "      <td>13771.5</td>\n",
       "      <td>-24.4</td>\n",
       "    </tr>\n",
       "    <tr>\n",
       "      <th>15</th>\n",
       "      <td>806.2</td>\n",
       "      <td>12297.5</td>\n",
       "      <td>-30.5</td>\n",
       "    </tr>\n",
       "    <tr>\n",
       "      <th>16</th>\n",
       "      <td>860.0</td>\n",
       "      <td>10492.6</td>\n",
       "      <td>-36.6</td>\n",
       "    </tr>\n",
       "    <tr>\n",
       "      <th>17</th>\n",
       "      <td>913.8</td>\n",
       "      <td>8359.1</td>\n",
       "      <td>-42.7</td>\n",
       "    </tr>\n",
       "    <tr>\n",
       "      <th>18</th>\n",
       "      <td>967.5</td>\n",
       "      <td>5902.1</td>\n",
       "      <td>-48.8</td>\n",
       "    </tr>\n",
       "    <tr>\n",
       "      <th>19</th>\n",
       "      <td>1021.2</td>\n",
       "      <td>3117.7</td>\n",
       "      <td>-54.9</td>\n",
       "    </tr>\n",
       "    <tr>\n",
       "      <th>20</th>\n",
       "      <td>1075.0</td>\n",
       "      <td>0.0</td>\n",
       "      <td>-61.0</td>\n",
       "    </tr>\n",
       "  </tbody>\n",
       "</table>\n",
       "</div>"
      ],
      "text/plain": [
       "    Pos (cm)  M (kNcm)  V (kN)\n",
       "0        0.0       0.0    61.0\n",
       "1       53.8    3117.7    54.9\n",
       "2      107.5    5902.1    48.8\n",
       "3      161.2    8359.1    42.7\n",
       "4      215.0   10492.6    36.6\n",
       "5      268.8   12297.5    30.5\n",
       "6      322.5   13771.5    24.4\n",
       "7      376.2   14918.2    18.3\n",
       "8      430.0   15738.8    12.2\n",
       "9      483.8   16231.0     6.1\n",
       "10     537.5   16394.6     0.0\n",
       "11     591.2   16231.0    -6.1\n",
       "12     645.0   15738.8   -12.2\n",
       "13     698.8   14918.2   -18.3\n",
       "14     752.5   13771.5   -24.4\n",
       "15     806.2   12297.5   -30.5\n",
       "16     860.0   10492.6   -36.6\n",
       "17     913.8    8359.1   -42.7\n",
       "18     967.5    5902.1   -48.8\n",
       "19    1021.2    3117.7   -54.9\n",
       "20    1075.0       0.0   -61.0"
      ]
     },
     "metadata": {},
     "output_type": "display_data"
    }
   ],
   "source": [
    "print(\"ESFORÇOS NO TEMPO INICIAL:\")\n",
    "tabela2 = pd.DataFrame(esforcos_t0)\n",
    "tabela2.rename(columns={0:'Pos (cm)', 1:'M (kNcm)', 2:'V (kN)'},inplace = True)\n",
    "display(tabela2)"
   ]
  },
  {
   "cell_type": "markdown",
   "id": "72990506",
   "metadata": {},
   "source": [
    "# Escalonamento da Protensão:\n",
    "\n",
    "## Limites de Tensão na Seção S1:\n",
    "\n",
    "São testados os limites de tensão para t0:\n",
    "\n",
    "Limitação pela borda superior:"
   ]
  },
  {
   "cell_type": "code",
   "execution_count": 14,
   "id": "12477f6f",
   "metadata": {},
   "outputs": [
    {
     "data": {
      "text/latex": [
       "\\[\n",
       "\\begin{aligned}\n",
       "M_{s1} &= 3117.700 \\; \\;\\textrm{(Momento de peso próprio na seção s1)}\n",
       "\\\\[10pt]\n",
       "P_{1} &= \\frac{ \\sigma_{cc0} + \\frac{ M_{s1} }{ W_{i} } }{ r_{0} \\cdot \\left( \\frac{ 1 }{ A_{c} } + \\frac{ e_{p} }{ W_{i} } \\right) }  = \\frac{ 1.960 + \\frac{ 3117.700 }{ 72669.492 } }{ 0.950 \\cdot \\left( \\frac{ 1 }{ 4200 } + \\frac{ 35.625 }{ 72669.492 } \\right) } &= 2894.736  \n",
       "\\\\[10pt]\n",
       "P_{2} &= \\frac{ \\sigma_{ct0} - \\frac{ M_{s1} }{ W_{s} } }{ r_{0} \\cdot \\left( \\frac{ 1 }{ A_{c} } - \\frac{ e_{p} }{ W_{s} } \\right) }  = \\frac{ -0.332 - \\frac{ 3117.700 }{ 74349.711 } }{ 0.950 \\cdot \\left( \\frac{ 1 }{ 4200 } - \\frac{ 35.625 }{ 74349.711 } \\right) } &= 1632.638  \n",
       "\\end{aligned}\n",
       "\\]"
      ],
      "text/plain": [
       "<IPython.core.display.Latex object>"
      ]
     },
     "metadata": {},
     "output_type": "display_data"
    }
   ],
   "source": [
    "%%render short\n",
    "\n",
    "M_s1 = round(esforcos_t0[1,1],1) # Momento de peso próprio na seção s1\n",
    "P_1 = (sigma_cc0+M_s1/W_i)/(r_0*(1/A_c + e_p/W_i))\n",
    "P_2 = (sigma_ct0-M_s1/W_s)/(r_0*(1/A_c - e_p/W_s))\n"
   ]
  },
  {
   "cell_type": "code",
   "execution_count": 15,
   "id": "f0d85e33",
   "metadata": {},
   "outputs": [
    {
     "data": {
      "text/latex": [
       "\\[\n",
       "\\begin{aligned}\n",
       "P_{s1} &= \\operatorname{min} { \\left( P_{1} ,\\  P_{2} \\right) }  = \\operatorname{min} { \\left( 2894.7 ,\\  1632.6 \\right) } &= 1632.6  \n",
       "\\\\[10pt]\n",
       "n_{s1} &= \\left \\lfloor \\frac{ P_{s1} }{ A_{p1} \\cdot \\sigma_{p0} } \\right \\rfloor  = \\left \\lfloor \\frac{ 1632.6 }{ 1.4 \\cdot 152.0 } \\right \\rfloor &= 7  \n",
       "\\end{aligned}\n",
       "\\]"
      ],
      "text/plain": [
       "<IPython.core.display.Latex object>"
      ]
     },
     "metadata": {},
     "output_type": "display_data"
    }
   ],
   "source": [
    "%%render 1\n",
    "\n",
    "P_s1 = min(P_1 , P_2)\n",
    "\n",
    "n_s1 = floor(P_s1/(A_p1*sigma_p0))\n"
   ]
  },
  {
   "cell_type": "markdown",
   "id": "fc122191",
   "metadata": {},
   "source": [
    "## Escolha do Número de Cordoalhas:"
   ]
  },
  {
   "cell_type": "code",
   "execution_count": 16,
   "id": "e9c685e3",
   "metadata": {},
   "outputs": [
    {
     "name": "stdout",
     "output_type": "stream",
     "text": [
      "Quantidade de Coordoalhas:  [ 7 10]\n",
      "Excentricidade da Protensão:  [37.5 35. ]\n"
     ]
    }
   ],
   "source": [
    "# Vetor com o número de cordoalhas em cada ponto de escalonamento:\n",
    "\n",
    "qntCordoalhas = np.array([7,10])\n",
    "\n",
    "# Vetor com a excentricidade da protensão em cada ponto de escalonamento:\n",
    "\n",
    "e_p_i = np.array([37.5,35])\n",
    "\n",
    "print(\"Quantidade de Coordoalhas: \",qntCordoalhas)\n",
    "print(\"Excentricidade da Protensão: \",e_p_i)"
   ]
  },
  {
   "cell_type": "markdown",
   "id": "7b042987",
   "metadata": {},
   "source": [
    "# Esforços Devidos À Protensão:"
   ]
  },
  {
   "cell_type": "code",
   "execution_count": 17,
   "id": "eee87624",
   "metadata": {
    "scrolled": true
   },
   "outputs": [
    {
     "data": {
      "text/html": [
       "<div>\n",
       "<style scoped>\n",
       "    .dataframe tbody tr th:only-of-type {\n",
       "        vertical-align: middle;\n",
       "    }\n",
       "\n",
       "    .dataframe tbody tr th {\n",
       "        vertical-align: top;\n",
       "    }\n",
       "\n",
       "    .dataframe thead th {\n",
       "        text-align: right;\n",
       "    }\n",
       "</style>\n",
       "<table border=\"1\" class=\"dataframe\">\n",
       "  <thead>\n",
       "    <tr style=\"text-align: right;\">\n",
       "      <th></th>\n",
       "      <th>Ap</th>\n",
       "      <th>Wcp</th>\n",
       "      <th>Kp0</th>\n",
       "      <th>Sigma,p</th>\n",
       "      <th>Np</th>\n",
       "      <th>Mp</th>\n",
       "    </tr>\n",
       "  </thead>\n",
       "  <tbody>\n",
       "    <tr>\n",
       "      <th>0</th>\n",
       "      <td>10.01</td>\n",
       "      <td>102900.0</td>\n",
       "      <td>0.0468</td>\n",
       "      <td>145.20</td>\n",
       "      <td>-1453.452</td>\n",
       "      <td>-54504.45</td>\n",
       "    </tr>\n",
       "    <tr>\n",
       "      <th>1</th>\n",
       "      <td>14.30</td>\n",
       "      <td>110250.0</td>\n",
       "      <td>0.0616</td>\n",
       "      <td>143.18</td>\n",
       "      <td>-2047.474</td>\n",
       "      <td>-71661.59</td>\n",
       "    </tr>\n",
       "  </tbody>\n",
       "</table>\n",
       "</div>"
      ],
      "text/plain": [
       "      Ap       Wcp     Kp0  Sigma,p        Np        Mp\n",
       "0  10.01  102900.0  0.0468   145.20 -1453.452 -54504.45\n",
       "1  14.30  110250.0  0.0616   143.18 -2047.474 -71661.59"
      ]
     },
     "metadata": {},
     "output_type": "display_data"
    }
   ],
   "source": [
    "A_p = qntCordoalhas*A_p1\n",
    "W_cp = np.round(I_c/e_p_i ,decimals = 2)\n",
    "alpha_p0 = E_p / E_cst0\n",
    "K_p0 = np.round( alpha_p0*A_p*(1/A_c+e_p_i/W_cp) ,decimals=4)\n",
    "sigma_p = np.round(sigma_p0/(1+K_p0),decimals=2)\n",
    "N_p = -sigma_p*A_p\n",
    "M_p = N_p*e_p_i\n",
    "\n",
    "tabela1=pd.DataFrame([A_p, W_cp, K_p0, sigma_p, N_p, M_p])\n",
    "tabela1=tabela1.transpose()\n",
    "tabela1.rename(columns={0:'Ap',1:'Wcp',2:'Kp0',3:'Sigma,p',4:'Np',5:'Mp'},inplace = True)\n",
    "display(tabela1)"
   ]
  },
  {
   "cell_type": "markdown",
   "id": "3b3910c3",
   "metadata": {},
   "source": [
    "# Escalonamento da Força de Protensão:"
   ]
  },
  {
   "cell_type": "code",
   "execution_count": 18,
   "id": "d5045b3f",
   "metadata": {},
   "outputs": [
    {
     "data": {
      "text/html": [
       "<div>\n",
       "<style scoped>\n",
       "    .dataframe tbody tr th:only-of-type {\n",
       "        vertical-align: middle;\n",
       "    }\n",
       "\n",
       "    .dataframe tbody tr th {\n",
       "        vertical-align: top;\n",
       "    }\n",
       "\n",
       "    .dataframe thead th {\n",
       "        text-align: right;\n",
       "    }\n",
       "</style>\n",
       "<table border=\"1\" class=\"dataframe\">\n",
       "  <thead>\n",
       "    <tr style=\"text-align: right;\">\n",
       "      <th></th>\n",
       "      <th>Mg</th>\n",
       "      <th>x1</th>\n",
       "      <th>x2</th>\n",
       "      <th>x1-lbpt</th>\n",
       "      <th>x2+lbpt</th>\n",
       "    </tr>\n",
       "  </thead>\n",
       "  <tbody>\n",
       "    <tr>\n",
       "      <th>0</th>\n",
       "      <td>4094.5</td>\n",
       "      <td>71.93</td>\n",
       "      <td>1003.07</td>\n",
       "      <td>0.00</td>\n",
       "      <td>1075.00</td>\n",
       "    </tr>\n",
       "    <tr>\n",
       "      <th>1</th>\n",
       "      <td>10736.1</td>\n",
       "      <td>221.72</td>\n",
       "      <td>853.28</td>\n",
       "      <td>86.39</td>\n",
       "      <td>988.61</td>\n",
       "    </tr>\n",
       "  </tbody>\n",
       "</table>\n",
       "</div>"
      ],
      "text/plain": [
       "        Mg      x1       x2  x1-lbpt  x2+lbpt\n",
       "0   4094.5   71.93  1003.07     0.00  1075.00\n",
       "1  10736.1  221.72   853.28    86.39   988.61"
      ]
     },
     "metadata": {},
     "output_type": "display_data"
    }
   ],
   "source": [
    "M_g = np.round(W_s*( (N_p/A_c) -(M_p/W_s) + sigma_ct0),decimals=1)\n",
    "\n",
    "try:\n",
    "    c = 2*M_g/Q_t0\n",
    "    delta = (-Vao)**2 - 4*c\n",
    "    x1 = np.round( (Vao-delta**0.5)/2 , decimals = 2)\n",
    "    x2 = np.round( (Vao+delta**0.5)/2 , decimals = 2)\n",
    "except:\n",
    "    print(\"##   ATENÇÃO!   ##\")\n",
    "    raise Exception(\"ERRO: ESCALONAR MELHOR A PROTENSÃO!\")\n",
    "        \n",
    "x1_anc = np.round( x1 - l_bpt , decimals = 2 )\n",
    "x2_anc = np.round( x2 + l_bpt , decimals = 2 )\n",
    "\n",
    "for i in range(len(x1_anc)):\n",
    "    if x1_anc[i] < 0:\n",
    "        x1_anc[i] = 0\n",
    "    if x2_anc[i] > Vao:\n",
    "        x2_anc[i] = Vao\n",
    "        \n",
    "tabela2 = pd.DataFrame([M_g, x1,x2, x1_anc,x2_anc])\n",
    "tabela2 = tabela2.transpose()\n",
    "tabela2.rename(columns={0:'Mg',1:'x1',2:'x2',3:'x1-lbpt',4:'x2+lbpt'},inplace = True)\n",
    "display(tabela2)"
   ]
  },
  {
   "cell_type": "markdown",
   "id": "7e1e952a",
   "metadata": {},
   "source": [
    "# Perdas Progressivas da Força de Protensão:\n",
    "\n",
    "## Fluência do Concreto:\n",
    "\n",
    "### Fluência Rápida Irreversível"
   ]
  },
  {
   "cell_type": "code",
   "execution_count": 19,
   "id": "c3dbfb93",
   "metadata": {},
   "outputs": [
    {
     "data": {
      "text/latex": [
       "\\[\n",
       "\\begin{aligned}\n",
       "s &= 0.200 \\; \n",
       " &t_{0} &= 10 \\; \n",
       " &t_{F} &= 18250 \\; \n",
       "\\\\[10pt]\n",
       " \\beta_{0} &= 0.874 \\; \n",
       " &\\beta_{F} &= 1.212 \\; \n",
       " &\\phi_{a} &= 0.223 \\; \n",
       "\\\\[10pt]\n",
       "\\end{aligned}\n",
       "\\]"
      ],
      "text/plain": [
       "<IPython.core.display.Latex object>"
      ]
     },
     "metadata": {},
     "output_type": "display_data"
    }
   ],
   "source": [
    "%%render params\n",
    "\n",
    "# VER ITEM 12.3.3 da NBR6118:2014\n",
    "# Valores para adotar:\n",
    "# s = 0.38 para concreto de cimento CP-III e CP-IV\n",
    "# s = 0.25 para concreto de cimento CP-I e CP-II\n",
    "# s = 0.20 para concreto de cimento CP-V\n",
    "s = 0.20\n",
    "t_0 = 10\n",
    "t_F = 18250\n",
    "\n",
    "\n",
    "beta_0 = exp(s*(1-(28/t_0)**0.5))\n",
    "beta_F = exp(s*(1-(28/t_F)**0.5))\n",
    "\n",
    "phi_a = 0.8*(1 - (beta_0/beta_F))"
   ]
  },
  {
   "cell_type": "code",
   "execution_count": 20,
   "id": "a17c5a32",
   "metadata": {},
   "outputs": [
    {
     "name": "stdout",
     "output_type": "stream",
     "text": [
      "Adotado s = 0.20 para concreto de cimento CP-V (ARI) \n"
     ]
    }
   ],
   "source": [
    "if s == 0.38:\n",
    "    print(\"Adotado s = 0.38 para concreto de cimento CP-III ou CP-IV\")\n",
    "elif s == 0.25:\n",
    "    print(\"Adotado s = 0.25 para concreto de cimento CP-I ou CP-II\")\n",
    "else:\n",
    "    print(\"Adotado s = 0.20 para concreto de cimento CP-V (ARI) \")"
   ]
  },
  {
   "cell_type": "markdown",
   "id": "ec305c4e",
   "metadata": {},
   "source": [
    "### Fluência Lenta Irreversível:"
   ]
  },
  {
   "cell_type": "code",
   "execution_count": 21,
   "id": "bb095c40",
   "metadata": {
    "scrolled": true
   },
   "outputs": [
    {
     "data": {
      "text/latex": [
       "\\[\n",
       "\\begin{aligned}\n",
       "U &= 55 \\; \\;\\textrm{(umidade média do ar)}\n",
       " &\\phi_{c1} &= 2.52 \\; \\;\\textrm{(para abatimentos entre 5cm e 9cm)}\n",
       " &\\gamma &= 1.10 \\; \n",
       "\\\\[10pt]\n",
       " u_{ar} &= 290 \\; \n",
       " &h_{fic} &= 31.87 \\; \n",
       " &\\phi_{c2} &= 1.42 \\; \n",
       "\\\\[10pt]\n",
       " \\phi_{fF} &= 3.60 \\; \n",
       " &h_{fm} &= 0.32 \\; \\;\\textrm{(espessura fictícia em metros)}\n",
       " &A_{\\beta_{f}} &= 266.20 \\; \n",
       "\\\\[10pt]\n",
       " B_{\\beta_{f}} &= 721.73 \\; \n",
       " &C_{\\beta_{f}} &= 525.22 \\; \n",
       " &D_{\\beta_{f}} &= 10198.38 \\; \n",
       "\\\\[10pt]\n",
       " \\beta_{f_{t0}} &= 0.22 \\; \n",
       " &\\beta_{f_{tF}} &= 0.99 \\;\n",
       "\\end{aligned}\n",
       "\\]"
      ],
      "text/plain": [
       "<IPython.core.display.Latex object>"
      ]
     },
     "metadata": {},
     "output_type": "display_data"
    }
   ],
   "source": [
    "%%render params 2\n",
    "\n",
    "U = 55 #umidade média do ar\n",
    "\n",
    "phi_c1 = 4.45 - 0.035*U # para abatimentos entre 5cm e 9cm\n",
    "\n",
    "gamma = 1 + exp(-7.8 + 0.1 * U)\n",
    "\n",
    "u_ar = ( 2*h + 2*b )\n",
    "\n",
    "h_fic = gamma*(2*A_c)/u_ar\n",
    "\n",
    "phi_c2 = (42+h_fic)/(20+h_fic)\n",
    "\n",
    "phi_fF = phi_c1*phi_c2\n",
    "\n",
    "h_fm = h_fic/100 # espessura fictícia em metros\n",
    "\n",
    "A_beta_f = 42*h_fm**3 - 350*h_fm**2 + 588*h_fm + 113\n",
    "B_beta_f = 768*h_fm**3 - 3060*h_fm**2 + 3234*h_fm - 23\n",
    "C_beta_f = -200*h_fm**3 + 13*h_fm**2 + 1090*h_fm + 183\n",
    "D_beta_f = 7579*h_fm**3 - 31916*h_fm**2 + 35343*h_fm + 1931\n",
    "\n",
    "beta_f_t0 = (t_0**2 + A_beta_f*t_0 + B_beta_f )/(t_0**2 + C_beta_f*t_0 + D_beta_f)\n",
    "beta_f_tF = (t_F**2 + A_beta_f*t_F + B_beta_f )/(t_F**2 + C_beta_f*t_F + D_beta_f) "
   ]
  },
  {
   "cell_type": "markdown",
   "id": "bd808c0d",
   "metadata": {},
   "source": [
    "### Fluência Lenta Reversível:"
   ]
  },
  {
   "cell_type": "code",
   "execution_count": 22,
   "id": "9a489151",
   "metadata": {},
   "outputs": [
    {
     "data": {
      "text/latex": [
       "\\[\n",
       "\\begin{aligned}\n",
       "\\phi_{dF} &= 0.400 \\; \n",
       " &\\beta_{d} &= 0.997 \\;\n",
       "\\end{aligned}\n",
       "\\]"
      ],
      "text/plain": [
       "<IPython.core.display.Latex object>"
      ]
     },
     "metadata": {},
     "output_type": "display_data"
    }
   ],
   "source": [
    "%%render params\n",
    "\n",
    "phi_dF = 0.4\n",
    "beta_d = (t_F-t_0+20)/(t_F-t_0+70)"
   ]
  },
  {
   "cell_type": "markdown",
   "id": "96bd76c7",
   "metadata": {},
   "source": [
    "### Fluência Total:"
   ]
  },
  {
   "cell_type": "code",
   "execution_count": 23,
   "id": "a5a83321",
   "metadata": {},
   "outputs": [
    {
     "data": {
      "text/latex": [
       "\\[\n",
       "\\begin{aligned}\n",
       "\\phi_{t} &= 3.36 \\;\n",
       "\\end{aligned}\n",
       "\\]"
      ],
      "text/plain": [
       "<IPython.core.display.Latex object>"
      ]
     },
     "metadata": {},
     "output_type": "display_data"
    }
   ],
   "source": [
    "%%render 2 params\n",
    "phi_t = phi_a + phi_fF*(beta_f_tF - beta_f_t0) + phi_dF * beta_d"
   ]
  },
  {
   "cell_type": "markdown",
   "id": "865b57fe",
   "metadata": {},
   "source": [
    "### Retração do Concreto:"
   ]
  },
  {
   "cell_type": "code",
   "execution_count": 24,
   "id": "1bac914d",
   "metadata": {
    "scrolled": true
   },
   "outputs": [
    {
     "data": {
      "text/latex": [
       "\\[\n",
       "\\begin{aligned}\n",
       "\\epsilon_{1s} &= -0.00 \\; \n",
       " &\\epsilon_{2s} &= 0.83 \\; \n",
       " &A_{\\beta_{s}} &= 40 \\; \n",
       "\\\\[10pt]\n",
       " B_{\\beta_{s}} &= 40.43 \\; \n",
       " &C_{\\beta_{s}} &= 37.98 \\; \n",
       " &D_{\\beta_{s}} &= 208.26 \\; \n",
       "\\\\[10pt]\n",
       " E_{\\beta_{s}} &= 48.79 \\; \n",
       " &\\beta_{s_{t0}} &= 0.06 \\; \n",
       " &\\beta_{s_{tF}} &= 1.00 \\; \n",
       "\\\\[10pt]\n",
       " \\epsilon_{cs} &= -0.00 \\;\n",
       "\\end{aligned}\n",
       "\\]"
      ],
      "text/plain": [
       "<IPython.core.display.Latex object>"
      ]
     },
     "metadata": {},
     "output_type": "display_data"
    }
   ],
   "source": [
    "%%render 2 params\n",
    "\n",
    "epsilon_1s = (-8.09 + U/15 - U**2/2284 + U**3/133765 - U**4/7608150)*10**-4\n",
    "\n",
    "epsilon_2s = (33+2*h_fic)/(20.8 + 3*h_fic)\n",
    "\n",
    "A_beta_s = 40  \n",
    "B_beta_s = 116*h_fm**3 - 282*h_fm**2 + 220*h_fm - 4.8  \n",
    "C_beta_s = 2.5*h_fm**3 - 8.8*h_fm + 40.7  \n",
    "D_beta_s = -75*h_fm**3 + 585*h_fm**2 + 496*h_fm - 6.8  \n",
    "E_beta_s = -169*h_fm**4 + 88*h_fm**3 + 584*h_fm**2 - 39*h_fm + 0.8  \n",
    "\n",
    "beta_s_t0 = ((t_0/100)**3 + A_beta_s*(t_0/100)**2 +  B_beta_s*(t_0/100))/((t_0/100)**3 + C_beta_s*(t_0/100)**2 +  D_beta_s*(t_0/100) + E_beta_s)\n",
    "\n",
    "beta_s_tF = ((t_F/100)**3 + A_beta_s*(t_F/100)**2 +  B_beta_s*(t_F/100))/((t_F/100)**3 + C_beta_s*(t_F/100)**2 +  D_beta_s*(t_F/100) + E_beta_s)\n",
    "\n",
    "epsilon_cs = epsilon_1s*epsilon_2s*(beta_s_tF - beta_s_t0)"
   ]
  },
  {
   "cell_type": "markdown",
   "id": "26653758",
   "metadata": {},
   "source": [
    "## Relaxação do Aço de Protensão:"
   ]
  },
  {
   "cell_type": "code",
   "execution_count": 25,
   "id": "d0933e49-3949-4ca5-9a1d-b23ded9f763d",
   "metadata": {},
   "outputs": [
    {
     "name": "stdout",
     "output_type": "stream",
     "text": [
      "[0. 0. 0.]\n",
      "3\n"
     ]
    }
   ],
   "source": [
    "a = np.zeros([3])\n",
    "print(a)\n",
    "print(a.size)"
   ]
  },
  {
   "cell_type": "code",
   "execution_count": 26,
   "id": "1dcff92b",
   "metadata": {},
   "outputs": [
    {
     "data": {
      "text/html": [
       "<div>\n",
       "<style scoped>\n",
       "    .dataframe tbody tr th:only-of-type {\n",
       "        vertical-align: middle;\n",
       "    }\n",
       "\n",
       "    .dataframe tbody tr th {\n",
       "        vertical-align: top;\n",
       "    }\n",
       "\n",
       "    .dataframe thead th {\n",
       "        text-align: right;\n",
       "    }\n",
       "</style>\n",
       "<table border=\"1\" class=\"dataframe\">\n",
       "  <thead>\n",
       "    <tr style=\"text-align: right;\">\n",
       "      <th></th>\n",
       "      <th>Seção</th>\n",
       "      <th>Pos</th>\n",
       "      <th>Sigma,p</th>\n",
       "      <th>Sigma,p/fptk</th>\n",
       "      <th>Ψ1000</th>\n",
       "      <th>Ψ,inf</th>\n",
       "      <th>X,inf</th>\n",
       "    </tr>\n",
       "  </thead>\n",
       "  <tbody>\n",
       "    <tr>\n",
       "      <th>0</th>\n",
       "      <td>1.0</td>\n",
       "      <td>0.0</td>\n",
       "      <td>145.20</td>\n",
       "      <td>0.7642</td>\n",
       "      <td>0.0314</td>\n",
       "      <td>0.0785</td>\n",
       "      <td>0.0818</td>\n",
       "    </tr>\n",
       "    <tr>\n",
       "      <th>1</th>\n",
       "      <td>2.0</td>\n",
       "      <td>53.8</td>\n",
       "      <td>145.20</td>\n",
       "      <td>0.7642</td>\n",
       "      <td>0.0314</td>\n",
       "      <td>0.0785</td>\n",
       "      <td>0.0818</td>\n",
       "    </tr>\n",
       "    <tr>\n",
       "      <th>2</th>\n",
       "      <td>3.0</td>\n",
       "      <td>107.5</td>\n",
       "      <td>143.18</td>\n",
       "      <td>0.7536</td>\n",
       "      <td>0.0304</td>\n",
       "      <td>0.0760</td>\n",
       "      <td>0.0790</td>\n",
       "    </tr>\n",
       "    <tr>\n",
       "      <th>3</th>\n",
       "      <td>4.0</td>\n",
       "      <td>161.2</td>\n",
       "      <td>143.18</td>\n",
       "      <td>0.7536</td>\n",
       "      <td>0.0304</td>\n",
       "      <td>0.0760</td>\n",
       "      <td>0.0790</td>\n",
       "    </tr>\n",
       "    <tr>\n",
       "      <th>4</th>\n",
       "      <td>5.0</td>\n",
       "      <td>215.0</td>\n",
       "      <td>143.18</td>\n",
       "      <td>0.7536</td>\n",
       "      <td>0.0304</td>\n",
       "      <td>0.0760</td>\n",
       "      <td>0.0790</td>\n",
       "    </tr>\n",
       "    <tr>\n",
       "      <th>5</th>\n",
       "      <td>6.0</td>\n",
       "      <td>268.8</td>\n",
       "      <td>143.18</td>\n",
       "      <td>0.7536</td>\n",
       "      <td>0.0304</td>\n",
       "      <td>0.0760</td>\n",
       "      <td>0.0790</td>\n",
       "    </tr>\n",
       "    <tr>\n",
       "      <th>6</th>\n",
       "      <td>7.0</td>\n",
       "      <td>322.5</td>\n",
       "      <td>143.18</td>\n",
       "      <td>0.7536</td>\n",
       "      <td>0.0304</td>\n",
       "      <td>0.0760</td>\n",
       "      <td>0.0790</td>\n",
       "    </tr>\n",
       "    <tr>\n",
       "      <th>7</th>\n",
       "      <td>8.0</td>\n",
       "      <td>376.2</td>\n",
       "      <td>143.18</td>\n",
       "      <td>0.7536</td>\n",
       "      <td>0.0304</td>\n",
       "      <td>0.0760</td>\n",
       "      <td>0.0790</td>\n",
       "    </tr>\n",
       "    <tr>\n",
       "      <th>8</th>\n",
       "      <td>9.0</td>\n",
       "      <td>430.0</td>\n",
       "      <td>143.18</td>\n",
       "      <td>0.7536</td>\n",
       "      <td>0.0304</td>\n",
       "      <td>0.0760</td>\n",
       "      <td>0.0790</td>\n",
       "    </tr>\n",
       "    <tr>\n",
       "      <th>9</th>\n",
       "      <td>10.0</td>\n",
       "      <td>483.8</td>\n",
       "      <td>143.18</td>\n",
       "      <td>0.7536</td>\n",
       "      <td>0.0304</td>\n",
       "      <td>0.0760</td>\n",
       "      <td>0.0790</td>\n",
       "    </tr>\n",
       "    <tr>\n",
       "      <th>10</th>\n",
       "      <td>11.0</td>\n",
       "      <td>537.5</td>\n",
       "      <td>143.18</td>\n",
       "      <td>0.7536</td>\n",
       "      <td>0.0304</td>\n",
       "      <td>0.0760</td>\n",
       "      <td>0.0790</td>\n",
       "    </tr>\n",
       "    <tr>\n",
       "      <th>11</th>\n",
       "      <td>12.0</td>\n",
       "      <td>591.2</td>\n",
       "      <td>143.18</td>\n",
       "      <td>0.7536</td>\n",
       "      <td>0.0304</td>\n",
       "      <td>0.0760</td>\n",
       "      <td>0.0790</td>\n",
       "    </tr>\n",
       "    <tr>\n",
       "      <th>12</th>\n",
       "      <td>13.0</td>\n",
       "      <td>645.0</td>\n",
       "      <td>143.18</td>\n",
       "      <td>0.7536</td>\n",
       "      <td>0.0304</td>\n",
       "      <td>0.0760</td>\n",
       "      <td>0.0790</td>\n",
       "    </tr>\n",
       "    <tr>\n",
       "      <th>13</th>\n",
       "      <td>14.0</td>\n",
       "      <td>698.8</td>\n",
       "      <td>143.18</td>\n",
       "      <td>0.7536</td>\n",
       "      <td>0.0304</td>\n",
       "      <td>0.0760</td>\n",
       "      <td>0.0790</td>\n",
       "    </tr>\n",
       "    <tr>\n",
       "      <th>14</th>\n",
       "      <td>15.0</td>\n",
       "      <td>752.5</td>\n",
       "      <td>143.18</td>\n",
       "      <td>0.7536</td>\n",
       "      <td>0.0304</td>\n",
       "      <td>0.0760</td>\n",
       "      <td>0.0790</td>\n",
       "    </tr>\n",
       "    <tr>\n",
       "      <th>15</th>\n",
       "      <td>16.0</td>\n",
       "      <td>806.2</td>\n",
       "      <td>143.18</td>\n",
       "      <td>0.7536</td>\n",
       "      <td>0.0304</td>\n",
       "      <td>0.0760</td>\n",
       "      <td>0.0790</td>\n",
       "    </tr>\n",
       "    <tr>\n",
       "      <th>16</th>\n",
       "      <td>17.0</td>\n",
       "      <td>860.0</td>\n",
       "      <td>143.18</td>\n",
       "      <td>0.7536</td>\n",
       "      <td>0.0304</td>\n",
       "      <td>0.0760</td>\n",
       "      <td>0.0790</td>\n",
       "    </tr>\n",
       "    <tr>\n",
       "      <th>17</th>\n",
       "      <td>18.0</td>\n",
       "      <td>913.8</td>\n",
       "      <td>143.18</td>\n",
       "      <td>0.7536</td>\n",
       "      <td>0.0304</td>\n",
       "      <td>0.0760</td>\n",
       "      <td>0.0790</td>\n",
       "    </tr>\n",
       "    <tr>\n",
       "      <th>18</th>\n",
       "      <td>19.0</td>\n",
       "      <td>967.5</td>\n",
       "      <td>143.18</td>\n",
       "      <td>0.7536</td>\n",
       "      <td>0.0304</td>\n",
       "      <td>0.0760</td>\n",
       "      <td>0.0790</td>\n",
       "    </tr>\n",
       "    <tr>\n",
       "      <th>19</th>\n",
       "      <td>20.0</td>\n",
       "      <td>1021.2</td>\n",
       "      <td>145.20</td>\n",
       "      <td>0.7642</td>\n",
       "      <td>0.0314</td>\n",
       "      <td>0.0785</td>\n",
       "      <td>0.0818</td>\n",
       "    </tr>\n",
       "    <tr>\n",
       "      <th>20</th>\n",
       "      <td>21.0</td>\n",
       "      <td>1075.0</td>\n",
       "      <td>145.20</td>\n",
       "      <td>0.7642</td>\n",
       "      <td>0.0314</td>\n",
       "      <td>0.0785</td>\n",
       "      <td>0.0818</td>\n",
       "    </tr>\n",
       "  </tbody>\n",
       "</table>\n",
       "</div>"
      ],
      "text/plain": [
       "    Seção     Pos  Sigma,p  Sigma,p/fptk   Ψ1000   Ψ,inf   X,inf\n",
       "0     1.0     0.0   145.20        0.7642  0.0314  0.0785  0.0818\n",
       "1     2.0    53.8   145.20        0.7642  0.0314  0.0785  0.0818\n",
       "2     3.0   107.5   143.18        0.7536  0.0304  0.0760  0.0790\n",
       "3     4.0   161.2   143.18        0.7536  0.0304  0.0760  0.0790\n",
       "4     5.0   215.0   143.18        0.7536  0.0304  0.0760  0.0790\n",
       "5     6.0   268.8   143.18        0.7536  0.0304  0.0760  0.0790\n",
       "6     7.0   322.5   143.18        0.7536  0.0304  0.0760  0.0790\n",
       "7     8.0   376.2   143.18        0.7536  0.0304  0.0760  0.0790\n",
       "8     9.0   430.0   143.18        0.7536  0.0304  0.0760  0.0790\n",
       "9    10.0   483.8   143.18        0.7536  0.0304  0.0760  0.0790\n",
       "10   11.0   537.5   143.18        0.7536  0.0304  0.0760  0.0790\n",
       "11   12.0   591.2   143.18        0.7536  0.0304  0.0760  0.0790\n",
       "12   13.0   645.0   143.18        0.7536  0.0304  0.0760  0.0790\n",
       "13   14.0   698.8   143.18        0.7536  0.0304  0.0760  0.0790\n",
       "14   15.0   752.5   143.18        0.7536  0.0304  0.0760  0.0790\n",
       "15   16.0   806.2   143.18        0.7536  0.0304  0.0760  0.0790\n",
       "16   17.0   860.0   143.18        0.7536  0.0304  0.0760  0.0790\n",
       "17   18.0   913.8   143.18        0.7536  0.0304  0.0760  0.0790\n",
       "18   19.0   967.5   143.18        0.7536  0.0304  0.0760  0.0790\n",
       "19   20.0  1021.2   145.20        0.7642  0.0314  0.0785  0.0818\n",
       "20   21.0  1075.0   145.20        0.7642  0.0314  0.0785  0.0818"
      ]
     },
     "metadata": {},
     "output_type": "display_data"
    }
   ],
   "source": [
    "relax = np.zeros([nS,7])\n",
    "\n",
    "relax[:,1] = esforcos[:,0]\n",
    "for i in range(nS):\n",
    "    relax[i,0] = i+1\n",
    "    for j in range(len(qntCordoalhas)-1,-1,-1):\n",
    "        if(relax[i,1] >= x1_anc[j] and relax[i,1] <= x2_anc[j]):\n",
    "            relax[i,2] = round(sigma_p[j],4)\n",
    "            break\n",
    "            \n",
    "relax[:,3] = np.round(relax[:,2]/f_ptk,decimals=4)\n",
    "relax[:,4] = np.round(calcpsi(relax[:,3]),decimals=4)\n",
    "relax[:,5] = np.round(relax[:,4]*2.5,decimals=4)\n",
    "relax[:,6] = np.round(-log(1-relax[:,5]),decimals=4)\n",
    "    \n",
    "tabela3 = pd.DataFrame(relax)\n",
    "tabela3.rename(columns={0:'Seção',1:'Pos',2:'Sigma,p',3:'Sigma,p/fptk',4:'\\u03A81000',5:'\\u03A8,inf',6:'X,inf'},inplace = True)\n",
    "display(tabela3)"
   ]
  },
  {
   "cell_type": "markdown",
   "id": "b0d5874e",
   "metadata": {},
   "source": [
    "## Cálculo das Perdas Progressivas:"
   ]
  },
  {
   "cell_type": "code",
   "execution_count": 27,
   "id": "f65e243e-7c3e-4cee-9a00-5a1aa81e5eff",
   "metadata": {},
   "outputs": [
    {
     "data": {
      "text/html": [
       "<div>\n",
       "<style scoped>\n",
       "    .dataframe tbody tr th:only-of-type {\n",
       "        vertical-align: middle;\n",
       "    }\n",
       "\n",
       "    .dataframe tbody tr th {\n",
       "        vertical-align: top;\n",
       "    }\n",
       "\n",
       "    .dataframe thead th {\n",
       "        text-align: right;\n",
       "    }\n",
       "</style>\n",
       "<table border=\"1\" class=\"dataframe\">\n",
       "  <thead>\n",
       "    <tr style=\"text-align: right;\">\n",
       "      <th></th>\n",
       "      <th>Sigma,c,t0</th>\n",
       "      <th>ΔSigma,p</th>\n",
       "      <th>ΔNp</th>\n",
       "      <th>ΔMp</th>\n",
       "    </tr>\n",
       "  </thead>\n",
       "  <tbody>\n",
       "    <tr>\n",
       "      <th>0</th>\n",
       "      <td>-0.88</td>\n",
       "      <td>-33.28</td>\n",
       "      <td>333.13</td>\n",
       "      <td>12492.38</td>\n",
       "    </tr>\n",
       "    <tr>\n",
       "      <th>1</th>\n",
       "      <td>-0.85</td>\n",
       "      <td>-32.74</td>\n",
       "      <td>327.73</td>\n",
       "      <td>12289.88</td>\n",
       "    </tr>\n",
       "    <tr>\n",
       "      <th>2</th>\n",
       "      <td>-1.08</td>\n",
       "      <td>-35.48</td>\n",
       "      <td>507.36</td>\n",
       "      <td>17757.60</td>\n",
       "    </tr>\n",
       "    <tr>\n",
       "      <th>3</th>\n",
       "      <td>-1.06</td>\n",
       "      <td>-35.13</td>\n",
       "      <td>502.36</td>\n",
       "      <td>17582.60</td>\n",
       "    </tr>\n",
       "    <tr>\n",
       "      <th>4</th>\n",
       "      <td>-1.04</td>\n",
       "      <td>-34.79</td>\n",
       "      <td>497.50</td>\n",
       "      <td>17412.50</td>\n",
       "    </tr>\n",
       "    <tr>\n",
       "      <th>5</th>\n",
       "      <td>-1.03</td>\n",
       "      <td>-34.61</td>\n",
       "      <td>494.92</td>\n",
       "      <td>17322.20</td>\n",
       "    </tr>\n",
       "    <tr>\n",
       "      <th>6</th>\n",
       "      <td>-1.01</td>\n",
       "      <td>-34.26</td>\n",
       "      <td>489.92</td>\n",
       "      <td>17147.20</td>\n",
       "    </tr>\n",
       "    <tr>\n",
       "      <th>7</th>\n",
       "      <td>-1.00</td>\n",
       "      <td>-34.09</td>\n",
       "      <td>487.49</td>\n",
       "      <td>17062.15</td>\n",
       "    </tr>\n",
       "    <tr>\n",
       "      <th>8</th>\n",
       "      <td>-0.99</td>\n",
       "      <td>-33.92</td>\n",
       "      <td>485.06</td>\n",
       "      <td>16977.10</td>\n",
       "    </tr>\n",
       "    <tr>\n",
       "      <th>9</th>\n",
       "      <td>-0.99</td>\n",
       "      <td>-33.92</td>\n",
       "      <td>485.06</td>\n",
       "      <td>16977.10</td>\n",
       "    </tr>\n",
       "    <tr>\n",
       "      <th>10</th>\n",
       "      <td>-0.99</td>\n",
       "      <td>-33.92</td>\n",
       "      <td>485.06</td>\n",
       "      <td>16977.10</td>\n",
       "    </tr>\n",
       "    <tr>\n",
       "      <th>11</th>\n",
       "      <td>-0.99</td>\n",
       "      <td>-33.92</td>\n",
       "      <td>485.06</td>\n",
       "      <td>16977.10</td>\n",
       "    </tr>\n",
       "    <tr>\n",
       "      <th>12</th>\n",
       "      <td>-0.99</td>\n",
       "      <td>-33.92</td>\n",
       "      <td>485.06</td>\n",
       "      <td>16977.10</td>\n",
       "    </tr>\n",
       "    <tr>\n",
       "      <th>13</th>\n",
       "      <td>-1.00</td>\n",
       "      <td>-34.09</td>\n",
       "      <td>487.49</td>\n",
       "      <td>17062.15</td>\n",
       "    </tr>\n",
       "    <tr>\n",
       "      <th>14</th>\n",
       "      <td>-1.01</td>\n",
       "      <td>-34.26</td>\n",
       "      <td>489.92</td>\n",
       "      <td>17147.20</td>\n",
       "    </tr>\n",
       "    <tr>\n",
       "      <th>15</th>\n",
       "      <td>-1.03</td>\n",
       "      <td>-34.61</td>\n",
       "      <td>494.92</td>\n",
       "      <td>17322.20</td>\n",
       "    </tr>\n",
       "    <tr>\n",
       "      <th>16</th>\n",
       "      <td>-1.04</td>\n",
       "      <td>-34.79</td>\n",
       "      <td>497.50</td>\n",
       "      <td>17412.50</td>\n",
       "    </tr>\n",
       "    <tr>\n",
       "      <th>17</th>\n",
       "      <td>-1.06</td>\n",
       "      <td>-35.13</td>\n",
       "      <td>502.36</td>\n",
       "      <td>17582.60</td>\n",
       "    </tr>\n",
       "    <tr>\n",
       "      <th>18</th>\n",
       "      <td>-1.08</td>\n",
       "      <td>-35.48</td>\n",
       "      <td>507.36</td>\n",
       "      <td>17757.60</td>\n",
       "    </tr>\n",
       "    <tr>\n",
       "      <th>19</th>\n",
       "      <td>-0.85</td>\n",
       "      <td>-32.74</td>\n",
       "      <td>327.73</td>\n",
       "      <td>12289.88</td>\n",
       "    </tr>\n",
       "    <tr>\n",
       "      <th>20</th>\n",
       "      <td>-0.88</td>\n",
       "      <td>-33.28</td>\n",
       "      <td>333.13</td>\n",
       "      <td>12492.38</td>\n",
       "    </tr>\n",
       "  </tbody>\n",
       "</table>\n",
       "</div>"
      ],
      "text/plain": [
       "    Sigma,c,t0  ΔSigma,p     ΔNp       ΔMp\n",
       "0        -0.88    -33.28  333.13  12492.38\n",
       "1        -0.85    -32.74  327.73  12289.88\n",
       "2        -1.08    -35.48  507.36  17757.60\n",
       "3        -1.06    -35.13  502.36  17582.60\n",
       "4        -1.04    -34.79  497.50  17412.50\n",
       "5        -1.03    -34.61  494.92  17322.20\n",
       "6        -1.01    -34.26  489.92  17147.20\n",
       "7        -1.00    -34.09  487.49  17062.15\n",
       "8        -0.99    -33.92  485.06  16977.10\n",
       "9        -0.99    -33.92  485.06  16977.10\n",
       "10       -0.99    -33.92  485.06  16977.10\n",
       "11       -0.99    -33.92  485.06  16977.10\n",
       "12       -0.99    -33.92  485.06  16977.10\n",
       "13       -1.00    -34.09  487.49  17062.15\n",
       "14       -1.01    -34.26  489.92  17147.20\n",
       "15       -1.03    -34.61  494.92  17322.20\n",
       "16       -1.04    -34.79  497.50  17412.50\n",
       "17       -1.06    -35.13  502.36  17582.60\n",
       "18       -1.08    -35.48  507.36  17757.60\n",
       "19       -0.85    -32.74  327.73  12289.88\n",
       "20       -0.88    -33.28  333.13  12492.38"
      ]
     },
     "metadata": {},
     "output_type": "display_data"
    }
   ],
   "source": [
    "progressivas = np.zeros([nS,4])\n",
    "\n",
    "alpha_p = E_p/E_cs\n",
    "\n",
    "for i in range(nS):\n",
    "    pos_i = relax[i,1]\n",
    "    momento = 0.5*Q_t0*pos_i*(Vao-pos_i)\n",
    "    for j in range(qntCordoalhas.size-1,-1,-1):\n",
    "        if(relax[i,1] >= x1_anc[j] and relax[i,1] <= x2_anc[j]):\n",
    "            sigma_pi = sigma_p[j]\n",
    "            Npi = N_p[j]\n",
    "            Mpi = M_p[j]\n",
    "            Wcpi = W_cp[j]\n",
    "            e_pp = e_p_i[j]\n",
    "            A_pp = A_p[j]\n",
    "            \n",
    "            break\n",
    "        else:\n",
    "            sigma_pi = 0\n",
    "            Npi = 0\n",
    "            Mpi = 0\n",
    "            Wcpi = 0\n",
    "            e_pp = 0\n",
    "            A_pp = 0\n",
    "        \n",
    "    if (Npi != 0):\n",
    "        progressivas[i,0] = round(Npi/A_c + Mpi/Wcpi + momento/Wcpi,2)\n",
    "        K_p = alpha_p*A_pp*(1/A_c + e_pp/Wcpi)\n",
    "        progressivas[i,1] = round (((progressivas[i,0]*phi_t/E_cs + epsilon_cs - sigma_pi/E_p*relax[i,6])/(1+relax[i,6]+K_p*(1+0.5*phi_t)))*E_p,2)\n",
    "        progressivas[i,2] = -round(progressivas[i,1]*A_pp,2)\n",
    "        progressivas[i,3] = round(progressivas[i,2]*e_pp,2)\n",
    "        \n",
    "delta_Np_max = np.max(progressivas[i,2])\n",
    "delta_Mp_max = np.max(progressivas[i,3])\n",
    "\n",
    "tabela4 = pd.DataFrame(progressivas)\n",
    "tabela4.rename(columns={0:'Sigma,c,t0',1:'\\u0394Sigma,p',2:'\\u0394Np',3:'\\u0394Mp'},inplace = True)\n",
    "display(tabela4)"
   ]
  },
  {
   "cell_type": "markdown",
   "id": "6d844d65",
   "metadata": {},
   "source": [
    "# Tensões Normais nas Bordas:"
   ]
  },
  {
   "cell_type": "code",
   "execution_count": 28,
   "id": "9a5cf42e-989c-483e-a886-b5d5139cbd49",
   "metadata": {},
   "outputs": [
    {
     "data": {
      "text/html": [
       "<div>\n",
       "<style scoped>\n",
       "    .dataframe tbody tr th:only-of-type {\n",
       "        vertical-align: middle;\n",
       "    }\n",
       "\n",
       "    .dataframe tbody tr th {\n",
       "        vertical-align: top;\n",
       "    }\n",
       "\n",
       "    .dataframe thead th {\n",
       "        text-align: right;\n",
       "    }\n",
       "</style>\n",
       "<table border=\"1\" class=\"dataframe\">\n",
       "  <thead>\n",
       "    <tr style=\"text-align: right;\">\n",
       "      <th></th>\n",
       "      <th>Pos (cm)</th>\n",
       "      <th>Sigma,s</th>\n",
       "      <th>OK</th>\n",
       "      <th>Sigma,i</th>\n",
       "      <th>OK</th>\n",
       "    </tr>\n",
       "  </thead>\n",
       "  <tbody>\n",
       "    <tr>\n",
       "      <th>0</th>\n",
       "      <td>0.0</td>\n",
       "      <td>0.298</td>\n",
       "      <td>0.0</td>\n",
       "      <td>-0.845</td>\n",
       "      <td>0.0</td>\n",
       "    </tr>\n",
       "    <tr>\n",
       "      <th>1</th>\n",
       "      <td>53.8</td>\n",
       "      <td>-0.133</td>\n",
       "      <td>0.0</td>\n",
       "      <td>-0.407</td>\n",
       "      <td>0.0</td>\n",
       "    </tr>\n",
       "    <tr>\n",
       "      <th>2</th>\n",
       "      <td>107.5</td>\n",
       "      <td>-0.460</td>\n",
       "      <td>0.0</td>\n",
       "      <td>-0.271</td>\n",
       "      <td>0.0</td>\n",
       "    </tr>\n",
       "    <tr>\n",
       "      <th>3</th>\n",
       "      <td>161.2</td>\n",
       "      <td>-0.800</td>\n",
       "      <td>0.0</td>\n",
       "      <td>0.074</td>\n",
       "      <td>0.0</td>\n",
       "    </tr>\n",
       "    <tr>\n",
       "      <th>4</th>\n",
       "      <td>215.0</td>\n",
       "      <td>-1.094</td>\n",
       "      <td>0.0</td>\n",
       "      <td>0.373</td>\n",
       "      <td>0.0</td>\n",
       "    </tr>\n",
       "    <tr>\n",
       "      <th>5</th>\n",
       "      <td>268.8</td>\n",
       "      <td>-1.344</td>\n",
       "      <td>0.0</td>\n",
       "      <td>0.627</td>\n",
       "      <td>NaN</td>\n",
       "    </tr>\n",
       "    <tr>\n",
       "      <th>6</th>\n",
       "      <td>322.5</td>\n",
       "      <td>-1.547</td>\n",
       "      <td>0.0</td>\n",
       "      <td>0.833</td>\n",
       "      <td>NaN</td>\n",
       "    </tr>\n",
       "    <tr>\n",
       "      <th>7</th>\n",
       "      <td>376.2</td>\n",
       "      <td>-1.706</td>\n",
       "      <td>0.0</td>\n",
       "      <td>0.994</td>\n",
       "      <td>NaN</td>\n",
       "    </tr>\n",
       "    <tr>\n",
       "      <th>8</th>\n",
       "      <td>430.0</td>\n",
       "      <td>-1.819</td>\n",
       "      <td>0.0</td>\n",
       "      <td>1.108</td>\n",
       "      <td>NaN</td>\n",
       "    </tr>\n",
       "    <tr>\n",
       "      <th>9</th>\n",
       "      <td>483.8</td>\n",
       "      <td>-1.887</td>\n",
       "      <td>0.0</td>\n",
       "      <td>1.178</td>\n",
       "      <td>NaN</td>\n",
       "    </tr>\n",
       "    <tr>\n",
       "      <th>10</th>\n",
       "      <td>537.5</td>\n",
       "      <td>-1.910</td>\n",
       "      <td>0.0</td>\n",
       "      <td>1.201</td>\n",
       "      <td>NaN</td>\n",
       "    </tr>\n",
       "    <tr>\n",
       "      <th>11</th>\n",
       "      <td>591.2</td>\n",
       "      <td>-1.887</td>\n",
       "      <td>0.0</td>\n",
       "      <td>1.178</td>\n",
       "      <td>NaN</td>\n",
       "    </tr>\n",
       "    <tr>\n",
       "      <th>12</th>\n",
       "      <td>645.0</td>\n",
       "      <td>-1.819</td>\n",
       "      <td>0.0</td>\n",
       "      <td>1.108</td>\n",
       "      <td>NaN</td>\n",
       "    </tr>\n",
       "    <tr>\n",
       "      <th>13</th>\n",
       "      <td>698.8</td>\n",
       "      <td>-1.706</td>\n",
       "      <td>0.0</td>\n",
       "      <td>0.994</td>\n",
       "      <td>NaN</td>\n",
       "    </tr>\n",
       "    <tr>\n",
       "      <th>14</th>\n",
       "      <td>752.5</td>\n",
       "      <td>-1.547</td>\n",
       "      <td>0.0</td>\n",
       "      <td>0.833</td>\n",
       "      <td>NaN</td>\n",
       "    </tr>\n",
       "    <tr>\n",
       "      <th>15</th>\n",
       "      <td>806.2</td>\n",
       "      <td>-1.344</td>\n",
       "      <td>0.0</td>\n",
       "      <td>0.627</td>\n",
       "      <td>NaN</td>\n",
       "    </tr>\n",
       "    <tr>\n",
       "      <th>16</th>\n",
       "      <td>860.0</td>\n",
       "      <td>-1.094</td>\n",
       "      <td>0.0</td>\n",
       "      <td>0.373</td>\n",
       "      <td>0.0</td>\n",
       "    </tr>\n",
       "    <tr>\n",
       "      <th>17</th>\n",
       "      <td>913.8</td>\n",
       "      <td>-0.800</td>\n",
       "      <td>0.0</td>\n",
       "      <td>0.074</td>\n",
       "      <td>0.0</td>\n",
       "    </tr>\n",
       "    <tr>\n",
       "      <th>18</th>\n",
       "      <td>967.5</td>\n",
       "      <td>-0.460</td>\n",
       "      <td>0.0</td>\n",
       "      <td>-0.271</td>\n",
       "      <td>0.0</td>\n",
       "    </tr>\n",
       "    <tr>\n",
       "      <th>19</th>\n",
       "      <td>1021.2</td>\n",
       "      <td>-0.133</td>\n",
       "      <td>0.0</td>\n",
       "      <td>-0.407</td>\n",
       "      <td>0.0</td>\n",
       "    </tr>\n",
       "    <tr>\n",
       "      <th>20</th>\n",
       "      <td>1075.0</td>\n",
       "      <td>0.298</td>\n",
       "      <td>0.0</td>\n",
       "      <td>-0.845</td>\n",
       "      <td>0.0</td>\n",
       "    </tr>\n",
       "  </tbody>\n",
       "</table>\n",
       "</div>"
      ],
      "text/plain": [
       "    Pos (cm)  Sigma,s   OK  Sigma,i   OK\n",
       "0        0.0    0.298  0.0   -0.845  0.0\n",
       "1       53.8   -0.133  0.0   -0.407  0.0\n",
       "2      107.5   -0.460  0.0   -0.271  0.0\n",
       "3      161.2   -0.800  0.0    0.074  0.0\n",
       "4      215.0   -1.094  0.0    0.373  0.0\n",
       "5      268.8   -1.344  0.0    0.627  NaN\n",
       "6      322.5   -1.547  0.0    0.833  NaN\n",
       "7      376.2   -1.706  0.0    0.994  NaN\n",
       "8      430.0   -1.819  0.0    1.108  NaN\n",
       "9      483.8   -1.887  0.0    1.178  NaN\n",
       "10     537.5   -1.910  0.0    1.201  NaN\n",
       "11     591.2   -1.887  0.0    1.178  NaN\n",
       "12     645.0   -1.819  0.0    1.108  NaN\n",
       "13     698.8   -1.706  0.0    0.994  NaN\n",
       "14     752.5   -1.547  0.0    0.833  NaN\n",
       "15     806.2   -1.344  0.0    0.627  NaN\n",
       "16     860.0   -1.094  0.0    0.373  0.0\n",
       "17     913.8   -0.800  0.0    0.074  0.0\n",
       "18     967.5   -0.460  0.0   -0.271  0.0\n",
       "19    1021.2   -0.133  0.0   -0.407  0.0\n",
       "20    1075.0    0.298  0.0   -0.845  0.0"
      ]
     },
     "metadata": {},
     "output_type": "display_data"
    },
    {
     "name": "stdout",
     "output_type": "stream",
     "text": [
      "Limite de tensão na borda superior: -2.00 kN/cm²\n",
      "Limite de tensão na borda inferior: 0.42 kN/cm²\n"
     ]
    }
   ],
   "source": [
    "tensaobor = np.zeros((nS,5))\n",
    "\n",
    "tensaobor[:,0] = relax[:,1]\n",
    "\n",
    "for i in range(nS):\n",
    "    for j in range(qntCordoalhas.size-1,-1,-1):\n",
    "        if(relax[i,1] >= x1_anc[j] and relax [i,1] <= x2_anc[j]):\n",
    "            sigma_pi = sigma_p[j]\n",
    "            Npi = N_p[j]\n",
    "            Mpi = M_p[j]\n",
    "            Wcpi = W_cp[j]\n",
    "            e_pp = e_p_i[j]\n",
    "            A_pp = A_p[j]\n",
    "            break\n",
    "    Npx = Npi + progressivas[i,2]\n",
    "    Mpx = Mpi + progressivas[i,3]\n",
    "    tensaobor[i,1] = round( -abs(Npx/A_c) + abs(Mpx/W_s) - abs(esforcos[i,1]/W_s),3)\n",
    "    \n",
    "    if tensaobor[i,1] > -sigma_ccF:\n",
    "        tensaobor[i,2] = 0\n",
    "    else:\n",
    "        tensaobor[i,2] = np.nan\n",
    "    \n",
    "    \n",
    "    tensaobor[i,3] = round(-abs(Npx/A_c) -abs(Mpx/W_i) + abs(esforcos[i,1]/W_i) , 3)\n",
    "    if tensaobor[i,3] < -sigma_ctF:\n",
    "        tensaobor[i,4] = 0\n",
    "    else:\n",
    "        tensaobor[i,4] = np.nan\n",
    "    \n",
    "\n",
    "tabela5 = pd.DataFrame(tensaobor)\n",
    "tabela5.rename(columns={0:'Pos (cm)',1:'Sigma,s',2:'OK',3:'Sigma,i',4:'OK'},inplace = True)\n",
    "display(tabela5)\n",
    "\n",
    "print(\"Limite de tensão na borda superior: {0:.2f} kN/cm²\".format(-sigma_ccF))\n",
    "print(\"Limite de tensão na borda inferior: {0:.2f} kN/cm²\".format(-sigma_ctF))"
   ]
  },
  {
   "cell_type": "markdown",
   "id": "75627f5a",
   "metadata": {
    "tags": []
   },
   "source": [
    "## Bordas Inferiores:"
   ]
  },
  {
   "cell_type": "markdown",
   "id": "73ee5e0c",
   "metadata": {},
   "source": [
    "# Armaduras Passivas:\n",
    "\n",
    "## Armadura da Cunha de Tração:"
   ]
  },
  {
   "cell_type": "code",
   "execution_count": 29,
   "id": "75b47b69",
   "metadata": {},
   "outputs": [
    {
     "name": "stdout",
     "output_type": "stream",
     "text": [
      "Seção crítica de cálculo: seção 0\n"
     ]
    }
   ],
   "source": [
    "sigma_cs0 = -10000\n",
    "pos = -1\n",
    "for i in range (0,nS):\n",
    "    if sigma_cs0 < tensaobor[i,1]:\n",
    "        sigma_cs0 = tensaobor[i,1]\n",
    "        pos = i\n",
    "\n",
    "sigma_ci0 = tensaobor[pos,3]\n",
    "\n",
    "print(\"Seção crítica de cálculo: seção\",pos)"
   ]
  },
  {
   "cell_type": "code",
   "execution_count": 30,
   "id": "bea309c0",
   "metadata": {},
   "outputs": [
    {
     "data": {
      "text/latex": [
       "\\[\n",
       "\\begin{aligned}\n",
       "x &= \\frac{ \\sigma_{cs0} }{ \\sigma_{cs0} - \\sigma_{ci0} } \\cdot h  = \\frac{ 0.30 }{ 0.30 - -0.84 } \\cdot 105 &= 27.38  \n",
       "\\\\[10pt]\n",
       "S_{x} &= b \\cdot \\frac{ \\left( x \\right) ^{ 2 } }{ 2 }  = 40 \\cdot \\frac{ \\left( 27.38 \\right) ^{ 2 } }{ 2 } &= 14988.17  \n",
       "\\\\[10pt]\n",
       "R_{ct} &= \\frac{ \\sigma_{cs0} }{ x } \\cdot S_{x}  = \\frac{ 0.30 }{ 27.38 } \\cdot 14988.17 &= 163.16  \n",
       "\\\\[10pt]\n",
       "A_{st} &= \\frac{ R_{ct} }{ 25.00 }  = \\frac{ 163.16 }{ 25.00 } &= 6.53  \n",
       "\\\\[10pt]\n",
       "\\phi_{st} &= 1.60 \\; \n",
       "\\\\[10pt]\n",
       "N_{st} &= \\left \\lceil \\frac{ A_{st} }{ \\left( \\frac{ \\phi_{st} }{ 2 } \\right) ^{ 2 } \\cdot \\pi } \\right \\rceil  = \\left \\lceil \\frac{ 6.53 }{ \\left( \\frac{ 1.60 }{ 2 } \\right) ^{ 2 } \\cdot 3.14 } \\right \\rceil &= 4  \n",
       "\\end{aligned}\n",
       "\\]"
      ],
      "text/plain": [
       "<IPython.core.display.Latex object>"
      ]
     },
     "metadata": {},
     "output_type": "display_data"
    }
   ],
   "source": [
    "%%render 2\n",
    "\n",
    "x = sigma_cs0/(sigma_cs0 - sigma_ci0) * h\n",
    "\n",
    "S_x = b*x**2/2\n",
    "\n",
    "R_ct = sigma_cs0/x*S_x\n",
    "\n",
    "A_st = R_ct/25.00\n",
    "\n",
    "phi_st = 1.6\n",
    "\n",
    "N_st = ceil(A_st/((phi_st/2)**2*pi))"
   ]
  },
  {
   "cell_type": "markdown",
   "id": "a596a0c9",
   "metadata": {},
   "source": [
    "## Pré-Alongamento de Leito:"
   ]
  },
  {
   "cell_type": "code",
   "execution_count": 33,
   "id": "569ad1c3",
   "metadata": {
    "scrolled": true
   },
   "outputs": [
    {
     "data": {
      "text/html": [
       "<div>\n",
       "<style scoped>\n",
       "    .dataframe tbody tr th:only-of-type {\n",
       "        vertical-align: middle;\n",
       "    }\n",
       "\n",
       "    .dataframe tbody tr th {\n",
       "        vertical-align: top;\n",
       "    }\n",
       "\n",
       "    .dataframe thead th {\n",
       "        text-align: right;\n",
       "    }\n",
       "</style>\n",
       "<table border=\"1\" class=\"dataframe\">\n",
       "  <thead>\n",
       "    <tr style=\"text-align: right;\">\n",
       "      <th></th>\n",
       "      <th>Np,F</th>\n",
       "      <th>Mp,F</th>\n",
       "      <th>Sigma,cpF</th>\n",
       "      <th>Sigma,PN</th>\n",
       "      <th>e,pn</th>\n",
       "    </tr>\n",
       "  </thead>\n",
       "  <tbody>\n",
       "    <tr>\n",
       "      <th>0</th>\n",
       "      <td>-1120.322</td>\n",
       "      <td>-42012.07</td>\n",
       "      <td>-0.68</td>\n",
       "      <td>116.19</td>\n",
       "      <td>0.00581</td>\n",
       "    </tr>\n",
       "    <tr>\n",
       "      <th>1</th>\n",
       "      <td>-1125.722</td>\n",
       "      <td>-42214.57</td>\n",
       "      <td>-0.68</td>\n",
       "      <td>116.73</td>\n",
       "      <td>0.00584</td>\n",
       "    </tr>\n",
       "    <tr>\n",
       "      <th>2</th>\n",
       "      <td>-1540.114</td>\n",
       "      <td>-53903.99</td>\n",
       "      <td>-0.86</td>\n",
       "      <td>113.10</td>\n",
       "      <td>0.00566</td>\n",
       "    </tr>\n",
       "    <tr>\n",
       "      <th>3</th>\n",
       "      <td>-1545.114</td>\n",
       "      <td>-54078.99</td>\n",
       "      <td>-0.86</td>\n",
       "      <td>113.45</td>\n",
       "      <td>0.00567</td>\n",
       "    </tr>\n",
       "    <tr>\n",
       "      <th>4</th>\n",
       "      <td>-1549.974</td>\n",
       "      <td>-54249.09</td>\n",
       "      <td>-0.86</td>\n",
       "      <td>113.79</td>\n",
       "      <td>0.00569</td>\n",
       "    </tr>\n",
       "    <tr>\n",
       "      <th>5</th>\n",
       "      <td>-1552.554</td>\n",
       "      <td>-54339.39</td>\n",
       "      <td>-0.86</td>\n",
       "      <td>113.97</td>\n",
       "      <td>0.00570</td>\n",
       "    </tr>\n",
       "    <tr>\n",
       "      <th>6</th>\n",
       "      <td>-1557.554</td>\n",
       "      <td>-54514.39</td>\n",
       "      <td>-0.87</td>\n",
       "      <td>114.38</td>\n",
       "      <td>0.00572</td>\n",
       "    </tr>\n",
       "    <tr>\n",
       "      <th>7</th>\n",
       "      <td>-1559.984</td>\n",
       "      <td>-54599.44</td>\n",
       "      <td>-0.87</td>\n",
       "      <td>114.55</td>\n",
       "      <td>0.00573</td>\n",
       "    </tr>\n",
       "    <tr>\n",
       "      <th>8</th>\n",
       "      <td>-1562.414</td>\n",
       "      <td>-54684.49</td>\n",
       "      <td>-0.87</td>\n",
       "      <td>114.72</td>\n",
       "      <td>0.00574</td>\n",
       "    </tr>\n",
       "    <tr>\n",
       "      <th>9</th>\n",
       "      <td>-1562.414</td>\n",
       "      <td>-54684.49</td>\n",
       "      <td>-0.87</td>\n",
       "      <td>114.72</td>\n",
       "      <td>0.00574</td>\n",
       "    </tr>\n",
       "    <tr>\n",
       "      <th>10</th>\n",
       "      <td>-1562.414</td>\n",
       "      <td>-54684.49</td>\n",
       "      <td>-0.87</td>\n",
       "      <td>114.72</td>\n",
       "      <td>0.00574</td>\n",
       "    </tr>\n",
       "    <tr>\n",
       "      <th>11</th>\n",
       "      <td>-1562.414</td>\n",
       "      <td>-54684.49</td>\n",
       "      <td>-0.87</td>\n",
       "      <td>114.72</td>\n",
       "      <td>0.00574</td>\n",
       "    </tr>\n",
       "    <tr>\n",
       "      <th>12</th>\n",
       "      <td>-1562.414</td>\n",
       "      <td>-54684.49</td>\n",
       "      <td>-0.87</td>\n",
       "      <td>114.72</td>\n",
       "      <td>0.00574</td>\n",
       "    </tr>\n",
       "    <tr>\n",
       "      <th>13</th>\n",
       "      <td>-1559.984</td>\n",
       "      <td>-54599.44</td>\n",
       "      <td>-0.87</td>\n",
       "      <td>114.55</td>\n",
       "      <td>0.00573</td>\n",
       "    </tr>\n",
       "    <tr>\n",
       "      <th>14</th>\n",
       "      <td>-1557.554</td>\n",
       "      <td>-54514.39</td>\n",
       "      <td>-0.87</td>\n",
       "      <td>114.38</td>\n",
       "      <td>0.00572</td>\n",
       "    </tr>\n",
       "    <tr>\n",
       "      <th>15</th>\n",
       "      <td>-1552.554</td>\n",
       "      <td>-54339.39</td>\n",
       "      <td>-0.86</td>\n",
       "      <td>113.97</td>\n",
       "      <td>0.00570</td>\n",
       "    </tr>\n",
       "    <tr>\n",
       "      <th>16</th>\n",
       "      <td>-1549.974</td>\n",
       "      <td>-54249.09</td>\n",
       "      <td>-0.86</td>\n",
       "      <td>113.79</td>\n",
       "      <td>0.00569</td>\n",
       "    </tr>\n",
       "    <tr>\n",
       "      <th>17</th>\n",
       "      <td>-1545.114</td>\n",
       "      <td>-54078.99</td>\n",
       "      <td>-0.86</td>\n",
       "      <td>113.45</td>\n",
       "      <td>0.00567</td>\n",
       "    </tr>\n",
       "    <tr>\n",
       "      <th>18</th>\n",
       "      <td>-1540.114</td>\n",
       "      <td>-53903.99</td>\n",
       "      <td>-0.86</td>\n",
       "      <td>113.10</td>\n",
       "      <td>0.00566</td>\n",
       "    </tr>\n",
       "    <tr>\n",
       "      <th>19</th>\n",
       "      <td>-1125.722</td>\n",
       "      <td>-42214.57</td>\n",
       "      <td>-0.68</td>\n",
       "      <td>116.73</td>\n",
       "      <td>0.00584</td>\n",
       "    </tr>\n",
       "    <tr>\n",
       "      <th>20</th>\n",
       "      <td>-1120.322</td>\n",
       "      <td>-42012.07</td>\n",
       "      <td>-0.68</td>\n",
       "      <td>116.19</td>\n",
       "      <td>0.00581</td>\n",
       "    </tr>\n",
       "  </tbody>\n",
       "</table>\n",
       "</div>"
      ],
      "text/plain": [
       "        Np,F      Mp,F  Sigma,cpF  Sigma,PN     e,pn\n",
       "0  -1120.322 -42012.07      -0.68    116.19  0.00581\n",
       "1  -1125.722 -42214.57      -0.68    116.73  0.00584\n",
       "2  -1540.114 -53903.99      -0.86    113.10  0.00566\n",
       "3  -1545.114 -54078.99      -0.86    113.45  0.00567\n",
       "4  -1549.974 -54249.09      -0.86    113.79  0.00569\n",
       "5  -1552.554 -54339.39      -0.86    113.97  0.00570\n",
       "6  -1557.554 -54514.39      -0.87    114.38  0.00572\n",
       "7  -1559.984 -54599.44      -0.87    114.55  0.00573\n",
       "8  -1562.414 -54684.49      -0.87    114.72  0.00574\n",
       "9  -1562.414 -54684.49      -0.87    114.72  0.00574\n",
       "10 -1562.414 -54684.49      -0.87    114.72  0.00574\n",
       "11 -1562.414 -54684.49      -0.87    114.72  0.00574\n",
       "12 -1562.414 -54684.49      -0.87    114.72  0.00574\n",
       "13 -1559.984 -54599.44      -0.87    114.55  0.00573\n",
       "14 -1557.554 -54514.39      -0.87    114.38  0.00572\n",
       "15 -1552.554 -54339.39      -0.86    113.97  0.00570\n",
       "16 -1549.974 -54249.09      -0.86    113.79  0.00569\n",
       "17 -1545.114 -54078.99      -0.86    113.45  0.00567\n",
       "18 -1540.114 -53903.99      -0.86    113.10  0.00566\n",
       "19 -1125.722 -42214.57      -0.68    116.73  0.00584\n",
       "20 -1120.322 -42012.07      -0.68    116.19  0.00581"
      ]
     },
     "metadata": {},
     "output_type": "display_data"
    }
   ],
   "source": [
    "prealong = np.zeros([nS,5])\n",
    "\n",
    "for i in range(nS):\n",
    "    for j in range(len(qntCordoalhas)-1,-1,-1):\n",
    "        if(relax[i,1] >= x1_anc[j] and relax[i,1] <= x2_anc[j]):\n",
    "                sigma_pw = sigma_p[j]\n",
    "                Npw = N_p[j]\n",
    "                Mpw = M_p[j]\n",
    "                Wcpw = W_cp[j]\n",
    "                break\n",
    "    prealong[i,0] = Npw + progressivas[i,2]\n",
    "    prealong[i,1] = Mpw + progressivas[i,3]\n",
    "    prealong[i,2] = round(prealong[i,0]/A_c + prealong[i,1]/Wcpw ,2)\n",
    "    prealong[i,3] = round( sigma_pw + progressivas[i,1] - alpha_p*prealong[i,2] ,2)\n",
    "    prealong[i,4] = round(prealong[i,3]/E_p,5)\n",
    "\n",
    "\n",
    "\n",
    "tabela7 = pd.DataFrame(prealong)\n",
    "tabela7.rename(columns={0:'Np,F',1:'Mp,F',2:'Sigma,cpF', 3:'Sigma,PN',4:'e,pn'},inplace = True)\n",
    "display(tabela7)"
   ]
  },
  {
   "cell_type": "markdown",
   "id": "4d5136bb",
   "metadata": {},
   "source": [
    "## Armadura Passiva de Flexão:"
   ]
  },
  {
   "cell_type": "markdown",
   "id": "31b176c6",
   "metadata": {},
   "source": [
    "![formulario](img/formulario.png)"
   ]
  },
  {
   "cell_type": "code",
   "execution_count": 45,
   "id": "1f6b8e0e",
   "metadata": {},
   "outputs": [
    {
     "data": {
      "text/html": [
       "<div>\n",
       "<style scoped>\n",
       "    .dataframe tbody tr th:only-of-type {\n",
       "        vertical-align: middle;\n",
       "    }\n",
       "\n",
       "    .dataframe tbody tr th {\n",
       "        vertical-align: top;\n",
       "    }\n",
       "\n",
       "    .dataframe thead th {\n",
       "        text-align: right;\n",
       "    }\n",
       "</style>\n",
       "<table border=\"1\" class=\"dataframe\">\n",
       "  <thead>\n",
       "    <tr style=\"text-align: right;\">\n",
       "      <th></th>\n",
       "      <th>Md</th>\n",
       "      <th>x</th>\n",
       "      <th>x/d</th>\n",
       "      <th>eps,s</th>\n",
       "      <th>sigma,s</th>\n",
       "      <th>eps,p</th>\n",
       "      <th>sigma,p</th>\n",
       "      <th>As</th>\n",
       "    </tr>\n",
       "  </thead>\n",
       "  <tbody>\n",
       "    <tr>\n",
       "      <th>0</th>\n",
       "      <td>0.0</td>\n",
       "      <td>1.93</td>\n",
       "      <td>0.019</td>\n",
       "      <td>0.17782</td>\n",
       "      <td>43.48</td>\n",
       "      <td>0.16492</td>\n",
       "      <td>148.7</td>\n",
       "      <td>-30.78</td>\n",
       "    </tr>\n",
       "    <tr>\n",
       "      <th>1</th>\n",
       "      <td>44996.0</td>\n",
       "      <td>7.96</td>\n",
       "      <td>0.080</td>\n",
       "      <td>0.04048</td>\n",
       "      <td>43.48</td>\n",
       "      <td>0.04134</td>\n",
       "      <td>148.7</td>\n",
       "      <td>-20.01</td>\n",
       "    </tr>\n",
       "    <tr>\n",
       "      <th>2</th>\n",
       "      <td>85181.0</td>\n",
       "      <td>15.32</td>\n",
       "      <td>0.153</td>\n",
       "      <td>0.01935</td>\n",
       "      <td>43.48</td>\n",
       "      <td>0.02158</td>\n",
       "      <td>148.7</td>\n",
       "      <td>-21.52</td>\n",
       "    </tr>\n",
       "    <tr>\n",
       "      <th>3</th>\n",
       "      <td>120642.0</td>\n",
       "      <td>20.65</td>\n",
       "      <td>0.206</td>\n",
       "      <td>0.01345</td>\n",
       "      <td>43.48</td>\n",
       "      <td>0.01643</td>\n",
       "      <td>148.7</td>\n",
       "      <td>-12.00</td>\n",
       "    </tr>\n",
       "    <tr>\n",
       "      <th>4</th>\n",
       "      <td>151433.0</td>\n",
       "      <td>25.51</td>\n",
       "      <td>0.255</td>\n",
       "      <td>0.01022</td>\n",
       "      <td>43.48</td>\n",
       "      <td>0.01363</td>\n",
       "      <td>148.7</td>\n",
       "      <td>-3.31</td>\n",
       "    </tr>\n",
       "    <tr>\n",
       "      <th>5</th>\n",
       "      <td>177482.0</td>\n",
       "      <td>29.81</td>\n",
       "      <td>0.298</td>\n",
       "      <td>0.00824</td>\n",
       "      <td>43.48</td>\n",
       "      <td>0.01190</td>\n",
       "      <td>148.7</td>\n",
       "      <td>4.38</td>\n",
       "    </tr>\n",
       "    <tr>\n",
       "      <th>6</th>\n",
       "      <td>198755.0</td>\n",
       "      <td>33.48</td>\n",
       "      <td>0.335</td>\n",
       "      <td>0.00695</td>\n",
       "      <td>43.48</td>\n",
       "      <td>0.01080</td>\n",
       "      <td>148.7</td>\n",
       "      <td>10.94</td>\n",
       "    </tr>\n",
       "    <tr>\n",
       "      <th>7</th>\n",
       "      <td>215305.0</td>\n",
       "      <td>36.44</td>\n",
       "      <td>0.364</td>\n",
       "      <td>0.00611</td>\n",
       "      <td>43.48</td>\n",
       "      <td>0.01006</td>\n",
       "      <td>148.7</td>\n",
       "      <td>16.23</td>\n",
       "    </tr>\n",
       "    <tr>\n",
       "      <th>8</th>\n",
       "      <td>227149.0</td>\n",
       "      <td>38.61</td>\n",
       "      <td>0.386</td>\n",
       "      <td>0.00556</td>\n",
       "      <td>43.48</td>\n",
       "      <td>0.00960</td>\n",
       "      <td>148.7</td>\n",
       "      <td>20.10</td>\n",
       "    </tr>\n",
       "    <tr>\n",
       "      <th>9</th>\n",
       "      <td>234252.0</td>\n",
       "      <td>39.95</td>\n",
       "      <td>0.400</td>\n",
       "      <td>0.00526</td>\n",
       "      <td>43.48</td>\n",
       "      <td>0.00933</td>\n",
       "      <td>148.7</td>\n",
       "      <td>22.50</td>\n",
       "    </tr>\n",
       "    <tr>\n",
       "      <th>10</th>\n",
       "      <td>236614.0</td>\n",
       "      <td>40.39</td>\n",
       "      <td>0.404</td>\n",
       "      <td>0.00516</td>\n",
       "      <td>43.48</td>\n",
       "      <td>0.00925</td>\n",
       "      <td>148.7</td>\n",
       "      <td>23.29</td>\n",
       "    </tr>\n",
       "    <tr>\n",
       "      <th>11</th>\n",
       "      <td>234252.0</td>\n",
       "      <td>39.95</td>\n",
       "      <td>0.400</td>\n",
       "      <td>0.00526</td>\n",
       "      <td>43.48</td>\n",
       "      <td>0.00933</td>\n",
       "      <td>148.7</td>\n",
       "      <td>22.50</td>\n",
       "    </tr>\n",
       "    <tr>\n",
       "      <th>12</th>\n",
       "      <td>227149.0</td>\n",
       "      <td>38.61</td>\n",
       "      <td>0.386</td>\n",
       "      <td>0.00556</td>\n",
       "      <td>43.48</td>\n",
       "      <td>0.00960</td>\n",
       "      <td>148.7</td>\n",
       "      <td>20.10</td>\n",
       "    </tr>\n",
       "    <tr>\n",
       "      <th>13</th>\n",
       "      <td>215305.0</td>\n",
       "      <td>36.44</td>\n",
       "      <td>0.364</td>\n",
       "      <td>0.00611</td>\n",
       "      <td>43.48</td>\n",
       "      <td>0.01006</td>\n",
       "      <td>148.7</td>\n",
       "      <td>16.23</td>\n",
       "    </tr>\n",
       "    <tr>\n",
       "      <th>14</th>\n",
       "      <td>198755.0</td>\n",
       "      <td>33.48</td>\n",
       "      <td>0.335</td>\n",
       "      <td>0.00695</td>\n",
       "      <td>43.48</td>\n",
       "      <td>0.01080</td>\n",
       "      <td>148.7</td>\n",
       "      <td>10.94</td>\n",
       "    </tr>\n",
       "    <tr>\n",
       "      <th>15</th>\n",
       "      <td>177482.0</td>\n",
       "      <td>29.81</td>\n",
       "      <td>0.298</td>\n",
       "      <td>0.00824</td>\n",
       "      <td>43.48</td>\n",
       "      <td>0.01190</td>\n",
       "      <td>148.7</td>\n",
       "      <td>4.38</td>\n",
       "    </tr>\n",
       "    <tr>\n",
       "      <th>16</th>\n",
       "      <td>151433.0</td>\n",
       "      <td>25.51</td>\n",
       "      <td>0.255</td>\n",
       "      <td>0.01022</td>\n",
       "      <td>43.48</td>\n",
       "      <td>0.01363</td>\n",
       "      <td>148.7</td>\n",
       "      <td>-3.31</td>\n",
       "    </tr>\n",
       "    <tr>\n",
       "      <th>17</th>\n",
       "      <td>120642.0</td>\n",
       "      <td>20.65</td>\n",
       "      <td>0.206</td>\n",
       "      <td>0.01345</td>\n",
       "      <td>43.48</td>\n",
       "      <td>0.01643</td>\n",
       "      <td>148.7</td>\n",
       "      <td>-12.00</td>\n",
       "    </tr>\n",
       "    <tr>\n",
       "      <th>18</th>\n",
       "      <td>85181.0</td>\n",
       "      <td>15.32</td>\n",
       "      <td>0.153</td>\n",
       "      <td>0.01935</td>\n",
       "      <td>43.48</td>\n",
       "      <td>0.02158</td>\n",
       "      <td>148.7</td>\n",
       "      <td>-21.52</td>\n",
       "    </tr>\n",
       "    <tr>\n",
       "      <th>19</th>\n",
       "      <td>44996.0</td>\n",
       "      <td>7.96</td>\n",
       "      <td>0.080</td>\n",
       "      <td>0.04048</td>\n",
       "      <td>43.48</td>\n",
       "      <td>0.04134</td>\n",
       "      <td>148.7</td>\n",
       "      <td>-20.01</td>\n",
       "    </tr>\n",
       "    <tr>\n",
       "      <th>20</th>\n",
       "      <td>0.0</td>\n",
       "      <td>1.93</td>\n",
       "      <td>0.019</td>\n",
       "      <td>0.17782</td>\n",
       "      <td>43.48</td>\n",
       "      <td>0.16492</td>\n",
       "      <td>148.7</td>\n",
       "      <td>-30.78</td>\n",
       "    </tr>\n",
       "  </tbody>\n",
       "</table>\n",
       "</div>"
      ],
      "text/plain": [
       "          Md      x    x/d    eps,s  sigma,s    eps,p  sigma,p     As\n",
       "0        0.0   1.93  0.019  0.17782    43.48  0.16492    148.7 -30.78\n",
       "1    44996.0   7.96  0.080  0.04048    43.48  0.04134    148.7 -20.01\n",
       "2    85181.0  15.32  0.153  0.01935    43.48  0.02158    148.7 -21.52\n",
       "3   120642.0  20.65  0.206  0.01345    43.48  0.01643    148.7 -12.00\n",
       "4   151433.0  25.51  0.255  0.01022    43.48  0.01363    148.7  -3.31\n",
       "5   177482.0  29.81  0.298  0.00824    43.48  0.01190    148.7   4.38\n",
       "6   198755.0  33.48  0.335  0.00695    43.48  0.01080    148.7  10.94\n",
       "7   215305.0  36.44  0.364  0.00611    43.48  0.01006    148.7  16.23\n",
       "8   227149.0  38.61  0.386  0.00556    43.48  0.00960    148.7  20.10\n",
       "9   234252.0  39.95  0.400  0.00526    43.48  0.00933    148.7  22.50\n",
       "10  236614.0  40.39  0.404  0.00516    43.48  0.00925    148.7  23.29\n",
       "11  234252.0  39.95  0.400  0.00526    43.48  0.00933    148.7  22.50\n",
       "12  227149.0  38.61  0.386  0.00556    43.48  0.00960    148.7  20.10\n",
       "13  215305.0  36.44  0.364  0.00611    43.48  0.01006    148.7  16.23\n",
       "14  198755.0  33.48  0.335  0.00695    43.48  0.01080    148.7  10.94\n",
       "15  177482.0  29.81  0.298  0.00824    43.48  0.01190    148.7   4.38\n",
       "16  151433.0  25.51  0.255  0.01022    43.48  0.01363    148.7  -3.31\n",
       "17  120642.0  20.65  0.206  0.01345    43.48  0.01643    148.7 -12.00\n",
       "18   85181.0  15.32  0.153  0.01935    43.48  0.02158    148.7 -21.52\n",
       "19   44996.0   7.96  0.080  0.04048    43.48  0.04134    148.7 -20.01\n",
       "20       0.0   1.93  0.019  0.17782    43.48  0.16492    148.7 -30.78"
      ]
     },
     "metadata": {},
     "output_type": "display_data"
    }
   ],
   "source": [
    "d_p = np.zeros_like(e_p_i) \n",
    "A_s = np.zeros([nS,8])\n",
    "\n",
    "d_p = e_p_i + h/2  # braço de alavanca da armadura ativa\n",
    "d_s = h-5          # braço de alavanca da armadura passiva\n",
    "\n",
    "for i in range(nS):\n",
    "    for j in range(e_p_i.size-1,-1,-1):\n",
    "        if(relax[i,1] >= x1_anc[j] and relax[i,1] <= x2_anc[j]):\n",
    "            sigma_pm = sigma_p[j]\n",
    "            Npm = N_p[j]\n",
    "            Mpm = M_p[j]\n",
    "            Wcpm = W_cp[j]\n",
    "            A_pm = A_p[j]\n",
    "            d_sm = d_s\n",
    "            d_pm = d_p[j]\n",
    "            break\n",
    "    Md = esforcos[i,1]*1.4\n",
    "    retorno = linha_neutra_cp_ret(b,h,f_c,A_pm,prealong[i,4],d_pm,d_sm,Md)\n",
    "    A_s[i,0] = int(Md)\n",
    "    A_s[i,1] = retorno[0]\n",
    "    A_s[i,2] = round(retorno[0]/d_sm,3)\n",
    "    A_s[i,3] = retorno[2]\n",
    "    A_s[i,5] = retorno[1]\n",
    "    A_s[i,4] = retorno[4]\n",
    "    A_s[i,6] = retorno[5]\n",
    "    A_s[i,7] = round((0.8*b*f_c*retorno[0]-retorno[3])/retorno[4],2)\n",
    "\n",
    "tabela8 = pd.DataFrame(A_s)\n",
    "tabela8.rename(columns={0:'Md', 1:'x',2:'x/d',3:'eps,s',4:'sigma,s',5:'eps,p',6:'sigma,p',7:'As'},inplace = True)\n",
    "display(tabela8)"
   ]
  },
  {
   "cell_type": "markdown",
   "id": "65c38f65",
   "metadata": {},
   "source": [
    "# Dimensionamento ao Esforço Cortante:\n",
    "\n",
    "## Verificação da Diagonal Comprimida:"
   ]
  },
  {
   "cell_type": "code",
   "execution_count": 49,
   "id": "ae08011f",
   "metadata": {},
   "outputs": [
    {
     "data": {
      "text/latex": [
       "\\[\n",
       "\\begin{aligned}\n",
       "V_{d} &= V_{F} \\cdot 1.4  = 669.752 \\cdot 1.4 &= 937.653  \n",
       "\\\\[10pt]\n",
       "\\tau_{wd} &= \\frac{ V_{d} }{ \\left( b - e_{eps} \\right) \\cdot d_{sm} }  = \\frac{ 937.653 }{ \\left( 40 - 0 \\right) \\cdot 100 } &= 0.234  \n",
       "\\\\[10pt]\n",
       "\\tau_{wu} &= 0.27 \\cdot \\left( 1 - \\frac{ f_{ck} }{ 25 } \\right) \\cdot \\frac{ f_{ck} }{ 1.4 }  = 0.27 \\cdot \\left( 1 - \\frac{ 4 }{ 25 } \\right) \\cdot \\frac{ 4 }{ 1.4 } &= 0.648  \n",
       "\\end{aligned}\n",
       "\\]"
      ],
      "text/plain": [
       "<IPython.core.display.Latex object>"
      ]
     },
     "metadata": {},
     "output_type": "display_data"
    }
   ],
   "source": [
    "%%render\n",
    "\n",
    "V_d = V_F * 1.4\n",
    "tau_wd = V_d/((b-e_eps)*d_sm)\n",
    "tau_wu = 0.27*(1-f_ck/25)*f_ck/1.4\n"
   ]
  },
  {
   "cell_type": "code",
   "execution_count": 50,
   "id": "4ef95e8c",
   "metadata": {},
   "outputs": [
    {
     "name": "stdout",
     "output_type": "stream",
     "text": [
      "Tensão da biela: 36.17%\n"
     ]
    }
   ],
   "source": [
    "print(\"Tensão da biela: {0:.2f}%\".format(tau_wd/tau_wu*100))\n",
    "\n",
    "if(tau_wd/tau_wu>1.0):\n",
    "    raise Exception(\"ERRO: ESMAGAMENTO DA BIELA COMPRIMIDA!\")    "
   ]
  },
  {
   "cell_type": "markdown",
   "id": "c19e4cee",
   "metadata": {},
   "source": [
    "## Cálculo da Armadura de Corte:\n",
    "\n",
    "### Armadura Mínima:"
   ]
  },
  {
   "cell_type": "code",
   "execution_count": 51,
   "id": "22d38c73",
   "metadata": {},
   "outputs": [
    {
     "data": {
      "text/latex": [
       "\\[\n",
       "\\begin{aligned}\n",
       "\\rho_{min} &= 0.2 \\cdot \\frac{ f_{ctm} }{ f_{yk} }  = 0.2 \\cdot \\frac{ 0.351 }{ 50 } &= 0.001  \n",
       "\\\\[10pt]\n",
       "A_{sws} &= \\rho_{min} \\cdot b  = 0.001 \\cdot 40 &= 0.056  \n",
       "\\\\[10pt]\n",
       "s &= 10 \\; \n",
       "\\\\[10pt]\n",
       "A_{sw_{min}} &= A_{sws} \\cdot s  = 0.056 \\cdot 10 &= 0.561  \n",
       "\\\\[10pt]\n",
       "\\mathrm{nr} &= 2 \\; \n",
       "\\\\[10pt]\n",
       "\\phi_{min} &= 2 \\cdot \\left( \\frac{ A_{sw_{min}} }{ \\pi \\cdot \\mathrm{nr} } \\right) ^{ 0.5 }  = 2 \\cdot \\left( \\frac{ 0.561 }{ 3.142 \\cdot 2 } \\right) ^{ 0.5 } &= 0.598  \n",
       "\\end{aligned}\n",
       "\\]"
      ],
      "text/plain": [
       "<IPython.core.display.Latex object>"
      ]
     },
     "metadata": {},
     "output_type": "display_data"
    }
   ],
   "source": [
    "%%render short\n",
    "\n",
    "rho_min = 0.2*f_ctm/f_yk\n",
    "A_sws = rho_min*b\n",
    "\n",
    "s = 10\n",
    "\n",
    "A_sw_min = A_sws*s\n",
    "\n",
    "nr = 2\n",
    "\n",
    "phi_min = 2*(A_sw_min/(pi*nr))**0.5\n"
   ]
  },
  {
   "cell_type": "markdown",
   "id": "d12af5a7",
   "metadata": {},
   "source": [
    "### Armadura Calculada:"
   ]
  },
  {
   "cell_type": "code",
   "execution_count": 53,
   "id": "6b0fc121",
   "metadata": {},
   "outputs": [],
   "source": [
    "i = int((nS+1)/2)\n",
    "M_pf = prealong[i,1]\n",
    "N_pf = prealong[i,0]"
   ]
  },
  {
   "cell_type": "code",
   "execution_count": 54,
   "id": "c82568dd",
   "metadata": {},
   "outputs": [
    {
     "data": {
      "text/latex": [
       "\\[\n",
       "\\begin{aligned}\n",
       "\\sigma_{ciF} &= \\frac{ N_{pf} }{ A_{c} } + \\frac{ M_{pf} }{ W_{i} }  = \\frac{ -1562.41400 }{ 4200 } + \\frac{ -54684.49000 }{ 72669.49153 } &= -1.12451  \n",
       "\\\\[10pt]\n",
       "M_{0} &= \\left( - \\sigma_{ciF} \\right) \\cdot W_{i}  = \\left( - -1.12451 \\right) \\cdot 72669.49153 &= 81717.78308  \n",
       "\\\\[10pt]\n",
       "M_{d_{max}} &= 1.4 \\cdot M_{F}  = 1.4 \\cdot 169010.15625 &= 236614.21875  \n",
       "\\\\[10pt]\n",
       "V_{c0} &= 0.6 \\cdot f_{ctd} \\cdot b \\cdot d_{sm}  = 0.6 \\cdot 0.13831 \\cdot 40 \\cdot 100 &= 331.95141  \n",
       "\\\\[10pt]\n",
       "V_{c} &= \\left( 1 + \\frac{ M_{0} }{ M_{d_{max}} } \\right) \\cdot V_{c0}  = \\left( 1 + \\frac{ 81717.78308 }{ 236614.21875 } \\right) \\cdot 331.95141 &= 446.59513  \n",
       "\\\\[10pt]\n",
       "V_{sw} &= 1.4 \\cdot V_{F} - V_{c}  = 1.4 \\cdot 669.75187 - 446.59513 &= 491.05749  \n",
       "\\\\[10pt]\n",
       "A_{sws1} &= \\frac{ V_{sw} }{ 0.9 \\cdot d_{sm} \\cdot f_{yd} }  = \\frac{ 491.05749 }{ 0.9 \\cdot 100 \\cdot 43.47826 } &= 0.12549  \n",
       "\\\\[10pt]\n",
       "s &= 10 \\; \n",
       "\\\\[10pt]\n",
       "A_{sws} &= A_{sws1} \\cdot s  = 0.12549 \\cdot 10 &= 1.25492  \n",
       "\\\\[10pt]\n",
       "\\mathrm{nr} &= 2 \\; \n",
       "\\\\[10pt]\n",
       "\\phi_{calc} &= 2 \\cdot \\left( \\frac{ A_{sws} }{ \\pi \\cdot \\mathrm{nr} } \\right) ^{ 0.5 }  = 2 \\cdot \\left( \\frac{ 1.25492 }{ 3.14159 \\cdot 2 } \\right) ^{ 0.5 } &= 0.89382  \n",
       "\\end{aligned}\n",
       "\\]"
      ],
      "text/plain": [
       "<IPython.core.display.Latex object>"
      ]
     },
     "metadata": {},
     "output_type": "display_data"
    }
   ],
   "source": [
    "%%render 5\n",
    "\n",
    "sigma_ciF = N_pf/A_c + M_pf/W_i\n",
    "M_0 = -sigma_ciF*W_i\n",
    "M_d_max = 1.4*M_F\n",
    "\n",
    "V_c0 = 0.6*f_ctd*b*d_sm\n",
    "V_c = (1+M_0/M_d_max)*V_c0\n",
    "\n",
    "V_sw = 1.4*V_F - V_c\n",
    "\n",
    "A_sws1 = V_sw/(0.9*d_sm*f_yd)\n",
    "\n",
    "s = 10\n",
    "\n",
    "A_sws = A_sws1*s\n",
    "\n",
    "nr = 2\n",
    "phi_calc = 2*(A_sws/(pi*nr))**0.5"
   ]
  },
  {
   "cell_type": "markdown",
   "id": "cb07b5ff",
   "metadata": {},
   "source": [
    "## Armadura de Introdução da Força de Protensão:"
   ]
  },
  {
   "cell_type": "code",
   "execution_count": 55,
   "id": "6fc6c7de",
   "metadata": {},
   "outputs": [],
   "source": [
    "# VERIFICAR SE ESTA É MESMO A FORÇA DE PROTENSÃO INSERIDA NO APOIO\n",
    "\n",
    "N_p1 = -N_p[0]"
   ]
  },
  {
   "cell_type": "code",
   "execution_count": 56,
   "id": "b7590313",
   "metadata": {},
   "outputs": [
    {
     "data": {
      "text/latex": [
       "\\[\n",
       "\\begin{aligned}\n",
       "A_{swi} &= \\frac{ 0.25 \\cdot N_{p1} }{ 25.00 }  = \\frac{ 0.25 \\cdot 1453.452 }{ 25.00 } &= 14.535  \n",
       "\\end{aligned}\n",
       "\\]"
      ],
      "text/plain": [
       "<IPython.core.display.Latex object>"
      ]
     },
     "metadata": {},
     "output_type": "display_data"
    }
   ],
   "source": [
    "%%render\n",
    "\n",
    "A_swi = (0.25*N_p1)/25.00"
   ]
  },
  {
   "cell_type": "markdown",
   "id": "fd785673",
   "metadata": {},
   "source": [
    "Esta armadura deve ser distribuída num trecho equivalente à 70% do comprimento de regularização."
   ]
  },
  {
   "cell_type": "code",
   "execution_count": 57,
   "id": "f6602312",
   "metadata": {
    "scrolled": true
   },
   "outputs": [
    {
     "data": {
      "text/latex": [
       "\\[\n",
       "\\begin{aligned}\n",
       "l_{d} &= l_{p} \\cdot 0.7  = 132.735 \\cdot 0.7 &= 92.914  \n",
       "\\end{aligned}\n",
       "\\]"
      ],
      "text/plain": [
       "<IPython.core.display.Latex object>"
      ]
     },
     "metadata": {},
     "output_type": "display_data"
    }
   ],
   "source": [
    "%%render\n",
    "\n",
    "l_d = l_p*0.7"
   ]
  },
  {
   "cell_type": "markdown",
   "id": "38071ce5",
   "metadata": {},
   "source": [
    "# Cálculo da Flecha:"
   ]
  },
  {
   "cell_type": "code",
   "execution_count": 81,
   "id": "d8fcf512",
   "metadata": {},
   "outputs": [
    {
     "data": {
      "text/html": [
       "<div>\n",
       "<style scoped>\n",
       "    .dataframe tbody tr th:only-of-type {\n",
       "        vertical-align: middle;\n",
       "    }\n",
       "\n",
       "    .dataframe tbody tr th {\n",
       "        vertical-align: top;\n",
       "    }\n",
       "\n",
       "    .dataframe thead th {\n",
       "        text-align: right;\n",
       "    }\n",
       "</style>\n",
       "<table border=\"1\" class=\"dataframe\">\n",
       "  <thead>\n",
       "    <tr style=\"text-align: right;\">\n",
       "      <th></th>\n",
       "      <th>Ap</th>\n",
       "      <th>b</th>\n",
       "      <th>Delta</th>\n",
       "    </tr>\n",
       "  </thead>\n",
       "  <tbody>\n",
       "    <tr>\n",
       "      <th>0</th>\n",
       "      <td>10.01</td>\n",
       "      <td>0.0</td>\n",
       "      <td>-0.64</td>\n",
       "    </tr>\n",
       "    <tr>\n",
       "      <th>1</th>\n",
       "      <td>4.29</td>\n",
       "      <td>154.1</td>\n",
       "      <td>-0.09</td>\n",
       "    </tr>\n",
       "  </tbody>\n",
       "</table>\n",
       "</div>"
      ],
      "text/plain": [
       "      Ap      b  Delta\n",
       "0  10.01    0.0  -0.64\n",
       "1   4.29  154.1  -0.09"
      ]
     },
     "metadata": {},
     "output_type": "display_data"
    }
   ],
   "source": [
    "delta_p = np.zeros((e_p_i.size,3))\n",
    "\n",
    "delta_pF = 0\n",
    "\n",
    "delta_p[:,0] = A_p\n",
    "delta_p[:,1] = x1_anc\n",
    "\n",
    "\n",
    "for i in range(qntCordoalhas.size):\n",
    "    if(i != 0):\n",
    "        delta_p[i,0] = delta_p[i,0] - delta_p[i-1,0]\n",
    "        Momen = M_p[i] - M_p[i-1]\n",
    "    else:\n",
    "        Momen = M_p[i]\n",
    "        \n",
    "    if(delta_p[i,1] == 0):\n",
    "        delta_p[i,2] = round(Momen*Vao**2/(8*E_cs*I_c),2)\n",
    "    else:\n",
    "        delta_p[i,1] = round((x1_anc[i]+x1[i])/2,1)\n",
    "        delta_p[i,2] = round( (Momen*(Vao**2-3*delta_p[i,1]**2-(Vao/2)**2)*(Vao/2))\n",
    "                             /(6*E_cs*I_c*Vao) ,2)\n",
    "    delta_pF += delta_p[i,2]\n",
    "\n",
    "\n",
    "\n",
    "tabela9 = pd.DataFrame(delta_p)\n",
    "tabela9.rename(columns={0:'Ap',1:'b',2:'Delta'},inplace = True)\n",
    "display(tabela9)\n",
    "\n",
    "N_pp = N_p[len(qntCordoalhas)-1]\n",
    "M_pp = M_p[len(qntCordoalhas)-1]\n",
    "\n",
    "if (delta_p[0][0]) < 0:\n",
    "    raise Exception(\"ERRO\")"
   ]
  },
  {
   "cell_type": "code",
   "execution_count": 82,
   "id": "c1cb52f5",
   "metadata": {
    "scrolled": true
   },
   "outputs": [
    {
     "data": {
      "text/latex": [
       "\\[\n",
       "\\begin{aligned}\n",
       "\\delta_{pF} &= -0.730 \\; \n",
       "\\end{aligned}\n",
       "\\]"
      ],
      "text/plain": [
       "<IPython.core.display.Latex object>"
      ]
     },
     "metadata": {},
     "output_type": "display_data"
    }
   ],
   "source": [
    "%%render\n",
    "delta_pF"
   ]
  },
  {
   "cell_type": "markdown",
   "id": "c72cbb4d",
   "metadata": {},
   "source": [
    "## Momento de Fissuração:\n"
   ]
  },
  {
   "cell_type": "code",
   "execution_count": 83,
   "id": "3090e247",
   "metadata": {
    "scrolled": true
   },
   "outputs": [
    {
     "data": {
      "text/latex": [
       "\\[\n",
       "\\begin{aligned}\n",
       "\\alpha_{t} &= 1.20 \\; \n",
       "\\\\[10pt]\n",
       "M_{r} &= \\left( \\alpha_{t} \\cdot 0.7 \\cdot f_{ctm} - \\frac{ N_{pp} }{ A_{c} } \\right) \\cdot \\frac{ I_{c} }{ y_{i} } - M_{pp} \\\\&= \\left( 1.20 \\cdot 0.7 \\cdot 0.35 - \\frac{ -2047.47 }{ 4200 } \\right) \\cdot \\frac{ 3858750.00 }{ 53.10 } - -71661.59 \\\\&= 128506.19  \\\\[10pt]\n",
       "\\end{aligned}\n",
       "\\]"
      ],
      "text/plain": [
       "<IPython.core.display.Latex object>"
      ]
     },
     "metadata": {},
     "output_type": "display_data"
    }
   ],
   "source": [
    "%%render 2\n",
    "\n",
    "# COEFICIENTE ALPHA T:\n",
    "# alpha_t = 1.2 para seções T ou duplo T\n",
    "# alpha_t = 1.3 para seções I ou T invertido\n",
    "# alpha_t = 1.5 para seções retangulares\n",
    "\n",
    "alpha_t = 1.2\n",
    "\n",
    "M_r = (alpha_t*0.7*f_ctm - N_pp/A_c)* I_c / y_i - M_pp"
   ]
  },
  {
   "cell_type": "markdown",
   "id": "8716dea3",
   "metadata": {},
   "source": [
    "## Inércia no Estádio II:"
   ]
  },
  {
   "cell_type": "code",
   "execution_count": 84,
   "id": "53760de1",
   "metadata": {
    "scrolled": true
   },
   "outputs": [
    {
     "name": "stdout",
     "output_type": "stream",
     "text": [
      "Altura da linha neutra: 67.48 cm\n",
      "Inércia da seção no estádio II: 3858750 cm⁴\n"
     ]
    }
   ],
   "source": [
    "## CALCULOS VALIDOS SOMENTE PARA SEÇÕES RETANGULARES:\n",
    "\n",
    "alpha_s = E_s/E_cs\n",
    "alpha_p = E_p/E_cs\n",
    "As_II = A_s[int((nS-1)/2),7]\n",
    "Ap_II = A_p[-1]\n",
    "dp_II = d_p[-1]\n",
    "ds_II = d_s\n",
    "\n",
    "I_xc = lambda x: b*x**3/3\n",
    "I_2 = lambda x: I_xc(x) + alpha_s*As_II*(ds_II-x)**2 + alpha_p*Ap_II*(dp_II-x)**2\n",
    "S_x = lambda x: b*x**2/2\n",
    "PN = prealong[int((nS-1)/2),3]*A_p[-1]\n",
    "\n",
    "equacao = lambda x: I_2(x)/(S_x(x) - alpha_s*As_II*(ds_II-x) - alpha_p*Ap_II*(dp_II-x) ) - (M_ELS-PN*(dp_II-x))/PN\n",
    "X_LN = fsolve(equacao,[h/2])[0]\n",
    "I_II = I_2(X_LN)\n",
    "\n",
    "if (I_II > I_c):\n",
    "    I_II = I_c\n",
    "    \n",
    "print(\"Altura da linha neutra: {0:.2f} cm\".format(X_LN))\n",
    "print(\"Inércia da seção no estádio II: {0:.0f} cm⁴\".format(I_II))"
   ]
  },
  {
   "cell_type": "markdown",
   "id": "814e1a05",
   "metadata": {},
   "source": [
    "## Inércia Equivalente:"
   ]
  },
  {
   "cell_type": "code",
   "execution_count": 85,
   "id": "47935787",
   "metadata": {},
   "outputs": [
    {
     "data": {
      "text/latex": [
       "\\[\n",
       "\\begin{aligned}\n",
       "I_{eq} &= \\left( \\frac{ M_{r} }{ M_{ELS} } \\right) ^{ 3 } \\cdot I_{c} + \\left( 1 - \\left( \\frac{ M_{r} }{ M_{ELS} } \\right) ^{ 3 } \\right) \\cdot I_{II} \\\\&= \\left( \\frac{ 128506.195 }{ 116443.664 } \\right) ^{ 3 } \\cdot 3858750.000 + \\left( 1 - \\left( \\frac{ 128506.195 }{ 116443.664 } \\right) ^{ 3 } \\right) \\cdot 3858750.000 \\\\&= 3858750.000  \\\\[10pt]\n",
       "\\\\[10pt]\n",
       "&\\text{Since, } M_{ELS} \\lt M_{r} \\rightarrow \\left( 116443.664 \\lt 128506.195 \\right) :   \\\\[10pt]\n",
       "\\\\[10pt]\n",
       "I_{eq} &= 3858750.000 \\; \n",
       "\\end{aligned}\n",
       "\\]"
      ],
      "text/plain": [
       "<IPython.core.display.Latex object>"
      ]
     },
     "metadata": {},
     "output_type": "display_data"
    }
   ],
   "source": [
    "%%render\n",
    "\n",
    "if (M_ELS > M_r):\n",
    "    I_eq = (M_r/M_ELS)**3*I_c + (1-(M_r/M_ELS)**3)*I_II\n",
    "\n",
    "if (M_ELS < M_r):\n",
    "    I_eq = I_c"
   ]
  },
  {
   "cell_type": "markdown",
   "id": "a422d633",
   "metadata": {},
   "source": [
    "## Flecha Diferida Final:"
   ]
  },
  {
   "cell_type": "code",
   "execution_count": 86,
   "id": "2ac91f5c",
   "metadata": {
    "scrolled": true
   },
   "outputs": [
    {
     "data": {
      "text/latex": [
       "\\[\n",
       "\\begin{aligned}\n",
       "\\delta_{i} &= \\left( \\delta_{pF} + \\frac{ 5 }{ 384 } \\cdot \\frac{ Q_{ELS} \\cdot \\left( \\mathrm{Vao} \\right) ^{ 4 } }{ E_{cs} \\cdot I_{eq} } \\right) \\cdot \\left( 1 + \\phi_{t} \\right) \\\\&= \\left( -0.73 + \\frac{ 5 }{ 384 } \\cdot \\frac{ 0.81 \\cdot \\left( 1075 \\right) ^{ 4 } }{ 3187.58 \\cdot 3858750.00 } \\right) \\cdot \\left( 1 + 3.36 \\right) \\\\&= 1.79  \\\\[10pt]\n",
       "\\end{aligned}\n",
       "\\]"
      ],
      "text/plain": [
       "<IPython.core.display.Latex object>"
      ]
     },
     "metadata": {},
     "output_type": "display_data"
    }
   ],
   "source": [
    "%%render 2\n",
    "\n",
    "delta_i = (delta_pF + 5/384*(Q_ELS*Vao**4)/(E_cs*I_eq))*(1+phi_t)"
   ]
  }
 ],
 "metadata": {
  "kernelspec": {
   "display_name": "Python 3 (ipykernel)",
   "language": "python",
   "name": "python3"
  },
  "language_info": {
   "codemirror_mode": {
    "name": "ipython",
    "version": 3
   },
   "file_extension": ".py",
   "mimetype": "text/x-python",
   "name": "python",
   "nbconvert_exporter": "python",
   "pygments_lexer": "ipython3",
   "version": "3.9.13"
  }
 },
 "nbformat": 4,
 "nbformat_minor": 5
}
