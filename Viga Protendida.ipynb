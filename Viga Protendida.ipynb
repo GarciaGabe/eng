{
 "cells": [
  {
   "cell_type": "markdown",
   "id": "b6224006",
   "metadata": {
    "tags": []
   },
   "source": [
    "# CÁLCULO DE VIGA PROTENDIDA - V1021\n",
    "\n",
    "**OBRA:** Maltaria Campos Gerais\n",
    "\n",
    "**Cliente:** Agrária/Viero\n",
    "\n",
    "**Data:** 14/11/2022\n",
    "\n",
    "**Cálculo:** Gabriel Garcia\n",
    "\n",
    "<img src=\"img/logoRS.jpg\" alt=\"RS Engenharia & Arquitetura\" width=\"200px\"/>\n",
    "\n",
    "Todas as grandezas apresentadas possuem como unidades base kN [força] e cm [comprimento]."
   ]
  },
  {
   "cell_type": "code",
   "execution_count": 1,
   "id": "36ead105",
   "metadata": {},
   "outputs": [],
   "source": [
    "import handcalcs.render\n",
    "import pandas as pd\n",
    "from math import floor,ceil,sqrt,exp\n",
    "from numpy import log\n",
    "from ggcp import calcpsi, linha_neutra_cp_ret\n",
    "    \n",
    "pi = 3.141592653"
   ]
  },
  {
   "cell_type": "markdown",
   "id": "0827d7c6",
   "metadata": {
    "tags": []
   },
   "source": [
    "# Informações Iniciais:\n",
    "\n",
    "## Definição do EPS:"
   ]
  },
  {
   "cell_type": "code",
   "execution_count": 2,
   "id": "63f0a404",
   "metadata": {},
   "outputs": [
    {
     "data": {
      "text/latex": [
       "\\[\n",
       "\\begin{aligned}\n",
       "h_{eps} &= 0 \\; \n",
       "\\\\[10pt]\n",
       "e_{eps} &= 0 \\; \n",
       "\\end{aligned}\n",
       "\\]"
      ],
      "text/plain": [
       "<IPython.core.display.Latex object>"
      ]
     },
     "metadata": {},
     "output_type": "display_data"
    }
   ],
   "source": [
    "%%render\n",
    "\n",
    "h_eps = 0\n",
    "e_eps = 0"
   ]
  },
  {
   "cell_type": "markdown",
   "id": "dc46086c",
   "metadata": {},
   "source": [
    "## Geometria da Viga:"
   ]
  },
  {
   "cell_type": "code",
   "execution_count": 3,
   "id": "9ae2ffd6",
   "metadata": {},
   "outputs": [
    {
     "data": {
      "text/latex": [
       "\\[\n",
       "\\begin{aligned}\n",
       "h &= 100 \\; \n",
       "\\\\[10pt]\n",
       "b &= 45 \\; \n",
       "\\\\[10pt]\n",
       "A_{c} &= b \\cdot h - e_{eps} \\cdot h_{eps}  = 45 \\cdot 100 - 0 \\cdot 0 &= 4500  \n",
       "\\\\[10pt]\n",
       "I_{c} &= \\left( b \\cdot \\frac{ \\left( h \\right) ^{ 3 } }{ 12 } - e_{eps} \\cdot \\frac{ \\left( h_{eps} \\right) ^{ 3 } }{ 12 } \\right) \\\\&= \\left( 45 \\cdot \\frac{ \\left( 100 \\right) ^{ 3 } }{ 12 } - 0 \\cdot \\frac{ \\left( 0 \\right) ^{ 3 } }{ 12 } \\right) \\\\&= 3750000.000  \\\\[10pt]\n",
       "\\\\[10pt]\n",
       "y_{t} &= \\frac{ h }{ 2 }  = \\frac{ 100 }{ 2 } &= 50.000  \n",
       "\\\\[10pt]\n",
       "y_{s} &= \\frac{ h }{ 2 }  = \\frac{ 100 }{ 2 } &= 50.000  \n",
       "\\\\[10pt]\n",
       "W_{i} &= \\frac{ I_{c} }{ y_{t} }  = \\frac{ 3750000.000 }{ 50.000 } &= 75000.000  \n",
       "\\\\[10pt]\n",
       "W_{s} &= \\frac{ I_{c} }{ y_{s} }  = \\frac{ 3750000.000 }{ 50.000 } &= 75000.000  \n",
       "\\\\[10pt]\n",
       "\\mathrm{Vao} &= 1330 \\; \n",
       "\\\\[10pt]\n",
       "& \\textrm{ Número de seções para dividir o vão:}\\\\[10pt]\n",
       "\\mathrm{nS} &= 21 \\; \n",
       "\\end{aligned}\n",
       "\\]"
      ],
      "text/plain": [
       "<IPython.core.display.Latex object>"
      ]
     },
     "metadata": {},
     "output_type": "display_data"
    }
   ],
   "source": [
    "%%render\n",
    "# Geometria da Viga:\n",
    "\n",
    "h = 100\n",
    "b = 45\n",
    "A_c = b*h - e_eps*h_eps\n",
    "I_c = (b*h**3/12 - e_eps*(h_eps**3)/12)\n",
    "y_t = h/2\n",
    "y_s = h/2\n",
    "W_i = I_c/(y_t)\n",
    "W_s = I_c/(y_s)\n",
    "\n",
    "Vao = 1330\n",
    "\n",
    "## Número de seções para dividir o vão:\n",
    "# Escolher número impar\n",
    "nS = 21"
   ]
  },
  {
   "cell_type": "markdown",
   "id": "14134ea3",
   "metadata": {},
   "source": [
    "## Propriedades dos Materiais:"
   ]
  },
  {
   "cell_type": "code",
   "execution_count": 4,
   "id": "a7d62aa8",
   "metadata": {},
   "outputs": [
    {
     "data": {
      "text/latex": [
       "\\[\n",
       "\\begin{aligned}\n",
       "f_{ck} &= 4 \\; \n",
       "\\\\[10pt]\n",
       "f_{ctm} &= 0.03 \\cdot \\left( 10 \\cdot f_{ck} \\right) ^{ \\left( \\frac{ 2 }{ 3 } \\right) }  = 0.03 \\cdot \\left( 10 \\cdot 4 \\right) ^{ \\left( \\frac{ 2 }{ 3 } \\right) } &= 0.351  \n",
       "\\\\[10pt]\n",
       "f_{ptk} &= 190 \\; \n",
       "\\\\[10pt]\n",
       "f_{pyd} &= 148.700 \\; \n",
       "\\\\[10pt]\n",
       "f_{yk} &= 50 \\; \n",
       "\\\\[10pt]\n",
       "f_{cj} &= 2.800 \\; \n",
       "\\\\[10pt]\n",
       "E_{s} &= 21000 \\; \n",
       "\\\\[10pt]\n",
       "E_{p} &= 20000 \\; \n",
       "\\end{aligned}\n",
       "\\]"
      ],
      "text/plain": [
       "<IPython.core.display.Latex object>"
      ]
     },
     "metadata": {},
     "output_type": "display_data"
    }
   ],
   "source": [
    "%%render\n",
    "# Propriedades dos Materiais:\n",
    "\n",
    "f_ck = 4\n",
    "f_ctm = 0.03*(10*f_ck)**(2/3)\n",
    "f_ptk = 190\n",
    "f_pyd = 148.7\n",
    "f_yk = 50\n",
    "f_cj = 2.8\n",
    "\n",
    "E_s = 21000\n",
    "E_p = 20000"
   ]
  },
  {
   "cell_type": "code",
   "execution_count": 5,
   "id": "3fecd76f",
   "metadata": {},
   "outputs": [
    {
     "data": {
      "text/latex": [
       "\\[\n",
       "\\begin{aligned}\n",
       "f_{c} &= f_{ck} \\cdot \\frac{ 0.85 }{ 1.4 }  = 4 \\cdot \\frac{ 0.85 }{ 1.4 } &= 2.43  \n",
       "\\\\[10pt]\n",
       "E_{ci} &= 560 \\cdot \\left( f_{ck} \\cdot 10 \\right) ^{ \\left( \\frac{ 1 }{ 2 } \\right) }  = 560 \\cdot \\left( 4 \\cdot 10 \\right) ^{ \\left( \\frac{ 1 }{ 2 } \\right) } &= 3541.75  \n",
       "\\\\[10pt]\n",
       "E_{cs} &= E_{ci} \\cdot \\left( 0.8 + 0.2 \\cdot \\frac{ f_{ck} }{ 8 } \\right)  = 3541.75 \\cdot \\left( 0.8 + 0.2 \\cdot \\frac{ 4 }{ 8 } \\right) &= 3187.58  \n",
       "\\\\[10pt]\n",
       "E_{cit0} &= \\left( \\frac{ f_{cj} }{ f_{ck} } \\right) ^{ \\left( \\frac{ 1 }{ 2 } \\right) } \\cdot E_{ci}  = \\left( \\frac{ 2.80 }{ 4 } \\right) ^{ \\left( \\frac{ 1 }{ 2 } \\right) } \\cdot 3541.75 &= 2963.24  \n",
       "\\\\[10pt]\n",
       "E_{cst0} &= E_{cit0} \\cdot \\left( 0.8 + 0.2 \\cdot \\frac{ f_{cj} }{ 8 } \\right)  = 2963.24 \\cdot \\left( 0.8 + 0.2 \\cdot \\frac{ 2.80 }{ 8 } \\right) &= 2578.02  \n",
       "\\\\[10pt]\n",
       "f_{yd} &= \\frac{ f_{yk} }{ 1.15 }  = \\frac{ 50 }{ 1.15 } &= 43.48  \n",
       "\\\\[10pt]\n",
       "\\sigma_{p0} &= 0.8 \\cdot f_{ptk}  = 0.8 \\cdot 190 &= 152.00  \n",
       "\\end{aligned}\n",
       "\\]"
      ],
      "text/plain": [
       "<IPython.core.display.Latex object>"
      ]
     },
     "metadata": {},
     "output_type": "display_data"
    }
   ],
   "source": [
    "%%render 2 short\n",
    "\n",
    "f_c = f_ck*0.85/1.4\n",
    "E_ci = 560*(f_ck*10)**(1/2)\n",
    "E_cs = E_ci*(0.8+0.2*f_ck/8)\n",
    "\n",
    "E_cit0 = (f_cj/f_ck)**(1/2)*E_ci\n",
    "E_cst0 = E_cit0*(0.8+0.2*f_cj/8)\n",
    "\n",
    "f_yd = f_yk/1.15\n",
    "sigma_p0 = 0.8*f_ptk"
   ]
  },
  {
   "cell_type": "markdown",
   "id": "3d992512",
   "metadata": {},
   "source": [
    "## Carregamentos:"
   ]
  },
  {
   "cell_type": "code",
   "execution_count": 6,
   "id": "d578be19",
   "metadata": {
    "scrolled": true
   },
   "outputs": [
    {
     "data": {
      "text/latex": [
       "\\[\n",
       "\\begin{aligned}\n",
       "Q_{t0} &= 0.000025 \\cdot A_{c}  = 0.000025 \\cdot 4500 &= 0.11  \n",
       "\\\\[10pt]\n",
       "Q_{tF} &= \\frac{ 56.64 }{ 100 } &= 0.57  \n",
       "\\end{aligned}\n",
       "\\]"
      ],
      "text/plain": [
       "<IPython.core.display.Latex object>"
      ]
     },
     "metadata": {},
     "output_type": "display_data"
    }
   ],
   "source": [
    "%%render 2 short\n",
    "\n",
    "Q_t0 = 0.000025*A_c\n",
    "Q_tF = 56.64/100"
   ]
  },
  {
   "cell_type": "markdown",
   "id": "c82c1fa3",
   "metadata": {},
   "source": [
    "## Esforços no Centro do Vão:"
   ]
  },
  {
   "cell_type": "code",
   "execution_count": 7,
   "id": "21d314b4",
   "metadata": {},
   "outputs": [
    {
     "data": {
      "text/latex": [
       "\\[\n",
       "\\begin{aligned}\n",
       "M_{F} &= Q_{tF} \\cdot \\left( \\mathrm{Vao} \\right) ^{ 2 } \\cdot 0.125  = 0.57 \\cdot \\left( 1330 \\right) ^{ 2 } \\cdot 0.125 &= 125238.12  \n",
       "\\\\[10pt]\n",
       "M_{0} &= Q_{t0} \\cdot \\left( \\mathrm{Vao} \\right) ^{ 2 } \\cdot 0.125  = 0.11 \\cdot \\left( 1330 \\right) ^{ 2 } \\cdot 0.125 &= 24875.16  \n",
       "\\\\[10pt]\n",
       "V_{F} &= Q_{tF} \\cdot \\frac{ \\mathrm{Vao} }{ 2 }  = 0.57 \\cdot \\frac{ 1330 }{ 2 } &= 376.66  \n",
       "\\end{aligned}\n",
       "\\]"
      ],
      "text/plain": [
       "<IPython.core.display.Latex object>"
      ]
     },
     "metadata": {},
     "output_type": "display_data"
    }
   ],
   "source": [
    "%%render 2 short\n",
    "M_F = (Q_tF)*Vao**2*0.125\n",
    "M_0 = (Q_t0)*Vao**2*0.125\n",
    "V_F = (Q_tF)*Vao/2"
   ]
  },
  {
   "cell_type": "markdown",
   "id": "9b0ada7b",
   "metadata": {},
   "source": [
    "# Deteminação da Força de Protensão:\n",
    "\n",
    "## Limites de Tensão:"
   ]
  },
  {
   "cell_type": "code",
   "execution_count": 8,
   "id": "9b94d2e4",
   "metadata": {
    "scrolled": true
   },
   "outputs": [
    {
     "data": {
      "text/latex": [
       "\\[\n",
       "\\begin{aligned}\n",
       "\\sigma_{ct0} &= \\left( - 1.2 \\right) \\cdot 0.03 \\cdot \\left( f_{cj} \\cdot 10 \\right) ^{ \\left( \\frac{ 2 }{ 3 } \\right) }  = \\left( - 1.2 \\right) \\cdot 0.03 \\cdot \\left( 2.800 \\cdot 10 \\right) ^{ \\left( \\frac{ 2 }{ 3 } \\right) } &= -0.332  \n",
       "\\\\[10pt]\n",
       "\\sigma_{cc0} &= 0.7 \\cdot f_{cj}  = 0.7 \\cdot 2.800 &= 1.960  \n",
       "\\\\[10pt]\n",
       "\\sigma_{ctF} &= \\left( - 1.2 \\right) \\cdot 0.03 \\cdot \\left( f_{ck} \\cdot 10 \\right) ^{ \\left( \\frac{ 2 }{ 3 } \\right) }  = \\left( - 1.2 \\right) \\cdot 0.03 \\cdot \\left( 4 \\cdot 10 \\right) ^{ \\left( \\frac{ 2 }{ 3 } \\right) } &= -0.421  \n",
       "\\\\[10pt]\n",
       "\\sigma_{ccF} &= 0.5 \\cdot f_{ck}  = 0.5 \\cdot 4 &= 2.000  \n",
       "\\\\[10pt]\n",
       "r_{0} &= 0.950 \\; \n",
       "\\\\[10pt]\n",
       "r_{F} &= 0.800 \\; \n",
       "\\end{aligned}\n",
       "\\]"
      ],
      "text/plain": [
       "<IPython.core.display.Latex object>"
      ]
     },
     "metadata": {},
     "output_type": "display_data"
    }
   ],
   "source": [
    "%%render short\n",
    "\n",
    "sigma_ct0 = -1.2*0.03*(f_cj*10)**(2/3)\n",
    "sigma_cc0 = 0.7*f_cj\n",
    "sigma_ctF = -1.2*0.03*(f_ck*10)**(2/3)\n",
    "sigma_ccF = 0.5*f_ck\n",
    "\n",
    "r_0 = 0.95\n",
    "r_F = 0.80"
   ]
  },
  {
   "cell_type": "markdown",
   "id": "01901b13",
   "metadata": {},
   "source": [
    "## Cálculo da Força de Protensão:"
   ]
  },
  {
   "cell_type": "code",
   "execution_count": 9,
   "id": "654ce266",
   "metadata": {},
   "outputs": [
    {
     "data": {
      "text/latex": [
       "\\[\n",
       "\\begin{aligned}\n",
       "e_{p} &= 40 \\; \n",
       "\\\\[10pt]\n",
       "P_{1} &= \\frac{ \\sigma_{cc0} + \\frac{ M_{0} }{ W_{i} } }{ r_{0} \\cdot \\left( \\frac{ 1 }{ A_{c} } + \\frac{ e_{p} }{ W_{i} } \\right) }  = \\frac{ 1.96 + \\frac{ 24875.16 }{ 75000.00 } }{ 0.95 \\cdot \\left( \\frac{ 1 }{ 4500 } + \\frac{ 40 }{ 75000.00 } \\right) } &= 3192.73  \n",
       "\\\\[10pt]\n",
       "P_{2} &= \\frac{ \\sigma_{ct0} - \\frac{ M_{0} }{ W_{s} } }{ r_{0} \\cdot \\left( \\frac{ 1 }{ A_{c} } - \\frac{ e_{p} }{ W_{s} } \\right) }  = \\frac{ -0.33 - \\frac{ 24875.16 }{ 75000.00 } }{ 0.95 \\cdot \\left( \\frac{ 1 }{ 4500 } - \\frac{ 40 }{ 75000.00 } \\right) } &= 2245.33  \n",
       "\\\\[10pt]\n",
       "P_{3} &= \\frac{ \\sigma_{ctF} + \\frac{ M_{F} }{ W_{i} } }{ r_{F} \\cdot \\left( \\frac{ 1 }{ A_{c} } + \\frac{ e_{p} }{ W_{i} } \\right) }  = \\frac{ -0.42 + \\frac{ 125238.12 }{ 75000.00 } }{ 0.80 \\cdot \\left( \\frac{ 1 }{ 4500 } + \\frac{ 40 }{ 75000.00 } \\right) } &= 2066.00  \n",
       "\\\\[10pt]\n",
       "P_{4} &= \\frac{ \\sigma_{ccF} - \\frac{ M_{F} }{ W_{s} } }{ r_{F} \\cdot \\left( \\frac{ 1 }{ A_{c} } - \\frac{ e_{p} }{ W_{s} } \\right) }  = \\frac{ 2.00 - \\frac{ 125238.12 }{ 75000.00 } }{ 0.80 \\cdot \\left( \\frac{ 1 }{ 4500 } - \\frac{ 40 }{ 75000.00 } \\right) } &= -1326.53  \n",
       "\\\\[10pt]\n",
       "& \\textrm{Adotar valores entre:}\\\\[10pt]\n",
       "P_{min} &= \\operatorname{max} { \\left( P_{3} ,\\  P_{4} \\right) }  = \\operatorname{max} { \\left( 2066.00 ,\\  -1326.53 \\right) } &= 2066.00  \n",
       "\\\\[10pt]\n",
       "P_{max} &= \\operatorname{min} { \\left( P_{1} ,\\  P_{2} \\right) }  = \\operatorname{min} { \\left( 3192.73 ,\\  2245.33 \\right) } &= 2245.33  \n",
       "\\end{aligned}\n",
       "\\]"
      ],
      "text/plain": [
       "<IPython.core.display.Latex object>"
      ]
     },
     "metadata": {},
     "output_type": "display_data"
    }
   ],
   "source": [
    "%%render short 2\n",
    "\n",
    "e_p = 40\n",
    "\n",
    "P_1 = (sigma_cc0+M_0/W_i)/(r_0*(1/A_c + e_p/W_i)) \n",
    "P_2 = (sigma_ct0-M_0/W_s)/(r_0*(1/A_c - e_p/W_s)) \n",
    "P_3 = (sigma_ctF+M_F/W_i)/(r_F*(1/A_c + e_p/W_i))\n",
    "P_4 = (sigma_ccF-M_F/W_s)/(r_F*(1/A_c - e_p/W_s))\n",
    "\n",
    "##Adotar valores entre:\n",
    "P_min = max(P_3, P_4)\n",
    "P_max = min(P_1, P_2)\n"
   ]
  },
  {
   "cell_type": "markdown",
   "id": "f125dec8",
   "metadata": {},
   "source": [
    "## Escolha da Protensão:"
   ]
  },
  {
   "cell_type": "code",
   "execution_count": 10,
   "id": "1643d970",
   "metadata": {},
   "outputs": [
    {
     "data": {
      "text/latex": [
       "\\[\n",
       "\\begin{aligned}\n",
       "P &= 2245.33 \\; \n",
       "\\\\[10pt]\n",
       "\\phi_{1} &= 1.52 \\; \n",
       "\\\\[10pt]\n",
       "A_{p1} &= 1.43 \\; \n",
       "\\\\[10pt]\n",
       "& \\textrm{ Número de cordoalhas para adotar:}\\\\[10pt]\n",
       "n &= \\left \\lfloor \\frac{ P }{ A_{p1} \\cdot \\sigma_{p0} } \\right \\rfloor  = \\left \\lfloor \\frac{ 2245.33 }{ 1.43 \\cdot 152.00 } \\right \\rfloor &= 10  \n",
       "\\end{aligned}\n",
       "\\]"
      ],
      "text/plain": [
       "<IPython.core.display.Latex object>"
      ]
     },
     "metadata": {},
     "output_type": "display_data"
    }
   ],
   "source": [
    "%%render 2\n",
    "# Força de Protensão Adotada:\n",
    "\n",
    "P = P_max\n",
    "phi_1 = 1.52\n",
    "A_p1 = 1.43\n",
    "\n",
    "## Número de cordoalhas para adotar:\n",
    "n = floor(P/(A_p1*sigma_p0))"
   ]
  },
  {
   "cell_type": "markdown",
   "id": "08fc61b2",
   "metadata": {},
   "source": [
    "## Ancoragem das Cordoalhas:\n",
    "\n",
    "### Comprimento de Ancoragem Básico:"
   ]
  },
  {
   "cell_type": "code",
   "execution_count": 11,
   "id": "20d2c7ff",
   "metadata": {},
   "outputs": [
    {
     "data": {
      "text/latex": [
       "\\[\n",
       "\\begin{aligned}\n",
       "f_{pyd} &= 0.9 \\cdot \\frac{ f_{ptk} }{ 1.15 }  = 0.9 \\cdot \\frac{ 190 }{ 1.15 } &= 148.696  \n",
       "\\\\[10pt]\n",
       "\\eta_{p1} &= 1.200 \\; \n",
       "\\\\[10pt]\n",
       "\\eta_{p2} &= 1.000 \\; \n",
       "\\\\[10pt]\n",
       "f_{ctd} &= \\frac{ 0.7 \\cdot 0.03 \\cdot \\left( f_{cj} \\cdot 10 \\right) ^{ \\left( \\frac{ 2 }{ 3 } \\right) } }{ 1.4 }  = \\frac{ 0.7 \\cdot 0.03 \\cdot \\left( 2.800 \\cdot 10 \\right) ^{ \\left( \\frac{ 2 }{ 3 } \\right) } }{ 1.4 } &= 0.138  \n",
       "\\\\[10pt]\n",
       "f_{bpd} &= \\eta_{p1} \\cdot \\eta_{p2} \\cdot f_{ctd}  = 1.200 \\cdot 1.000 \\cdot 0.138 &= 0.166  \n",
       "\\\\[10pt]\n",
       "l_{bp} &= \\frac{ 7 \\cdot \\phi_{1} }{ 36 } \\cdot \\frac{ f_{pyd} }{ f_{bpd} }  = \\frac{ 7 \\cdot 1.520 }{ 36 } \\cdot \\frac{ 148.696 }{ 0.166 } &= 264.785  \n",
       "\\end{aligned}\n",
       "\\]"
      ],
      "text/plain": [
       "<IPython.core.display.Latex object>"
      ]
     },
     "metadata": {},
     "output_type": "display_data"
    }
   ],
   "source": [
    "%%render short\n",
    "f_pyd = 0.9* f_ptk / 1.15\n",
    "\n",
    "eta_p1 = 1.2\n",
    "\n",
    "# Valores de Eta_p1:\n",
    "#     \n",
    "#     1.0 para fios lisos\n",
    "#     1.2 para cordoalhas de 3 e 7 fios\n",
    "#     1.5 para fios dentados\n",
    "\n",
    "eta_p2 = 1.0\n",
    "\n",
    "# Valores de Eta_p2:\n",
    "#     \n",
    "#     1.0 para situação de boa aderência\n",
    "#     0.7 para situação de má aderência\n",
    "\n",
    "f_ctd = (0.7*0.03*(f_cj*10)**(2/3))/1.4\n",
    "f_bpd = eta_p1 * eta_p2 * f_ctd\n",
    "\n",
    "l_bp = (7*phi_1)/36 * f_pyd/f_bpd"
   ]
  },
  {
   "cell_type": "markdown",
   "id": "a58b5804",
   "metadata": {},
   "source": [
    "### Cálculo do comprimento de Transferência:"
   ]
  },
  {
   "cell_type": "code",
   "execution_count": 12,
   "id": "d61ba68b",
   "metadata": {},
   "outputs": [
    {
     "data": {
      "text/latex": [
       "\\[\n",
       "\\begin{aligned}\n",
       "& \\textrm{ para fios lisos ou dentados:}\\\\[10pt]\n",
       "l_{bpt1} &= 0.7 \\cdot l_{bp} \\cdot \\frac{ \\sigma_{p0} }{ f_{pyd} }  = 0.7 \\cdot 264.785 \\cdot \\frac{ 152.000 }{ 148.696 } &= 189.468  \n",
       "\\\\[10pt]\n",
       "& \\textrm{ para cordoalhas de 3 e 7 fios:}\\\\[10pt]\n",
       "l_{bpt2} &= 0.5 \\cdot l_{bp} \\cdot \\frac{ \\sigma_{p0} }{ f_{pyd} }  = 0.5 \\cdot 264.785 \\cdot \\frac{ 152.000 }{ 148.696 } &= 135.334  \n",
       "\\\\[10pt]\n",
       "& \\textrm{ para transferência não gradual, os valores devem ser multiplicados por 1.25}\\\\[10pt]\n",
       "& \\textrm{ valor adotado:}\\\\[10pt]\n",
       "l_{bpt} &= 1.0 \\cdot l_{bpt2}  = 1.0 \\cdot 135.334 &= 135.334  \n",
       "\\\\[10pt]\n",
       "l_{p} &= \\left( \\left( h \\right) ^{ 2 } + \\left( 0.6 \\cdot l_{bpt} \\right) ^{ 2 } \\right) ^{ 0.5 }  = \\left( \\left( 100 \\right) ^{ 2 } + \\left( 0.6 \\cdot 135.334 \\right) ^{ 2 } \\right) ^{ 0.5 } &= 128.816  \n",
       "\\end{aligned}\n",
       "\\]"
      ],
      "text/plain": [
       "<IPython.core.display.Latex object>"
      ]
     },
     "metadata": {},
     "output_type": "display_data"
    }
   ],
   "source": [
    "%%render short\n",
    "\n",
    "## para fios lisos ou dentados:\n",
    "l_bpt1 = 0.7 * l_bp * sigma_p0/f_pyd\n",
    "\n",
    "## para cordoalhas de 3 e 7 fios:\n",
    "l_bpt2 = 0.5 * l_bp * sigma_p0/f_pyd\n",
    "\n",
    "## para transferência não gradual, os valores devem ser multiplicados por 1.25\n",
    "## valor adotado:\n",
    "\n",
    "l_bpt = 1.0 * l_bpt2\n",
    "\n",
    "l_p = (h**2 + (0.6*l_bpt)**2)**(0.5)\n"
   ]
  },
  {
   "cell_type": "markdown",
   "id": "9db35554",
   "metadata": {},
   "source": [
    "#  Esforços nas Seções:\n",
    "\n",
    "## Momento Fletor e Cortante:"
   ]
  },
  {
   "cell_type": "code",
   "execution_count": 13,
   "id": "e615317a",
   "metadata": {},
   "outputs": [
    {
     "data": {
      "text/html": [
       "<div>\n",
       "<style scoped>\n",
       "    .dataframe tbody tr th:only-of-type {\n",
       "        vertical-align: middle;\n",
       "    }\n",
       "\n",
       "    .dataframe tbody tr th {\n",
       "        vertical-align: top;\n",
       "    }\n",
       "\n",
       "    .dataframe thead th {\n",
       "        text-align: right;\n",
       "    }\n",
       "</style>\n",
       "<table border=\"1\" class=\"dataframe\">\n",
       "  <thead>\n",
       "    <tr style=\"text-align: right;\">\n",
       "      <th></th>\n",
       "      <th>Pos (cm)</th>\n",
       "      <th>M (kNcm)</th>\n",
       "      <th>V (kN)</th>\n",
       "    </tr>\n",
       "  </thead>\n",
       "  <tbody>\n",
       "    <tr>\n",
       "      <th>0</th>\n",
       "      <td>0.0</td>\n",
       "      <td>0.0</td>\n",
       "      <td>376.7</td>\n",
       "    </tr>\n",
       "    <tr>\n",
       "      <th>1</th>\n",
       "      <td>66.5</td>\n",
       "      <td>23795.2</td>\n",
       "      <td>339.0</td>\n",
       "    </tr>\n",
       "    <tr>\n",
       "      <th>2</th>\n",
       "      <td>133.0</td>\n",
       "      <td>45085.7</td>\n",
       "      <td>301.3</td>\n",
       "    </tr>\n",
       "    <tr>\n",
       "      <th>3</th>\n",
       "      <td>199.5</td>\n",
       "      <td>63871.4</td>\n",
       "      <td>263.7</td>\n",
       "    </tr>\n",
       "    <tr>\n",
       "      <th>4</th>\n",
       "      <td>266.0</td>\n",
       "      <td>80152.4</td>\n",
       "      <td>226.0</td>\n",
       "    </tr>\n",
       "    <tr>\n",
       "      <th>5</th>\n",
       "      <td>332.5</td>\n",
       "      <td>93928.6</td>\n",
       "      <td>188.3</td>\n",
       "    </tr>\n",
       "    <tr>\n",
       "      <th>6</th>\n",
       "      <td>399.0</td>\n",
       "      <td>105200.0</td>\n",
       "      <td>150.7</td>\n",
       "    </tr>\n",
       "    <tr>\n",
       "      <th>7</th>\n",
       "      <td>465.5</td>\n",
       "      <td>113966.7</td>\n",
       "      <td>113.0</td>\n",
       "    </tr>\n",
       "    <tr>\n",
       "      <th>8</th>\n",
       "      <td>532.0</td>\n",
       "      <td>120228.6</td>\n",
       "      <td>75.3</td>\n",
       "    </tr>\n",
       "    <tr>\n",
       "      <th>9</th>\n",
       "      <td>598.5</td>\n",
       "      <td>123985.7</td>\n",
       "      <td>37.7</td>\n",
       "    </tr>\n",
       "    <tr>\n",
       "      <th>10</th>\n",
       "      <td>665.0</td>\n",
       "      <td>125238.1</td>\n",
       "      <td>0.0</td>\n",
       "    </tr>\n",
       "    <tr>\n",
       "      <th>11</th>\n",
       "      <td>731.5</td>\n",
       "      <td>123985.7</td>\n",
       "      <td>-37.7</td>\n",
       "    </tr>\n",
       "    <tr>\n",
       "      <th>12</th>\n",
       "      <td>798.0</td>\n",
       "      <td>120228.6</td>\n",
       "      <td>-75.3</td>\n",
       "    </tr>\n",
       "    <tr>\n",
       "      <th>13</th>\n",
       "      <td>864.5</td>\n",
       "      <td>113966.7</td>\n",
       "      <td>-113.0</td>\n",
       "    </tr>\n",
       "    <tr>\n",
       "      <th>14</th>\n",
       "      <td>931.0</td>\n",
       "      <td>105200.0</td>\n",
       "      <td>-150.7</td>\n",
       "    </tr>\n",
       "    <tr>\n",
       "      <th>15</th>\n",
       "      <td>997.5</td>\n",
       "      <td>93928.6</td>\n",
       "      <td>-188.3</td>\n",
       "    </tr>\n",
       "    <tr>\n",
       "      <th>16</th>\n",
       "      <td>1064.0</td>\n",
       "      <td>80152.4</td>\n",
       "      <td>-226.0</td>\n",
       "    </tr>\n",
       "    <tr>\n",
       "      <th>17</th>\n",
       "      <td>1130.5</td>\n",
       "      <td>63871.4</td>\n",
       "      <td>-263.7</td>\n",
       "    </tr>\n",
       "    <tr>\n",
       "      <th>18</th>\n",
       "      <td>1197.0</td>\n",
       "      <td>45085.7</td>\n",
       "      <td>-301.3</td>\n",
       "    </tr>\n",
       "    <tr>\n",
       "      <th>19</th>\n",
       "      <td>1263.5</td>\n",
       "      <td>23795.2</td>\n",
       "      <td>-339.0</td>\n",
       "    </tr>\n",
       "    <tr>\n",
       "      <th>20</th>\n",
       "      <td>1330.0</td>\n",
       "      <td>0.0</td>\n",
       "      <td>-376.7</td>\n",
       "    </tr>\n",
       "  </tbody>\n",
       "</table>\n",
       "</div>"
      ],
      "text/plain": [
       "    Pos (cm)  M (kNcm)  V (kN)\n",
       "0        0.0       0.0   376.7\n",
       "1       66.5   23795.2   339.0\n",
       "2      133.0   45085.7   301.3\n",
       "3      199.5   63871.4   263.7\n",
       "4      266.0   80152.4   226.0\n",
       "5      332.5   93928.6   188.3\n",
       "6      399.0  105200.0   150.7\n",
       "7      465.5  113966.7   113.0\n",
       "8      532.0  120228.6    75.3\n",
       "9      598.5  123985.7    37.7\n",
       "10     665.0  125238.1     0.0\n",
       "11     731.5  123985.7   -37.7\n",
       "12     798.0  120228.6   -75.3\n",
       "13     864.5  113966.7  -113.0\n",
       "14     931.0  105200.0  -150.7\n",
       "15     997.5   93928.6  -188.3\n",
       "16    1064.0   80152.4  -226.0\n",
       "17    1130.5   63871.4  -263.7\n",
       "18    1197.0   45085.7  -301.3\n",
       "19    1263.5   23795.2  -339.0\n",
       "20    1330.0       0.0  -376.7"
      ]
     },
     "metadata": {},
     "output_type": "display_data"
    }
   ],
   "source": [
    "esforcos = []\n",
    "esforcos_t0 = []\n",
    "for i in range(3):\n",
    "    esforcos.append( [0]*(nS) )\n",
    "    esforcos_t0.append( [0]*(nS) )\n",
    "    \n",
    "# primeiro vetor contem X (cm)\n",
    "# segundo vetor contem Momentos (kNcm)\n",
    "# terceiro vetor contém cortante (kN)\n",
    "\n",
    "for i in range(nS):\n",
    "    esforcos[0][i] = round(i*(Vao/(nS-1)),1)\n",
    "    esforcos[1][i] = round( 0.5*Q_tF*esforcos[0][i]*(Vao-esforcos[0][i]) ,1)\n",
    "    esforcos[2][i] = round( 0.5*Q_tF*(Vao-2*esforcos[0][i]), 1 )\n",
    "    esforcos_t0[0][i] = round(i*(Vao/(nS-1)),1)\n",
    "    esforcos_t0[1][i] = round( 0.5*Q_t0*esforcos[0][i]*(Vao-esforcos[0][i]) ,1)\n",
    "    esforcos_t0[2][i] = round( 0.5*Q_t0*(Vao-2*esforcos[0][i]), 1 )\n",
    "    \n",
    "    \n",
    "tabela = pd.DataFrame(esforcos)\n",
    "tabela = tabela.transpose()\n",
    "tabela.rename(columns={0:'Pos (cm)',1:'M (kNcm)',2:'V (kN)'},inplace = True)\n",
    "display(tabela)"
   ]
  },
  {
   "cell_type": "markdown",
   "id": "72990506",
   "metadata": {},
   "source": [
    "# Escalonamento da Protensão:\n",
    "\n",
    "## Limites de Tensão na Seção S1:\n",
    "\n",
    "São testados os limites de tensão para t0:\n",
    "\n",
    "Limitação pela borda superior:"
   ]
  },
  {
   "cell_type": "code",
   "execution_count": 14,
   "id": "12477f6f",
   "metadata": {},
   "outputs": [
    {
     "data": {
      "text/latex": [
       "\\[\n",
       "\\begin{aligned}\n",
       "M_{s1} &= 4726.300 \\; \\;\\textrm{(Momento de peso próprio na seção s1)}\n",
       "\\\\[10pt]\n",
       "P_{1} &= \\frac{ \\sigma_{cc0} + \\frac{ M_{s1} }{ W_{i} } }{ r_{0} \\cdot \\left( \\frac{ 1 }{ A_{c} } + \\frac{ e_{p} }{ W_{i} } \\right) }  = \\frac{ 1.960 + \\frac{ 4726.300 }{ 75000.000 } }{ 0.950 \\cdot \\left( \\frac{ 1 }{ 4500 } + \\frac{ 40 }{ 75000.000 } \\right) } &= 2818.445  \n",
       "\\\\[10pt]\n",
       "P_{2} &= \\frac{ \\sigma_{ct0} - \\frac{ M_{s1} }{ W_{s} } }{ r_{0} \\cdot \\left( \\frac{ 1 }{ A_{c} } - \\frac{ e_{p} }{ W_{s} } \\right) }  = \\frac{ -0.332 - \\frac{ 4726.300 }{ 75000.000 } }{ 0.950 \\cdot \\left( \\frac{ 1 }{ 4500 } - \\frac{ 40 }{ 75000.000 } \\right) } &= 1336.360  \n",
       "\\end{aligned}\n",
       "\\]"
      ],
      "text/plain": [
       "<IPython.core.display.Latex object>"
      ]
     },
     "metadata": {},
     "output_type": "display_data"
    }
   ],
   "source": [
    "%%render short\n",
    "\n",
    "M_s1 = round( 0.5*Q_t0*esforcos[0][1]*(Vao-esforcos[0][1]) ,1) # Momento de peso próprio na seção s1\n",
    "P_1 = (sigma_cc0+M_s1/W_i)/(r_0*(1/A_c + e_p/W_i))\n",
    "P_2 = (sigma_ct0-M_s1/W_s)/(r_0*(1/A_c - e_p/W_s))\n"
   ]
  },
  {
   "cell_type": "code",
   "execution_count": 15,
   "id": "f0d85e33",
   "metadata": {},
   "outputs": [
    {
     "data": {
      "text/latex": [
       "\\[\n",
       "\\begin{aligned}\n",
       "P_{s1} &= \\operatorname{min} { \\left( P_{1} ,\\  P_{2} \\right) }  = \\operatorname{min} { \\left( 2818.4 ,\\  1336.4 \\right) } &= 1336.4  \n",
       "\\\\[10pt]\n",
       "n_{s1} &= \\left \\lfloor \\frac{ P_{s1} }{ A_{p1} \\cdot \\sigma_{p0} } \\right \\rfloor  = \\left \\lfloor \\frac{ 1336.4 }{ 1.4 \\cdot 152.0 } \\right \\rfloor &= 6  \n",
       "\\end{aligned}\n",
       "\\]"
      ],
      "text/plain": [
       "<IPython.core.display.Latex object>"
      ]
     },
     "metadata": {},
     "output_type": "display_data"
    }
   ],
   "source": [
    "%%render 1\n",
    "\n",
    "P_s1 = min(P_1 , P_2)\n",
    "\n",
    "n_s1 = floor(P_s1/(A_p1*sigma_p0))\n"
   ]
  },
  {
   "cell_type": "markdown",
   "id": "fc122191",
   "metadata": {},
   "source": [
    "## Escolha do Número de Cordoalhas:"
   ]
  },
  {
   "cell_type": "code",
   "execution_count": 16,
   "id": "e9c685e3",
   "metadata": {},
   "outputs": [
    {
     "data": {
      "text/latex": [
       "\\[\n",
       "\\begin{aligned}\n",
       "\\mathrm{qntCordoalhas} &= [6,\\ 10] \\; \n",
       "\\\\[10pt]\n",
       "e_{p_{i}} &= [40,\\ 38] \\; \n",
       "\\end{aligned}\n",
       "\\]"
      ],
      "text/plain": [
       "<IPython.core.display.Latex object>"
      ]
     },
     "metadata": {},
     "output_type": "display_data"
    }
   ],
   "source": [
    "%%render\n",
    "\n",
    "# Vetor com o número de cordoalhas em cada ponto de escalonamento:\n",
    "\n",
    "qntCordoalhas = [6,10]\n",
    "\n",
    "# Vetor com a excentricidade da protensão em cada ponto de escalonamento:\n",
    "\n",
    "e_p_i = [40,38]"
   ]
  },
  {
   "cell_type": "markdown",
   "id": "7b042987",
   "metadata": {},
   "source": [
    "# Esforços Devidos À Protensão:"
   ]
  },
  {
   "cell_type": "code",
   "execution_count": 17,
   "id": "960e77a5",
   "metadata": {},
   "outputs": [
    {
     "data": {
      "text/html": [
       "<div>\n",
       "<style scoped>\n",
       "    .dataframe tbody tr th:only-of-type {\n",
       "        vertical-align: middle;\n",
       "    }\n",
       "\n",
       "    .dataframe tbody tr th {\n",
       "        vertical-align: top;\n",
       "    }\n",
       "\n",
       "    .dataframe thead th {\n",
       "        text-align: right;\n",
       "    }\n",
       "</style>\n",
       "<table border=\"1\" class=\"dataframe\">\n",
       "  <thead>\n",
       "    <tr style=\"text-align: right;\">\n",
       "      <th></th>\n",
       "      <th>Ap</th>\n",
       "      <th>Wcp</th>\n",
       "      <th>Kp0</th>\n",
       "      <th>Sigma,p</th>\n",
       "      <th>Np</th>\n",
       "      <th>Mp</th>\n",
       "    </tr>\n",
       "  </thead>\n",
       "  <tbody>\n",
       "    <tr>\n",
       "      <th>0</th>\n",
       "      <td>8.58</td>\n",
       "      <td>93750.0</td>\n",
       "      <td>0.0432</td>\n",
       "      <td>145.71</td>\n",
       "      <td>-1250.2</td>\n",
       "      <td>-50008.0</td>\n",
       "    </tr>\n",
       "    <tr>\n",
       "      <th>1</th>\n",
       "      <td>14.30</td>\n",
       "      <td>98684.0</td>\n",
       "      <td>0.0674</td>\n",
       "      <td>142.40</td>\n",
       "      <td>-2036.3</td>\n",
       "      <td>-77379.4</td>\n",
       "    </tr>\n",
       "  </tbody>\n",
       "</table>\n",
       "</div>"
      ],
      "text/plain": [
       "      Ap      Wcp     Kp0  Sigma,p      Np       Mp\n",
       "0   8.58  93750.0  0.0432   145.71 -1250.2 -50008.0\n",
       "1  14.30  98684.0  0.0674   142.40 -2036.3 -77379.4"
      ]
     },
     "metadata": {},
     "output_type": "display_data"
    }
   ],
   "source": [
    "A_p = []\n",
    "\n",
    "for i in range(len(qntCordoalhas)):\n",
    "    A_p.append(qntCordoalhas[i] * A_p1)\n",
    "\n",
    "W_cp = []\n",
    "\n",
    "for i in range(len(qntCordoalhas)):\n",
    "    W_cp.append(round(I_c/e_p_i[i],0))\n",
    "    \n",
    "alpha_p0 = E_p / E_cst0\n",
    "\n",
    "K_p0 = []\n",
    "for i in range(len(qntCordoalhas)):\n",
    "    K_p0.append(round(alpha_p0*A_p[i]*(1/A_c+e_p_i[i]/W_cp[i]),4))\n",
    "    \n",
    "sigma_p = []\n",
    "for i in range(len(qntCordoalhas)):\n",
    "    sigma_p.append(round(sigma_p0/(1+K_p0[i]),2))\n",
    "    \n",
    "N_p = []\n",
    "for i in range(len(qntCordoalhas)):\n",
    "    N_p.append(round(-sigma_p[i]*A_p[i],1))\n",
    "    \n",
    "M_p = []\n",
    "for i in range(len(qntCordoalhas)):\n",
    "    M_p.append(round(N_p[i]*e_p_i[i],1))\n",
    "    \n",
    "tabela1 = pd.DataFrame([A_p, W_cp, K_p0, sigma_p, N_p, M_p])\n",
    "tabela1 = tabela1.transpose()\n",
    "tabela1.rename(columns={0:'Ap',1:'Wcp',2:'Kp0',3:'Sigma,p',4:'Np',5:'Mp'},inplace = True)\n",
    "display(tabela1)"
   ]
  },
  {
   "cell_type": "markdown",
   "id": "3b3910c3",
   "metadata": {},
   "source": [
    "# Escalonamento da Força de Protensão:"
   ]
  },
  {
   "cell_type": "code",
   "execution_count": 18,
   "id": "e6f6ff1c",
   "metadata": {},
   "outputs": [
    {
     "data": {
      "text/html": [
       "<div>\n",
       "<style scoped>\n",
       "    .dataframe tbody tr th:only-of-type {\n",
       "        vertical-align: middle;\n",
       "    }\n",
       "\n",
       "    .dataframe tbody tr th {\n",
       "        vertical-align: top;\n",
       "    }\n",
       "\n",
       "    .dataframe thead th {\n",
       "        text-align: right;\n",
       "    }\n",
       "</style>\n",
       "<table border=\"1\" class=\"dataframe\">\n",
       "  <thead>\n",
       "    <tr style=\"text-align: right;\">\n",
       "      <th></th>\n",
       "      <th>Mg</th>\n",
       "      <th>x1</th>\n",
       "      <th>x2</th>\n",
       "      <th>x1-lbpt</th>\n",
       "      <th>x2+lbpt</th>\n",
       "    </tr>\n",
       "  </thead>\n",
       "  <tbody>\n",
       "    <tr>\n",
       "      <th>0</th>\n",
       "      <td>4274.98</td>\n",
       "      <td>59.83</td>\n",
       "      <td>1270.17</td>\n",
       "      <td>0.0</td>\n",
       "      <td>1330.0</td>\n",
       "    </tr>\n",
       "    <tr>\n",
       "      <th>1</th>\n",
       "      <td>18544.71</td>\n",
       "      <td>329.53</td>\n",
       "      <td>1000.47</td>\n",
       "      <td>194.2</td>\n",
       "      <td>1135.8</td>\n",
       "    </tr>\n",
       "  </tbody>\n",
       "</table>\n",
       "</div>"
      ],
      "text/plain": [
       "         Mg      x1       x2  x1-lbpt  x2+lbpt\n",
       "0   4274.98   59.83  1270.17      0.0   1330.0\n",
       "1  18544.71  329.53  1000.47    194.2   1135.8"
      ]
     },
     "metadata": {},
     "output_type": "display_data"
    }
   ],
   "source": [
    "M_g = []\n",
    "x1 = []\n",
    "x2 = []\n",
    "x1_anc = []\n",
    "x2_anc = []\n",
    "\n",
    "for i in range(len(qntCordoalhas)):\n",
    "    M_g.append(round( W_s*( (N_p[i]/A_c) -(M_p[i]/W_s) + sigma_ct0),2) )\n",
    "    #print(\"M_g[\"+str(i)+\"]:\",M_g[i])\n",
    "        \n",
    "for i in range(len(qntCordoalhas)):\n",
    "    # O erro acontece no caso da raiz de delta retornar um número complexo\n",
    "    try:\n",
    "        c = 2*M_g[i]/Q_t0\n",
    "        delta = (-Vao)**2 - 4*c\n",
    "        #print(\"Delta \"+str(i)+\":\",round(delta,2))\n",
    "        x1.append(round( (Vao-delta**0.5)/2  ,2))\n",
    "        x2.append(round( (Vao+delta**0.5)/2  ,2))\n",
    "    except:\n",
    "        print(\"##   ATENÇÃO!   ##\")\n",
    "        raise Exception(\"ERRO: ESCALONAR MELHOR A PROTENSÃO!\")    \n",
    "\n",
    "for i in range(len(qntCordoalhas)):\n",
    "    x1_anc.append(x1[i]-round(l_bpt,2))\n",
    "    x2_anc.append(x2[i]+round(l_bpt,2))\n",
    "    if x1_anc[i] < 0:\n",
    "        x1_anc[i] = 0\n",
    "    if x2_anc[i] > Vao:\n",
    "        x2_anc[i] = Vao\n",
    "    \n",
    "tabela2 = pd.DataFrame([M_g, x1,x2, x1_anc,x2_anc])\n",
    "tabela2 = tabela2.transpose()\n",
    "tabela2.rename(columns={0:'Mg',1:'x1',2:'x2',3:'x1-lbpt',4:'x2+lbpt'},inplace = True)\n",
    "display(tabela2)"
   ]
  },
  {
   "cell_type": "markdown",
   "id": "7e1e952a",
   "metadata": {},
   "source": [
    "# Perdas Progressivas da Força de Protensão:\n",
    "\n",
    "## Fluência do Concreto:\n",
    "\n",
    "### Fluência Rápida Irreversível"
   ]
  },
  {
   "cell_type": "code",
   "execution_count": 19,
   "id": "c3dbfb93",
   "metadata": {},
   "outputs": [
    {
     "data": {
      "text/latex": [
       "\\[\n",
       "\\begin{aligned}\n",
       "s &= 0.200 \\; \n",
       " &t_{0} &= 10 \\; \n",
       " &t_{F} &= 18250 \\; \n",
       "\\\\[10pt]\n",
       " \\beta_{0} &= 0.874 \\; \n",
       " &\\beta_{F} &= 1.212 \\; \n",
       " &\\phi_{a} &= 0.223 \\; \n",
       "\\\\[10pt]\n",
       "\\end{aligned}\n",
       "\\]"
      ],
      "text/plain": [
       "<IPython.core.display.Latex object>"
      ]
     },
     "metadata": {},
     "output_type": "display_data"
    }
   ],
   "source": [
    "%%render params\n",
    "\n",
    "# VER ITEM 12.3.3 da NBR6118:2014\n",
    "# Valores para adotar:\n",
    "# s = 0.38 para concreto de cimento CP-III e CP-IV\n",
    "# s = 0.25 para concreto de cimento CP-I e CP-II\n",
    "# s = 0.20 para concreto de cimento CP-V\n",
    "s = 0.20\n",
    "t_0 = 10\n",
    "t_F = 18250\n",
    "\n",
    "\n",
    "beta_0 = exp(s*(1-(28/t_0)**0.5))\n",
    "beta_F = exp(s*(1-(28/t_F)**0.5))\n",
    "\n",
    "phi_a = 0.8*(1 - (beta_0/beta_F))"
   ]
  },
  {
   "cell_type": "code",
   "execution_count": 20,
   "id": "a17c5a32",
   "metadata": {},
   "outputs": [
    {
     "name": "stdout",
     "output_type": "stream",
     "text": [
      "Adotado s = 0.20 para concreto de cimento CP-V (ARI) \n"
     ]
    }
   ],
   "source": [
    "if s == 0.38:\n",
    "    print(\"Adotado s = 0.38 para concreto de cimento CP-III ou CP-IV\")\n",
    "elif s == 0.25:\n",
    "    print(\"Adotado s = 0.25 para concreto de cimento CP-I ou CP-II\")\n",
    "else:\n",
    "    print(\"Adotado s = 0.20 para concreto de cimento CP-V (ARI) \")"
   ]
  },
  {
   "cell_type": "markdown",
   "id": "ec305c4e",
   "metadata": {},
   "source": [
    "### Fluência Lenta Irreversível:"
   ]
  },
  {
   "cell_type": "code",
   "execution_count": 21,
   "id": "bb095c40",
   "metadata": {},
   "outputs": [
    {
     "data": {
      "text/latex": [
       "\\[\n",
       "\\begin{aligned}\n",
       "U &= 55 \\; \\;\\textrm{(umidade média do ar)}\n",
       " &\\phi_{c1} &= 2.52 \\; \\;\\textrm{(para abatimentos entre 5cm e 9cm)}\n",
       " &\\gamma &= 1.10 \\; \n",
       "\\\\[10pt]\n",
       " u_{ar} &= 290 \\; \n",
       " &h_{fic} &= 34.15 \\; \n",
       " &\\phi_{c2} &= 1.41 \\; \n",
       "\\\\[10pt]\n",
       " \\phi_{fF} &= 3.55 \\; \n",
       " &h_{fm} &= 0.34 \\; \\;\\textrm{(espessura fictícia em metros)}\n",
       " &A_{\\beta_{f}} &= 274.64 \\; \n",
       "\\\\[10pt]\n",
       " B_{\\beta_{f}} &= 755.08 \\; \n",
       " &C_{\\beta_{f}} &= 548.74 \\; \n",
       " &D_{\\beta_{f}} &= 10579.71 \\; \n",
       "\\\\[10pt]\n",
       " \\beta_{f_{t0}} &= 0.22 \\; \n",
       " &\\beta_{f_{tF}} &= 0.99 \\;\n",
       "\\end{aligned}\n",
       "\\]"
      ],
      "text/plain": [
       "<IPython.core.display.Latex object>"
      ]
     },
     "metadata": {},
     "output_type": "display_data"
    }
   ],
   "source": [
    "%%render params 2\n",
    "\n",
    "U = 55 #umidade média do ar\n",
    "\n",
    "phi_c1 = 4.45 - 0.035*U # para abatimentos entre 5cm e 9cm\n",
    "\n",
    "gamma = 1 + exp(-7.8 + 0.1 * U)\n",
    "\n",
    "u_ar = ( 2*h + 2*b )\n",
    "\n",
    "h_fic = gamma*(2*A_c)/u_ar\n",
    "\n",
    "phi_c2 = (42+h_fic)/(20+h_fic)\n",
    "\n",
    "phi_fF = phi_c1*phi_c2\n",
    "\n",
    "h_fm = h_fic/100 # espessura fictícia em metros\n",
    "\n",
    "A_beta_f = 42*h_fm**3 - 350*h_fm**2 + 588*h_fm + 113\n",
    "B_beta_f = 768*h_fm**3 - 3060*h_fm**2 + 3234*h_fm - 23\n",
    "C_beta_f = -200*h_fm**3 + 13*h_fm**2 + 1090*h_fm + 183\n",
    "D_beta_f = 7579*h_fm**3 - 31916*h_fm**2 + 35343*h_fm + 1931\n",
    "\n",
    "beta_f_t0 = (t_0**2 + A_beta_f*t_0 + B_beta_f )/(t_0**2 + C_beta_f*t_0 + D_beta_f)\n",
    "beta_f_tF = (t_F**2 + A_beta_f*t_F + B_beta_f )/(t_F**2 + C_beta_f*t_F + D_beta_f) "
   ]
  },
  {
   "cell_type": "markdown",
   "id": "bd808c0d",
   "metadata": {},
   "source": [
    "### Fluência Lenta Reversível:"
   ]
  },
  {
   "cell_type": "code",
   "execution_count": 22,
   "id": "9a489151",
   "metadata": {},
   "outputs": [
    {
     "data": {
      "text/latex": [
       "\\[\n",
       "\\begin{aligned}\n",
       "\\phi_{dF} &= 0.400 \\; \n",
       " &\\beta_{d} &= 0.997 \\;\n",
       "\\end{aligned}\n",
       "\\]"
      ],
      "text/plain": [
       "<IPython.core.display.Latex object>"
      ]
     },
     "metadata": {},
     "output_type": "display_data"
    }
   ],
   "source": [
    "%%render params\n",
    "\n",
    "phi_dF = 0.4\n",
    "\n",
    "beta_d = (t_F-t_0+20)/(t_F-t_0+70)"
   ]
  },
  {
   "cell_type": "markdown",
   "id": "96bd76c7",
   "metadata": {},
   "source": [
    "### Fluência Total:"
   ]
  },
  {
   "cell_type": "code",
   "execution_count": 23,
   "id": "a5a83321",
   "metadata": {},
   "outputs": [
    {
     "data": {
      "text/latex": [
       "\\[\n",
       "\\begin{aligned}\n",
       "\\phi_{t} &= 3.33 \\;\n",
       "\\end{aligned}\n",
       "\\]"
      ],
      "text/plain": [
       "<IPython.core.display.Latex object>"
      ]
     },
     "metadata": {},
     "output_type": "display_data"
    }
   ],
   "source": [
    "%%render 2 params\n",
    "phi_t = phi_a + phi_fF*(beta_f_tF - beta_f_t0) + phi_dF * beta_d"
   ]
  },
  {
   "cell_type": "markdown",
   "id": "865b57fe",
   "metadata": {},
   "source": [
    "### Retração do Concreto:"
   ]
  },
  {
   "cell_type": "code",
   "execution_count": 24,
   "id": "1bac914d",
   "metadata": {
    "scrolled": true
   },
   "outputs": [
    {
     "data": {
      "text/latex": [
       "\\[\n",
       "\\begin{aligned}\n",
       "\\epsilon_{1s} &= -0.00 \\; \n",
       " &\\epsilon_{2s} &= 0.82 \\; \n",
       " &A_{\\beta_{s}} &= 40 \\; \n",
       "\\\\[10pt]\n",
       " B_{\\beta_{s}} &= 42.06 \\; \n",
       " &C_{\\beta_{s}} &= 37.79 \\; \n",
       " &D_{\\beta_{s}} &= 227.79 \\; \n",
       "\\\\[10pt]\n",
       " E_{\\beta_{s}} &= 56.78 \\; \n",
       " &\\beta_{s_{t0}} &= 0.06 \\; \n",
       " &\\beta_{s_{tF}} &= 1.01 \\; \n",
       "\\\\[10pt]\n",
       " \\epsilon_{cs} &= -0.00 \\;\n",
       "\\end{aligned}\n",
       "\\]"
      ],
      "text/plain": [
       "<IPython.core.display.Latex object>"
      ]
     },
     "metadata": {},
     "output_type": "display_data"
    }
   ],
   "source": [
    "%%render 2 params\n",
    "\n",
    "epsilon_1s = (-8.09 + U/15 - U**2/2284 + U**3/133765 - U**4/7608150)*10**-4\n",
    "\n",
    "epsilon_2s = (33+2*h_fic)/(20.8 + 3*h_fic)\n",
    "\n",
    "A_beta_s = 40  \n",
    "B_beta_s = 116*h_fm**3 - 282*h_fm**2 + 220*h_fm - 4.8  \n",
    "C_beta_s = 2.5*h_fm**3 - 8.8*h_fm + 40.7  \n",
    "D_beta_s = -75*h_fm**3 + 585*h_fm**2 + 496*h_fm - 6.8  \n",
    "E_beta_s = -169*h_fm**4 + 88*h_fm**3 + 584*h_fm**2 - 39*h_fm + 0.8  \n",
    "\n",
    "beta_s_t0 = ((t_0/100)**3 + A_beta_s*(t_0/100)**2 +  B_beta_s*(t_0/100))/((t_0/100)**3 + C_beta_s*(t_0/100)**2 +  D_beta_s*(t_0/100) + E_beta_s)\n",
    "\n",
    "beta_s_tF = ((t_F/100)**3 + A_beta_s*(t_F/100)**2 +  B_beta_s*(t_F/100))/((t_F/100)**3 + C_beta_s*(t_F/100)**2 +  D_beta_s*(t_F/100) + E_beta_s)\n",
    "\n",
    "epsilon_cs = epsilon_1s*epsilon_2s*(beta_s_tF - beta_s_t0)\n"
   ]
  },
  {
   "cell_type": "markdown",
   "id": "26653758",
   "metadata": {},
   "source": [
    "## Relaxação do Aço de Protensão:"
   ]
  },
  {
   "cell_type": "code",
   "execution_count": 25,
   "id": "59b4e706",
   "metadata": {},
   "outputs": [
    {
     "data": {
      "text/html": [
       "<div>\n",
       "<style scoped>\n",
       "    .dataframe tbody tr th:only-of-type {\n",
       "        vertical-align: middle;\n",
       "    }\n",
       "\n",
       "    .dataframe tbody tr th {\n",
       "        vertical-align: top;\n",
       "    }\n",
       "\n",
       "    .dataframe thead th {\n",
       "        text-align: right;\n",
       "    }\n",
       "</style>\n",
       "<table border=\"1\" class=\"dataframe\">\n",
       "  <thead>\n",
       "    <tr style=\"text-align: right;\">\n",
       "      <th></th>\n",
       "      <th>Seção</th>\n",
       "      <th>Pos</th>\n",
       "      <th>Sigma,p</th>\n",
       "      <th>Sigma,p/fptk</th>\n",
       "      <th>Ψ1000</th>\n",
       "      <th>Ψ,inf</th>\n",
       "      <th>X,inf</th>\n",
       "    </tr>\n",
       "  </thead>\n",
       "  <tbody>\n",
       "    <tr>\n",
       "      <th>0</th>\n",
       "      <td>1.0</td>\n",
       "      <td>0.0</td>\n",
       "      <td>145.71</td>\n",
       "      <td>0.767</td>\n",
       "      <td>0.032</td>\n",
       "      <td>0.080</td>\n",
       "      <td>0.083</td>\n",
       "    </tr>\n",
       "    <tr>\n",
       "      <th>1</th>\n",
       "      <td>2.0</td>\n",
       "      <td>66.5</td>\n",
       "      <td>145.71</td>\n",
       "      <td>0.767</td>\n",
       "      <td>0.032</td>\n",
       "      <td>0.080</td>\n",
       "      <td>0.083</td>\n",
       "    </tr>\n",
       "    <tr>\n",
       "      <th>2</th>\n",
       "      <td>3.0</td>\n",
       "      <td>133.0</td>\n",
       "      <td>145.71</td>\n",
       "      <td>0.767</td>\n",
       "      <td>0.032</td>\n",
       "      <td>0.080</td>\n",
       "      <td>0.083</td>\n",
       "    </tr>\n",
       "    <tr>\n",
       "      <th>3</th>\n",
       "      <td>4.0</td>\n",
       "      <td>199.5</td>\n",
       "      <td>142.40</td>\n",
       "      <td>0.749</td>\n",
       "      <td>0.030</td>\n",
       "      <td>0.075</td>\n",
       "      <td>0.078</td>\n",
       "    </tr>\n",
       "    <tr>\n",
       "      <th>4</th>\n",
       "      <td>5.0</td>\n",
       "      <td>266.0</td>\n",
       "      <td>142.40</td>\n",
       "      <td>0.749</td>\n",
       "      <td>0.030</td>\n",
       "      <td>0.075</td>\n",
       "      <td>0.078</td>\n",
       "    </tr>\n",
       "    <tr>\n",
       "      <th>5</th>\n",
       "      <td>6.0</td>\n",
       "      <td>332.5</td>\n",
       "      <td>142.40</td>\n",
       "      <td>0.749</td>\n",
       "      <td>0.030</td>\n",
       "      <td>0.075</td>\n",
       "      <td>0.078</td>\n",
       "    </tr>\n",
       "    <tr>\n",
       "      <th>6</th>\n",
       "      <td>7.0</td>\n",
       "      <td>399.0</td>\n",
       "      <td>142.40</td>\n",
       "      <td>0.749</td>\n",
       "      <td>0.030</td>\n",
       "      <td>0.075</td>\n",
       "      <td>0.078</td>\n",
       "    </tr>\n",
       "    <tr>\n",
       "      <th>7</th>\n",
       "      <td>8.0</td>\n",
       "      <td>465.5</td>\n",
       "      <td>142.40</td>\n",
       "      <td>0.749</td>\n",
       "      <td>0.030</td>\n",
       "      <td>0.075</td>\n",
       "      <td>0.078</td>\n",
       "    </tr>\n",
       "    <tr>\n",
       "      <th>8</th>\n",
       "      <td>9.0</td>\n",
       "      <td>532.0</td>\n",
       "      <td>142.40</td>\n",
       "      <td>0.749</td>\n",
       "      <td>0.030</td>\n",
       "      <td>0.075</td>\n",
       "      <td>0.078</td>\n",
       "    </tr>\n",
       "    <tr>\n",
       "      <th>9</th>\n",
       "      <td>10.0</td>\n",
       "      <td>598.5</td>\n",
       "      <td>142.40</td>\n",
       "      <td>0.749</td>\n",
       "      <td>0.030</td>\n",
       "      <td>0.075</td>\n",
       "      <td>0.078</td>\n",
       "    </tr>\n",
       "    <tr>\n",
       "      <th>10</th>\n",
       "      <td>11.0</td>\n",
       "      <td>665.0</td>\n",
       "      <td>142.40</td>\n",
       "      <td>0.749</td>\n",
       "      <td>0.030</td>\n",
       "      <td>0.075</td>\n",
       "      <td>0.078</td>\n",
       "    </tr>\n",
       "    <tr>\n",
       "      <th>11</th>\n",
       "      <td>12.0</td>\n",
       "      <td>731.5</td>\n",
       "      <td>142.40</td>\n",
       "      <td>0.749</td>\n",
       "      <td>0.030</td>\n",
       "      <td>0.075</td>\n",
       "      <td>0.078</td>\n",
       "    </tr>\n",
       "    <tr>\n",
       "      <th>12</th>\n",
       "      <td>13.0</td>\n",
       "      <td>798.0</td>\n",
       "      <td>142.40</td>\n",
       "      <td>0.749</td>\n",
       "      <td>0.030</td>\n",
       "      <td>0.075</td>\n",
       "      <td>0.078</td>\n",
       "    </tr>\n",
       "    <tr>\n",
       "      <th>13</th>\n",
       "      <td>14.0</td>\n",
       "      <td>864.5</td>\n",
       "      <td>142.40</td>\n",
       "      <td>0.749</td>\n",
       "      <td>0.030</td>\n",
       "      <td>0.075</td>\n",
       "      <td>0.078</td>\n",
       "    </tr>\n",
       "    <tr>\n",
       "      <th>14</th>\n",
       "      <td>15.0</td>\n",
       "      <td>931.0</td>\n",
       "      <td>142.40</td>\n",
       "      <td>0.749</td>\n",
       "      <td>0.030</td>\n",
       "      <td>0.075</td>\n",
       "      <td>0.078</td>\n",
       "    </tr>\n",
       "    <tr>\n",
       "      <th>15</th>\n",
       "      <td>16.0</td>\n",
       "      <td>997.5</td>\n",
       "      <td>142.40</td>\n",
       "      <td>0.749</td>\n",
       "      <td>0.030</td>\n",
       "      <td>0.075</td>\n",
       "      <td>0.078</td>\n",
       "    </tr>\n",
       "    <tr>\n",
       "      <th>16</th>\n",
       "      <td>17.0</td>\n",
       "      <td>1064.0</td>\n",
       "      <td>142.40</td>\n",
       "      <td>0.749</td>\n",
       "      <td>0.030</td>\n",
       "      <td>0.075</td>\n",
       "      <td>0.078</td>\n",
       "    </tr>\n",
       "    <tr>\n",
       "      <th>17</th>\n",
       "      <td>18.0</td>\n",
       "      <td>1130.5</td>\n",
       "      <td>142.40</td>\n",
       "      <td>0.749</td>\n",
       "      <td>0.030</td>\n",
       "      <td>0.075</td>\n",
       "      <td>0.078</td>\n",
       "    </tr>\n",
       "    <tr>\n",
       "      <th>18</th>\n",
       "      <td>19.0</td>\n",
       "      <td>1197.0</td>\n",
       "      <td>145.71</td>\n",
       "      <td>0.767</td>\n",
       "      <td>0.032</td>\n",
       "      <td>0.080</td>\n",
       "      <td>0.083</td>\n",
       "    </tr>\n",
       "    <tr>\n",
       "      <th>19</th>\n",
       "      <td>20.0</td>\n",
       "      <td>1263.5</td>\n",
       "      <td>145.71</td>\n",
       "      <td>0.767</td>\n",
       "      <td>0.032</td>\n",
       "      <td>0.080</td>\n",
       "      <td>0.083</td>\n",
       "    </tr>\n",
       "    <tr>\n",
       "      <th>20</th>\n",
       "      <td>21.0</td>\n",
       "      <td>1330.0</td>\n",
       "      <td>145.71</td>\n",
       "      <td>0.767</td>\n",
       "      <td>0.032</td>\n",
       "      <td>0.080</td>\n",
       "      <td>0.083</td>\n",
       "    </tr>\n",
       "  </tbody>\n",
       "</table>\n",
       "</div>"
      ],
      "text/plain": [
       "    Seção     Pos  Sigma,p  Sigma,p/fptk  Ψ1000  Ψ,inf  X,inf\n",
       "0     1.0     0.0   145.71         0.767  0.032  0.080  0.083\n",
       "1     2.0    66.5   145.71         0.767  0.032  0.080  0.083\n",
       "2     3.0   133.0   145.71         0.767  0.032  0.080  0.083\n",
       "3     4.0   199.5   142.40         0.749  0.030  0.075  0.078\n",
       "4     5.0   266.0   142.40         0.749  0.030  0.075  0.078\n",
       "5     6.0   332.5   142.40         0.749  0.030  0.075  0.078\n",
       "6     7.0   399.0   142.40         0.749  0.030  0.075  0.078\n",
       "7     8.0   465.5   142.40         0.749  0.030  0.075  0.078\n",
       "8     9.0   532.0   142.40         0.749  0.030  0.075  0.078\n",
       "9    10.0   598.5   142.40         0.749  0.030  0.075  0.078\n",
       "10   11.0   665.0   142.40         0.749  0.030  0.075  0.078\n",
       "11   12.0   731.5   142.40         0.749  0.030  0.075  0.078\n",
       "12   13.0   798.0   142.40         0.749  0.030  0.075  0.078\n",
       "13   14.0   864.5   142.40         0.749  0.030  0.075  0.078\n",
       "14   15.0   931.0   142.40         0.749  0.030  0.075  0.078\n",
       "15   16.0   997.5   142.40         0.749  0.030  0.075  0.078\n",
       "16   17.0  1064.0   142.40         0.749  0.030  0.075  0.078\n",
       "17   18.0  1130.5   142.40         0.749  0.030  0.075  0.078\n",
       "18   19.0  1197.0   145.71         0.767  0.032  0.080  0.083\n",
       "19   20.0  1263.5   145.71         0.767  0.032  0.080  0.083\n",
       "20   21.0  1330.0   145.71         0.767  0.032  0.080  0.083"
      ]
     },
     "metadata": {},
     "output_type": "display_data"
    }
   ],
   "source": [
    "relax = []\n",
    "for i in range(7):\n",
    "    relax.append([0]*nS)\n",
    "\n",
    "for i in range (nS):\n",
    "    relax[0][i] = int(i+1)\n",
    "    relax[1][i] = esforcos[0][i] #posição x da seção\n",
    "    for j in range(len(qntCordoalhas)-1,-1,-1):\n",
    "        if(relax[1][i] >= x1_anc[j] and relax[1][i] <= x2_anc[j]):\n",
    "            relax[2][i] = round(sigma_p[j],2)\n",
    "            break\n",
    "    relax[3][i] = round(relax[2][i]/f_ptk,3)\n",
    "    relax[4][i] = round(calcpsi(relax[3][i]),3)\n",
    "    relax[5][i] = round(relax[4][i]*2.5,3)\n",
    "    relax[6][i] = round(-log(1-relax[5][i]),3)\n",
    "    \n",
    "    \n",
    "tabela3 = pd.DataFrame(relax)\n",
    "tabela3 = tabela3.transpose()\n",
    "tabela3.rename(columns={0:'Seção',1:'Pos',2:'Sigma,p',3:'Sigma,p/fptk',4:'\\u03A81000',5:'\\u03A8,inf',6:'X,inf'},inplace = True)\n",
    "display(tabela3)"
   ]
  },
  {
   "cell_type": "markdown",
   "id": "b0d5874e",
   "metadata": {},
   "source": [
    "## Cálculo das Perdas Progressivas:"
   ]
  },
  {
   "cell_type": "code",
   "execution_count": 26,
   "id": "5d841862",
   "metadata": {},
   "outputs": [
    {
     "data": {
      "text/html": [
       "<div>\n",
       "<style scoped>\n",
       "    .dataframe tbody tr th:only-of-type {\n",
       "        vertical-align: middle;\n",
       "    }\n",
       "\n",
       "    .dataframe tbody tr th {\n",
       "        vertical-align: top;\n",
       "    }\n",
       "\n",
       "    .dataframe thead th {\n",
       "        text-align: right;\n",
       "    }\n",
       "</style>\n",
       "<table border=\"1\" class=\"dataframe\">\n",
       "  <thead>\n",
       "    <tr style=\"text-align: right;\">\n",
       "      <th></th>\n",
       "      <th>Sigma,c,t0</th>\n",
       "      <th>ΔSigma,p</th>\n",
       "      <th>ΔNp</th>\n",
       "      <th>ΔMp</th>\n",
       "    </tr>\n",
       "  </thead>\n",
       "  <tbody>\n",
       "    <tr>\n",
       "      <th>0</th>\n",
       "      <td>-0.81</td>\n",
       "      <td>-32.23</td>\n",
       "      <td>276.53</td>\n",
       "      <td>11061.2</td>\n",
       "    </tr>\n",
       "    <tr>\n",
       "      <th>1</th>\n",
       "      <td>-0.76</td>\n",
       "      <td>-31.34</td>\n",
       "      <td>268.90</td>\n",
       "      <td>10756.0</td>\n",
       "    </tr>\n",
       "    <tr>\n",
       "      <th>2</th>\n",
       "      <td>-0.72</td>\n",
       "      <td>-30.63</td>\n",
       "      <td>262.81</td>\n",
       "      <td>10512.4</td>\n",
       "    </tr>\n",
       "    <tr>\n",
       "      <th>3</th>\n",
       "      <td>-1.11</td>\n",
       "      <td>-35.31</td>\n",
       "      <td>504.93</td>\n",
       "      <td>19187.3</td>\n",
       "    </tr>\n",
       "    <tr>\n",
       "      <th>4</th>\n",
       "      <td>-1.08</td>\n",
       "      <td>-34.80</td>\n",
       "      <td>497.64</td>\n",
       "      <td>18910.3</td>\n",
       "    </tr>\n",
       "    <tr>\n",
       "      <th>5</th>\n",
       "      <td>-1.05</td>\n",
       "      <td>-34.28</td>\n",
       "      <td>490.20</td>\n",
       "      <td>18627.6</td>\n",
       "    </tr>\n",
       "    <tr>\n",
       "      <th>6</th>\n",
       "      <td>-1.02</td>\n",
       "      <td>-33.77</td>\n",
       "      <td>482.91</td>\n",
       "      <td>18350.6</td>\n",
       "    </tr>\n",
       "    <tr>\n",
       "      <th>7</th>\n",
       "      <td>-1.01</td>\n",
       "      <td>-33.60</td>\n",
       "      <td>480.48</td>\n",
       "      <td>18258.2</td>\n",
       "    </tr>\n",
       "    <tr>\n",
       "      <th>8</th>\n",
       "      <td>-0.99</td>\n",
       "      <td>-33.26</td>\n",
       "      <td>475.62</td>\n",
       "      <td>18073.6</td>\n",
       "    </tr>\n",
       "    <tr>\n",
       "      <th>9</th>\n",
       "      <td>-0.99</td>\n",
       "      <td>-33.26</td>\n",
       "      <td>475.62</td>\n",
       "      <td>18073.6</td>\n",
       "    </tr>\n",
       "    <tr>\n",
       "      <th>10</th>\n",
       "      <td>-0.98</td>\n",
       "      <td>-33.09</td>\n",
       "      <td>473.19</td>\n",
       "      <td>17981.2</td>\n",
       "    </tr>\n",
       "    <tr>\n",
       "      <th>11</th>\n",
       "      <td>-0.99</td>\n",
       "      <td>-33.26</td>\n",
       "      <td>475.62</td>\n",
       "      <td>18073.6</td>\n",
       "    </tr>\n",
       "    <tr>\n",
       "      <th>12</th>\n",
       "      <td>-0.99</td>\n",
       "      <td>-33.26</td>\n",
       "      <td>475.62</td>\n",
       "      <td>18073.6</td>\n",
       "    </tr>\n",
       "    <tr>\n",
       "      <th>13</th>\n",
       "      <td>-1.01</td>\n",
       "      <td>-33.60</td>\n",
       "      <td>480.48</td>\n",
       "      <td>18258.2</td>\n",
       "    </tr>\n",
       "    <tr>\n",
       "      <th>14</th>\n",
       "      <td>-1.02</td>\n",
       "      <td>-33.77</td>\n",
       "      <td>482.91</td>\n",
       "      <td>18350.6</td>\n",
       "    </tr>\n",
       "    <tr>\n",
       "      <th>15</th>\n",
       "      <td>-1.05</td>\n",
       "      <td>-34.28</td>\n",
       "      <td>490.20</td>\n",
       "      <td>18627.6</td>\n",
       "    </tr>\n",
       "    <tr>\n",
       "      <th>16</th>\n",
       "      <td>-1.08</td>\n",
       "      <td>-34.80</td>\n",
       "      <td>497.64</td>\n",
       "      <td>18910.3</td>\n",
       "    </tr>\n",
       "    <tr>\n",
       "      <th>17</th>\n",
       "      <td>-1.11</td>\n",
       "      <td>-35.31</td>\n",
       "      <td>504.93</td>\n",
       "      <td>19187.3</td>\n",
       "    </tr>\n",
       "    <tr>\n",
       "      <th>18</th>\n",
       "      <td>-0.72</td>\n",
       "      <td>-30.63</td>\n",
       "      <td>262.81</td>\n",
       "      <td>10512.4</td>\n",
       "    </tr>\n",
       "    <tr>\n",
       "      <th>19</th>\n",
       "      <td>-0.76</td>\n",
       "      <td>-31.34</td>\n",
       "      <td>268.90</td>\n",
       "      <td>10756.0</td>\n",
       "    </tr>\n",
       "    <tr>\n",
       "      <th>20</th>\n",
       "      <td>-0.81</td>\n",
       "      <td>-32.23</td>\n",
       "      <td>276.53</td>\n",
       "      <td>11061.2</td>\n",
       "    </tr>\n",
       "  </tbody>\n",
       "</table>\n",
       "</div>"
      ],
      "text/plain": [
       "    Sigma,c,t0  ΔSigma,p     ΔNp      ΔMp\n",
       "0        -0.81    -32.23  276.53  11061.2\n",
       "1        -0.76    -31.34  268.90  10756.0\n",
       "2        -0.72    -30.63  262.81  10512.4\n",
       "3        -1.11    -35.31  504.93  19187.3\n",
       "4        -1.08    -34.80  497.64  18910.3\n",
       "5        -1.05    -34.28  490.20  18627.6\n",
       "6        -1.02    -33.77  482.91  18350.6\n",
       "7        -1.01    -33.60  480.48  18258.2\n",
       "8        -0.99    -33.26  475.62  18073.6\n",
       "9        -0.99    -33.26  475.62  18073.6\n",
       "10       -0.98    -33.09  473.19  17981.2\n",
       "11       -0.99    -33.26  475.62  18073.6\n",
       "12       -0.99    -33.26  475.62  18073.6\n",
       "13       -1.01    -33.60  480.48  18258.2\n",
       "14       -1.02    -33.77  482.91  18350.6\n",
       "15       -1.05    -34.28  490.20  18627.6\n",
       "16       -1.08    -34.80  497.64  18910.3\n",
       "17       -1.11    -35.31  504.93  19187.3\n",
       "18       -0.72    -30.63  262.81  10512.4\n",
       "19       -0.76    -31.34  268.90  10756.0\n",
       "20       -0.81    -32.23  276.53  11061.2"
      ]
     },
     "metadata": {},
     "output_type": "display_data"
    }
   ],
   "source": [
    "progressivas = []\n",
    "\n",
    "for i in range(4):\n",
    "    progressivas.append([0] * nS)\n",
    "    \n",
    "alpha_p = E_p/E_cs\n",
    "\n",
    "delta_Np_max = 0\n",
    "delta_Mp_max = 0\n",
    "    \n",
    "for i in range(nS):\n",
    "    pos_i = relax[1][i]\n",
    "    momento = 0.5*Q_t0*pos_i*(Vao-pos_i)\n",
    "    #momento = esforcos[1][i]\n",
    "    #print(\"Momento seção \"+str(i)+\": \"+str(int(momento)))\n",
    "    for j in range(len(qntCordoalhas)-1,-1,-1):\n",
    "        if(relax[1][i] >= x1_anc[j] and relax[1][i] <= x2_anc[j]):\n",
    "            sigma_pi = sigma_p[j]\n",
    "            Npi = N_p[j]\n",
    "            Mpi = M_p[j]\n",
    "            Wcpi = W_cp[j]\n",
    "            e_pp = e_p_i[j]\n",
    "            A_pp = A_p[j]\n",
    "            break\n",
    "        else:\n",
    "            sigma_pi = 0\n",
    "            Npi = 0\n",
    "            Mpi = 0\n",
    "            Wcpi = 0\n",
    "            e_pp = 0\n",
    "            A_pp = 0\n",
    "            \n",
    "    if (Npi != 0):\n",
    "        progressivas[0][i] = round(Npi/A_c + Mpi/Wcpi + momento/Wcpi,2)\n",
    "        K_p = alpha_p*A_pp*(1/A_c + e_pp/Wcpi)\n",
    "        progressivas[1][i] = round( (( progressivas[0][i]*phi_t/E_cs + epsilon_cs - sigma_pi/E_p*relax[6][i] ) / (1 + relax[6][i] + K_p*(1+0.5*phi_t)) )*E_p,2)\n",
    "        progressivas[2][i] = -round(progressivas[1][i]*A_pp  ,2)\n",
    "        progressivas[3][i] = round(progressivas[2][i]*e_pp ,1)\n",
    "        if(progressivas[2][i] > delta_Np_max):\n",
    "            delta_Np_max = progressivas[2][i]\n",
    "            delta_Mp_max = progressivas[3][i]\n",
    "    else:\n",
    "        progressivas[0][i] = 0\n",
    "        progressivas[1][i] = 0\n",
    "        progressivas[2][i] = 0\n",
    "        progressivas[3][i] = 0\n",
    "    \n",
    "    \n",
    "\n",
    "tabela4 = pd.DataFrame(progressivas)\n",
    "tabela4 = tabela4.transpose()\n",
    "tabela4.rename(columns={0:'Sigma,c,t0',1:'\\u0394Sigma,p',2:'\\u0394Np',3:'\\u0394Mp'},inplace = True)\n",
    "display(tabela4)"
   ]
  },
  {
   "cell_type": "markdown",
   "id": "6d844d65",
   "metadata": {},
   "source": [
    "# Tensões Normais nas Bordas:\n",
    "\n",
    "## Bordas Superiores:"
   ]
  },
  {
   "cell_type": "code",
   "execution_count": 27,
   "id": "90627a03",
   "metadata": {},
   "outputs": [
    {
     "data": {
      "text/html": [
       "<div>\n",
       "<style scoped>\n",
       "    .dataframe tbody tr th:only-of-type {\n",
       "        vertical-align: middle;\n",
       "    }\n",
       "\n",
       "    .dataframe tbody tr th {\n",
       "        vertical-align: top;\n",
       "    }\n",
       "\n",
       "    .dataframe thead th {\n",
       "        text-align: right;\n",
       "    }\n",
       "</style>\n",
       "<table border=\"1\" class=\"dataframe\">\n",
       "  <thead>\n",
       "    <tr style=\"text-align: right;\">\n",
       "      <th></th>\n",
       "      <th>Pos (cm)</th>\n",
       "      <th>Sigma,s</th>\n",
       "      <th>OK</th>\n",
       "    </tr>\n",
       "  </thead>\n",
       "  <tbody>\n",
       "    <tr>\n",
       "      <th>0</th>\n",
       "      <td>0.0</td>\n",
       "      <td>0.303</td>\n",
       "      <td>OK</td>\n",
       "    </tr>\n",
       "    <tr>\n",
       "      <th>1</th>\n",
       "      <td>66.5</td>\n",
       "      <td>-0.012</td>\n",
       "      <td>OK</td>\n",
       "    </tr>\n",
       "    <tr>\n",
       "      <th>2</th>\n",
       "      <td>133.0</td>\n",
       "      <td>-0.294</td>\n",
       "      <td>OK</td>\n",
       "    </tr>\n",
       "    <tr>\n",
       "      <th>3</th>\n",
       "      <td>199.5</td>\n",
       "      <td>-0.416</td>\n",
       "      <td>OK</td>\n",
       "    </tr>\n",
       "    <tr>\n",
       "      <th>4</th>\n",
       "      <td>266.0</td>\n",
       "      <td>-0.631</td>\n",
       "      <td>OK</td>\n",
       "    </tr>\n",
       "    <tr>\n",
       "      <th>5</th>\n",
       "      <td>332.5</td>\n",
       "      <td>-0.813</td>\n",
       "      <td>OK</td>\n",
       "    </tr>\n",
       "    <tr>\n",
       "      <th>6</th>\n",
       "      <td>399.0</td>\n",
       "      <td>-0.961</td>\n",
       "      <td>OK</td>\n",
       "    </tr>\n",
       "    <tr>\n",
       "      <th>7</th>\n",
       "      <td>465.5</td>\n",
       "      <td>-1.077</td>\n",
       "      <td>OK</td>\n",
       "    </tr>\n",
       "    <tr>\n",
       "      <th>8</th>\n",
       "      <td>532.0</td>\n",
       "      <td>-1.159</td>\n",
       "      <td>OK</td>\n",
       "    </tr>\n",
       "    <tr>\n",
       "      <th>9</th>\n",
       "      <td>598.5</td>\n",
       "      <td>-1.209</td>\n",
       "      <td>OK</td>\n",
       "    </tr>\n",
       "    <tr>\n",
       "      <th>10</th>\n",
       "      <td>665.0</td>\n",
       "      <td>-1.225</td>\n",
       "      <td>OK</td>\n",
       "    </tr>\n",
       "    <tr>\n",
       "      <th>11</th>\n",
       "      <td>731.5</td>\n",
       "      <td>-1.209</td>\n",
       "      <td>OK</td>\n",
       "    </tr>\n",
       "    <tr>\n",
       "      <th>12</th>\n",
       "      <td>798.0</td>\n",
       "      <td>-1.159</td>\n",
       "      <td>OK</td>\n",
       "    </tr>\n",
       "    <tr>\n",
       "      <th>13</th>\n",
       "      <td>864.5</td>\n",
       "      <td>-1.077</td>\n",
       "      <td>OK</td>\n",
       "    </tr>\n",
       "    <tr>\n",
       "      <th>14</th>\n",
       "      <td>931.0</td>\n",
       "      <td>-0.961</td>\n",
       "      <td>OK</td>\n",
       "    </tr>\n",
       "    <tr>\n",
       "      <th>15</th>\n",
       "      <td>997.5</td>\n",
       "      <td>-0.813</td>\n",
       "      <td>OK</td>\n",
       "    </tr>\n",
       "    <tr>\n",
       "      <th>16</th>\n",
       "      <td>1064.0</td>\n",
       "      <td>-0.631</td>\n",
       "      <td>OK</td>\n",
       "    </tr>\n",
       "    <tr>\n",
       "      <th>17</th>\n",
       "      <td>1130.5</td>\n",
       "      <td>-0.416</td>\n",
       "      <td>OK</td>\n",
       "    </tr>\n",
       "    <tr>\n",
       "      <th>18</th>\n",
       "      <td>1197.0</td>\n",
       "      <td>-0.294</td>\n",
       "      <td>OK</td>\n",
       "    </tr>\n",
       "    <tr>\n",
       "      <th>19</th>\n",
       "      <td>1263.5</td>\n",
       "      <td>-0.012</td>\n",
       "      <td>OK</td>\n",
       "    </tr>\n",
       "    <tr>\n",
       "      <th>20</th>\n",
       "      <td>1330.0</td>\n",
       "      <td>0.303</td>\n",
       "      <td>OK</td>\n",
       "    </tr>\n",
       "  </tbody>\n",
       "</table>\n",
       "</div>"
      ],
      "text/plain": [
       "   Pos (cm) Sigma,s  OK\n",
       "0       0.0   0.303  OK\n",
       "1      66.5  -0.012  OK\n",
       "2     133.0  -0.294  OK\n",
       "3     199.5  -0.416  OK\n",
       "4     266.0  -0.631  OK\n",
       "5     332.5  -0.813  OK\n",
       "6     399.0  -0.961  OK\n",
       "7     465.5  -1.077  OK\n",
       "8     532.0  -1.159  OK\n",
       "9     598.5  -1.209  OK\n",
       "10    665.0  -1.225  OK\n",
       "11    731.5  -1.209  OK\n",
       "12    798.0  -1.159  OK\n",
       "13    864.5  -1.077  OK\n",
       "14    931.0  -0.961  OK\n",
       "15    997.5  -0.813  OK\n",
       "16   1064.0  -0.631  OK\n",
       "17   1130.5  -0.416  OK\n",
       "18   1197.0  -0.294  OK\n",
       "19   1263.5  -0.012  OK\n",
       "20   1330.0   0.303  OK"
      ]
     },
     "metadata": {},
     "output_type": "display_data"
    }
   ],
   "source": [
    "tensaosup = []\n",
    "\n",
    "for i in range(3):\n",
    "    tensaosup.append([0]*nS)\n",
    "    \n",
    "for i in range(nS):\n",
    "    tensaosup[0][i] = relax[1][i]\n",
    "    for j in range(len(qntCordoalhas)-1,-1,-1):\n",
    "        if(relax[1][i] >= x1_anc[j] and relax[1][i] <= x2_anc[j]):\n",
    "            sigma_pi = sigma_p[j]\n",
    "            Npi = N_p[j]\n",
    "            Mpi = M_p[j]\n",
    "            Wcpi = W_cp[j]\n",
    "            e_pp = e_p_i[j]\n",
    "            A_pp = A_p[j]\n",
    "            break\n",
    "    Npx = Npi + progressivas[2][i]\n",
    "    Mpx = Mpi + progressivas[3][i]\n",
    "    tensaosup[1][i] = round( -abs(Npx/A_c) + abs(Mpx/W_s) - abs(esforcos[1][i]/W_s) ,3)\n",
    "    if tensaosup[1][i] > -sigma_ccF:\n",
    "        tensaosup[2][i] = \"OK\"\n",
    "    else:\n",
    "        tensaosup[2][i] = \"--> NAO OK <--\"\n",
    "\n",
    "tabela5 = pd.DataFrame(tensaosup)\n",
    "tabela5 = tabela5.transpose()\n",
    "tabela5.rename(columns={0:'Pos (cm)',1:'Sigma,s',2:'OK'},inplace = True)\n",
    "display(tabela5)"
   ]
  },
  {
   "cell_type": "markdown",
   "id": "75627f5a",
   "metadata": {
    "tags": []
   },
   "source": [
    "## Bordas Inferiores:"
   ]
  },
  {
   "cell_type": "code",
   "execution_count": 28,
   "id": "43ea2740",
   "metadata": {},
   "outputs": [
    {
     "data": {
      "text/html": [
       "<div>\n",
       "<style scoped>\n",
       "    .dataframe tbody tr th:only-of-type {\n",
       "        vertical-align: middle;\n",
       "    }\n",
       "\n",
       "    .dataframe tbody tr th {\n",
       "        vertical-align: top;\n",
       "    }\n",
       "\n",
       "    .dataframe thead th {\n",
       "        text-align: right;\n",
       "    }\n",
       "</style>\n",
       "<table border=\"1\" class=\"dataframe\">\n",
       "  <thead>\n",
       "    <tr style=\"text-align: right;\">\n",
       "      <th></th>\n",
       "      <th>Pos (cm)</th>\n",
       "      <th>Sigma,i</th>\n",
       "      <th>OK</th>\n",
       "    </tr>\n",
       "  </thead>\n",
       "  <tbody>\n",
       "    <tr>\n",
       "      <th>0</th>\n",
       "      <td>0.0</td>\n",
       "      <td>-0.736</td>\n",
       "      <td>OK</td>\n",
       "    </tr>\n",
       "    <tr>\n",
       "      <th>1</th>\n",
       "      <td>66.5</td>\n",
       "      <td>-0.424</td>\n",
       "      <td>OK</td>\n",
       "    </tr>\n",
       "    <tr>\n",
       "      <th>2</th>\n",
       "      <td>133.0</td>\n",
       "      <td>-0.145</td>\n",
       "      <td>OK</td>\n",
       "    </tr>\n",
       "    <tr>\n",
       "      <th>3</th>\n",
       "      <td>199.5</td>\n",
       "      <td>-0.265</td>\n",
       "      <td>OK</td>\n",
       "    </tr>\n",
       "    <tr>\n",
       "      <th>4</th>\n",
       "      <td>266.0</td>\n",
       "      <td>-0.053</td>\n",
       "      <td>OK</td>\n",
       "    </tr>\n",
       "    <tr>\n",
       "      <th>5</th>\n",
       "      <td>332.5</td>\n",
       "      <td>0.125</td>\n",
       "      <td>OK</td>\n",
       "    </tr>\n",
       "    <tr>\n",
       "      <th>6</th>\n",
       "      <td>399.0</td>\n",
       "      <td>0.27</td>\n",
       "      <td>OK</td>\n",
       "    </tr>\n",
       "    <tr>\n",
       "      <th>7</th>\n",
       "      <td>465.5</td>\n",
       "      <td>0.386</td>\n",
       "      <td>OK</td>\n",
       "    </tr>\n",
       "    <tr>\n",
       "      <th>8</th>\n",
       "      <td>532.0</td>\n",
       "      <td>0.465</td>\n",
       "      <td>--&gt; NAO OK &lt;--</td>\n",
       "    </tr>\n",
       "    <tr>\n",
       "      <th>9</th>\n",
       "      <td>598.5</td>\n",
       "      <td>0.516</td>\n",
       "      <td>--&gt; NAO OK &lt;--</td>\n",
       "    </tr>\n",
       "    <tr>\n",
       "      <th>10</th>\n",
       "      <td>665.0</td>\n",
       "      <td>0.531</td>\n",
       "      <td>--&gt; NAO OK &lt;--</td>\n",
       "    </tr>\n",
       "    <tr>\n",
       "      <th>11</th>\n",
       "      <td>731.5</td>\n",
       "      <td>0.516</td>\n",
       "      <td>--&gt; NAO OK &lt;--</td>\n",
       "    </tr>\n",
       "    <tr>\n",
       "      <th>12</th>\n",
       "      <td>798.0</td>\n",
       "      <td>0.465</td>\n",
       "      <td>--&gt; NAO OK &lt;--</td>\n",
       "    </tr>\n",
       "    <tr>\n",
       "      <th>13</th>\n",
       "      <td>864.5</td>\n",
       "      <td>0.386</td>\n",
       "      <td>OK</td>\n",
       "    </tr>\n",
       "    <tr>\n",
       "      <th>14</th>\n",
       "      <td>931.0</td>\n",
       "      <td>0.27</td>\n",
       "      <td>OK</td>\n",
       "    </tr>\n",
       "    <tr>\n",
       "      <th>15</th>\n",
       "      <td>997.5</td>\n",
       "      <td>0.125</td>\n",
       "      <td>OK</td>\n",
       "    </tr>\n",
       "    <tr>\n",
       "      <th>16</th>\n",
       "      <td>1064.0</td>\n",
       "      <td>-0.053</td>\n",
       "      <td>OK</td>\n",
       "    </tr>\n",
       "    <tr>\n",
       "      <th>17</th>\n",
       "      <td>1130.5</td>\n",
       "      <td>-0.265</td>\n",
       "      <td>OK</td>\n",
       "    </tr>\n",
       "    <tr>\n",
       "      <th>18</th>\n",
       "      <td>1197.0</td>\n",
       "      <td>-0.145</td>\n",
       "      <td>OK</td>\n",
       "    </tr>\n",
       "    <tr>\n",
       "      <th>19</th>\n",
       "      <td>1263.5</td>\n",
       "      <td>-0.424</td>\n",
       "      <td>OK</td>\n",
       "    </tr>\n",
       "    <tr>\n",
       "      <th>20</th>\n",
       "      <td>1330.0</td>\n",
       "      <td>-0.736</td>\n",
       "      <td>OK</td>\n",
       "    </tr>\n",
       "  </tbody>\n",
       "</table>\n",
       "</div>"
      ],
      "text/plain": [
       "   Pos (cm) Sigma,i              OK\n",
       "0       0.0  -0.736              OK\n",
       "1      66.5  -0.424              OK\n",
       "2     133.0  -0.145              OK\n",
       "3     199.5  -0.265              OK\n",
       "4     266.0  -0.053              OK\n",
       "5     332.5   0.125              OK\n",
       "6     399.0    0.27              OK\n",
       "7     465.5   0.386              OK\n",
       "8     532.0   0.465  --> NAO OK <--\n",
       "9     598.5   0.516  --> NAO OK <--\n",
       "10    665.0   0.531  --> NAO OK <--\n",
       "11    731.5   0.516  --> NAO OK <--\n",
       "12    798.0   0.465  --> NAO OK <--\n",
       "13    864.5   0.386              OK\n",
       "14    931.0    0.27              OK\n",
       "15    997.5   0.125              OK\n",
       "16   1064.0  -0.053              OK\n",
       "17   1130.5  -0.265              OK\n",
       "18   1197.0  -0.145              OK\n",
       "19   1263.5  -0.424              OK\n",
       "20   1330.0  -0.736              OK"
      ]
     },
     "metadata": {},
     "output_type": "display_data"
    }
   ],
   "source": [
    "tensaoinf = []\n",
    "\n",
    "for i in range(3):\n",
    "    tensaoinf.append([0]*nS)\n",
    "    \n",
    "for i in range(nS):\n",
    "    tensaoinf[0][i] = relax[1][i]\n",
    "    for j in range(len(qntCordoalhas)-1,-1,-1):\n",
    "        if(relax[1][i] >= x1_anc[j] and relax[1][i] <= x2_anc[j]):\n",
    "            sigma_pi = sigma_p[j]\n",
    "            Npi = N_p[j]\n",
    "            Mpi = M_p[j]\n",
    "            Wcpi = W_cp[j]\n",
    "            e_pp = e_p_i[j]\n",
    "            A_pp = A_p[j]\n",
    "            break\n",
    "    Npx = Npi + progressivas[2][i]\n",
    "    Mpx = Mpi + progressivas[3][i]\n",
    "    tensaoinf[1][i] = round( -abs(Npx/A_c) - abs(Mpx/W_i) + abs(esforcos[1][i]/W_i) ,3)\n",
    "    if tensaoinf[1][i] < -sigma_ctF:\n",
    "        tensaoinf[2][i] = \"OK\"\n",
    "    else:\n",
    "        tensaoinf[2][i] = \"--> NAO OK <--\"\n",
    "    \n",
    "tabela6 = pd.DataFrame(tensaoinf)\n",
    "tabela6 = tabela6.transpose()\n",
    "tabela6.rename(columns={0:'Pos (cm)',1:'Sigma,i',2:'OK'},inplace = True)\n",
    "display(tabela6)"
   ]
  },
  {
   "cell_type": "markdown",
   "id": "73ee5e0c",
   "metadata": {},
   "source": [
    "# Armaduras Passivas:\n",
    "\n",
    "## Armadura da Cunha de Tração:"
   ]
  },
  {
   "cell_type": "code",
   "execution_count": 29,
   "id": "75b47b69",
   "metadata": {},
   "outputs": [
    {
     "name": "stdout",
     "output_type": "stream",
     "text": [
      "Seção crítica de cálculo: seção 0\n"
     ]
    }
   ],
   "source": [
    "sigma_cs0 = -10000\n",
    "pos = -1\n",
    "for i in range (0,nS):\n",
    "    if sigma_cs0 < tensaosup[1][i]:\n",
    "        sigma_cs0 = tensaosup[1][i]\n",
    "        pos = i\n",
    "\n",
    "sigma_ci0 = tensaoinf[1][pos]\n",
    "\n",
    "print(\"Seção crítica de cálculo: seção\",pos)"
   ]
  },
  {
   "cell_type": "code",
   "execution_count": 30,
   "id": "bea309c0",
   "metadata": {},
   "outputs": [
    {
     "data": {
      "text/latex": [
       "\\[\n",
       "\\begin{aligned}\n",
       "x &= \\frac{ \\sigma_{cs0} }{ \\sigma_{cs0} - \\sigma_{ci0} } \\cdot h  = \\frac{ 0.30 }{ 0.30 - -0.74 } \\cdot 100 &= 29.16  \n",
       "\\\\[10pt]\n",
       "S_{x} &= b \\cdot \\frac{ \\left( x \\right) ^{ 2 } }{ 2 }  = 45 \\cdot \\frac{ \\left( 29.16 \\right) ^{ 2 } }{ 2 } &= 19135.36  \n",
       "\\\\[10pt]\n",
       "R_{ct} &= \\frac{ \\sigma_{cs0} }{ x } \\cdot S_{x}  = \\frac{ 0.30 }{ 29.16 } \\cdot 19135.36 &= 198.82  \n",
       "\\\\[10pt]\n",
       "A_{st} &= \\frac{ R_{ct} }{ 25.00 }  = \\frac{ 198.82 }{ 25.00 } &= 7.95  \n",
       "\\\\[10pt]\n",
       "\\phi_{st} &= 1.60 \\; \n",
       "\\\\[10pt]\n",
       "N_{st} &= \\left \\lceil \\frac{ A_{st} }{ \\left( \\frac{ \\phi_{st} }{ 2 } \\right) ^{ 2 } \\cdot \\pi } \\right \\rceil  = \\left \\lceil \\frac{ 7.95 }{ \\left( \\frac{ 1.60 }{ 2 } \\right) ^{ 2 } \\cdot 3.14 } \\right \\rceil &= 4  \n",
       "\\end{aligned}\n",
       "\\]"
      ],
      "text/plain": [
       "<IPython.core.display.Latex object>"
      ]
     },
     "metadata": {},
     "output_type": "display_data"
    }
   ],
   "source": [
    "%%render 2\n",
    "\n",
    "x = sigma_cs0/(sigma_cs0 - sigma_ci0) * h\n",
    "\n",
    "S_x = b*x**2/2\n",
    "\n",
    "R_ct = sigma_cs0/x*S_x\n",
    "\n",
    "A_st = R_ct/25.00\n",
    "\n",
    "phi_st = 1.6\n",
    "\n",
    "N_st = ceil(A_st/((phi_st/2)**2*pi))"
   ]
  },
  {
   "cell_type": "markdown",
   "id": "a596a0c9",
   "metadata": {},
   "source": [
    "## Pré-Alongamento de Leito:"
   ]
  },
  {
   "cell_type": "code",
   "execution_count": 31,
   "id": "569ad1c3",
   "metadata": {
    "scrolled": true
   },
   "outputs": [
    {
     "data": {
      "text/html": [
       "<div>\n",
       "<style scoped>\n",
       "    .dataframe tbody tr th:only-of-type {\n",
       "        vertical-align: middle;\n",
       "    }\n",
       "\n",
       "    .dataframe tbody tr th {\n",
       "        vertical-align: top;\n",
       "    }\n",
       "\n",
       "    .dataframe thead th {\n",
       "        text-align: right;\n",
       "    }\n",
       "</style>\n",
       "<table border=\"1\" class=\"dataframe\">\n",
       "  <thead>\n",
       "    <tr style=\"text-align: right;\">\n",
       "      <th></th>\n",
       "      <th>Np,F</th>\n",
       "      <th>Mp,F</th>\n",
       "      <th>Sigma,cpF</th>\n",
       "      <th>Sigma,PN</th>\n",
       "      <th>e,pn</th>\n",
       "    </tr>\n",
       "  </thead>\n",
       "  <tbody>\n",
       "    <tr>\n",
       "      <th>0</th>\n",
       "      <td>-973.67</td>\n",
       "      <td>-38946.8</td>\n",
       "      <td>-0.63</td>\n",
       "      <td>117.43</td>\n",
       "      <td>0.00587</td>\n",
       "    </tr>\n",
       "    <tr>\n",
       "      <th>1</th>\n",
       "      <td>-981.30</td>\n",
       "      <td>-39252.0</td>\n",
       "      <td>-0.64</td>\n",
       "      <td>118.39</td>\n",
       "      <td>0.00592</td>\n",
       "    </tr>\n",
       "    <tr>\n",
       "      <th>2</th>\n",
       "      <td>-987.39</td>\n",
       "      <td>-39495.6</td>\n",
       "      <td>-0.64</td>\n",
       "      <td>119.10</td>\n",
       "      <td>0.00595</td>\n",
       "    </tr>\n",
       "    <tr>\n",
       "      <th>3</th>\n",
       "      <td>-1531.37</td>\n",
       "      <td>-58192.1</td>\n",
       "      <td>-0.93</td>\n",
       "      <td>112.93</td>\n",
       "      <td>0.00565</td>\n",
       "    </tr>\n",
       "    <tr>\n",
       "      <th>4</th>\n",
       "      <td>-1538.66</td>\n",
       "      <td>-58469.1</td>\n",
       "      <td>-0.93</td>\n",
       "      <td>113.44</td>\n",
       "      <td>0.00567</td>\n",
       "    </tr>\n",
       "    <tr>\n",
       "      <th>5</th>\n",
       "      <td>-1546.10</td>\n",
       "      <td>-58751.8</td>\n",
       "      <td>-0.94</td>\n",
       "      <td>114.02</td>\n",
       "      <td>0.00570</td>\n",
       "    </tr>\n",
       "    <tr>\n",
       "      <th>6</th>\n",
       "      <td>-1553.39</td>\n",
       "      <td>-59028.8</td>\n",
       "      <td>-0.94</td>\n",
       "      <td>114.53</td>\n",
       "      <td>0.00573</td>\n",
       "    </tr>\n",
       "    <tr>\n",
       "      <th>7</th>\n",
       "      <td>-1555.82</td>\n",
       "      <td>-59121.2</td>\n",
       "      <td>-0.94</td>\n",
       "      <td>114.70</td>\n",
       "      <td>0.00574</td>\n",
       "    </tr>\n",
       "    <tr>\n",
       "      <th>8</th>\n",
       "      <td>-1560.68</td>\n",
       "      <td>-59305.8</td>\n",
       "      <td>-0.95</td>\n",
       "      <td>115.10</td>\n",
       "      <td>0.00576</td>\n",
       "    </tr>\n",
       "    <tr>\n",
       "      <th>9</th>\n",
       "      <td>-1560.68</td>\n",
       "      <td>-59305.8</td>\n",
       "      <td>-0.95</td>\n",
       "      <td>115.10</td>\n",
       "      <td>0.00576</td>\n",
       "    </tr>\n",
       "    <tr>\n",
       "      <th>10</th>\n",
       "      <td>-1563.11</td>\n",
       "      <td>-59398.2</td>\n",
       "      <td>-0.95</td>\n",
       "      <td>115.27</td>\n",
       "      <td>0.00576</td>\n",
       "    </tr>\n",
       "    <tr>\n",
       "      <th>11</th>\n",
       "      <td>-1560.68</td>\n",
       "      <td>-59305.8</td>\n",
       "      <td>-0.95</td>\n",
       "      <td>115.10</td>\n",
       "      <td>0.00576</td>\n",
       "    </tr>\n",
       "    <tr>\n",
       "      <th>12</th>\n",
       "      <td>-1560.68</td>\n",
       "      <td>-59305.8</td>\n",
       "      <td>-0.95</td>\n",
       "      <td>115.10</td>\n",
       "      <td>0.00576</td>\n",
       "    </tr>\n",
       "    <tr>\n",
       "      <th>13</th>\n",
       "      <td>-1555.82</td>\n",
       "      <td>-59121.2</td>\n",
       "      <td>-0.94</td>\n",
       "      <td>114.70</td>\n",
       "      <td>0.00574</td>\n",
       "    </tr>\n",
       "    <tr>\n",
       "      <th>14</th>\n",
       "      <td>-1553.39</td>\n",
       "      <td>-59028.8</td>\n",
       "      <td>-0.94</td>\n",
       "      <td>114.53</td>\n",
       "      <td>0.00573</td>\n",
       "    </tr>\n",
       "    <tr>\n",
       "      <th>15</th>\n",
       "      <td>-1546.10</td>\n",
       "      <td>-58751.8</td>\n",
       "      <td>-0.94</td>\n",
       "      <td>114.02</td>\n",
       "      <td>0.00570</td>\n",
       "    </tr>\n",
       "    <tr>\n",
       "      <th>16</th>\n",
       "      <td>-1538.66</td>\n",
       "      <td>-58469.1</td>\n",
       "      <td>-0.93</td>\n",
       "      <td>113.44</td>\n",
       "      <td>0.00567</td>\n",
       "    </tr>\n",
       "    <tr>\n",
       "      <th>17</th>\n",
       "      <td>-1531.37</td>\n",
       "      <td>-58192.1</td>\n",
       "      <td>-0.93</td>\n",
       "      <td>112.93</td>\n",
       "      <td>0.00565</td>\n",
       "    </tr>\n",
       "    <tr>\n",
       "      <th>18</th>\n",
       "      <td>-987.39</td>\n",
       "      <td>-39495.6</td>\n",
       "      <td>-0.64</td>\n",
       "      <td>119.10</td>\n",
       "      <td>0.00595</td>\n",
       "    </tr>\n",
       "    <tr>\n",
       "      <th>19</th>\n",
       "      <td>-981.30</td>\n",
       "      <td>-39252.0</td>\n",
       "      <td>-0.64</td>\n",
       "      <td>118.39</td>\n",
       "      <td>0.00592</td>\n",
       "    </tr>\n",
       "    <tr>\n",
       "      <th>20</th>\n",
       "      <td>-973.67</td>\n",
       "      <td>-38946.8</td>\n",
       "      <td>-0.63</td>\n",
       "      <td>117.43</td>\n",
       "      <td>0.00587</td>\n",
       "    </tr>\n",
       "  </tbody>\n",
       "</table>\n",
       "</div>"
      ],
      "text/plain": [
       "       Np,F     Mp,F  Sigma,cpF  Sigma,PN     e,pn\n",
       "0   -973.67 -38946.8      -0.63    117.43  0.00587\n",
       "1   -981.30 -39252.0      -0.64    118.39  0.00592\n",
       "2   -987.39 -39495.6      -0.64    119.10  0.00595\n",
       "3  -1531.37 -58192.1      -0.93    112.93  0.00565\n",
       "4  -1538.66 -58469.1      -0.93    113.44  0.00567\n",
       "5  -1546.10 -58751.8      -0.94    114.02  0.00570\n",
       "6  -1553.39 -59028.8      -0.94    114.53  0.00573\n",
       "7  -1555.82 -59121.2      -0.94    114.70  0.00574\n",
       "8  -1560.68 -59305.8      -0.95    115.10  0.00576\n",
       "9  -1560.68 -59305.8      -0.95    115.10  0.00576\n",
       "10 -1563.11 -59398.2      -0.95    115.27  0.00576\n",
       "11 -1560.68 -59305.8      -0.95    115.10  0.00576\n",
       "12 -1560.68 -59305.8      -0.95    115.10  0.00576\n",
       "13 -1555.82 -59121.2      -0.94    114.70  0.00574\n",
       "14 -1553.39 -59028.8      -0.94    114.53  0.00573\n",
       "15 -1546.10 -58751.8      -0.94    114.02  0.00570\n",
       "16 -1538.66 -58469.1      -0.93    113.44  0.00567\n",
       "17 -1531.37 -58192.1      -0.93    112.93  0.00565\n",
       "18  -987.39 -39495.6      -0.64    119.10  0.00595\n",
       "19  -981.30 -39252.0      -0.64    118.39  0.00592\n",
       "20  -973.67 -38946.8      -0.63    117.43  0.00587"
      ]
     },
     "metadata": {},
     "output_type": "display_data"
    }
   ],
   "source": [
    "prealong = []\n",
    "\n",
    "for i in range(5):\n",
    "    prealong.append([0] * nS)\n",
    "    \n",
    "for i in range(nS):\n",
    "    for j in range(len(qntCordoalhas)-1,-1,-1):\n",
    "        if(relax[1][i] >= x1_anc[j] and relax[1][i] <= x2_anc[j]):\n",
    "                sigma_pw = sigma_p[j]\n",
    "                Npw = N_p[j]\n",
    "                Mpw = M_p[j]\n",
    "                Wcpw = W_cp[j]\n",
    "                break\n",
    "    prealong[0][i] = Npw + progressivas[2][i]\n",
    "    prealong[1][i] = Mpw + progressivas[3][i]\n",
    "    prealong[2][i] = round(prealong[0][i]/A_c + prealong[1][i]/Wcpw ,2)\n",
    "    prealong[3][i] = round( sigma_pw + progressivas[1][i] - alpha_p*prealong[2][i] ,2)\n",
    "    prealong[4][i] = round(prealong[3][i]/E_p,5)\n",
    "\n",
    "tabela7 = pd.DataFrame(prealong)\n",
    "tabela7 = tabela7.transpose()\n",
    "tabela7.rename(columns={0:'Np,F',1:'Mp,F',2:'Sigma,cpF', 3:'Sigma,PN',4:'e,pn'},inplace = True)\n",
    "display(tabela7)"
   ]
  },
  {
   "cell_type": "markdown",
   "id": "4d5136bb",
   "metadata": {},
   "source": [
    "## Armadura Passiva de Flexão:"
   ]
  },
  {
   "cell_type": "markdown",
   "id": "31b176c6",
   "metadata": {},
   "source": [
    "![formulario](img/formulario.png)"
   ]
  },
  {
   "cell_type": "code",
   "execution_count": 32,
   "id": "1f6b8e0e",
   "metadata": {},
   "outputs": [
    {
     "data": {
      "text/html": [
       "<div>\n",
       "<style scoped>\n",
       "    .dataframe tbody tr th:only-of-type {\n",
       "        vertical-align: middle;\n",
       "    }\n",
       "\n",
       "    .dataframe tbody tr th {\n",
       "        vertical-align: top;\n",
       "    }\n",
       "\n",
       "    .dataframe thead th {\n",
       "        text-align: right;\n",
       "    }\n",
       "</style>\n",
       "<table border=\"1\" class=\"dataframe\">\n",
       "  <thead>\n",
       "    <tr style=\"text-align: right;\">\n",
       "      <th></th>\n",
       "      <th>Md</th>\n",
       "      <th>x</th>\n",
       "      <th>x/d</th>\n",
       "      <th>eps,s</th>\n",
       "      <th>sigma,s</th>\n",
       "      <th>eps,p</th>\n",
       "      <th>sigma,p</th>\n",
       "      <th>As</th>\n",
       "    </tr>\n",
       "  </thead>\n",
       "  <tbody>\n",
       "    <tr>\n",
       "      <th>0</th>\n",
       "      <td>0.0</td>\n",
       "      <td>0.77</td>\n",
       "      <td>0.008</td>\n",
       "      <td>0.42801</td>\n",
       "      <td>43.48</td>\n",
       "      <td>0.41058</td>\n",
       "      <td>148.7</td>\n",
       "      <td>-27.80</td>\n",
       "    </tr>\n",
       "    <tr>\n",
       "      <th>1</th>\n",
       "      <td>33313.0</td>\n",
       "      <td>4.88</td>\n",
       "      <td>0.051</td>\n",
       "      <td>0.06465</td>\n",
       "      <td>43.48</td>\n",
       "      <td>0.06639</td>\n",
       "      <td>148.7</td>\n",
       "      <td>-19.53</td>\n",
       "    </tr>\n",
       "    <tr>\n",
       "      <th>2</th>\n",
       "      <td>63119.0</td>\n",
       "      <td>8.69</td>\n",
       "      <td>0.091</td>\n",
       "      <td>0.03478</td>\n",
       "      <td>43.48</td>\n",
       "      <td>0.03812</td>\n",
       "      <td>148.7</td>\n",
       "      <td>-11.87</td>\n",
       "    </tr>\n",
       "    <tr>\n",
       "      <th>3</th>\n",
       "      <td>89419.0</td>\n",
       "      <td>13.30</td>\n",
       "      <td>0.140</td>\n",
       "      <td>0.02149</td>\n",
       "      <td>43.48</td>\n",
       "      <td>0.02474</td>\n",
       "      <td>148.7</td>\n",
       "      <td>-22.16</td>\n",
       "    </tr>\n",
       "    <tr>\n",
       "      <th>4</th>\n",
       "      <td>112213.0</td>\n",
       "      <td>16.44</td>\n",
       "      <td>0.173</td>\n",
       "      <td>0.01672</td>\n",
       "      <td>43.48</td>\n",
       "      <td>0.02034</td>\n",
       "      <td>148.7</td>\n",
       "      <td>-15.85</td>\n",
       "    </tr>\n",
       "    <tr>\n",
       "      <th>5</th>\n",
       "      <td>131500.0</td>\n",
       "      <td>19.17</td>\n",
       "      <td>0.202</td>\n",
       "      <td>0.01384</td>\n",
       "      <td>43.48</td>\n",
       "      <td>0.01769</td>\n",
       "      <td>148.7</td>\n",
       "      <td>-10.36</td>\n",
       "    </tr>\n",
       "    <tr>\n",
       "      <th>6</th>\n",
       "      <td>147280.0</td>\n",
       "      <td>21.46</td>\n",
       "      <td>0.226</td>\n",
       "      <td>0.01199</td>\n",
       "      <td>43.48</td>\n",
       "      <td>0.01601</td>\n",
       "      <td>148.7</td>\n",
       "      <td>-5.75</td>\n",
       "    </tr>\n",
       "    <tr>\n",
       "      <th>7</th>\n",
       "      <td>159553.0</td>\n",
       "      <td>23.29</td>\n",
       "      <td>0.245</td>\n",
       "      <td>0.01078</td>\n",
       "      <td>43.48</td>\n",
       "      <td>0.01489</td>\n",
       "      <td>148.7</td>\n",
       "      <td>-2.07</td>\n",
       "    </tr>\n",
       "    <tr>\n",
       "      <th>8</th>\n",
       "      <td>168320.0</td>\n",
       "      <td>24.61</td>\n",
       "      <td>0.259</td>\n",
       "      <td>0.01001</td>\n",
       "      <td>43.48</td>\n",
       "      <td>0.01420</td>\n",
       "      <td>148.7</td>\n",
       "      <td>0.58</td>\n",
       "    </tr>\n",
       "    <tr>\n",
       "      <th>9</th>\n",
       "      <td>173579.0</td>\n",
       "      <td>25.41</td>\n",
       "      <td>0.267</td>\n",
       "      <td>0.00959</td>\n",
       "      <td>43.48</td>\n",
       "      <td>0.01381</td>\n",
       "      <td>148.7</td>\n",
       "      <td>2.19</td>\n",
       "    </tr>\n",
       "    <tr>\n",
       "      <th>10</th>\n",
       "      <td>175333.0</td>\n",
       "      <td>25.68</td>\n",
       "      <td>0.270</td>\n",
       "      <td>0.00945</td>\n",
       "      <td>43.48</td>\n",
       "      <td>0.01368</td>\n",
       "      <td>148.7</td>\n",
       "      <td>2.73</td>\n",
       "    </tr>\n",
       "    <tr>\n",
       "      <th>11</th>\n",
       "      <td>173579.0</td>\n",
       "      <td>25.41</td>\n",
       "      <td>0.267</td>\n",
       "      <td>0.00959</td>\n",
       "      <td>43.48</td>\n",
       "      <td>0.01381</td>\n",
       "      <td>148.7</td>\n",
       "      <td>2.19</td>\n",
       "    </tr>\n",
       "    <tr>\n",
       "      <th>12</th>\n",
       "      <td>168320.0</td>\n",
       "      <td>24.61</td>\n",
       "      <td>0.259</td>\n",
       "      <td>0.01001</td>\n",
       "      <td>43.48</td>\n",
       "      <td>0.01420</td>\n",
       "      <td>148.7</td>\n",
       "      <td>0.58</td>\n",
       "    </tr>\n",
       "    <tr>\n",
       "      <th>13</th>\n",
       "      <td>159553.0</td>\n",
       "      <td>23.29</td>\n",
       "      <td>0.245</td>\n",
       "      <td>0.01078</td>\n",
       "      <td>43.48</td>\n",
       "      <td>0.01489</td>\n",
       "      <td>148.7</td>\n",
       "      <td>-2.07</td>\n",
       "    </tr>\n",
       "    <tr>\n",
       "      <th>14</th>\n",
       "      <td>147280.0</td>\n",
       "      <td>21.46</td>\n",
       "      <td>0.226</td>\n",
       "      <td>0.01199</td>\n",
       "      <td>43.48</td>\n",
       "      <td>0.01601</td>\n",
       "      <td>148.7</td>\n",
       "      <td>-5.75</td>\n",
       "    </tr>\n",
       "    <tr>\n",
       "      <th>15</th>\n",
       "      <td>131500.0</td>\n",
       "      <td>19.17</td>\n",
       "      <td>0.202</td>\n",
       "      <td>0.01384</td>\n",
       "      <td>43.48</td>\n",
       "      <td>0.01769</td>\n",
       "      <td>148.7</td>\n",
       "      <td>-10.36</td>\n",
       "    </tr>\n",
       "    <tr>\n",
       "      <th>16</th>\n",
       "      <td>112213.0</td>\n",
       "      <td>16.44</td>\n",
       "      <td>0.173</td>\n",
       "      <td>0.01672</td>\n",
       "      <td>43.48</td>\n",
       "      <td>0.02034</td>\n",
       "      <td>148.7</td>\n",
       "      <td>-15.85</td>\n",
       "    </tr>\n",
       "    <tr>\n",
       "      <th>17</th>\n",
       "      <td>89419.0</td>\n",
       "      <td>13.30</td>\n",
       "      <td>0.140</td>\n",
       "      <td>0.02149</td>\n",
       "      <td>43.48</td>\n",
       "      <td>0.02474</td>\n",
       "      <td>148.7</td>\n",
       "      <td>-22.16</td>\n",
       "    </tr>\n",
       "    <tr>\n",
       "      <th>18</th>\n",
       "      <td>63119.0</td>\n",
       "      <td>8.69</td>\n",
       "      <td>0.091</td>\n",
       "      <td>0.03478</td>\n",
       "      <td>43.48</td>\n",
       "      <td>0.03812</td>\n",
       "      <td>148.7</td>\n",
       "      <td>-11.87</td>\n",
       "    </tr>\n",
       "    <tr>\n",
       "      <th>19</th>\n",
       "      <td>33313.0</td>\n",
       "      <td>4.88</td>\n",
       "      <td>0.051</td>\n",
       "      <td>0.06465</td>\n",
       "      <td>43.48</td>\n",
       "      <td>0.06639</td>\n",
       "      <td>148.7</td>\n",
       "      <td>-19.53</td>\n",
       "    </tr>\n",
       "    <tr>\n",
       "      <th>20</th>\n",
       "      <td>0.0</td>\n",
       "      <td>0.77</td>\n",
       "      <td>0.008</td>\n",
       "      <td>0.42801</td>\n",
       "      <td>43.48</td>\n",
       "      <td>0.41058</td>\n",
       "      <td>148.7</td>\n",
       "      <td>-27.80</td>\n",
       "    </tr>\n",
       "  </tbody>\n",
       "</table>\n",
       "</div>"
      ],
      "text/plain": [
       "          Md      x    x/d    eps,s  sigma,s    eps,p  sigma,p     As\n",
       "0        0.0   0.77  0.008  0.42801    43.48  0.41058    148.7 -27.80\n",
       "1    33313.0   4.88  0.051  0.06465    43.48  0.06639    148.7 -19.53\n",
       "2    63119.0   8.69  0.091  0.03478    43.48  0.03812    148.7 -11.87\n",
       "3    89419.0  13.30  0.140  0.02149    43.48  0.02474    148.7 -22.16\n",
       "4   112213.0  16.44  0.173  0.01672    43.48  0.02034    148.7 -15.85\n",
       "5   131500.0  19.17  0.202  0.01384    43.48  0.01769    148.7 -10.36\n",
       "6   147280.0  21.46  0.226  0.01199    43.48  0.01601    148.7  -5.75\n",
       "7   159553.0  23.29  0.245  0.01078    43.48  0.01489    148.7  -2.07\n",
       "8   168320.0  24.61  0.259  0.01001    43.48  0.01420    148.7   0.58\n",
       "9   173579.0  25.41  0.267  0.00959    43.48  0.01381    148.7   2.19\n",
       "10  175333.0  25.68  0.270  0.00945    43.48  0.01368    148.7   2.73\n",
       "11  173579.0  25.41  0.267  0.00959    43.48  0.01381    148.7   2.19\n",
       "12  168320.0  24.61  0.259  0.01001    43.48  0.01420    148.7   0.58\n",
       "13  159553.0  23.29  0.245  0.01078    43.48  0.01489    148.7  -2.07\n",
       "14  147280.0  21.46  0.226  0.01199    43.48  0.01601    148.7  -5.75\n",
       "15  131500.0  19.17  0.202  0.01384    43.48  0.01769    148.7 -10.36\n",
       "16  112213.0  16.44  0.173  0.01672    43.48  0.02034    148.7 -15.85\n",
       "17   89419.0  13.30  0.140  0.02149    43.48  0.02474    148.7 -22.16\n",
       "18   63119.0   8.69  0.091  0.03478    43.48  0.03812    148.7 -11.87\n",
       "19   33313.0   4.88  0.051  0.06465    43.48  0.06639    148.7 -19.53\n",
       "20       0.0   0.77  0.008  0.42801    43.48  0.41058    148.7 -27.80"
      ]
     },
     "metadata": {},
     "output_type": "display_data"
    }
   ],
   "source": [
    "d_p = [] # braço de alavanca da armadura ativa\n",
    "d_s = [] # braço de alavanca da armadura passiva\n",
    "\n",
    "for i in range(len(qntCordoalhas)):\n",
    "    d_p.append(e_p_i[i] + h/2)\n",
    "    d_s.append(h-5) # estimativa para ds\n",
    "    \n",
    "A_s = []\n",
    "for i in range(8):\n",
    "    A_s.append([0] * nS)\n",
    "    \n",
    "for i in range(nS):\n",
    "    for j in range(len(qntCordoalhas)-1,-1,-1):\n",
    "        if(relax[1][i] >= x1_anc[j] and relax[1][i] <= x2_anc[j]):\n",
    "            sigma_pm = sigma_p[j]\n",
    "            Npm = N_p[j]\n",
    "            Mpm = M_p[j]\n",
    "            Wcpm = W_cp[j]\n",
    "            A_pm = A_p[j]\n",
    "            d_sm = d_s[j]\n",
    "            d_pm = d_p[j]\n",
    "            break\n",
    "    Md = esforcos[1][i]*1.4\n",
    "    retorno = linha_neutra_cp_ret(b,h,f_c,A_pm,prealong[4][i],d_pm,d_sm,Md)\n",
    "    A_s[0][i] = int(Md)\n",
    "    A_s[1][i] = retorno[0]\n",
    "    A_s[2][i] = round(retorno[0]/d_sm,3)\n",
    "    A_s[3][i] = retorno[2]\n",
    "    A_s[5][i] = retorno[1]\n",
    "    A_s[4][i] = retorno[4]\n",
    "    A_s[6][i] = retorno[5]\n",
    "    A_s[7][i] = round((0.8*b*f_c*retorno[0]-retorno[3])/retorno[4],2)\n",
    "    \n",
    "\n",
    "tabela8 = pd.DataFrame(A_s)\n",
    "tabela8 = tabela8.transpose()\n",
    "tabela8.rename(columns={0:'Md', 1:'x',2:'x/d',3:'eps,s',4:'sigma,s',5:'eps,p',6:'sigma,p',7:'As'},inplace = True)\n",
    "display(tabela8)"
   ]
  },
  {
   "cell_type": "markdown",
   "id": "65c38f65",
   "metadata": {},
   "source": [
    "# Dimensionamento ao Esforço Cortante:\n",
    "\n",
    "## Verificação da Diagonal Comprimida:"
   ]
  },
  {
   "cell_type": "code",
   "execution_count": 33,
   "id": "ae08011f",
   "metadata": {},
   "outputs": [
    {
     "data": {
      "text/latex": [
       "\\[\n",
       "\\begin{aligned}\n",
       "V_{d} &= V_{F} \\cdot 1.4  = 376.656 \\cdot 1.4 &= 527.318  \n",
       "\\\\[10pt]\n",
       "\\tau_{wd} &= \\frac{ V_{d} }{ \\left( b - e_{eps} \\right) \\cdot d_{sm} }  = \\frac{ 527.318 }{ \\left( 45 - 0 \\right) \\cdot 95 } &= 0.123  \n",
       "\\\\[10pt]\n",
       "\\tau_{wu} &= 0.27 \\cdot \\left( 1 - \\frac{ f_{ck} }{ 25 } \\right) \\cdot \\frac{ f_{ck} }{ 1.4 }  = 0.27 \\cdot \\left( 1 - \\frac{ 4 }{ 25 } \\right) \\cdot \\frac{ 4 }{ 1.4 } &= 0.648  \n",
       "\\end{aligned}\n",
       "\\]"
      ],
      "text/plain": [
       "<IPython.core.display.Latex object>"
      ]
     },
     "metadata": {},
     "output_type": "display_data"
    }
   ],
   "source": [
    "%%render\n",
    "\n",
    "V_d = V_F * 1.4\n",
    "tau_wd = V_d/((b-e_eps)*d_sm)\n",
    "tau_wu = 0.27*(1-f_ck/25)*f_ck/1.4\n"
   ]
  },
  {
   "cell_type": "code",
   "execution_count": 34,
   "id": "4ef95e8c",
   "metadata": {},
   "outputs": [
    {
     "name": "stdout",
     "output_type": "stream",
     "text": [
      "OK!\n"
     ]
    }
   ],
   "source": [
    "if tau_wu > tau_wd:\n",
    "    print(\"OK!\")\n",
    "else:\n",
    "    print(\"NÃO OK!\")"
   ]
  },
  {
   "cell_type": "markdown",
   "id": "c19e4cee",
   "metadata": {},
   "source": [
    "## Cálculo da Armadura de Corte:\n",
    "\n",
    "### Armadura Mínima:"
   ]
  },
  {
   "cell_type": "code",
   "execution_count": 35,
   "id": "22d38c73",
   "metadata": {},
   "outputs": [
    {
     "data": {
      "text/latex": [
       "\\[\n",
       "\\begin{aligned}\n",
       "\\rho_{min} &= 0.2 \\cdot \\frac{ f_{ctm} }{ f_{yk} }  = 0.2 \\cdot \\frac{ 0.351 }{ 50 } &= 0.001  \n",
       "\\\\[10pt]\n",
       "A_{sws} &= \\rho_{min} \\cdot b  = 0.001 \\cdot 45 &= 0.063  \n",
       "\\\\[10pt]\n",
       "s &= 15 \\; \n",
       "\\\\[10pt]\n",
       "A_{sw_{min}} &= A_{sws} \\cdot s  = 0.063 \\cdot 15 &= 0.947  \n",
       "\\\\[10pt]\n",
       "\\mathrm{nr} &= 2 \\; \n",
       "\\\\[10pt]\n",
       "\\phi_{min} &= 2 \\cdot \\left( \\frac{ A_{sw_{min}} }{ \\pi \\cdot \\mathrm{nr} } \\right) ^{ 0.5 }  = 2 \\cdot \\left( \\frac{ 0.947 }{ 3.142 \\cdot 2 } \\right) ^{ 0.5 } &= 0.777  \n",
       "\\end{aligned}\n",
       "\\]"
      ],
      "text/plain": [
       "<IPython.core.display.Latex object>"
      ]
     },
     "metadata": {},
     "output_type": "display_data"
    }
   ],
   "source": [
    "%%render short\n",
    "\n",
    "rho_min = 0.2*f_ctm/f_yk\n",
    "A_sws = rho_min*b\n",
    "\n",
    "s = 15\n",
    "\n",
    "A_sw_min = A_sws*s\n",
    "\n",
    "nr = 2\n",
    "\n",
    "phi_min = 2*(A_sw_min/(pi*nr))**0.5\n"
   ]
  },
  {
   "cell_type": "markdown",
   "id": "d12af5a7",
   "metadata": {},
   "source": [
    "### Armadura Calculada:"
   ]
  },
  {
   "cell_type": "code",
   "execution_count": 36,
   "id": "6b0fc121",
   "metadata": {},
   "outputs": [],
   "source": [
    "i = int((nS+1)/2)\n",
    "M_pf = prealong[1][i]\n",
    "N_pf = prealong[0][i]"
   ]
  },
  {
   "cell_type": "code",
   "execution_count": 37,
   "id": "c82568dd",
   "metadata": {},
   "outputs": [
    {
     "data": {
      "text/latex": [
       "\\[\n",
       "\\begin{aligned}\n",
       "\\sigma_{ciF} &= \\frac{ N_{pf} }{ A_{c} } + \\frac{ M_{pf} }{ W_{i} }  = \\frac{ -1560.680 }{ 4500 } + \\frac{ -59305.800 }{ 75000.000 } &= -1.138  \n",
       "\\\\[10pt]\n",
       "M_{0} &= \\left( - \\sigma_{ciF} \\right) \\cdot W_{i}  = \\left( - -1.138 \\right) \\cdot 75000.000 &= 85317.133  \n",
       "\\\\[10pt]\n",
       "M_{d_{max}} &= 1.4 \\cdot M_{F}  = 1.4 \\cdot 125238.120 &= 175333.368  \n",
       "\\\\[10pt]\n",
       "V_{c0} &= 0.6 \\cdot f_{ctd} \\cdot b \\cdot d_{sm}  = 0.6 \\cdot 0.138 \\cdot 45 \\cdot 95 &= 354.773  \n",
       "\\\\[10pt]\n",
       "V_{c} &= \\left( 1 + \\frac{ M_{0} }{ M_{d_{max}} } \\right) \\cdot V_{c0}  = \\left( 1 + \\frac{ 85317.133 }{ 175333.368 } \\right) \\cdot 354.773 &= 527.405  \n",
       "\\\\[10pt]\n",
       "V_{sw} &= 1.4 \\cdot V_{F} - V_{c}  = 1.4 \\cdot 376.656 - 527.405 &= -0.087  \n",
       "\\\\[10pt]\n",
       "A_{sws} &= \\frac{ V_{sw} }{ 0.9 \\cdot d_{sm} \\cdot f_{yd} }  = \\frac{ -0.087 }{ 0.9 \\cdot 95 \\cdot 43.478 } &= -0.000  \n",
       "\\\\[10pt]\n",
       "s &= 20 \\; \n",
       "\\\\[10pt]\n",
       "\\mathrm{nr} &= 2 \\; \n",
       "\\\\[10pt]\n",
       "\\phi_{min} &= 2 \\cdot \\left( \\frac{ A_{sws} }{ \\pi \\cdot \\mathrm{nr} } \\right) ^{ 0.5 }  = 2 \\cdot \\left( \\frac{ -0.000 }{ 3.142 \\cdot 2 } \\right) ^{ 0.5 } &= nan  \n",
       "\\end{aligned}\n",
       "\\]"
      ],
      "text/plain": [
       "<IPython.core.display.Latex object>"
      ]
     },
     "metadata": {},
     "output_type": "display_data"
    }
   ],
   "source": [
    "%%render\n",
    "\n",
    "sigma_ciF = N_pf/A_c + M_pf/W_i\n",
    "M_0 = -sigma_ciF*W_i\n",
    "M_d_max = 1.4*M_F\n",
    "\n",
    "V_c0 = 0.6*f_ctd*b*d_sm\n",
    "V_c = (1+M_0/M_d_max)*V_c0\n",
    "\n",
    "V_sw = 1.4*V_F - V_c\n",
    "\n",
    "A_sws = V_sw/(0.9*d_sm*f_yd)\n",
    "\n",
    "s = 20\n",
    "nr = 2\n",
    "phi_min = 2*(A_sws/(pi*nr))**0.5"
   ]
  },
  {
   "cell_type": "markdown",
   "id": "cb07b5ff",
   "metadata": {},
   "source": [
    "## Armadura de Introdução da Força de Protensão:"
   ]
  },
  {
   "cell_type": "code",
   "execution_count": 38,
   "id": "6fc6c7de",
   "metadata": {},
   "outputs": [],
   "source": [
    "# VERIFICAR SE ESTA É MESMO A FORÇA DE PROTENSÃO INSERIDA NO APOIO\n",
    "\n",
    "N_p1 = -N_p[0]"
   ]
  },
  {
   "cell_type": "code",
   "execution_count": 39,
   "id": "b7590313",
   "metadata": {},
   "outputs": [
    {
     "data": {
      "text/latex": [
       "\\[\n",
       "\\begin{aligned}\n",
       "A_{swi} &= \\frac{ 0.25 \\cdot N_{p1} }{ 25.00 }  = \\frac{ 0.25 \\cdot 1250.200 }{ 25.00 } &= 12.502  \n",
       "\\end{aligned}\n",
       "\\]"
      ],
      "text/plain": [
       "<IPython.core.display.Latex object>"
      ]
     },
     "metadata": {},
     "output_type": "display_data"
    }
   ],
   "source": [
    "%%render\n",
    "\n",
    "A_swi = (0.25*N_p1)/25.00"
   ]
  },
  {
   "cell_type": "markdown",
   "id": "fd785673",
   "metadata": {},
   "source": [
    "Esta armadura deve ser distribuída num trecho equivalente à 70% do comprimento de regularização."
   ]
  },
  {
   "cell_type": "code",
   "execution_count": 40,
   "id": "f6602312",
   "metadata": {
    "scrolled": true
   },
   "outputs": [
    {
     "data": {
      "text/latex": [
       "\\[\n",
       "\\begin{aligned}\n",
       "l_{d} &= l_{p} \\cdot 0.7  = 128.816 \\cdot 0.7 &= 90.171  \n",
       "\\end{aligned}\n",
       "\\]"
      ],
      "text/plain": [
       "<IPython.core.display.Latex object>"
      ]
     },
     "metadata": {},
     "output_type": "display_data"
    }
   ],
   "source": [
    "%%render\n",
    "\n",
    "l_d = l_p*0.7"
   ]
  },
  {
   "cell_type": "markdown",
   "id": "38071ce5",
   "metadata": {},
   "source": [
    "# Cálculo da Flecha:"
   ]
  },
  {
   "cell_type": "code",
   "execution_count": 41,
   "id": "d8fcf512",
   "metadata": {},
   "outputs": [
    {
     "data": {
      "text/html": [
       "<div>\n",
       "<style scoped>\n",
       "    .dataframe tbody tr th:only-of-type {\n",
       "        vertical-align: middle;\n",
       "    }\n",
       "\n",
       "    .dataframe tbody tr th {\n",
       "        vertical-align: top;\n",
       "    }\n",
       "\n",
       "    .dataframe thead th {\n",
       "        text-align: right;\n",
       "    }\n",
       "</style>\n",
       "<table border=\"1\" class=\"dataframe\">\n",
       "  <thead>\n",
       "    <tr style=\"text-align: right;\">\n",
       "      <th></th>\n",
       "      <th>Ap</th>\n",
       "      <th>b</th>\n",
       "      <th>Delta</th>\n",
       "    </tr>\n",
       "  </thead>\n",
       "  <tbody>\n",
       "    <tr>\n",
       "      <th>0</th>\n",
       "      <td>8.58</td>\n",
       "      <td>0.000</td>\n",
       "      <td>-0.93</td>\n",
       "    </tr>\n",
       "    <tr>\n",
       "      <th>1</th>\n",
       "      <td>5.72</td>\n",
       "      <td>261.865</td>\n",
       "      <td>-0.21</td>\n",
       "    </tr>\n",
       "  </tbody>\n",
       "</table>\n",
       "</div>"
      ],
      "text/plain": [
       "     Ap        b  Delta\n",
       "0  8.58    0.000  -0.93\n",
       "1  5.72  261.865  -0.21"
      ]
     },
     "metadata": {},
     "output_type": "display_data"
    }
   ],
   "source": [
    "delta_p = []\n",
    "\n",
    "delta_pF = 0\n",
    "\n",
    "for i in range(len(qntCordoalhas)):\n",
    "    delta_p.append([0] * 3)\n",
    "    delta_p[i][0] = A_p[i]\n",
    "    delta_p[i][1] = x1_anc[i]\n",
    "    \n",
    "    if(i != 0):\n",
    "        delta_p[i][0] = delta_p[i][0] - delta_p[i-1][0]\n",
    "        Momen = M_p[i] - M_p[i-1]\n",
    "    else:\n",
    "        Momen = M_p[i]\n",
    "    \n",
    "    if(delta_p[i][1] == 0):\n",
    "        delta_p[i][2] = round(Momen*Vao**2/(8*E_cs*I_c),2)\n",
    "    else:\n",
    "        delta_p[i][1] = (x1_anc[i]+x1[i])/2\n",
    "        delta_p[i][2] = round( (Momen*(Vao**2-3*delta_p[i][1]**2-(Vao/2)**2)*(Vao/2))\n",
    "                             /(6*E_cs*I_c*Vao) ,2)\n",
    "        \n",
    "for i in range(len(qntCordoalhas)):\n",
    "    delta_pF += delta_p[i][2]\n",
    "    \n",
    "tabela9 = pd.DataFrame(delta_p)\n",
    "tabela9.rename(columns={0:'Ap',1:'b',2:'Delta'},inplace = True)\n",
    "\n",
    "display(tabela9)\n",
    "\n",
    "N_pp = N_p[len(qntCordoalhas)-1]\n",
    "M_pp = M_p[len(qntCordoalhas)-1]\n",
    "\n",
    "if (delta_p[0][0]) < 0:\n",
    "    raise Exception(\"ERRO\")"
   ]
  },
  {
   "cell_type": "code",
   "execution_count": 42,
   "id": "c1cb52f5",
   "metadata": {
    "scrolled": true
   },
   "outputs": [
    {
     "data": {
      "text/latex": [
       "\\[\n",
       "\\begin{aligned}\n",
       "\\delta_{pF} &= -1.140 \\; \n",
       "\\end{aligned}\n",
       "\\]"
      ],
      "text/plain": [
       "<IPython.core.display.Latex object>"
      ]
     },
     "metadata": {},
     "output_type": "display_data"
    }
   ],
   "source": [
    "%%render\n",
    "delta_pF"
   ]
  },
  {
   "cell_type": "markdown",
   "id": "c72cbb4d",
   "metadata": {},
   "source": [
    "## Momento de Fissuração:\n"
   ]
  },
  {
   "cell_type": "code",
   "execution_count": 43,
   "id": "3090e247",
   "metadata": {
    "scrolled": true
   },
   "outputs": [
    {
     "data": {
      "text/latex": [
       "\\[\n",
       "\\begin{aligned}\n",
       "\\alpha_{t} &= 1.50 \\; \n",
       "\\\\[10pt]\n",
       "M_{r} &= \\left( \\alpha_{t} \\cdot f_{ctm} - \\frac{ N_{pp} }{ A_{c} } \\right) \\cdot \\frac{ I_{c} }{ y_{t} } - M_{pp}  = \\left( 1.50 \\cdot 0.35 - \\frac{ -2036.30 }{ 4500 } \\right) \\cdot \\frac{ 3750000.00 }{ 50.00 } - -77379.40 &= 150791.97  \n",
       "\\\\[10pt]\n",
       "M_{a} &= 125238.12 \\; \n",
       "\\end{aligned}\n",
       "\\]"
      ],
      "text/plain": [
       "<IPython.core.display.Latex object>"
      ]
     },
     "metadata": {},
     "output_type": "display_data"
    }
   ],
   "source": [
    "%%render 2\n",
    "\n",
    "# COEFICIENTE ALPHA T:\n",
    "# alpha_t = 1.2 para seções T ou duplo T\n",
    "# alpha_t = 1.3 para seções I ou T invertido\n",
    "# alpha_t = 1.5 para seções retangulares\n",
    "\n",
    "alpha_t = 1.5\n",
    "\n",
    "M_r = (alpha_t*f_ctm - N_pp/A_c)* I_c / y_t - M_pp\n",
    "M_a = M_F"
   ]
  },
  {
   "cell_type": "markdown",
   "id": "8716dea3",
   "metadata": {},
   "source": [
    "## Inércia no Estádio II:"
   ]
  },
  {
   "cell_type": "code",
   "execution_count": 44,
   "id": "d12e2624",
   "metadata": {},
   "outputs": [
    {
     "data": {
      "text/latex": [
       "\\[\n",
       "\\begin{aligned}\n",
       "I_{II} &= 1.59 \\cdot \\left( 10 \\right) ^{ 6 } &= 1590000.00  \n",
       "\\end{aligned}\n",
       "\\]"
      ],
      "text/plain": [
       "<IPython.core.display.Latex object>"
      ]
     },
     "metadata": {},
     "output_type": "display_data"
    }
   ],
   "source": [
    "%%render 2\n",
    "# --------------------------------\n",
    "# --------------------------------\n",
    "# --------------------------------\n",
    "# --------------------------------\n",
    "I_II = 1.59 * 10**6 \n",
    "# É NECESSÁRIO INFORMAR ESTE VALOR\n",
    "# --------------------------------\n",
    "# --------------------------------\n",
    "# --------------------------------\n",
    "# --------------------------------"
   ]
  },
  {
   "cell_type": "markdown",
   "id": "814e1a05",
   "metadata": {},
   "source": [
    "## Inércia Equivalente:"
   ]
  },
  {
   "cell_type": "code",
   "execution_count": 45,
   "id": "47935787",
   "metadata": {
    "scrolled": true
   },
   "outputs": [
    {
     "data": {
      "text/latex": [
       "\\[\n",
       "\\begin{aligned}\n",
       "I_{eq} &= \\left( \\frac{ M_{r} }{ M_{a} } \\right) ^{ 3 } \\cdot I_{c} + \\left( 1 - \\left( \\frac{ M_{r} }{ M_{a} } \\right) ^{ 3 } \\right) \\cdot I_{II} \\\\&= \\left( \\frac{ 150791.973 }{ 125238.120 } \\right) ^{ 3 } \\cdot 3750000.000 + \\left( 1 - \\left( \\frac{ 150791.973 }{ 125238.120 } \\right) ^{ 3 } \\right) \\cdot 1590000.000 \\\\&= 3750000.000  \\\\[10pt]\n",
       "\\\\[10pt]\n",
       "&\\text{Since, } M_{a} \\lt M_{r} \\rightarrow \\left( 125238.120 \\lt 150791.973 \\right) :   \\end{aligned}\n",
       "\\]\n",
       "\\[\n",
       "\\begin{aligned}\n",
       "\\\\[10pt]\n",
       "I_{eq} &= 3750000.000 \\; \n",
       "\\end{aligned}\n",
       "\\]"
      ],
      "text/plain": [
       "<IPython.core.display.Latex object>"
      ]
     },
     "metadata": {},
     "output_type": "display_data"
    }
   ],
   "source": [
    "%%render\n",
    "\n",
    "if (M_a > M_r):\n",
    "    I_eq = (M_r/M_a)**3*I_c + (1-(M_r/M_a)**3)*I_II\n",
    "\n",
    "if (M_a < M_r):\n",
    "    I_eq = I_c"
   ]
  },
  {
   "cell_type": "markdown",
   "id": "a422d633",
   "metadata": {},
   "source": [
    "## Flecha Diferida Final:"
   ]
  },
  {
   "cell_type": "code",
   "execution_count": 46,
   "id": "2ac91f5c",
   "metadata": {},
   "outputs": [
    {
     "data": {
      "text/latex": [
       "\\[\n",
       "\\begin{aligned}\n",
       "\\delta_{i} &= \\left( \\delta_{pF} + \\frac{ 5 }{ 384 } \\cdot \\frac{ Q_{tF} \\cdot \\left( \\mathrm{Vao} \\right) ^{ 4 } }{ E_{cs} \\cdot I_{eq} } \\right) \\cdot \\left( 1 + \\phi_{t} \\right) \\\\&= \\left( -1.14 + \\frac{ 5 }{ 384 } \\cdot \\frac{ 0.57 \\cdot \\left( 1330 \\right) ^{ 4 } }{ 3187.58 \\cdot 3750000.00 } \\right) \\cdot \\left( 1 + 3.33 \\right) \\\\&= 3.42  \\\\[10pt]\n",
       "\\end{aligned}\n",
       "\\]"
      ],
      "text/plain": [
       "<IPython.core.display.Latex object>"
      ]
     },
     "metadata": {},
     "output_type": "display_data"
    }
   ],
   "source": [
    "%%render 2\n",
    "\n",
    "delta_i = (delta_pF + 5/384*(Q_tF*Vao**4)/(E_cs*I_eq))*(1+phi_t)"
   ]
  }
 ],
 "metadata": {
  "kernelspec": {
   "display_name": "Python 3 (ipykernel)",
   "language": "python",
   "name": "python3"
  },
  "language_info": {
   "codemirror_mode": {
    "name": "ipython",
    "version": 3
   },
   "file_extension": ".py",
   "mimetype": "text/x-python",
   "name": "python",
   "nbconvert_exporter": "python",
   "pygments_lexer": "ipython3",
   "version": "3.9.12"
  }
 },
 "nbformat": 4,
 "nbformat_minor": 5
}
