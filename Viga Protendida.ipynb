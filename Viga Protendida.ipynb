{
 "cells": [
  {
   "cell_type": "markdown",
   "id": "b6224006",
   "metadata": {
    "tags": []
   },
   "source": [
    "# CÁLCULO DE VIGA PROTENDIDA - VP11\n",
    "\n",
    "**OBRA:** Carnetti Open Mall\n",
    "\n",
    "**Cliente:** JD Construções e Pré-Fabricados\n",
    "\n",
    "**Data:** 18/10/2022\n",
    "\n",
    "**Cálculo:** Gabriel Garcia\n",
    "\n",
    "<img src=\"img/logoRS.jpg\" alt=\"RS Engenharia & Arquitetura\" width=\"200px\"/>\n",
    "\n",
    "Todas as grandezas apresentadas possuem como unidades base kN [força] e cm [comprimento]."
   ]
  },
  {
   "cell_type": "code",
   "execution_count": 1,
   "id": "36ead105",
   "metadata": {},
   "outputs": [],
   "source": [
    "import handcalcs.render\n",
    "import pandas as pd\n",
    "from math import floor,ceil,sqrt,exp\n",
    "from numpy import log\n",
    "from ggcp import calcpsi, linha_neutra_cp_ret\n",
    "    \n",
    "pi = 3.141592653"
   ]
  },
  {
   "cell_type": "markdown",
   "id": "0827d7c6",
   "metadata": {
    "tags": []
   },
   "source": [
    "# Informações Iniciais:\n",
    "\n",
    "## Definição do EPS:"
   ]
  },
  {
   "cell_type": "code",
   "execution_count": 2,
   "id": "63f0a404",
   "metadata": {},
   "outputs": [
    {
     "data": {
      "text/latex": [
       "\\[\n",
       "\\begin{aligned}\n",
       "h_{eps} &= 40 \\; \n",
       "\\\\[10pt]\n",
       "e_{eps} &= 12 \\; \n",
       "\\end{aligned}\n",
       "\\]"
      ],
      "text/plain": [
       "<IPython.core.display.Latex object>"
      ]
     },
     "metadata": {},
     "output_type": "display_data"
    }
   ],
   "source": [
    "%%render\n",
    "\n",
    "h_eps = 40\n",
    "e_eps = 12"
   ]
  },
  {
   "cell_type": "markdown",
   "id": "dc46086c",
   "metadata": {},
   "source": [
    "## Geometria da Viga:"
   ]
  },
  {
   "cell_type": "code",
   "execution_count": 3,
   "id": "9ae2ffd6",
   "metadata": {},
   "outputs": [
    {
     "data": {
      "text/latex": [
       "\\[\n",
       "\\begin{aligned}\n",
       "h &= 90 \\; \n",
       "\\\\[10pt]\n",
       "b &= 30 \\; \n",
       "\\\\[10pt]\n",
       "\\mathrm{Area} &= b \\cdot h - e_{eps} \\cdot h_{eps}  = 30 \\cdot 90 - 12 \\cdot 40 &= 2220  \n",
       "\\\\[10pt]\n",
       "\\mathrm{Inercia} &= b \\cdot \\frac{ \\left( h \\right) ^{ 3 } }{ 12 } - e_{eps} \\cdot \\frac{ \\left( h_{eps} \\right) ^{ 3 } }{ 12 } \\\\&= 30 \\cdot \\frac{ \\left( 90 \\right) ^{ 3 } }{ 12 } - 12 \\cdot \\frac{ \\left( 40 \\right) ^{ 3 } }{ 12 } \\\\&= 1758500.000  \\\\[10pt]\n",
       "\\\\[10pt]\n",
       "W_{i} &= \\frac{ \\mathrm{Inercia} }{ \\frac{ h }{ 2 } }  = \\frac{ 1758500.000 }{ \\frac{ 90 }{ 2 } } &= 39077.778  \n",
       "\\\\[10pt]\n",
       "W_{s} &= \\frac{ \\mathrm{Inercia} }{ \\frac{ h }{ 2 } }  = \\frac{ 1758500.000 }{ \\frac{ 90 }{ 2 } } &= 39077.778  \n",
       "\\\\[10pt]\n",
       "\\mathrm{Vao} &= 1964 \\; \n",
       "\\\\[10pt]\n",
       "& \\textrm{ Número de seções para dividir o vão:}\\\\[10pt]\n",
       "\\mathrm{nS} &= 15 \\; \n",
       "\\end{aligned}\n",
       "\\]"
      ],
      "text/plain": [
       "<IPython.core.display.Latex object>"
      ]
     },
     "metadata": {},
     "output_type": "display_data"
    }
   ],
   "source": [
    "%%render\n",
    "# Geometria da Viga:\n",
    "\n",
    "h = 90\n",
    "b = 30\n",
    "Area = b*h - e_eps*h_eps\n",
    "Inercia = b*h**3/12 - e_eps*(h_eps**3)/12\n",
    "W_i = Inercia/(h/2)\n",
    "W_s = Inercia/(h/2)\n",
    "Vao = 1964\n",
    "\n",
    "## Número de seções para dividir o vão:\n",
    "# Escolher número impar\n",
    "nS = 15"
   ]
  },
  {
   "cell_type": "markdown",
   "id": "14134ea3",
   "metadata": {},
   "source": [
    "## Propriedades dos Materiais:"
   ]
  },
  {
   "cell_type": "code",
   "execution_count": 4,
   "id": "a7d62aa8",
   "metadata": {},
   "outputs": [
    {
     "data": {
      "text/latex": [
       "\\[\n",
       "\\begin{aligned}\n",
       "f_{ck} &= 4 \\; \n",
       "\\\\[10pt]\n",
       "f_{ctm} &= 0.03 \\cdot \\left( 10 \\cdot f_{ck} \\right) ^{ \\left( \\frac{ 2 }{ 3 } \\right) }  = 0.03 \\cdot \\left( 10 \\cdot 4 \\right) ^{ \\left( \\frac{ 2 }{ 3 } \\right) } &= 0.351  \n",
       "\\\\[10pt]\n",
       "f_{ptk} &= 190 \\; \n",
       "\\\\[10pt]\n",
       "f_{pyd} &= 148.700 \\; \n",
       "\\\\[10pt]\n",
       "f_{yk} &= 50 \\; \n",
       "\\\\[10pt]\n",
       "f_{cj} &= 2.800 \\; \n",
       "\\\\[10pt]\n",
       "E_{s} &= 21000 \\; \n",
       "\\\\[10pt]\n",
       "E_{p} &= 20000 \\; \n",
       "\\end{aligned}\n",
       "\\]"
      ],
      "text/plain": [
       "<IPython.core.display.Latex object>"
      ]
     },
     "metadata": {},
     "output_type": "display_data"
    }
   ],
   "source": [
    "%%render\n",
    "# Propriedades dos Materiais:\n",
    "\n",
    "f_ck = 4\n",
    "f_ctm = 0.03*(10*f_ck)**(2/3)\n",
    "f_ptk = 190\n",
    "f_pyd = 148.7\n",
    "f_yk = 50\n",
    "f_cj = 2.8\n",
    "\n",
    "E_s = 21000\n",
    "E_p = 20000"
   ]
  },
  {
   "cell_type": "code",
   "execution_count": 5,
   "id": "3fecd76f",
   "metadata": {},
   "outputs": [
    {
     "data": {
      "text/latex": [
       "\\[\n",
       "\\begin{aligned}\n",
       "f_{c} &= f_{ck} \\cdot \\frac{ 0.85 }{ 1.4 }  = 4 \\cdot \\frac{ 0.85 }{ 1.4 } &= 2.43  \n",
       "\\\\[10pt]\n",
       "E_{ci} &= 560 \\cdot \\left( f_{ck} \\cdot 10 \\right) ^{ \\left( \\frac{ 1 }{ 2 } \\right) }  = 560 \\cdot \\left( 4 \\cdot 10 \\right) ^{ \\left( \\frac{ 1 }{ 2 } \\right) } &= 3541.75  \n",
       "\\\\[10pt]\n",
       "E_{cs} &= E_{ci} \\cdot \\left( 0.8 + 0.2 \\cdot \\frac{ f_{ck} }{ 8 } \\right)  = 3541.75 \\cdot \\left( 0.8 + 0.2 \\cdot \\frac{ 4 }{ 8 } \\right) &= 3187.58  \n",
       "\\\\[10pt]\n",
       "E_{cit0} &= \\left( \\frac{ f_{cj} }{ f_{ck} } \\right) ^{ \\left( \\frac{ 1 }{ 2 } \\right) } \\cdot E_{ci}  = \\left( \\frac{ 2.80 }{ 4 } \\right) ^{ \\left( \\frac{ 1 }{ 2 } \\right) } \\cdot 3541.75 &= 2963.24  \n",
       "\\\\[10pt]\n",
       "E_{cst0} &= E_{cit0} \\cdot \\left( 0.8 + 0.2 \\cdot \\frac{ f_{cj} }{ 8 } \\right)  = 2963.24 \\cdot \\left( 0.8 + 0.2 \\cdot \\frac{ 2.80 }{ 8 } \\right) &= 2578.02  \n",
       "\\\\[10pt]\n",
       "f_{yd} &= \\frac{ f_{yk} }{ 1.15 }  = \\frac{ 50 }{ 1.15 } &= 43.48  \n",
       "\\\\[10pt]\n",
       "\\sigma_{p0} &= 0.8 \\cdot f_{ptk}  = 0.8 \\cdot 190 &= 152.00  \n",
       "\\end{aligned}\n",
       "\\]"
      ],
      "text/plain": [
       "<IPython.core.display.Latex object>"
      ]
     },
     "metadata": {},
     "output_type": "display_data"
    }
   ],
   "source": [
    "%%render 2 short\n",
    "\n",
    "f_c = f_ck*0.85/1.4\n",
    "E_ci = 560*(f_ck*10)**(1/2)\n",
    "E_cs = E_ci*(0.8+0.2*f_ck/8)\n",
    "\n",
    "E_cit0 = (f_cj/f_ck)**(1/2)*E_ci\n",
    "E_cst0 = E_cit0*(0.8+0.2*f_cj/8)\n",
    "\n",
    "f_yd = f_yk/1.15\n",
    "sigma_p0 = 0.8*f_ptk"
   ]
  },
  {
   "cell_type": "markdown",
   "id": "3d992512",
   "metadata": {},
   "source": [
    "## Carregamentos:"
   ]
  },
  {
   "cell_type": "code",
   "execution_count": 6,
   "id": "d578be19",
   "metadata": {
    "scrolled": true
   },
   "outputs": [
    {
     "data": {
      "text/latex": [
       "\\[\n",
       "\\begin{aligned}\n",
       "Q_{t0} &= 0.000025 \\cdot \\mathrm{Area}  = 0.000025 \\cdot 2220 &= 0.06  \n",
       "\\\\[10pt]\n",
       "Q_{tF} &= Q_{t0} + \\left( 50 + 50 + 50 \\right) \\cdot \\frac{ 6 }{ 100 } \\cdot \\frac{1} { 100 }  = 0.06 + \\left( 50 + 50 + 50 \\right) \\cdot \\frac{ 6 }{ 100 } \\cdot \\frac{1} { 100 } &= 0.15  \n",
       "\\end{aligned}\n",
       "\\]"
      ],
      "text/plain": [
       "<IPython.core.display.Latex object>"
      ]
     },
     "metadata": {},
     "output_type": "display_data"
    }
   ],
   "source": [
    "%%render 2 short\n",
    "\n",
    "Q_t0 = 0.000025*Area\n",
    "Q_tF = Q_t0 + (50+50+50)*6/100/100\n"
   ]
  },
  {
   "cell_type": "markdown",
   "id": "c82c1fa3",
   "metadata": {},
   "source": [
    "## Esforços no Centro do Vão:"
   ]
  },
  {
   "cell_type": "code",
   "execution_count": 7,
   "id": "21d314b4",
   "metadata": {},
   "outputs": [
    {
     "data": {
      "text/latex": [
       "\\[\n",
       "\\begin{aligned}\n",
       "M_{F} &= Q_{tF} \\cdot \\left( \\mathrm{Vao} \\right) ^{ 2 } \\cdot 0.125  = 0.15 \\cdot \\left( 1964 \\right) ^{ 2 } \\cdot 0.125 &= 70154.57  \n",
       "\\\\[10pt]\n",
       "M_{0} &= Q_{t0} \\cdot \\left( \\mathrm{Vao} \\right) ^{ 2 } \\cdot 0.125  = 0.06 \\cdot \\left( 1964 \\right) ^{ 2 } \\cdot 0.125 &= 26759.99  \n",
       "\\\\[10pt]\n",
       "V_{F} &= Q_{tF} \\cdot \\frac{ \\mathrm{Vao} }{ 2 }  = 0.15 \\cdot \\frac{ 1964 }{ 2 } &= 142.88  \n",
       "\\end{aligned}\n",
       "\\]"
      ],
      "text/plain": [
       "<IPython.core.display.Latex object>"
      ]
     },
     "metadata": {},
     "output_type": "display_data"
    }
   ],
   "source": [
    "%%render 2 short\n",
    "M_F = (Q_tF)*Vao**2*0.125\n",
    "M_0 = (Q_t0)*Vao**2*0.125\n",
    "V_F = (Q_tF)*Vao/2"
   ]
  },
  {
   "cell_type": "markdown",
   "id": "9b0ada7b",
   "metadata": {},
   "source": [
    "# Deteminação da Força de Protensão:\n",
    "\n",
    "## Limites de Tensão:"
   ]
  },
  {
   "cell_type": "code",
   "execution_count": 8,
   "id": "9b94d2e4",
   "metadata": {
    "scrolled": true
   },
   "outputs": [
    {
     "data": {
      "text/latex": [
       "\\[\n",
       "\\begin{aligned}\n",
       "\\sigma_{ct0} &= \\left( - 1.2 \\right) \\cdot 0.03 \\cdot \\left( f_{cj} \\cdot 10 \\right) ^{ \\left( \\frac{ 2 }{ 3 } \\right) }  = \\left( - 1.2 \\right) \\cdot 0.03 \\cdot \\left( 2.800 \\cdot 10 \\right) ^{ \\left( \\frac{ 2 }{ 3 } \\right) } &= -0.332  \n",
       "\\\\[10pt]\n",
       "\\sigma_{cc0} &= 0.7 \\cdot f_{cj}  = 0.7 \\cdot 2.800 &= 1.960  \n",
       "\\\\[10pt]\n",
       "\\sigma_{ctF} &= \\left( - 1.2 \\right) \\cdot 0.03 \\cdot \\left( f_{ck} \\cdot 10 \\right) ^{ \\left( \\frac{ 2 }{ 3 } \\right) }  = \\left( - 1.2 \\right) \\cdot 0.03 \\cdot \\left( 4 \\cdot 10 \\right) ^{ \\left( \\frac{ 2 }{ 3 } \\right) } &= -0.421  \n",
       "\\\\[10pt]\n",
       "\\sigma_{ccF} &= 0.5 \\cdot f_{ck}  = 0.5 \\cdot 4 &= 2.000  \n",
       "\\\\[10pt]\n",
       "r_{0} &= 0.950 \\; \n",
       "\\\\[10pt]\n",
       "r_{F} &= 0.800 \\; \n",
       "\\end{aligned}\n",
       "\\]"
      ],
      "text/plain": [
       "<IPython.core.display.Latex object>"
      ]
     },
     "metadata": {},
     "output_type": "display_data"
    }
   ],
   "source": [
    "%%render short\n",
    "\n",
    "sigma_ct0 = -1.2*0.03*(f_cj*10)**(2/3)\n",
    "sigma_cc0 = 0.7*f_cj\n",
    "sigma_ctF = -1.2*0.03*(f_ck*10)**(2/3)\n",
    "sigma_ccF = 0.5*f_ck\n",
    "\n",
    "r_0 = 0.95\n",
    "r_F = 0.80"
   ]
  },
  {
   "cell_type": "markdown",
   "id": "01901b13",
   "metadata": {},
   "source": [
    "## Cálculo da Força de Protensão:"
   ]
  },
  {
   "cell_type": "code",
   "execution_count": 9,
   "id": "654ce266",
   "metadata": {},
   "outputs": [
    {
     "data": {
      "text/latex": [
       "\\[\n",
       "\\begin{aligned}\n",
       "e_{p} &= 35 \\; \n",
       "\\\\[10pt]\n",
       "P_{1} &= \\frac{ \\sigma_{cc0} + \\frac{ M_{0} }{ W_{i} } }{ r_{0} \\cdot \\left( \\frac{ 1 }{ \\mathrm{Area} } + \\frac{ e_{p} }{ W_{i} } \\right) }  = \\frac{ 1.96 + \\frac{ 26759.99 }{ 39077.78 } }{ 0.95 \\cdot \\left( \\frac{ 1 }{ 2220 } + \\frac{ 35 }{ 39077.78 } \\right) } &= 2068.19  \n",
       "\\\\[10pt]\n",
       "P_{2} &= \\frac{ \\sigma_{ct0} - \\frac{ M_{0} }{ W_{s} } }{ r_{0} \\cdot \\left( \\frac{ 1 }{ \\mathrm{Area} } - \\frac{ e_{p} }{ W_{s} } \\right) }  = \\frac{ -0.33 - \\frac{ 26759.99 }{ 39077.78 } }{ 0.95 \\cdot \\left( \\frac{ 1 }{ 2220 } - \\frac{ 35 }{ 39077.78 } \\right) } &= 2403.98  \n",
       "\\\\[10pt]\n",
       "P_{3} &= \\frac{ \\sigma_{ctF} + \\frac{ M_{F} }{ W_{i} } }{ r_{F} \\cdot \\left( \\frac{ 1 }{ \\mathrm{Area} } + \\frac{ e_{p} }{ W_{i} } \\right) }  = \\frac{ -0.42 + \\frac{ 70154.57 }{ 39077.78 } }{ 0.80 \\cdot \\left( \\frac{ 1 }{ 2220 } + \\frac{ 35 }{ 39077.78 } \\right) } &= 1276.09  \n",
       "\\\\[10pt]\n",
       "P_{4} &= \\frac{ \\sigma_{ccF} - \\frac{ M_{F} }{ W_{s} } }{ r_{F} \\cdot \\left( \\frac{ 1 }{ \\mathrm{Area} } - \\frac{ e_{p} }{ W_{s} } \\right) }  = \\frac{ 2.00 - \\frac{ 70154.57 }{ 39077.78 } }{ 0.80 \\cdot \\left( \\frac{ 1 }{ 2220 } - \\frac{ 35 }{ 39077.78 } \\right) } &= -574.87  \n",
       "\\\\[10pt]\n",
       "& \\textrm{Adotar valores entre:}\\\\[10pt]\n",
       "P_{min} &= \\operatorname{max} { \\left( P_{3} ,\\  P_{4} \\right) }  = \\operatorname{max} { \\left( 1276.09 ,\\  -574.87 \\right) } &= 1276.09  \n",
       "\\\\[10pt]\n",
       "P_{max} &= \\operatorname{min} { \\left( P_{1} ,\\  P_{2} \\right) }  = \\operatorname{min} { \\left( 2068.19 ,\\  2403.98 \\right) } &= 2068.19  \n",
       "\\end{aligned}\n",
       "\\]"
      ],
      "text/plain": [
       "<IPython.core.display.Latex object>"
      ]
     },
     "metadata": {},
     "output_type": "display_data"
    }
   ],
   "source": [
    "%%render short 2\n",
    "\n",
    "e_p = 35\n",
    "\n",
    "P_1 = (sigma_cc0+M_0/W_i)/(r_0*(1/Area + e_p/W_i)) \n",
    "P_2 = (sigma_ct0-M_0/W_s)/(r_0*(1/Area - e_p/W_s)) \n",
    "P_3 = (sigma_ctF+M_F/W_i)/(r_F*(1/Area + e_p/W_i))\n",
    "P_4 = (sigma_ccF-M_F/W_s)/(r_F*(1/Area - e_p/W_s))\n",
    "\n",
    "##Adotar valores entre:\n",
    "P_min = max(P_3, P_4)\n",
    "P_max = min(P_1, P_2)\n"
   ]
  },
  {
   "cell_type": "markdown",
   "id": "f125dec8",
   "metadata": {},
   "source": [
    "## Escolha da Protensão:"
   ]
  },
  {
   "cell_type": "code",
   "execution_count": 10,
   "id": "1643d970",
   "metadata": {},
   "outputs": [
    {
     "data": {
      "text/latex": [
       "\\[\n",
       "\\begin{aligned}\n",
       "P &= 2068.19 \\; \n",
       "\\\\[10pt]\n",
       "\\phi_{1} &= 1.52 \\; \n",
       "\\\\[10pt]\n",
       "A_{p1} &= 1.43 \\; \n",
       "\\\\[10pt]\n",
       "& \\textrm{ Número de cordoalhas para adotar:}\\\\[10pt]\n",
       "n &= \\left \\lfloor \\frac{ P }{ A_{p1} \\cdot \\sigma_{p0} } \\right \\rfloor  = \\left \\lfloor \\frac{ 2068.19 }{ 1.43 \\cdot 152.00 } \\right \\rfloor &= 9  \n",
       "\\end{aligned}\n",
       "\\]"
      ],
      "text/plain": [
       "<IPython.core.display.Latex object>"
      ]
     },
     "metadata": {},
     "output_type": "display_data"
    }
   ],
   "source": [
    "%%render 2\n",
    "# Força de Protensão Adotada:\n",
    "\n",
    "P = P_max\n",
    "phi_1 = 1.52\n",
    "A_p1 = 1.43\n",
    "\n",
    "## Número de cordoalhas para adotar:\n",
    "n = floor(P/(A_p1*sigma_p0))"
   ]
  },
  {
   "cell_type": "markdown",
   "id": "08fc61b2",
   "metadata": {},
   "source": [
    "## Ancoragem das Cordoalhas:\n",
    "\n",
    "### Comprimento de Ancoragem Básico:"
   ]
  },
  {
   "cell_type": "code",
   "execution_count": 11,
   "id": "20d2c7ff",
   "metadata": {},
   "outputs": [
    {
     "data": {
      "text/latex": [
       "\\[\n",
       "\\begin{aligned}\n",
       "f_{pyd} &= 0.9 \\cdot \\frac{ f_{ptk} }{ 1.15 }  = 0.9 \\cdot \\frac{ 190 }{ 1.15 } &= 148.696  \n",
       "\\\\[10pt]\n",
       "\\eta_{p1} &= 1.200 \\; \n",
       "\\\\[10pt]\n",
       "\\eta_{p2} &= 1.000 \\; \n",
       "\\\\[10pt]\n",
       "f_{ctd} &= \\frac{ 0.7 \\cdot 0.03 \\cdot \\left( f_{cj} \\cdot 10 \\right) ^{ \\left( \\frac{ 2 }{ 3 } \\right) } }{ 1.4 }  = \\frac{ 0.7 \\cdot 0.03 \\cdot \\left( 2.800 \\cdot 10 \\right) ^{ \\left( \\frac{ 2 }{ 3 } \\right) } }{ 1.4 } &= 0.138  \n",
       "\\\\[10pt]\n",
       "f_{bpd} &= \\eta_{p1} \\cdot \\eta_{p2} \\cdot f_{ctd}  = 1.200 \\cdot 1.000 \\cdot 0.138 &= 0.166  \n",
       "\\\\[10pt]\n",
       "l_{bp} &= \\frac{ 7 \\cdot \\phi_{1} }{ 36 } \\cdot \\frac{ f_{pyd} }{ f_{bpd} }  = \\frac{ 7 \\cdot 1.520 }{ 36 } \\cdot \\frac{ 148.696 }{ 0.166 } &= 264.785  \n",
       "\\end{aligned}\n",
       "\\]"
      ],
      "text/plain": [
       "<IPython.core.display.Latex object>"
      ]
     },
     "metadata": {},
     "output_type": "display_data"
    }
   ],
   "source": [
    "%%render short\n",
    "f_pyd = 0.9* f_ptk / 1.15\n",
    "\n",
    "eta_p1 = 1.2\n",
    "\n",
    "# Valores de Eta_p1:\n",
    "#     \n",
    "#     1.0 para fios lisos\n",
    "#     1.2 para cordoalhas de 3 e 7 fios\n",
    "#     1.5 para fios dentados\n",
    "\n",
    "eta_p2 = 1.0\n",
    "\n",
    "# Valores de Eta_p2:\n",
    "#     \n",
    "#     1.0 para situação de boa aderência\n",
    "#     0.7 para situação de má aderência\n",
    "\n",
    "f_ctd = (0.7*0.03*(f_cj*10)**(2/3))/1.4\n",
    "f_bpd = eta_p1 * eta_p2 * f_ctd\n",
    "\n",
    "l_bp = (7*phi_1)/36 * f_pyd/f_bpd"
   ]
  },
  {
   "cell_type": "markdown",
   "id": "a58b5804",
   "metadata": {},
   "source": [
    "### Cálculo do comprimento de Transferência:"
   ]
  },
  {
   "cell_type": "code",
   "execution_count": 12,
   "id": "d61ba68b",
   "metadata": {},
   "outputs": [
    {
     "data": {
      "text/latex": [
       "\\[\n",
       "\\begin{aligned}\n",
       "& \\textrm{ para fios lisos ou dentados:}\\\\[10pt]\n",
       "l_{bpt1} &= 0.7 \\cdot l_{bp} \\cdot \\frac{ \\sigma_{p0} }{ f_{pyd} }  = 0.7 \\cdot 264.785 \\cdot \\frac{ 152.000 }{ 148.696 } &= 189.468  \n",
       "\\\\[10pt]\n",
       "& \\textrm{ para cordoalhas de 3 e 7 fios:}\\\\[10pt]\n",
       "l_{bpt2} &= 0.5 \\cdot l_{bp} \\cdot \\frac{ \\sigma_{p0} }{ f_{pyd} }  = 0.5 \\cdot 264.785 \\cdot \\frac{ 152.000 }{ 148.696 } &= 135.334  \n",
       "\\\\[10pt]\n",
       "& \\textrm{ para transferência não gradual, os valores devem ser multiplicados por 1.25}\\\\[10pt]\n",
       "& \\textrm{ valor adotado:}\\\\[10pt]\n",
       "l_{bpt} &= 1.0 \\cdot l_{bpt2}  = 1.0 \\cdot 135.334 &= 135.334  \n",
       "\\\\[10pt]\n",
       "l_{p} &= \\left( \\left( h \\right) ^{ 2 } + \\left( 0.6 \\cdot l_{bpt} \\right) ^{ 2 } \\right) ^{ 0.5 }  = \\left( \\left( 90 \\right) ^{ 2 } + \\left( 0.6 \\cdot 135.334 \\right) ^{ 2 } \\right) ^{ 0.5 } &= 121.217  \n",
       "\\end{aligned}\n",
       "\\]"
      ],
      "text/plain": [
       "<IPython.core.display.Latex object>"
      ]
     },
     "metadata": {},
     "output_type": "display_data"
    }
   ],
   "source": [
    "%%render short\n",
    "\n",
    "## para fios lisos ou dentados:\n",
    "l_bpt1 = 0.7 * l_bp * sigma_p0/f_pyd\n",
    "\n",
    "## para cordoalhas de 3 e 7 fios:\n",
    "l_bpt2 = 0.5 * l_bp * sigma_p0/f_pyd\n",
    "\n",
    "## para transferência não gradual, os valores devem ser multiplicados por 1.25\n",
    "## valor adotado:\n",
    "\n",
    "l_bpt = 1.0 * l_bpt2\n",
    "\n",
    "l_p = (h**2 + (0.6*l_bpt)**2)**(0.5)\n"
   ]
  },
  {
   "cell_type": "markdown",
   "id": "9db35554",
   "metadata": {},
   "source": [
    "#  Esforços nas Seções:\n",
    "\n",
    "## Momento Fletor e Cortante:"
   ]
  },
  {
   "cell_type": "code",
   "execution_count": 13,
   "id": "e615317a",
   "metadata": {},
   "outputs": [
    {
     "data": {
      "text/html": [
       "<div>\n",
       "<style scoped>\n",
       "    .dataframe tbody tr th:only-of-type {\n",
       "        vertical-align: middle;\n",
       "    }\n",
       "\n",
       "    .dataframe tbody tr th {\n",
       "        vertical-align: top;\n",
       "    }\n",
       "\n",
       "    .dataframe thead th {\n",
       "        text-align: right;\n",
       "    }\n",
       "</style>\n",
       "<table border=\"1\" class=\"dataframe\">\n",
       "  <thead>\n",
       "    <tr style=\"text-align: right;\">\n",
       "      <th></th>\n",
       "      <th>Pos (cm)</th>\n",
       "      <th>M (kNcm)</th>\n",
       "      <th>V (kN)</th>\n",
       "    </tr>\n",
       "  </thead>\n",
       "  <tbody>\n",
       "    <tr>\n",
       "      <th>0</th>\n",
       "      <td>0.0</td>\n",
       "      <td>0.0</td>\n",
       "      <td>142.9</td>\n",
       "    </tr>\n",
       "    <tr>\n",
       "      <th>1</th>\n",
       "      <td>140.3</td>\n",
       "      <td>18614.2</td>\n",
       "      <td>122.5</td>\n",
       "    </tr>\n",
       "    <tr>\n",
       "      <th>2</th>\n",
       "      <td>280.6</td>\n",
       "      <td>34364.3</td>\n",
       "      <td>102.1</td>\n",
       "    </tr>\n",
       "    <tr>\n",
       "      <th>3</th>\n",
       "      <td>420.9</td>\n",
       "      <td>47250.5</td>\n",
       "      <td>81.6</td>\n",
       "    </tr>\n",
       "    <tr>\n",
       "      <th>4</th>\n",
       "      <td>561.1</td>\n",
       "      <td>57266.4</td>\n",
       "      <td>61.2</td>\n",
       "    </tr>\n",
       "    <tr>\n",
       "      <th>5</th>\n",
       "      <td>701.4</td>\n",
       "      <td>64426.5</td>\n",
       "      <td>40.8</td>\n",
       "    </tr>\n",
       "    <tr>\n",
       "      <th>6</th>\n",
       "      <td>841.7</td>\n",
       "      <td>68722.6</td>\n",
       "      <td>20.4</td>\n",
       "    </tr>\n",
       "    <tr>\n",
       "      <th>7</th>\n",
       "      <td>982.0</td>\n",
       "      <td>70154.6</td>\n",
       "      <td>0.0</td>\n",
       "    </tr>\n",
       "    <tr>\n",
       "      <th>8</th>\n",
       "      <td>1122.3</td>\n",
       "      <td>68722.6</td>\n",
       "      <td>-20.4</td>\n",
       "    </tr>\n",
       "    <tr>\n",
       "      <th>9</th>\n",
       "      <td>1262.6</td>\n",
       "      <td>64426.5</td>\n",
       "      <td>-40.8</td>\n",
       "    </tr>\n",
       "    <tr>\n",
       "      <th>10</th>\n",
       "      <td>1402.9</td>\n",
       "      <td>57266.4</td>\n",
       "      <td>-61.2</td>\n",
       "    </tr>\n",
       "    <tr>\n",
       "      <th>11</th>\n",
       "      <td>1543.1</td>\n",
       "      <td>47250.5</td>\n",
       "      <td>-81.6</td>\n",
       "    </tr>\n",
       "    <tr>\n",
       "      <th>12</th>\n",
       "      <td>1683.4</td>\n",
       "      <td>34364.3</td>\n",
       "      <td>-102.1</td>\n",
       "    </tr>\n",
       "    <tr>\n",
       "      <th>13</th>\n",
       "      <td>1823.7</td>\n",
       "      <td>18614.2</td>\n",
       "      <td>-122.5</td>\n",
       "    </tr>\n",
       "    <tr>\n",
       "      <th>14</th>\n",
       "      <td>1964.0</td>\n",
       "      <td>0.0</td>\n",
       "      <td>-142.9</td>\n",
       "    </tr>\n",
       "  </tbody>\n",
       "</table>\n",
       "</div>"
      ],
      "text/plain": [
       "    Pos (cm)  M (kNcm)  V (kN)\n",
       "0        0.0       0.0   142.9\n",
       "1      140.3   18614.2   122.5\n",
       "2      280.6   34364.3   102.1\n",
       "3      420.9   47250.5    81.6\n",
       "4      561.1   57266.4    61.2\n",
       "5      701.4   64426.5    40.8\n",
       "6      841.7   68722.6    20.4\n",
       "7      982.0   70154.6     0.0\n",
       "8     1122.3   68722.6   -20.4\n",
       "9     1262.6   64426.5   -40.8\n",
       "10    1402.9   57266.4   -61.2\n",
       "11    1543.1   47250.5   -81.6\n",
       "12    1683.4   34364.3  -102.1\n",
       "13    1823.7   18614.2  -122.5\n",
       "14    1964.0       0.0  -142.9"
      ]
     },
     "metadata": {},
     "output_type": "display_data"
    }
   ],
   "source": [
    "esforcos = []\n",
    "esforcos_t0 = []\n",
    "for i in range(3):\n",
    "    esforcos.append( [0]*(nS) )\n",
    "    esforcos_t0.append( [0]*(nS) )\n",
    "    \n",
    "# primeiro vetor contem X (cm)\n",
    "# segundo vetor contem Momentos (kNcm)\n",
    "# terceiro vetor contém cortante (kN)\n",
    "\n",
    "for i in range(nS):\n",
    "    esforcos[0][i] = round(i*(Vao/(nS-1)),1)\n",
    "    esforcos[1][i] = round( 0.5*Q_tF*esforcos[0][i]*(Vao-esforcos[0][i]) ,1)\n",
    "    esforcos[2][i] = round( 0.5*Q_tF*(Vao-2*esforcos[0][i]), 1 )\n",
    "    esforcos_t0[0][i] = round(i*(Vao/(nS-1)),1)\n",
    "    esforcos_t0[1][i] = round( 0.5*Q_t0*esforcos[0][i]*(Vao-esforcos[0][i]) ,1)\n",
    "    esforcos_t0[2][i] = round( 0.5*Q_t0*(Vao-2*esforcos[0][i]), 1 )\n",
    "    \n",
    "    \n",
    "tabela = pd.DataFrame(esforcos)\n",
    "tabela = tabela.transpose()\n",
    "tabela.rename(columns={0:'Pos (cm)',1:'M (kNcm)',2:'V (kN)'},inplace = True)\n",
    "display(tabela)"
   ]
  },
  {
   "cell_type": "markdown",
   "id": "72990506",
   "metadata": {},
   "source": [
    "# Escalonamento da Protensão:\n",
    "\n",
    "## Limites de Tensão na Seção S1:\n",
    "\n",
    "São testados os limites de tensão para t0:\n",
    "\n",
    "Limitação pela borda superior:"
   ]
  },
  {
   "cell_type": "code",
   "execution_count": 14,
   "id": "12477f6f",
   "metadata": {},
   "outputs": [
    {
     "data": {
      "text/latex": [
       "\\[\n",
       "\\begin{aligned}\n",
       "M_{s1} &= 7100.300 \\; \\;\\textrm{(Momento de peso próprio na seção s1)}\n",
       "\\\\[10pt]\n",
       "P_{1} &= \\frac{ \\sigma_{cc0} + \\frac{ M_{s1} }{ W_{i} } }{ r_{0} \\cdot \\left( \\frac{ 1 }{ \\mathrm{Area} } + \\frac{ e_{p} }{ W_{i} } \\right) }  = \\frac{ 1.960 + \\frac{ 7100.300 }{ 39077.778 } }{ 0.950 \\cdot \\left( \\frac{ 1 }{ 2220 } + \\frac{ 35 }{ 39077.778 } \\right) } &= 1674.777  \n",
       "\\\\[10pt]\n",
       "P_{2} &= \\frac{ \\sigma_{ct0} - \\frac{ M_{s1} }{ W_{s} } }{ r_{0} \\cdot \\left( \\frac{ 1 }{ \\mathrm{Area} } - \\frac{ e_{p} }{ W_{s} } \\right) }  = \\frac{ -0.332 - \\frac{ 7100.300 }{ 39077.778 } }{ 0.950 \\cdot \\left( \\frac{ 1 }{ 2220 } - \\frac{ 35 }{ 39077.778 } \\right) } &= 1214.472  \n",
       "\\end{aligned}\n",
       "\\]"
      ],
      "text/plain": [
       "<IPython.core.display.Latex object>"
      ]
     },
     "metadata": {},
     "output_type": "display_data"
    }
   ],
   "source": [
    "%%render short\n",
    "\n",
    "M_s1 = round( 0.5*Q_t0*esforcos[0][1]*(Vao-esforcos[0][1]) ,1) # Momento de peso próprio na seção s1\n",
    "P_1 = (sigma_cc0+M_s1/W_i)/(r_0*(1/Area + e_p/W_i))\n",
    "P_2 = (sigma_ct0-M_s1/W_s)/(r_0*(1/Area - e_p/W_s))\n"
   ]
  },
  {
   "cell_type": "code",
   "execution_count": 15,
   "id": "f0d85e33",
   "metadata": {},
   "outputs": [
    {
     "data": {
      "text/latex": [
       "\\[\n",
       "\\begin{aligned}\n",
       "P_{s1} &= \\operatorname{min} { \\left( P_{1} ,\\  P_{2} \\right) }  = \\operatorname{min} { \\left( 1674.8 ,\\  1214.5 \\right) } &= 1214.5  \n",
       "\\\\[10pt]\n",
       "n_{s1} &= \\left \\lfloor \\frac{ P_{s1} }{ A_{p1} \\cdot \\sigma_{p0} } \\right \\rfloor  = \\left \\lfloor \\frac{ 1214.5 }{ 1.4 \\cdot 152.0 } \\right \\rfloor &= 5  \n",
       "\\end{aligned}\n",
       "\\]"
      ],
      "text/plain": [
       "<IPython.core.display.Latex object>"
      ]
     },
     "metadata": {},
     "output_type": "display_data"
    }
   ],
   "source": [
    "%%render 1\n",
    "\n",
    "P_s1 = min(P_1 , P_2)\n",
    "\n",
    "n_s1 = floor(P_s1/(A_p1*sigma_p0))\n"
   ]
  },
  {
   "cell_type": "markdown",
   "id": "fc122191",
   "metadata": {},
   "source": [
    "## Escolha do Número de Cordoalhas:"
   ]
  },
  {
   "cell_type": "code",
   "execution_count": 16,
   "id": "e9c685e3",
   "metadata": {},
   "outputs": [
    {
     "data": {
      "text/latex": [
       "\\[\n",
       "\\begin{aligned}\n",
       "\\mathrm{qntCordoalhas} &= [4,\\ 6] \\; \n",
       "\\\\[10pt]\n",
       "e_{p_{i}} &= [35,\\ 33.333] \\; \n",
       "\\end{aligned}\n",
       "\\]"
      ],
      "text/plain": [
       "<IPython.core.display.Latex object>"
      ]
     },
     "metadata": {},
     "output_type": "display_data"
    }
   ],
   "source": [
    "%%render\n",
    "\n",
    "# Vetor com o número de cordoalhas em cada ponto de escalonamento:\n",
    "\n",
    "qntCordoalhas = [4,6]\n",
    "\n",
    "# Vetor com a excentricidade da protensão em cada ponto de escalonamento:\n",
    "\n",
    "e_p_i = [35,33.333]"
   ]
  },
  {
   "cell_type": "markdown",
   "id": "7b042987",
   "metadata": {},
   "source": [
    "# Esforços Devidos À Protensão:"
   ]
  },
  {
   "cell_type": "code",
   "execution_count": 17,
   "id": "960e77a5",
   "metadata": {},
   "outputs": [
    {
     "data": {
      "text/html": [
       "<div>\n",
       "<style scoped>\n",
       "    .dataframe tbody tr th:only-of-type {\n",
       "        vertical-align: middle;\n",
       "    }\n",
       "\n",
       "    .dataframe tbody tr th {\n",
       "        vertical-align: top;\n",
       "    }\n",
       "\n",
       "    .dataframe thead th {\n",
       "        text-align: right;\n",
       "    }\n",
       "</style>\n",
       "<table border=\"1\" class=\"dataframe\">\n",
       "  <thead>\n",
       "    <tr style=\"text-align: right;\">\n",
       "      <th></th>\n",
       "      <th>Ap</th>\n",
       "      <th>Wcp</th>\n",
       "      <th>Kp0</th>\n",
       "      <th>Sigma,p</th>\n",
       "      <th>Np</th>\n",
       "      <th>Mp</th>\n",
       "    </tr>\n",
       "  </thead>\n",
       "  <tbody>\n",
       "    <tr>\n",
       "      <th>0</th>\n",
       "      <td>5.72</td>\n",
       "      <td>50243.0</td>\n",
       "      <td>0.0509</td>\n",
       "      <td>144.64</td>\n",
       "      <td>-827.3</td>\n",
       "      <td>-28955.5</td>\n",
       "    </tr>\n",
       "    <tr>\n",
       "      <th>1</th>\n",
       "      <td>8.58</td>\n",
       "      <td>52756.0</td>\n",
       "      <td>0.0720</td>\n",
       "      <td>141.79</td>\n",
       "      <td>-1216.6</td>\n",
       "      <td>-40552.9</td>\n",
       "    </tr>\n",
       "  </tbody>\n",
       "</table>\n",
       "</div>"
      ],
      "text/plain": [
       "     Ap      Wcp     Kp0  Sigma,p      Np       Mp\n",
       "0  5.72  50243.0  0.0509   144.64  -827.3 -28955.5\n",
       "1  8.58  52756.0  0.0720   141.79 -1216.6 -40552.9"
      ]
     },
     "metadata": {},
     "output_type": "display_data"
    }
   ],
   "source": [
    "A_p = []\n",
    "\n",
    "for i in range(len(qntCordoalhas)):\n",
    "    A_p.append(qntCordoalhas[i] * A_p1)\n",
    "\n",
    "W_cp = []\n",
    "\n",
    "for i in range(len(qntCordoalhas)):\n",
    "    W_cp.append(round(Inercia/e_p_i[i],0))\n",
    "    \n",
    "alpha_p0 = E_p / E_cst0\n",
    "\n",
    "K_p0 = []\n",
    "for i in range(len(qntCordoalhas)):\n",
    "    K_p0.append(round(alpha_p0*A_p[i]*(1/Area+e_p_i[i]/W_cp[i]),4))\n",
    "    \n",
    "sigma_p = []\n",
    "for i in range(len(qntCordoalhas)):\n",
    "    sigma_p.append(round(sigma_p0/(1+K_p0[i]),2))\n",
    "    \n",
    "N_p = []\n",
    "for i in range(len(qntCordoalhas)):\n",
    "    N_p.append(round(-sigma_p[i]*A_p[i],1))\n",
    "    \n",
    "M_p = []\n",
    "for i in range(len(qntCordoalhas)):\n",
    "    M_p.append(round(N_p[i]*e_p_i[i],1))\n",
    "    \n",
    "tabela1 = pd.DataFrame([A_p, W_cp, K_p0, sigma_p, N_p, M_p])\n",
    "tabela1 = tabela1.transpose()\n",
    "tabela1.rename(columns={0:'Ap',1:'Wcp',2:'Kp0',3:'Sigma,p',4:'Np',5:'Mp'},inplace = True)\n",
    "display(tabela1)"
   ]
  },
  {
   "cell_type": "markdown",
   "id": "3b3910c3",
   "metadata": {},
   "source": [
    "# Escalonamento da Força de Protensão:"
   ]
  },
  {
   "cell_type": "code",
   "execution_count": 18,
   "id": "e6f6ff1c",
   "metadata": {},
   "outputs": [
    {
     "data": {
      "text/html": [
       "<div>\n",
       "<style scoped>\n",
       "    .dataframe tbody tr th:only-of-type {\n",
       "        vertical-align: middle;\n",
       "    }\n",
       "\n",
       "    .dataframe tbody tr th {\n",
       "        vertical-align: top;\n",
       "    }\n",
       "\n",
       "    .dataframe thead th {\n",
       "        text-align: right;\n",
       "    }\n",
       "</style>\n",
       "<table border=\"1\" class=\"dataframe\">\n",
       "  <thead>\n",
       "    <tr style=\"text-align: right;\">\n",
       "      <th></th>\n",
       "      <th>Mg</th>\n",
       "      <th>x1</th>\n",
       "      <th>x2</th>\n",
       "      <th>x1-lbpt</th>\n",
       "      <th>x2+lbpt</th>\n",
       "    </tr>\n",
       "  </thead>\n",
       "  <tbody>\n",
       "    <tr>\n",
       "      <th>0</th>\n",
       "      <td>1420.94</td>\n",
       "      <td>26.43</td>\n",
       "      <td>1937.57</td>\n",
       "      <td>0.0</td>\n",
       "      <td>1964.0</td>\n",
       "    </tr>\n",
       "    <tr>\n",
       "      <th>1</th>\n",
       "      <td>6165.65</td>\n",
       "      <td>120.53</td>\n",
       "      <td>1843.47</td>\n",
       "      <td>0.0</td>\n",
       "      <td>1964.0</td>\n",
       "    </tr>\n",
       "  </tbody>\n",
       "</table>\n",
       "</div>"
      ],
      "text/plain": [
       "        Mg      x1       x2  x1-lbpt  x2+lbpt\n",
       "0  1420.94   26.43  1937.57      0.0   1964.0\n",
       "1  6165.65  120.53  1843.47      0.0   1964.0"
      ]
     },
     "metadata": {},
     "output_type": "display_data"
    }
   ],
   "source": [
    "M_g = []\n",
    "x1 = []\n",
    "x2 = []\n",
    "x1_anc = []\n",
    "x2_anc = []\n",
    "\n",
    "for i in range(len(qntCordoalhas)):\n",
    "    M_g.append(round( W_s*( (N_p[i]/Area) -(M_p[i]/W_s) + sigma_ct0),2) )\n",
    "    #print(\"M_g[\"+str(i)+\"]:\",M_g[i])\n",
    "        \n",
    "for i in range(len(qntCordoalhas)):\n",
    "    # O erro acontece no caso da raiz de delta retornar um número complexo\n",
    "    try:\n",
    "        c = 2*M_g[i]/Q_t0\n",
    "        delta = (-Vao)**2 - 4*c\n",
    "        #print(\"Delta \"+str(i)+\":\",round(delta,2))\n",
    "        x1.append(round( (Vao-delta**0.5)/2  ,2))\n",
    "        x2.append(round( (Vao+delta**0.5)/2  ,2))\n",
    "    except:\n",
    "        print(\"##   ATENÇÃO!   ##\")\n",
    "        raise Exception(\"ERRO: ESCALONAR MELHOR A PROTENSÃO!\")    \n",
    "\n",
    "for i in range(len(qntCordoalhas)):\n",
    "    x1_anc.append(x1[i]-round(l_bpt,2))\n",
    "    x2_anc.append(x2[i]+round(l_bpt,2))\n",
    "    if x1_anc[i] < 0:\n",
    "        x1_anc[i] = 0\n",
    "    if x2_anc[i] > Vao:\n",
    "        x2_anc[i] = Vao\n",
    "    \n",
    "tabela2 = pd.DataFrame([M_g, x1,x2, x1_anc,x2_anc])\n",
    "tabela2 = tabela2.transpose()\n",
    "tabela2.rename(columns={0:'Mg',1:'x1',2:'x2',3:'x1-lbpt',4:'x2+lbpt'},inplace = True)\n",
    "display(tabela2)"
   ]
  },
  {
   "cell_type": "markdown",
   "id": "7e1e952a",
   "metadata": {},
   "source": [
    "# Perdas Progressivas da Força de Protensão:\n",
    "\n",
    "## Fluência do Concreto:\n",
    "\n",
    "### Fluência Rápida Irreversível"
   ]
  },
  {
   "cell_type": "code",
   "execution_count": 19,
   "id": "c3dbfb93",
   "metadata": {},
   "outputs": [
    {
     "data": {
      "text/latex": [
       "\\[\n",
       "\\begin{aligned}\n",
       "s &= 0.200 \\; \n",
       " &t_{0} &= 10 \\; \n",
       " &t_{F} &= 10000 \\; \n",
       "\\\\[10pt]\n",
       " \\beta_{0} &= 0.874 \\; \n",
       " &\\beta_{F} &= 1.209 \\; \n",
       " &\\phi_{a} &= 0.221 \\; \n",
       "\\\\[10pt]\n",
       "\\end{aligned}\n",
       "\\]"
      ],
      "text/plain": [
       "<IPython.core.display.Latex object>"
      ]
     },
     "metadata": {},
     "output_type": "display_data"
    }
   ],
   "source": [
    "%%render params\n",
    "\n",
    "# VER ITEM 12.3.3 da NBR6118:2014\n",
    "# Valores para adotar:\n",
    "# s = 0.38 para concreto de cimento CP-III e CP-IV\n",
    "# s = 0.25 para concreto de cimento CP-I e CP-II\n",
    "# s = 0.20 para concreto de cimento CP-V\n",
    "s = 0.20\n",
    "t_0 = 10\n",
    "t_F = 10000\n",
    "\n",
    "\n",
    "beta_0 = exp(s*(1-(28/t_0)**0.5))\n",
    "beta_F = exp(s*(1-(28/t_F)**0.5))\n",
    "\n",
    "phi_a = 0.8*(1 - (beta_0/beta_F))"
   ]
  },
  {
   "cell_type": "code",
   "execution_count": 20,
   "id": "a17c5a32",
   "metadata": {},
   "outputs": [
    {
     "name": "stdout",
     "output_type": "stream",
     "text": [
      "Adotado s = 0.20 para concreto de cimento CP-V (ARI) \n"
     ]
    }
   ],
   "source": [
    "if s == 0.38:\n",
    "    print(\"Adotado s = 0.38 para concreto de cimento CP-III ou CP-IV\")\n",
    "elif s == 0.25:\n",
    "    print(\"Adotado s = 0.25 para concreto de cimento CP-I ou CP-II\")\n",
    "else:\n",
    "    print(\"Adotado s = 0.20 para concreto de cimento CP-V (ARI) \")"
   ]
  },
  {
   "cell_type": "markdown",
   "id": "ec305c4e",
   "metadata": {},
   "source": [
    "### Fluência Lenta Irreversível:"
   ]
  },
  {
   "cell_type": "code",
   "execution_count": 21,
   "id": "bb095c40",
   "metadata": {},
   "outputs": [
    {
     "data": {
      "text/latex": [
       "\\[\n",
       "\\begin{aligned}\n",
       "U &= 55 \\; \\;\\textrm{(umidade média do ar)}\n",
       " &\\phi_{c1} &= 2.52 \\; \\;\\textrm{(para abatimentos entre 5cm e 9cm)}\n",
       " &\\gamma &= 1.10 \\; \n",
       "\\\\[10pt]\n",
       " u_{ar} &= 240 \\; \n",
       " &h_{fic} &= 20.35 \\; \n",
       " &\\phi_{c2} &= 1.55 \\; \n",
       "\\\\[10pt]\n",
       " \\phi_{fF} &= 3.90 \\; \n",
       " &h_{fm} &= 0.20 \\; \\;\\textrm{(espessura fictícia em metros)}\n",
       " &A_{\\beta_{f}} &= 218.54 \\; \n",
       "\\\\[10pt]\n",
       " B_{\\beta_{f}} &= 514.97 \\; \n",
       " &C_{\\beta_{f}} &= 403.72 \\; \n",
       " &D_{\\beta_{f}} &= 7866.57 \\; \n",
       "\\\\[10pt]\n",
       " \\beta_{f_{t0}} &= 0.23 \\; \n",
       " &\\beta_{f_{tF}} &= 0.98 \\;\n",
       "\\end{aligned}\n",
       "\\]"
      ],
      "text/plain": [
       "<IPython.core.display.Latex object>"
      ]
     },
     "metadata": {},
     "output_type": "display_data"
    }
   ],
   "source": [
    "%%render params 2\n",
    "\n",
    "U = 55 #umidade média do ar\n",
    "\n",
    "phi_c1 = 4.45 - 0.035*U # para abatimentos entre 5cm e 9cm\n",
    "\n",
    "gamma = 1 + exp(-7.8 + 0.1 * U)\n",
    "\n",
    "u_ar = ( 2*h + 2*b )\n",
    "\n",
    "h_fic = gamma*(2*Area)/u_ar\n",
    "\n",
    "phi_c2 = (42+h_fic)/(20+h_fic)\n",
    "\n",
    "phi_fF = phi_c1*phi_c2\n",
    "\n",
    "h_fm = h_fic/100 # espessura fictícia em metros\n",
    "\n",
    "A_beta_f = 42*h_fm**3 - 350*h_fm**2 + 588*h_fm + 113\n",
    "B_beta_f = 768*h_fm**3 - 3060*h_fm**2 + 3234*h_fm - 23\n",
    "C_beta_f = -200*h_fm**3 + 13*h_fm**2 + 1090*h_fm + 183\n",
    "D_beta_f = 7579*h_fm**3 - 31916*h_fm**2 + 35343*h_fm + 1931\n",
    "\n",
    "beta_f_t0 = (t_0**2 + A_beta_f*t_0 + B_beta_f )/(t_0**2 + C_beta_f*t_0 + D_beta_f)\n",
    "beta_f_tF = (t_F**2 + A_beta_f*t_F + B_beta_f )/(t_F**2 + C_beta_f*t_F + D_beta_f) "
   ]
  },
  {
   "cell_type": "markdown",
   "id": "bd808c0d",
   "metadata": {},
   "source": [
    "### Fluência Lenta Reversível:"
   ]
  },
  {
   "cell_type": "code",
   "execution_count": 22,
   "id": "9a489151",
   "metadata": {},
   "outputs": [
    {
     "data": {
      "text/latex": [
       "\\[\n",
       "\\begin{aligned}\n",
       "\\phi_{dF} &= 0.400 \\; \n",
       " &\\beta_{d} &= 0.995 \\;\n",
       "\\end{aligned}\n",
       "\\]"
      ],
      "text/plain": [
       "<IPython.core.display.Latex object>"
      ]
     },
     "metadata": {},
     "output_type": "display_data"
    }
   ],
   "source": [
    "%%render params\n",
    "\n",
    "phi_dF = 0.4\n",
    "\n",
    "beta_d = (t_F-t_0+20)/(t_F-t_0+70)"
   ]
  },
  {
   "cell_type": "markdown",
   "id": "96bd76c7",
   "metadata": {},
   "source": [
    "### Fluência Total:"
   ]
  },
  {
   "cell_type": "code",
   "execution_count": 23,
   "id": "a5a83321",
   "metadata": {},
   "outputs": [
    {
     "data": {
      "text/latex": [
       "\\[\n",
       "\\begin{aligned}\n",
       "\\phi_{t} &= 3.54 \\;\n",
       "\\end{aligned}\n",
       "\\]"
      ],
      "text/plain": [
       "<IPython.core.display.Latex object>"
      ]
     },
     "metadata": {},
     "output_type": "display_data"
    }
   ],
   "source": [
    "%%render 2 params\n",
    "phi_t = phi_a + phi_fF*(beta_f_tF - beta_f_t0) + phi_dF * beta_d"
   ]
  },
  {
   "cell_type": "markdown",
   "id": "865b57fe",
   "metadata": {},
   "source": [
    "### Retração do Concreto:"
   ]
  },
  {
   "cell_type": "code",
   "execution_count": 24,
   "id": "1bac914d",
   "metadata": {
    "scrolled": true
   },
   "outputs": [
    {
     "data": {
      "text/latex": [
       "\\[\n",
       "\\begin{aligned}\n",
       "\\epsilon_{1s} &= -0.00 \\; \n",
       " &\\epsilon_{2s} &= 0.90 \\; \n",
       " &A_{\\beta_{s}} &= 40 \\; \n",
       "\\\\[10pt]\n",
       " B_{\\beta_{s}} &= 29.28 \\; \n",
       " &C_{\\beta_{s}} &= 38.93 \\; \n",
       " &D_{\\beta_{s}} &= 117.76 \\; \n",
       "\\\\[10pt]\n",
       " E_{\\beta_{s}} &= 17.51 \\; \n",
       " &\\beta_{s_{t0}} &= 0.11 \\; \n",
       " &\\beta_{s_{tF}} &= 1.00 \\; \n",
       "\\\\[10pt]\n",
       " \\epsilon_{cs} &= -0.00 \\;\n",
       "\\end{aligned}\n",
       "\\]"
      ],
      "text/plain": [
       "<IPython.core.display.Latex object>"
      ]
     },
     "metadata": {},
     "output_type": "display_data"
    }
   ],
   "source": [
    "%%render 2 params\n",
    "\n",
    "epsilon_1s = (-8.09 + U/15 - U**2/2284 + U**3/133765 - U**4/7608150)*10**-4\n",
    "\n",
    "epsilon_2s = (33+2*h_fic)/(20.8 + 3*h_fic)\n",
    "\n",
    "A_beta_s = 40  \n",
    "B_beta_s = 116*h_fm**3 - 282*h_fm**2 + 220*h_fm - 4.8  \n",
    "C_beta_s = 2.5*h_fm**3 - 8.8*h_fm + 40.7  \n",
    "D_beta_s = -75*h_fm**3 + 585*h_fm**2 + 496*h_fm - 6.8  \n",
    "E_beta_s = -169*h_fm**4 + 88*h_fm**3 + 584*h_fm**2 - 39*h_fm + 0.8  \n",
    "\n",
    "beta_s_t0 = ((t_0/100)**3 + A_beta_s*(t_0/100)**2 +  B_beta_s*(t_0/100))/((t_0/100)**3 + C_beta_s*(t_0/100)**2 +  D_beta_s*(t_0/100) + E_beta_s)\n",
    "\n",
    "beta_s_tF = ((t_F/100)**3 + A_beta_s*(t_F/100)**2 +  B_beta_s*(t_F/100))/((t_F/100)**3 + C_beta_s*(t_F/100)**2 +  D_beta_s*(t_F/100) + E_beta_s)\n",
    "\n",
    "epsilon_cs = epsilon_1s*epsilon_2s*(beta_s_tF - beta_s_t0)\n"
   ]
  },
  {
   "cell_type": "markdown",
   "id": "26653758",
   "metadata": {},
   "source": [
    "## Relaxação do Aço de Protensão:"
   ]
  },
  {
   "cell_type": "code",
   "execution_count": 25,
   "id": "59b4e706",
   "metadata": {},
   "outputs": [
    {
     "data": {
      "text/html": [
       "<div>\n",
       "<style scoped>\n",
       "    .dataframe tbody tr th:only-of-type {\n",
       "        vertical-align: middle;\n",
       "    }\n",
       "\n",
       "    .dataframe tbody tr th {\n",
       "        vertical-align: top;\n",
       "    }\n",
       "\n",
       "    .dataframe thead th {\n",
       "        text-align: right;\n",
       "    }\n",
       "</style>\n",
       "<table border=\"1\" class=\"dataframe\">\n",
       "  <thead>\n",
       "    <tr style=\"text-align: right;\">\n",
       "      <th></th>\n",
       "      <th>Seção</th>\n",
       "      <th>Pos</th>\n",
       "      <th>Sigma,p</th>\n",
       "      <th>Sigma,p/fptk</th>\n",
       "      <th>Ψ1000</th>\n",
       "      <th>Ψ,inf</th>\n",
       "      <th>X,inf</th>\n",
       "    </tr>\n",
       "  </thead>\n",
       "  <tbody>\n",
       "    <tr>\n",
       "      <th>0</th>\n",
       "      <td>1.0</td>\n",
       "      <td>0.0</td>\n",
       "      <td>141.79</td>\n",
       "      <td>0.746</td>\n",
       "      <td>0.03</td>\n",
       "      <td>0.075</td>\n",
       "      <td>0.078</td>\n",
       "    </tr>\n",
       "    <tr>\n",
       "      <th>1</th>\n",
       "      <td>2.0</td>\n",
       "      <td>140.3</td>\n",
       "      <td>141.79</td>\n",
       "      <td>0.746</td>\n",
       "      <td>0.03</td>\n",
       "      <td>0.075</td>\n",
       "      <td>0.078</td>\n",
       "    </tr>\n",
       "    <tr>\n",
       "      <th>2</th>\n",
       "      <td>3.0</td>\n",
       "      <td>280.6</td>\n",
       "      <td>141.79</td>\n",
       "      <td>0.746</td>\n",
       "      <td>0.03</td>\n",
       "      <td>0.075</td>\n",
       "      <td>0.078</td>\n",
       "    </tr>\n",
       "    <tr>\n",
       "      <th>3</th>\n",
       "      <td>4.0</td>\n",
       "      <td>420.9</td>\n",
       "      <td>141.79</td>\n",
       "      <td>0.746</td>\n",
       "      <td>0.03</td>\n",
       "      <td>0.075</td>\n",
       "      <td>0.078</td>\n",
       "    </tr>\n",
       "    <tr>\n",
       "      <th>4</th>\n",
       "      <td>5.0</td>\n",
       "      <td>561.1</td>\n",
       "      <td>141.79</td>\n",
       "      <td>0.746</td>\n",
       "      <td>0.03</td>\n",
       "      <td>0.075</td>\n",
       "      <td>0.078</td>\n",
       "    </tr>\n",
       "    <tr>\n",
       "      <th>5</th>\n",
       "      <td>6.0</td>\n",
       "      <td>701.4</td>\n",
       "      <td>141.79</td>\n",
       "      <td>0.746</td>\n",
       "      <td>0.03</td>\n",
       "      <td>0.075</td>\n",
       "      <td>0.078</td>\n",
       "    </tr>\n",
       "    <tr>\n",
       "      <th>6</th>\n",
       "      <td>7.0</td>\n",
       "      <td>841.7</td>\n",
       "      <td>141.79</td>\n",
       "      <td>0.746</td>\n",
       "      <td>0.03</td>\n",
       "      <td>0.075</td>\n",
       "      <td>0.078</td>\n",
       "    </tr>\n",
       "    <tr>\n",
       "      <th>7</th>\n",
       "      <td>8.0</td>\n",
       "      <td>982.0</td>\n",
       "      <td>141.79</td>\n",
       "      <td>0.746</td>\n",
       "      <td>0.03</td>\n",
       "      <td>0.075</td>\n",
       "      <td>0.078</td>\n",
       "    </tr>\n",
       "    <tr>\n",
       "      <th>8</th>\n",
       "      <td>9.0</td>\n",
       "      <td>1122.3</td>\n",
       "      <td>141.79</td>\n",
       "      <td>0.746</td>\n",
       "      <td>0.03</td>\n",
       "      <td>0.075</td>\n",
       "      <td>0.078</td>\n",
       "    </tr>\n",
       "    <tr>\n",
       "      <th>9</th>\n",
       "      <td>10.0</td>\n",
       "      <td>1262.6</td>\n",
       "      <td>141.79</td>\n",
       "      <td>0.746</td>\n",
       "      <td>0.03</td>\n",
       "      <td>0.075</td>\n",
       "      <td>0.078</td>\n",
       "    </tr>\n",
       "    <tr>\n",
       "      <th>10</th>\n",
       "      <td>11.0</td>\n",
       "      <td>1402.9</td>\n",
       "      <td>141.79</td>\n",
       "      <td>0.746</td>\n",
       "      <td>0.03</td>\n",
       "      <td>0.075</td>\n",
       "      <td>0.078</td>\n",
       "    </tr>\n",
       "    <tr>\n",
       "      <th>11</th>\n",
       "      <td>12.0</td>\n",
       "      <td>1543.1</td>\n",
       "      <td>141.79</td>\n",
       "      <td>0.746</td>\n",
       "      <td>0.03</td>\n",
       "      <td>0.075</td>\n",
       "      <td>0.078</td>\n",
       "    </tr>\n",
       "    <tr>\n",
       "      <th>12</th>\n",
       "      <td>13.0</td>\n",
       "      <td>1683.4</td>\n",
       "      <td>141.79</td>\n",
       "      <td>0.746</td>\n",
       "      <td>0.03</td>\n",
       "      <td>0.075</td>\n",
       "      <td>0.078</td>\n",
       "    </tr>\n",
       "    <tr>\n",
       "      <th>13</th>\n",
       "      <td>14.0</td>\n",
       "      <td>1823.7</td>\n",
       "      <td>141.79</td>\n",
       "      <td>0.746</td>\n",
       "      <td>0.03</td>\n",
       "      <td>0.075</td>\n",
       "      <td>0.078</td>\n",
       "    </tr>\n",
       "    <tr>\n",
       "      <th>14</th>\n",
       "      <td>15.0</td>\n",
       "      <td>1964.0</td>\n",
       "      <td>141.79</td>\n",
       "      <td>0.746</td>\n",
       "      <td>0.03</td>\n",
       "      <td>0.075</td>\n",
       "      <td>0.078</td>\n",
       "    </tr>\n",
       "  </tbody>\n",
       "</table>\n",
       "</div>"
      ],
      "text/plain": [
       "    Seção     Pos  Sigma,p  Sigma,p/fptk  Ψ1000  Ψ,inf  X,inf\n",
       "0     1.0     0.0   141.79         0.746   0.03  0.075  0.078\n",
       "1     2.0   140.3   141.79         0.746   0.03  0.075  0.078\n",
       "2     3.0   280.6   141.79         0.746   0.03  0.075  0.078\n",
       "3     4.0   420.9   141.79         0.746   0.03  0.075  0.078\n",
       "4     5.0   561.1   141.79         0.746   0.03  0.075  0.078\n",
       "5     6.0   701.4   141.79         0.746   0.03  0.075  0.078\n",
       "6     7.0   841.7   141.79         0.746   0.03  0.075  0.078\n",
       "7     8.0   982.0   141.79         0.746   0.03  0.075  0.078\n",
       "8     9.0  1122.3   141.79         0.746   0.03  0.075  0.078\n",
       "9    10.0  1262.6   141.79         0.746   0.03  0.075  0.078\n",
       "10   11.0  1402.9   141.79         0.746   0.03  0.075  0.078\n",
       "11   12.0  1543.1   141.79         0.746   0.03  0.075  0.078\n",
       "12   13.0  1683.4   141.79         0.746   0.03  0.075  0.078\n",
       "13   14.0  1823.7   141.79         0.746   0.03  0.075  0.078\n",
       "14   15.0  1964.0   141.79         0.746   0.03  0.075  0.078"
      ]
     },
     "metadata": {},
     "output_type": "display_data"
    }
   ],
   "source": [
    "relax = []\n",
    "for i in range(7):\n",
    "    relax.append([0]*nS)\n",
    "\n",
    "for i in range (nS):\n",
    "    relax[0][i] = int(i+1)\n",
    "    relax[1][i] = esforcos[0][i] #posição x da seção\n",
    "    for j in range(len(qntCordoalhas)-1,-1,-1):\n",
    "        if(relax[1][i] >= x1_anc[j] and relax[1][i] <= x2_anc[j]):\n",
    "            relax[2][i] = round(sigma_p[j],2)\n",
    "            break\n",
    "    relax[3][i] = round(relax[2][i]/f_ptk,3)\n",
    "    relax[4][i] = round(calcpsi(relax[3][i]),3)\n",
    "    relax[5][i] = round(relax[4][i]*2.5,3)\n",
    "    relax[6][i] = round(-log(1-relax[5][i]),3)\n",
    "    \n",
    "    \n",
    "tabela3 = pd.DataFrame(relax)\n",
    "tabela3 = tabela3.transpose()\n",
    "tabela3.rename(columns={0:'Seção',1:'Pos',2:'Sigma,p',3:'Sigma,p/fptk',4:'\\u03A81000',5:'\\u03A8,inf',6:'X,inf'},inplace = True)\n",
    "display(tabela3)"
   ]
  },
  {
   "cell_type": "markdown",
   "id": "b0d5874e",
   "metadata": {},
   "source": [
    "## Cálculo das Perdas Progressivas:"
   ]
  },
  {
   "cell_type": "code",
   "execution_count": 26,
   "id": "5d841862",
   "metadata": {},
   "outputs": [
    {
     "data": {
      "text/html": [
       "<div>\n",
       "<style scoped>\n",
       "    .dataframe tbody tr th:only-of-type {\n",
       "        vertical-align: middle;\n",
       "    }\n",
       "\n",
       "    .dataframe tbody tr th {\n",
       "        vertical-align: top;\n",
       "    }\n",
       "\n",
       "    .dataframe thead th {\n",
       "        text-align: right;\n",
       "    }\n",
       "</style>\n",
       "<table border=\"1\" class=\"dataframe\">\n",
       "  <thead>\n",
       "    <tr style=\"text-align: right;\">\n",
       "      <th></th>\n",
       "      <th>Sigma,c,t0</th>\n",
       "      <th>ΔSigma,p</th>\n",
       "      <th>ΔNp</th>\n",
       "      <th>ΔMp</th>\n",
       "    </tr>\n",
       "  </thead>\n",
       "  <tbody>\n",
       "    <tr>\n",
       "      <th>0</th>\n",
       "      <td>-1.32</td>\n",
       "      <td>-39.96</td>\n",
       "      <td>342.86</td>\n",
       "      <td>11428.6</td>\n",
       "    </tr>\n",
       "    <tr>\n",
       "      <th>1</th>\n",
       "      <td>-1.18</td>\n",
       "      <td>-37.45</td>\n",
       "      <td>321.32</td>\n",
       "      <td>10710.6</td>\n",
       "    </tr>\n",
       "    <tr>\n",
       "      <th>2</th>\n",
       "      <td>-1.07</td>\n",
       "      <td>-35.48</td>\n",
       "      <td>304.42</td>\n",
       "      <td>10147.2</td>\n",
       "    </tr>\n",
       "    <tr>\n",
       "      <th>3</th>\n",
       "      <td>-0.98</td>\n",
       "      <td>-33.86</td>\n",
       "      <td>290.52</td>\n",
       "      <td>9683.9</td>\n",
       "    </tr>\n",
       "    <tr>\n",
       "      <th>4</th>\n",
       "      <td>-0.90</td>\n",
       "      <td>-32.43</td>\n",
       "      <td>278.25</td>\n",
       "      <td>9274.9</td>\n",
       "    </tr>\n",
       "    <tr>\n",
       "      <th>5</th>\n",
       "      <td>-0.85</td>\n",
       "      <td>-31.53</td>\n",
       "      <td>270.53</td>\n",
       "      <td>9017.6</td>\n",
       "    </tr>\n",
       "    <tr>\n",
       "      <th>6</th>\n",
       "      <td>-0.82</td>\n",
       "      <td>-30.99</td>\n",
       "      <td>265.89</td>\n",
       "      <td>8862.9</td>\n",
       "    </tr>\n",
       "    <tr>\n",
       "      <th>7</th>\n",
       "      <td>-0.81</td>\n",
       "      <td>-30.82</td>\n",
       "      <td>264.44</td>\n",
       "      <td>8814.6</td>\n",
       "    </tr>\n",
       "    <tr>\n",
       "      <th>8</th>\n",
       "      <td>-0.82</td>\n",
       "      <td>-30.99</td>\n",
       "      <td>265.89</td>\n",
       "      <td>8862.9</td>\n",
       "    </tr>\n",
       "    <tr>\n",
       "      <th>9</th>\n",
       "      <td>-0.85</td>\n",
       "      <td>-31.53</td>\n",
       "      <td>270.53</td>\n",
       "      <td>9017.6</td>\n",
       "    </tr>\n",
       "    <tr>\n",
       "      <th>10</th>\n",
       "      <td>-0.90</td>\n",
       "      <td>-32.43</td>\n",
       "      <td>278.25</td>\n",
       "      <td>9274.9</td>\n",
       "    </tr>\n",
       "    <tr>\n",
       "      <th>11</th>\n",
       "      <td>-0.98</td>\n",
       "      <td>-33.86</td>\n",
       "      <td>290.52</td>\n",
       "      <td>9683.9</td>\n",
       "    </tr>\n",
       "    <tr>\n",
       "      <th>12</th>\n",
       "      <td>-1.07</td>\n",
       "      <td>-35.48</td>\n",
       "      <td>304.42</td>\n",
       "      <td>10147.2</td>\n",
       "    </tr>\n",
       "    <tr>\n",
       "      <th>13</th>\n",
       "      <td>-1.18</td>\n",
       "      <td>-37.45</td>\n",
       "      <td>321.32</td>\n",
       "      <td>10710.6</td>\n",
       "    </tr>\n",
       "    <tr>\n",
       "      <th>14</th>\n",
       "      <td>-1.32</td>\n",
       "      <td>-39.96</td>\n",
       "      <td>342.86</td>\n",
       "      <td>11428.6</td>\n",
       "    </tr>\n",
       "  </tbody>\n",
       "</table>\n",
       "</div>"
      ],
      "text/plain": [
       "    Sigma,c,t0  ΔSigma,p     ΔNp      ΔMp\n",
       "0        -1.32    -39.96  342.86  11428.6\n",
       "1        -1.18    -37.45  321.32  10710.6\n",
       "2        -1.07    -35.48  304.42  10147.2\n",
       "3        -0.98    -33.86  290.52   9683.9\n",
       "4        -0.90    -32.43  278.25   9274.9\n",
       "5        -0.85    -31.53  270.53   9017.6\n",
       "6        -0.82    -30.99  265.89   8862.9\n",
       "7        -0.81    -30.82  264.44   8814.6\n",
       "8        -0.82    -30.99  265.89   8862.9\n",
       "9        -0.85    -31.53  270.53   9017.6\n",
       "10       -0.90    -32.43  278.25   9274.9\n",
       "11       -0.98    -33.86  290.52   9683.9\n",
       "12       -1.07    -35.48  304.42  10147.2\n",
       "13       -1.18    -37.45  321.32  10710.6\n",
       "14       -1.32    -39.96  342.86  11428.6"
      ]
     },
     "metadata": {},
     "output_type": "display_data"
    }
   ],
   "source": [
    "progressivas = []\n",
    "\n",
    "for i in range(4):\n",
    "    progressivas.append([0] * nS)\n",
    "    \n",
    "alpha_p = E_p/E_cs\n",
    "    \n",
    "for i in range(nS):\n",
    "    pos_i = relax[1][i]\n",
    "    momento = 0.5*Q_t0*pos_i*(Vao-pos_i)\n",
    "    #momento = esforcos[1][i]\n",
    "    #print(\"Momento seção \"+str(i)+\": \"+str(int(momento)))\n",
    "    for j in range(len(qntCordoalhas)-1,-1,-1):\n",
    "        if(relax[1][i] >= x1_anc[j] and relax[1][i] <= x2_anc[j]):\n",
    "            sigma_pi = sigma_p[j]\n",
    "            Npi = N_p[j]\n",
    "            Mpi = M_p[j]\n",
    "            Wcpi = W_cp[j]\n",
    "            e_pp = e_p_i[j]\n",
    "            A_pp = A_p[j]\n",
    "            break\n",
    "    progressivas[0][i] = round(Npi/Area + Mpi/Wcpi + momento/Wcpi,2)\n",
    "    #print(Npi,Mpi)\n",
    "    K_p = alpha_p*A_pp*(1/Area + e_pp/Wcpi)\n",
    "    progressivas[1][i] = round( (( progressivas[0][i]*phi_t/E_cs + epsilon_cs - sigma_pi/E_p*relax[6][i] ) / (1 + relax[6][i] + K_p*(1+0.5*phi_t)) )*E_p,2)\n",
    "    progressivas[2][i] = -round(progressivas[1][i]*A_pp  ,2)\n",
    "    progressivas[3][i] = round(progressivas[2][i]*e_pp ,1)\n",
    "    \n",
    "    \n",
    "\n",
    "tabela4 = pd.DataFrame(progressivas)\n",
    "tabela4 = tabela4.transpose()\n",
    "tabela4.rename(columns={0:'Sigma,c,t0',1:'\\u0394Sigma,p',2:'\\u0394Np',3:'\\u0394Mp'},inplace = True)\n",
    "display(tabela4)"
   ]
  },
  {
   "cell_type": "markdown",
   "id": "6d844d65",
   "metadata": {},
   "source": [
    "# Tensões Normais nas Bordas:\n",
    "\n",
    "## Bordas Superiores:"
   ]
  },
  {
   "cell_type": "code",
   "execution_count": 27,
   "id": "90627a03",
   "metadata": {},
   "outputs": [
    {
     "data": {
      "text/html": [
       "<div>\n",
       "<style scoped>\n",
       "    .dataframe tbody tr th:only-of-type {\n",
       "        vertical-align: middle;\n",
       "    }\n",
       "\n",
       "    .dataframe tbody tr th {\n",
       "        vertical-align: top;\n",
       "    }\n",
       "\n",
       "    .dataframe thead th {\n",
       "        text-align: right;\n",
       "    }\n",
       "</style>\n",
       "<table border=\"1\" class=\"dataframe\">\n",
       "  <thead>\n",
       "    <tr style=\"text-align: right;\">\n",
       "      <th></th>\n",
       "      <th>Pos (cm)</th>\n",
       "      <th>Sigma,s</th>\n",
       "      <th>OK</th>\n",
       "    </tr>\n",
       "  </thead>\n",
       "  <tbody>\n",
       "    <tr>\n",
       "      <th>0</th>\n",
       "      <td>0.0</td>\n",
       "      <td>0.352</td>\n",
       "      <td>OK</td>\n",
       "    </tr>\n",
       "    <tr>\n",
       "      <th>1</th>\n",
       "      <td>140.3</td>\n",
       "      <td>-0.116</td>\n",
       "      <td>OK</td>\n",
       "    </tr>\n",
       "    <tr>\n",
       "      <th>2</th>\n",
       "      <td>280.6</td>\n",
       "      <td>-0.512</td>\n",
       "      <td>OK</td>\n",
       "    </tr>\n",
       "    <tr>\n",
       "      <th>3</th>\n",
       "      <td>420.9</td>\n",
       "      <td>-0.836</td>\n",
       "      <td>OK</td>\n",
       "    </tr>\n",
       "    <tr>\n",
       "      <th>4</th>\n",
       "      <td>561.1</td>\n",
       "      <td>-1.088</td>\n",
       "      <td>OK</td>\n",
       "    </tr>\n",
       "    <tr>\n",
       "      <th>5</th>\n",
       "      <td>701.4</td>\n",
       "      <td>-1.268</td>\n",
       "      <td>OK</td>\n",
       "    </tr>\n",
       "    <tr>\n",
       "      <th>6</th>\n",
       "      <td>841.7</td>\n",
       "      <td>-1.376</td>\n",
       "      <td>OK</td>\n",
       "    </tr>\n",
       "    <tr>\n",
       "      <th>7</th>\n",
       "      <td>982.0</td>\n",
       "      <td>-1.412</td>\n",
       "      <td>OK</td>\n",
       "    </tr>\n",
       "    <tr>\n",
       "      <th>8</th>\n",
       "      <td>1122.3</td>\n",
       "      <td>-1.376</td>\n",
       "      <td>OK</td>\n",
       "    </tr>\n",
       "    <tr>\n",
       "      <th>9</th>\n",
       "      <td>1262.6</td>\n",
       "      <td>-1.268</td>\n",
       "      <td>OK</td>\n",
       "    </tr>\n",
       "    <tr>\n",
       "      <th>10</th>\n",
       "      <td>1402.9</td>\n",
       "      <td>-1.088</td>\n",
       "      <td>OK</td>\n",
       "    </tr>\n",
       "    <tr>\n",
       "      <th>11</th>\n",
       "      <td>1543.1</td>\n",
       "      <td>-0.836</td>\n",
       "      <td>OK</td>\n",
       "    </tr>\n",
       "    <tr>\n",
       "      <th>12</th>\n",
       "      <td>1683.4</td>\n",
       "      <td>-0.512</td>\n",
       "      <td>OK</td>\n",
       "    </tr>\n",
       "    <tr>\n",
       "      <th>13</th>\n",
       "      <td>1823.7</td>\n",
       "      <td>-0.116</td>\n",
       "      <td>OK</td>\n",
       "    </tr>\n",
       "    <tr>\n",
       "      <th>14</th>\n",
       "      <td>1964.0</td>\n",
       "      <td>0.352</td>\n",
       "      <td>OK</td>\n",
       "    </tr>\n",
       "  </tbody>\n",
       "</table>\n",
       "</div>"
      ],
      "text/plain": [
       "   Pos (cm) Sigma,s  OK\n",
       "0       0.0   0.352  OK\n",
       "1     140.3  -0.116  OK\n",
       "2     280.6  -0.512  OK\n",
       "3     420.9  -0.836  OK\n",
       "4     561.1  -1.088  OK\n",
       "5     701.4  -1.268  OK\n",
       "6     841.7  -1.376  OK\n",
       "7     982.0  -1.412  OK\n",
       "8    1122.3  -1.376  OK\n",
       "9    1262.6  -1.268  OK\n",
       "10   1402.9  -1.088  OK\n",
       "11   1543.1  -0.836  OK\n",
       "12   1683.4  -0.512  OK\n",
       "13   1823.7  -0.116  OK\n",
       "14   1964.0   0.352  OK"
      ]
     },
     "metadata": {},
     "output_type": "display_data"
    }
   ],
   "source": [
    "tensaosup = []\n",
    "\n",
    "for i in range(3):\n",
    "    tensaosup.append([0]*nS)\n",
    "    \n",
    "for i in range(nS):\n",
    "    tensaosup[0][i] = relax[1][i]\n",
    "    for j in range(len(qntCordoalhas)-1,-1,-1):\n",
    "        if(relax[1][i] >= x1_anc[j] and relax[1][i] <= x2_anc[j]):\n",
    "            sigma_pi = sigma_p[j]\n",
    "            Npi = N_p[j]\n",
    "            Mpi = M_p[j]\n",
    "            Wcpi = W_cp[j]\n",
    "            e_pp = e_p_i[j]\n",
    "            A_pp = A_p[j]\n",
    "            break\n",
    "    Npx = Npi + progressivas[2][i]\n",
    "    Mpx = Mpi + progressivas[3][i]\n",
    "    tensaosup[1][i] = round( -abs(Npx/Area) + abs(Mpx/W_s) - abs(esforcos[1][i]/W_s) ,3)\n",
    "    if tensaosup[1][i] > -sigma_ccF:\n",
    "        tensaosup[2][i] = \"OK\"\n",
    "    else:\n",
    "        tensaosup[2][i] = \"--> NAO OK <--\"\n",
    "\n",
    "tabela5 = pd.DataFrame(tensaosup)\n",
    "tabela5 = tabela5.transpose()\n",
    "tabela5.rename(columns={0:'Pos (cm)',1:'Sigma,s',2:'OK'},inplace = True)\n",
    "display(tabela5)"
   ]
  },
  {
   "cell_type": "markdown",
   "id": "75627f5a",
   "metadata": {
    "tags": []
   },
   "source": [
    "## Bordas Inferiores:"
   ]
  },
  {
   "cell_type": "code",
   "execution_count": 28,
   "id": "43ea2740",
   "metadata": {},
   "outputs": [
    {
     "data": {
      "text/html": [
       "<div>\n",
       "<style scoped>\n",
       "    .dataframe tbody tr th:only-of-type {\n",
       "        vertical-align: middle;\n",
       "    }\n",
       "\n",
       "    .dataframe tbody tr th {\n",
       "        vertical-align: top;\n",
       "    }\n",
       "\n",
       "    .dataframe thead th {\n",
       "        text-align: right;\n",
       "    }\n",
       "</style>\n",
       "<table border=\"1\" class=\"dataframe\">\n",
       "  <thead>\n",
       "    <tr style=\"text-align: right;\">\n",
       "      <th></th>\n",
       "      <th>Pos (cm)</th>\n",
       "      <th>Sigma,i</th>\n",
       "      <th>OK</th>\n",
       "    </tr>\n",
       "  </thead>\n",
       "  <tbody>\n",
       "    <tr>\n",
       "      <th>0</th>\n",
       "      <td>0.0</td>\n",
       "      <td>-1.139</td>\n",
       "      <td>OK</td>\n",
       "    </tr>\n",
       "    <tr>\n",
       "      <th>1</th>\n",
       "      <td>140.3</td>\n",
       "      <td>-0.691</td>\n",
       "      <td>OK</td>\n",
       "    </tr>\n",
       "    <tr>\n",
       "      <th>2</th>\n",
       "      <td>280.6</td>\n",
       "      <td>-0.31</td>\n",
       "      <td>OK</td>\n",
       "    </tr>\n",
       "    <tr>\n",
       "      <th>3</th>\n",
       "      <td>420.9</td>\n",
       "      <td>0.002</td>\n",
       "      <td>OK</td>\n",
       "    </tr>\n",
       "    <tr>\n",
       "      <th>4</th>\n",
       "      <td>561.1</td>\n",
       "      <td>0.242</td>\n",
       "      <td>OK</td>\n",
       "    </tr>\n",
       "    <tr>\n",
       "      <th>5</th>\n",
       "      <td>701.4</td>\n",
       "      <td>0.416</td>\n",
       "      <td>OK</td>\n",
       "    </tr>\n",
       "    <tr>\n",
       "      <th>6</th>\n",
       "      <td>841.7</td>\n",
       "      <td>0.519</td>\n",
       "      <td>--&gt; NAO OK &lt;--</td>\n",
       "    </tr>\n",
       "    <tr>\n",
       "      <th>7</th>\n",
       "      <td>982.0</td>\n",
       "      <td>0.554</td>\n",
       "      <td>--&gt; NAO OK &lt;--</td>\n",
       "    </tr>\n",
       "    <tr>\n",
       "      <th>8</th>\n",
       "      <td>1122.3</td>\n",
       "      <td>0.519</td>\n",
       "      <td>--&gt; NAO OK &lt;--</td>\n",
       "    </tr>\n",
       "    <tr>\n",
       "      <th>9</th>\n",
       "      <td>1262.6</td>\n",
       "      <td>0.416</td>\n",
       "      <td>OK</td>\n",
       "    </tr>\n",
       "    <tr>\n",
       "      <th>10</th>\n",
       "      <td>1402.9</td>\n",
       "      <td>0.242</td>\n",
       "      <td>OK</td>\n",
       "    </tr>\n",
       "    <tr>\n",
       "      <th>11</th>\n",
       "      <td>1543.1</td>\n",
       "      <td>0.002</td>\n",
       "      <td>OK</td>\n",
       "    </tr>\n",
       "    <tr>\n",
       "      <th>12</th>\n",
       "      <td>1683.4</td>\n",
       "      <td>-0.31</td>\n",
       "      <td>OK</td>\n",
       "    </tr>\n",
       "    <tr>\n",
       "      <th>13</th>\n",
       "      <td>1823.7</td>\n",
       "      <td>-0.691</td>\n",
       "      <td>OK</td>\n",
       "    </tr>\n",
       "    <tr>\n",
       "      <th>14</th>\n",
       "      <td>1964.0</td>\n",
       "      <td>-1.139</td>\n",
       "      <td>OK</td>\n",
       "    </tr>\n",
       "  </tbody>\n",
       "</table>\n",
       "</div>"
      ],
      "text/plain": [
       "   Pos (cm) Sigma,i              OK\n",
       "0       0.0  -1.139              OK\n",
       "1     140.3  -0.691              OK\n",
       "2     280.6   -0.31              OK\n",
       "3     420.9   0.002              OK\n",
       "4     561.1   0.242              OK\n",
       "5     701.4   0.416              OK\n",
       "6     841.7   0.519  --> NAO OK <--\n",
       "7     982.0   0.554  --> NAO OK <--\n",
       "8    1122.3   0.519  --> NAO OK <--\n",
       "9    1262.6   0.416              OK\n",
       "10   1402.9   0.242              OK\n",
       "11   1543.1   0.002              OK\n",
       "12   1683.4   -0.31              OK\n",
       "13   1823.7  -0.691              OK\n",
       "14   1964.0  -1.139              OK"
      ]
     },
     "metadata": {},
     "output_type": "display_data"
    }
   ],
   "source": [
    "tensaoinf = []\n",
    "\n",
    "for i in range(3):\n",
    "    tensaoinf.append([0]*nS)\n",
    "    \n",
    "for i in range(nS):\n",
    "    tensaoinf[0][i] = relax[1][i]\n",
    "    for j in range(len(qntCordoalhas)-1,-1,-1):\n",
    "        if(relax[1][i] >= x1_anc[j] and relax[1][i] <= x2_anc[j]):\n",
    "            sigma_pi = sigma_p[j]\n",
    "            Npi = N_p[j]\n",
    "            Mpi = M_p[j]\n",
    "            Wcpi = W_cp[j]\n",
    "            e_pp = e_p_i[j]\n",
    "            A_pp = A_p[j]\n",
    "            break\n",
    "    Npx = Npi + progressivas[2][i]\n",
    "    Mpx = Mpi + progressivas[3][i]\n",
    "    tensaoinf[1][i] = round( -abs(Npx/Area) - abs(Mpx/W_i) + abs(esforcos[1][i]/W_i) ,3)\n",
    "    if tensaoinf[1][i] < -sigma_ctF:\n",
    "        tensaoinf[2][i] = \"OK\"\n",
    "    else:\n",
    "        tensaoinf[2][i] = \"--> NAO OK <--\"\n",
    "    \n",
    "tabela6 = pd.DataFrame(tensaoinf)\n",
    "tabela6 = tabela6.transpose()\n",
    "tabela6.rename(columns={0:'Pos (cm)',1:'Sigma,i',2:'OK'},inplace = True)\n",
    "display(tabela6)"
   ]
  },
  {
   "cell_type": "markdown",
   "id": "73ee5e0c",
   "metadata": {},
   "source": [
    "# Armaduras Passivas:\n",
    "\n",
    "## Armadura da Cunha de Tração:"
   ]
  },
  {
   "cell_type": "code",
   "execution_count": 29,
   "id": "75b47b69",
   "metadata": {},
   "outputs": [
    {
     "name": "stdout",
     "output_type": "stream",
     "text": [
      "Seção crítica de cálculo: seção 0\n"
     ]
    }
   ],
   "source": [
    "sigma_cs0 = -10000\n",
    "pos = -1\n",
    "for i in range (0,nS):\n",
    "    if sigma_cs0 < tensaosup[1][i]:\n",
    "        sigma_cs0 = tensaosup[1][i]\n",
    "        pos = i\n",
    "\n",
    "sigma_ci0 = tensaoinf[1][pos]\n",
    "\n",
    "print(\"Seção crítica de cálculo: seção\",pos)"
   ]
  },
  {
   "cell_type": "code",
   "execution_count": 30,
   "id": "bea309c0",
   "metadata": {},
   "outputs": [
    {
     "data": {
      "text/latex": [
       "\\[\n",
       "\\begin{aligned}\n",
       "x &= \\frac{ \\sigma_{cs0} }{ \\sigma_{cs0} - \\sigma_{ci0} } \\cdot h  = \\frac{ 0.35 }{ 0.35 - -1.14 } \\cdot 90 &= 21.25  \n",
       "\\\\[10pt]\n",
       "S_{x} &= b \\cdot \\frac{ \\left( x \\right) ^{ 2 } }{ 2 }  = 30 \\cdot \\frac{ \\left( 21.25 \\right) ^{ 2 } }{ 2 } &= 6771.83  \n",
       "\\\\[10pt]\n",
       "R_{ct} &= \\frac{ \\sigma_{cs0} }{ x } \\cdot S_{x}  = \\frac{ 0.35 }{ 21.25 } \\cdot 6771.83 &= 112.19  \n",
       "\\\\[10pt]\n",
       "A_{st} &= \\frac{ R_{ct} }{ 25.00 }  = \\frac{ 112.19 }{ 25.00 } &= 4.49  \n",
       "\\\\[10pt]\n",
       "\\phi_{st} &= 1.60 \\; \n",
       "\\\\[10pt]\n",
       "N_{st} &= \\left \\lceil \\frac{ A_{st} }{ \\left( \\frac{ \\phi_{st} }{ 2 } \\right) ^{ 2 } \\cdot \\pi } \\right \\rceil  = \\left \\lceil \\frac{ 4.49 }{ \\left( \\frac{ 1.60 }{ 2 } \\right) ^{ 2 } \\cdot 3.14 } \\right \\rceil &= 3  \n",
       "\\end{aligned}\n",
       "\\]"
      ],
      "text/plain": [
       "<IPython.core.display.Latex object>"
      ]
     },
     "metadata": {},
     "output_type": "display_data"
    }
   ],
   "source": [
    "%%render 2\n",
    "\n",
    "x = sigma_cs0/(sigma_cs0 - sigma_ci0) * h\n",
    "\n",
    "S_x = b*x**2/2\n",
    "\n",
    "R_ct = sigma_cs0/x*S_x\n",
    "\n",
    "A_st = R_ct/25.00\n",
    "\n",
    "phi_st = 1.6\n",
    "\n",
    "N_st = ceil(A_st/((phi_st/2)**2*pi))"
   ]
  },
  {
   "cell_type": "markdown",
   "id": "a596a0c9",
   "metadata": {},
   "source": [
    "## Pré-Alongamento de Leito:"
   ]
  },
  {
   "cell_type": "code",
   "execution_count": 31,
   "id": "569ad1c3",
   "metadata": {
    "scrolled": true
   },
   "outputs": [
    {
     "data": {
      "text/html": [
       "<div>\n",
       "<style scoped>\n",
       "    .dataframe tbody tr th:only-of-type {\n",
       "        vertical-align: middle;\n",
       "    }\n",
       "\n",
       "    .dataframe tbody tr th {\n",
       "        vertical-align: top;\n",
       "    }\n",
       "\n",
       "    .dataframe thead th {\n",
       "        text-align: right;\n",
       "    }\n",
       "</style>\n",
       "<table border=\"1\" class=\"dataframe\">\n",
       "  <thead>\n",
       "    <tr style=\"text-align: right;\">\n",
       "      <th></th>\n",
       "      <th>Np,F</th>\n",
       "      <th>Mp,F</th>\n",
       "      <th>Sigma,cpF</th>\n",
       "      <th>Sigma,PN</th>\n",
       "      <th>e,pn</th>\n",
       "    </tr>\n",
       "  </thead>\n",
       "  <tbody>\n",
       "    <tr>\n",
       "      <th>0</th>\n",
       "      <td>-873.74</td>\n",
       "      <td>-29124.3</td>\n",
       "      <td>-0.95</td>\n",
       "      <td>107.79</td>\n",
       "      <td>0.00539</td>\n",
       "    </tr>\n",
       "    <tr>\n",
       "      <th>1</th>\n",
       "      <td>-895.28</td>\n",
       "      <td>-29842.3</td>\n",
       "      <td>-0.97</td>\n",
       "      <td>110.43</td>\n",
       "      <td>0.00552</td>\n",
       "    </tr>\n",
       "    <tr>\n",
       "      <th>2</th>\n",
       "      <td>-912.18</td>\n",
       "      <td>-30405.7</td>\n",
       "      <td>-0.99</td>\n",
       "      <td>112.52</td>\n",
       "      <td>0.00563</td>\n",
       "    </tr>\n",
       "    <tr>\n",
       "      <th>3</th>\n",
       "      <td>-926.08</td>\n",
       "      <td>-30869.0</td>\n",
       "      <td>-1.00</td>\n",
       "      <td>114.20</td>\n",
       "      <td>0.00571</td>\n",
       "    </tr>\n",
       "    <tr>\n",
       "      <th>4</th>\n",
       "      <td>-938.35</td>\n",
       "      <td>-31278.0</td>\n",
       "      <td>-1.02</td>\n",
       "      <td>115.76</td>\n",
       "      <td>0.00579</td>\n",
       "    </tr>\n",
       "    <tr>\n",
       "      <th>5</th>\n",
       "      <td>-946.07</td>\n",
       "      <td>-31535.3</td>\n",
       "      <td>-1.02</td>\n",
       "      <td>116.66</td>\n",
       "      <td>0.00583</td>\n",
       "    </tr>\n",
       "    <tr>\n",
       "      <th>6</th>\n",
       "      <td>-950.71</td>\n",
       "      <td>-31690.0</td>\n",
       "      <td>-1.03</td>\n",
       "      <td>117.26</td>\n",
       "      <td>0.00586</td>\n",
       "    </tr>\n",
       "    <tr>\n",
       "      <th>7</th>\n",
       "      <td>-952.16</td>\n",
       "      <td>-31738.3</td>\n",
       "      <td>-1.03</td>\n",
       "      <td>117.43</td>\n",
       "      <td>0.00587</td>\n",
       "    </tr>\n",
       "    <tr>\n",
       "      <th>8</th>\n",
       "      <td>-950.71</td>\n",
       "      <td>-31690.0</td>\n",
       "      <td>-1.03</td>\n",
       "      <td>117.26</td>\n",
       "      <td>0.00586</td>\n",
       "    </tr>\n",
       "    <tr>\n",
       "      <th>9</th>\n",
       "      <td>-946.07</td>\n",
       "      <td>-31535.3</td>\n",
       "      <td>-1.02</td>\n",
       "      <td>116.66</td>\n",
       "      <td>0.00583</td>\n",
       "    </tr>\n",
       "    <tr>\n",
       "      <th>10</th>\n",
       "      <td>-938.35</td>\n",
       "      <td>-31278.0</td>\n",
       "      <td>-1.02</td>\n",
       "      <td>115.76</td>\n",
       "      <td>0.00579</td>\n",
       "    </tr>\n",
       "    <tr>\n",
       "      <th>11</th>\n",
       "      <td>-926.08</td>\n",
       "      <td>-30869.0</td>\n",
       "      <td>-1.00</td>\n",
       "      <td>114.20</td>\n",
       "      <td>0.00571</td>\n",
       "    </tr>\n",
       "    <tr>\n",
       "      <th>12</th>\n",
       "      <td>-912.18</td>\n",
       "      <td>-30405.7</td>\n",
       "      <td>-0.99</td>\n",
       "      <td>112.52</td>\n",
       "      <td>0.00563</td>\n",
       "    </tr>\n",
       "    <tr>\n",
       "      <th>13</th>\n",
       "      <td>-895.28</td>\n",
       "      <td>-29842.3</td>\n",
       "      <td>-0.97</td>\n",
       "      <td>110.43</td>\n",
       "      <td>0.00552</td>\n",
       "    </tr>\n",
       "    <tr>\n",
       "      <th>14</th>\n",
       "      <td>-873.74</td>\n",
       "      <td>-29124.3</td>\n",
       "      <td>-0.95</td>\n",
       "      <td>107.79</td>\n",
       "      <td>0.00539</td>\n",
       "    </tr>\n",
       "  </tbody>\n",
       "</table>\n",
       "</div>"
      ],
      "text/plain": [
       "      Np,F     Mp,F  Sigma,cpF  Sigma,PN     e,pn\n",
       "0  -873.74 -29124.3      -0.95    107.79  0.00539\n",
       "1  -895.28 -29842.3      -0.97    110.43  0.00552\n",
       "2  -912.18 -30405.7      -0.99    112.52  0.00563\n",
       "3  -926.08 -30869.0      -1.00    114.20  0.00571\n",
       "4  -938.35 -31278.0      -1.02    115.76  0.00579\n",
       "5  -946.07 -31535.3      -1.02    116.66  0.00583\n",
       "6  -950.71 -31690.0      -1.03    117.26  0.00586\n",
       "7  -952.16 -31738.3      -1.03    117.43  0.00587\n",
       "8  -950.71 -31690.0      -1.03    117.26  0.00586\n",
       "9  -946.07 -31535.3      -1.02    116.66  0.00583\n",
       "10 -938.35 -31278.0      -1.02    115.76  0.00579\n",
       "11 -926.08 -30869.0      -1.00    114.20  0.00571\n",
       "12 -912.18 -30405.7      -0.99    112.52  0.00563\n",
       "13 -895.28 -29842.3      -0.97    110.43  0.00552\n",
       "14 -873.74 -29124.3      -0.95    107.79  0.00539"
      ]
     },
     "metadata": {},
     "output_type": "display_data"
    }
   ],
   "source": [
    "prealong = []\n",
    "\n",
    "for i in range(5):\n",
    "    prealong.append([0] * nS)\n",
    "    \n",
    "for i in range(nS):\n",
    "    for j in range(len(qntCordoalhas)-1,-1,-1):\n",
    "        if(relax[1][i] >= x1_anc[j] and relax[1][i] <= x2_anc[j]):\n",
    "                sigma_pw = sigma_p[j]\n",
    "                Npw = N_p[j]\n",
    "                Mpw = M_p[j]\n",
    "                Wcpw = W_cp[j]\n",
    "                break\n",
    "    prealong[0][i] = Npw + progressivas[2][i]\n",
    "    prealong[1][i] = Mpw + progressivas[3][i]\n",
    "    prealong[2][i] = round(prealong[0][i]/Area + prealong[1][i]/Wcpw ,2)\n",
    "    prealong[3][i] = round( sigma_pw + progressivas[1][i] - alpha_p*prealong[2][i] ,2)\n",
    "    prealong[4][i] = round(prealong[3][i]/E_p,5)\n",
    "\n",
    "tabela7 = pd.DataFrame(prealong)\n",
    "tabela7 = tabela7.transpose()\n",
    "tabela7.rename(columns={0:'Np,F',1:'Mp,F',2:'Sigma,cpF', 3:'Sigma,PN',4:'e,pn'},inplace = True)\n",
    "display(tabela7)"
   ]
  },
  {
   "cell_type": "markdown",
   "id": "4d5136bb",
   "metadata": {},
   "source": [
    "## Armadura Passiva de Flexão:"
   ]
  },
  {
   "cell_type": "markdown",
   "id": "31b176c6",
   "metadata": {},
   "source": [
    "![formulario](img/formulario.png)"
   ]
  },
  {
   "cell_type": "code",
   "execution_count": 32,
   "id": "1f6b8e0e",
   "metadata": {},
   "outputs": [
    {
     "data": {
      "text/html": [
       "<div>\n",
       "<style scoped>\n",
       "    .dataframe tbody tr th:only-of-type {\n",
       "        vertical-align: middle;\n",
       "    }\n",
       "\n",
       "    .dataframe tbody tr th {\n",
       "        vertical-align: top;\n",
       "    }\n",
       "\n",
       "    .dataframe thead th {\n",
       "        text-align: right;\n",
       "    }\n",
       "</style>\n",
       "<table border=\"1\" class=\"dataframe\">\n",
       "  <thead>\n",
       "    <tr style=\"text-align: right;\">\n",
       "      <th></th>\n",
       "      <th>Md</th>\n",
       "      <th>x</th>\n",
       "      <th>x/d</th>\n",
       "      <th>eps,s</th>\n",
       "      <th>sigma,s</th>\n",
       "      <th>eps,p</th>\n",
       "      <th>sigma,p</th>\n",
       "      <th>As</th>\n",
       "    </tr>\n",
       "  </thead>\n",
       "  <tbody>\n",
       "    <tr>\n",
       "      <th>0</th>\n",
       "      <td>0.0</td>\n",
       "      <td>1.73</td>\n",
       "      <td>0.020</td>\n",
       "      <td>0.16836</td>\n",
       "      <td>43.48</td>\n",
       "      <td>0.15974</td>\n",
       "      <td>148.7</td>\n",
       "      <td>-27.02</td>\n",
       "    </tr>\n",
       "    <tr>\n",
       "      <th>1</th>\n",
       "      <td>26059.0</td>\n",
       "      <td>7.22</td>\n",
       "      <td>0.085</td>\n",
       "      <td>0.03769</td>\n",
       "      <td>43.48</td>\n",
       "      <td>0.03943</td>\n",
       "      <td>148.7</td>\n",
       "      <td>-19.66</td>\n",
       "    </tr>\n",
       "    <tr>\n",
       "      <th>2</th>\n",
       "      <td>48110.0</td>\n",
       "      <td>12.12</td>\n",
       "      <td>0.143</td>\n",
       "      <td>0.02105</td>\n",
       "      <td>43.48</td>\n",
       "      <td>0.02419</td>\n",
       "      <td>148.7</td>\n",
       "      <td>-13.10</td>\n",
       "    </tr>\n",
       "    <tr>\n",
       "      <th>3</th>\n",
       "      <td>66150.0</td>\n",
       "      <td>16.32</td>\n",
       "      <td>0.192</td>\n",
       "      <td>0.01473</td>\n",
       "      <td>43.48</td>\n",
       "      <td>0.01844</td>\n",
       "      <td>148.7</td>\n",
       "      <td>-7.47</td>\n",
       "    </tr>\n",
       "    <tr>\n",
       "      <th>4</th>\n",
       "      <td>80172.0</td>\n",
       "      <td>19.73</td>\n",
       "      <td>0.232</td>\n",
       "      <td>0.01158</td>\n",
       "      <td>43.48</td>\n",
       "      <td>0.01561</td>\n",
       "      <td>148.7</td>\n",
       "      <td>-2.89</td>\n",
       "    </tr>\n",
       "    <tr>\n",
       "      <th>5</th>\n",
       "      <td>90197.0</td>\n",
       "      <td>22.25</td>\n",
       "      <td>0.262</td>\n",
       "      <td>0.00987</td>\n",
       "      <td>43.48</td>\n",
       "      <td>0.01407</td>\n",
       "      <td>148.7</td>\n",
       "      <td>0.48</td>\n",
       "    </tr>\n",
       "    <tr>\n",
       "      <th>6</th>\n",
       "      <td>96211.0</td>\n",
       "      <td>23.80</td>\n",
       "      <td>0.280</td>\n",
       "      <td>0.00900</td>\n",
       "      <td>43.48</td>\n",
       "      <td>0.01329</td>\n",
       "      <td>148.7</td>\n",
       "      <td>2.56</td>\n",
       "    </tr>\n",
       "    <tr>\n",
       "      <th>7</th>\n",
       "      <td>98216.0</td>\n",
       "      <td>24.33</td>\n",
       "      <td>0.286</td>\n",
       "      <td>0.00873</td>\n",
       "      <td>43.48</td>\n",
       "      <td>0.01305</td>\n",
       "      <td>148.7</td>\n",
       "      <td>3.27</td>\n",
       "    </tr>\n",
       "    <tr>\n",
       "      <th>8</th>\n",
       "      <td>96211.0</td>\n",
       "      <td>23.80</td>\n",
       "      <td>0.280</td>\n",
       "      <td>0.00900</td>\n",
       "      <td>43.48</td>\n",
       "      <td>0.01329</td>\n",
       "      <td>148.7</td>\n",
       "      <td>2.56</td>\n",
       "    </tr>\n",
       "    <tr>\n",
       "      <th>9</th>\n",
       "      <td>90197.0</td>\n",
       "      <td>22.25</td>\n",
       "      <td>0.262</td>\n",
       "      <td>0.00987</td>\n",
       "      <td>43.48</td>\n",
       "      <td>0.01407</td>\n",
       "      <td>148.7</td>\n",
       "      <td>0.48</td>\n",
       "    </tr>\n",
       "    <tr>\n",
       "      <th>10</th>\n",
       "      <td>80172.0</td>\n",
       "      <td>19.73</td>\n",
       "      <td>0.232</td>\n",
       "      <td>0.01158</td>\n",
       "      <td>43.48</td>\n",
       "      <td>0.01561</td>\n",
       "      <td>148.7</td>\n",
       "      <td>-2.89</td>\n",
       "    </tr>\n",
       "    <tr>\n",
       "      <th>11</th>\n",
       "      <td>66150.0</td>\n",
       "      <td>16.32</td>\n",
       "      <td>0.192</td>\n",
       "      <td>0.01473</td>\n",
       "      <td>43.48</td>\n",
       "      <td>0.01844</td>\n",
       "      <td>148.7</td>\n",
       "      <td>-7.47</td>\n",
       "    </tr>\n",
       "    <tr>\n",
       "      <th>12</th>\n",
       "      <td>48110.0</td>\n",
       "      <td>12.12</td>\n",
       "      <td>0.143</td>\n",
       "      <td>0.02105</td>\n",
       "      <td>43.48</td>\n",
       "      <td>0.02419</td>\n",
       "      <td>148.7</td>\n",
       "      <td>-13.10</td>\n",
       "    </tr>\n",
       "    <tr>\n",
       "      <th>13</th>\n",
       "      <td>26059.0</td>\n",
       "      <td>7.22</td>\n",
       "      <td>0.085</td>\n",
       "      <td>0.03769</td>\n",
       "      <td>43.48</td>\n",
       "      <td>0.03943</td>\n",
       "      <td>148.7</td>\n",
       "      <td>-19.66</td>\n",
       "    </tr>\n",
       "    <tr>\n",
       "      <th>14</th>\n",
       "      <td>0.0</td>\n",
       "      <td>1.73</td>\n",
       "      <td>0.020</td>\n",
       "      <td>0.16836</td>\n",
       "      <td>43.48</td>\n",
       "      <td>0.15974</td>\n",
       "      <td>148.7</td>\n",
       "      <td>-27.02</td>\n",
       "    </tr>\n",
       "  </tbody>\n",
       "</table>\n",
       "</div>"
      ],
      "text/plain": [
       "         Md      x    x/d    eps,s  sigma,s    eps,p  sigma,p     As\n",
       "0       0.0   1.73  0.020  0.16836    43.48  0.15974    148.7 -27.02\n",
       "1   26059.0   7.22  0.085  0.03769    43.48  0.03943    148.7 -19.66\n",
       "2   48110.0  12.12  0.143  0.02105    43.48  0.02419    148.7 -13.10\n",
       "3   66150.0  16.32  0.192  0.01473    43.48  0.01844    148.7  -7.47\n",
       "4   80172.0  19.73  0.232  0.01158    43.48  0.01561    148.7  -2.89\n",
       "5   90197.0  22.25  0.262  0.00987    43.48  0.01407    148.7   0.48\n",
       "6   96211.0  23.80  0.280  0.00900    43.48  0.01329    148.7   2.56\n",
       "7   98216.0  24.33  0.286  0.00873    43.48  0.01305    148.7   3.27\n",
       "8   96211.0  23.80  0.280  0.00900    43.48  0.01329    148.7   2.56\n",
       "9   90197.0  22.25  0.262  0.00987    43.48  0.01407    148.7   0.48\n",
       "10  80172.0  19.73  0.232  0.01158    43.48  0.01561    148.7  -2.89\n",
       "11  66150.0  16.32  0.192  0.01473    43.48  0.01844    148.7  -7.47\n",
       "12  48110.0  12.12  0.143  0.02105    43.48  0.02419    148.7 -13.10\n",
       "13  26059.0   7.22  0.085  0.03769    43.48  0.03943    148.7 -19.66\n",
       "14      0.0   1.73  0.020  0.16836    43.48  0.15974    148.7 -27.02"
      ]
     },
     "metadata": {},
     "output_type": "display_data"
    }
   ],
   "source": [
    "d_p = [] # braço de alavanca da armadura ativa\n",
    "d_s = [] # braço de alavanca da armadura passiva\n",
    "\n",
    "for i in range(len(qntCordoalhas)):\n",
    "    d_p.append(e_p_i[i] + h/2)\n",
    "    d_s.append(h-5) # estimativa para ds\n",
    "    \n",
    "A_s = []\n",
    "for i in range(8):\n",
    "    A_s.append([0] * nS)\n",
    "    \n",
    "for i in range(nS):\n",
    "    for j in range(len(qntCordoalhas)-1,-1,-1):\n",
    "        if(relax[1][i] >= x1_anc[j] and relax[1][i] <= x2_anc[j]):\n",
    "            sigma_pm = sigma_p[j]\n",
    "            Npm = N_p[j]\n",
    "            Mpm = M_p[j]\n",
    "            Wcpm = W_cp[j]\n",
    "            A_pm = A_p[j]\n",
    "            d_sm = d_s[j]\n",
    "            d_pm = d_p[j]\n",
    "            break\n",
    "    Md = esforcos[1][i]*1.4\n",
    "    retorno = linha_neutra_cp_ret(b,h,f_c,A_pm,prealong[4][i],d_pm,d_sm,Md)\n",
    "    A_s[0][i] = int(Md)\n",
    "    A_s[1][i] = retorno[0]\n",
    "    A_s[2][i] = round(retorno[0]/d_sm,3)\n",
    "    A_s[3][i] = retorno[2]\n",
    "    A_s[5][i] = retorno[1]\n",
    "    A_s[4][i] = retorno[4]\n",
    "    A_s[6][i] = retorno[5]\n",
    "    A_s[7][i] = round((0.8*b*f_c*retorno[0]-retorno[3])/retorno[4],2)\n",
    "    \n",
    "\n",
    "tabela8 = pd.DataFrame(A_s)\n",
    "tabela8 = tabela8.transpose()\n",
    "tabela8.rename(columns={0:'Md', 1:'x',2:'x/d',3:'eps,s',4:'sigma,s',5:'eps,p',6:'sigma,p',7:'As'},inplace = True)\n",
    "display(tabela8)"
   ]
  },
  {
   "cell_type": "markdown",
   "id": "65c38f65",
   "metadata": {},
   "source": [
    "# Dimensionamento ao Esforço Cortante:\n",
    "\n",
    "## Verificação da Diagonal Comprimida:"
   ]
  },
  {
   "cell_type": "code",
   "execution_count": 33,
   "id": "ae08011f",
   "metadata": {},
   "outputs": [
    {
     "data": {
      "text/latex": [
       "\\[\n",
       "\\begin{aligned}\n",
       "V_{d} &= V_{F} \\cdot 1.4  = 142.881 \\cdot 1.4 &= 200.033  \n",
       "\\\\[10pt]\n",
       "\\tau_{wd} &= \\frac{ V_{d} }{ \\left( b - e_{eps} \\right) \\cdot d_{sm} }  = \\frac{ 200.033 }{ \\left( 30 - 12 \\right) \\cdot 85 } &= 0.131  \n",
       "\\\\[10pt]\n",
       "\\tau_{wu} &= 0.27 \\cdot \\left( 1 - \\frac{ f_{ck} }{ 25 } \\right) \\cdot \\frac{ f_{ck} }{ 1.4 }  = 0.27 \\cdot \\left( 1 - \\frac{ 4 }{ 25 } \\right) \\cdot \\frac{ 4 }{ 1.4 } &= 0.648  \n",
       "\\end{aligned}\n",
       "\\]"
      ],
      "text/plain": [
       "<IPython.core.display.Latex object>"
      ]
     },
     "metadata": {},
     "output_type": "display_data"
    }
   ],
   "source": [
    "%%render\n",
    "\n",
    "V_d = V_F * 1.4\n",
    "tau_wd = V_d/((b-e_eps)*d_sm)\n",
    "tau_wu = 0.27*(1-f_ck/25)*f_ck/1.4\n"
   ]
  },
  {
   "cell_type": "code",
   "execution_count": 34,
   "id": "4ef95e8c",
   "metadata": {},
   "outputs": [
    {
     "name": "stdout",
     "output_type": "stream",
     "text": [
      "OK!\n"
     ]
    }
   ],
   "source": [
    "if tau_wu > tau_wd:\n",
    "    print(\"OK!\")\n",
    "else:\n",
    "    print(\"NÃO OK!\")"
   ]
  },
  {
   "cell_type": "markdown",
   "id": "c19e4cee",
   "metadata": {},
   "source": [
    "## Cálculo da Armadura de Corte:\n",
    "\n",
    "### Armadura Mínima:"
   ]
  },
  {
   "cell_type": "code",
   "execution_count": 35,
   "id": "22d38c73",
   "metadata": {},
   "outputs": [
    {
     "data": {
      "text/latex": [
       "\\[\n",
       "\\begin{aligned}\n",
       "\\rho_{min} &= 0.2 \\cdot \\frac{ f_{ctm} }{ f_{yk} }  = 0.2 \\cdot \\frac{ 0.351 }{ 50 } &= 0.001  \n",
       "\\\\[10pt]\n",
       "A_{sws} &= \\rho_{min} \\cdot b  = 0.001 \\cdot 30 &= 0.042  \n",
       "\\\\[10pt]\n",
       "s &= 15 \\; \n",
       "\\\\[10pt]\n",
       "A_{sw_{min}} &= A_{sws} \\cdot s  = 0.042 \\cdot 15 &= 0.632  \n",
       "\\\\[10pt]\n",
       "\\mathrm{nr} &= 2 \\; \n",
       "\\\\[10pt]\n",
       "\\phi_{min} &= 2 \\cdot \\left( \\frac{ A_{sw_{min}} }{ \\pi \\cdot \\mathrm{nr} } \\right) ^{ 0.5 }  = 2 \\cdot \\left( \\frac{ 0.632 }{ 3.142 \\cdot 2 } \\right) ^{ 0.5 } &= 0.634  \n",
       "\\end{aligned}\n",
       "\\]"
      ],
      "text/plain": [
       "<IPython.core.display.Latex object>"
      ]
     },
     "metadata": {},
     "output_type": "display_data"
    }
   ],
   "source": [
    "%%render short\n",
    "\n",
    "rho_min = 0.2*f_ctm/f_yk\n",
    "A_sws = rho_min*b\n",
    "\n",
    "s = 15\n",
    "\n",
    "A_sw_min = A_sws*s\n",
    "\n",
    "nr = 2\n",
    "\n",
    "phi_min = 2*(A_sw_min/(pi*nr))**0.5\n"
   ]
  },
  {
   "cell_type": "markdown",
   "id": "d12af5a7",
   "metadata": {},
   "source": [
    "### Armadura Calculada:"
   ]
  },
  {
   "cell_type": "code",
   "execution_count": 36,
   "id": "6b0fc121",
   "metadata": {},
   "outputs": [],
   "source": [
    "i = int((nS+1)/2)\n",
    "M_pf = prealong[1][i]\n",
    "N_pf = prealong[0][i]"
   ]
  },
  {
   "cell_type": "code",
   "execution_count": 37,
   "id": "c82568dd",
   "metadata": {},
   "outputs": [
    {
     "data": {
      "text/latex": [
       "\\[\n",
       "\\begin{aligned}\n",
       "\\sigma_{ciF} &= \\frac{ N_{pf} }{ \\mathrm{Area} } + \\frac{ M_{pf} }{ W_{i} }  = \\frac{ -950.710 }{ 2220 } + \\frac{ -31690.000 }{ 39077.778 } &= -1.239  \n",
       "\\\\[10pt]\n",
       "M_{0} &= \\left( - \\sigma_{ciF} \\right) \\cdot W_{i}  = \\left( - -1.239 \\right) \\cdot 39077.778 &= 48424.970  \n",
       "\\\\[10pt]\n",
       "M_{d_{max}} &= 1.4 \\cdot M_{F}  = 1.4 \\cdot 70154.571 &= 98216.399  \n",
       "\\\\[10pt]\n",
       "V_{c0} &= 0.6 \\cdot f_{ctd} \\cdot b \\cdot d_{sm}  = 0.6 \\cdot 0.138 \\cdot 30 \\cdot 85 &= 211.619  \n",
       "\\\\[10pt]\n",
       "V_{c} &= \\left( 1 + \\frac{ M_{0} }{ M_{d_{max}} } \\right) \\cdot V_{c0}  = \\left( 1 + \\frac{ 48424.970 }{ 98216.399 } \\right) \\cdot 211.619 &= 315.956  \n",
       "\\\\[10pt]\n",
       "V_{sw} &= 1.4 \\cdot V_{F} - V_{c}  = 1.4 \\cdot 142.881 - 315.956 &= -115.923  \n",
       "\\\\[10pt]\n",
       "A_{sws} &= \\frac{ V_{sw} }{ 0.9 \\cdot d_{sm} \\cdot f_{yd} }  = \\frac{ -115.923 }{ 0.9 \\cdot 85 \\cdot 43.478 } &= -0.035  \n",
       "\\\\[10pt]\n",
       "s &= 20 \\; \n",
       "\\\\[10pt]\n",
       "\\mathrm{nr} &= 2 \\; \n",
       "\\\\[10pt]\n",
       "\\phi_{min} &= 2 \\cdot \\left( \\frac{ A_{sws} }{ \\pi \\cdot \\mathrm{nr} } \\right) ^{ 0.5 }  = 2 \\cdot \\left( \\frac{ -0.035 }{ 3.142 \\cdot 2 } \\right) ^{ 0.5 } &= nan  \n",
       "\\end{aligned}\n",
       "\\]"
      ],
      "text/plain": [
       "<IPython.core.display.Latex object>"
      ]
     },
     "metadata": {},
     "output_type": "display_data"
    }
   ],
   "source": [
    "%%render\n",
    "\n",
    "sigma_ciF = N_pf/Area + M_pf/W_i\n",
    "M_0 = -sigma_ciF*W_i\n",
    "M_d_max = 1.4*M_F\n",
    "\n",
    "V_c0 = 0.6*f_ctd*b*d_sm\n",
    "V_c = (1+M_0/M_d_max)*V_c0\n",
    "\n",
    "V_sw = 1.4*V_F - V_c\n",
    "\n",
    "A_sws = V_sw/(0.9*d_sm*f_yd)\n",
    "\n",
    "s = 20\n",
    "nr = 2\n",
    "phi_min = 2*(A_sws/(pi*nr))**0.5"
   ]
  },
  {
   "cell_type": "markdown",
   "id": "cb07b5ff",
   "metadata": {},
   "source": [
    "## Armadura de Introdução da Força de Protensão:"
   ]
  },
  {
   "cell_type": "code",
   "execution_count": 38,
   "id": "6fc6c7de",
   "metadata": {},
   "outputs": [],
   "source": [
    "# VERIFICAR SE ESTA É MESMO A FORÇA DE PROTENSÃO INSERIDA NO APOIO\n",
    "\n",
    "N_p1 = -N_p[0]"
   ]
  },
  {
   "cell_type": "code",
   "execution_count": 39,
   "id": "b7590313",
   "metadata": {},
   "outputs": [
    {
     "data": {
      "text/latex": [
       "\\[\n",
       "\\begin{aligned}\n",
       "A_{swi} &= \\frac{ 0.25 \\cdot N_{p1} }{ 25.00 }  = \\frac{ 0.25 \\cdot 1216.600 }{ 25.00 } &= 12.166  \n",
       "\\end{aligned}\n",
       "\\]"
      ],
      "text/plain": [
       "<IPython.core.display.Latex object>"
      ]
     },
     "metadata": {},
     "output_type": "display_data"
    }
   ],
   "source": [
    "%%render\n",
    "\n",
    "A_swi = (0.25*N_p1)/25.00"
   ]
  },
  {
   "cell_type": "markdown",
   "id": "fd785673",
   "metadata": {},
   "source": [
    "Esta armadura deve ser distribuída num trecho equivalente à 70% do comprimento de regularização."
   ]
  },
  {
   "cell_type": "code",
   "execution_count": 40,
   "id": "f6602312",
   "metadata": {
    "scrolled": true
   },
   "outputs": [
    {
     "data": {
      "text/latex": [
       "\\[\n",
       "\\begin{aligned}\n",
       "l_{d} &= l_{p} \\cdot 0.7  = 121.217 \\cdot 0.7 &= 84.852  \n",
       "\\end{aligned}\n",
       "\\]"
      ],
      "text/plain": [
       "<IPython.core.display.Latex object>"
      ]
     },
     "metadata": {},
     "output_type": "display_data"
    }
   ],
   "source": [
    "%%render\n",
    "\n",
    "l_d = l_p*0.7"
   ]
  },
  {
   "cell_type": "markdown",
   "id": "38071ce5",
   "metadata": {},
   "source": [
    "# Cálculo da Flecha Elástica:\n",
    "\n",
    "**Flecha devida à protensão:**\n",
    "\n",
    "Ap = área de aço de protensão\n",
    "\n",
    "b = ponto de início da atuação da força\n",
    "\n",
    "Delta = flecha causada por cada conjunto de cordoalhas"
   ]
  },
  {
   "cell_type": "code",
   "execution_count": 41,
   "id": "d8fcf512",
   "metadata": {},
   "outputs": [
    {
     "data": {
      "text/html": [
       "<div>\n",
       "<style scoped>\n",
       "    .dataframe tbody tr th:only-of-type {\n",
       "        vertical-align: middle;\n",
       "    }\n",
       "\n",
       "    .dataframe tbody tr th {\n",
       "        vertical-align: top;\n",
       "    }\n",
       "\n",
       "    .dataframe thead th {\n",
       "        text-align: right;\n",
       "    }\n",
       "</style>\n",
       "<table border=\"1\" class=\"dataframe\">\n",
       "  <thead>\n",
       "    <tr style=\"text-align: right;\">\n",
       "      <th></th>\n",
       "      <th>Ap</th>\n",
       "      <th>b</th>\n",
       "      <th>Delta</th>\n",
       "    </tr>\n",
       "  </thead>\n",
       "  <tbody>\n",
       "    <tr>\n",
       "      <th>0</th>\n",
       "      <td>5.72</td>\n",
       "      <td>0</td>\n",
       "      <td>-2.49</td>\n",
       "    </tr>\n",
       "    <tr>\n",
       "      <th>1</th>\n",
       "      <td>2.86</td>\n",
       "      <td>0</td>\n",
       "      <td>-1.00</td>\n",
       "    </tr>\n",
       "  </tbody>\n",
       "</table>\n",
       "</div>"
      ],
      "text/plain": [
       "     Ap  b  Delta\n",
       "0  5.72  0  -2.49\n",
       "1  2.86  0  -1.00"
      ]
     },
     "metadata": {},
     "output_type": "display_data"
    }
   ],
   "source": [
    "\n",
    "delta_p = []\n",
    "\n",
    "delta_pF = 0\n",
    "\n",
    "for i in range(len(qntCordoalhas)):\n",
    "    delta_p.append([0] * 3)\n",
    "    delta_p[i][0] = A_p[i]\n",
    "    delta_p[i][1] = x1_anc[i]\n",
    "    \n",
    "    if(i != 0):\n",
    "        delta_p[i][0] = delta_p[i][0] - delta_p[i-1][0]\n",
    "        Momen = M_p[i] - M_p[i-1]\n",
    "    else:\n",
    "        Momen = M_p[i]\n",
    "    \n",
    "    if(delta_p[i][1] == 0):\n",
    "        delta_p[i][2] = round(Momen*Vao**2/(8*E_cs*Inercia),2)\n",
    "    else:\n",
    "        delta_p[i][1] = (x1_anc[i]+x1[i])/2\n",
    "        delta_p[i][2] = round( (Momen*(Vao**2-3*delta_p[i][1]**2-(Vao/2)**2)*(Vao/2))\n",
    "                             /(6*E_cs*Inercia*Vao) ,2)\n",
    "        \n",
    "for i in range(len(qntCordoalhas)):\n",
    "    delta_pF += delta_p[i][2]\n",
    "    \n",
    "tabela9 = pd.DataFrame(delta_p)\n",
    "tabela9.rename(columns={0:'Ap',1:'b',2:'Delta'},inplace = True)\n",
    "\n",
    "display(tabela9)\n",
    "\n",
    "if (delta_p[0][0]) < 0:\n",
    "    raise Exception(\"ERRO\")"
   ]
  },
  {
   "cell_type": "code",
   "execution_count": 42,
   "id": "c1cb52f5",
   "metadata": {
    "scrolled": true
   },
   "outputs": [
    {
     "data": {
      "text/latex": [
       "\\[\n",
       "\\begin{aligned}\n",
       "\\delta_{pF} &= -3.490 \\; \n",
       "\\\\[10pt]\n",
       "\\mathrm{limite} &= \\frac{ \\mathrm{Vao} }{ 250 }  = \\frac{ 1964 }{ 250 } &= 7.856  \n",
       "\\\\[10pt]\n",
       "\\delta_{i} &= \\frac{ 5 }{ 384 } \\cdot \\frac{ Q_{tF} \\cdot \\left( \\mathrm{Vao} \\right) ^{ 4 } }{ \\mathrm{Inercia} \\cdot E_{cs} }  = \\frac{ 5 }{ 384 } \\cdot \\frac{ 0.145 \\cdot \\left( 1964 \\right) ^{ 4 } }{ 1758500.000 \\cdot 3187.576 } &= 5.029  \n",
       "\\\\[10pt]\n",
       "\\delta_{0} &= \\frac{ 5 }{ 384 } \\cdot \\frac{ Q_{t0} \\cdot \\left( \\mathrm{Vao} \\right) ^{ 4 } }{ \\mathrm{Inercia} \\cdot E_{cs} }  = \\frac{ 5 }{ 384 } \\cdot \\frac{ 0.056 \\cdot \\left( 1964 \\right) ^{ 4 } }{ 1758500.000 \\cdot 3187.576 } &= 1.918  \n",
       "\\\\[10pt]\n",
       "\\delta_{ti} &= \\delta_{pF} + \\delta_{i}  = -3.490 + 5.029 &= 1.539  \n",
       "\\\\[10pt]\n",
       "\\delta_{t0} &= \\delta_{pF} + \\delta_{0}  = -3.490 + 1.918 &= -1.572  \n",
       "\\\\[10pt]\n",
       "\\delta_{tF} &= 2.5 \\cdot \\delta_{ti}  = 2.5 \\cdot 1.539 &= 3.847  \n",
       "\\end{aligned}\n",
       "\\]"
      ],
      "text/plain": [
       "<IPython.core.display.Latex object>"
      ]
     },
     "metadata": {},
     "output_type": "display_data"
    }
   ],
   "source": [
    "%%render\n",
    "delta_pF\n",
    "\n",
    "limite = Vao/250\n",
    "\n",
    "delta_i = 5/384 * (Q_tF*Vao**4)/(Inercia*E_cs)\n",
    "\n",
    "delta_0 = 5/384 * (Q_t0*Vao**4)/(Inercia*E_cs)\n",
    "\n",
    "delta_ti = delta_pF + delta_i\n",
    "\n",
    "delta_t0 = delta_pF + delta_0\n",
    "\n",
    "delta_tF = 2.5*delta_ti"
   ]
  }
 ],
 "metadata": {
  "kernelspec": {
   "display_name": "Python 3 (ipykernel)",
   "language": "python",
   "name": "python3"
  },
  "language_info": {
   "codemirror_mode": {
    "name": "ipython",
    "version": 3
   },
   "file_extension": ".py",
   "mimetype": "text/x-python",
   "name": "python",
   "nbconvert_exporter": "python",
   "pygments_lexer": "ipython3",
   "version": "3.9.12"
  }
 },
 "nbformat": 4,
 "nbformat_minor": 5
}
