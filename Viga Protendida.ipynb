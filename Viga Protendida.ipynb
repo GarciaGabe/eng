{
 "cells": [
  {
   "cell_type": "markdown",
   "id": "b6224006",
   "metadata": {},
   "source": [
<<<<<<< HEAD
    "# CÁLCULO DE VIGA PROTENDIDA - VP01\n",
    "\n",
    "**OBRA:** Carnetti Open Mall\n",
    "\n",
    "**Cliente:** JD Construções e Pré-Fabricados\n",
    "\n",
    "**Data:** 23/02/2022\n",
    "\n",
    "**Cálculo:** Gabriel\n",
    "\n",
    "\n",
=======
    "# PROGRAMA DE VIGA PROTENDIDA\n",
    "\n",
    "Algorítmo para cálculo de uma viga protendida. \\n\n",
>>>>>>> 9354f0348eb8129900b42d484c71e14772e086bb
    "Todas as grandezas apresentadas possuem como unidades base kN [força] e cm [comprimento]."
   ]
  },
  {
   "cell_type": "code",
<<<<<<< HEAD
   "execution_count": 59,
=======
   "execution_count": 46,
>>>>>>> 9354f0348eb8129900b42d484c71e14772e086bb
   "id": "36ead105",
   "metadata": {},
   "outputs": [],
   "source": [
    "import handcalcs.render\n",
    "import pandas as pd\n",
    "from math import floor,ceil,sqrt,exp\n",
    "from numpy import log\n",
    "\n",
    "def calcpsi(tensao):\n",
    "    if (tensao <= 0.5):\n",
    "        return 0\n",
    "    elif (tensao <= 0.6):\n",
    "        extra = tensao - 0.5\n",
    "        adicional = 13*extra\n",
    "        return (0+adicional)/100\n",
    "    elif (tensao <= 0.7):\n",
    "        extra = tensao - 0.6\n",
    "        adicional = 12*extra\n",
    "        return (1.3+adicional)/100\n",
    "    else:\n",
    "        extra = tensao - 0.7\n",
    "        adicional = 10*extra\n",
    "        return (2.5+adicional)/100"
   ]
  },
  {
   "cell_type": "markdown",
   "id": "0827d7c6",
   "metadata": {},
   "source": [
    "## 1 - Informações Iniciais:\n",
    "\n",
    "### 1.1 - Geometria da Viga:"
   ]
  },
  {
   "cell_type": "code",
   "execution_count": 2,
   "id": "9ae2ffd6",
   "metadata": {},
   "outputs": [
    {
     "data": {
      "text/latex": [
       "\\[\n",
       "\\begin{aligned}\n",
       "h &= 110 \\; \n",
       "\\\\[10pt]\n",
       "b &= 40 \\; \n",
       "\\\\[10pt]\n",
       "\\mathrm{Area} &= 4400 \\; \n",
       "\\\\[10pt]\n",
       "\\mathrm{Inercia} &= 4436667 \\; \n",
       "\\\\[10pt]\n",
       "W_{i} &= 80667 \\; \n",
       "\\\\[10pt]\n",
       "W_{s} &= 80667 \\; \n",
       "\\\\[10pt]\n",
       "e_{p} &= 41 \\; \n",
       "\\\\[10pt]\n",
       "\\mathrm{Vao} &= 1500 \\; \n",
       "\\end{aligned}\n",
       "\\]"
      ],
      "text/plain": [
       "<IPython.core.display.Latex object>"
      ]
     },
     "metadata": {},
     "output_type": "display_data"
    }
   ],
   "source": [
    "%%render\n",
    "# Geometria da Viga:\n",
    "\n",
    "h = 110\n",
    "b = 40\n",
    "Area = 4400\n",
    "Inercia = 4436667\n",
    "W_i = 80667\n",
    "W_s = 80667\n",
    "e_p = 41\n",
    "Vao = 1500"
   ]
  },
  {
   "cell_type": "markdown",
   "id": "14134ea3",
   "metadata": {},
   "source": [
    "### 1.2 - Propriedades dos Materiais:"
   ]
  },
  {
   "cell_type": "code",
   "execution_count": 44,
   "id": "a7d62aa8",
   "metadata": {},
   "outputs": [
    {
     "data": {
      "text/latex": [
       "\\[\n",
       "\\begin{aligned}\n",
       "f_{ck} &= 4 \\; \n",
       "\\\\[10pt]\n",
       "f_{ptk} &= 190 \\; \n",
       "\\\\[10pt]\n",
       "f_{yk} &= 50 \\; \n",
       "\\\\[10pt]\n",
<<<<<<< HEAD
       "f_{cj} &= 2.8 \\; \n",
=======
       "f_{cj} &= 3.2 \\; \n",
>>>>>>> 9354f0348eb8129900b42d484c71e14772e086bb
       "\\\\[10pt]\n",
       "E_{s} &= 21000 \\; \n",
       "\\\\[10pt]\n",
       "E_{p} &= 20000 \\; \n",
       "\\end{aligned}\n",
       "\\]"
      ],
      "text/plain": [
       "<IPython.core.display.Latex object>"
      ]
     },
     "metadata": {},
     "output_type": "display_data"
    }
   ],
   "source": [
    "%%render\n",
    "# Propriedades dos Materiais:\n",
    "\n",
    "# Concreto:\n",
    "f_ck = 4\n",
    "f_ptk = 190\n",
    "f_yk = 50\n",
    "f_cj = 2.8\n",
    "\n",
    "E_s = 21000\n",
    "E_p = 20000"
   ]
  },
  {
   "cell_type": "code",
   "execution_count": 4,
   "id": "3fecd76f",
   "metadata": {},
   "outputs": [
    {
     "data": {
      "text/latex": [
       "\\[\n",
       "\\begin{aligned}\n",
       "E_{ci} &= 560 \\cdot \\left( f_{ck} \\cdot 10 \\right) ^{ \\left( \\frac{ 1 }{ 2 } \\right) }  = 560 \\cdot \\left( 4 \\cdot 10 \\right) ^{ \\left( \\frac{ 1 }{ 2 } \\right) } &= 3541.75  \n",
       "\\\\[10pt]\n",
       "E_{cs} &= E_{ci} \\cdot \\left( 0.8 + 0.2 \\cdot \\frac{ f_{ck} }{ 8 } \\right)  = 3541.75 \\cdot \\left( 0.8 + 0.2 \\cdot \\frac{ 4 }{ 8 } \\right) &= 3187.58  \n",
       "\\\\[10pt]\n",
       "E_{cit0} &= \\left( \\frac{ f_{cj} }{ f_{ck} } \\right) ^{ \\left( \\frac{ 1 }{ 2 } \\right) } \\cdot E_{ci}  = \\left( \\frac{ 2.8 }{ 4 } \\right) ^{ \\left( \\frac{ 1 }{ 2 } \\right) } \\cdot 3541.75 &= 2963.24  \n",
       "\\\\[10pt]\n",
       "E_{cst0} &= E_{cit0} \\cdot \\left( 0.8 + 0.2 \\cdot \\frac{ f_{cj} }{ 8 } \\right)  = 2963.24 \\cdot \\left( 0.8 + 0.2 \\cdot \\frac{ 2.8 }{ 8 } \\right) &= 2578.02  \n",
       "\\\\[10pt]\n",
       "f_{yd} &= \\frac{ f_{yk} }{ 1.15 }  = \\frac{ 50 }{ 1.15 } &= 43.48  \n",
       "\\\\[10pt]\n",
       "\\sigma_{p0} &= 0.8 \\cdot f_{ptk}  = 0.8 \\cdot 190 &= 152.0  \n",
       "\\end{aligned}\n",
       "\\]"
      ],
      "text/plain": [
       "<IPython.core.display.Latex object>"
      ]
     },
     "metadata": {},
     "output_type": "display_data"
    }
   ],
   "source": [
    "%%render 2 short\n",
    "\n",
    "E_ci = 560*(f_ck*10)**(1/2)\n",
    "E_cs = E_ci*(0.8+0.2*f_ck/8)\n",
    "\n",
    "E_cit0 = (f_cj/f_ck)**(1/2)*E_ci\n",
    "E_cst0 = E_cit0*(0.8+0.2*f_cj/8)\n",
    "\n",
    "f_yd = f_yk/1.15\n",
    "sigma_p0 = 0.8*f_ptk"
   ]
  },
  {
   "cell_type": "markdown",
   "id": "3d992512",
   "metadata": {},
   "source": [
    "### 1.3 - Carregamentos:"
   ]
  },
  {
   "cell_type": "code",
   "execution_count": 5,
   "id": "d578be19",
   "metadata": {},
   "outputs": [
    {
     "data": {
      "text/latex": [
       "\\[\n",
       "\\begin{aligned}\n",
       "Q_{t0} &= 0.000025 \\cdot \\mathrm{Area}  = 0.000025 \\cdot 4400 &= 0.11  \n",
       "\\\\[10pt]\n",
       "Q_{tF} &= 0.11 \\; \n",
       "\\end{aligned}\n",
       "\\]"
      ],
      "text/plain": [
       "<IPython.core.display.Latex object>"
      ]
     },
     "metadata": {},
     "output_type": "display_data"
    }
   ],
   "source": [
    "%%render 2 short\n",
    "\n",
    "#PESO PRÓPRIO DA VIGA:\n",
    "\n",
    "Q_t0 = 0.000025*Area\n",
    "Q_tF = Q_t0\n",
    "\n"
   ]
  },
  {
   "cell_type": "markdown",
   "id": "c82c1fa3",
   "metadata": {},
   "source": [
    "### 1.4 - Esforços no Centro do Vão:"
   ]
  },
  {
   "cell_type": "code",
   "execution_count": 6,
   "id": "21d314b4",
   "metadata": {},
   "outputs": [
    {
     "data": {
      "text/latex": [
       "\\[\n",
       "\\begin{aligned}\n",
       "M_{F} &= Q_{tF} \\cdot \\left( \\mathrm{Vao} \\right) ^{ 2 } \\cdot 0.125  = 0.11 \\cdot \\left( 1500 \\right) ^{ 2 } \\cdot 0.125 &= 30937.5  \n",
       "\\\\[10pt]\n",
       "M_{0} &= Q_{t0} \\cdot \\left( \\mathrm{Vao} \\right) ^{ 2 } \\cdot 0.125  = 0.11 \\cdot \\left( 1500 \\right) ^{ 2 } \\cdot 0.125 &= 30937.5  \n",
       "\\\\[10pt]\n",
       "V_{F} &= Q_{tF} \\cdot \\frac{ \\mathrm{Vao} }{ 2 }  = 0.11 \\cdot \\frac{ 1500 }{ 2 } &= 82.5  \n",
       "\\end{aligned}\n",
       "\\]"
      ],
      "text/plain": [
       "<IPython.core.display.Latex object>"
      ]
     },
     "metadata": {},
     "output_type": "display_data"
    }
   ],
   "source": [
    "%%render 2 short\n",
    "M_F = (Q_tF)*Vao**2*0.125\n",
    "M_0 = (Q_t0)*Vao**2*0.125\n",
    "V_F = (Q_tF)*Vao/2"
   ]
  },
  {
   "cell_type": "markdown",
   "id": "9b0ada7b",
   "metadata": {},
   "source": [
    "## 2 - Deteminação da Força de Protensão:\n",
    "\n",
    "### 2.1 - Limites de Tensão:"
   ]
  },
  {
   "cell_type": "code",
   "execution_count": 7,
   "id": "9b94d2e4",
   "metadata": {
    "scrolled": true
   },
   "outputs": [
    {
     "data": {
      "text/latex": [
       "\\[\n",
       "\\begin{aligned}\n",
       "\\sigma_{ct0} &= \\left( - 1.2 \\right) \\cdot 0.03 \\cdot \\left( f_{cj} \\cdot 10 \\right) ^{ \\left( \\frac{ 2 }{ 3 } \\right) }  = \\left( - 1.2 \\right) \\cdot 0.03 \\cdot \\left( 2.8 \\cdot 10 \\right) ^{ \\left( \\frac{ 2 }{ 3 } \\right) } &= -0.332  \n",
       "\\\\[10pt]\n",
       "\\sigma_{cc0} &= 0.7 \\cdot f_{cj}  = 0.7 \\cdot 2.8 &= 1.96  \n",
       "\\\\[10pt]\n",
       "\\sigma_{ctF} &= \\left( - 1.2 \\right) \\cdot 0.03 \\cdot \\left( f_{ck} \\cdot 10 \\right) ^{ \\left( \\frac{ 2 }{ 3 } \\right) }  = \\left( - 1.2 \\right) \\cdot 0.03 \\cdot \\left( 4 \\cdot 10 \\right) ^{ \\left( \\frac{ 2 }{ 3 } \\right) } &= -4.211 \\times 10 ^ {-1 }  \n",
       "\\\\[10pt]\n",
       "\\sigma_{ccF} &= 0.5 \\cdot f_{ck}  = 0.5 \\cdot 4 &= 2.0  \n",
       "\\\\[10pt]\n",
       "r_{0} &= 0.95 \\; \n",
       "\\\\[10pt]\n",
       "r_{F} &= 0.8 \\; \n",
       "\\end{aligned}\n",
       "\\]"
      ],
      "text/plain": [
       "<IPython.core.display.Latex object>"
      ]
     },
     "metadata": {},
     "output_type": "display_data"
    }
   ],
   "source": [
    "%%render short\n",
    "\n",
    "sigma_ct0 = -1.2*0.03*(f_cj*10)**(2/3)\n",
    "sigma_cc0 = 0.7*f_cj\n",
    "sigma_ctF = -1.2*0.03*(f_ck*10)**(2/3)\n",
    "sigma_ccF = 0.5*f_ck\n",
    "\n",
    "r_0 = 0.95\n",
    "r_F = 0.80"
   ]
  },
  {
   "cell_type": "markdown",
   "id": "01901b13",
   "metadata": {},
   "source": [
    "### 2.2 - Cálculo da Força de Protensão:"
   ]
  },
  {
   "cell_type": "code",
   "execution_count": 8,
   "id": "654ce266",
   "metadata": {},
   "outputs": [
    {
     "data": {
      "text/latex": [
       "\\[\n",
       "\\begin{aligned}\n",
       "P_{1} &= \\frac{ \\sigma_{cc0} + \\frac{ M_{0} }{ W_{i} } }{ r_{0} \\cdot \\left( \\frac{ 1 }{ \\mathrm{Area} } + \\frac{ e_{p} }{ W_{i} } \\right) }  = \\frac{ 1.96 + \\frac{ 30937.5 }{ 80667 } }{ 0.95 \\cdot \\left( \\frac{ 1 }{ 4400 } + \\frac{ 41 }{ 80667 } \\right) } &= 3353.84  \n",
       "\\\\[10pt]\n",
       "P_{2} &= \\frac{ \\sigma_{ct0} - \\frac{ M_{0} }{ W_{s} } }{ r_{0} \\cdot \\left( \\frac{ 1 }{ \\mathrm{Area} } - \\frac{ e_{p} }{ W_{s} } \\right) }  = \\frac{ -3.32 \\times 10 ^ {-1 } - \\frac{ 30937.5 }{ 80667 } }{ 0.95 \\cdot \\left( \\frac{ 1 }{ 4400 } - \\frac{ 41 }{ 80667 } \\right) } &= 2680.27  \n",
       "\\\\[10pt]\n",
       "P_{3} &= \\frac{ \\sigma_{ctF} + \\frac{ M_{F} }{ W_{i} } }{ r_{F} \\cdot \\left( \\frac{ 1 }{ \\mathrm{Area} } + \\frac{ e_{p} }{ W_{i} } \\right) }  = \\frac{ -4.21 \\times 10 ^ {-1 } + \\frac{ 30937.5 }{ 80667 } }{ 0.8 \\cdot \\left( \\frac{ 1 }{ 4400 } + \\frac{ 41 }{ 80667 } \\right) } &= -63.79  \n",
       "\\\\[10pt]\n",
       "P_{4} &= \\frac{ \\sigma_{ccF} - \\frac{ M_{F} }{ W_{s} } }{ r_{F} \\cdot \\left( \\frac{ 1 }{ \\mathrm{Area} } - \\frac{ e_{p} }{ W_{s} } \\right) }  = \\frac{ 2.0 - \\frac{ 30937.5 }{ 80667 } }{ 0.8 \\cdot \\left( \\frac{ 1 }{ 4400 } - \\frac{ 41 }{ 80667 } \\right) } &= -7191.01  \n",
       "\\\\[10pt]\n",
       "& \\textrm{Adotar valores entre:}\\\\[10pt]\n",
       "P_{min} &= \\operatorname{max} { \\left( P_{3} ,\\  P_{4} \\right) }  = \\operatorname{max} { \\left( -63.79 ,\\  -7191.01 \\right) } &= -63.79  \n",
       "\\\\[10pt]\n",
       "P_{max} &= \\operatorname{min} { \\left( P_{1} ,\\  P_{2} \\right) }  = \\operatorname{min} { \\left( 3353.84 ,\\  2680.27 \\right) } &= 2680.27  \n",
       "\\end{aligned}\n",
       "\\]"
      ],
      "text/plain": [
       "<IPython.core.display.Latex object>"
      ]
     },
     "metadata": {},
     "output_type": "display_data"
    }
   ],
   "source": [
    "%%render short 2\n",
    "\n",
    "P_1 = (sigma_cc0+M_0/W_i)/(r_0*(1/Area + e_p/W_i)) \n",
    "P_2 = (sigma_ct0-M_0/W_s)/(r_0*(1/Area - e_p/W_s)) \n",
    "P_3 = (sigma_ctF+M_F/W_i)/(r_F*(1/Area + e_p/W_i))\n",
    "P_4 = (sigma_ccF-M_F/W_s)/(r_F*(1/Area - e_p/W_s))\n",
    "\n",
    "\n",
    "##Adotar valores entre:\n",
    "P_min = max(P_3, P_4)\n",
    "P_max = min(P_1, P_2)\n"
   ]
  },
  {
   "cell_type": "markdown",
   "id": "f125dec8",
   "metadata": {},
   "source": [
    "## 2.3 - Escolha da Protensão:"
   ]
  },
  {
   "cell_type": "code",
   "execution_count": 9,
   "id": "1643d970",
   "metadata": {},
   "outputs": [
    {
     "data": {
      "text/latex": [
       "\\[\n",
       "\\begin{aligned}\n",
       "P &= 2680 \\; \n",
       "\\\\[10pt]\n",
       "\\phi_{1} &= 1.52 \\; \n",
       "\\\\[10pt]\n",
       "A_{p1} &= 1.4 \\; \n",
       "\\\\[10pt]\n",
       "& \\textrm{ Número de cordoalhas para adotar:}\\\\[10pt]\n",
       "n &= \\left \\lfloor \\frac{ P }{ A_{p1} \\cdot \\sigma_{p0} } \\right \\rfloor  = \\left \\lfloor \\frac{ 2680 }{ 1.4 \\cdot 152.0 } \\right \\rfloor &= 12  \n",
       "\\end{aligned}\n",
       "\\]"
      ],
      "text/plain": [
       "<IPython.core.display.Latex object>"
      ]
     },
     "metadata": {},
     "output_type": "display_data"
    }
   ],
   "source": [
    "%%render short\n",
    "# Força de Protensão Adotada:\n",
    "\n",
    "P = 2680\n",
    "phi_1 = 1.52\n",
    "A_p1 = 1.40\n",
    "\n",
    "## Número de cordoalhas para adotar:\n",
    "n = floor(P/(A_p1*sigma_p0))"
   ]
  },
  {
   "cell_type": "markdown",
   "id": "08fc61b2",
   "metadata": {},
   "source": [
<<<<<<< HEAD
    "## 2.4 - Ancoragem das Cordoalhas:\n",
=======
    "## 2.4 - Protensão no Apoio:\n",
>>>>>>> 9354f0348eb8129900b42d484c71e14772e086bb
    "\n",
    "### 2.4.1 - Comprimento de Ancoragem Básico:"
   ]
  },
  {
   "cell_type": "code",
<<<<<<< HEAD
   "execution_count": 10,
=======
   "execution_count": 59,
>>>>>>> 9354f0348eb8129900b42d484c71e14772e086bb
   "id": "20d2c7ff",
   "metadata": {},
   "outputs": [
    {
     "data": {
      "text/latex": [
       "\\[\n",
       "\\begin{aligned}\n",
       "f_{pyd} &= 0.9 \\cdot \\frac{ f_{ptk} }{ 1.15 }  = 0.9 \\cdot \\frac{ 190 }{ 1.15 } &= 148.696  \n",
       "\\\\[10pt]\n",
       "\\eta_{p1} &= 1.2 \\; \n",
       "\\\\[10pt]\n",
       "\\eta_{p2} &= 1.0 \\; \n",
       "\\\\[10pt]\n",
<<<<<<< HEAD
       "f_{ctd} &= \\frac{ 0.7 \\cdot 0.03 \\cdot \\left( f_{cj} \\cdot 10 \\right) ^{ \\left( \\frac{ 2 }{ 3 } \\right) } }{ 1.4 }  = \\frac{ 0.7 \\cdot 0.03 \\cdot \\left( 2.8 \\cdot 10 \\right) ^{ \\left( \\frac{ 2 }{ 3 } \\right) } }{ 1.4 } &= 1.383 \\times 10 ^ {-1 }  \n",
       "\\\\[10pt]\n",
       "f_{bpd} &= \\eta_{p1} \\cdot \\eta_{p2} \\cdot f_{ctd}  = 1.2 \\cdot 1.0 \\cdot 1.383 \\times 10 ^ {-1 } &= 0.166  \n",
       "\\\\[10pt]\n",
       "l_{bp} &= \\frac{ 7 \\cdot \\phi_{1} }{ 36 } \\cdot \\frac{ f_{pyd} }{ f_{bpd} }  = \\frac{ 7 \\cdot 1.52 }{ 36 } \\cdot \\frac{ 148.696 }{ 0.166 } &= 264.785  \n",
       "\\end{aligned}\n",
       "\\]"
      ],
      "text/plain": [
       "<IPython.core.display.Latex object>"
      ]
     },
     "metadata": {},
     "output_type": "display_data"
    }
   ],
   "source": [
    "%%render short\n",
    "f_pyd = 0.9* f_ptk / 1.15\n",
    "\n",
    "eta_p1 = 1.2\n",
    "\n",
    "# Valores de Eta_p1:\n",
    "#     \n",
    "#     1.0 para fios lisos\n",
    "#     1.2 para cordoalhas de 3 e 7 fios\n",
    "#     1.5 para fios dentados\n",
    "\n",
    "eta_p2 = 1.0\n",
    "\n",
    "# Valores de Eta_p2:\n",
    "#     \n",
    "#     1.0 para situação de boa aderência\n",
    "#     0.7 para situação de má aderência\n",
    "\n",
    "f_ctd = (0.7*0.03*(f_cj*10)**(2/3))/1.4\n",
    "f_bpd = eta_p1 * eta_p2 * f_ctd\n",
    "\n",
    "l_bp = (7*phi_1)/36 * f_pyd/f_bpd"
   ]
  },
  {
   "cell_type": "markdown",
   "id": "a58b5804",
   "metadata": {},
   "source": [
    "### 2.4.2 - Cálculo do comprimento de Transferência:"
   ]
  },
  {
   "cell_type": "code",
   "execution_count": 11,
   "id": "d61ba68b",
   "metadata": {},
   "outputs": [
    {
     "data": {
      "text/latex": [
       "\\[\n",
       "\\begin{aligned}\n",
       "& \\textrm{ para fios lisos ou dentados:}\\\\[10pt]\n",
       "l_{bpt1} &= 0.7 \\cdot l_{bp} \\cdot \\frac{ \\sigma_{p0} }{ f_{pyd} }  = 0.7 \\cdot 264.785 \\cdot \\frac{ 152.0 }{ 148.696 } &= 189.468  \n",
       "\\\\[10pt]\n",
       "& \\textrm{ para cordoalhas de 3 e 7 fios:}\\\\[10pt]\n",
       "l_{bpt2} &= 0.5 \\cdot l_{bp} \\cdot \\frac{ \\sigma_{p0} }{ f_{pyd} }  = 0.5 \\cdot 264.785 \\cdot \\frac{ 152.0 }{ 148.696 } &= 135.334  \n",
       "\\\\[10pt]\n",
       "& \\textrm{ para transferência não gradual, os valores devem ser multiplicados por 1.25}\\\\[10pt]\n",
       "& \\textrm{ valor adotado:}\\\\[10pt]\n",
       "l_{bpt} &= 1.25 \\cdot l_{bpt2}  = 1.25 \\cdot 135.334 &= 169.168  \n",
       "\\\\[10pt]\n",
       "l_{p} &= \\left( \\left( h \\right) ^{ 2 } + \\left( 0.6 \\cdot l_{bpt} \\right) ^{ 2 } \\right) ^{ 0.5 }  = \\left( \\left( 110 \\right) ^{ 2 } + \\left( 0.6 \\cdot 169.168 \\right) ^{ 2 } \\right) ^{ 0.5 } &= 149.674  \n",
       "\\end{aligned}\n",
       "\\]"
      ],
      "text/plain": [
       "<IPython.core.display.Latex object>"
      ]
     },
     "metadata": {},
     "output_type": "display_data"
    }
   ],
   "source": [
    "%%render short\n",
    "\n",
    "## para fios lisos ou dentados:\n",
    "l_bpt1 = 0.7 * l_bp * sigma_p0/f_pyd\n",
    "\n",
    "## para cordoalhas de 3 e 7 fios:\n",
    "l_bpt2 = 0.5 * l_bp * sigma_p0/f_pyd\n",
    "\n",
    "## para transferência não gradual, os valores devem ser multiplicados por 1.25\n",
    "## valor adotado:\n",
    "\n",
    "l_bpt = 1.25 * l_bpt2\n",
    "\n",
    "l_p = (h**2 + (0.6*l_bpt)**2)**(0.5)\n"
   ]
  },
  {
   "cell_type": "markdown",
   "id": "9db35554",
   "metadata": {},
   "source": [
    "#  3 - Esforços nas Seções:\n",
    "\n",
    "## 3.1 - Momento Fletor e Cortante:"
   ]
  },
  {
   "cell_type": "code",
   "execution_count": 12,
   "id": "e615317a",
   "metadata": {},
   "outputs": [],
   "source": [
    "esforcos = []\n",
    "for i in range(3):\n",
    "    esforcos.append( [0]*20 )\n",
    "    \n",
    "# primeiro vetor contem X (cm)\n",
    "# segundo vetor contem Momentos (kNcm)\n",
    "# terceiro vetor contém cortante (kN)\n",
    "\n",
    "for i in range(20):\n",
    "    esforcos[0][i] = round(i*(Vao/19),1)\n",
    "    esforcos[1][i] = round( 0.5*Q_tF*esforcos[0][i]*(Vao-esforcos[0][i]) ,1)\n",
    "    esforcos[2][i] = round( 0.5*Q_tF*(Vao-2*esforcos[0][i]), 1 )"
   ]
  },
  {
   "cell_type": "code",
   "execution_count": 13,
   "id": "6a69b682",
   "metadata": {
    "scrolled": true
   },
   "outputs": [
    {
     "name": "stdout",
     "output_type": "stream",
     "text": [
      "\n",
      "Posição da Seção: (cm)\n",
      "[0.0, 78.9, 157.9, 236.8, 315.8, 394.7, 473.7, 552.6, 631.6, 710.5, 789.5, 868.4, 947.4, 1026.3, 1105.3, 1184.2, 1263.2, 1342.1, 1421.1, 1500.0] \n",
      "\n",
      "Valores de M: (kNcm)\n",
      "[0.0, 6166.9, 11655.5, 16451.9, 20568.4, 23994.4, 26738.7, 28794.3, 30166.5, 30851.7, 30851.7, 30166.5, 28794.3, 26738.7, 23994.4, 20568.4, 16451.9, 11655.5, 6166.9, 0.0] \n",
      "\n",
      "Valores de V: (kN)\n",
      "[82.5, 73.8, 65.1, 56.5, 47.8, 39.1, 30.4, 21.7, 13.0, 4.3, -4.3, -13.0, -21.7, -30.4, -39.1, -47.8, -56.5, -65.1, -73.8, -82.5] \n",
      "\n"
     ]
    }
   ],
   "source": [
    "print(\"\\nPosição da Seção: (cm)\")\n",
    "print(esforcos[0],\"\\n\")\n",
    "\n",
    "print(\"Valores de M: (kNcm)\")\n",
    "print(esforcos[1],\"\\n\")\n",
    "\n",
    "print(\"Valores de V: (kN)\")\n",
    "print(esforcos[2],\"\\n\")"
   ]
  },
  {
   "cell_type": "markdown",
   "id": "72990506",
   "metadata": {},
   "source": [
    "# 4 - Escalonamento da Protensão:\n",
    "\n",
    "## 4.1 - Limites de Tensão na Seção S1:\n",
    "\n",
    "São testados os limites de tensão para t0:\n",
    "\n",
    "Limitação pela borda superior:"
   ]
  },
  {
   "cell_type": "code",
   "execution_count": 14,
   "id": "e77f426c",
   "metadata": {},
   "outputs": [],
   "source": [
    "M_s1 = esforcos[1][1]"
   ]
  },
  {
   "cell_type": "code",
   "execution_count": 15,
   "id": "12477f6f",
   "metadata": {},
   "outputs": [
    {
     "data": {
      "text/latex": [
       "\\[\n",
       "\\begin{aligned}\n",
       "P_{1} &= \\frac{ \\sigma_{cc0} + \\frac{ M_{s1} }{ W_{i} } }{ r_{0} \\cdot \\left( \\frac{ 1 }{ \\mathrm{Area} } + \\frac{ e_{p} }{ W_{i} } \\right) }  = \\frac{ 1.96 + \\frac{ 6166.9 }{ 80667 } }{ 0.95 \\cdot \\left( \\frac{ 1 }{ 4400 } + \\frac{ 41 }{ 80667 } \\right) } &= 2914.382  \n",
       "\\\\[10pt]\n",
       "P_{2} &= \\frac{ \\sigma_{ct0} - \\frac{ M_{s1} }{ W_{s} } }{ r_{0} \\cdot \\left( \\frac{ 1 }{ \\mathrm{Area} } - \\frac{ e_{p} }{ W_{s} } \\right) }  = \\frac{ -0.332 - \\frac{ 6166.9 }{ 80667 } }{ 0.95 \\cdot \\left( \\frac{ 1 }{ 4400 } - \\frac{ 41 }{ 80667 } \\right) } &= 1529.932  \n",
       "\\end{aligned}\n",
       "\\]"
      ],
      "text/plain": [
       "<IPython.core.display.Latex object>"
      ]
     },
     "metadata": {},
     "output_type": "display_data"
    }
   ],
   "source": [
    "%%render short\n",
    "\n",
    "P_1 = (sigma_cc0+M_s1/W_i)/(r_0*(1/Area + e_p/W_i))\n",
    "P_2 = (sigma_ct0-M_s1/W_s)/(r_0*(1/Area - e_p/W_s))\n"
   ]
  },
  {
   "cell_type": "code",
   "execution_count": 16,
   "id": "f0d85e33",
   "metadata": {},
   "outputs": [
    {
     "data": {
      "text/latex": [
       "\\[\n",
       "\\begin{aligned}\n",
       "P_{s1} &= \\operatorname{min} { \\left( P_{1} ,\\  P_{2} \\right) }  = \\operatorname{min} { \\left( 2914.4 ,\\  1529.9 \\right) } &= 1529.9  \n",
       "\\\\[10pt]\n",
       "n_{s1} &= \\left \\lfloor \\frac{ P_{s1} }{ A_{p1} \\cdot \\sigma_{p0} } \\right \\rfloor  = \\left \\lfloor \\frac{ 1529.9 }{ 1.4 \\cdot 152.0 } \\right \\rfloor &= 7  \n",
       "\\end{aligned}\n",
       "\\]"
      ],
      "text/plain": [
       "<IPython.core.display.Latex object>"
      ]
     },
     "metadata": {},
     "output_type": "display_data"
    }
   ],
   "source": [
    "%%render 1\n",
    "\n",
    "P_s1 = min(P_1 , P_2)\n",
    "\n",
    "n_s1 = floor(P_s1/(A_p1*sigma_p0))\n"
   ]
  },
  {
   "cell_type": "markdown",
   "id": "fc122191",
   "metadata": {},
   "source": [
    "## 4.2 - Escolha do Número de Cordoalhas:"
   ]
  },
  {
   "cell_type": "code",
   "execution_count": 17,
   "id": "e9c685e3",
   "metadata": {
    "scrolled": false
   },
   "outputs": [
    {
     "data": {
      "text/latex": [
       "\\[\n",
       "\\begin{aligned}\n",
       "\\mathrm{qntCordoalhas} &= [8,\\ 10,\\ 12] \\; \n",
       "\\\\[10pt]\n",
       "e_{p_{i}} &= [41,\\ 41,\\ 41] \\; \n",
=======
       "f_{ctd} &= \\frac{ 0.7 \\cdot 0.03 \\cdot \\left( f_{ck} \\cdot 10 \\right) ^{ \\left( \\frac{ 2 }{ 3 } \\right) } }{ 1.4 }  = \\frac{ 0.7 \\cdot 0.03 \\cdot \\left( 4 \\cdot 10 \\right) ^{ \\left( \\frac{ 2 }{ 3 } \\right) } }{ 1.4 } &= 1.754 \\times 10 ^ {-1 }  \n",
       "\\\\[10pt]\n",
       "f_{bpd} &= \\eta_{p1} \\cdot \\eta_{p2} \\cdot f_{ctd}  = 1.2 \\cdot 1.0 \\cdot 1.754 \\times 10 ^ {-1 } &= 2.105 \\times 10 ^ {-1 }  \n",
       "\\\\[10pt]\n",
       "l_{bp} &= \\frac{ 7 \\cdot \\phi_{1} }{ 36 } \\cdot \\frac{ f_{pyd} }{ f_{bpd} }  = \\frac{ 7 \\cdot 1.52 }{ 36 } \\cdot \\frac{ 148.696 }{ 2.105 \\times 10 ^ {-1 } } &= 208.749  \n",
>>>>>>> 9354f0348eb8129900b42d484c71e14772e086bb
       "\\end{aligned}\n",
       "\\]"
      ],
      "text/plain": [
       "<IPython.core.display.Latex object>"
      ]
     },
     "metadata": {},
     "output_type": "display_data"
    }
   ],
   "source": [
    "%%render\n",
<<<<<<< HEAD
    "\n",
    "# Vetor com o número de cordoalhas em cada ponto de escalonamento:\n",
    "\n",
    "qntCordoalhas = (8,10,12 )\n",
    "\n",
    "# Vetor com a excentricidade da protensão em cada ponto de escalonamento:\n",
    "\n",
    "e_p_i = [41,41,41]"
   ]
  },
  {
   "cell_type": "markdown",
   "id": "7b042987",
   "metadata": {},
   "source": [
    "# 5 - Esforços Devidos À Protensão:"
   ]
  },
  {
   "cell_type": "code",
   "execution_count": 18,
   "id": "8e4c4078",
   "metadata": {},
   "outputs": [],
   "source": [
    "A_p = []\n",
    "\n",
    "for i in range(len(qntCordoalhas)):\n",
    "    A_p.append(qntCordoalhas[i] * A_p1)"
   ]
  },
  {
   "cell_type": "code",
   "execution_count": 19,
   "id": "960e77a5",
   "metadata": {},
   "outputs": [],
   "source": [
    "W_cp = []\n",
    "\n",
    "for i in range(len(qntCordoalhas)):\n",
    "    W_cp.append(Inercia/e_p_i[i])\n",
    "    \n",
    "alpha_p0 = E_p / E_cst0\n",
    "\n",
    "K_p0 = []\n",
    "for i in range(len(qntCordoalhas)):\n",
    "    K_p0.append(alpha_p0*A_p[i]*(1/Area+e_p_i[i]/W_cp[i]))\n",
    "    \n",
    "sigma_p = []\n",
    "for i in range(len(qntCordoalhas)):\n",
    "    sigma_p.append(sigma_p0/(1+K_p0[i]))\n",
    "    \n",
    "N_p = []\n",
    "for i in range(len(qntCordoalhas)):\n",
    "    N_p.append(-sigma_p[i]*A_p[i])\n",
    "    \n",
    "M_p = []\n",
    "for i in range(len(qntCordoalhas)):\n",
    "    M_p.append(N_p[i]*e_p_i[i])"
   ]
  },
  {
   "cell_type": "code",
   "execution_count": 20,
   "id": "9839ce60",
   "metadata": {
    "scrolled": false
   },
   "outputs": [
    {
     "data": {
      "text/latex": [
       "\\[\n",
       "\\begin{aligned}\n",
       "A_{p} &= [11.2,\\ 14.0,\\ 16.8] \\; \n",
       "\\\\[10pt]\n",
       "W_{cp} &= [108211.39,\\ 108211.39,\\ 108211.39] \\; \n",
       "\\\\[10pt]\n",
       "\\alpha_{p0} &= 7.76 \\; \n",
       "\\\\[10pt]\n",
       "K_{p0} &= [0.05,\\ 0.07,\\ 0.08] \\; \n",
       "\\\\[10pt]\n",
       "\\sigma_{p} &= [144.39,\\ 142.61,\\ 140.87] \\; \n",
       "\\\\[10pt]\n",
       "N_{p} &= [-1617.22,\\ -1996.56,\\ -2366.63] \\; \n",
       "\\\\[10pt]\n",
       "M_{p} &= [-66306.17,\\ -81858.79,\\ -97031.84] \\; \n",
       "\\end{aligned}\n",
       "\\]"
      ],
      "text/plain": [
       "<IPython.core.display.Latex object>"
      ]
     },
     "metadata": {},
     "output_type": "display_data"
    }
   ],
   "source": [
    "%%render short 2\n",
    "\n",
    "A_p\n",
    "W_cp\n",
    "alpha_p0\n",
    "K_p0\n",
    "sigma_p\n",
    "N_p\n",
    "M_p"
   ]
  },
  {
   "cell_type": "markdown",
   "id": "3b3910c3",
   "metadata": {},
   "source": [
    "# 6 - Escalonamento da Força de Protensão:"
   ]
  },
  {
   "cell_type": "code",
   "execution_count": 21,
   "id": "e6f6ff1c",
   "metadata": {},
   "outputs": [],
   "source": [
    "M_g = []\n",
    "x1 = []\n",
    "x2 = []\n",
    "\n",
    "x1_anc = []\n",
    "x2_anc = []\n",
    "\n",
    "for i in range(len(qntCordoalhas)):\n",
    "    M_g.append( W_s*( (N_p[i]/Area) -(M_p[i]/W_s) + sigma_ct0) )\n",
    "        \n",
    "for i in range(len(qntCordoalhas)):\n",
    "    #Bhaskara:\n",
    "    x1.append( (Vao - ( Vao**2 - 8*M_g[i]/Q_t0 )**0.5)/2  )\n",
    "    x2.append( (Vao + ( Vao**2 - 8*M_g[i]/Q_t0 )**0.5)/2  )\n",
    "    \n",
    "for i in range(len(qntCordoalhas)):\n",
    "    x1_anc.append(x1[i]-l_bpt)\n",
    "    x2_anc.append(x2[i]+l_bpt)"
   ]
  },
  {
   "cell_type": "code",
   "execution_count": 22,
   "id": "001eee18",
   "metadata": {
    "scrolled": true
   },
   "outputs": [
    {
     "data": {
      "text/latex": [
       "\\[\n",
       "\\begin{aligned}\n",
       "M_{g} &= [9879.42,\\ 18477.59,\\ 26865.92] \\; \n",
       "\\\\[10pt]\n",
       "\\mathrm{x1} &= [131.23,\\ 274.03,\\ 477.92] \\; \n",
       "\\\\[10pt]\n",
       "\\mathrm{x2} &= [1368.77,\\ 1225.97,\\ 1022.08] \\; \n",
       "\\\\[10pt]\n",
       "\\mathrm{x1}_{anc} &= [-37.94,\\ 104.87,\\ 308.75] \\; \n",
       "\\\\[10pt]\n",
       "\\mathrm{x2}_{anc} &= [1537.94,\\ 1395.13,\\ 1191.25] \\; \n",
       "\\end{aligned}\n",
       "\\]"
      ],
      "text/plain": [
       "<IPython.core.display.Latex object>"
      ]
     },
     "metadata": {},
     "output_type": "display_data"
    }
   ],
   "source": [
    "%%render short 2\n",
    "\n",
    "M_g\n",
    "x1\n",
    "x2\n",
    "x1_anc\n",
    "x2_anc\n",
=======
    "f_pyd = 0.9* f_ptk / 1.15\n",
    "\n",
    "eta_p1 = 1.2\n",
    "\n",
    "# Valores de Eta_p1:\n",
    "#     \n",
    "#     1.0 para fios lisos\n",
    "#     1.2 para cordoalhas de 3 e 7 fios\n",
    "#     1.5 para fios dentados\n",
>>>>>>> 9354f0348eb8129900b42d484c71e14772e086bb
    "\n",
    "eta_p2 = 1.0\n",
    "\n",
    "# Valores de Eta_p2:\n",
    "#     \n",
    "#     1.0 para situação de boa aderência\n",
    "#     1.2 para situação de má aderência\n",
    "\n",
    "f_ctd = (0.7*0.03*(f_ck*10)**(2/3))/1.4\n",
    "f_bpd = eta_p1 * eta_p2 * f_ctd\n",
    "\n",
    "l_bp = (7*phi_1)/36 * f_pyd/f_bpd"
   ]
  },
  {
   "cell_type": "markdown",
   "id": "a58b5804",
   "metadata": {},
   "source": [
    "### 2.4.2 - Cálculo do comprimento de Transferência:"
   ]
  },
  {
   "cell_type": "markdown",
   "id": "7e1e952a",
   "metadata": {},
   "source": [
    "# 6 - Perdas Progressivas da Força de Protensão:\n",
    "\n",
    "## 6.1 - Fluência do Concreto:\n",
    "\n",
    "### 6.1.1 - Fluência Rápida Irreversível"
   ]
  },
  {
   "cell_type": "code",
<<<<<<< HEAD
   "execution_count": 23,
   "id": "c3dbfb93",
=======
   "execution_count": 64,
   "id": "d61ba68b",
>>>>>>> 9354f0348eb8129900b42d484c71e14772e086bb
   "metadata": {},
   "outputs": [
    {
     "data": {
      "text/latex": [
       "\\[\n",
       "\\begin{aligned}\n",
<<<<<<< HEAD
       "s &= 0.38 \\; \\;\\textrm{(CP IV)}\n",
       "\\\\[10pt]\n",
       "t_{0} &= 10 \\; \n",
       "\\\\[10pt]\n",
       "t_{F} &= 10000 \\; \n",
       "\\\\[10pt]\n",
       "\\beta_{0} &= \\exp \\left( s \\cdot \\left( 1 - \\left( \\frac{ 28 }{ t_{0} } \\right) ^{ 0.5 } \\right) \\right)  = \\exp \\left( 0.38 \\cdot \\left( 1 - \\left( \\frac{ 28 }{ 10 } \\right) ^{ 0.5 } \\right) \\right) &= 7.742 \\times 10 ^ {-1 }  \n",
       "\\\\[10pt]\n",
       "\\beta_{F} &= \\exp \\left( s \\cdot \\left( 1 - \\left( \\frac{ 28 }{ t_{F} } \\right) ^{ 0.5 } \\right) \\right)  = \\exp \\left( 0.38 \\cdot \\left( 1 - \\left( \\frac{ 28 }{ 10000 } \\right) ^{ 0.5 } \\right) \\right) &= 1.433  \n",
       "\\\\[10pt]\n",
       "\\phi_{a} &= 0.8 \\cdot \\left( 1 - \\left( \\frac{ \\beta_{0} }{ \\beta_{F} } \\right) \\right)  = 0.8 \\cdot \\left( 1 - \\left( \\frac{ 7.742 \\times 10 ^ {-1 } }{ 1.433 } \\right) \\right) &= 3.678 \\times 10 ^ {-1 }  \n",
=======
       "& \\textrm{ para fios lisos ou dentados:}\\\\[10pt]\n",
       "l_{bpt1} &= 0.7 \\cdot l_{bp} \\cdot \\frac{ \\sigma_{p0} }{ f_{pyd} }  = 0.7 \\cdot 208.749 \\cdot \\frac{ 152.0 }{ 148.696 } &= 149.372  \n",
       "\\\\[10pt]\n",
       "& \\textrm{ para cordoalhas de 3 e 7 fios:}\\\\[10pt]\n",
       "l_{bpt2} &= 0.5 \\cdot l_{bp} \\cdot \\frac{ \\sigma_{p0} }{ f_{pyd} }  = 0.5 \\cdot 208.749 \\cdot \\frac{ 152.0 }{ 148.696 } &= 106.694  \n",
       "\\\\[10pt]\n",
       "& \\textrm{ para transferência não gradual, os valores devem ser multiplicados por 1.25}\\\\[10pt]\n",
       "& \\textrm{ valor adotado:}\\\\[10pt]\n",
       "l_{bpt} &= 1.25 \\cdot l_{bpt2}  = 1.25 \\cdot 106.694 &= 133.368  \n",
>>>>>>> 9354f0348eb8129900b42d484c71e14772e086bb
       "\\end{aligned}\n",
       "\\]"
      ],
      "text/plain": [
       "<IPython.core.display.Latex object>"
      ]
     },
     "metadata": {},
     "output_type": "display_data"
<<<<<<< HEAD
    }
   ],
   "source": [
    "%%render\n",
    "\n",
    "s = 0.38 # CP IV\n",
    "t_0 = 10\n",
    "t_F = 10000\n",
    "\n",
    "\n",
    "beta_0 = exp(s*(1-(28/t_0)**0.5))\n",
    "beta_F = exp(s*(1-(28/t_F)**0.5))\n",
    "\n",
    "phi_a = 0.8*(1 - (beta_0/beta_F))\n",
    "\n"
   ]
  },
  {
   "cell_type": "markdown",
   "id": "ec305c4e",
   "metadata": {},
   "source": [
    "### 6.1.2 - Fluência Lenta Irreversível:"
   ]
  },
  {
   "cell_type": "code",
   "execution_count": 24,
   "id": "bb095c40",
   "metadata": {},
   "outputs": [
    {
     "data": {
      "text/latex": [
       "\\[\n",
       "\\begin{aligned}\n",
       "U &= 70 \\; \\;\\textrm{(umidade média do ar)}\n",
       "\\\\[10pt]\n",
       "\\phi_{c1} &= 4.45 - 0.035 \\cdot U  = 4.45 - 0.035 \\cdot 70 &= 2.0 \\; \\;\\textrm{(para abatimentos entre 5cm e 9cm)}\n",
       "\\\\[10pt]\n",
       "\\gamma &= 1 + \\exp \\left( \\left( - 7.8 \\right) + 0.1 \\cdot U \\right)  = 1 + \\exp \\left( \\left( - 7.8 \\right) + 0.1 \\cdot 70 \\right) &= 1.45  \n",
       "\\\\[10pt]\n",
       "u_{ar} &= 300 \\; \n",
       "\\\\[10pt]\n",
       "h_{fic} &= \\gamma \\cdot \\frac{ 2 \\cdot \\mathrm{Area} }{ u_{ar} }  = 1.45 \\cdot \\frac{ 2 \\cdot 4400 }{ 300 } &= 42.51  \n",
       "\\\\[10pt]\n",
       "\\phi_{c2} &= \\frac{ 42 + h_{fic} }{ 20 + h_{fic} }  = \\frac{ 42 + 42.51 }{ 20 + 42.51 } &= 1.35  \n",
       "\\\\[10pt]\n",
       "\\phi_{fF} &= \\phi_{c1} \\cdot \\phi_{c2}  = 2.0 \\cdot 1.35 &= 2.7  \n",
       "\\\\[10pt]\n",
       "h_{fm} &= \\frac{ h_{fic} }{ 100 }  = \\frac{ 42.51 }{ 100 } &= 4.25 \\times 10 ^ {-1 } \\; \\;\\textrm{(espessura fictícia em metros)}\n",
       "\\\\[10pt]\n",
       "A_{\\beta_{f}} &= 42 \\cdot \\left( h_{fm} \\right) ^{ 3 } - 350 \\cdot \\left( h_{fm} \\right) ^{ 2 } + 588 \\cdot h_{fm} + 113  = 42 \\cdot \\left( 4.25 \\times 10 ^ {-1 } \\right) ^{ 3 } - 350 \\cdot \\left( 4.25 \\times 10 ^ {-1 } \\right) ^{ 2 } + 588 \\cdot 4.25 \\times 10 ^ {-1 } + 113 &= 302.95  \n",
       "\\\\[10pt]\n",
       "B_{\\beta_{f}} &= 768 \\cdot \\left( h_{fm} \\right) ^{ 3 } - 3060 \\cdot \\left( h_{fm} \\right) ^{ 2 } + 3234 \\cdot h_{fm} - 23  = 768 \\cdot \\left( 4.25 \\times 10 ^ {-1 } \\right) ^{ 3 } - 3060 \\cdot \\left( 4.25 \\times 10 ^ {-1 } \\right) ^{ 2 } + 3234 \\cdot 4.25 \\times 10 ^ {-1 } - 23 &= 857.84  \n",
       "\\\\[10pt]\n",
       "C_{\\beta_{f}} &= \\left( - 200 \\right) \\cdot \\left( h_{fm} \\right) ^{ 3 } + 13 \\cdot \\left( h_{fm} \\right) ^{ 2 } + 1090 \\cdot h_{fm} + 183  = \\left( - 200 \\right) \\cdot \\left( 4.25 \\times 10 ^ {-1 } \\right) ^{ 3 } + 13 \\cdot \\left( 4.25 \\times 10 ^ {-1 } \\right) ^{ 2 } + 1090 \\cdot 4.25 \\times 10 ^ {-1 } + 183 &= 633.38  \n",
       "\\\\[10pt]\n",
       "D_{\\beta_{f}} &= 7579 \\cdot \\left( h_{fm} \\right) ^{ 3 } - 31916 \\cdot \\left( h_{fm} \\right) ^{ 2 } + 35343 \\cdot h_{fm} + 1931  = 7579 \\cdot \\left( 4.25 \\times 10 ^ {-1 } \\right) ^{ 3 } - 31916 \\cdot \\left( 4.25 \\times 10 ^ {-1 } \\right) ^{ 2 } + 35343 \\cdot 4.25 \\times 10 ^ {-1 } + 1931 &= 11770.44  \n",
       "\\\\[10pt]\n",
       "\\beta_{f_{t0}} &= \\frac{ \\left( t_{0} \\right) ^{ 2 } + A_{\\beta_{f}} \\cdot t_{0} + B_{\\beta_{f}} }{ \\left( t_{0} \\right) ^{ 2 } + C_{\\beta_{f}} \\cdot t_{0} + D_{\\beta_{f}} }  = \\frac{ \\left( 10 \\right) ^{ 2 } + 302.95 \\cdot 10 + 857.84 }{ \\left( 10 \\right) ^{ 2 } + 633.38 \\cdot 10 + 11770.44 } &= 2.19 \\times 10 ^ {-1 }  \n",
       "\\\\[10pt]\n",
       "\\beta_{f_{tF}} &= \\frac{ \\left( t_{F} \\right) ^{ 2 } + A_{\\beta_{f}} \\cdot t_{F} + B_{\\beta_{f}} }{ \\left( t_{F} \\right) ^{ 2 } + C_{\\beta_{f}} \\cdot t_{F} + D_{\\beta_{f}} }  = \\frac{ \\left( 10000 \\right) ^{ 2 } + 302.95 \\cdot 10000 + 857.84 }{ \\left( 10000 \\right) ^{ 2 } + 633.38 \\cdot 10000 + 11770.44 } &= 9.69 \\times 10 ^ {-1 }  \n",
       "\\end{aligned}\n",
       "\\]"
      ],
      "text/plain": [
       "<IPython.core.display.Latex object>"
      ]
     },
     "metadata": {},
     "output_type": "display_data"
    }
   ],
   "source": [
    "%%render 2 short\n",
    "\n",
    "U = 70 #umidade média do ar\n",
    "\n",
    "phi_c1 = 4.45 - 0.035*U # para abatimentos entre 5cm e 9cm\n",
    "\n",
    "gamma = 1 + exp(-7.8 + 0.1 * U)\n",
    "\n",
    "u_ar = ( 2*h + 2*b )\n",
    "\n",
    "h_fic = gamma*(2*Area)/u_ar\n",
    "\n",
    "phi_c2 = (42+h_fic)/(20+h_fic)\n",
    "\n",
    "phi_fF = phi_c1*phi_c2\n",
    "\n",
    "h_fm = h_fic/100 # espessura fictícia em metros\n",
    "\n",
    "A_beta_f = 42*h_fm**3 - 350*h_fm**2 + 588*h_fm + 113\n",
    "B_beta_f = 768*h_fm**3 - 3060*h_fm**2 + 3234*h_fm - 23\n",
    "C_beta_f = -200*h_fm**3 + 13*h_fm**2 + 1090*h_fm + 183\n",
    "D_beta_f = 7579*h_fm**3 - 31916*h_fm**2 + 35343*h_fm + 1931\n",
    "\n",
    "beta_f_t0 = (t_0**2 + A_beta_f*t_0 + B_beta_f )/(t_0**2 + C_beta_f*t_0 + D_beta_f)\n",
    "beta_f_tF = (t_F**2 + A_beta_f*t_F + B_beta_f )/(t_F**2 + C_beta_f*t_F + D_beta_f) "
   ]
  },
  {
   "cell_type": "markdown",
   "id": "bd808c0d",
   "metadata": {},
   "source": [
    "### 6.1.3 - Fluência Lenta Reversível:"
   ]
  },
  {
   "cell_type": "code",
   "execution_count": 25,
   "id": "9a489151",
   "metadata": {},
   "outputs": [
    {
     "data": {
      "text/latex": [
       "\\[\n",
       "\\begin{aligned}\n",
       "\\phi_{dF} &= 0.4 \\; \n",
       "\\\\[10pt]\n",
       "\\beta_{d} &= \\frac{ t_{F} - t_{0} + 20 }{ t_{F} - t_{0} + 70 }  = \\frac{ 10000 - 10 + 20 }{ 10000 - 10 + 70 } &= 0.995  \n",
       "\\end{aligned}\n",
       "\\]"
      ],
      "text/plain": [
       "<IPython.core.display.Latex object>"
      ]
     },
     "metadata": {},
     "output_type": "display_data"
    }
   ],
   "source": [
    "%%render short\n",
    "\n",
    "phi_dF = 0.4\n",
    "\n",
    "beta_d = (t_F-t_0+20)/(t_F-t_0+70)"
   ]
  },
  {
   "cell_type": "markdown",
   "id": "96bd76c7",
   "metadata": {},
   "source": [
    "### 6.1.4 - Fluência Total:"
   ]
  },
  {
   "cell_type": "code",
   "execution_count": 26,
   "id": "a5a83321",
   "metadata": {},
   "outputs": [
    {
     "data": {
      "text/latex": [
       "\\[\n",
       "\\begin{aligned}\n",
       "\\phi_{t} &= \\phi_{a} + \\phi_{fF} \\cdot \\left( \\beta_{f_{tF}} - \\beta_{f_{t0}} \\right) + \\phi_{dF} \\cdot \\beta_{d}  = 3.678 \\times 10 ^ {-1 } + 2.704 \\cdot \\left( 9.688 \\times 10 ^ {-1 } - 0.219 \\right) + 0.4 \\cdot 0.995 &= 2.793  \n",
       "\\end{aligned}\n",
       "\\]"
      ],
      "text/plain": [
       "<IPython.core.display.Latex object>"
      ]
     },
     "metadata": {},
     "output_type": "display_data"
    }
   ],
   "source": [
    "%%render short\n",
    "phi_t = phi_a + phi_fF*(beta_f_tF - beta_f_t0) + phi_dF * beta_d"
   ]
  },
  {
   "cell_type": "markdown",
   "id": "865b57fe",
   "metadata": {},
   "source": [
    "## 6.2 Retração do Concreto:"
   ]
  },
  {
   "cell_type": "code",
   "execution_count": 27,
   "id": "1bac914d",
   "metadata": {},
   "outputs": [
    {
     "data": {
      "text/latex": [
       "\\[\n",
       "\\begin{aligned}\n",
       "\\epsilon_{1s} &= \\left( \\left( - 8.09 \\right) + \\frac{ U }{ 15 } - \\frac{ \\left( U \\right) ^{ 2 } }{ 2284 } + \\frac{ \\left( U \\right) ^{ 3 } }{ 133765 } - \\frac{ \\left( U \\right) ^{ 4 } }{ 7608150 } \\right) \\cdot \\left( 10 \\right) ^{ -4 }  = \\left( \\left( - 8.09 \\right) + \\frac{ 70 }{ 15 } - \\frac{ \\left( 70 \\right) ^{ 2 } }{ 2284 } + \\frac{ \\left( 70 \\right) ^{ 3 } }{ 133765 } - \\frac{ \\left( 70 \\right) ^{ 4 } }{ 7608150 } \\right) \\cdot \\left( 10 \\right) ^{ -4 } &= -6.160 \\times 10 ^ {-4 }  \n",
       "\\\\[10pt]\n",
       "\\epsilon_{2s} &= \\frac{ 33 + 2 \\cdot h_{fic} }{ 20.8 + 3 \\cdot h_{fic} }  = \\frac{ 33 + 2 \\cdot 42.514 }{ 20.8 + 3 \\cdot 42.514 } &= 7.956 \\times 10 ^ {-1 }  \n",
       "\\\\[10pt]\n",
       "A_{\\beta_{s}} &= 40 \\; \n",
       "\\\\[10pt]\n",
       "B_{\\beta_{s}} &= 116 \\cdot \\left( h_{fm} \\right) ^{ 3 } - 282 \\cdot \\left( h_{fm} \\right) ^{ 2 } + 220 \\cdot h_{fm} - 4.8  = 116 \\cdot \\left( 4.251 \\times 10 ^ {-1 } \\right) ^{ 3 } - 282 \\cdot \\left( 4.251 \\times 10 ^ {-1 } \\right) ^{ 2 } + 220 \\cdot 4.251 \\times 10 ^ {-1 } - 4.8 &= 46.674  \n",
       "\\\\[10pt]\n",
       "C_{\\beta_{s}} &= 2.5 \\cdot \\left( h_{fm} \\right) ^{ 3 } - 8.8 \\cdot h_{fm} + 40.7  = 2.5 \\cdot \\left( 4.251 \\times 10 ^ {-1 } \\right) ^{ 3 } - 8.8 \\cdot 4.251 \\times 10 ^ {-1 } + 40.7 &= 37.151  \n",
       "\\\\[10pt]\n",
       "D_{\\beta_{s}} &= \\left( - 75 \\right) \\cdot \\left( h_{fm} \\right) ^{ 3 } + 585 \\cdot \\left( h_{fm} \\right) ^{ 2 } + 496 \\cdot h_{fm} - 6.8  = \\left( - 75 \\right) \\cdot \\left( 4.251 \\times 10 ^ {-1 } \\right) ^{ 3 } + 585 \\cdot \\left( 4.251 \\times 10 ^ {-1 } \\right) ^{ 2 } + 496 \\cdot 4.251 \\times 10 ^ {-1 } - 6.8 &= 304.038  \n",
       "\\\\[10pt]\n",
       "E_{\\beta_{s}} &= \\left( - 169 \\right) \\cdot \\left( h_{fm} \\right) ^{ 4 } + 88 \\cdot \\left( h_{fm} \\right) ^{ 3 } + 584 \\cdot \\left( h_{fm} \\right) ^{ 2 } - 39 \\cdot h_{fm} + 0.8  = \\left( - 169 \\right) \\cdot \\left( 4.251 \\times 10 ^ {-1 } \\right) ^{ 4 } + 88 \\cdot \\left( 4.251 \\times 10 ^ {-1 } \\right) ^{ 3 } + 584 \\cdot \\left( 4.251 \\times 10 ^ {-1 } \\right) ^{ 2 } - 39 \\cdot 4.251 \\times 10 ^ {-1 } + 0.8 &= 91.014  \n",
       "\\\\[10pt]\n",
       "\\beta_{s_{t0}} &= \\frac{ \\left( \\frac{ t_{0} }{ 100 } \\right) ^{ 3 } + A_{\\beta_{s}} \\cdot \\left( \\frac{ t_{0} }{ 100 } \\right) ^{ 2 } + B_{\\beta_{s}} \\cdot \\left( \\frac{ t_{0} }{ 100 } \\right) }{ \\left( \\frac{ t_{0} }{ 100 } \\right) ^{ 3 } + C_{\\beta_{s}} \\cdot \\left( \\frac{ t_{0} }{ 100 } \\right) ^{ 2 } + D_{\\beta_{s}} \\cdot \\left( \\frac{ t_{0} }{ 100 } \\right) + E_{\\beta_{s}} }  = \\frac{ \\left( \\frac{ 10 }{ 100 } \\right) ^{ 3 } + 40 \\cdot \\left( \\frac{ 10 }{ 100 } \\right) ^{ 2 } + 46.674 \\cdot \\left( \\frac{ 10 }{ 100 } \\right) }{ \\left( \\frac{ 10 }{ 100 } \\right) ^{ 3 } + 37.151 \\cdot \\left( \\frac{ 10 }{ 100 } \\right) ^{ 2 } + 304.038 \\cdot \\left( \\frac{ 10 }{ 100 } \\right) + 91.014 } &= 4.162 \\times 10 ^ {-2 }  \n",
       "\\\\[10pt]\n",
       "\\beta_{s_{tF}} &= \\frac{ \\left( \\frac{ t_{F} }{ 100 } \\right) ^{ 3 } + A_{\\beta_{s}} \\cdot \\left( \\frac{ t_{F} }{ 100 } \\right) ^{ 2 } + B_{\\beta_{s}} \\cdot \\left( \\frac{ t_{F} }{ 100 } \\right) }{ \\left( \\frac{ t_{F} }{ 100 } \\right) ^{ 3 } + C_{\\beta_{s}} \\cdot \\left( \\frac{ t_{F} }{ 100 } \\right) ^{ 2 } + D_{\\beta_{s}} \\cdot \\left( \\frac{ t_{F} }{ 100 } \\right) + E_{\\beta_{s}} }  = \\frac{ \\left( \\frac{ 10000 }{ 100 } \\right) ^{ 3 } + 40 \\cdot \\left( \\frac{ 10000 }{ 100 } \\right) ^{ 2 } + 46.674 \\cdot \\left( \\frac{ 10000 }{ 100 } \\right) }{ \\left( \\frac{ 10000 }{ 100 } \\right) ^{ 3 } + 37.151 \\cdot \\left( \\frac{ 10000 }{ 100 } \\right) ^{ 2 } + 304.038 \\cdot \\left( \\frac{ 10000 }{ 100 } \\right) + 91.014 } &= 1.002  \n",
       "\\\\[10pt]\n",
       "\\epsilon_{cs} &= \\epsilon_{1s} \\cdot \\epsilon_{2s} \\cdot \\left( \\beta_{s_{tF}} - \\beta_{s_{t0}} \\right)  = -6.160 \\times 10 ^ {-4 } \\cdot 7.956 \\times 10 ^ {-1 } \\cdot \\left( 1.002 - 4.162 \\times 10 ^ {-2 } \\right) &= -4.707 \\times 10 ^ {-4 }  \n",
       "\\end{aligned}\n",
       "\\]"
      ],
      "text/plain": [
       "<IPython.core.display.Latex object>"
      ]
     },
     "metadata": {},
     "output_type": "display_data"
    }
   ],
   "source": [
    "%%render short\n",
    "\n",
    "epsilon_1s = (-8.09 + U/15 - U**2/2284 + U**3/133765 - U**4/7608150)*10**-4\n",
    "\n",
    "epsilon_2s = (33+2*h_fic)/(20.8 + 3*h_fic)\n",
    "\n",
    "A_beta_s = 40  \n",
    "B_beta_s = 116*h_fm**3 - 282*h_fm**2 + 220*h_fm - 4.8  \n",
    "C_beta_s = 2.5*h_fm**3 - 8.8*h_fm + 40.7  \n",
    "D_beta_s = -75*h_fm**3 + 585*h_fm**2 + 496*h_fm - 6.8  \n",
    "E_beta_s = -169*h_fm**4 + 88*h_fm**3 + 584*h_fm**2 - 39*h_fm + 0.8  \n",
    "\n",
    "beta_s_t0 = ((t_0/100)**3 + A_beta_s*(t_0/100)**2 +  B_beta_s*(t_0/100))/((t_0/100)**3 + C_beta_s*(t_0/100)**2 +  D_beta_s*(t_0/100) + E_beta_s)\n",
    "\n",
    "beta_s_tF = ((t_F/100)**3 + A_beta_s*(t_F/100)**2 +  B_beta_s*(t_F/100))/((t_F/100)**3 + C_beta_s*(t_F/100)**2 +  D_beta_s*(t_F/100) + E_beta_s)\n",
    "\n",
    "epsilon_cs = epsilon_1s*epsilon_2s*(beta_s_tF - beta_s_t0)\n"
   ]
  },
  {
   "cell_type": "markdown",
   "id": "26653758",
   "metadata": {},
   "source": [
    "## 6.3 - Relaxação do Aço de Protensão:"
   ]
  },
  {
   "cell_type": "code",
   "execution_count": 52,
   "id": "59b4e706",
   "metadata": {},
   "outputs": [],
   "source": [
    "relax = []\n",
    "for i in range(7):\n",
    "    relax.append([0]*20)\n",
    "\n",
    "for i in range (20):\n",
    "    relax[0][i] = i+1\n",
    "    relax[1][i] = esforcos[0][i] #posição x da seção\n",
    "    for j in range(len(qntCordoalhas)-1,-1,-1):\n",
    "        if(relax[1][i] >= x1_anc[j] and relax[1][i] <= x2_anc[j]):\n",
    "            relax[2][i] = round(sigma_p[j],2)\n",
    "            break\n",
    "    relax[3][i] = round(relax[2][i]/f_ptk,2)\n",
    "    relax[4][i] = round(calcpsi(relax[3][i]),2)\n",
    "    relax[5][i] = round(relax[4][i]*2.5,2)\n",
    "    relax[6][i] = round(-log(1-relax[5][i]),2)\n",
    "            \n",
    "    \n",
    "\n",
    "    \n",
    "    \n",
    "    "
   ]
  },
  {
   "cell_type": "code",
   "execution_count": 74,
   "id": "4ad6ae89",
   "metadata": {},
   "outputs": [
    {
     "ename": "ValueError",
     "evalue": "6 columns passed, passed data had 20 columns",
     "output_type": "error",
     "traceback": [
      "\u001b[1;31m---------------------------------------------------------------------------\u001b[0m",
      "\u001b[1;31mAssertionError\u001b[0m                            Traceback (most recent call last)",
      "\u001b[1;32m~\\anaconda3\\lib\\site-packages\\pandas\\core\\internals\\construction.py\u001b[0m in \u001b[0;36m_finalize_columns_and_data\u001b[1;34m(content, columns, dtype)\u001b[0m\n\u001b[0;32m    905\u001b[0m     \u001b[1;32mtry\u001b[0m\u001b[1;33m:\u001b[0m\u001b[1;33m\u001b[0m\u001b[1;33m\u001b[0m\u001b[0m\n\u001b[1;32m--> 906\u001b[1;33m         \u001b[0mcolumns\u001b[0m \u001b[1;33m=\u001b[0m \u001b[0m_validate_or_indexify_columns\u001b[0m\u001b[1;33m(\u001b[0m\u001b[0mcontents\u001b[0m\u001b[1;33m,\u001b[0m \u001b[0mcolumns\u001b[0m\u001b[1;33m)\u001b[0m\u001b[1;33m\u001b[0m\u001b[1;33m\u001b[0m\u001b[0m\n\u001b[0m\u001b[0;32m    907\u001b[0m     \u001b[1;32mexcept\u001b[0m \u001b[0mAssertionError\u001b[0m \u001b[1;32mas\u001b[0m \u001b[0merr\u001b[0m\u001b[1;33m:\u001b[0m\u001b[1;33m\u001b[0m\u001b[1;33m\u001b[0m\u001b[0m\n",
      "\u001b[1;32m~\\anaconda3\\lib\\site-packages\\pandas\\core\\internals\\construction.py\u001b[0m in \u001b[0;36m_validate_or_indexify_columns\u001b[1;34m(content, columns)\u001b[0m\n\u001b[0;32m    953\u001b[0m             \u001b[1;31m# caller's responsibility to check for this...\u001b[0m\u001b[1;33m\u001b[0m\u001b[1;33m\u001b[0m\u001b[0m\n\u001b[1;32m--> 954\u001b[1;33m             raise AssertionError(\n\u001b[0m\u001b[0;32m    955\u001b[0m                 \u001b[1;34mf\"{len(columns)} columns passed, passed data had \"\u001b[0m\u001b[1;33m\u001b[0m\u001b[1;33m\u001b[0m\u001b[0m\n",
      "\u001b[1;31mAssertionError\u001b[0m: 6 columns passed, passed data had 20 columns",
      "\nThe above exception was the direct cause of the following exception:\n",
      "\u001b[1;31mValueError\u001b[0m                                Traceback (most recent call last)",
      "\u001b[1;32m~\\AppData\\Local\\Temp/ipykernel_8236/3140732987.py\u001b[0m in \u001b[0;36m<module>\u001b[1;34m\u001b[0m\n\u001b[1;32m----> 1\u001b[1;33m \u001b[0mdata\u001b[0m \u001b[1;33m=\u001b[0m \u001b[0mpd\u001b[0m\u001b[1;33m.\u001b[0m\u001b[0mDataFrame\u001b[0m\u001b[1;33m(\u001b[0m\u001b[0mrelax\u001b[0m\u001b[1;33m,\u001b[0m\u001b[0mcolumns\u001b[0m \u001b[1;33m=\u001b[0m \u001b[1;33m[\u001b[0m\u001b[1;34m'Name'\u001b[0m\u001b[1;33m,\u001b[0m\u001b[1;34m'Age'\u001b[0m\u001b[1;33m,\u001b[0m\u001b[1;34m'Percent'\u001b[0m\u001b[1;33m,\u001b[0m\u001b[1;34m''\u001b[0m\u001b[1;33m,\u001b[0m\u001b[1;34m''\u001b[0m\u001b[1;33m,\u001b[0m\u001b[1;34m''\u001b[0m\u001b[1;33m]\u001b[0m\u001b[1;33m)\u001b[0m\u001b[1;33m\u001b[0m\u001b[1;33m\u001b[0m\u001b[0m\n\u001b[0m\u001b[0;32m      2\u001b[0m \u001b[0mdata\u001b[0m \u001b[1;33m=\u001b[0m \u001b[0mdata\u001b[0m\u001b[1;33m.\u001b[0m\u001b[0mtranspose\u001b[0m\u001b[1;33m(\u001b[0m\u001b[1;33m)\u001b[0m\u001b[1;33m\u001b[0m\u001b[1;33m\u001b[0m\u001b[0m\n\u001b[0;32m      3\u001b[0m \u001b[1;33m\u001b[0m\u001b[0m\n\u001b[0;32m      4\u001b[0m \u001b[1;33m\u001b[0m\u001b[0m\n\u001b[0;32m      5\u001b[0m \u001b[0mprint\u001b[0m\u001b[1;33m(\u001b[0m\u001b[0mdata\u001b[0m\u001b[1;33m)\u001b[0m\u001b[1;33m\u001b[0m\u001b[1;33m\u001b[0m\u001b[0m\n",
      "\u001b[1;32m~\\anaconda3\\lib\\site-packages\\pandas\\core\\frame.py\u001b[0m in \u001b[0;36m__init__\u001b[1;34m(self, data, index, columns, dtype, copy)\u001b[0m\n\u001b[0;32m    692\u001b[0m                         \u001b[1;31m# ndarray], Index, Series], Sequence[Any]]\"\u001b[0m\u001b[1;33m\u001b[0m\u001b[1;33m\u001b[0m\u001b[0m\n\u001b[0;32m    693\u001b[0m                         \u001b[0mcolumns\u001b[0m \u001b[1;33m=\u001b[0m \u001b[0mensure_index\u001b[0m\u001b[1;33m(\u001b[0m\u001b[0mcolumns\u001b[0m\u001b[1;33m)\u001b[0m  \u001b[1;31m# type: ignore[arg-type]\u001b[0m\u001b[1;33m\u001b[0m\u001b[1;33m\u001b[0m\u001b[0m\n\u001b[1;32m--> 694\u001b[1;33m                     arrays, columns, index = nested_data_to_arrays(\n\u001b[0m\u001b[0;32m    695\u001b[0m                         \u001b[1;31m# error: Argument 3 to \"nested_data_to_arrays\" has incompatible\u001b[0m\u001b[1;33m\u001b[0m\u001b[1;33m\u001b[0m\u001b[0m\n\u001b[0;32m    696\u001b[0m                         \u001b[1;31m# type \"Optional[Collection[Any]]\"; expected \"Optional[Index]\"\u001b[0m\u001b[1;33m\u001b[0m\u001b[1;33m\u001b[0m\u001b[0m\n",
      "\u001b[1;32m~\\anaconda3\\lib\\site-packages\\pandas\\core\\internals\\construction.py\u001b[0m in \u001b[0;36mnested_data_to_arrays\u001b[1;34m(data, columns, index, dtype)\u001b[0m\n\u001b[0;32m    481\u001b[0m         \u001b[0mcolumns\u001b[0m \u001b[1;33m=\u001b[0m \u001b[0mensure_index\u001b[0m\u001b[1;33m(\u001b[0m\u001b[0mdata\u001b[0m\u001b[1;33m[\u001b[0m\u001b[1;36m0\u001b[0m\u001b[1;33m]\u001b[0m\u001b[1;33m.\u001b[0m\u001b[0m_fields\u001b[0m\u001b[1;33m)\u001b[0m\u001b[1;33m\u001b[0m\u001b[1;33m\u001b[0m\u001b[0m\n\u001b[0;32m    482\u001b[0m \u001b[1;33m\u001b[0m\u001b[0m\n\u001b[1;32m--> 483\u001b[1;33m     \u001b[0marrays\u001b[0m\u001b[1;33m,\u001b[0m \u001b[0mcolumns\u001b[0m \u001b[1;33m=\u001b[0m \u001b[0mto_arrays\u001b[0m\u001b[1;33m(\u001b[0m\u001b[0mdata\u001b[0m\u001b[1;33m,\u001b[0m \u001b[0mcolumns\u001b[0m\u001b[1;33m,\u001b[0m \u001b[0mdtype\u001b[0m\u001b[1;33m=\u001b[0m\u001b[0mdtype\u001b[0m\u001b[1;33m)\u001b[0m\u001b[1;33m\u001b[0m\u001b[1;33m\u001b[0m\u001b[0m\n\u001b[0m\u001b[0;32m    484\u001b[0m     \u001b[0mcolumns\u001b[0m \u001b[1;33m=\u001b[0m \u001b[0mensure_index\u001b[0m\u001b[1;33m(\u001b[0m\u001b[0mcolumns\u001b[0m\u001b[1;33m)\u001b[0m\u001b[1;33m\u001b[0m\u001b[1;33m\u001b[0m\u001b[0m\n\u001b[0;32m    485\u001b[0m \u001b[1;33m\u001b[0m\u001b[0m\n",
      "\u001b[1;32m~\\anaconda3\\lib\\site-packages\\pandas\\core\\internals\\construction.py\u001b[0m in \u001b[0;36mto_arrays\u001b[1;34m(data, columns, dtype)\u001b[0m\n\u001b[0;32m    805\u001b[0m         \u001b[0marr\u001b[0m \u001b[1;33m=\u001b[0m \u001b[0m_list_to_arrays\u001b[0m\u001b[1;33m(\u001b[0m\u001b[0mdata\u001b[0m\u001b[1;33m)\u001b[0m\u001b[1;33m\u001b[0m\u001b[1;33m\u001b[0m\u001b[0m\n\u001b[0;32m    806\u001b[0m \u001b[1;33m\u001b[0m\u001b[0m\n\u001b[1;32m--> 807\u001b[1;33m     \u001b[0mcontent\u001b[0m\u001b[1;33m,\u001b[0m \u001b[0mcolumns\u001b[0m \u001b[1;33m=\u001b[0m \u001b[0m_finalize_columns_and_data\u001b[0m\u001b[1;33m(\u001b[0m\u001b[0marr\u001b[0m\u001b[1;33m,\u001b[0m \u001b[0mcolumns\u001b[0m\u001b[1;33m,\u001b[0m \u001b[0mdtype\u001b[0m\u001b[1;33m)\u001b[0m\u001b[1;33m\u001b[0m\u001b[1;33m\u001b[0m\u001b[0m\n\u001b[0m\u001b[0;32m    808\u001b[0m     \u001b[1;32mreturn\u001b[0m \u001b[0mcontent\u001b[0m\u001b[1;33m,\u001b[0m \u001b[0mcolumns\u001b[0m\u001b[1;33m\u001b[0m\u001b[1;33m\u001b[0m\u001b[0m\n\u001b[0;32m    809\u001b[0m \u001b[1;33m\u001b[0m\u001b[0m\n",
      "\u001b[1;32m~\\anaconda3\\lib\\site-packages\\pandas\\core\\internals\\construction.py\u001b[0m in \u001b[0;36m_finalize_columns_and_data\u001b[1;34m(content, columns, dtype)\u001b[0m\n\u001b[0;32m    907\u001b[0m     \u001b[1;32mexcept\u001b[0m \u001b[0mAssertionError\u001b[0m \u001b[1;32mas\u001b[0m \u001b[0merr\u001b[0m\u001b[1;33m:\u001b[0m\u001b[1;33m\u001b[0m\u001b[1;33m\u001b[0m\u001b[0m\n\u001b[0;32m    908\u001b[0m         \u001b[1;31m# GH#26429 do not raise user-facing AssertionError\u001b[0m\u001b[1;33m\u001b[0m\u001b[1;33m\u001b[0m\u001b[0m\n\u001b[1;32m--> 909\u001b[1;33m         \u001b[1;32mraise\u001b[0m \u001b[0mValueError\u001b[0m\u001b[1;33m(\u001b[0m\u001b[0merr\u001b[0m\u001b[1;33m)\u001b[0m \u001b[1;32mfrom\u001b[0m \u001b[0merr\u001b[0m\u001b[1;33m\u001b[0m\u001b[1;33m\u001b[0m\u001b[0m\n\u001b[0m\u001b[0;32m    910\u001b[0m \u001b[1;33m\u001b[0m\u001b[0m\n\u001b[0;32m    911\u001b[0m     \u001b[1;32mif\u001b[0m \u001b[0mlen\u001b[0m\u001b[1;33m(\u001b[0m\u001b[0mcontents\u001b[0m\u001b[1;33m)\u001b[0m \u001b[1;32mand\u001b[0m \u001b[0mcontents\u001b[0m\u001b[1;33m[\u001b[0m\u001b[1;36m0\u001b[0m\u001b[1;33m]\u001b[0m\u001b[1;33m.\u001b[0m\u001b[0mdtype\u001b[0m \u001b[1;33m==\u001b[0m \u001b[0mnp\u001b[0m\u001b[1;33m.\u001b[0m\u001b[0mobject_\u001b[0m\u001b[1;33m:\u001b[0m\u001b[1;33m\u001b[0m\u001b[1;33m\u001b[0m\u001b[0m\n",
      "\u001b[1;31mValueError\u001b[0m: 6 columns passed, passed data had 20 columns"
     ]
    }
   ],
   "source": [
    "data = pd.DataFrame(relax,columns = ['Name','Age','Percent','','',''])\n",
    "data = data.transpose()\n",
    "\n",
    "\n",
    "print(data)"
   ]
=======
    }
   ],
   "source": [
    "%%render\n",
    "\n",
    "## para fios lisos ou dentados:\n",
    "l_bpt1 = 0.7 * l_bp * sigma_p0/f_pyd\n",
    "\n",
    "## para cordoalhas de 3 e 7 fios:\n",
    "l_bpt2 = 0.5 * l_bp * sigma_p0/f_pyd\n",
    "\n",
    "## para transferência não gradual, os valores devem ser multiplicados por 1.25\n",
    "## valor adotado:\n",
    "\n",
    "l_bpt = 1.25 * l_bpt2\n"
   ]
  },
  {
   "cell_type": "markdown",
   "id": "4243c4d7",
   "metadata": {},
   "source": [
    "## 2.5 - Escalonamento da Protensão:"
   ]
  },
  {
   "cell_type": "code",
   "execution_count": 41,
   "id": "8457101b",
   "metadata": {},
   "outputs": [
    {
     "data": {
      "text/latex": [
       "\\[\n",
       "\\begin{aligned}\n",
       "\\mathrm{qntCordoalhas} &= [5,\\ 10,\\ 12] \\; \n",
       "\\\\[10pt]\n",
       "e_{p_{i}} &= [52,\\ 52,\\ 52] \\; \n",
       "\\end{aligned}\n",
       "\\]"
      ],
      "text/plain": [
       "<IPython.core.display.Latex object>"
      ]
     },
     "metadata": {},
     "output_type": "display_data"
    }
   ],
   "source": [
    "%%render\n",
    "\n",
    "# Vetor com o número de cordoalhas em cada ponto de escalonamento:\n",
    "\n",
    "qntCordoalhas = ( 5 , 10 , 12 )\n",
    "\n",
    "# Vetor com a excentricidade da protensão em cada ponto de escalonamento:\n",
    "\n",
    "e_p_i = [52,52,52]"
   ]
  },
  {
   "cell_type": "code",
   "execution_count": 37,
   "id": "9f36a3e8",
   "metadata": {},
   "outputs": [],
   "source": [
    "Areas_p = []\n",
    "\n",
    "for i in range(0,len(qntCordoalhas)):\n",
    "    Areas_p.append(vetorEscalonamento[i] * A_p1)"
   ]
  },
  {
   "cell_type": "code",
   "execution_count": 42,
   "id": "015a4024",
   "metadata": {},
   "outputs": [
    {
     "data": {
      "text/latex": [
       "\\[\n",
       "\\begin{aligned}\n",
       "\\mathrm{Areas}_{p} &= [7.15,\\ 14.3,\\ 17.16] \\; \n",
       "\\end{aligned}\n",
       "\\]"
      ],
      "text/plain": [
       "<IPython.core.display.Latex object>"
      ]
     },
     "metadata": {},
     "output_type": "display_data"
    }
   ],
   "source": [
    "%%render\n",
    "Areas_p"
   ]
  },
  {
   "cell_type": "code",
   "execution_count": null,
   "id": "90b515d4",
   "metadata": {},
   "outputs": [],
   "source": []
>>>>>>> 9354f0348eb8129900b42d484c71e14772e086bb
  }
 ],
 "metadata": {
  "kernelspec": {
   "display_name": "Python 3 (ipykernel)",
   "language": "python",
   "name": "python3"
  },
  "language_info": {
   "codemirror_mode": {
    "name": "ipython",
    "version": 3
   },
   "file_extension": ".py",
   "mimetype": "text/x-python",
   "name": "python",
   "nbconvert_exporter": "python",
   "pygments_lexer": "ipython3",
   "version": "3.9.7"
  }
 },
 "nbformat": 4,
 "nbformat_minor": 5
}
