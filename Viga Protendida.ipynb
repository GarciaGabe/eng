{
 "cells": [
  {
   "cell_type": "markdown",
   "id": "b6224006",
   "metadata": {},
   "source": [
    "# CÁLCULO DE VIGA PROTENDIDA - VP02\n",
    "\n",
    "**OBRA:** Carnetti Open Mall\n",
    "\n",
    "**Cliente:** JD Construções e Pré-Fabricados\n",
    "\n",
    "**Data:** 23/02/2022\n",
    "\n",
    "**Cálculo:** Gabriel\n",
    "\n",
    "\n",
    "Todas as grandezas apresentadas possuem como unidades base kN [força] e cm [comprimento]."
   ]
  },
  {
   "cell_type": "code",
   "execution_count": 1,
   "id": "36ead105",
   "metadata": {},
   "outputs": [],
   "source": [
    "import handcalcs.render\n",
    "import pandas as pd\n",
    "from math import floor,ceil,sqrt,exp\n",
    "from numpy import log\n",
    "\n",
    "def calcpsi(tensao):\n",
    "    if (tensao <= 0.5):\n",
    "        return 0\n",
    "    elif (tensao <= 0.6):\n",
    "        extra = tensao - 0.5\n",
    "        adicional = 13*extra\n",
    "        return (0+adicional)/100\n",
    "    elif (tensao <= 0.7):\n",
    "        extra = tensao - 0.6\n",
    "        adicional = 12*extra\n",
    "        return (1.3+adicional)/100\n",
    "    else:\n",
    "        extra = tensao - 0.7\n",
    "        adicional = 10*extra\n",
    "        return (2.5+adicional)/100\n",
    "    \n",
    "pi = 3.141592653"
   ]
  },
  {
   "cell_type": "markdown",
   "id": "0827d7c6",
   "metadata": {},
   "source": [
    "# Informações Iniciais:\n",
    "\n",
    "## Definição do EPS:"
   ]
  },
  {
   "cell_type": "code",
   "execution_count": 2,
   "id": "63f0a404",
   "metadata": {},
   "outputs": [],
   "source": [
    "h_eps = 70\n",
    "e_eps = 12"
   ]
  },
  {
   "cell_type": "markdown",
   "id": "dc46086c",
   "metadata": {},
   "source": [
    "## Geometria da Viga:"
   ]
  },
  {
   "cell_type": "code",
   "execution_count": 3,
   "id": "9ae2ffd6",
   "metadata": {},
   "outputs": [
    {
     "data": {
      "text/latex": [
       "\\[\n",
       "\\begin{aligned}\n",
       "h &= 120 \\; \n",
       "\\\\[10pt]\n",
       "b &= 30 \\; \n",
       "\\\\[10pt]\n",
       "\\mathrm{Area} &= b \\cdot h - e_{eps} \\cdot h_{eps}  = 30 \\cdot 120 - 12 \\cdot 70 &= 2760  \n",
       "\\\\[10pt]\n",
       "\\mathrm{Inercia} &= b \\cdot \\frac{ \\left( h \\right) ^{ 3 } }{ 12 } - e_{eps} \\cdot \\frac{ \\left( h_{eps} \\right) ^{ 3 } }{ 12 }  = 30 \\cdot \\frac{ \\left( 120 \\right) ^{ 3 } }{ 12 } - 12 \\cdot \\frac{ \\left( 70 \\right) ^{ 3 } }{ 12 } &= 3977000.0  \n",
       "\\\\[10pt]\n",
       "W_{i} &= \\frac{ \\mathrm{Inercia} }{ \\frac{ h }{ 2 } }  = \\frac{ 3977000.0 }{ \\frac{ 120 }{ 2 } } &= 66283.333  \n",
       "\\\\[10pt]\n",
       "W_{s} &= \\frac{ \\mathrm{Inercia} }{ \\frac{ h }{ 2 } }  = \\frac{ 3977000.0 }{ \\frac{ 120 }{ 2 } } &= 66283.333  \n",
       "\\\\[10pt]\n",
       "e_{p} &= 55 \\; \n",
       "\\\\[10pt]\n",
       "\\mathrm{Vao} &= 2391 \\; \n",
       "\\\\[10pt]\n",
       "& \\textrm{ Número de seções para dividir o vão:}\\\\[10pt]\n",
       "\\mathrm{nS} &= 101 \\; \n",
       "\\end{aligned}\n",
       "\\]"
      ],
      "text/plain": [
       "<IPython.core.display.Latex object>"
      ]
     },
     "metadata": {},
     "output_type": "display_data"
    }
   ],
   "source": [
    "%%render\n",
    "# Geometria da Viga:\n",
    "\n",
    "h = 120\n",
    "b = 30\n",
    "Area = b*h - e_eps*h_eps\n",
    "Inercia = b*h**3/12 - e_eps*h_eps**3/12\n",
    "W_i = Inercia/(h/2)\n",
    "W_s = Inercia/(h/2)\n",
    "e_p = 55\n",
    "Vao = 2391\n",
    "\n",
    "## Número de seções para dividir o vão:\n",
    "# Escolher número impar\n",
    "nS = 101"
   ]
  },
  {
   "cell_type": "markdown",
   "id": "14134ea3",
   "metadata": {},
   "source": [
    "## Propriedades dos Materiais:"
   ]
  },
  {
   "cell_type": "code",
   "execution_count": 4,
   "id": "a7d62aa8",
   "metadata": {},
   "outputs": [
    {
     "data": {
      "text/latex": [
       "\\[\n",
       "\\begin{aligned}\n",
       "f_{ck} &= 4 \\; \n",
       "\\\\[10pt]\n",
       "f_{ctm} &= 0.03 \\cdot \\left( 10 \\cdot f_{ck} \\right) ^{ \\left( \\frac{ 2 }{ 3 } \\right) }  = 0.03 \\cdot \\left( 10 \\cdot 4 \\right) ^{ \\left( \\frac{ 2 }{ 3 } \\right) } &= 3.509 \\times 10 ^ {-1 }  \n",
       "\\\\[10pt]\n",
       "f_{ptk} &= 190 \\; \n",
       "\\\\[10pt]\n",
       "f_{pyd} &= 148.7 \\; \n",
       "\\\\[10pt]\n",
       "f_{yk} &= 50 \\; \n",
       "\\\\[10pt]\n",
       "f_{cj} &= 3.2 \\; \n",
       "\\\\[10pt]\n",
       "E_{s} &= 21000 \\; \n",
       "\\\\[10pt]\n",
       "E_{p} &= 20000 \\; \n",
       "\\end{aligned}\n",
       "\\]"
      ],
      "text/plain": [
       "<IPython.core.display.Latex object>"
      ]
     },
     "metadata": {},
     "output_type": "display_data"
    }
   ],
   "source": [
    "%%render\n",
    "# Propriedades dos Materiais:\n",
    "\n",
    "f_ck = 4\n",
    "f_ctm = 0.03*(10*f_ck)**(2/3)\n",
    "f_ptk = 190\n",
    "f_pyd = 148.7\n",
    "f_yk = 50\n",
    "f_cj = 3.2\n",
    "\n",
    "E_s = 21000\n",
    "E_p = 20000"
   ]
  },
  {
   "cell_type": "code",
   "execution_count": 5,
   "id": "3fecd76f",
   "metadata": {},
   "outputs": [
    {
     "data": {
      "text/latex": [
       "\\[\n",
       "\\begin{aligned}\n",
       "f_{c} &= f_{ck} \\cdot \\frac{ 0.85 }{ 1.4 }  = 4 \\cdot \\frac{ 0.85 }{ 1.4 } &= 2.43  \n",
       "\\\\[10pt]\n",
       "E_{ci} &= 560 \\cdot \\left( f_{ck} \\cdot 10 \\right) ^{ \\left( \\frac{ 1 }{ 2 } \\right) }  = 560 \\cdot \\left( 4 \\cdot 10 \\right) ^{ \\left( \\frac{ 1 }{ 2 } \\right) } &= 3541.75  \n",
       "\\\\[10pt]\n",
       "E_{cs} &= E_{ci} \\cdot \\left( 0.8 + 0.2 \\cdot \\frac{ f_{ck} }{ 8 } \\right)  = 3541.75 \\cdot \\left( 0.8 + 0.2 \\cdot \\frac{ 4 }{ 8 } \\right) &= 3187.58  \n",
       "\\\\[10pt]\n",
       "E_{cit0} &= \\left( \\frac{ f_{cj} }{ f_{ck} } \\right) ^{ \\left( \\frac{ 1 }{ 2 } \\right) } \\cdot E_{ci}  = \\left( \\frac{ 3.2 }{ 4 } \\right) ^{ \\left( \\frac{ 1 }{ 2 } \\right) } \\cdot 3541.75 &= 3167.84  \n",
       "\\\\[10pt]\n",
       "E_{cst0} &= E_{cit0} \\cdot \\left( 0.8 + 0.2 \\cdot \\frac{ f_{cj} }{ 8 } \\right)  = 3167.84 \\cdot \\left( 0.8 + 0.2 \\cdot \\frac{ 3.2 }{ 8 } \\right) &= 2787.7  \n",
       "\\\\[10pt]\n",
       "f_{yd} &= \\frac{ f_{yk} }{ 1.15 }  = \\frac{ 50 }{ 1.15 } &= 43.48  \n",
       "\\\\[10pt]\n",
       "\\sigma_{p0} &= 0.8 \\cdot f_{ptk}  = 0.8 \\cdot 190 &= 152.0  \n",
       "\\end{aligned}\n",
       "\\]"
      ],
      "text/plain": [
       "<IPython.core.display.Latex object>"
      ]
     },
     "metadata": {},
     "output_type": "display_data"
    }
   ],
   "source": [
    "%%render 2 short\n",
    "\n",
    "f_c = f_ck*0.85/1.4\n",
    "E_ci = 560*(f_ck*10)**(1/2)\n",
    "E_cs = E_ci*(0.8+0.2*f_ck/8)\n",
    "\n",
    "E_cit0 = (f_cj/f_ck)**(1/2)*E_ci\n",
    "E_cst0 = E_cit0*(0.8+0.2*f_cj/8)\n",
    "\n",
    "f_yd = f_yk/1.15\n",
    "sigma_p0 = 0.8*f_ptk"
   ]
  },
  {
   "cell_type": "markdown",
   "id": "3d992512",
   "metadata": {},
   "source": [
    "## Carregamentos:"
   ]
  },
  {
   "cell_type": "code",
   "execution_count": 6,
   "id": "d578be19",
   "metadata": {
    "scrolled": true
   },
   "outputs": [
    {
     "data": {
      "text/latex": [
       "\\[\n",
       "\\begin{aligned}\n",
       "Q_{t0} &= 0.000025 \\cdot \\mathrm{Area}  = 0.000025 \\cdot 2760 &= 6.90 \\times 10 ^ {-2 }  \n",
       "\\\\[10pt]\n",
       "Q_{tF} &= 1.56 \\times 10 ^ {-1 } \\; \n",
       "\\end{aligned}\n",
       "\\]"
      ],
      "text/plain": [
       "<IPython.core.display.Latex object>"
      ]
     },
     "metadata": {},
     "output_type": "display_data"
    }
   ],
   "source": [
    "%%render 2 short\n",
    "\n",
    "Q_t0 = 0.000025*Area\n",
    "Q_tF = 0.156\n",
    "\n"
   ]
  },
  {
   "cell_type": "markdown",
   "id": "c82c1fa3",
   "metadata": {},
   "source": [
    "## Esforços no Centro do Vão:"
   ]
  },
  {
   "cell_type": "code",
   "execution_count": 7,
   "id": "21d314b4",
   "metadata": {},
   "outputs": [
    {
     "data": {
      "text/latex": [
       "\\[\n",
       "\\begin{aligned}\n",
       "M_{F} &= Q_{tF} \\cdot \\left( \\mathrm{Vao} \\right) ^{ 2 } \\cdot 0.125  = 1.56 \\times 10 ^ {-1 } \\cdot \\left( 2391 \\right) ^{ 2 } \\cdot 0.125 &= 111479.18  \n",
       "\\\\[10pt]\n",
       "M_{0} &= Q_{t0} \\cdot \\left( \\mathrm{Vao} \\right) ^{ 2 } \\cdot 0.125  = 6.90 \\times 10 ^ {-2 } \\cdot \\left( 2391 \\right) ^{ 2 } \\cdot 0.125 &= 49308.1  \n",
       "\\\\[10pt]\n",
       "V_{F} &= Q_{tF} \\cdot \\frac{ \\mathrm{Vao} }{ 2 }  = 1.56 \\times 10 ^ {-1 } \\cdot \\frac{ 2391 }{ 2 } &= 186.5  \n",
       "\\end{aligned}\n",
       "\\]"
      ],
      "text/plain": [
       "<IPython.core.display.Latex object>"
      ]
     },
     "metadata": {},
     "output_type": "display_data"
    }
   ],
   "source": [
    "%%render 2 short\n",
    "M_F = (Q_tF)*Vao**2*0.125\n",
    "M_0 = (Q_t0)*Vao**2*0.125\n",
    "V_F = (Q_tF)*Vao/2"
   ]
  },
  {
   "cell_type": "markdown",
   "id": "9b0ada7b",
   "metadata": {},
   "source": [
    "# Deteminação da Força de Protensão:\n",
    "\n",
    "## Limites de Tensão:"
   ]
  },
  {
   "cell_type": "code",
   "execution_count": 8,
   "id": "9b94d2e4",
   "metadata": {
    "scrolled": true
   },
   "outputs": [
    {
     "data": {
      "text/latex": [
       "\\[\n",
       "\\begin{aligned}\n",
       "\\sigma_{ct0} &= \\left( - 1.2 \\right) \\cdot 0.03 \\cdot \\left( f_{cj} \\cdot 10 \\right) ^{ \\left( \\frac{ 2 }{ 3 } \\right) }  = \\left( - 1.2 \\right) \\cdot 0.03 \\cdot \\left( 3.2 \\cdot 10 \\right) ^{ \\left( \\frac{ 2 }{ 3 } \\right) } &= -3.629 \\times 10 ^ {-1 }  \n",
       "\\\\[10pt]\n",
       "\\sigma_{cc0} &= 0.7 \\cdot f_{cj}  = 0.7 \\cdot 3.2 &= 2.24  \n",
       "\\\\[10pt]\n",
       "\\sigma_{ctF} &= \\left( - 1.2 \\right) \\cdot 0.03 \\cdot \\left( f_{ck} \\cdot 10 \\right) ^{ \\left( \\frac{ 2 }{ 3 } \\right) }  = \\left( - 1.2 \\right) \\cdot 0.03 \\cdot \\left( 4 \\cdot 10 \\right) ^{ \\left( \\frac{ 2 }{ 3 } \\right) } &= -4.211 \\times 10 ^ {-1 }  \n",
       "\\\\[10pt]\n",
       "\\sigma_{ccF} &= 0.5 \\cdot f_{ck}  = 0.5 \\cdot 4 &= 2.0  \n",
       "\\\\[10pt]\n",
       "r_{0} &= 0.95 \\; \n",
       "\\\\[10pt]\n",
       "r_{F} &= 0.8 \\; \n",
       "\\end{aligned}\n",
       "\\]"
      ],
      "text/plain": [
       "<IPython.core.display.Latex object>"
      ]
     },
     "metadata": {},
     "output_type": "display_data"
    }
   ],
   "source": [
    "%%render short\n",
    "\n",
    "sigma_ct0 = -1.2*0.03*(f_cj*10)**(2/3)\n",
    "sigma_cc0 = 0.7*f_cj\n",
    "sigma_ctF = -1.2*0.03*(f_ck*10)**(2/3)\n",
    "sigma_ccF = 0.5*f_ck\n",
    "\n",
    "r_0 = 0.95\n",
    "r_F = 0.80"
   ]
  },
  {
   "cell_type": "markdown",
   "id": "01901b13",
   "metadata": {},
   "source": [
    "## Cálculo da Força de Protensão:"
   ]
  },
  {
   "cell_type": "code",
   "execution_count": 9,
   "id": "654ce266",
   "metadata": {},
   "outputs": [
    {
     "data": {
      "text/latex": [
       "\\[\n",
       "\\begin{aligned}\n",
       "P_{1} &= \\frac{ \\sigma_{cc0} + \\frac{ M_{0} }{ W_{i} } }{ r_{0} \\cdot \\left( \\frac{ 1 }{ \\mathrm{Area} } + \\frac{ e_{p} }{ W_{i} } \\right) }  = \\frac{ 2.24 + \\frac{ 49308.1 }{ 66283.33 } }{ 0.95 \\cdot \\left( \\frac{ 1 }{ 2760 } + \\frac{ 55 }{ 66283.33 } \\right) } &= 2634.82  \n",
       "\\\\[10pt]\n",
       "P_{2} &= \\frac{ \\sigma_{ct0} - \\frac{ M_{0} }{ W_{s} } }{ r_{0} \\cdot \\left( \\frac{ 1 }{ \\mathrm{Area} } - \\frac{ e_{p} }{ W_{s} } \\right) }  = \\frac{ -3.63 \\times 10 ^ {-1 } - \\frac{ 49308.1 }{ 66283.33 } }{ 0.95 \\cdot \\left( \\frac{ 1 }{ 2760 } - \\frac{ 55 }{ 66283.33 } \\right) } &= 2492.25  \n",
       "\\\\[10pt]\n",
       "P_{3} &= \\frac{ \\sigma_{ctF} + \\frac{ M_{F} }{ W_{i} } }{ r_{F} \\cdot \\left( \\frac{ 1 }{ \\mathrm{Area} } + \\frac{ e_{p} }{ W_{i} } \\right) }  = \\frac{ -4.21 \\times 10 ^ {-1 } + \\frac{ 111479.18 }{ 66283.33 } }{ 0.8 \\cdot \\left( \\frac{ 1 }{ 2760 } + \\frac{ 55 }{ 66283.33 } \\right) } &= 1322.05  \n",
       "\\\\[10pt]\n",
       "P_{4} &= \\frac{ \\sigma_{ccF} - \\frac{ M_{F} }{ W_{s} } }{ r_{F} \\cdot \\left( \\frac{ 1 }{ \\mathrm{Area} } - \\frac{ e_{p} }{ W_{s} } \\right) }  = \\frac{ 2.0 - \\frac{ 111479.18 }{ 66283.33 } }{ 0.8 \\cdot \\left( \\frac{ 1 }{ 2760 } - \\frac{ 55 }{ 66283.33 } \\right) } &= -850.73  \n",
       "\\\\[10pt]\n",
       "& \\textrm{Adotar valores entre:}\\\\[10pt]\n",
       "P_{min} &= \\operatorname{max} { \\left( P_{3} ,\\  P_{4} \\right) }  = \\operatorname{max} { \\left( 1322.05 ,\\  -850.73 \\right) } &= 1322.05  \n",
       "\\\\[10pt]\n",
       "P_{max} &= \\operatorname{min} { \\left( P_{1} ,\\  P_{2} \\right) }  = \\operatorname{min} { \\left( 2634.82 ,\\  2492.25 \\right) } &= 2492.25  \n",
       "\\end{aligned}\n",
       "\\]"
      ],
      "text/plain": [
       "<IPython.core.display.Latex object>"
      ]
     },
     "metadata": {},
     "output_type": "display_data"
    }
   ],
   "source": [
    "%%render short 2\n",
    "\n",
    "P_1 = (sigma_cc0+M_0/W_i)/(r_0*(1/Area + e_p/W_i)) \n",
    "P_2 = (sigma_ct0-M_0/W_s)/(r_0*(1/Area - e_p/W_s)) \n",
    "P_3 = (sigma_ctF+M_F/W_i)/(r_F*(1/Area + e_p/W_i))\n",
    "P_4 = (sigma_ccF-M_F/W_s)/(r_F*(1/Area - e_p/W_s))\n",
    "\n",
    "\n",
    "##Adotar valores entre:\n",
    "P_min = max(P_3, P_4)\n",
    "P_max = min(P_1, P_2)\n"
   ]
  },
  {
   "cell_type": "markdown",
   "id": "f125dec8",
   "metadata": {},
   "source": [
    "## Escolha da Protensão:"
   ]
  },
  {
   "cell_type": "code",
   "execution_count": 10,
   "id": "1643d970",
   "metadata": {},
   "outputs": [
    {
     "data": {
      "text/latex": [
       "\\[\n",
       "\\begin{aligned}\n",
       "P &= 2492.25 \\; \n",
       "\\\\[10pt]\n",
       "\\phi_{1} &= 1.52 \\; \n",
       "\\\\[10pt]\n",
       "A_{p1} &= 1.4 \\; \n",
       "\\\\[10pt]\n",
       "& \\textrm{ Número de cordoalhas para adotar:}\\\\[10pt]\n",
       "n &= \\left \\lfloor \\frac{ P }{ A_{p1} \\cdot \\sigma_{p0} } \\right \\rfloor  = \\left \\lfloor \\frac{ 2492.25 }{ 1.4 \\cdot 152.0 } \\right \\rfloor &= 11  \n",
       "\\end{aligned}\n",
       "\\]"
      ],
      "text/plain": [
       "<IPython.core.display.Latex object>"
      ]
     },
     "metadata": {},
     "output_type": "display_data"
    }
   ],
   "source": [
    "%%render 2\n",
    "# Força de Protensão Adotada:\n",
    "\n",
    "P = P_max\n",
    "phi_1 = 1.52\n",
    "A_p1 = 1.40\n",
    "\n",
    "## Número de cordoalhas para adotar:\n",
    "n = floor(P/(A_p1*sigma_p0))"
   ]
  },
  {
   "cell_type": "markdown",
   "id": "08fc61b2",
   "metadata": {},
   "source": [
    "## Ancoragem das Cordoalhas:\n",
    "\n",
    "### Comprimento de Ancoragem Básico:"
   ]
  },
  {
   "cell_type": "code",
   "execution_count": 11,
   "id": "20d2c7ff",
   "metadata": {},
   "outputs": [
    {
     "data": {
      "text/latex": [
       "\\[\n",
       "\\begin{aligned}\n",
       "f_{pyd} &= 0.9 \\cdot \\frac{ f_{ptk} }{ 1.15 }  = 0.9 \\cdot \\frac{ 190 }{ 1.15 } &= 148.696  \n",
       "\\\\[10pt]\n",
       "\\eta_{p1} &= 1.2 \\; \n",
       "\\\\[10pt]\n",
       "\\eta_{p2} &= 1.0 \\; \n",
       "\\\\[10pt]\n",
       "f_{ctd} &= \\frac{ 0.7 \\cdot 0.03 \\cdot \\left( f_{cj} \\cdot 10 \\right) ^{ \\left( \\frac{ 2 }{ 3 } \\right) } }{ 1.4 }  = \\frac{ 0.7 \\cdot 0.03 \\cdot \\left( 3.2 \\cdot 10 \\right) ^{ \\left( \\frac{ 2 }{ 3 } \\right) } }{ 1.4 } &= 1.512 \\times 10 ^ {-1 }  \n",
       "\\\\[10pt]\n",
       "f_{bpd} &= \\eta_{p1} \\cdot \\eta_{p2} \\cdot f_{ctd}  = 1.2 \\cdot 1.0 \\cdot 1.512 \\times 10 ^ {-1 } &= 1.814 \\times 10 ^ {-1 }  \n",
       "\\\\[10pt]\n",
       "l_{bp} &= \\frac{ 7 \\cdot \\phi_{1} }{ 36 } \\cdot \\frac{ f_{pyd} }{ f_{bpd} }  = \\frac{ 7 \\cdot 1.52 }{ 36 } \\cdot \\frac{ 148.696 }{ 1.814 \\times 10 ^ {-1 } } &= 242.232  \n",
       "\\end{aligned}\n",
       "\\]"
      ],
      "text/plain": [
       "<IPython.core.display.Latex object>"
      ]
     },
     "metadata": {},
     "output_type": "display_data"
    }
   ],
   "source": [
    "%%render short\n",
    "f_pyd = 0.9* f_ptk / 1.15\n",
    "\n",
    "eta_p1 = 1.2\n",
    "\n",
    "# Valores de Eta_p1:\n",
    "#     \n",
    "#     1.0 para fios lisos\n",
    "#     1.2 para cordoalhas de 3 e 7 fios\n",
    "#     1.5 para fios dentados\n",
    "\n",
    "eta_p2 = 1.0\n",
    "\n",
    "# Valores de Eta_p2:\n",
    "#     \n",
    "#     1.0 para situação de boa aderência\n",
    "#     0.7 para situação de má aderência\n",
    "\n",
    "f_ctd = (0.7*0.03*(f_cj*10)**(2/3))/1.4\n",
    "f_bpd = eta_p1 * eta_p2 * f_ctd\n",
    "\n",
    "l_bp = (7*phi_1)/36 * f_pyd/f_bpd"
   ]
  },
  {
   "cell_type": "markdown",
   "id": "a58b5804",
   "metadata": {},
   "source": [
    "### Cálculo do comprimento de Transferência:"
   ]
  },
  {
   "cell_type": "code",
   "execution_count": 12,
   "id": "d61ba68b",
   "metadata": {},
   "outputs": [
    {
     "data": {
      "text/latex": [
       "\\[\n",
       "\\begin{aligned}\n",
       "& \\textrm{ para fios lisos ou dentados:}\\\\[10pt]\n",
       "l_{bpt1} &= 0.7 \\cdot l_{bp} \\cdot \\frac{ \\sigma_{p0} }{ f_{pyd} }  = 0.7 \\cdot 242.232 \\cdot \\frac{ 152.0 }{ 148.696 } &= 173.33  \n",
       "\\\\[10pt]\n",
       "& \\textrm{ para cordoalhas de 3 e 7 fios:}\\\\[10pt]\n",
       "l_{bpt2} &= 0.5 \\cdot l_{bp} \\cdot \\frac{ \\sigma_{p0} }{ f_{pyd} }  = 0.5 \\cdot 242.232 \\cdot \\frac{ 152.0 }{ 148.696 } &= 123.807  \n",
       "\\\\[10pt]\n",
       "& \\textrm{ para transferência não gradual, os valores devem ser multiplicados por 1.25}\\\\[10pt]\n",
       "& \\textrm{ valor adotado:}\\\\[10pt]\n",
       "l_{bpt} &= 1.25 \\cdot l_{bpt2}  = 1.25 \\cdot 123.807 &= 154.759  \n",
       "\\\\[10pt]\n",
       "l_{p} &= \\left( \\left( h \\right) ^{ 2 } + \\left( 0.6 \\cdot l_{bpt} \\right) ^{ 2 } \\right) ^{ 0.5 }  = \\left( \\left( 120 \\right) ^{ 2 } + \\left( 0.6 \\cdot 154.759 \\right) ^{ 2 } \\right) ^{ 0.5 } &= 151.731  \n",
       "\\end{aligned}\n",
       "\\]"
      ],
      "text/plain": [
       "<IPython.core.display.Latex object>"
      ]
     },
     "metadata": {},
     "output_type": "display_data"
    }
   ],
   "source": [
    "%%render short\n",
    "\n",
    "## para fios lisos ou dentados:\n",
    "l_bpt1 = 0.7 * l_bp * sigma_p0/f_pyd\n",
    "\n",
    "## para cordoalhas de 3 e 7 fios:\n",
    "l_bpt2 = 0.5 * l_bp * sigma_p0/f_pyd\n",
    "\n",
    "## para transferência não gradual, os valores devem ser multiplicados por 1.25\n",
    "## valor adotado:\n",
    "\n",
    "l_bpt = 1.25 * l_bpt2\n",
    "\n",
    "l_p = (h**2 + (0.6*l_bpt)**2)**(0.5)\n"
   ]
  },
  {
   "cell_type": "markdown",
   "id": "9db35554",
   "metadata": {},
   "source": [
    "#  Esforços nas Seções:\n",
    "\n",
    "## Momento Fletor e Cortante:"
   ]
  },
  {
   "cell_type": "code",
   "execution_count": 13,
   "id": "e615317a",
   "metadata": {},
   "outputs": [
    {
     "data": {
      "text/html": [
       "<div>\n",
       "<style scoped>\n",
       "    .dataframe tbody tr th:only-of-type {\n",
       "        vertical-align: middle;\n",
       "    }\n",
       "\n",
       "    .dataframe tbody tr th {\n",
       "        vertical-align: top;\n",
       "    }\n",
       "\n",
       "    .dataframe thead th {\n",
       "        text-align: right;\n",
       "    }\n",
       "</style>\n",
       "<table border=\"1\" class=\"dataframe\">\n",
       "  <thead>\n",
       "    <tr style=\"text-align: right;\">\n",
       "      <th></th>\n",
       "      <th>Pos (cm)</th>\n",
       "      <th>M (kNcm)</th>\n",
       "      <th>V (kN)</th>\n",
       "    </tr>\n",
       "  </thead>\n",
       "  <tbody>\n",
       "    <tr>\n",
       "      <th>0</th>\n",
       "      <td>0.0</td>\n",
       "      <td>0.0</td>\n",
       "      <td>186.5</td>\n",
       "    </tr>\n",
       "    <tr>\n",
       "      <th>1</th>\n",
       "      <td>23.9</td>\n",
       "      <td>4412.7</td>\n",
       "      <td>182.8</td>\n",
       "    </tr>\n",
       "    <tr>\n",
       "      <th>2</th>\n",
       "      <td>47.8</td>\n",
       "      <td>8736.4</td>\n",
       "      <td>179.0</td>\n",
       "    </tr>\n",
       "    <tr>\n",
       "      <th>3</th>\n",
       "      <td>71.7</td>\n",
       "      <td>12970.9</td>\n",
       "      <td>175.3</td>\n",
       "    </tr>\n",
       "    <tr>\n",
       "      <th>4</th>\n",
       "      <td>95.6</td>\n",
       "      <td>17116.3</td>\n",
       "      <td>171.6</td>\n",
       "    </tr>\n",
       "    <tr>\n",
       "      <th>...</th>\n",
       "      <td>...</td>\n",
       "      <td>...</td>\n",
       "      <td>...</td>\n",
       "    </tr>\n",
       "    <tr>\n",
       "      <th>96</th>\n",
       "      <td>2295.4</td>\n",
       "      <td>17116.3</td>\n",
       "      <td>-171.6</td>\n",
       "    </tr>\n",
       "    <tr>\n",
       "      <th>97</th>\n",
       "      <td>2319.3</td>\n",
       "      <td>12970.9</td>\n",
       "      <td>-175.3</td>\n",
       "    </tr>\n",
       "    <tr>\n",
       "      <th>98</th>\n",
       "      <td>2343.2</td>\n",
       "      <td>8736.4</td>\n",
       "      <td>-179.0</td>\n",
       "    </tr>\n",
       "    <tr>\n",
       "      <th>99</th>\n",
       "      <td>2367.1</td>\n",
       "      <td>4412.7</td>\n",
       "      <td>-182.8</td>\n",
       "    </tr>\n",
       "    <tr>\n",
       "      <th>100</th>\n",
       "      <td>2391.0</td>\n",
       "      <td>0.0</td>\n",
       "      <td>-186.5</td>\n",
       "    </tr>\n",
       "  </tbody>\n",
       "</table>\n",
       "<p>101 rows × 3 columns</p>\n",
       "</div>"
      ],
      "text/plain": [
       "     Pos (cm)  M (kNcm)  V (kN)\n",
       "0         0.0       0.0   186.5\n",
       "1        23.9    4412.7   182.8\n",
       "2        47.8    8736.4   179.0\n",
       "3        71.7   12970.9   175.3\n",
       "4        95.6   17116.3   171.6\n",
       "..        ...       ...     ...\n",
       "96     2295.4   17116.3  -171.6\n",
       "97     2319.3   12970.9  -175.3\n",
       "98     2343.2    8736.4  -179.0\n",
       "99     2367.1    4412.7  -182.8\n",
       "100    2391.0       0.0  -186.5\n",
       "\n",
       "[101 rows x 3 columns]"
      ]
     },
     "metadata": {},
     "output_type": "display_data"
    }
   ],
   "source": [
    "esforcos = []\n",
    "for i in range(3):\n",
    "    esforcos.append( [0]*(nS) )\n",
    "    \n",
    "# primeiro vetor contem X (cm)\n",
    "# segundo vetor contem Momentos (kNcm)\n",
    "# terceiro vetor contém cortante (kN)\n",
    "\n",
    "for i in range(nS):\n",
    "    esforcos[0][i] = round(i*(Vao/(nS-1)),1)\n",
    "    esforcos[1][i] = round( 0.5*Q_tF*esforcos[0][i]*(Vao-esforcos[0][i]) ,1)\n",
    "    esforcos[2][i] = round( 0.5*Q_tF*(Vao-2*esforcos[0][i]), 1 )\n",
    "    \n",
    "tabela = pd.DataFrame(esforcos)\n",
    "tabela = tabela.transpose()\n",
    "tabela.rename(columns={0:'Pos (cm)',1:'M (kNcm)',2:'V (kN)'},inplace = True)\n",
    "display(tabela)"
   ]
  },
  {
   "cell_type": "markdown",
   "id": "72990506",
   "metadata": {},
   "source": [
    "# Escalonamento da Protensão:\n",
    "\n",
    "## Limites de Tensão na Seção S1:\n",
    "\n",
    "São testados os limites de tensão para t0:\n",
    "\n",
    "Limitação pela borda superior:"
   ]
  },
  {
   "cell_type": "code",
   "execution_count": 14,
   "id": "12477f6f",
   "metadata": {},
   "outputs": [
    {
     "data": {
      "text/latex": [
       "\\[\n",
       "\\begin{aligned}\n",
       "M_{s1} &= 1951.8 \\; \n",
       "\\\\[10pt]\n",
       "P_{1} &= \\frac{ \\sigma_{cc0} + \\frac{ M_{s1} }{ W_{i} } }{ r_{0} \\cdot \\left( \\frac{ 1 }{ \\mathrm{Area} } + \\frac{ e_{p} }{ W_{i} } \\right) }  = \\frac{ 2.24 + \\frac{ 1951.8 }{ 66283.333 } }{ 0.95 \\cdot \\left( \\frac{ 1 }{ 2760 } + \\frac{ 55 }{ 66283.333 } \\right) } &= 2003.952  \n",
       "\\\\[10pt]\n",
       "P_{2} &= \\frac{ \\sigma_{ct0} - \\frac{ M_{s1} }{ W_{s} } }{ r_{0} \\cdot \\left( \\frac{ 1 }{ \\mathrm{Area} } - \\frac{ e_{p} }{ W_{s} } \\right) }  = \\frac{ -3.629 \\times 10 ^ {-1 } - \\frac{ 1951.8 }{ 66283.333 } }{ 0.95 \\cdot \\left( \\frac{ 1 }{ 2760 } - \\frac{ 55 }{ 66283.333 } \\right) } &= 883.408  \n",
       "\\end{aligned}\n",
       "\\]"
      ],
      "text/plain": [
       "<IPython.core.display.Latex object>"
      ]
     },
     "metadata": {},
     "output_type": "display_data"
    }
   ],
   "source": [
    "%%render short\n",
    "\n",
    "M_s1 = round( 0.5*Q_t0*esforcos[0][1]*(Vao-esforcos[0][1]) ,1)\n",
    "P_1 = (sigma_cc0+M_s1/W_i)/(r_0*(1/Area + e_p/W_i))\n",
    "P_2 = (sigma_ct0-M_s1/W_s)/(r_0*(1/Area - e_p/W_s))\n"
   ]
  },
  {
   "cell_type": "code",
   "execution_count": 15,
   "id": "f0d85e33",
   "metadata": {},
   "outputs": [
    {
     "data": {
      "text/latex": [
       "\\[\n",
       "\\begin{aligned}\n",
       "P_{s1} &= \\operatorname{min} { \\left( P_{1} ,\\  P_{2} \\right) }  = \\operatorname{min} { \\left( 2004.0 ,\\  883.4 \\right) } &= 883.4  \n",
       "\\\\[10pt]\n",
       "n_{s1} &= \\left \\lfloor \\frac{ P_{s1} }{ A_{p1} \\cdot \\sigma_{p0} } \\right \\rfloor  = \\left \\lfloor \\frac{ 883.4 }{ 1.4 \\cdot 152.0 } \\right \\rfloor &= 4  \n",
       "\\end{aligned}\n",
       "\\]"
      ],
      "text/plain": [
       "<IPython.core.display.Latex object>"
      ]
     },
     "metadata": {},
     "output_type": "display_data"
    }
   ],
   "source": [
    "%%render 1\n",
    "\n",
    "P_s1 = min(P_1 , P_2)\n",
    "\n",
    "n_s1 = floor(P_s1/(A_p1*sigma_p0))\n"
   ]
  },
  {
   "cell_type": "markdown",
   "id": "fc122191",
   "metadata": {},
   "source": [
    "## Escolha do Número de Cordoalhas:"
   ]
  },
  {
   "cell_type": "code",
   "execution_count": 16,
   "id": "e9c685e3",
   "metadata": {
    "scrolled": false
   },
   "outputs": [
    {
     "data": {
      "text/latex": [
       "\\[\n",
       "\\begin{aligned}\n",
       "\\mathrm{qntCordoalhas} &= [5,\\ 10] \\; \n",
       "\\\\[10pt]\n",
       "e_{p_{i}} &= [55,\\ 52.5] \\; \n",
       "\\end{aligned}\n",
       "\\]"
      ],
      "text/plain": [
       "<IPython.core.display.Latex object>"
      ]
     },
     "metadata": {},
     "output_type": "display_data"
    }
   ],
   "source": [
    "%%render\n",
    "\n",
    "# Vetor com o número de cordoalhas em cada ponto de escalonamento:\n",
    "\n",
    "qntCordoalhas = (5,10)\n",
    "\n",
    "# Vetor com a excentricidade da protensão em cada ponto de escalonamento:\n",
    "\n",
    "e_p_i = [55,52.5]"
   ]
  },
  {
   "cell_type": "markdown",
   "id": "7b042987",
   "metadata": {},
   "source": [
    "# Esforços Devidos À Protensão:"
   ]
  },
  {
   "cell_type": "code",
   "execution_count": 17,
   "id": "960e77a5",
   "metadata": {},
   "outputs": [
    {
     "data": {
      "text/html": [
       "<div>\n",
       "<style scoped>\n",
       "    .dataframe tbody tr th:only-of-type {\n",
       "        vertical-align: middle;\n",
       "    }\n",
       "\n",
       "    .dataframe tbody tr th {\n",
       "        vertical-align: top;\n",
       "    }\n",
       "\n",
       "    .dataframe thead th {\n",
       "        text-align: right;\n",
       "    }\n",
       "</style>\n",
       "<table border=\"1\" class=\"dataframe\">\n",
       "  <thead>\n",
       "    <tr style=\"text-align: right;\">\n",
       "      <th></th>\n",
       "      <th>Ap</th>\n",
       "      <th>Wcp</th>\n",
       "      <th>Kp0</th>\n",
       "      <th>Sigma,p</th>\n",
       "      <th>Np</th>\n",
       "      <th>Mp</th>\n",
       "    </tr>\n",
       "  </thead>\n",
       "  <tbody>\n",
       "    <tr>\n",
       "      <th>0</th>\n",
       "      <td>7.0</td>\n",
       "      <td>72309.0</td>\n",
       "      <td>0.0564</td>\n",
       "      <td>143.88</td>\n",
       "      <td>-1007.2</td>\n",
       "      <td>-55396.0</td>\n",
       "    </tr>\n",
       "    <tr>\n",
       "      <th>1</th>\n",
       "      <td>14.0</td>\n",
       "      <td>75752.0</td>\n",
       "      <td>0.1060</td>\n",
       "      <td>137.43</td>\n",
       "      <td>-1924.0</td>\n",
       "      <td>-101010.0</td>\n",
       "    </tr>\n",
       "  </tbody>\n",
       "</table>\n",
       "</div>"
      ],
      "text/plain": [
       "     Ap      Wcp     Kp0  Sigma,p      Np        Mp\n",
       "0   7.0  72309.0  0.0564   143.88 -1007.2  -55396.0\n",
       "1  14.0  75752.0  0.1060   137.43 -1924.0 -101010.0"
      ]
     },
     "metadata": {},
     "output_type": "display_data"
    }
   ],
   "source": [
    "A_p = []\n",
    "\n",
    "for i in range(len(qntCordoalhas)):\n",
    "    A_p.append(qntCordoalhas[i] * A_p1)\n",
    "\n",
    "W_cp = []\n",
    "\n",
    "for i in range(len(qntCordoalhas)):\n",
    "    W_cp.append(round(Inercia/e_p_i[i],0))\n",
    "    \n",
    "alpha_p0 = E_p / E_cst0\n",
    "\n",
    "K_p0 = []\n",
    "for i in range(len(qntCordoalhas)):\n",
    "    K_p0.append(round(alpha_p0*A_p[i]*(1/Area+e_p_i[i]/W_cp[i]),4))\n",
    "    \n",
    "sigma_p = []\n",
    "for i in range(len(qntCordoalhas)):\n",
    "    sigma_p.append(round(sigma_p0/(1+K_p0[i]),2))\n",
    "    \n",
    "N_p = []\n",
    "for i in range(len(qntCordoalhas)):\n",
    "    N_p.append(round(-sigma_p[i]*A_p[i],1))\n",
    "    \n",
    "M_p = []\n",
    "for i in range(len(qntCordoalhas)):\n",
    "    M_p.append(round(N_p[i]*e_p_i[i],1))\n",
    "    \n",
    "tabela1 = pd.DataFrame([A_p, W_cp, K_p0, sigma_p, N_p, M_p])\n",
    "tabela1 = tabela1.transpose()\n",
    "tabela1.rename(columns={0:'Ap',1:'Wcp',2:'Kp0',3:'Sigma,p',4:'Np',5:'Mp'},inplace = True)\n",
    "display(tabela1)"
   ]
  },
  {
   "cell_type": "markdown",
   "id": "3b3910c3",
   "metadata": {},
   "source": [
    "# Escalonamento da Força de Protensão:"
   ]
  },
  {
   "cell_type": "code",
   "execution_count": 18,
   "id": "e6f6ff1c",
   "metadata": {},
   "outputs": [
    {
     "data": {
      "text/html": [
       "<div>\n",
       "<style scoped>\n",
       "    .dataframe tbody tr th:only-of-type {\n",
       "        vertical-align: middle;\n",
       "    }\n",
       "\n",
       "    .dataframe tbody tr th {\n",
       "        vertical-align: top;\n",
       "    }\n",
       "\n",
       "    .dataframe thead th {\n",
       "        text-align: right;\n",
       "    }\n",
       "</style>\n",
       "<table border=\"1\" class=\"dataframe\">\n",
       "  <thead>\n",
       "    <tr style=\"text-align: right;\">\n",
       "      <th></th>\n",
       "      <th>Mg</th>\n",
       "      <th>x1</th>\n",
       "      <th>x2</th>\n",
       "      <th>x1-lbpt</th>\n",
       "      <th>x2+lbpt</th>\n",
       "    </tr>\n",
       "  </thead>\n",
       "  <tbody>\n",
       "    <tr>\n",
       "      <th>0</th>\n",
       "      <td>7156.0</td>\n",
       "      <td>90.15</td>\n",
       "      <td>2300.85</td>\n",
       "      <td>0.00</td>\n",
       "      <td>2391.00</td>\n",
       "    </tr>\n",
       "    <tr>\n",
       "      <th>1</th>\n",
       "      <td>30752.4</td>\n",
       "      <td>462.12</td>\n",
       "      <td>1928.88</td>\n",
       "      <td>307.36</td>\n",
       "      <td>2083.64</td>\n",
       "    </tr>\n",
       "  </tbody>\n",
       "</table>\n",
       "</div>"
      ],
      "text/plain": [
       "        Mg      x1       x2  x1-lbpt  x2+lbpt\n",
       "0   7156.0   90.15  2300.85     0.00  2391.00\n",
       "1  30752.4  462.12  1928.88   307.36  2083.64"
      ]
     },
     "metadata": {},
     "output_type": "display_data"
    }
   ],
   "source": [
    "M_g = []\n",
    "x1 = []\n",
    "x2 = []\n",
    "x1_anc = []\n",
    "x2_anc = []\n",
    "\n",
    "for i in range(len(qntCordoalhas)):\n",
    "    M_g.append(round( W_s*( (N_p[i]/Area) -(M_p[i]/W_s) + sigma_ct0),2) )\n",
    "        \n",
    "for i in range(len(qntCordoalhas)):\n",
    "    #Bhaskara:\n",
    "    x1.append(round( (Vao - ( Vao**2 - 8*M_g[i]/Q_t0 )**0.5)/2  ,2))\n",
    "    x2.append(round( (Vao + ( Vao**2 - 8*M_g[i]/Q_t0 )**0.5)/2  ,2))\n",
    "    \n",
    "for i in range(len(qntCordoalhas)):\n",
    "    x1_anc.append(x1[i]-round(l_bpt,2))\n",
    "    x2_anc.append(x2[i]+round(l_bpt,2))\n",
    "    if x1_anc[i] < 0:\n",
    "        x1_anc[i] = 0\n",
    "    if x2_anc[i] > Vao:\n",
    "        x2_anc[i] = Vao\n",
    "    \n",
    "\n",
    "tabela2 = pd.DataFrame([M_g, x1,x2, x1_anc,x2_anc])\n",
    "tabela2 = tabela2.transpose()\n",
    "tabela2.rename(columns={0:'Mg',1:'x1',2:'x2',3:'x1-lbpt',4:'x2+lbpt'},inplace = True)\n",
    "display(tabela2)"
   ]
  },
  {
   "cell_type": "markdown",
   "id": "7e1e952a",
   "metadata": {},
   "source": [
    "# Perdas Progressivas da Força de Protensão:\n",
    "\n",
    "## Fluência do Concreto:\n",
    "\n",
    "### Fluência Rápida Irreversível"
   ]
  },
  {
   "cell_type": "code",
   "execution_count": 19,
   "id": "c3dbfb93",
   "metadata": {},
   "outputs": [
    {
     "data": {
      "text/latex": [
       "\\[\n",
       "\\begin{aligned}\n",
       "s &= 0.2 \\; \n",
       "\\\\[10pt]\n",
       "t_{0} &= 10 \\; \n",
       "\\\\[10pt]\n",
       "t_{F} &= 10000 \\; \n",
       "\\\\[10pt]\n",
       "\\beta_{0} &= \\exp \\left( s \\cdot \\left( 1 - \\left( \\frac{ 28 }{ t_{0} } \\right) ^{ 0.5 } \\right) \\right)  = \\exp \\left( 0.2 \\cdot \\left( 1 - \\left( \\frac{ 28 }{ 10 } \\right) ^{ 0.5 } \\right) \\right) &= 0.874  \n",
       "\\\\[10pt]\n",
       "\\beta_{F} &= \\exp \\left( s \\cdot \\left( 1 - \\left( \\frac{ 28 }{ t_{F} } \\right) ^{ 0.5 } \\right) \\right)  = \\exp \\left( 0.2 \\cdot \\left( 1 - \\left( \\frac{ 28 }{ 10000 } \\right) ^{ 0.5 } \\right) \\right) &= 1.209  \n",
       "\\\\[10pt]\n",
       "\\phi_{a} &= 0.8 \\cdot \\left( 1 - \\left( \\frac{ \\beta_{0} }{ \\beta_{F} } \\right) \\right)  = 0.8 \\cdot \\left( 1 - \\left( \\frac{ 0.874 }{ 1.209 } \\right) \\right) &= 2.214 \\times 10 ^ {-1 }  \n",
       "\\end{aligned}\n",
       "\\]"
      ],
      "text/plain": [
       "<IPython.core.display.Latex object>"
      ]
     },
     "metadata": {},
     "output_type": "display_data"
    }
   ],
   "source": [
    "%%render\n",
    "\n",
    "# VER ITEM 12.3.3 da NBR6118:2014\n",
    "# Valores para adotar:\n",
    "# s = 0.38 para concreto de cimento CP-III e CP-IV\n",
    "# s = 0.25 para concreto de cimento CP-I e CP-II\n",
    "# s = 0.20 para concreto de cimento CP-V\n",
    "s = 0.20\n",
    "t_0 = 10\n",
    "t_F = 10000\n",
    "\n",
    "\n",
    "beta_0 = exp(s*(1-(28/t_0)**0.5))\n",
    "beta_F = exp(s*(1-(28/t_F)**0.5))\n",
    "\n",
    "phi_a = 0.8*(1 - (beta_0/beta_F))"
   ]
  },
  {
   "cell_type": "markdown",
   "id": "ec305c4e",
   "metadata": {},
   "source": [
    "### Fluência Lenta Irreversível:"
   ]
  },
  {
   "cell_type": "code",
   "execution_count": 20,
   "id": "bb095c40",
   "metadata": {},
   "outputs": [
    {
     "data": {
      "text/latex": [
       "\\[\n",
       "\\begin{aligned}\n",
       "U &= 55 \\; \\;\\textrm{(umidade média do ar)}\n",
       "\\\\[10pt]\n",
       "\\phi_{c1} &= 4.45 - 0.035 \\cdot U  = 4.45 - 0.035 \\cdot 55 &= 2.52 \\; \\;\\textrm{(para abatimentos entre 5cm e 9cm)}\n",
       "\\\\[10pt]\n",
       "\\gamma &= 1 + \\exp \\left( \\left( - 7.8 \\right) + 0.1 \\cdot U \\right)  = 1 + \\exp \\left( \\left( - 7.8 \\right) + 0.1 \\cdot 55 \\right) &= 1.1  \n",
       "\\\\[10pt]\n",
       "u_{ar} &= 300 \\; \n",
       "\\\\[10pt]\n",
       "h_{fic} &= \\gamma \\cdot \\frac{ 2 \\cdot \\mathrm{Area} }{ u_{ar} }  = 1.1 \\cdot \\frac{ 2 \\cdot 2760 }{ 300 } &= 20.24  \n",
       "\\\\[10pt]\n",
       "\\phi_{c2} &= \\frac{ 42 + h_{fic} }{ 20 + h_{fic} }  = \\frac{ 42 + 20.24 }{ 20 + 20.24 } &= 1.55  \n",
       "\\\\[10pt]\n",
       "\\phi_{fF} &= \\phi_{c1} \\cdot \\phi_{c2}  = 2.52 \\cdot 1.55 &= 3.91  \n",
       "\\\\[10pt]\n",
       "h_{fm} &= \\frac{ h_{fic} }{ 100 }  = \\frac{ 20.24 }{ 100 } &= 2.02 \\times 10 ^ {-1 } \\; \\;\\textrm{(espessura fictícia em metros)}\n",
       "\\\\[10pt]\n",
       "A_{\\beta_{f}} &= 42 \\cdot \\left( h_{fm} \\right) ^{ 3 } - 350 \\cdot \\left( h_{fm} \\right) ^{ 2 } + 588 \\cdot h_{fm} + 113 \\\\&= 42 \\cdot \\left( 2.02 \\times 10 ^ {-1 } \\right) ^{ 3 } - 350 \\cdot \\left( 2.02 \\times 10 ^ {-1 } \\right) ^{ 2 } + 588 \\cdot 2.02 \\times 10 ^ {-1 } + 113 \\\\&= 218.04  \\\\\n",
       "\\\\[10pt]\n",
       "B_{\\beta_{f}} &= 768 \\cdot \\left( h_{fm} \\right) ^{ 3 } - 3060 \\cdot \\left( h_{fm} \\right) ^{ 2 } + 3234 \\cdot h_{fm} - 23 \\\\&= 768 \\cdot \\left( 2.02 \\times 10 ^ {-1 } \\right) ^{ 3 } - 3060 \\cdot \\left( 2.02 \\times 10 ^ {-1 } \\right) ^{ 2 } + 3234 \\cdot 2.02 \\times 10 ^ {-1 } - 23 \\\\&= 512.67  \\\\\n",
       "\\\\[10pt]\n",
       "C_{\\beta_{f}} &= \\left( - 200 \\right) \\cdot \\left( h_{fm} \\right) ^{ 3 } + 13 \\cdot \\left( h_{fm} \\right) ^{ 2 } + 1090 \\cdot h_{fm} + 183 \\\\&= \\left( - 200 \\right) \\cdot \\left( 2.02 \\times 10 ^ {-1 } \\right) ^{ 3 } + 13 \\cdot \\left( 2.02 \\times 10 ^ {-1 } \\right) ^{ 2 } + 1090 \\cdot 2.02 \\times 10 ^ {-1 } + 183 \\\\&= 402.54  \\\\\n",
       "\\\\[10pt]\n",
       "D_{\\beta_{f}} &= 7579 \\cdot \\left( h_{fm} \\right) ^{ 3 } - 31916 \\cdot \\left( h_{fm} \\right) ^{ 2 } + 35343 \\cdot h_{fm} + 1931 \\\\&= 7579 \\cdot \\left( 2.02 \\times 10 ^ {-1 } \\right) ^{ 3 } - 31916 \\cdot \\left( 2.02 \\times 10 ^ {-1 } \\right) ^{ 2 } + 35343 \\cdot 2.02 \\times 10 ^ {-1 } + 1931 \\\\&= 7840.91  \\\\\n",
       "\\\\[10pt]\n",
       "\\beta_{f_{t0}} &= \\frac{ \\left( t_{0} \\right) ^{ 2 } + A_{\\beta_{f}} \\cdot t_{0} + B_{\\beta_{f}} }{ \\left( t_{0} \\right) ^{ 2 } + C_{\\beta_{f}} \\cdot t_{0} + D_{\\beta_{f}} } \\\\&= \\frac{ \\left( 10 \\right) ^{ 2 } + 218.04 \\cdot 10 + 512.67 }{ \\left( 10 \\right) ^{ 2 } + 402.54 \\cdot 10 + 7840.91 } \\\\&= 2.33 \\times 10 ^ {-1 }  \\\\\n",
       "\\\\[10pt]\n",
       "\\beta_{f_{tF}} &= \\frac{ \\left( t_{F} \\right) ^{ 2 } + A_{\\beta_{f}} \\cdot t_{F} + B_{\\beta_{f}} }{ \\left( t_{F} \\right) ^{ 2 } + C_{\\beta_{f}} \\cdot t_{F} + D_{\\beta_{f}} } \\\\&= \\frac{ \\left( 10000 \\right) ^{ 2 } + 218.04 \\cdot 10000 + 512.67 }{ \\left( 10000 \\right) ^{ 2 } + 402.54 \\cdot 10000 + 7840.91 } \\\\&= 9.82 \\times 10 ^ {-1 }  \\\\\n",
       "\\end{aligned}\n",
       "\\]"
      ],
      "text/plain": [
       "<IPython.core.display.Latex object>"
      ]
     },
     "metadata": {},
     "output_type": "display_data"
    }
   ],
   "source": [
    "%%render 2\n",
    "\n",
    "U = 55 #umidade média do ar\n",
    "\n",
    "phi_c1 = 4.45 - 0.035*U # para abatimentos entre 5cm e 9cm\n",
    "\n",
    "gamma = 1 + exp(-7.8 + 0.1 * U)\n",
    "\n",
    "u_ar = ( 2*h + 2*b )\n",
    "\n",
    "h_fic = gamma*(2*Area)/u_ar\n",
    "\n",
    "phi_c2 = (42+h_fic)/(20+h_fic)\n",
    "\n",
    "phi_fF = phi_c1*phi_c2\n",
    "\n",
    "h_fm = h_fic/100 # espessura fictícia em metros\n",
    "\n",
    "A_beta_f = 42*h_fm**3 - 350*h_fm**2 + 588*h_fm + 113\n",
    "B_beta_f = 768*h_fm**3 - 3060*h_fm**2 + 3234*h_fm - 23\n",
    "C_beta_f = -200*h_fm**3 + 13*h_fm**2 + 1090*h_fm + 183\n",
    "D_beta_f = 7579*h_fm**3 - 31916*h_fm**2 + 35343*h_fm + 1931\n",
    "\n",
    "beta_f_t0 = (t_0**2 + A_beta_f*t_0 + B_beta_f )/(t_0**2 + C_beta_f*t_0 + D_beta_f)\n",
    "beta_f_tF = (t_F**2 + A_beta_f*t_F + B_beta_f )/(t_F**2 + C_beta_f*t_F + D_beta_f) "
   ]
  },
  {
   "cell_type": "markdown",
   "id": "bd808c0d",
   "metadata": {},
   "source": [
    "### Fluência Lenta Reversível:"
   ]
  },
  {
   "cell_type": "code",
   "execution_count": 21,
   "id": "9a489151",
   "metadata": {},
   "outputs": [
    {
     "data": {
      "text/latex": [
       "\\[\n",
       "\\begin{aligned}\n",
       "\\phi_{dF} &= 0.4 \\; \n",
       "\\\\[10pt]\n",
       "\\beta_{d} &= \\frac{ t_{F} - t_{0} + 20 }{ t_{F} - t_{0} + 70 }  = \\frac{ 10000 - 10 + 20 }{ 10000 - 10 + 70 } &= 0.995  \n",
       "\\end{aligned}\n",
       "\\]"
      ],
      "text/plain": [
       "<IPython.core.display.Latex object>"
      ]
     },
     "metadata": {},
     "output_type": "display_data"
    }
   ],
   "source": [
    "%%render short\n",
    "\n",
    "phi_dF = 0.4\n",
    "\n",
    "beta_d = (t_F-t_0+20)/(t_F-t_0+70)"
   ]
  },
  {
   "cell_type": "markdown",
   "id": "96bd76c7",
   "metadata": {},
   "source": [
    "### Fluência Total:"
   ]
  },
  {
   "cell_type": "code",
   "execution_count": 22,
   "id": "a5a83321",
   "metadata": {},
   "outputs": [
    {
     "data": {
      "text/latex": [
       "\\[\n",
       "\\begin{aligned}\n",
       "\\phi_{t} &= \\phi_{a} + \\phi_{fF} \\cdot \\left( \\beta_{f_{tF}} - \\beta_{f_{t0}} \\right) + \\phi_{dF} \\cdot \\beta_{d} \\\\&= 2.21 \\times 10 ^ {-1 } + 3.91 \\cdot \\left( 9.82 \\times 10 ^ {-1 } - 2.33 \\times 10 ^ {-1 } \\right) + 0.4 \\cdot 1.0 \\\\&= 3.54  \\\\\n",
       "\\end{aligned}\n",
       "\\]"
      ],
      "text/plain": [
       "<IPython.core.display.Latex object>"
      ]
     },
     "metadata": {},
     "output_type": "display_data"
    }
   ],
   "source": [
    "%%render 2\n",
    "phi_t = phi_a + phi_fF*(beta_f_tF - beta_f_t0) + phi_dF * beta_d"
   ]
  },
  {
   "cell_type": "markdown",
   "id": "865b57fe",
   "metadata": {},
   "source": [
    "### Retração do Concreto:"
   ]
  },
  {
   "cell_type": "code",
   "execution_count": 23,
   "id": "1bac914d",
   "metadata": {},
   "outputs": [
    {
     "data": {
      "text/latex": [
       "\\[\n",
       "\\begin{aligned}\n",
       "\\epsilon_{1s} &= \\left( \\left( - 8.09 \\right) + \\frac{ U }{ 15 } - \\frac{ \\left( U \\right) ^{ 2 } }{ 2284 } + \\frac{ \\left( U \\right) ^{ 3 } }{ 133765 } - \\frac{ \\left( U \\right) ^{ 4 } }{ 7608150 } \\right) \\cdot \\left( 10 \\right) ^{ -4 } \\\\&= \\left( \\left( - 8.09 \\right) + \\frac{ 55 }{ 15 } - \\frac{ \\left( 55 \\right) ^{ 2 } }{ 2284 } + \\frac{ \\left( 55 \\right) ^{ 3 } }{ 133765 } - \\frac{ \\left( 55 \\right) ^{ 4 } }{ 7608150 } \\right) \\cdot \\left( 10 \\right) ^{ -4 } \\\\&= -5.71 \\times 10 ^ {-4 }  \\\\\n",
       "\\\\[10pt]\n",
       "\\epsilon_{2s} &= \\frac{ 33 + 2 \\cdot h_{fic} }{ 20.8 + 3 \\cdot h_{fic} }  = \\frac{ 33 + 2 \\cdot 20.24 }{ 20.8 + 3 \\cdot 20.24 } &= 9.01 \\times 10 ^ {-1 }  \n",
       "\\\\[10pt]\n",
       "A_{\\beta_{s}} &= 40 \\; \n",
       "\\\\[10pt]\n",
       "B_{\\beta_{s}} &= 116 \\cdot \\left( h_{fm} \\right) ^{ 3 } - 282 \\cdot \\left( h_{fm} \\right) ^{ 2 } + 220 \\cdot h_{fm} - 4.8 \\\\&= 116 \\cdot \\left( 2.02 \\times 10 ^ {-1 } \\right) ^{ 3 } - 282 \\cdot \\left( 2.02 \\times 10 ^ {-1 } \\right) ^{ 2 } + 220 \\cdot 2.02 \\times 10 ^ {-1 } - 4.8 \\\\&= 29.14  \\\\\n",
       "\\\\[10pt]\n",
       "C_{\\beta_{s}} &= 2.5 \\cdot \\left( h_{fm} \\right) ^{ 3 } - 8.8 \\cdot h_{fm} + 40.7 \\\\&= 2.5 \\cdot \\left( 2.02 \\times 10 ^ {-1 } \\right) ^{ 3 } - 8.8 \\cdot 2.02 \\times 10 ^ {-1 } + 40.7 \\\\&= 38.94  \\\\\n",
       "\\\\[10pt]\n",
       "D_{\\beta_{s}} &= \\left( - 75 \\right) \\cdot \\left( h_{fm} \\right) ^{ 3 } + 585 \\cdot \\left( h_{fm} \\right) ^{ 2 } + 496 \\cdot h_{fm} - 6.8 \\\\&= \\left( - 75 \\right) \\cdot \\left( 2.02 \\times 10 ^ {-1 } \\right) ^{ 3 } + 585 \\cdot \\left( 2.02 \\times 10 ^ {-1 } \\right) ^{ 2 } + 496 \\cdot 2.02 \\times 10 ^ {-1 } - 6.8 \\\\&= 116.97  \\\\\n",
       "\\\\[10pt]\n",
       "E_{\\beta_{s}} &= \\left( - 169 \\right) \\cdot \\left( h_{fm} \\right) ^{ 4 } + 88 \\cdot \\left( h_{fm} \\right) ^{ 3 } + 584 \\cdot \\left( h_{fm} \\right) ^{ 2 } - 39 \\cdot h_{fm} + 0.8 \\\\&= \\left( - 169 \\right) \\cdot \\left( 2.02 \\times 10 ^ {-1 } \\right) ^{ 4 } + 88 \\cdot \\left( 2.02 \\times 10 ^ {-1 } \\right) ^{ 3 } + 584 \\cdot \\left( 2.02 \\times 10 ^ {-1 } \\right) ^{ 2 } - 39 \\cdot 2.02 \\times 10 ^ {-1 } + 0.8 \\\\&= 17.29  \\\\\n",
       "\\\\[10pt]\n",
       "\\beta_{s_{t0}} &= \\frac{ \\left( \\frac{ t_{0} }{ 100 } \\right) ^{ 3 } + A_{\\beta_{s}} \\cdot \\left( \\frac{ t_{0} }{ 100 } \\right) ^{ 2 } + B_{\\beta_{s}} \\cdot \\left( \\frac{ t_{0} }{ 100 } \\right) }{ \\left( \\frac{ t_{0} }{ 100 } \\right) ^{ 3 } + C_{\\beta_{s}} \\cdot \\left( \\frac{ t_{0} }{ 100 } \\right) ^{ 2 } + D_{\\beta_{s}} \\cdot \\left( \\frac{ t_{0} }{ 100 } \\right) + E_{\\beta_{s}} } \\\\&= \\frac{ \\left( \\frac{ 10 }{ 100 } \\right) ^{ 3 } + 40 \\cdot \\left( \\frac{ 10 }{ 100 } \\right) ^{ 2 } + 29.14 \\cdot \\left( \\frac{ 10 }{ 100 } \\right) }{ \\left( \\frac{ 10 }{ 100 } \\right) ^{ 3 } + 38.94 \\cdot \\left( \\frac{ 10 }{ 100 } \\right) ^{ 2 } + 116.97 \\cdot \\left( \\frac{ 10 }{ 100 } \\right) + 17.29 } \\\\&= 1.13 \\times 10 ^ {-1 }  \\\\\n",
       "\\\\[10pt]\n",
       "\\beta_{s_{tF}} &= \\frac{ \\left( \\frac{ t_{F} }{ 100 } \\right) ^{ 3 } + A_{\\beta_{s}} \\cdot \\left( \\frac{ t_{F} }{ 100 } \\right) ^{ 2 } + B_{\\beta_{s}} \\cdot \\left( \\frac{ t_{F} }{ 100 } \\right) }{ \\left( \\frac{ t_{F} }{ 100 } \\right) ^{ 3 } + C_{\\beta_{s}} \\cdot \\left( \\frac{ t_{F} }{ 100 } \\right) ^{ 2 } + D_{\\beta_{s}} \\cdot \\left( \\frac{ t_{F} }{ 100 } \\right) + E_{\\beta_{s}} } \\\\&= \\frac{ \\left( \\frac{ 10000 }{ 100 } \\right) ^{ 3 } + 40 \\cdot \\left( \\frac{ 10000 }{ 100 } \\right) ^{ 2 } + 29.14 \\cdot \\left( \\frac{ 10000 }{ 100 } \\right) }{ \\left( \\frac{ 10000 }{ 100 } \\right) ^{ 3 } + 38.94 \\cdot \\left( \\frac{ 10000 }{ 100 } \\right) ^{ 2 } + 116.97 \\cdot \\left( \\frac{ 10000 }{ 100 } \\right) + 17.29 } \\\\&= 1.0  \\\\\n",
       "\\\\[10pt]\n",
       "\\epsilon_{cs} &= \\epsilon_{1s} \\cdot \\epsilon_{2s} \\cdot \\left( \\beta_{s_{tF}} - \\beta_{s_{t0}} \\right) \\\\&= -5.71 \\times 10 ^ {-4 } \\cdot 9.01 \\times 10 ^ {-1 } \\cdot \\left( 1.0 - 1.13 \\times 10 ^ {-1 } \\right) \\\\&= -4.57 \\times 10 ^ {-4 }  \\\\\n",
       "\\end{aligned}\n",
       "\\]"
      ],
      "text/plain": [
       "<IPython.core.display.Latex object>"
      ]
     },
     "metadata": {},
     "output_type": "display_data"
    }
   ],
   "source": [
    "%%render 2\n",
    "\n",
    "epsilon_1s = (-8.09 + U/15 - U**2/2284 + U**3/133765 - U**4/7608150)*10**-4\n",
    "\n",
    "epsilon_2s = (33+2*h_fic)/(20.8 + 3*h_fic)\n",
    "\n",
    "A_beta_s = 40  \n",
    "B_beta_s = 116*h_fm**3 - 282*h_fm**2 + 220*h_fm - 4.8  \n",
    "C_beta_s = 2.5*h_fm**3 - 8.8*h_fm + 40.7  \n",
    "D_beta_s = -75*h_fm**3 + 585*h_fm**2 + 496*h_fm - 6.8  \n",
    "E_beta_s = -169*h_fm**4 + 88*h_fm**3 + 584*h_fm**2 - 39*h_fm + 0.8  \n",
    "\n",
    "beta_s_t0 = ((t_0/100)**3 + A_beta_s*(t_0/100)**2 +  B_beta_s*(t_0/100))/((t_0/100)**3 + C_beta_s*(t_0/100)**2 +  D_beta_s*(t_0/100) + E_beta_s)\n",
    "\n",
    "beta_s_tF = ((t_F/100)**3 + A_beta_s*(t_F/100)**2 +  B_beta_s*(t_F/100))/((t_F/100)**3 + C_beta_s*(t_F/100)**2 +  D_beta_s*(t_F/100) + E_beta_s)\n",
    "\n",
    "epsilon_cs = epsilon_1s*epsilon_2s*(beta_s_tF - beta_s_t0)\n"
   ]
  },
  {
   "cell_type": "markdown",
   "id": "26653758",
   "metadata": {},
   "source": [
    "## Relaxação do Aço de Protensão:"
   ]
  },
  {
   "cell_type": "code",
   "execution_count": 24,
   "id": "59b4e706",
   "metadata": {},
   "outputs": [
    {
     "data": {
      "text/html": [
       "<div>\n",
       "<style scoped>\n",
       "    .dataframe tbody tr th:only-of-type {\n",
       "        vertical-align: middle;\n",
       "    }\n",
       "\n",
       "    .dataframe tbody tr th {\n",
       "        vertical-align: top;\n",
       "    }\n",
       "\n",
       "    .dataframe thead th {\n",
       "        text-align: right;\n",
       "    }\n",
       "</style>\n",
       "<table border=\"1\" class=\"dataframe\">\n",
       "  <thead>\n",
       "    <tr style=\"text-align: right;\">\n",
       "      <th></th>\n",
       "      <th>Seção</th>\n",
       "      <th>Pos</th>\n",
       "      <th>Sigma,p</th>\n",
       "      <th>Sigma,p/fptk</th>\n",
       "      <th>Ψ1000</th>\n",
       "      <th>Ψ,inf</th>\n",
       "      <th>X,inf</th>\n",
       "    </tr>\n",
       "  </thead>\n",
       "  <tbody>\n",
       "    <tr>\n",
       "      <th>0</th>\n",
       "      <td>1.0</td>\n",
       "      <td>0.0</td>\n",
       "      <td>143.88</td>\n",
       "      <td>0.757</td>\n",
       "      <td>0.031</td>\n",
       "      <td>0.077</td>\n",
       "      <td>0.08</td>\n",
       "    </tr>\n",
       "    <tr>\n",
       "      <th>1</th>\n",
       "      <td>2.0</td>\n",
       "      <td>23.9</td>\n",
       "      <td>143.88</td>\n",
       "      <td>0.757</td>\n",
       "      <td>0.031</td>\n",
       "      <td>0.077</td>\n",
       "      <td>0.08</td>\n",
       "    </tr>\n",
       "    <tr>\n",
       "      <th>2</th>\n",
       "      <td>3.0</td>\n",
       "      <td>47.8</td>\n",
       "      <td>143.88</td>\n",
       "      <td>0.757</td>\n",
       "      <td>0.031</td>\n",
       "      <td>0.077</td>\n",
       "      <td>0.08</td>\n",
       "    </tr>\n",
       "    <tr>\n",
       "      <th>3</th>\n",
       "      <td>4.0</td>\n",
       "      <td>71.7</td>\n",
       "      <td>143.88</td>\n",
       "      <td>0.757</td>\n",
       "      <td>0.031</td>\n",
       "      <td>0.077</td>\n",
       "      <td>0.08</td>\n",
       "    </tr>\n",
       "    <tr>\n",
       "      <th>4</th>\n",
       "      <td>5.0</td>\n",
       "      <td>95.6</td>\n",
       "      <td>143.88</td>\n",
       "      <td>0.757</td>\n",
       "      <td>0.031</td>\n",
       "      <td>0.077</td>\n",
       "      <td>0.08</td>\n",
       "    </tr>\n",
       "    <tr>\n",
       "      <th>...</th>\n",
       "      <td>...</td>\n",
       "      <td>...</td>\n",
       "      <td>...</td>\n",
       "      <td>...</td>\n",
       "      <td>...</td>\n",
       "      <td>...</td>\n",
       "      <td>...</td>\n",
       "    </tr>\n",
       "    <tr>\n",
       "      <th>96</th>\n",
       "      <td>97.0</td>\n",
       "      <td>2295.4</td>\n",
       "      <td>143.88</td>\n",
       "      <td>0.757</td>\n",
       "      <td>0.031</td>\n",
       "      <td>0.077</td>\n",
       "      <td>0.08</td>\n",
       "    </tr>\n",
       "    <tr>\n",
       "      <th>97</th>\n",
       "      <td>98.0</td>\n",
       "      <td>2319.3</td>\n",
       "      <td>143.88</td>\n",
       "      <td>0.757</td>\n",
       "      <td>0.031</td>\n",
       "      <td>0.077</td>\n",
       "      <td>0.08</td>\n",
       "    </tr>\n",
       "    <tr>\n",
       "      <th>98</th>\n",
       "      <td>99.0</td>\n",
       "      <td>2343.2</td>\n",
       "      <td>143.88</td>\n",
       "      <td>0.757</td>\n",
       "      <td>0.031</td>\n",
       "      <td>0.077</td>\n",
       "      <td>0.08</td>\n",
       "    </tr>\n",
       "    <tr>\n",
       "      <th>99</th>\n",
       "      <td>100.0</td>\n",
       "      <td>2367.1</td>\n",
       "      <td>143.88</td>\n",
       "      <td>0.757</td>\n",
       "      <td>0.031</td>\n",
       "      <td>0.077</td>\n",
       "      <td>0.08</td>\n",
       "    </tr>\n",
       "    <tr>\n",
       "      <th>100</th>\n",
       "      <td>101.0</td>\n",
       "      <td>2391.0</td>\n",
       "      <td>143.88</td>\n",
       "      <td>0.757</td>\n",
       "      <td>0.031</td>\n",
       "      <td>0.077</td>\n",
       "      <td>0.08</td>\n",
       "    </tr>\n",
       "  </tbody>\n",
       "</table>\n",
       "<p>101 rows × 7 columns</p>\n",
       "</div>"
      ],
      "text/plain": [
       "     Seção     Pos  Sigma,p  Sigma,p/fptk  Ψ1000  Ψ,inf  X,inf\n",
       "0      1.0     0.0   143.88         0.757  0.031  0.077   0.08\n",
       "1      2.0    23.9   143.88         0.757  0.031  0.077   0.08\n",
       "2      3.0    47.8   143.88         0.757  0.031  0.077   0.08\n",
       "3      4.0    71.7   143.88         0.757  0.031  0.077   0.08\n",
       "4      5.0    95.6   143.88         0.757  0.031  0.077   0.08\n",
       "..     ...     ...      ...           ...    ...    ...    ...\n",
       "96    97.0  2295.4   143.88         0.757  0.031  0.077   0.08\n",
       "97    98.0  2319.3   143.88         0.757  0.031  0.077   0.08\n",
       "98    99.0  2343.2   143.88         0.757  0.031  0.077   0.08\n",
       "99   100.0  2367.1   143.88         0.757  0.031  0.077   0.08\n",
       "100  101.0  2391.0   143.88         0.757  0.031  0.077   0.08\n",
       "\n",
       "[101 rows x 7 columns]"
      ]
     },
     "metadata": {},
     "output_type": "display_data"
    }
   ],
   "source": [
    "relax = []\n",
    "for i in range(7):\n",
    "    relax.append([0]*nS)\n",
    "\n",
    "for i in range (nS):\n",
    "    relax[0][i] = i+1\n",
    "    relax[1][i] = esforcos[0][i] #posição x da seção\n",
    "    for j in range(len(qntCordoalhas)-1,-1,-1):\n",
    "        if(relax[1][i] >= x1_anc[j] and relax[1][i] <= x2_anc[j]):\n",
    "            relax[2][i] = round(sigma_p[j],2)\n",
    "            break\n",
    "    relax[3][i] = round(relax[2][i]/f_ptk,3)\n",
    "    relax[4][i] = round(calcpsi(relax[3][i]),3)\n",
    "    relax[5][i] = round(relax[4][i]*2.5,3)\n",
    "    relax[6][i] = round(-log(1-relax[5][i]),3)\n",
    "    \n",
    "    \n",
    "tabela3 = pd.DataFrame(relax)\n",
    "tabela3 = tabela3.transpose()\n",
    "tabela3.rename(columns={0:'Seção',1:'Pos',2:'Sigma,p',3:'Sigma,p/fptk',4:'\\u03A81000',5:'\\u03A8,inf',6:'X,inf'},inplace = True)\n",
    "display(tabela3)"
   ]
  },
  {
   "cell_type": "markdown",
   "id": "b0d5874e",
   "metadata": {},
   "source": [
    "## Cálculo das Perdas Progressivas:"
   ]
  },
  {
   "cell_type": "code",
   "execution_count": 25,
   "id": "5d841862",
   "metadata": {},
   "outputs": [
    {
     "data": {
      "text/html": [
       "<div>\n",
       "<style scoped>\n",
       "    .dataframe tbody tr th:only-of-type {\n",
       "        vertical-align: middle;\n",
       "    }\n",
       "\n",
       "    .dataframe tbody tr th {\n",
       "        vertical-align: top;\n",
       "    }\n",
       "\n",
       "    .dataframe thead th {\n",
       "        text-align: right;\n",
       "    }\n",
       "</style>\n",
       "<table border=\"1\" class=\"dataframe\">\n",
       "  <thead>\n",
       "    <tr style=\"text-align: right;\">\n",
       "      <th></th>\n",
       "      <th>Sigma,c,t0</th>\n",
       "      <th>ΔSigma,p</th>\n",
       "      <th>ΔNp</th>\n",
       "      <th>ΔMp</th>\n",
       "    </tr>\n",
       "  </thead>\n",
       "  <tbody>\n",
       "    <tr>\n",
       "      <th>0</th>\n",
       "      <td>-1.13</td>\n",
       "      <td>-37.62</td>\n",
       "      <td>263.34</td>\n",
       "      <td>14483.7</td>\n",
       "    </tr>\n",
       "    <tr>\n",
       "      <th>1</th>\n",
       "      <td>-1.07</td>\n",
       "      <td>-36.53</td>\n",
       "      <td>255.71</td>\n",
       "      <td>14064.0</td>\n",
       "    </tr>\n",
       "    <tr>\n",
       "      <th>2</th>\n",
       "      <td>-1.01</td>\n",
       "      <td>-35.43</td>\n",
       "      <td>248.01</td>\n",
       "      <td>13640.6</td>\n",
       "    </tr>\n",
       "    <tr>\n",
       "      <th>3</th>\n",
       "      <td>-0.95</td>\n",
       "      <td>-34.33</td>\n",
       "      <td>240.31</td>\n",
       "      <td>13217.0</td>\n",
       "    </tr>\n",
       "    <tr>\n",
       "      <th>4</th>\n",
       "      <td>-0.89</td>\n",
       "      <td>-33.24</td>\n",
       "      <td>232.68</td>\n",
       "      <td>12797.4</td>\n",
       "    </tr>\n",
       "    <tr>\n",
       "      <th>...</th>\n",
       "      <td>...</td>\n",
       "      <td>...</td>\n",
       "      <td>...</td>\n",
       "      <td>...</td>\n",
       "    </tr>\n",
       "    <tr>\n",
       "      <th>96</th>\n",
       "      <td>-0.89</td>\n",
       "      <td>-33.24</td>\n",
       "      <td>232.68</td>\n",
       "      <td>12797.4</td>\n",
       "    </tr>\n",
       "    <tr>\n",
       "      <th>97</th>\n",
       "      <td>-0.95</td>\n",
       "      <td>-34.33</td>\n",
       "      <td>240.31</td>\n",
       "      <td>13217.0</td>\n",
       "    </tr>\n",
       "    <tr>\n",
       "      <th>98</th>\n",
       "      <td>-1.01</td>\n",
       "      <td>-35.43</td>\n",
       "      <td>248.01</td>\n",
       "      <td>13640.6</td>\n",
       "    </tr>\n",
       "    <tr>\n",
       "      <th>99</th>\n",
       "      <td>-1.07</td>\n",
       "      <td>-36.53</td>\n",
       "      <td>255.71</td>\n",
       "      <td>14064.0</td>\n",
       "    </tr>\n",
       "    <tr>\n",
       "      <th>100</th>\n",
       "      <td>-1.13</td>\n",
       "      <td>-37.62</td>\n",
       "      <td>263.34</td>\n",
       "      <td>14483.7</td>\n",
       "    </tr>\n",
       "  </tbody>\n",
       "</table>\n",
       "<p>101 rows × 4 columns</p>\n",
       "</div>"
      ],
      "text/plain": [
       "     Sigma,c,t0  ΔSigma,p     ΔNp      ΔMp\n",
       "0         -1.13    -37.62  263.34  14483.7\n",
       "1         -1.07    -36.53  255.71  14064.0\n",
       "2         -1.01    -35.43  248.01  13640.6\n",
       "3         -0.95    -34.33  240.31  13217.0\n",
       "4         -0.89    -33.24  232.68  12797.4\n",
       "..          ...       ...     ...      ...\n",
       "96        -0.89    -33.24  232.68  12797.4\n",
       "97        -0.95    -34.33  240.31  13217.0\n",
       "98        -1.01    -35.43  248.01  13640.6\n",
       "99        -1.07    -36.53  255.71  14064.0\n",
       "100       -1.13    -37.62  263.34  14483.7\n",
       "\n",
       "[101 rows x 4 columns]"
      ]
     },
     "metadata": {},
     "output_type": "display_data"
    }
   ],
   "source": [
    "progressivas = []\n",
    "\n",
    "for i in range(4):\n",
    "    progressivas.append([0] * nS)\n",
    "    \n",
    "alpha_p = E_p/E_cs\n",
    "    \n",
    "for i in range(nS):\n",
    "    momento = esforcos[1][i]\n",
    "    for j in range(len(qntCordoalhas)-1,-1,-1):\n",
    "        if(relax[1][i] >= x1_anc[j] and relax[1][i] <= x2_anc[j]):\n",
    "            sigma_pi = sigma_p[j]\n",
    "            Npi = N_p[j]\n",
    "            Mpi = M_p[j]\n",
    "            Wcpi = W_cp[j]\n",
    "            e_pp = e_p_i[j]\n",
    "            A_pp = A_p[j]\n",
    "            break\n",
    "    progressivas[0][i] = round(Npi/Area + Mpi/Wcpi + momento/Wcpi,2)\n",
    "    K_p = alpha_p*A_pp*(1/Area + e_pp/Wcpi)\n",
    "    progressivas[1][i] = round( (( progressivas[0][i]*phi_t/E_cs + epsilon_cs - sigma_pi/E_p*relax[6][i] ) / (1 + relax[6][i] + K_p*(1+0.5*phi_t)) )*E_p,2)\n",
    "    progressivas[2][i] = -round(progressivas[1][i]*A_pp  ,2)\n",
    "    progressivas[3][i] = round(progressivas[2][i]*e_pp ,1)\n",
    "    \n",
    "    \n",
    "\n",
    "tabela4 = pd.DataFrame(progressivas)\n",
    "tabela4 = tabela4.transpose()\n",
    "tabela4.rename(columns={0:'Sigma,c,t0',1:'\\u0394Sigma,p',2:'\\u0394Np',3:'\\u0394Mp'},inplace = True)\n",
    "display(tabela4)"
   ]
  },
  {
   "cell_type": "markdown",
   "id": "6d844d65",
   "metadata": {},
   "source": [
    "# Tensões Normais nas Bordas:\n",
    "\n",
    "## Bordas Superiores:"
   ]
  },
  {
   "cell_type": "code",
   "execution_count": 26,
   "id": "90627a03",
   "metadata": {
    "scrolled": false
   },
   "outputs": [
    {
     "data": {
      "text/html": [
       "<div>\n",
       "<style scoped>\n",
       "    .dataframe tbody tr th:only-of-type {\n",
       "        vertical-align: middle;\n",
       "    }\n",
       "\n",
       "    .dataframe tbody tr th {\n",
       "        vertical-align: top;\n",
       "    }\n",
       "\n",
       "    .dataframe thead th {\n",
       "        text-align: right;\n",
       "    }\n",
       "</style>\n",
       "<table border=\"1\" class=\"dataframe\">\n",
       "  <thead>\n",
       "    <tr style=\"text-align: right;\">\n",
       "      <th></th>\n",
       "      <th>Pos (cm)</th>\n",
       "      <th>Sigma,s</th>\n",
       "      <th>OK</th>\n",
       "    </tr>\n",
       "  </thead>\n",
       "  <tbody>\n",
       "    <tr>\n",
       "      <th>0</th>\n",
       "      <td>0.0</td>\n",
       "      <td>0.348</td>\n",
       "      <td>OK</td>\n",
       "    </tr>\n",
       "    <tr>\n",
       "      <th>1</th>\n",
       "      <td>23.9</td>\n",
       "      <td>0.285</td>\n",
       "      <td>OK</td>\n",
       "    </tr>\n",
       "    <tr>\n",
       "      <th>2</th>\n",
       "      <td>47.8</td>\n",
       "      <td>0.223</td>\n",
       "      <td>OK</td>\n",
       "    </tr>\n",
       "    <tr>\n",
       "      <th>3</th>\n",
       "      <td>71.7</td>\n",
       "      <td>0.163</td>\n",
       "      <td>OK</td>\n",
       "    </tr>\n",
       "    <tr>\n",
       "      <th>4</th>\n",
       "      <td>95.6</td>\n",
       "      <td>0.104</td>\n",
       "      <td>OK</td>\n",
       "    </tr>\n",
       "    <tr>\n",
       "      <th>...</th>\n",
       "      <td>...</td>\n",
       "      <td>...</td>\n",
       "      <td>...</td>\n",
       "    </tr>\n",
       "    <tr>\n",
       "      <th>96</th>\n",
       "      <td>2295.4</td>\n",
       "      <td>0.104</td>\n",
       "      <td>OK</td>\n",
       "    </tr>\n",
       "    <tr>\n",
       "      <th>97</th>\n",
       "      <td>2319.3</td>\n",
       "      <td>0.163</td>\n",
       "      <td>OK</td>\n",
       "    </tr>\n",
       "    <tr>\n",
       "      <th>98</th>\n",
       "      <td>2343.2</td>\n",
       "      <td>0.223</td>\n",
       "      <td>OK</td>\n",
       "    </tr>\n",
       "    <tr>\n",
       "      <th>99</th>\n",
       "      <td>2367.1</td>\n",
       "      <td>0.285</td>\n",
       "      <td>OK</td>\n",
       "    </tr>\n",
       "    <tr>\n",
       "      <th>100</th>\n",
       "      <td>2391.0</td>\n",
       "      <td>0.348</td>\n",
       "      <td>OK</td>\n",
       "    </tr>\n",
       "  </tbody>\n",
       "</table>\n",
       "<p>101 rows × 3 columns</p>\n",
       "</div>"
      ],
      "text/plain": [
       "    Pos (cm) Sigma,s  OK\n",
       "0        0.0   0.348  OK\n",
       "1       23.9   0.285  OK\n",
       "2       47.8   0.223  OK\n",
       "3       71.7   0.163  OK\n",
       "4       95.6   0.104  OK\n",
       "..       ...     ...  ..\n",
       "96    2295.4   0.104  OK\n",
       "97    2319.3   0.163  OK\n",
       "98    2343.2   0.223  OK\n",
       "99    2367.1   0.285  OK\n",
       "100   2391.0   0.348  OK\n",
       "\n",
       "[101 rows x 3 columns]"
      ]
     },
     "metadata": {},
     "output_type": "display_data"
    }
   ],
   "source": [
    "tensaosup = []\n",
    "\n",
    "for i in range(3):\n",
    "    tensaosup.append([0]*nS)\n",
    "    \n",
    "for i in range(nS):\n",
    "    tensaosup[0][i] = relax[1][i]\n",
    "    for j in range(len(qntCordoalhas)-1,-1,-1):\n",
    "        if(relax[1][i] >= x1_anc[j] and relax[1][i] <= x2_anc[j]):\n",
    "            sigma_pi = sigma_p[j]\n",
    "            Npi = N_p[j]\n",
    "            Mpi = M_p[j]\n",
    "            Wcpi = W_cp[j]\n",
    "            e_pp = e_p_i[j]\n",
    "            A_pp = A_p[j]\n",
    "            break\n",
    "    Npx = Npi + progressivas[2][i]\n",
    "    Mpx = Mpi + progressivas[3][i]\n",
    "    tensaosup[1][i] = round( -abs(Npx/Area) + abs(Mpx/W_s) - abs(esforcos[1][i]/W_s) ,3)\n",
    "    if tensaosup[1][i] > -sigma_ccF:\n",
    "        tensaosup[2][i] = \"OK\"\n",
    "    else:\n",
    "        tensaosup[2][i] = \"--> NAO OK <--\"\n",
    "    \n",
    "    \n",
    "\n",
    "tabela5 = pd.DataFrame(tensaosup)\n",
    "tabela5 = tabela5.transpose()\n",
    "tabela5.rename(columns={0:'Pos (cm)',1:'Sigma,s',2:'OK'},inplace = True)\n",
    "display(tabela5)"
   ]
  },
  {
   "cell_type": "markdown",
   "id": "75627f5a",
   "metadata": {},
   "source": [
    "## Bordas Inferiores:"
   ]
  },
  {
   "cell_type": "code",
   "execution_count": 27,
   "id": "43ea2740",
   "metadata": {},
   "outputs": [
    {
     "data": {
      "text/html": [
       "<div>\n",
       "<style scoped>\n",
       "    .dataframe tbody tr th:only-of-type {\n",
       "        vertical-align: middle;\n",
       "    }\n",
       "\n",
       "    .dataframe tbody tr th {\n",
       "        vertical-align: top;\n",
       "    }\n",
       "\n",
       "    .dataframe thead th {\n",
       "        text-align: right;\n",
       "    }\n",
       "</style>\n",
       "<table border=\"1\" class=\"dataframe\">\n",
       "  <thead>\n",
       "    <tr style=\"text-align: right;\">\n",
       "      <th></th>\n",
       "      <th>Pos (cm)</th>\n",
       "      <th>Sigma,i</th>\n",
       "      <th>OK</th>\n",
       "    </tr>\n",
       "  </thead>\n",
       "  <tbody>\n",
       "    <tr>\n",
       "      <th>0</th>\n",
       "      <td>0.0</td>\n",
       "      <td>-0.887</td>\n",
       "      <td>OK</td>\n",
       "    </tr>\n",
       "    <tr>\n",
       "      <th>1</th>\n",
       "      <td>23.9</td>\n",
       "      <td>-0.829</td>\n",
       "      <td>OK</td>\n",
       "    </tr>\n",
       "    <tr>\n",
       "      <th>2</th>\n",
       "      <td>47.8</td>\n",
       "      <td>-0.773</td>\n",
       "      <td>OK</td>\n",
       "    </tr>\n",
       "    <tr>\n",
       "      <th>3</th>\n",
       "      <td>71.7</td>\n",
       "      <td>-0.719</td>\n",
       "      <td>OK</td>\n",
       "    </tr>\n",
       "    <tr>\n",
       "      <th>4</th>\n",
       "      <td>95.6</td>\n",
       "      <td>-0.665</td>\n",
       "      <td>OK</td>\n",
       "    </tr>\n",
       "    <tr>\n",
       "      <th>...</th>\n",
       "      <td>...</td>\n",
       "      <td>...</td>\n",
       "      <td>...</td>\n",
       "    </tr>\n",
       "    <tr>\n",
       "      <th>96</th>\n",
       "      <td>2295.4</td>\n",
       "      <td>-0.665</td>\n",
       "      <td>OK</td>\n",
       "    </tr>\n",
       "    <tr>\n",
       "      <th>97</th>\n",
       "      <td>2319.3</td>\n",
       "      <td>-0.719</td>\n",
       "      <td>OK</td>\n",
       "    </tr>\n",
       "    <tr>\n",
       "      <th>98</th>\n",
       "      <td>2343.2</td>\n",
       "      <td>-0.773</td>\n",
       "      <td>OK</td>\n",
       "    </tr>\n",
       "    <tr>\n",
       "      <th>99</th>\n",
       "      <td>2367.1</td>\n",
       "      <td>-0.829</td>\n",
       "      <td>OK</td>\n",
       "    </tr>\n",
       "    <tr>\n",
       "      <th>100</th>\n",
       "      <td>2391.0</td>\n",
       "      <td>-0.887</td>\n",
       "      <td>OK</td>\n",
       "    </tr>\n",
       "  </tbody>\n",
       "</table>\n",
       "<p>101 rows × 3 columns</p>\n",
       "</div>"
      ],
      "text/plain": [
       "    Pos (cm) Sigma,i  OK\n",
       "0        0.0  -0.887  OK\n",
       "1       23.9  -0.829  OK\n",
       "2       47.8  -0.773  OK\n",
       "3       71.7  -0.719  OK\n",
       "4       95.6  -0.665  OK\n",
       "..       ...     ...  ..\n",
       "96    2295.4  -0.665  OK\n",
       "97    2319.3  -0.719  OK\n",
       "98    2343.2  -0.773  OK\n",
       "99    2367.1  -0.829  OK\n",
       "100   2391.0  -0.887  OK\n",
       "\n",
       "[101 rows x 3 columns]"
      ]
     },
     "metadata": {},
     "output_type": "display_data"
    }
   ],
   "source": [
    "tensaoinf = []\n",
    "\n",
    "for i in range(3):\n",
    "    tensaoinf.append([0]*nS)\n",
    "    \n",
    "for i in range(nS):\n",
    "    tensaoinf[0][i] = relax[1][i]\n",
    "    for j in range(len(qntCordoalhas)-1,-1,-1):\n",
    "        if(relax[1][i] >= x1_anc[j] and relax[1][i] <= x2_anc[j]):\n",
    "            sigma_pi = sigma_p[j]\n",
    "            Npi = N_p[j]\n",
    "            Mpi = M_p[j]\n",
    "            Wcpi = W_cp[j]\n",
    "            e_pp = e_p_i[j]\n",
    "            A_pp = A_p[j]\n",
    "            break\n",
    "    Npx = Npi + progressivas[2][i]\n",
    "    Mpx = Mpi + progressivas[3][i]\n",
    "    tensaoinf[1][i] = round( -abs(Npx/Area) - abs(Mpx/W_i) + abs(esforcos[1][i]/W_i) ,3)\n",
    "    if tensaoinf[1][i] < -sigma_ctF:\n",
    "        tensaoinf[2][i] = \"OK\"\n",
    "    else:\n",
    "        tensaoinf[2][i] = \"--> NAO OK <--\"\n",
    "    \n",
    "tabela6 = pd.DataFrame(tensaoinf)\n",
    "tabela6 = tabela6.transpose()\n",
    "tabela6.rename(columns={0:'Pos (cm)',1:'Sigma,i',2:'OK'},inplace = True)\n",
    "display(tabela6)"
   ]
  },
  {
   "cell_type": "markdown",
   "id": "73ee5e0c",
   "metadata": {},
   "source": [
    "# Armaduras Passivas:\n",
    "\n",
    "## Armadura da Cunha de Tração:"
   ]
  },
  {
   "cell_type": "code",
   "execution_count": 28,
   "id": "75b47b69",
   "metadata": {},
   "outputs": [
    {
     "name": "stdout",
     "output_type": "stream",
     "text": [
      "Seção crítica de cálculo: seção 0\n"
     ]
    }
   ],
   "source": [
    "sigma_cs0 = -10000\n",
    "pos = -1\n",
    "for i in range (nS):\n",
    "    if sigma_cs0 < tensaosup[1][i]:\n",
    "        sigma_cs0 = tensaosup[1][i]\n",
    "        pos = i\n",
    "\n",
    "sigma_ci0 = tensaoinf[1][pos]\n",
    "\n",
    "print(\"Seção crítica de cálculo: seção\",pos)"
   ]
  },
  {
   "cell_type": "code",
   "execution_count": 29,
   "id": "bea309c0",
   "metadata": {},
   "outputs": [
    {
     "data": {
      "text/latex": [
       "\\[\n",
       "\\begin{aligned}\n",
       "x &= \\frac{ \\sigma_{cs0} }{ \\sigma_{cs0} - \\sigma_{ci0} } \\cdot h  = \\frac{ 3.48 \\times 10 ^ {-1 } }{ 3.48 \\times 10 ^ {-1 } - -8.87 \\times 10 ^ {-1 } } \\cdot 120 &= 33.81  \n",
       "\\\\[10pt]\n",
       "S_{x} &= b \\cdot \\frac{ \\left( x \\right) ^{ 2 } }{ 2 }  = 30 \\cdot \\frac{ \\left( 33.81 \\right) ^{ 2 } }{ 2 } &= 17150.56  \n",
       "\\\\[10pt]\n",
       "R_{ct} &= \\frac{ \\sigma_{cs0} }{ x } \\cdot S_{x}  = \\frac{ 3.48 \\times 10 ^ {-1 } }{ 33.81 } \\cdot 17150.56 &= 176.51  \n",
       "\\\\[10pt]\n",
       "A_{st} &= \\frac{ R_{ct} }{ 25.00 }  = \\frac{ 176.51 }{ 25.00 } &= 7.06  \n",
       "\\\\[10pt]\n",
       "\\phi_{st} &= 1.6 \\; \n",
       "\\\\[10pt]\n",
       "N_{st} &= \\left \\lceil \\frac{ A_{st} }{ \\left( \\frac{ \\phi_{st} }{ 2 } \\right) ^{ 2 } \\cdot \\pi } \\right \\rceil  = \\left \\lceil \\frac{ 7.06 }{ \\left( \\frac{ 1.6 }{ 2 } \\right) ^{ 2 } \\cdot 3.14 } \\right \\rceil &= 4  \n",
       "\\end{aligned}\n",
       "\\]"
      ],
      "text/plain": [
       "<IPython.core.display.Latex object>"
      ]
     },
     "metadata": {},
     "output_type": "display_data"
    }
   ],
   "source": [
    "%%render 2\n",
    "\n",
    "x = sigma_cs0/(sigma_cs0 - sigma_ci0) * h\n",
    "\n",
    "S_x = b*x**2/2\n",
    "\n",
    "R_ct = sigma_cs0/x*S_x\n",
    "\n",
    "A_st = R_ct/25.00\n",
    "\n",
    "phi_st = 1.6\n",
    "\n",
    "N_st = ceil(A_st/((phi_st/2)**2*pi))"
   ]
  },
  {
   "cell_type": "markdown",
   "id": "a596a0c9",
   "metadata": {},
   "source": [
    "## Pré-Alongamento de Leito:"
   ]
  },
  {
   "cell_type": "code",
   "execution_count": 30,
   "id": "569ad1c3",
   "metadata": {},
   "outputs": [
    {
     "data": {
      "text/html": [
       "<div>\n",
       "<style scoped>\n",
       "    .dataframe tbody tr th:only-of-type {\n",
       "        vertical-align: middle;\n",
       "    }\n",
       "\n",
       "    .dataframe tbody tr th {\n",
       "        vertical-align: top;\n",
       "    }\n",
       "\n",
       "    .dataframe thead th {\n",
       "        text-align: right;\n",
       "    }\n",
       "</style>\n",
       "<table border=\"1\" class=\"dataframe\">\n",
       "  <thead>\n",
       "    <tr style=\"text-align: right;\">\n",
       "      <th></th>\n",
       "      <th>Np,F</th>\n",
       "      <th>Mp,F</th>\n",
       "      <th>Sigma,cpF</th>\n",
       "      <th>Sigma,PN</th>\n",
       "      <th>e,pn</th>\n",
       "    </tr>\n",
       "  </thead>\n",
       "  <tbody>\n",
       "    <tr>\n",
       "      <th>0</th>\n",
       "      <td>-743.86</td>\n",
       "      <td>-40912.3</td>\n",
       "      <td>-0.84</td>\n",
       "      <td>111.53</td>\n",
       "      <td>0.00558</td>\n",
       "    </tr>\n",
       "    <tr>\n",
       "      <th>1</th>\n",
       "      <td>-751.49</td>\n",
       "      <td>-41332.0</td>\n",
       "      <td>-0.84</td>\n",
       "      <td>112.62</td>\n",
       "      <td>0.00563</td>\n",
       "    </tr>\n",
       "    <tr>\n",
       "      <th>2</th>\n",
       "      <td>-759.19</td>\n",
       "      <td>-41755.4</td>\n",
       "      <td>-0.85</td>\n",
       "      <td>113.78</td>\n",
       "      <td>0.00569</td>\n",
       "    </tr>\n",
       "    <tr>\n",
       "      <th>3</th>\n",
       "      <td>-766.89</td>\n",
       "      <td>-42179.0</td>\n",
       "      <td>-0.86</td>\n",
       "      <td>114.95</td>\n",
       "      <td>0.00575</td>\n",
       "    </tr>\n",
       "    <tr>\n",
       "      <th>4</th>\n",
       "      <td>-774.52</td>\n",
       "      <td>-42598.6</td>\n",
       "      <td>-0.87</td>\n",
       "      <td>116.10</td>\n",
       "      <td>0.00580</td>\n",
       "    </tr>\n",
       "    <tr>\n",
       "      <th>...</th>\n",
       "      <td>...</td>\n",
       "      <td>...</td>\n",
       "      <td>...</td>\n",
       "      <td>...</td>\n",
       "      <td>...</td>\n",
       "    </tr>\n",
       "    <tr>\n",
       "      <th>96</th>\n",
       "      <td>-774.52</td>\n",
       "      <td>-42598.6</td>\n",
       "      <td>-0.87</td>\n",
       "      <td>116.10</td>\n",
       "      <td>0.00580</td>\n",
       "    </tr>\n",
       "    <tr>\n",
       "      <th>97</th>\n",
       "      <td>-766.89</td>\n",
       "      <td>-42179.0</td>\n",
       "      <td>-0.86</td>\n",
       "      <td>114.95</td>\n",
       "      <td>0.00575</td>\n",
       "    </tr>\n",
       "    <tr>\n",
       "      <th>98</th>\n",
       "      <td>-759.19</td>\n",
       "      <td>-41755.4</td>\n",
       "      <td>-0.85</td>\n",
       "      <td>113.78</td>\n",
       "      <td>0.00569</td>\n",
       "    </tr>\n",
       "    <tr>\n",
       "      <th>99</th>\n",
       "      <td>-751.49</td>\n",
       "      <td>-41332.0</td>\n",
       "      <td>-0.84</td>\n",
       "      <td>112.62</td>\n",
       "      <td>0.00563</td>\n",
       "    </tr>\n",
       "    <tr>\n",
       "      <th>100</th>\n",
       "      <td>-743.86</td>\n",
       "      <td>-40912.3</td>\n",
       "      <td>-0.84</td>\n",
       "      <td>111.53</td>\n",
       "      <td>0.00558</td>\n",
       "    </tr>\n",
       "  </tbody>\n",
       "</table>\n",
       "<p>101 rows × 5 columns</p>\n",
       "</div>"
      ],
      "text/plain": [
       "       Np,F     Mp,F  Sigma,cpF  Sigma,PN     e,pn\n",
       "0   -743.86 -40912.3      -0.84    111.53  0.00558\n",
       "1   -751.49 -41332.0      -0.84    112.62  0.00563\n",
       "2   -759.19 -41755.4      -0.85    113.78  0.00569\n",
       "3   -766.89 -42179.0      -0.86    114.95  0.00575\n",
       "4   -774.52 -42598.6      -0.87    116.10  0.00580\n",
       "..      ...      ...        ...       ...      ...\n",
       "96  -774.52 -42598.6      -0.87    116.10  0.00580\n",
       "97  -766.89 -42179.0      -0.86    114.95  0.00575\n",
       "98  -759.19 -41755.4      -0.85    113.78  0.00569\n",
       "99  -751.49 -41332.0      -0.84    112.62  0.00563\n",
       "100 -743.86 -40912.3      -0.84    111.53  0.00558\n",
       "\n",
       "[101 rows x 5 columns]"
      ]
     },
     "metadata": {},
     "output_type": "display_data"
    }
   ],
   "source": [
    "prealong = []\n",
    "\n",
    "for i in range(5):\n",
    "    prealong.append([0] * nS)\n",
    "    \n",
    "for i in range(nS):\n",
    "    for j in range(len(qntCordoalhas)-1,-1,-1):\n",
    "        if(relax[1][i] >= x1_anc[j] and relax[1][i] <= x2_anc[j]):\n",
    "                sigma_pw = sigma_p[j]\n",
    "                Npw = N_p[j]\n",
    "                Mpw = M_p[j]\n",
    "                Wcpw = W_cp[j]\n",
    "                break\n",
    "    prealong[0][i] = Npw + progressivas[2][i]\n",
    "    prealong[1][i] = Mpw + progressivas[3][i]\n",
    "    prealong[2][i] = round(prealong[0][i]/Area + prealong[1][i]/Wcpw ,2)\n",
    "    prealong[3][i] = round( sigma_pw + progressivas[1][i] - alpha_p*prealong[2][i] ,2)\n",
    "    prealong[4][i] = round(prealong[3][i]/E_p,5)\n",
    "\n",
    "tabela7 = pd.DataFrame(prealong)\n",
    "tabela7 = tabela7.transpose()\n",
    "tabela7.rename(columns={0:'Np,F',1:'Mp,F',2:'Sigma,cpF', 3:'Sigma,PN',4:'e,pn'},inplace = True)\n",
    "display(tabela7)"
   ]
  },
  {
   "cell_type": "markdown",
   "id": "4d5136bb",
   "metadata": {},
   "source": [
    "## Armadura Passiva de Flexão:"
   ]
  },
  {
   "cell_type": "markdown",
   "id": "31b176c6",
   "metadata": {},
   "source": [
    "![formulario](img/formulario.png)"
   ]
  },
  {
   "cell_type": "code",
   "execution_count": 31,
   "id": "1f6b8e0e",
   "metadata": {},
   "outputs": [
    {
     "data": {
      "text/html": [
       "<div>\n",
       "<style scoped>\n",
       "    .dataframe tbody tr th:only-of-type {\n",
       "        vertical-align: middle;\n",
       "    }\n",
       "\n",
       "    .dataframe tbody tr th {\n",
       "        vertical-align: top;\n",
       "    }\n",
       "\n",
       "    .dataframe thead th {\n",
       "        text-align: right;\n",
       "    }\n",
       "</style>\n",
       "<table border=\"1\" class=\"dataframe\">\n",
       "  <thead>\n",
       "    <tr style=\"text-align: right;\">\n",
       "      <th></th>\n",
       "      <th>x1</th>\n",
       "      <th>x2</th>\n",
       "      <th>x</th>\n",
       "      <th>eps,sx</th>\n",
       "      <th>eps,p</th>\n",
       "      <th>As</th>\n",
       "    </tr>\n",
       "  </thead>\n",
       "  <tbody>\n",
       "    <tr>\n",
       "      <th>0</th>\n",
       "      <td>0.00</td>\n",
       "      <td>0.00</td>\n",
       "      <td>0.00</td>\n",
       "      <td>0.00</td>\n",
       "      <td>0.00</td>\n",
       "      <td>0.0</td>\n",
       "    </tr>\n",
       "    <tr>\n",
       "      <th>1</th>\n",
       "      <td>269.01</td>\n",
       "      <td>-0.26</td>\n",
       "      <td>-0.26</td>\n",
       "      <td>-1452.32</td>\n",
       "      <td>-1553.39</td>\n",
       "      <td>0.0</td>\n",
       "    </tr>\n",
       "    <tr>\n",
       "      <th>2</th>\n",
       "      <td>268.04</td>\n",
       "      <td>0.71</td>\n",
       "      <td>0.71</td>\n",
       "      <td>527.93</td>\n",
       "      <td>565.01</td>\n",
       "      <td>0.0</td>\n",
       "    </tr>\n",
       "    <tr>\n",
       "      <th>3</th>\n",
       "      <td>267.09</td>\n",
       "      <td>1.66</td>\n",
       "      <td>1.66</td>\n",
       "      <td>222.81</td>\n",
       "      <td>238.60</td>\n",
       "      <td>0.0</td>\n",
       "    </tr>\n",
       "    <tr>\n",
       "      <th>4</th>\n",
       "      <td>266.15</td>\n",
       "      <td>2.60</td>\n",
       "      <td>2.60</td>\n",
       "      <td>141.00</td>\n",
       "      <td>151.09</td>\n",
       "      <td>0.0</td>\n",
       "    </tr>\n",
       "    <tr>\n",
       "      <th>...</th>\n",
       "      <td>...</td>\n",
       "      <td>...</td>\n",
       "      <td>...</td>\n",
       "      <td>...</td>\n",
       "      <td>...</td>\n",
       "      <td>...</td>\n",
       "    </tr>\n",
       "    <tr>\n",
       "      <th>96</th>\n",
       "      <td>266.15</td>\n",
       "      <td>2.60</td>\n",
       "      <td>2.60</td>\n",
       "      <td>141.00</td>\n",
       "      <td>151.09</td>\n",
       "      <td>0.0</td>\n",
       "    </tr>\n",
       "    <tr>\n",
       "      <th>97</th>\n",
       "      <td>267.09</td>\n",
       "      <td>1.66</td>\n",
       "      <td>1.66</td>\n",
       "      <td>222.81</td>\n",
       "      <td>238.60</td>\n",
       "      <td>0.0</td>\n",
       "    </tr>\n",
       "    <tr>\n",
       "      <th>98</th>\n",
       "      <td>268.04</td>\n",
       "      <td>0.71</td>\n",
       "      <td>0.71</td>\n",
       "      <td>527.93</td>\n",
       "      <td>565.01</td>\n",
       "      <td>0.0</td>\n",
       "    </tr>\n",
       "    <tr>\n",
       "      <th>99</th>\n",
       "      <td>269.01</td>\n",
       "      <td>-0.26</td>\n",
       "      <td>-0.26</td>\n",
       "      <td>-1452.32</td>\n",
       "      <td>-1553.39</td>\n",
       "      <td>0.0</td>\n",
       "    </tr>\n",
       "    <tr>\n",
       "      <th>100</th>\n",
       "      <td>0.00</td>\n",
       "      <td>0.00</td>\n",
       "      <td>0.00</td>\n",
       "      <td>0.00</td>\n",
       "      <td>0.00</td>\n",
       "      <td>0.0</td>\n",
       "    </tr>\n",
       "  </tbody>\n",
       "</table>\n",
       "<p>101 rows × 6 columns</p>\n",
       "</div>"
      ],
      "text/plain": [
       "         x1    x2     x   eps,sx    eps,p   As\n",
       "0      0.00  0.00  0.00     0.00     0.00  0.0\n",
       "1    269.01 -0.26 -0.26 -1452.32 -1553.39  0.0\n",
       "2    268.04  0.71  0.71   527.93   565.01  0.0\n",
       "3    267.09  1.66  1.66   222.81   238.60  0.0\n",
       "4    266.15  2.60  2.60   141.00   151.09  0.0\n",
       "..      ...   ...   ...      ...      ...  ...\n",
       "96   266.15  2.60  2.60   141.00   151.09  0.0\n",
       "97   267.09  1.66  1.66   222.81   238.60  0.0\n",
       "98   268.04  0.71  0.71   527.93   565.01  0.0\n",
       "99   269.01 -0.26 -0.26 -1452.32 -1553.39  0.0\n",
       "100    0.00  0.00  0.00     0.00     0.00  0.0\n",
       "\n",
       "[101 rows x 6 columns]"
      ]
     },
     "metadata": {},
     "output_type": "display_data"
    }
   ],
   "source": [
    "d_p = [] # braço de alavanca da armadura ativa\n",
    "d_s = [] # braço de alavanca da armadura passiva\n",
    "\n",
    "for i in range(len(qntCordoalhas)):\n",
    "    d_p.append(e_p_i[i] + h/2)\n",
    "    d_s.append(d_p[i] - 7.5) # estimativa para ds\n",
    "    \n",
    "\n",
    "A_s = []\n",
    "for i in range(6):\n",
    "    A_s.append([0] * nS)\n",
    "    \n",
    "for i in range(1,nS-1):\n",
    "    for j in range(len(qntCordoalhas)-1,-1,-1):\n",
    "        if(relax[1][i] >= x1_anc[j] and relax[1][i] <= x2_anc[j]):\n",
    "            sigma_pm = sigma_p[j]\n",
    "            Npm = N_p[j]\n",
    "            Mpm = M_p[j]\n",
    "            Wcpm = W_cp[j]\n",
    "            A_pm = A_p[j]\n",
    "            d_sm = d_s[j]\n",
    "            d_pm = d_p[j]\n",
    "            break\n",
    "    Rpt = f_pyd * A_pm\n",
    "    a_bh = 1\n",
    "    b_bh = -2.5*d_sm\n",
    "    c_bh = (esforcos[1][i]*1.4 + Rpt*(d_sm-d_pm))/(0.32*b*f_c)\n",
    "    x_1 = (-b_bh + (b_bh**2 - 4*a_bh*c_bh )**0.5)/(2*a_bh)\n",
    "    x_2 = (-b_bh - (b_bh**2 - 4*a_bh*c_bh )**0.5)/(2*a_bh)\n",
    "    A_s[0][i] = round(x_1,2)\n",
    "    A_s[1][i] = round(x_2,2)\n",
    "    if (x_1 > h or x_1 < 0):\n",
    "        x = x_2\n",
    "    else:\n",
    "        x = x_1\n",
    "    A_s[2][i] = round(x,2)\n",
    "    A_s[3][i] = round(3.5/x*(d_sm-x),2)\n",
    "    A_s[4][i] = round(prealong[4][i] + 3.5/x*(d_pm-x),2)\n",
    "    A_s[5][i] = round((0.8*b*x*f_c-Rpt)/f_yd,2)\n",
    "    if (A_s[5][i] < 0):\n",
    "        A_s[5][i] = 0\n",
    "\n",
    "tabela8 = pd.DataFrame(A_s)\n",
    "tabela8 = tabela8.transpose()\n",
    "tabela8.rename(columns={0:'x1',1:'x2', 2:'x',3:'eps,sx',4:'eps,p',5:'As'},inplace = True)\n",
    "display(tabela8)"
   ]
  },
  {
   "cell_type": "markdown",
   "id": "65c38f65",
   "metadata": {},
   "source": [
    "# Dimensionamento ao Esforço Cortante:\n",
    "\n",
    "## Verificação da Diagonal Comprimida:"
   ]
  },
  {
   "cell_type": "code",
   "execution_count": 32,
   "id": "ae08011f",
   "metadata": {},
   "outputs": [
    {
     "data": {
      "text/latex": [
       "\\[\n",
       "\\begin{aligned}\n",
       "V_{d} &= V_{F} \\cdot 1.4  = 186.498 \\cdot 1.4 &= 261.097  \n",
       "\\\\[10pt]\n",
       "\\tau_{wd} &= \\frac{ V_{d} }{ \\left( b - e_{eps} \\right) \\cdot d_{sm} }  = \\frac{ 261.097 }{ \\left( 30 - 12 \\right) \\cdot 107.5 } &= 1.349 \\times 10 ^ {-1 }  \n",
       "\\\\[10pt]\n",
       "\\tau_{wu} &= 0.27 \\cdot \\left( 1 - \\frac{ f_{ck} }{ 25 } \\right) \\cdot \\frac{ f_{ck} }{ 1.4 }  = 0.27 \\cdot \\left( 1 - \\frac{ 4 }{ 25 } \\right) \\cdot \\frac{ 4 }{ 1.4 } &= 0.648  \n",
       "\\end{aligned}\n",
       "\\]"
      ],
      "text/plain": [
       "<IPython.core.display.Latex object>"
      ]
     },
     "metadata": {},
     "output_type": "display_data"
    }
   ],
   "source": [
    "%%render\n",
    "\n",
    "V_d = V_F * 1.4\n",
    "tau_wd = V_d/((b-e_eps)*d_sm)\n",
    "tau_wu = 0.27*(1-f_ck/25)*f_ck/1.4\n"
   ]
  },
  {
   "cell_type": "code",
   "execution_count": 33,
   "id": "4ef95e8c",
   "metadata": {},
   "outputs": [
    {
     "name": "stdout",
     "output_type": "stream",
     "text": [
      "OK!\n"
     ]
    }
   ],
   "source": [
    "if tau_wu > tau_wd:\n",
    "    print(\"OK!\")\n",
    "else:\n",
    "    print(\"NÃO OK!\")"
   ]
  },
  {
   "cell_type": "markdown",
   "id": "c19e4cee",
   "metadata": {},
   "source": [
    "## Cálculo da Armadura de Corte:\n",
    "\n",
    "### Armadura Mínima:"
   ]
  },
  {
   "cell_type": "code",
   "execution_count": 34,
   "id": "22d38c73",
   "metadata": {},
   "outputs": [
    {
     "data": {
      "text/latex": [
       "\\[\n",
       "\\begin{aligned}\n",
       "\\rho_{min} &= 0.2 \\cdot \\frac{ f_{ctm} }{ f_{yk} }  = 0.2 \\cdot \\frac{ 3.509 \\times 10 ^ {-1 } }{ 50 } &= 1.404 \\times 10 ^ {-3 }  \n",
       "\\\\[10pt]\n",
       "A_{sws} &= \\rho_{min} \\cdot b  = 1.404 \\times 10 ^ {-3 } \\cdot 30 &= 4.211 \\times 10 ^ {-2 }  \n",
       "\\\\[10pt]\n",
       "s &= 20 \\; \n",
       "\\\\[10pt]\n",
       "A_{sw_{min}} &= A_{sws} \\cdot s  = 4.211 \\times 10 ^ {-2 } \\cdot 20 &= 8.421 \\times 10 ^ {-1 }  \n",
       "\\\\[10pt]\n",
       "\\mathrm{nr} &= 2 \\; \n",
       "\\\\[10pt]\n",
       "\\phi_{min} &= 2 \\cdot \\left( \\frac{ A_{sw_{min}} }{ \\pi \\cdot \\mathrm{nr} } \\right) ^{ 0.5 }  = 2 \\cdot \\left( \\frac{ 8.421 \\times 10 ^ {-1 } }{ 3.142 \\cdot 2 } \\right) ^{ 0.5 } &= 7.322 \\times 10 ^ {-1 }  \n",
       "\\end{aligned}\n",
       "\\]"
      ],
      "text/plain": [
       "<IPython.core.display.Latex object>"
      ]
     },
     "metadata": {},
     "output_type": "display_data"
    }
   ],
   "source": [
    "%%render short\n",
    "\n",
    "rho_min = 0.2*f_ctm/f_yk\n",
    "A_sws = rho_min*b\n",
    "\n",
    "s = 20\n",
    "\n",
    "A_sw_min = A_sws*s\n",
    "\n",
    "nr = 2\n",
    "\n",
    "phi_min = 2*(A_sw_min/(pi*nr))**0.5\n"
   ]
  },
  {
   "cell_type": "markdown",
   "id": "d12af5a7",
   "metadata": {},
   "source": [
    "### Armadura Calculada:"
   ]
  },
  {
   "cell_type": "code",
   "execution_count": 35,
   "id": "6b0fc121",
   "metadata": {},
   "outputs": [],
   "source": [
    "i = int((nS+1)/2)\n",
    "M_pf = prealong[1][i]\n",
    "N_pf = prealong[0][i]"
   ]
  },
  {
   "cell_type": "code",
   "execution_count": 36,
   "id": "c82568dd",
   "metadata": {},
   "outputs": [
    {
     "data": {
      "text/latex": [
       "\\[\n",
       "\\begin{aligned}\n",
       "\\sigma_{ciF} &= \\frac{ N_{pf} }{ \\mathrm{Area} } + \\frac{ M_{pf} }{ W_{i} }  = \\frac{ -1594.72 }{ 2760 } + \\frac{ -83722.8 }{ 66283.333 } &= -1.841  \n",
       "\\\\[10pt]\n",
       "M_{0} &= \\left( - \\sigma_{ciF} \\right) \\cdot W_{i}  = \\left( - -1.841 \\right) \\cdot 66283.333 &= 122021.118  \n",
       "\\\\[10pt]\n",
       "M_{d_{max}} &= 1.4 \\cdot M_{F}  = 1.4 \\cdot 111479.179 &= 156070.851  \n",
       "\\\\[10pt]\n",
       "V_{c0} &= 0.6 \\cdot f_{ctd} \\cdot b \\cdot d_{sm}  = 0.6 \\cdot 1.512 \\times 10 ^ {-1 } \\cdot 30 \\cdot 107.5 &= 292.554  \n",
       "\\\\[10pt]\n",
       "V_{c} &= \\left( 1 + \\frac{ M_{0} }{ M_{d_{max}} } \\right) \\cdot V_{c0}  = \\left( 1 + \\frac{ 122021.118 }{ 156070.851 } \\right) \\cdot 292.554 &= 521.281  \n",
       "\\\\[10pt]\n",
       "V_{sw} &= 1.4 \\cdot V_{F} - V_{c}  = 1.4 \\cdot 186.498 - 521.281 &= -260.184  \n",
       "\\\\[10pt]\n",
       "A_{sws} &= \\frac{ V_{sw} }{ 0.9 \\cdot d_{sm} \\cdot f_{yd} }  = \\frac{ -260.184 }{ 0.9 \\cdot 107.5 \\cdot 43.478 } &= -6.185 \\times 10 ^ {-2 }  \n",
       "\\\\[10pt]\n",
       "s &= 20 \\; \n",
       "\\\\[10pt]\n",
       "\\mathrm{nr} &= 2 \\; \n",
       "\\\\[10pt]\n",
       "\\phi_{min} &= 2 \\cdot \\left( \\frac{ A_{sws} }{ \\pi \\cdot \\mathrm{nr} } \\right) ^{ 0.5 }  = 2 \\cdot \\left( \\frac{ -6.185 \\times 10 ^ {-2 } }{ 3.142 \\cdot 2 } \\right) ^{ 0.5 } &= nan  \n",
       "\\end{aligned}\n",
       "\\]"
      ],
      "text/plain": [
       "<IPython.core.display.Latex object>"
      ]
     },
     "metadata": {},
     "output_type": "display_data"
    }
   ],
   "source": [
    "%%render\n",
    "\n",
    "sigma_ciF = N_pf/Area + M_pf/W_i\n",
    "M_0 = -sigma_ciF*W_i\n",
    "M_d_max = 1.4*M_F\n",
    "\n",
    "V_c0 = 0.6*f_ctd*b*d_sm\n",
    "V_c = (1+M_0/M_d_max)*V_c0\n",
    "\n",
    "V_sw = 1.4*V_F - V_c\n",
    "\n",
    "A_sws = V_sw/(0.9*d_sm*f_yd)\n",
    "\n",
    "s = 20\n",
    "nr = 2\n",
    "phi_min = 2*(A_sws/(pi*nr))**0.5"
   ]
  },
  {
   "cell_type": "markdown",
   "id": "cb07b5ff",
   "metadata": {},
   "source": [
    "## Armadura de Introdução da Força de Protensão:"
   ]
  },
  {
   "cell_type": "code",
   "execution_count": 37,
   "id": "6fc6c7de",
   "metadata": {},
   "outputs": [],
   "source": [
    "N_p1 = -N_p[0]"
   ]
  },
  {
   "cell_type": "code",
   "execution_count": 38,
   "id": "b7590313",
   "metadata": {},
   "outputs": [
    {
     "data": {
      "text/latex": [
       "\\[\n",
       "\\begin{aligned}\n",
       "A_{swi} &= \\frac{ 0.25 \\cdot N_{p1} }{ 25.00 }  = \\frac{ 0.25 \\cdot 1007.2 }{ 25.00 } &= 10.072  \n",
       "\\end{aligned}\n",
       "\\]"
      ],
      "text/plain": [
       "<IPython.core.display.Latex object>"
      ]
     },
     "metadata": {},
     "output_type": "display_data"
    }
   ],
   "source": [
    "%%render\n",
    "\n",
    "A_swi = (0.25*N_p1)/25.00"
   ]
  },
  {
   "cell_type": "markdown",
   "id": "fd785673",
   "metadata": {},
   "source": [
    "Esta armadura deve ser distribuída num trecho equivalente à 70% do comprimento de regularização."
   ]
  },
  {
   "cell_type": "code",
   "execution_count": 39,
   "id": "f6602312",
   "metadata": {
    "scrolled": true
   },
   "outputs": [
    {
     "data": {
      "text/latex": [
       "\\[\n",
       "\\begin{aligned}\n",
       "l_{d} &= l_{p} \\cdot 0.7  = 151.731 \\cdot 0.7 &= 106.211  \n",
       "\\end{aligned}\n",
       "\\]"
      ],
      "text/plain": [
       "<IPython.core.display.Latex object>"
      ]
     },
     "metadata": {},
     "output_type": "display_data"
    }
   ],
   "source": [
    "%%render\n",
    "\n",
    "l_d = l_p*0.7"
   ]
  }
 ],
 "metadata": {
  "kernelspec": {
   "display_name": "Python 3 (ipykernel)",
   "language": "python",
   "name": "python3"
  },
  "language_info": {
   "codemirror_mode": {
    "name": "ipython",
    "version": 3
   },
   "file_extension": ".py",
   "mimetype": "text/x-python",
   "name": "python",
   "nbconvert_exporter": "python",
   "pygments_lexer": "ipython3",
   "version": "3.9.7"
  }
 },
 "nbformat": 4,
 "nbformat_minor": 5
}
