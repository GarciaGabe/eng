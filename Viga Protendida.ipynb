{
 "cells": [
  {
   "cell_type": "markdown",
   "id": "b6224006",
   "metadata": {},
   "source": [
    "# PROGRAMA DE VIGA PROTENDIDA\n",
    "\n",
    "Algorítmo para cálculo de uma viga protendida. \\n\n",
    "Todas as grandezas apresentadas possuem como unidades base kN [força] e cm [comprimento]."
   ]
  },
  {
   "cell_type": "code",
   "execution_count": 46,
   "id": "36ead105",
   "metadata": {},
   "outputs": [],
   "source": [
    "import handcalcs.render\n",
    "import forallpeople as si\n",
    "\n",
    "# TODAS AS UNIDADES EM kN e cm"
   ]
  },
  {
   "cell_type": "markdown",
   "id": "0827d7c6",
   "metadata": {},
   "source": [
    "## 1 - Informações Iniciais:\n",
    "\n",
    "### 1.1 - Geometria da Viga:"
   ]
  },
  {
   "cell_type": "code",
   "execution_count": 2,
   "id": "9ae2ffd6",
   "metadata": {},
   "outputs": [],
   "source": [
    "# Geometria da Viga:\n",
    "\n",
    "Area = 2850\n",
    "Inercia = 3.96 * 10 ** 6\n",
    "W_i = 61500\n",
    "W_s = 61500\n",
    "e_p = 52\n",
    "Vao = 2458"
   ]
  },
  {
   "cell_type": "markdown",
   "id": "14134ea3",
   "metadata": {},
   "source": [
    "### 1.2 - Propriedades dos Materiais:"
   ]
  },
  {
   "cell_type": "code",
   "execution_count": 44,
   "id": "a7d62aa8",
   "metadata": {},
   "outputs": [
    {
     "data": {
      "text/latex": [
       "\\[\n",
       "\\begin{aligned}\n",
       "f_{ck} &= 4 \\; \n",
       "\\\\[10pt]\n",
       "f_{ptk} &= 190 \\; \n",
       "\\\\[10pt]\n",
       "f_{yk} &= 50 \\; \n",
       "\\\\[10pt]\n",
       "f_{cj} &= 3.2 \\; \n",
       "\\\\[10pt]\n",
       "E_{s} &= 21000 \\; \n",
       "\\\\[10pt]\n",
       "E_{p} &= 20000 \\; \n",
       "\\end{aligned}\n",
       "\\]"
      ],
      "text/plain": [
       "<IPython.core.display.Latex object>"
      ]
     },
     "metadata": {},
     "output_type": "display_data"
    }
   ],
   "source": [
    "%%render\n",
    "# Propriedades dos Materiais:\n",
    "\n",
    "# Concreto:\n",
    "f_ck = 4\n",
    "f_ptk = 190\n",
    "f_yk = 50\n",
    "f_cj = 3.2\n",
    "\n",
    "E_s = 21000\n",
    "E_p = 20000"
   ]
  },
  {
   "cell_type": "code",
   "execution_count": 4,
   "id": "3fecd76f",
   "metadata": {},
   "outputs": [
    {
     "data": {
      "text/latex": [
       "\\[\n",
       "\\begin{aligned}\n",
       "E_{ci} &= 5600 \\cdot \\left( f_{ck} \\cdot 10 \\right) ^{ \\left( \\frac{ 1 }{ 2 } \\right) }  = 5600 \\cdot \\left( 4 \\cdot 10 \\right) ^{ \\left( \\frac{ 1 }{ 2 } \\right) } &= 35417.51  \n",
       "\\\\[10pt]\n",
       "E_{cs} &= E_{ci} \\cdot \\left( 0.8 + 0.2 \\cdot \\frac{ f_{ck} }{ 8 } \\right)  = 35417.51 \\cdot \\left( 0.8 + 0.2 \\cdot \\frac{ 4 }{ 8 } \\right) &= 31875.76  \n",
       "\\\\[10pt]\n",
       "E_{cit0} &= \\left( \\frac{ f_{cj} }{ f_{ck} } \\right) ^{ \\left( \\frac{ 1 }{ 2 } \\right) } \\cdot E_{ci}  = \\left( \\frac{ 3.2 }{ 4 } \\right) ^{ \\left( \\frac{ 1 }{ 2 } \\right) } \\cdot 35417.51 &= 31678.38  \n",
       "\\\\[10pt]\n",
       "E_{cst0} &= E_{cit0} \\cdot \\left( 0.8 + 0.2 \\cdot \\frac{ f_{ck} }{ 8 } \\right)  = 31678.38 \\cdot \\left( 0.8 + 0.2 \\cdot \\frac{ 4 }{ 8 } \\right) &= 28510.55  \n",
       "\\\\[10pt]\n",
       "f_{yd} &= \\frac{ f_{yk} }{ 1.15 }  = \\frac{ 50 }{ 1.15 } &= 43.48  \n",
       "\\\\[10pt]\n",
       "\\sigma_{p0} &= 0.8 \\cdot f_{ptk}  = 0.8 \\cdot 190 &= 152.0  \n",
       "\\end{aligned}\n",
       "\\]"
      ],
      "text/plain": [
       "<IPython.core.display.Latex object>"
      ]
     },
     "metadata": {},
     "output_type": "display_data"
    }
   ],
   "source": [
    "%%render 2\n",
    "\n",
    "E_ci = 5600*(f_ck*10)**(1/2)\n",
    "E_cs = E_ci*(0.8+0.2*f_ck/8)\n",
    "\n",
    "E_cit0 = (f_cj/f_ck)**(1/2)*E_ci\n",
    "E_cst0 = E_cit0*(0.8+0.2*f_ck/8)\n",
    "\n",
    "f_yd = f_yk/1.15\n",
    "sigma_p0 = 0.8*f_ptk"
   ]
  },
  {
   "cell_type": "markdown",
   "id": "3d992512",
   "metadata": {},
   "source": [
    "### 1.3 - Carregamentos:"
   ]
  },
  {
   "cell_type": "code",
   "execution_count": 5,
   "id": "d578be19",
   "metadata": {},
   "outputs": [
    {
     "data": {
      "text/latex": [
       "\\[\n",
       "\\begin{aligned}\n",
       "Q_{pp} &= 0.000025 \\cdot \\mathrm{Area}  = 0.000025 \\cdot 2850 &= 7.13 \\times 10 ^ {-2 }  \n",
       "\\\\[10pt]\n",
       "Q_{sc} &= 8.80 \\times 10 ^ {-2 } \\; \n",
       "\\end{aligned}\n",
       "\\]"
      ],
      "text/plain": [
       "<IPython.core.display.Latex object>"
      ]
     },
     "metadata": {},
     "output_type": "display_data"
    }
   ],
   "source": [
    "%%render 2\n",
    "\n",
    "#PESO PRÓPRIO DA VIGA:\n",
    "Q_pp = 0.000025*Area\n",
    "Q_sc = 0.088"
   ]
  },
  {
   "cell_type": "markdown",
   "id": "c82c1fa3",
   "metadata": {},
   "source": [
    "### 1.4 - Esforços no Centro do Vão:"
   ]
  },
  {
   "cell_type": "code",
   "execution_count": 6,
   "id": "21d314b4",
   "metadata": {},
   "outputs": [
    {
     "data": {
      "text/latex": [
       "\\[\n",
       "\\begin{aligned}\n",
       "M_{F} &= \\left( Q_{pp} + Q_{sc} \\right) \\cdot \\left( \\mathrm{Vao} \\right) ^{ 2 } \\cdot 0.125  = \\left( 7.13 \\times 10 ^ {-2 } + 8.80 \\times 10 ^ {-2 } \\right) \\cdot \\left( 2458 \\right) ^{ 2 } \\cdot 0.125 &= 120268.86  \n",
       "\\\\[10pt]\n",
       "M_{0} &= Q_{pp} \\cdot \\left( \\mathrm{Vao} \\right) ^{ 2 } \\cdot 0.125  = 7.13 \\times 10 ^ {-2 } \\cdot \\left( 2458 \\right) ^{ 2 } \\cdot 0.125 &= 53809.46  \n",
       "\\\\[10pt]\n",
       "V_{F} &= \\left( Q_{pp} + Q_{sc} \\right) \\cdot \\frac{ \\mathrm{Vao} }{ 2 }  = \\left( 7.13 \\times 10 ^ {-2 } + 8.80 \\times 10 ^ {-2 } \\right) \\cdot \\frac{ 2458 }{ 2 } &= 195.72  \n",
       "\\end{aligned}\n",
       "\\]"
      ],
      "text/plain": [
       "<IPython.core.display.Latex object>"
      ]
     },
     "metadata": {},
     "output_type": "display_data"
    }
   ],
   "source": [
    "%%render 2 short\n",
    "M_F = (Q_pp+Q_sc)*Vao**2*0.125\n",
    "M_0 = (Q_pp)*Vao**2*0.125\n",
    "V_F = (Q_pp+Q_sc)*Vao/2"
   ]
  },
  {
   "cell_type": "markdown",
   "id": "9b0ada7b",
   "metadata": {},
   "source": [
    "## 2 - Deteminação da Força de Protensão:\n",
    "\n",
    "### 2.1 - Limites de Tensão:"
   ]
  },
  {
   "cell_type": "code",
   "execution_count": 7,
   "id": "9b94d2e4",
   "metadata": {
    "scrolled": true
   },
   "outputs": [
    {
     "data": {
      "text/latex": [
       "\\[\n",
       "\\begin{aligned}\n",
       "\\sigma_{ct0} &= \\left( - 1.2 \\right) \\cdot 0.03 \\cdot \\left( f_{cj} \\cdot 10 \\right) ^{ \\left( \\frac{ 2 }{ 3 } \\right) }  = \\left( - 1.2 \\right) \\cdot 0.03 \\cdot \\left( 3.2 \\cdot 10 \\right) ^{ \\left( \\frac{ 2 }{ 3 } \\right) } &= -3.629 \\times 10 ^ {-1 }  \n",
       "\\\\[10pt]\n",
       "\\sigma_{cc0} &= 0.7 \\cdot f_{cj}  = 0.7 \\cdot 3.2 &= 2.24  \n",
       "\\\\[10pt]\n",
       "\\sigma_{ctF} &= \\left( - 1.2 \\right) \\cdot 0.03 \\cdot \\left( f_{ck} \\cdot 10 \\right) ^{ \\left( \\frac{ 2 }{ 3 } \\right) }  = \\left( - 1.2 \\right) \\cdot 0.03 \\cdot \\left( 4 \\cdot 10 \\right) ^{ \\left( \\frac{ 2 }{ 3 } \\right) } &= -4.211 \\times 10 ^ {-1 }  \n",
       "\\\\[10pt]\n",
       "\\sigma_{ccF} &= 0.5 \\cdot f_{ck}  = 0.5 \\cdot 4 &= 2.0  \n",
       "\\\\[10pt]\n",
       "r_{0} &= 0.95 \\; \n",
       "\\\\[10pt]\n",
       "r_{F} &= 0.8 \\; \n",
       "\\end{aligned}\n",
       "\\]"
      ],
      "text/plain": [
       "<IPython.core.display.Latex object>"
      ]
     },
     "metadata": {},
     "output_type": "display_data"
    }
   ],
   "source": [
    "%%render\n",
    "\n",
    "sigma_ct0 = -1.2*0.03*(f_cj*10)**(2/3)\n",
    "sigma_cc0 = 0.7*f_cj\n",
    "sigma_ctF = -1.2*0.03*(f_ck*10)**(2/3)\n",
    "sigma_ccF = 0.5*f_ck\n",
    "\n",
    "r_0 = 0.95\n",
    "r_F = 0.80"
   ]
  },
  {
   "cell_type": "markdown",
   "id": "01901b13",
   "metadata": {},
   "source": [
    "### 2.2 - Determinação da Força de Protensão:"
   ]
  },
  {
   "cell_type": "code",
   "execution_count": 8,
   "id": "654ce266",
   "metadata": {},
   "outputs": [
    {
     "data": {
      "text/latex": [
       "\\[\n",
       "\\begin{aligned}\n",
       "\\mathrm{Fator} &= -4.95 \\times 10 ^ {-4 } \\; \n",
       "\\\\[10pt]\n",
       "& \\textrm{se Fator > 0, a força de protensão deverá ser adotada como: P > P1,P3 e P < P2,P4}\\\\[10pt]\n",
       "& \\textrm{se Fator < 0, a força de protensão deverá ser adotada como: P < P1,P2 e P > P3,P4}\\\\[10pt]\n",
       "P_{1} &= \\frac{ \\sigma_{cc0} + \\frac{ M_{0} }{ W_{i} } }{ r_{0} \\cdot \\left( \\frac{ 1 }{ \\mathrm{Area} } + \\frac{ e_{p} }{ W_{i} } \\right) }  = \\frac{ 2.24 + \\frac{ 53809.46 }{ 61500 } }{ 0.95 \\cdot \\left( \\frac{ 1 }{ 2850 } + \\frac{ 52 }{ 61500 } \\right) } &= 2740.62  \n",
       "\\\\[10pt]\n",
       "P_{2} &= \\frac{ \\sigma_{ct0} - \\frac{ M_{0} }{ W_{s} } }{ r_{0} \\cdot \\left( \\frac{ 1 }{ \\mathrm{Area} } - \\frac{ e_{p} }{ W_{s} } \\right) }  = \\frac{ -3.63 \\times 10 ^ {-1 } - \\frac{ 53809.46 }{ 61500 } }{ 0.95 \\cdot \\left( \\frac{ 1 }{ 2850 } - \\frac{ 52 }{ 61500 } \\right) } &= 2634.09  \n",
       "\\\\[10pt]\n",
       "P_{3} &= \\frac{ \\sigma_{ctF} + \\frac{ M_{F} }{ W_{i} } }{ r_{F} \\cdot \\left( \\frac{ 1 }{ \\mathrm{Area} } + \\frac{ e_{p} }{ W_{i} } \\right) }  = \\frac{ -4.21 \\times 10 ^ {-1 } + \\frac{ 120268.86 }{ 61500 } }{ 0.8 \\cdot \\left( \\frac{ 1 }{ 2850 } + \\frac{ 52 }{ 61500 } \\right) } &= 1603.27  \n",
       "\\\\[10pt]\n",
       "P_{4} &= \\frac{ \\sigma_{ccF} - \\frac{ M_{F} }{ W_{s} } }{ r_{F} \\cdot \\left( \\frac{ 1 }{ \\mathrm{Area} } - \\frac{ e_{p} }{ W_{s} } \\right) }  = \\frac{ 2.0 - \\frac{ 120268.86 }{ 61500 } }{ 0.8 \\cdot \\left( \\frac{ 1 }{ 2850 } - \\frac{ 52 }{ 61500 } \\right) } &= -112.22  \n",
       "\\end{aligned}\n",
       "\\]"
      ],
      "text/plain": [
       "<IPython.core.display.Latex object>"
      ]
     },
     "metadata": {},
     "output_type": "display_data"
    }
   ],
   "source": [
    "%%render short 2\n",
    "\n",
    "Fator = (1/Area - e_p/W_s)\n",
    "##se Fator > 0, a força de protensão deverá ser adotada como: P > P1,P3 e P < P2,P4\n",
    "##se Fator < 0, a força de protensão deverá ser adotada como: P < P1,P2 e P > P3,P4\n",
    "\n",
    "P_1 = (sigma_cc0+M_0/W_i)/(r_0*(1/Area + e_p/W_i)) \n",
    "P_2 = (sigma_ct0-M_0/W_s)/(r_0*(1/Area - e_p/W_s)) \n",
    "P_3 = (sigma_ctF+M_F/W_i)/(r_F*(1/Area + e_p/W_i))\n",
    "P_4 = (sigma_ccF-M_F/W_s)/(r_F*(1/Area - e_p/W_s))\n"
   ]
  },
  {
   "cell_type": "markdown",
   "id": "f125dec8",
   "metadata": {},
   "source": [
    "## 2.3 - Escolha da Protensão:"
   ]
  },
  {
   "cell_type": "code",
   "execution_count": 9,
   "id": "1643d970",
   "metadata": {},
   "outputs": [
    {
     "data": {
      "text/latex": [
       "\\[\n",
       "\\begin{aligned}\n",
       "P &= 2634 \\; \n",
       "\\\\[10pt]\n",
       "\\phi_{1} &= 1.52 \\; \n",
       "\\\\[10pt]\n",
       "A_{p1} &= 1.43 \\; \n",
       "\\\\[10pt]\n",
       "& \\textrm{ Número de cordoalhas para adotar:}\\\\[10pt]\n",
       "n &= \\frac{ P }{ A_{p1} \\cdot \\sigma_{p0} }  = \\frac{ 2634 }{ 1.43 \\cdot 152.0 } &= 12.118  \n",
       "\\end{aligned}\n",
       "\\]"
      ],
      "text/plain": [
       "<IPython.core.display.Latex object>"
      ]
     },
     "metadata": {},
     "output_type": "display_data"
    }
   ],
   "source": [
    "%%render all\n",
    "# Força de Protensão Adotada:\n",
    "\n",
    "P = 2634\n",
    "phi_1 = 1.52\n",
    "A_p1 = 1.43\n",
    "\n",
    "## Número de cordoalhas para adotar:\n",
    "n = P/(A_p1*sigma_p0)"
   ]
  },
  {
   "cell_type": "markdown",
   "id": "08fc61b2",
   "metadata": {},
   "source": [
    "## 2.4 - Protensão no Apoio:\n",
    "\n",
    "### 2.4.1 - Comprimento de Ancoragem Básico:"
   ]
  },
  {
   "cell_type": "code",
   "execution_count": 59,
   "id": "20d2c7ff",
   "metadata": {},
   "outputs": [
    {
     "data": {
      "text/latex": [
       "\\[\n",
       "\\begin{aligned}\n",
       "f_{pyd} &= 0.9 \\cdot \\frac{ f_{ptk} }{ 1.15 }  = 0.9 \\cdot \\frac{ 190 }{ 1.15 } &= 148.696  \n",
       "\\\\[10pt]\n",
       "\\eta_{p1} &= 1.2 \\; \n",
       "\\\\[10pt]\n",
       "\\eta_{p2} &= 1.0 \\; \n",
       "\\\\[10pt]\n",
       "f_{ctd} &= \\frac{ 0.7 \\cdot 0.03 \\cdot \\left( f_{ck} \\cdot 10 \\right) ^{ \\left( \\frac{ 2 }{ 3 } \\right) } }{ 1.4 }  = \\frac{ 0.7 \\cdot 0.03 \\cdot \\left( 4 \\cdot 10 \\right) ^{ \\left( \\frac{ 2 }{ 3 } \\right) } }{ 1.4 } &= 1.754 \\times 10 ^ {-1 }  \n",
       "\\\\[10pt]\n",
       "f_{bpd} &= \\eta_{p1} \\cdot \\eta_{p2} \\cdot f_{ctd}  = 1.2 \\cdot 1.0 \\cdot 1.754 \\times 10 ^ {-1 } &= 2.105 \\times 10 ^ {-1 }  \n",
       "\\\\[10pt]\n",
       "l_{bp} &= \\frac{ 7 \\cdot \\phi_{1} }{ 36 } \\cdot \\frac{ f_{pyd} }{ f_{bpd} }  = \\frac{ 7 \\cdot 1.52 }{ 36 } \\cdot \\frac{ 148.696 }{ 2.105 \\times 10 ^ {-1 } } &= 208.749  \n",
       "\\end{aligned}\n",
       "\\]"
      ],
      "text/plain": [
       "<IPython.core.display.Latex object>"
      ]
     },
     "metadata": {},
     "output_type": "display_data"
    }
   ],
   "source": [
    "%%render\n",
    "f_pyd = 0.9* f_ptk / 1.15\n",
    "\n",
    "eta_p1 = 1.2\n",
    "\n",
    "# Valores de Eta_p1:\n",
    "#     \n",
    "#     1.0 para fios lisos\n",
    "#     1.2 para cordoalhas de 3 e 7 fios\n",
    "#     1.5 para fios dentados\n",
    "\n",
    "eta_p2 = 1.0\n",
    "\n",
    "# Valores de Eta_p2:\n",
    "#     \n",
    "#     1.0 para situação de boa aderência\n",
    "#     1.2 para situação de má aderência\n",
    "\n",
    "f_ctd = (0.7*0.03*(f_ck*10)**(2/3))/1.4\n",
    "f_bpd = eta_p1 * eta_p2 * f_ctd\n",
    "\n",
    "l_bp = (7*phi_1)/36 * f_pyd/f_bpd"
   ]
  },
  {
   "cell_type": "markdown",
   "id": "a58b5804",
   "metadata": {},
   "source": [
    "### 2.4.2 - Cálculo do comprimento de Transferência:"
   ]
  },
  {
   "cell_type": "code",
   "execution_count": 64,
   "id": "d61ba68b",
   "metadata": {},
   "outputs": [
    {
     "data": {
      "text/latex": [
       "\\[\n",
       "\\begin{aligned}\n",
       "& \\textrm{ para fios lisos ou dentados:}\\\\[10pt]\n",
       "l_{bpt1} &= 0.7 \\cdot l_{bp} \\cdot \\frac{ \\sigma_{p0} }{ f_{pyd} }  = 0.7 \\cdot 208.749 \\cdot \\frac{ 152.0 }{ 148.696 } &= 149.372  \n",
       "\\\\[10pt]\n",
       "& \\textrm{ para cordoalhas de 3 e 7 fios:}\\\\[10pt]\n",
       "l_{bpt2} &= 0.5 \\cdot l_{bp} \\cdot \\frac{ \\sigma_{p0} }{ f_{pyd} }  = 0.5 \\cdot 208.749 \\cdot \\frac{ 152.0 }{ 148.696 } &= 106.694  \n",
       "\\\\[10pt]\n",
       "& \\textrm{ para transferência não gradual, os valores devem ser multiplicados por 1.25}\\\\[10pt]\n",
       "& \\textrm{ valor adotado:}\\\\[10pt]\n",
       "l_{bpt} &= 1.25 \\cdot l_{bpt2}  = 1.25 \\cdot 106.694 &= 133.368  \n",
       "\\end{aligned}\n",
       "\\]"
      ],
      "text/plain": [
       "<IPython.core.display.Latex object>"
      ]
     },
     "metadata": {},
     "output_type": "display_data"
    }
   ],
   "source": [
    "%%render\n",
    "\n",
    "## para fios lisos ou dentados:\n",
    "l_bpt1 = 0.7 * l_bp * sigma_p0/f_pyd\n",
    "\n",
    "## para cordoalhas de 3 e 7 fios:\n",
    "l_bpt2 = 0.5 * l_bp * sigma_p0/f_pyd\n",
    "\n",
    "## para transferência não gradual, os valores devem ser multiplicados por 1.25\n",
    "## valor adotado:\n",
    "\n",
    "l_bpt = 1.25 * l_bpt2\n"
   ]
  },
  {
   "cell_type": "markdown",
   "id": "4243c4d7",
   "metadata": {},
   "source": [
    "## 2.5 - Escalonamento da Protensão:"
   ]
  },
  {
   "cell_type": "code",
   "execution_count": 41,
   "id": "8457101b",
   "metadata": {},
   "outputs": [
    {
     "data": {
      "text/latex": [
       "\\[\n",
       "\\begin{aligned}\n",
       "\\mathrm{qntCordoalhas} &= [5,\\ 10,\\ 12] \\; \n",
       "\\\\[10pt]\n",
       "e_{p_{i}} &= [52,\\ 52,\\ 52] \\; \n",
       "\\end{aligned}\n",
       "\\]"
      ],
      "text/plain": [
       "<IPython.core.display.Latex object>"
      ]
     },
     "metadata": {},
     "output_type": "display_data"
    }
   ],
   "source": [
    "%%render\n",
    "\n",
    "# Vetor com o número de cordoalhas em cada ponto de escalonamento:\n",
    "\n",
    "qntCordoalhas = ( 5 , 10 , 12 )\n",
    "\n",
    "# Vetor com a excentricidade da protensão em cada ponto de escalonamento:\n",
    "\n",
    "e_p_i = [52,52,52]"
   ]
  },
  {
   "cell_type": "code",
   "execution_count": 37,
   "id": "9f36a3e8",
   "metadata": {},
   "outputs": [],
   "source": [
    "Areas_p = []\n",
    "\n",
    "for i in range(0,len(qntCordoalhas)):\n",
    "    Areas_p.append(vetorEscalonamento[i] * A_p1)"
   ]
  },
  {
   "cell_type": "code",
   "execution_count": 42,
   "id": "015a4024",
   "metadata": {},
   "outputs": [
    {
     "data": {
      "text/latex": [
       "\\[\n",
       "\\begin{aligned}\n",
       "\\mathrm{Areas}_{p} &= [7.15,\\ 14.3,\\ 17.16] \\; \n",
       "\\end{aligned}\n",
       "\\]"
      ],
      "text/plain": [
       "<IPython.core.display.Latex object>"
      ]
     },
     "metadata": {},
     "output_type": "display_data"
    }
   ],
   "source": [
    "%%render\n",
    "Areas_p"
   ]
  },
  {
   "cell_type": "code",
   "execution_count": null,
   "id": "90b515d4",
   "metadata": {},
   "outputs": [],
   "source": []
  }
 ],
 "metadata": {
  "kernelspec": {
   "display_name": "Python 3 (ipykernel)",
   "language": "python",
   "name": "python3"
  },
  "language_info": {
   "codemirror_mode": {
    "name": "ipython",
    "version": 3
   },
   "file_extension": ".py",
   "mimetype": "text/x-python",
   "name": "python",
   "nbconvert_exporter": "python",
   "pygments_lexer": "ipython3",
   "version": "3.9.7"
  }
 },
 "nbformat": 4,
 "nbformat_minor": 5
}
