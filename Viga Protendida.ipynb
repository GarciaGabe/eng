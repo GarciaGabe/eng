{
 "cells": [
  {
   "cell_type": "markdown",
   "id": "b6224006",
   "metadata": {},
   "source": [
    "# CÁLCULO DE VIGA PROTENDIDA - VP01\n",
    "\n",
    "**OBRA:** Carnetti Open Mall\n",
    "\n",
    "**Cliente:** JD Construções e Pré-Fabricados\n",
    "\n",
    "**Data:** 23/02/2022\n",
    "\n",
    "**Cálculo:** Gabriel\n",
    "\n",
    "\n",
    "Todas as grandezas apresentadas possuem como unidades base kN [força] e cm [comprimento]."
   ]
  },
  {
   "cell_type": "code",
   "execution_count": 1,
   "id": "36ead105",
   "metadata": {},
   "outputs": [],
   "source": [
    "import handcalcs.render\n",
    "import pandas as pd\n",
    "from math import floor,ceil,sqrt,exp\n",
    "from numpy import log\n",
    "\n",
    "def calcpsi(tensao):\n",
    "    if (tensao <= 0.5):\n",
    "        return 0\n",
    "    elif (tensao <= 0.6):\n",
    "        extra = tensao - 0.5\n",
    "        adicional = 13*extra\n",
    "        return (0+adicional)/100\n",
    "    elif (tensao <= 0.7):\n",
    "        extra = tensao - 0.6\n",
    "        adicional = 12*extra\n",
    "        return (1.3+adicional)/100\n",
    "    else:\n",
    "        extra = tensao - 0.7\n",
    "        adicional = 10*extra\n",
    "        return (2.5+adicional)/100"
   ]
  },
  {
   "cell_type": "markdown",
   "id": "0827d7c6",
   "metadata": {},
   "source": [
    "## 1 - Informações Iniciais:\n",
    "\n",
    "### 1.1 - Geometria da Viga:"
   ]
  },
  {
   "cell_type": "code",
   "execution_count": 2,
   "id": "9ae2ffd6",
   "metadata": {},
   "outputs": [
    {
     "data": {
      "text/latex": [
       "\\[\n",
       "\\begin{aligned}\n",
       "h &= 110 \\; \n",
       "\\\\[10pt]\n",
       "b &= 40 \\; \n",
       "\\\\[10pt]\n",
       "\\mathrm{Area} &= 4400 \\; \n",
       "\\\\[10pt]\n",
       "\\mathrm{Inercia} &= 4436667 \\; \n",
       "\\\\[10pt]\n",
       "W_{i} &= 80667 \\; \n",
       "\\\\[10pt]\n",
       "W_{s} &= 80667 \\; \n",
       "\\\\[10pt]\n",
       "e_{p} &= 41 \\; \n",
       "\\\\[10pt]\n",
       "\\mathrm{Vao} &= 1500 \\; \n",
       "\\end{aligned}\n",
       "\\]"
      ],
      "text/plain": [
       "<IPython.core.display.Latex object>"
      ]
     },
     "metadata": {},
     "output_type": "display_data"
    }
   ],
   "source": [
    "%%render\n",
    "# Geometria da Viga:\n",
    "\n",
    "h = 110\n",
    "b = 40\n",
    "Area = 4400\n",
    "Inercia = 4436667\n",
    "W_i = 80667\n",
    "W_s = 80667\n",
    "e_p = 41\n",
    "Vao = 1500"
   ]
  },
  {
   "cell_type": "markdown",
   "id": "14134ea3",
   "metadata": {},
   "source": [
    "### 1.2 - Propriedades dos Materiais:"
   ]
  },
  {
   "cell_type": "code",
   "execution_count": 3,
   "id": "a7d62aa8",
   "metadata": {},
   "outputs": [
    {
     "data": {
      "text/latex": [
       "\\[\n",
       "\\begin{aligned}\n",
       "f_{ck} &= 4 \\; \n",
       "\\\\[10pt]\n",
       "f_{ptk} &= 190 \\; \n",
       "\\\\[10pt]\n",
       "f_{yk} &= 50 \\; \n",
       "\\\\[10pt]\n",
       "f_{cj} &= 2.8 \\; \n",
       "\\\\[10pt]\n",
       "E_{s} &= 21000 \\; \n",
       "\\\\[10pt]\n",
       "E_{p} &= 20000 \\; \n",
       "\\end{aligned}\n",
       "\\]"
      ],
      "text/plain": [
       "<IPython.core.display.Latex object>"
      ]
     },
     "metadata": {},
     "output_type": "display_data"
    }
   ],
   "source": [
    "%%render\n",
    "# Propriedades dos Materiais:\n",
    "\n",
    "# Concreto:\n",
    "f_ck = 4\n",
    "f_ptk = 190\n",
    "f_yk = 50\n",
    "f_cj = 2.8\n",
    "\n",
    "E_s = 21000\n",
    "E_p = 20000"
   ]
  },
  {
   "cell_type": "code",
   "execution_count": 4,
   "id": "3fecd76f",
   "metadata": {},
   "outputs": [
    {
     "data": {
      "text/latex": [
       "\\[\n",
       "\\begin{aligned}\n",
       "E_{ci} &= 560 \\cdot \\left( f_{ck} \\cdot 10 \\right) ^{ \\left( \\frac{ 1 }{ 2 } \\right) }  = 560 \\cdot \\left( 4 \\cdot 10 \\right) ^{ \\left( \\frac{ 1 }{ 2 } \\right) } &= 3541.75  \n",
       "\\\\[10pt]\n",
       "E_{cs} &= E_{ci} \\cdot \\left( 0.8 + 0.2 \\cdot \\frac{ f_{ck} }{ 8 } \\right)  = 3541.75 \\cdot \\left( 0.8 + 0.2 \\cdot \\frac{ 4 }{ 8 } \\right) &= 3187.58  \n",
       "\\\\[10pt]\n",
       "E_{cit0} &= \\left( \\frac{ f_{cj} }{ f_{ck} } \\right) ^{ \\left( \\frac{ 1 }{ 2 } \\right) } \\cdot E_{ci}  = \\left( \\frac{ 2.8 }{ 4 } \\right) ^{ \\left( \\frac{ 1 }{ 2 } \\right) } \\cdot 3541.75 &= 2963.24  \n",
       "\\\\[10pt]\n",
       "E_{cst0} &= E_{cit0} \\cdot \\left( 0.8 + 0.2 \\cdot \\frac{ f_{cj} }{ 8 } \\right)  = 2963.24 \\cdot \\left( 0.8 + 0.2 \\cdot \\frac{ 2.8 }{ 8 } \\right) &= 2578.02  \n",
       "\\\\[10pt]\n",
       "f_{yd} &= \\frac{ f_{yk} }{ 1.15 }  = \\frac{ 50 }{ 1.15 } &= 43.48  \n",
       "\\\\[10pt]\n",
       "\\sigma_{p0} &= 0.8 \\cdot f_{ptk}  = 0.8 \\cdot 190 &= 152.0  \n",
       "\\end{aligned}\n",
       "\\]"
      ],
      "text/plain": [
       "<IPython.core.display.Latex object>"
      ]
     },
     "metadata": {},
     "output_type": "display_data"
    }
   ],
   "source": [
    "%%render 2 short\n",
    "\n",
    "E_ci = 560*(f_ck*10)**(1/2)\n",
    "E_cs = E_ci*(0.8+0.2*f_ck/8)\n",
    "\n",
    "E_cit0 = (f_cj/f_ck)**(1/2)*E_ci\n",
    "E_cst0 = E_cit0*(0.8+0.2*f_cj/8)\n",
    "\n",
    "f_yd = f_yk/1.15\n",
    "sigma_p0 = 0.8*f_ptk"
   ]
  },
  {
   "cell_type": "markdown",
   "id": "3d992512",
   "metadata": {},
   "source": [
    "### 1.3 - Carregamentos:"
   ]
  },
  {
   "cell_type": "code",
   "execution_count": 5,
   "id": "d578be19",
   "metadata": {},
   "outputs": [
    {
     "data": {
      "text/latex": [
       "\\[\n",
       "\\begin{aligned}\n",
       "Q_{t0} &= 0.000025 \\cdot \\mathrm{Area}  = 0.000025 \\cdot 4400 &= 0.11  \n",
       "\\\\[10pt]\n",
       "Q_{tF} &= 0.11 \\; \n",
       "\\end{aligned}\n",
       "\\]"
      ],
      "text/plain": [
       "<IPython.core.display.Latex object>"
      ]
     },
     "metadata": {},
     "output_type": "display_data"
    }
   ],
   "source": [
    "%%render 2 short\n",
    "\n",
    "#PESO PRÓPRIO DA VIGA:\n",
    "\n",
    "Q_t0 = 0.000025*Area\n",
    "Q_tF = Q_t0\n",
    "\n"
   ]
  },
  {
   "cell_type": "markdown",
   "id": "c82c1fa3",
   "metadata": {},
   "source": [
    "### 1.4 - Esforços no Centro do Vão:"
   ]
  },
  {
   "cell_type": "code",
   "execution_count": 6,
   "id": "21d314b4",
   "metadata": {},
   "outputs": [
    {
     "data": {
      "text/latex": [
       "\\[\n",
       "\\begin{aligned}\n",
       "M_{F} &= Q_{tF} \\cdot \\left( \\mathrm{Vao} \\right) ^{ 2 } \\cdot 0.125  = 0.11 \\cdot \\left( 1500 \\right) ^{ 2 } \\cdot 0.125 &= 30937.5  \n",
       "\\\\[10pt]\n",
       "M_{0} &= Q_{t0} \\cdot \\left( \\mathrm{Vao} \\right) ^{ 2 } \\cdot 0.125  = 0.11 \\cdot \\left( 1500 \\right) ^{ 2 } \\cdot 0.125 &= 30937.5  \n",
       "\\\\[10pt]\n",
       "V_{F} &= Q_{tF} \\cdot \\frac{ \\mathrm{Vao} }{ 2 }  = 0.11 \\cdot \\frac{ 1500 }{ 2 } &= 82.5  \n",
       "\\end{aligned}\n",
       "\\]"
      ],
      "text/plain": [
       "<IPython.core.display.Latex object>"
      ]
     },
     "metadata": {},
     "output_type": "display_data"
    }
   ],
   "source": [
    "%%render 2 short\n",
    "M_F = (Q_tF)*Vao**2*0.125\n",
    "M_0 = (Q_t0)*Vao**2*0.125\n",
    "V_F = (Q_tF)*Vao/2"
   ]
  },
  {
   "cell_type": "markdown",
   "id": "9b0ada7b",
   "metadata": {},
   "source": [
    "## 2 - Deteminação da Força de Protensão:\n",
    "\n",
    "### 2.1 - Limites de Tensão:"
   ]
  },
  {
   "cell_type": "code",
   "execution_count": 7,
   "id": "9b94d2e4",
   "metadata": {
    "scrolled": true
   },
   "outputs": [
    {
     "data": {
      "text/latex": [
       "\\[\n",
       "\\begin{aligned}\n",
       "\\sigma_{ct0} &= \\left( - 1.2 \\right) \\cdot 0.03 \\cdot \\left( f_{cj} \\cdot 10 \\right) ^{ \\left( \\frac{ 2 }{ 3 } \\right) }  = \\left( - 1.2 \\right) \\cdot 0.03 \\cdot \\left( 2.8 \\cdot 10 \\right) ^{ \\left( \\frac{ 2 }{ 3 } \\right) } &= -0.332  \n",
       "\\\\[10pt]\n",
       "\\sigma_{cc0} &= 0.7 \\cdot f_{cj}  = 0.7 \\cdot 2.8 &= 1.96  \n",
       "\\\\[10pt]\n",
       "\\sigma_{ctF} &= \\left( - 1.2 \\right) \\cdot 0.03 \\cdot \\left( f_{ck} \\cdot 10 \\right) ^{ \\left( \\frac{ 2 }{ 3 } \\right) }  = \\left( - 1.2 \\right) \\cdot 0.03 \\cdot \\left( 4 \\cdot 10 \\right) ^{ \\left( \\frac{ 2 }{ 3 } \\right) } &= -4.211 \\times 10 ^ {-1 }  \n",
       "\\\\[10pt]\n",
       "\\sigma_{ccF} &= 0.5 \\cdot f_{ck}  = 0.5 \\cdot 4 &= 2.0  \n",
       "\\\\[10pt]\n",
       "r_{0} &= 0.95 \\; \n",
       "\\\\[10pt]\n",
       "r_{F} &= 0.8 \\; \n",
       "\\end{aligned}\n",
       "\\]"
      ],
      "text/plain": [
       "<IPython.core.display.Latex object>"
      ]
     },
     "metadata": {},
     "output_type": "display_data"
    }
   ],
   "source": [
    "%%render short\n",
    "\n",
    "sigma_ct0 = -1.2*0.03*(f_cj*10)**(2/3)\n",
    "sigma_cc0 = 0.7*f_cj\n",
    "sigma_ctF = -1.2*0.03*(f_ck*10)**(2/3)\n",
    "sigma_ccF = 0.5*f_ck\n",
    "\n",
    "r_0 = 0.95\n",
    "r_F = 0.80"
   ]
  },
  {
   "cell_type": "markdown",
   "id": "01901b13",
   "metadata": {},
   "source": [
    "### 2.2 - Cálculo da Força de Protensão:"
   ]
  },
  {
   "cell_type": "code",
   "execution_count": 8,
   "id": "654ce266",
   "metadata": {},
   "outputs": [
    {
     "data": {
      "text/latex": [
       "\\[\n",
       "\\begin{aligned}\n",
       "P_{1} &= \\frac{ \\sigma_{cc0} + \\frac{ M_{0} }{ W_{i} } }{ r_{0} \\cdot \\left( \\frac{ 1 }{ \\mathrm{Area} } + \\frac{ e_{p} }{ W_{i} } \\right) }  = \\frac{ 1.96 + \\frac{ 30937.5 }{ 80667 } }{ 0.95 \\cdot \\left( \\frac{ 1 }{ 4400 } + \\frac{ 41 }{ 80667 } \\right) } &= 3353.84  \n",
       "\\\\[10pt]\n",
       "P_{2} &= \\frac{ \\sigma_{ct0} - \\frac{ M_{0} }{ W_{s} } }{ r_{0} \\cdot \\left( \\frac{ 1 }{ \\mathrm{Area} } - \\frac{ e_{p} }{ W_{s} } \\right) }  = \\frac{ -3.32 \\times 10 ^ {-1 } - \\frac{ 30937.5 }{ 80667 } }{ 0.95 \\cdot \\left( \\frac{ 1 }{ 4400 } - \\frac{ 41 }{ 80667 } \\right) } &= 2680.27  \n",
       "\\\\[10pt]\n",
       "P_{3} &= \\frac{ \\sigma_{ctF} + \\frac{ M_{F} }{ W_{i} } }{ r_{F} \\cdot \\left( \\frac{ 1 }{ \\mathrm{Area} } + \\frac{ e_{p} }{ W_{i} } \\right) }  = \\frac{ -4.21 \\times 10 ^ {-1 } + \\frac{ 30937.5 }{ 80667 } }{ 0.8 \\cdot \\left( \\frac{ 1 }{ 4400 } + \\frac{ 41 }{ 80667 } \\right) } &= -63.79  \n",
       "\\\\[10pt]\n",
       "P_{4} &= \\frac{ \\sigma_{ccF} - \\frac{ M_{F} }{ W_{s} } }{ r_{F} \\cdot \\left( \\frac{ 1 }{ \\mathrm{Area} } - \\frac{ e_{p} }{ W_{s} } \\right) }  = \\frac{ 2.0 - \\frac{ 30937.5 }{ 80667 } }{ 0.8 \\cdot \\left( \\frac{ 1 }{ 4400 } - \\frac{ 41 }{ 80667 } \\right) } &= -7191.01  \n",
       "\\\\[10pt]\n",
       "& \\textrm{Adotar valores entre:}\\\\[10pt]\n",
       "P_{min} &= \\operatorname{max} { \\left( P_{3} ,\\  P_{4} \\right) }  = \\operatorname{max} { \\left( -63.79 ,\\  -7191.01 \\right) } &= -63.79  \n",
       "\\\\[10pt]\n",
       "P_{max} &= \\operatorname{min} { \\left( P_{1} ,\\  P_{2} \\right) }  = \\operatorname{min} { \\left( 3353.84 ,\\  2680.27 \\right) } &= 2680.27  \n",
       "\\end{aligned}\n",
       "\\]"
      ],
      "text/plain": [
       "<IPython.core.display.Latex object>"
      ]
     },
     "metadata": {},
     "output_type": "display_data"
    }
   ],
   "source": [
    "%%render short 2\n",
    "\n",
    "P_1 = (sigma_cc0+M_0/W_i)/(r_0*(1/Area + e_p/W_i)) \n",
    "P_2 = (sigma_ct0-M_0/W_s)/(r_0*(1/Area - e_p/W_s)) \n",
    "P_3 = (sigma_ctF+M_F/W_i)/(r_F*(1/Area + e_p/W_i))\n",
    "P_4 = (sigma_ccF-M_F/W_s)/(r_F*(1/Area - e_p/W_s))\n",
    "\n",
    "\n",
    "##Adotar valores entre:\n",
    "P_min = max(P_3, P_4)\n",
    "P_max = min(P_1, P_2)\n"
   ]
  },
  {
   "cell_type": "markdown",
   "id": "f125dec8",
   "metadata": {},
   "source": [
    "## 2.3 - Escolha da Protensão:"
   ]
  },
  {
   "cell_type": "code",
   "execution_count": 9,
   "id": "1643d970",
   "metadata": {},
   "outputs": [
    {
     "data": {
      "text/latex": [
       "\\[\n",
       "\\begin{aligned}\n",
       "P &= 2680 \\; \n",
       "\\\\[10pt]\n",
       "\\phi_{1} &= 1.52 \\; \n",
       "\\\\[10pt]\n",
       "A_{p1} &= 1.4 \\; \n",
       "\\\\[10pt]\n",
       "& \\textrm{ Número de cordoalhas para adotar:}\\\\[10pt]\n",
       "n &= \\left \\lfloor \\frac{ P }{ A_{p1} \\cdot \\sigma_{p0} } \\right \\rfloor  = \\left \\lfloor \\frac{ 2680 }{ 1.4 \\cdot 152.0 } \\right \\rfloor &= 12  \n",
       "\\end{aligned}\n",
       "\\]"
      ],
      "text/plain": [
       "<IPython.core.display.Latex object>"
      ]
     },
     "metadata": {},
     "output_type": "display_data"
    }
   ],
   "source": [
    "%%render short\n",
    "# Força de Protensão Adotada:\n",
    "\n",
    "P = 2680\n",
    "phi_1 = 1.52\n",
    "A_p1 = 1.40\n",
    "\n",
    "## Número de cordoalhas para adotar:\n",
    "n = floor(P/(A_p1*sigma_p0))"
   ]
  },
  {
   "cell_type": "markdown",
   "id": "08fc61b2",
   "metadata": {},
   "source": [
    "## 2.4 - Ancoragem das Cordoalhas:\n",
    "\n",
    "### 2.4.1 - Comprimento de Ancoragem Básico:"
   ]
  },
  {
   "cell_type": "code",
   "execution_count": 10,
   "id": "20d2c7ff",
   "metadata": {},
   "outputs": [
    {
     "data": {
      "text/latex": [
       "\\[\n",
       "\\begin{aligned}\n",
       "f_{pyd} &= 0.9 \\cdot \\frac{ f_{ptk} }{ 1.15 }  = 0.9 \\cdot \\frac{ 190 }{ 1.15 } &= 148.696  \n",
       "\\\\[10pt]\n",
       "\\eta_{p1} &= 1.2 \\; \n",
       "\\\\[10pt]\n",
       "\\eta_{p2} &= 1.0 \\; \n",
       "\\\\[10pt]\n",
       "f_{ctd} &= \\frac{ 0.7 \\cdot 0.03 \\cdot \\left( f_{cj} \\cdot 10 \\right) ^{ \\left( \\frac{ 2 }{ 3 } \\right) } }{ 1.4 }  = \\frac{ 0.7 \\cdot 0.03 \\cdot \\left( 2.8 \\cdot 10 \\right) ^{ \\left( \\frac{ 2 }{ 3 } \\right) } }{ 1.4 } &= 1.383 \\times 10 ^ {-1 }  \n",
       "\\\\[10pt]\n",
       "f_{bpd} &= \\eta_{p1} \\cdot \\eta_{p2} \\cdot f_{ctd}  = 1.2 \\cdot 1.0 \\cdot 1.383 \\times 10 ^ {-1 } &= 0.166  \n",
       "\\\\[10pt]\n",
       "l_{bp} &= \\frac{ 7 \\cdot \\phi_{1} }{ 36 } \\cdot \\frac{ f_{pyd} }{ f_{bpd} }  = \\frac{ 7 \\cdot 1.52 }{ 36 } \\cdot \\frac{ 148.696 }{ 0.166 } &= 264.785  \n",
       "\\end{aligned}\n",
       "\\]"
      ],
      "text/plain": [
       "<IPython.core.display.Latex object>"
      ]
     },
     "metadata": {},
     "output_type": "display_data"
    }
   ],
   "source": [
    "%%render short\n",
    "f_pyd = 0.9* f_ptk / 1.15\n",
    "\n",
    "eta_p1 = 1.2\n",
    "\n",
    "# Valores de Eta_p1:\n",
    "#     \n",
    "#     1.0 para fios lisos\n",
    "#     1.2 para cordoalhas de 3 e 7 fios\n",
    "#     1.5 para fios dentados\n",
    "\n",
    "eta_p2 = 1.0\n",
    "\n",
    "# Valores de Eta_p2:\n",
    "#     \n",
    "#     1.0 para situação de boa aderência\n",
    "#     0.7 para situação de má aderência\n",
    "\n",
    "f_ctd = (0.7*0.03*(f_cj*10)**(2/3))/1.4\n",
    "f_bpd = eta_p1 * eta_p2 * f_ctd\n",
    "\n",
    "l_bp = (7*phi_1)/36 * f_pyd/f_bpd"
   ]
  },
  {
   "cell_type": "markdown",
   "id": "a58b5804",
   "metadata": {},
   "source": [
    "### 2.4.2 - Cálculo do comprimento de Transferência:"
   ]
  },
  {
   "cell_type": "code",
   "execution_count": 11,
   "id": "d61ba68b",
   "metadata": {},
   "outputs": [
    {
     "data": {
      "text/latex": [
       "\\[\n",
       "\\begin{aligned}\n",
       "& \\textrm{ para fios lisos ou dentados:}\\\\[10pt]\n",
       "l_{bpt1} &= 0.7 \\cdot l_{bp} \\cdot \\frac{ \\sigma_{p0} }{ f_{pyd} }  = 0.7 \\cdot 264.785 \\cdot \\frac{ 152.0 }{ 148.696 } &= 189.468  \n",
       "\\\\[10pt]\n",
       "& \\textrm{ para cordoalhas de 3 e 7 fios:}\\\\[10pt]\n",
       "l_{bpt2} &= 0.5 \\cdot l_{bp} \\cdot \\frac{ \\sigma_{p0} }{ f_{pyd} }  = 0.5 \\cdot 264.785 \\cdot \\frac{ 152.0 }{ 148.696 } &= 135.334  \n",
       "\\\\[10pt]\n",
       "& \\textrm{ para transferência não gradual, os valores devem ser multiplicados por 1.25}\\\\[10pt]\n",
       "& \\textrm{ valor adotado:}\\\\[10pt]\n",
       "l_{bpt} &= 1.25 \\cdot l_{bpt2}  = 1.25 \\cdot 135.334 &= 169.168  \n",
       "\\\\[10pt]\n",
       "l_{p} &= \\left( \\left( h \\right) ^{ 2 } + \\left( 0.6 \\cdot l_{bpt} \\right) ^{ 2 } \\right) ^{ 0.5 }  = \\left( \\left( 110 \\right) ^{ 2 } + \\left( 0.6 \\cdot 169.168 \\right) ^{ 2 } \\right) ^{ 0.5 } &= 149.674  \n",
       "\\end{aligned}\n",
       "\\]"
      ],
      "text/plain": [
       "<IPython.core.display.Latex object>"
      ]
     },
     "metadata": {},
     "output_type": "display_data"
    }
   ],
   "source": [
    "%%render short\n",
    "\n",
    "## para fios lisos ou dentados:\n",
    "l_bpt1 = 0.7 * l_bp * sigma_p0/f_pyd\n",
    "\n",
    "## para cordoalhas de 3 e 7 fios:\n",
    "l_bpt2 = 0.5 * l_bp * sigma_p0/f_pyd\n",
    "\n",
    "## para transferência não gradual, os valores devem ser multiplicados por 1.25\n",
    "## valor adotado:\n",
    "\n",
    "l_bpt = 1.25 * l_bpt2\n",
    "\n",
    "l_p = (h**2 + (0.6*l_bpt)**2)**(0.5)\n"
   ]
  },
  {
   "cell_type": "markdown",
   "id": "9db35554",
   "metadata": {},
   "source": [
    "#  3 - Esforços nas Seções:\n",
    "\n",
    "## 3.1 - Momento Fletor e Cortante:"
   ]
  },
  {
   "cell_type": "code",
   "execution_count": 12,
   "id": "e615317a",
   "metadata": {},
   "outputs": [],
   "source": [
    "esforcos = []\n",
    "for i in range(3):\n",
    "    esforcos.append( [0]*20 )\n",
    "    \n",
    "# primeiro vetor contem X (cm)\n",
    "# segundo vetor contem Momentos (kNcm)\n",
    "# terceiro vetor contém cortante (kN)\n",
    "\n",
    "for i in range(20):\n",
    "    esforcos[0][i] = round(i*(Vao/19),1)\n",
    "    esforcos[1][i] = round( 0.5*Q_tF*esforcos[0][i]*(Vao-esforcos[0][i]) ,1)\n",
    "    esforcos[2][i] = round( 0.5*Q_tF*(Vao-2*esforcos[0][i]), 1 )"
   ]
  },
  {
   "cell_type": "code",
   "execution_count": 13,
   "id": "6a69b682",
   "metadata": {
    "scrolled": true
   },
   "outputs": [
    {
     "name": "stdout",
     "output_type": "stream",
     "text": [
      "\n",
      "Posição da Seção: (cm)\n",
      "[0.0, 78.9, 157.9, 236.8, 315.8, 394.7, 473.7, 552.6, 631.6, 710.5, 789.5, 868.4, 947.4, 1026.3, 1105.3, 1184.2, 1263.2, 1342.1, 1421.1, 1500.0] \n",
      "\n",
      "Valores de M: (kNcm)\n",
      "[0.0, 6166.9, 11655.5, 16451.9, 20568.4, 23994.4, 26738.7, 28794.3, 30166.5, 30851.7, 30851.7, 30166.5, 28794.3, 26738.7, 23994.4, 20568.4, 16451.9, 11655.5, 6166.9, 0.0] \n",
      "\n",
      "Valores de V: (kN)\n",
      "[82.5, 73.8, 65.1, 56.5, 47.8, 39.1, 30.4, 21.7, 13.0, 4.3, -4.3, -13.0, -21.7, -30.4, -39.1, -47.8, -56.5, -65.1, -73.8, -82.5] \n",
      "\n"
     ]
    }
   ],
   "source": [
    "print(\"\\nPosição da Seção: (cm)\")\n",
    "print(esforcos[0],\"\\n\")\n",
    "\n",
    "print(\"Valores de M: (kNcm)\")\n",
    "print(esforcos[1],\"\\n\")\n",
    "\n",
    "print(\"Valores de V: (kN)\")\n",
    "print(esforcos[2],\"\\n\")"
   ]
  },
  {
   "cell_type": "markdown",
   "id": "72990506",
   "metadata": {},
   "source": [
    "# 4 - Escalonamento da Protensão:\n",
    "\n",
    "## 4.1 - Limites de Tensão na Seção S1:\n",
    "\n",
    "São testados os limites de tensão para t0:\n",
    "\n",
    "Limitação pela borda superior:"
   ]
  },
  {
   "cell_type": "code",
   "execution_count": 14,
   "id": "e77f426c",
   "metadata": {},
   "outputs": [],
   "source": [
    "M_s1 = esforcos[1][1]"
   ]
  },
  {
   "cell_type": "code",
   "execution_count": 15,
   "id": "12477f6f",
   "metadata": {},
   "outputs": [
    {
     "data": {
      "text/latex": [
       "\\[\n",
       "\\begin{aligned}\n",
       "P_{1} &= \\frac{ \\sigma_{cc0} + \\frac{ M_{s1} }{ W_{i} } }{ r_{0} \\cdot \\left( \\frac{ 1 }{ \\mathrm{Area} } + \\frac{ e_{p} }{ W_{i} } \\right) }  = \\frac{ 1.96 + \\frac{ 6166.9 }{ 80667 } }{ 0.95 \\cdot \\left( \\frac{ 1 }{ 4400 } + \\frac{ 41 }{ 80667 } \\right) } &= 2914.382  \n",
       "\\\\[10pt]\n",
       "P_{2} &= \\frac{ \\sigma_{ct0} - \\frac{ M_{s1} }{ W_{s} } }{ r_{0} \\cdot \\left( \\frac{ 1 }{ \\mathrm{Area} } - \\frac{ e_{p} }{ W_{s} } \\right) }  = \\frac{ -0.332 - \\frac{ 6166.9 }{ 80667 } }{ 0.95 \\cdot \\left( \\frac{ 1 }{ 4400 } - \\frac{ 41 }{ 80667 } \\right) } &= 1529.932  \n",
       "\\end{aligned}\n",
       "\\]"
      ],
      "text/plain": [
       "<IPython.core.display.Latex object>"
      ]
     },
     "metadata": {},
     "output_type": "display_data"
    }
   ],
   "source": [
    "%%render short\n",
    "\n",
    "P_1 = (sigma_cc0+M_s1/W_i)/(r_0*(1/Area + e_p/W_i))\n",
    "P_2 = (sigma_ct0-M_s1/W_s)/(r_0*(1/Area - e_p/W_s))\n"
   ]
  },
  {
   "cell_type": "code",
   "execution_count": 16,
   "id": "f0d85e33",
   "metadata": {},
   "outputs": [
    {
     "data": {
      "text/latex": [
       "\\[\n",
       "\\begin{aligned}\n",
       "P_{s1} &= \\operatorname{min} { \\left( P_{1} ,\\  P_{2} \\right) }  = \\operatorname{min} { \\left( 2914.4 ,\\  1529.9 \\right) } &= 1529.9  \n",
       "\\\\[10pt]\n",
       "n_{s1} &= \\left \\lfloor \\frac{ P_{s1} }{ A_{p1} \\cdot \\sigma_{p0} } \\right \\rfloor  = \\left \\lfloor \\frac{ 1529.9 }{ 1.4 \\cdot 152.0 } \\right \\rfloor &= 7  \n",
       "\\end{aligned}\n",
       "\\]"
      ],
      "text/plain": [
       "<IPython.core.display.Latex object>"
      ]
     },
     "metadata": {},
     "output_type": "display_data"
    }
   ],
   "source": [
    "%%render 1\n",
    "\n",
    "P_s1 = min(P_1 , P_2)\n",
    "\n",
    "n_s1 = floor(P_s1/(A_p1*sigma_p0))\n"
   ]
  },
  {
   "cell_type": "markdown",
   "id": "fc122191",
   "metadata": {},
   "source": [
    "## 4.2 - Escolha do Número de Cordoalhas:"
   ]
  },
  {
   "cell_type": "code",
   "execution_count": 17,
   "id": "e9c685e3",
   "metadata": {
    "scrolled": false
   },
   "outputs": [
    {
     "data": {
      "text/latex": [
       "\\[\n",
       "\\begin{aligned}\n",
       "\\mathrm{qntCordoalhas} &= [8,\\ 10,\\ 12] \\; \n",
       "\\\\[10pt]\n",
       "e_{p_{i}} &= [41,\\ 41,\\ 41] \\; \n",
       "\\end{aligned}\n",
       "\\]"
      ],
      "text/plain": [
       "<IPython.core.display.Latex object>"
      ]
     },
     "metadata": {},
     "output_type": "display_data"
    }
   ],
   "source": [
    "%%render\n",
    "\n",
    "# Vetor com o número de cordoalhas em cada ponto de escalonamento:\n",
    "\n",
    "qntCordoalhas = (8,10,12 )\n",
    "\n",
    "# Vetor com a excentricidade da protensão em cada ponto de escalonamento:\n",
    "\n",
    "e_p_i = [41,41,41]"
   ]
  },
  {
   "cell_type": "markdown",
   "id": "7b042987",
   "metadata": {},
   "source": [
    "# 5 - Esforços Devidos À Protensão:"
   ]
  },
  {
   "cell_type": "code",
   "execution_count": 18,
   "id": "8e4c4078",
   "metadata": {},
   "outputs": [],
   "source": [
    "A_p = []\n",
    "\n",
    "for i in range(len(qntCordoalhas)):\n",
    "    A_p.append(qntCordoalhas[i] * A_p1)"
   ]
  },
  {
   "cell_type": "code",
   "execution_count": 93,
   "id": "960e77a5",
   "metadata": {},
   "outputs": [],
   "source": [
    "W_cp = []\n",
    "\n",
    "for i in range(len(qntCordoalhas)):\n",
    "    W_cp.append(round(Inercia/e_p_i[i],0))\n",
    "    \n",
    "alpha_p0 = E_p / E_cst0\n",
    "\n",
    "K_p0 = []\n",
    "for i in range(len(qntCordoalhas)):\n",
    "    K_p0.append(round(alpha_p0*A_p[i]*(1/Area+e_p_i[i]/W_cp[i]),4))\n",
    "    \n",
    "sigma_p = []\n",
    "for i in range(len(qntCordoalhas)):\n",
    "    sigma_p.append(round(sigma_p0/(1+K_p0[i]),2))\n",
    "    \n",
    "N_p = []\n",
    "for i in range(len(qntCordoalhas)):\n",
    "    N_p.append(round(-sigma_p[i]*A_p[i],1))\n",
    "    \n",
    "M_p = []\n",
    "for i in range(len(qntCordoalhas)):\n",
    "    M_p.append(round(N_p[i]*e_p_i[i],1))"
   ]
  },
  {
   "cell_type": "code",
   "execution_count": 98,
   "id": "9839ce60",
   "metadata": {
    "scrolled": false
   },
   "outputs": [
    {
     "data": {
      "text/html": [
       "<div>\n",
       "<style scoped>\n",
       "    .dataframe tbody tr th:only-of-type {\n",
       "        vertical-align: middle;\n",
       "    }\n",
       "\n",
       "    .dataframe tbody tr th {\n",
       "        vertical-align: top;\n",
       "    }\n",
       "\n",
       "    .dataframe thead th {\n",
       "        text-align: right;\n",
       "    }\n",
       "</style>\n",
       "<table border=\"1\" class=\"dataframe\">\n",
       "  <thead>\n",
       "    <tr style=\"text-align: right;\">\n",
       "      <th></th>\n",
       "      <th>Ap</th>\n",
       "      <th>Wcp</th>\n",
       "      <th>Kp0</th>\n",
       "      <th>Sigma_p</th>\n",
       "      <th>Np</th>\n",
       "      <th>Mp</th>\n",
       "    </tr>\n",
       "  </thead>\n",
       "  <tbody>\n",
       "    <tr>\n",
       "      <th>0</th>\n",
       "      <td>11.2</td>\n",
       "      <td>108211.0</td>\n",
       "      <td>0.0527</td>\n",
       "      <td>144.39</td>\n",
       "      <td>-1617.2</td>\n",
       "      <td>-66305.2</td>\n",
       "    </tr>\n",
       "    <tr>\n",
       "      <th>1</th>\n",
       "      <td>14.0</td>\n",
       "      <td>108211.0</td>\n",
       "      <td>0.0658</td>\n",
       "      <td>142.62</td>\n",
       "      <td>-1996.7</td>\n",
       "      <td>-81864.7</td>\n",
       "    </tr>\n",
       "    <tr>\n",
       "      <th>2</th>\n",
       "      <td>16.8</td>\n",
       "      <td>108211.0</td>\n",
       "      <td>0.0790</td>\n",
       "      <td>140.87</td>\n",
       "      <td>-2366.6</td>\n",
       "      <td>-97030.6</td>\n",
       "    </tr>\n",
       "  </tbody>\n",
       "</table>\n",
       "</div>"
      ],
      "text/plain": [
       "     Ap       Wcp     Kp0  Sigma_p      Np       Mp\n",
       "0  11.2  108211.0  0.0527   144.39 -1617.2 -66305.2\n",
       "1  14.0  108211.0  0.0658   142.62 -1996.7 -81864.7\n",
       "2  16.8  108211.0  0.0790   140.87 -2366.6 -97030.6"
      ]
     },
     "metadata": {},
     "output_type": "display_data"
    }
   ],
   "source": [
    "tabela1 = pd.DataFrame([A_p, W_cp, K_p0, sigma_p, N_p, M_p])\n",
    "tabela1 = tabela1.transpose()\n",
    "tabela1.rename(columns={0:'Ap',1:'Wcp',2:'Kp0',3:'Sigma_p',4:'Np',5:'Mp'},inplace = True)\n",
    "display(tabela1)"
   ]
  },
  {
   "cell_type": "markdown",
   "id": "3b3910c3",
   "metadata": {},
   "source": [
    "# 6 - Escalonamento da Força de Protensão:"
   ]
  },
  {
   "cell_type": "code",
   "execution_count": 108,
   "id": "e6f6ff1c",
   "metadata": {},
   "outputs": [],
   "source": [
    "M_g = []\n",
    "x1 = []\n",
    "x2 = []\n",
    "x1_anc = []\n",
    "x2_anc = []\n",
    "\n",
    "for i in range(len(qntCordoalhas)):\n",
    "    M_g.append(round( W_s*( (N_p[i]/Area) -(M_p[i]/W_s) + sigma_ct0),2) )\n",
    "        \n",
    "for i in range(len(qntCordoalhas)):\n",
    "    #Bhaskara:\n",
    "    x1.append(round( (Vao - ( Vao**2 - 8*M_g[i]/Q_t0 )**0.5)/2  ,2))\n",
    "    x2.append(round( (Vao + ( Vao**2 - 8*M_g[i]/Q_t0 )**0.5)/2  ,2))\n",
    "    \n",
    "for i in range(len(qntCordoalhas)):\n",
    "    x1_anc.append(x1[i]-round(l_bpt,2))\n",
    "    x2_anc.append(x2[i]+round(l_bpt,2))"
   ]
  },
  {
   "cell_type": "code",
   "execution_count": 109,
   "id": "001eee18",
   "metadata": {
    "scrolled": false
   },
   "outputs": [
    {
     "data": {
      "text/html": [
       "<div>\n",
       "<style scoped>\n",
       "    .dataframe tbody tr th:only-of-type {\n",
       "        vertical-align: middle;\n",
       "    }\n",
       "\n",
       "    .dataframe tbody tr th {\n",
       "        vertical-align: top;\n",
       "    }\n",
       "\n",
       "    .dataframe thead th {\n",
       "        text-align: right;\n",
       "    }\n",
       "</style>\n",
       "<table border=\"1\" class=\"dataframe\">\n",
       "  <thead>\n",
       "    <tr style=\"text-align: right;\">\n",
       "      <th></th>\n",
       "      <th>Mg</th>\n",
       "      <th>x1</th>\n",
       "      <th>x2</th>\n",
       "      <th>x1-lbpt</th>\n",
       "      <th>x2+lbpt</th>\n",
       "    </tr>\n",
       "  </thead>\n",
       "  <tbody>\n",
       "    <tr>\n",
       "      <th>0</th>\n",
       "      <td>9878.89</td>\n",
       "      <td>131.22</td>\n",
       "      <td>1368.78</td>\n",
       "      <td>-37.95</td>\n",
       "      <td>1537.95</td>\n",
       "    </tr>\n",
       "    <tr>\n",
       "      <th>1</th>\n",
       "      <td>18480.86</td>\n",
       "      <td>274.10</td>\n",
       "      <td>1225.90</td>\n",
       "      <td>104.93</td>\n",
       "      <td>1395.07</td>\n",
       "    </tr>\n",
       "    <tr>\n",
       "      <th>2</th>\n",
       "      <td>26865.23</td>\n",
       "      <td>477.89</td>\n",
       "      <td>1022.11</td>\n",
       "      <td>308.72</td>\n",
       "      <td>1191.28</td>\n",
       "    </tr>\n",
       "  </tbody>\n",
       "</table>\n",
       "</div>"
      ],
      "text/plain": [
       "         Mg      x1       x2  x1-lbpt  x2+lbpt\n",
       "0   9878.89  131.22  1368.78   -37.95  1537.95\n",
       "1  18480.86  274.10  1225.90   104.93  1395.07\n",
       "2  26865.23  477.89  1022.11   308.72  1191.28"
      ]
     },
     "metadata": {},
     "output_type": "display_data"
    }
   ],
   "source": [
    "tabela2 = pd.DataFrame([M_g, x1,x2, x1_anc,x2_anc])\n",
    "tabela2 = tabela2.transpose()\n",
    "tabela2.rename(columns={0:'Mg',1:'x1',2:'x2',3:'x1-lbpt',4:'x2+lbpt'},inplace = True)\n",
    "display(tabela2)"
   ]
  },
  {
   "cell_type": "code",
   "execution_count": 60,
   "id": "9032d3bb",
   "metadata": {},
   "outputs": [],
   "source": []
  },
  {
   "cell_type": "markdown",
   "id": "7e1e952a",
   "metadata": {},
   "source": [
    "# 6 - Perdas Progressivas da Força de Protensão:\n",
    "\n",
    "## 6.1 - Fluência do Concreto:\n",
    "\n",
    "### 6.1.1 - Fluência Rápida Irreversível"
   ]
  },
  {
   "cell_type": "code",
   "execution_count": 23,
   "id": "c3dbfb93",
   "metadata": {},
   "outputs": [
    {
     "data": {
      "text/latex": [
       "\\[\n",
       "\\begin{aligned}\n",
       "s &= 0.38 \\; \\;\\textrm{(CP IV)}\n",
       "\\\\[10pt]\n",
       "t_{0} &= 10 \\; \n",
       "\\\\[10pt]\n",
       "t_{F} &= 10000 \\; \n",
       "\\\\[10pt]\n",
       "\\beta_{0} &= \\exp \\left( s \\cdot \\left( 1 - \\left( \\frac{ 28 }{ t_{0} } \\right) ^{ 0.5 } \\right) \\right)  = \\exp \\left( 0.38 \\cdot \\left( 1 - \\left( \\frac{ 28 }{ 10 } \\right) ^{ 0.5 } \\right) \\right) &= 7.742 \\times 10 ^ {-1 }  \n",
       "\\\\[10pt]\n",
       "\\beta_{F} &= \\exp \\left( s \\cdot \\left( 1 - \\left( \\frac{ 28 }{ t_{F} } \\right) ^{ 0.5 } \\right) \\right)  = \\exp \\left( 0.38 \\cdot \\left( 1 - \\left( \\frac{ 28 }{ 10000 } \\right) ^{ 0.5 } \\right) \\right) &= 1.433  \n",
       "\\\\[10pt]\n",
       "\\phi_{a} &= 0.8 \\cdot \\left( 1 - \\left( \\frac{ \\beta_{0} }{ \\beta_{F} } \\right) \\right)  = 0.8 \\cdot \\left( 1 - \\left( \\frac{ 7.742 \\times 10 ^ {-1 } }{ 1.433 } \\right) \\right) &= 3.678 \\times 10 ^ {-1 }  \n",
       "\\end{aligned}\n",
       "\\]"
      ],
      "text/plain": [
       "<IPython.core.display.Latex object>"
      ]
     },
     "metadata": {},
     "output_type": "display_data"
    }
   ],
   "source": [
    "%%render\n",
    "\n",
    "s = 0.38 # CP IV\n",
    "t_0 = 10\n",
    "t_F = 10000\n",
    "\n",
    "\n",
    "beta_0 = exp(s*(1-(28/t_0)**0.5))\n",
    "beta_F = exp(s*(1-(28/t_F)**0.5))\n",
    "\n",
    "phi_a = 0.8*(1 - (beta_0/beta_F))\n",
    "\n"
   ]
  },
  {
   "cell_type": "markdown",
   "id": "ec305c4e",
   "metadata": {},
   "source": [
    "### 6.1.2 - Fluência Lenta Irreversível:"
   ]
  },
  {
   "cell_type": "code",
   "execution_count": 24,
   "id": "bb095c40",
   "metadata": {},
   "outputs": [
    {
     "data": {
      "text/latex": [
       "\\[\n",
       "\\begin{aligned}\n",
       "U &= 70 \\; \\;\\textrm{(umidade média do ar)}\n",
       "\\\\[10pt]\n",
       "\\phi_{c1} &= 4.45 - 0.035 \\cdot U  = 4.45 - 0.035 \\cdot 70 &= 2.0 \\; \\;\\textrm{(para abatimentos entre 5cm e 9cm)}\n",
       "\\\\[10pt]\n",
       "\\gamma &= 1 + \\exp \\left( \\left( - 7.8 \\right) + 0.1 \\cdot U \\right)  = 1 + \\exp \\left( \\left( - 7.8 \\right) + 0.1 \\cdot 70 \\right) &= 1.45  \n",
       "\\\\[10pt]\n",
       "u_{ar} &= 300 \\; \n",
       "\\\\[10pt]\n",
       "h_{fic} &= \\gamma \\cdot \\frac{ 2 \\cdot \\mathrm{Area} }{ u_{ar} }  = 1.45 \\cdot \\frac{ 2 \\cdot 4400 }{ 300 } &= 42.51  \n",
       "\\\\[10pt]\n",
       "\\phi_{c2} &= \\frac{ 42 + h_{fic} }{ 20 + h_{fic} }  = \\frac{ 42 + 42.51 }{ 20 + 42.51 } &= 1.35  \n",
       "\\\\[10pt]\n",
       "\\phi_{fF} &= \\phi_{c1} \\cdot \\phi_{c2}  = 2.0 \\cdot 1.35 &= 2.7  \n",
       "\\\\[10pt]\n",
       "h_{fm} &= \\frac{ h_{fic} }{ 100 }  = \\frac{ 42.51 }{ 100 } &= 4.25 \\times 10 ^ {-1 } \\; \\;\\textrm{(espessura fictícia em metros)}\n",
       "\\\\[10pt]\n",
       "A_{\\beta_{f}} &= 42 \\cdot \\left( h_{fm} \\right) ^{ 3 } - 350 \\cdot \\left( h_{fm} \\right) ^{ 2 } + 588 \\cdot h_{fm} + 113  = 42 \\cdot \\left( 4.25 \\times 10 ^ {-1 } \\right) ^{ 3 } - 350 \\cdot \\left( 4.25 \\times 10 ^ {-1 } \\right) ^{ 2 } + 588 \\cdot 4.25 \\times 10 ^ {-1 } + 113 &= 302.95  \n",
       "\\\\[10pt]\n",
       "B_{\\beta_{f}} &= 768 \\cdot \\left( h_{fm} \\right) ^{ 3 } - 3060 \\cdot \\left( h_{fm} \\right) ^{ 2 } + 3234 \\cdot h_{fm} - 23  = 768 \\cdot \\left( 4.25 \\times 10 ^ {-1 } \\right) ^{ 3 } - 3060 \\cdot \\left( 4.25 \\times 10 ^ {-1 } \\right) ^{ 2 } + 3234 \\cdot 4.25 \\times 10 ^ {-1 } - 23 &= 857.84  \n",
       "\\\\[10pt]\n",
       "C_{\\beta_{f}} &= \\left( - 200 \\right) \\cdot \\left( h_{fm} \\right) ^{ 3 } + 13 \\cdot \\left( h_{fm} \\right) ^{ 2 } + 1090 \\cdot h_{fm} + 183  = \\left( - 200 \\right) \\cdot \\left( 4.25 \\times 10 ^ {-1 } \\right) ^{ 3 } + 13 \\cdot \\left( 4.25 \\times 10 ^ {-1 } \\right) ^{ 2 } + 1090 \\cdot 4.25 \\times 10 ^ {-1 } + 183 &= 633.38  \n",
       "\\\\[10pt]\n",
       "D_{\\beta_{f}} &= 7579 \\cdot \\left( h_{fm} \\right) ^{ 3 } - 31916 \\cdot \\left( h_{fm} \\right) ^{ 2 } + 35343 \\cdot h_{fm} + 1931  = 7579 \\cdot \\left( 4.25 \\times 10 ^ {-1 } \\right) ^{ 3 } - 31916 \\cdot \\left( 4.25 \\times 10 ^ {-1 } \\right) ^{ 2 } + 35343 \\cdot 4.25 \\times 10 ^ {-1 } + 1931 &= 11770.44  \n",
       "\\\\[10pt]\n",
       "\\beta_{f_{t0}} &= \\frac{ \\left( t_{0} \\right) ^{ 2 } + A_{\\beta_{f}} \\cdot t_{0} + B_{\\beta_{f}} }{ \\left( t_{0} \\right) ^{ 2 } + C_{\\beta_{f}} \\cdot t_{0} + D_{\\beta_{f}} }  = \\frac{ \\left( 10 \\right) ^{ 2 } + 302.95 \\cdot 10 + 857.84 }{ \\left( 10 \\right) ^{ 2 } + 633.38 \\cdot 10 + 11770.44 } &= 2.19 \\times 10 ^ {-1 }  \n",
       "\\\\[10pt]\n",
       "\\beta_{f_{tF}} &= \\frac{ \\left( t_{F} \\right) ^{ 2 } + A_{\\beta_{f}} \\cdot t_{F} + B_{\\beta_{f}} }{ \\left( t_{F} \\right) ^{ 2 } + C_{\\beta_{f}} \\cdot t_{F} + D_{\\beta_{f}} }  = \\frac{ \\left( 10000 \\right) ^{ 2 } + 302.95 \\cdot 10000 + 857.84 }{ \\left( 10000 \\right) ^{ 2 } + 633.38 \\cdot 10000 + 11770.44 } &= 9.69 \\times 10 ^ {-1 }  \n",
       "\\end{aligned}\n",
       "\\]"
      ],
      "text/plain": [
       "<IPython.core.display.Latex object>"
      ]
     },
     "metadata": {},
     "output_type": "display_data"
    }
   ],
   "source": [
    "%%render 2 short\n",
    "\n",
    "U = 70 #umidade média do ar\n",
    "\n",
    "phi_c1 = 4.45 - 0.035*U # para abatimentos entre 5cm e 9cm\n",
    "\n",
    "gamma = 1 + exp(-7.8 + 0.1 * U)\n",
    "\n",
    "u_ar = ( 2*h + 2*b )\n",
    "\n",
    "h_fic = gamma*(2*Area)/u_ar\n",
    "\n",
    "phi_c2 = (42+h_fic)/(20+h_fic)\n",
    "\n",
    "phi_fF = phi_c1*phi_c2\n",
    "\n",
    "h_fm = h_fic/100 # espessura fictícia em metros\n",
    "\n",
    "A_beta_f = 42*h_fm**3 - 350*h_fm**2 + 588*h_fm + 113\n",
    "B_beta_f = 768*h_fm**3 - 3060*h_fm**2 + 3234*h_fm - 23\n",
    "C_beta_f = -200*h_fm**3 + 13*h_fm**2 + 1090*h_fm + 183\n",
    "D_beta_f = 7579*h_fm**3 - 31916*h_fm**2 + 35343*h_fm + 1931\n",
    "\n",
    "beta_f_t0 = (t_0**2 + A_beta_f*t_0 + B_beta_f )/(t_0**2 + C_beta_f*t_0 + D_beta_f)\n",
    "beta_f_tF = (t_F**2 + A_beta_f*t_F + B_beta_f )/(t_F**2 + C_beta_f*t_F + D_beta_f) "
   ]
  },
  {
   "cell_type": "markdown",
   "id": "bd808c0d",
   "metadata": {},
   "source": [
    "### 6.1.3 - Fluência Lenta Reversível:"
   ]
  },
  {
   "cell_type": "code",
   "execution_count": 25,
   "id": "9a489151",
   "metadata": {},
   "outputs": [
    {
     "data": {
      "text/latex": [
       "\\[\n",
       "\\begin{aligned}\n",
       "\\phi_{dF} &= 0.4 \\; \n",
       "\\\\[10pt]\n",
       "\\beta_{d} &= \\frac{ t_{F} - t_{0} + 20 }{ t_{F} - t_{0} + 70 }  = \\frac{ 10000 - 10 + 20 }{ 10000 - 10 + 70 } &= 0.995  \n",
       "\\end{aligned}\n",
       "\\]"
      ],
      "text/plain": [
       "<IPython.core.display.Latex object>"
      ]
     },
     "metadata": {},
     "output_type": "display_data"
    }
   ],
   "source": [
    "%%render short\n",
    "\n",
    "phi_dF = 0.4\n",
    "\n",
    "beta_d = (t_F-t_0+20)/(t_F-t_0+70)"
   ]
  },
  {
   "cell_type": "markdown",
   "id": "96bd76c7",
   "metadata": {},
   "source": [
    "### 6.1.4 - Fluência Total:"
   ]
  },
  {
   "cell_type": "code",
   "execution_count": 26,
   "id": "a5a83321",
   "metadata": {},
   "outputs": [
    {
     "data": {
      "text/latex": [
       "\\[\n",
       "\\begin{aligned}\n",
       "\\phi_{t} &= \\phi_{a} + \\phi_{fF} \\cdot \\left( \\beta_{f_{tF}} - \\beta_{f_{t0}} \\right) + \\phi_{dF} \\cdot \\beta_{d}  = 3.678 \\times 10 ^ {-1 } + 2.704 \\cdot \\left( 9.688 \\times 10 ^ {-1 } - 0.219 \\right) + 0.4 \\cdot 0.995 &= 2.793  \n",
       "\\end{aligned}\n",
       "\\]"
      ],
      "text/plain": [
       "<IPython.core.display.Latex object>"
      ]
     },
     "metadata": {},
     "output_type": "display_data"
    }
   ],
   "source": [
    "%%render short\n",
    "phi_t = phi_a + phi_fF*(beta_f_tF - beta_f_t0) + phi_dF * beta_d"
   ]
  },
  {
   "cell_type": "markdown",
   "id": "865b57fe",
   "metadata": {},
   "source": [
    "## 6.2 Retração do Concreto:"
   ]
  },
  {
   "cell_type": "code",
   "execution_count": 27,
   "id": "1bac914d",
   "metadata": {},
   "outputs": [
    {
     "data": {
      "text/latex": [
       "\\[\n",
       "\\begin{aligned}\n",
       "\\epsilon_{1s} &= \\left( \\left( - 8.09 \\right) + \\frac{ U }{ 15 } - \\frac{ \\left( U \\right) ^{ 2 } }{ 2284 } + \\frac{ \\left( U \\right) ^{ 3 } }{ 133765 } - \\frac{ \\left( U \\right) ^{ 4 } }{ 7608150 } \\right) \\cdot \\left( 10 \\right) ^{ -4 }  = \\left( \\left( - 8.09 \\right) + \\frac{ 70 }{ 15 } - \\frac{ \\left( 70 \\right) ^{ 2 } }{ 2284 } + \\frac{ \\left( 70 \\right) ^{ 3 } }{ 133765 } - \\frac{ \\left( 70 \\right) ^{ 4 } }{ 7608150 } \\right) \\cdot \\left( 10 \\right) ^{ -4 } &= -6.160 \\times 10 ^ {-4 }  \n",
       "\\\\[10pt]\n",
       "\\epsilon_{2s} &= \\frac{ 33 + 2 \\cdot h_{fic} }{ 20.8 + 3 \\cdot h_{fic} }  = \\frac{ 33 + 2 \\cdot 42.514 }{ 20.8 + 3 \\cdot 42.514 } &= 7.956 \\times 10 ^ {-1 }  \n",
       "\\\\[10pt]\n",
       "A_{\\beta_{s}} &= 40 \\; \n",
       "\\\\[10pt]\n",
       "B_{\\beta_{s}} &= 116 \\cdot \\left( h_{fm} \\right) ^{ 3 } - 282 \\cdot \\left( h_{fm} \\right) ^{ 2 } + 220 \\cdot h_{fm} - 4.8  = 116 \\cdot \\left( 4.251 \\times 10 ^ {-1 } \\right) ^{ 3 } - 282 \\cdot \\left( 4.251 \\times 10 ^ {-1 } \\right) ^{ 2 } + 220 \\cdot 4.251 \\times 10 ^ {-1 } - 4.8 &= 46.674  \n",
       "\\\\[10pt]\n",
       "C_{\\beta_{s}} &= 2.5 \\cdot \\left( h_{fm} \\right) ^{ 3 } - 8.8 \\cdot h_{fm} + 40.7  = 2.5 \\cdot \\left( 4.251 \\times 10 ^ {-1 } \\right) ^{ 3 } - 8.8 \\cdot 4.251 \\times 10 ^ {-1 } + 40.7 &= 37.151  \n",
       "\\\\[10pt]\n",
       "D_{\\beta_{s}} &= \\left( - 75 \\right) \\cdot \\left( h_{fm} \\right) ^{ 3 } + 585 \\cdot \\left( h_{fm} \\right) ^{ 2 } + 496 \\cdot h_{fm} - 6.8  = \\left( - 75 \\right) \\cdot \\left( 4.251 \\times 10 ^ {-1 } \\right) ^{ 3 } + 585 \\cdot \\left( 4.251 \\times 10 ^ {-1 } \\right) ^{ 2 } + 496 \\cdot 4.251 \\times 10 ^ {-1 } - 6.8 &= 304.038  \n",
       "\\\\[10pt]\n",
       "E_{\\beta_{s}} &= \\left( - 169 \\right) \\cdot \\left( h_{fm} \\right) ^{ 4 } + 88 \\cdot \\left( h_{fm} \\right) ^{ 3 } + 584 \\cdot \\left( h_{fm} \\right) ^{ 2 } - 39 \\cdot h_{fm} + 0.8  = \\left( - 169 \\right) \\cdot \\left( 4.251 \\times 10 ^ {-1 } \\right) ^{ 4 } + 88 \\cdot \\left( 4.251 \\times 10 ^ {-1 } \\right) ^{ 3 } + 584 \\cdot \\left( 4.251 \\times 10 ^ {-1 } \\right) ^{ 2 } - 39 \\cdot 4.251 \\times 10 ^ {-1 } + 0.8 &= 91.014  \n",
       "\\\\[10pt]\n",
       "\\beta_{s_{t0}} &= \\frac{ \\left( \\frac{ t_{0} }{ 100 } \\right) ^{ 3 } + A_{\\beta_{s}} \\cdot \\left( \\frac{ t_{0} }{ 100 } \\right) ^{ 2 } + B_{\\beta_{s}} \\cdot \\left( \\frac{ t_{0} }{ 100 } \\right) }{ \\left( \\frac{ t_{0} }{ 100 } \\right) ^{ 3 } + C_{\\beta_{s}} \\cdot \\left( \\frac{ t_{0} }{ 100 } \\right) ^{ 2 } + D_{\\beta_{s}} \\cdot \\left( \\frac{ t_{0} }{ 100 } \\right) + E_{\\beta_{s}} }  = \\frac{ \\left( \\frac{ 10 }{ 100 } \\right) ^{ 3 } + 40 \\cdot \\left( \\frac{ 10 }{ 100 } \\right) ^{ 2 } + 46.674 \\cdot \\left( \\frac{ 10 }{ 100 } \\right) }{ \\left( \\frac{ 10 }{ 100 } \\right) ^{ 3 } + 37.151 \\cdot \\left( \\frac{ 10 }{ 100 } \\right) ^{ 2 } + 304.038 \\cdot \\left( \\frac{ 10 }{ 100 } \\right) + 91.014 } &= 4.162 \\times 10 ^ {-2 }  \n",
       "\\\\[10pt]\n",
       "\\beta_{s_{tF}} &= \\frac{ \\left( \\frac{ t_{F} }{ 100 } \\right) ^{ 3 } + A_{\\beta_{s}} \\cdot \\left( \\frac{ t_{F} }{ 100 } \\right) ^{ 2 } + B_{\\beta_{s}} \\cdot \\left( \\frac{ t_{F} }{ 100 } \\right) }{ \\left( \\frac{ t_{F} }{ 100 } \\right) ^{ 3 } + C_{\\beta_{s}} \\cdot \\left( \\frac{ t_{F} }{ 100 } \\right) ^{ 2 } + D_{\\beta_{s}} \\cdot \\left( \\frac{ t_{F} }{ 100 } \\right) + E_{\\beta_{s}} }  = \\frac{ \\left( \\frac{ 10000 }{ 100 } \\right) ^{ 3 } + 40 \\cdot \\left( \\frac{ 10000 }{ 100 } \\right) ^{ 2 } + 46.674 \\cdot \\left( \\frac{ 10000 }{ 100 } \\right) }{ \\left( \\frac{ 10000 }{ 100 } \\right) ^{ 3 } + 37.151 \\cdot \\left( \\frac{ 10000 }{ 100 } \\right) ^{ 2 } + 304.038 \\cdot \\left( \\frac{ 10000 }{ 100 } \\right) + 91.014 } &= 1.002  \n",
       "\\\\[10pt]\n",
       "\\epsilon_{cs} &= \\epsilon_{1s} \\cdot \\epsilon_{2s} \\cdot \\left( \\beta_{s_{tF}} - \\beta_{s_{t0}} \\right)  = -6.160 \\times 10 ^ {-4 } \\cdot 7.956 \\times 10 ^ {-1 } \\cdot \\left( 1.002 - 4.162 \\times 10 ^ {-2 } \\right) &= -4.707 \\times 10 ^ {-4 }  \n",
       "\\end{aligned}\n",
       "\\]"
      ],
      "text/plain": [
       "<IPython.core.display.Latex object>"
      ]
     },
     "metadata": {},
     "output_type": "display_data"
    }
   ],
   "source": [
    "%%render short\n",
    "\n",
    "epsilon_1s = (-8.09 + U/15 - U**2/2284 + U**3/133765 - U**4/7608150)*10**-4\n",
    "\n",
    "epsilon_2s = (33+2*h_fic)/(20.8 + 3*h_fic)\n",
    "\n",
    "A_beta_s = 40  \n",
    "B_beta_s = 116*h_fm**3 - 282*h_fm**2 + 220*h_fm - 4.8  \n",
    "C_beta_s = 2.5*h_fm**3 - 8.8*h_fm + 40.7  \n",
    "D_beta_s = -75*h_fm**3 + 585*h_fm**2 + 496*h_fm - 6.8  \n",
    "E_beta_s = -169*h_fm**4 + 88*h_fm**3 + 584*h_fm**2 - 39*h_fm + 0.8  \n",
    "\n",
    "beta_s_t0 = ((t_0/100)**3 + A_beta_s*(t_0/100)**2 +  B_beta_s*(t_0/100))/((t_0/100)**3 + C_beta_s*(t_0/100)**2 +  D_beta_s*(t_0/100) + E_beta_s)\n",
    "\n",
    "beta_s_tF = ((t_F/100)**3 + A_beta_s*(t_F/100)**2 +  B_beta_s*(t_F/100))/((t_F/100)**3 + C_beta_s*(t_F/100)**2 +  D_beta_s*(t_F/100) + E_beta_s)\n",
    "\n",
    "epsilon_cs = epsilon_1s*epsilon_2s*(beta_s_tF - beta_s_t0)\n"
   ]
  },
  {
   "cell_type": "markdown",
   "id": "26653758",
   "metadata": {},
   "source": [
    "## 6.3 - Relaxação do Aço de Protensão:"
   ]
  },
  {
   "cell_type": "code",
   "execution_count": 28,
   "id": "59b4e706",
   "metadata": {},
   "outputs": [],
   "source": [
    "relax = []\n",
    "for i in range(7):\n",
    "    relax.append([0]*20)\n",
    "\n",
    "for i in range (20):\n",
    "    relax[0][i] = i+1\n",
    "    relax[1][i] = esforcos[0][i] #posição x da seção\n",
    "    for j in range(len(qntCordoalhas)-1,-1,-1):\n",
    "        if(relax[1][i] >= x1_anc[j] and relax[1][i] <= x2_anc[j]):\n",
    "            relax[2][i] = round(sigma_p[j],2)\n",
    "            break\n",
    "    relax[3][i] = round(relax[2][i]/f_ptk,2)\n",
    "    relax[4][i] = round(calcpsi(relax[3][i]),2)\n",
    "    relax[5][i] = round(relax[4][i]*2.5,2)\n",
    "    relax[6][i] = round(-log(1-relax[5][i]),2)"
   ]
  },
  {
   "cell_type": "code",
   "execution_count": 58,
   "id": "4ad6ae89",
   "metadata": {},
   "outputs": [
    {
     "data": {
      "text/html": [
       "<div>\n",
       "<style scoped>\n",
       "    .dataframe tbody tr th:only-of-type {\n",
       "        vertical-align: middle;\n",
       "    }\n",
       "\n",
       "    .dataframe tbody tr th {\n",
       "        vertical-align: top;\n",
       "    }\n",
       "\n",
       "    .dataframe thead th {\n",
       "        text-align: right;\n",
       "    }\n",
       "</style>\n",
       "<table border=\"1\" class=\"dataframe\">\n",
       "  <thead>\n",
       "    <tr style=\"text-align: right;\">\n",
       "      <th></th>\n",
       "      <th>Seção</th>\n",
       "      <th>X (cm)</th>\n",
       "      <th>Sigma_p</th>\n",
       "      <th>Sigma_p/fptk</th>\n",
       "      <th>Psi1000</th>\n",
       "      <th>Psi,inf</th>\n",
       "      <th>Chi,inf</th>\n",
       "    </tr>\n",
       "  </thead>\n",
       "  <tbody>\n",
       "    <tr>\n",
       "      <th>0</th>\n",
       "      <td>1.0</td>\n",
       "      <td>0.0</td>\n",
       "      <td>144.39</td>\n",
       "      <td>0.76</td>\n",
       "      <td>0.03</td>\n",
       "      <td>0.07</td>\n",
       "      <td>0.07</td>\n",
       "    </tr>\n",
       "    <tr>\n",
       "      <th>1</th>\n",
       "      <td>2.0</td>\n",
       "      <td>78.9</td>\n",
       "      <td>144.39</td>\n",
       "      <td>0.76</td>\n",
       "      <td>0.03</td>\n",
       "      <td>0.07</td>\n",
       "      <td>0.07</td>\n",
       "    </tr>\n",
       "    <tr>\n",
       "      <th>2</th>\n",
       "      <td>3.0</td>\n",
       "      <td>157.9</td>\n",
       "      <td>142.61</td>\n",
       "      <td>0.75</td>\n",
       "      <td>0.03</td>\n",
       "      <td>0.07</td>\n",
       "      <td>0.07</td>\n",
       "    </tr>\n",
       "    <tr>\n",
       "      <th>3</th>\n",
       "      <td>4.0</td>\n",
       "      <td>236.8</td>\n",
       "      <td>142.61</td>\n",
       "      <td>0.75</td>\n",
       "      <td>0.03</td>\n",
       "      <td>0.07</td>\n",
       "      <td>0.07</td>\n",
       "    </tr>\n",
       "    <tr>\n",
       "      <th>4</th>\n",
       "      <td>5.0</td>\n",
       "      <td>315.8</td>\n",
       "      <td>140.87</td>\n",
       "      <td>0.74</td>\n",
       "      <td>0.03</td>\n",
       "      <td>0.07</td>\n",
       "      <td>0.07</td>\n",
       "    </tr>\n",
       "    <tr>\n",
       "      <th>5</th>\n",
       "      <td>6.0</td>\n",
       "      <td>394.7</td>\n",
       "      <td>140.87</td>\n",
       "      <td>0.74</td>\n",
       "      <td>0.03</td>\n",
       "      <td>0.07</td>\n",
       "      <td>0.07</td>\n",
       "    </tr>\n",
       "    <tr>\n",
       "      <th>6</th>\n",
       "      <td>7.0</td>\n",
       "      <td>473.7</td>\n",
       "      <td>140.87</td>\n",
       "      <td>0.74</td>\n",
       "      <td>0.03</td>\n",
       "      <td>0.07</td>\n",
       "      <td>0.07</td>\n",
       "    </tr>\n",
       "    <tr>\n",
       "      <th>7</th>\n",
       "      <td>8.0</td>\n",
       "      <td>552.6</td>\n",
       "      <td>140.87</td>\n",
       "      <td>0.74</td>\n",
       "      <td>0.03</td>\n",
       "      <td>0.07</td>\n",
       "      <td>0.07</td>\n",
       "    </tr>\n",
       "    <tr>\n",
       "      <th>8</th>\n",
       "      <td>9.0</td>\n",
       "      <td>631.6</td>\n",
       "      <td>140.87</td>\n",
       "      <td>0.74</td>\n",
       "      <td>0.03</td>\n",
       "      <td>0.07</td>\n",
       "      <td>0.07</td>\n",
       "    </tr>\n",
       "    <tr>\n",
       "      <th>9</th>\n",
       "      <td>10.0</td>\n",
       "      <td>710.5</td>\n",
       "      <td>140.87</td>\n",
       "      <td>0.74</td>\n",
       "      <td>0.03</td>\n",
       "      <td>0.07</td>\n",
       "      <td>0.07</td>\n",
       "    </tr>\n",
       "    <tr>\n",
       "      <th>10</th>\n",
       "      <td>11.0</td>\n",
       "      <td>789.5</td>\n",
       "      <td>140.87</td>\n",
       "      <td>0.74</td>\n",
       "      <td>0.03</td>\n",
       "      <td>0.07</td>\n",
       "      <td>0.07</td>\n",
       "    </tr>\n",
       "    <tr>\n",
       "      <th>11</th>\n",
       "      <td>12.0</td>\n",
       "      <td>868.4</td>\n",
       "      <td>140.87</td>\n",
       "      <td>0.74</td>\n",
       "      <td>0.03</td>\n",
       "      <td>0.07</td>\n",
       "      <td>0.07</td>\n",
       "    </tr>\n",
       "    <tr>\n",
       "      <th>12</th>\n",
       "      <td>13.0</td>\n",
       "      <td>947.4</td>\n",
       "      <td>140.87</td>\n",
       "      <td>0.74</td>\n",
       "      <td>0.03</td>\n",
       "      <td>0.07</td>\n",
       "      <td>0.07</td>\n",
       "    </tr>\n",
       "    <tr>\n",
       "      <th>13</th>\n",
       "      <td>14.0</td>\n",
       "      <td>1026.3</td>\n",
       "      <td>140.87</td>\n",
       "      <td>0.74</td>\n",
       "      <td>0.03</td>\n",
       "      <td>0.07</td>\n",
       "      <td>0.07</td>\n",
       "    </tr>\n",
       "    <tr>\n",
       "      <th>14</th>\n",
       "      <td>15.0</td>\n",
       "      <td>1105.3</td>\n",
       "      <td>140.87</td>\n",
       "      <td>0.74</td>\n",
       "      <td>0.03</td>\n",
       "      <td>0.07</td>\n",
       "      <td>0.07</td>\n",
       "    </tr>\n",
       "    <tr>\n",
       "      <th>15</th>\n",
       "      <td>16.0</td>\n",
       "      <td>1184.2</td>\n",
       "      <td>140.87</td>\n",
       "      <td>0.74</td>\n",
       "      <td>0.03</td>\n",
       "      <td>0.07</td>\n",
       "      <td>0.07</td>\n",
       "    </tr>\n",
       "    <tr>\n",
       "      <th>16</th>\n",
       "      <td>17.0</td>\n",
       "      <td>1263.2</td>\n",
       "      <td>142.61</td>\n",
       "      <td>0.75</td>\n",
       "      <td>0.03</td>\n",
       "      <td>0.07</td>\n",
       "      <td>0.07</td>\n",
       "    </tr>\n",
       "    <tr>\n",
       "      <th>17</th>\n",
       "      <td>18.0</td>\n",
       "      <td>1342.1</td>\n",
       "      <td>142.61</td>\n",
       "      <td>0.75</td>\n",
       "      <td>0.03</td>\n",
       "      <td>0.07</td>\n",
       "      <td>0.07</td>\n",
       "    </tr>\n",
       "    <tr>\n",
       "      <th>18</th>\n",
       "      <td>19.0</td>\n",
       "      <td>1421.1</td>\n",
       "      <td>144.39</td>\n",
       "      <td>0.76</td>\n",
       "      <td>0.03</td>\n",
       "      <td>0.07</td>\n",
       "      <td>0.07</td>\n",
       "    </tr>\n",
       "    <tr>\n",
       "      <th>19</th>\n",
       "      <td>20.0</td>\n",
       "      <td>1500.0</td>\n",
       "      <td>144.39</td>\n",
       "      <td>0.76</td>\n",
       "      <td>0.03</td>\n",
       "      <td>0.07</td>\n",
       "      <td>0.07</td>\n",
       "    </tr>\n",
       "  </tbody>\n",
       "</table>\n",
       "</div>"
      ],
      "text/plain": [
       "    Seção  X (cm)  Sigma_p  Sigma_p/fptk  Psi1000  Psi,inf  Chi,inf\n",
       "0     1.0     0.0   144.39          0.76     0.03     0.07     0.07\n",
       "1     2.0    78.9   144.39          0.76     0.03     0.07     0.07\n",
       "2     3.0   157.9   142.61          0.75     0.03     0.07     0.07\n",
       "3     4.0   236.8   142.61          0.75     0.03     0.07     0.07\n",
       "4     5.0   315.8   140.87          0.74     0.03     0.07     0.07\n",
       "5     6.0   394.7   140.87          0.74     0.03     0.07     0.07\n",
       "6     7.0   473.7   140.87          0.74     0.03     0.07     0.07\n",
       "7     8.0   552.6   140.87          0.74     0.03     0.07     0.07\n",
       "8     9.0   631.6   140.87          0.74     0.03     0.07     0.07\n",
       "9    10.0   710.5   140.87          0.74     0.03     0.07     0.07\n",
       "10   11.0   789.5   140.87          0.74     0.03     0.07     0.07\n",
       "11   12.0   868.4   140.87          0.74     0.03     0.07     0.07\n",
       "12   13.0   947.4   140.87          0.74     0.03     0.07     0.07\n",
       "13   14.0  1026.3   140.87          0.74     0.03     0.07     0.07\n",
       "14   15.0  1105.3   140.87          0.74     0.03     0.07     0.07\n",
       "15   16.0  1184.2   140.87          0.74     0.03     0.07     0.07\n",
       "16   17.0  1263.2   142.61          0.75     0.03     0.07     0.07\n",
       "17   18.0  1342.1   142.61          0.75     0.03     0.07     0.07\n",
       "18   19.0  1421.1   144.39          0.76     0.03     0.07     0.07\n",
       "19   20.0  1500.0   144.39          0.76     0.03     0.07     0.07"
      ]
     },
     "metadata": {},
     "output_type": "display_data"
    }
   ],
   "source": [
    "data = pd.DataFrame(relax)\n",
    "data = data.transpose()\n",
    "data.rename(columns={0:'Seção',1:'X (cm)',2:'Sigma_p',3:'Sigma_p/fptk',4:'Psi1000',5:'Psi,inf',6:'Chi,inf'},inplace = True)\n",
    "display(data)"
   ]
  }
 ],
 "metadata": {
  "kernelspec": {
   "display_name": "Python 3 (ipykernel)",
   "language": "python",
   "name": "python3"
  },
  "language_info": {
   "codemirror_mode": {
    "name": "ipython",
    "version": 3
   },
   "file_extension": ".py",
   "mimetype": "text/x-python",
   "name": "python",
   "nbconvert_exporter": "python",
   "pygments_lexer": "ipython3",
   "version": "3.9.7"
  }
 },
 "nbformat": 4,
 "nbformat_minor": 5
}
