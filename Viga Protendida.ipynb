{
 "cells": [
  {
   "cell_type": "markdown",
   "id": "b6224006",
   "metadata": {},
   "source": [
    "# CÁLCULO DE VIGA PROTENDIDA - VP02\n",
    "\n",
    "**OBRA:** Carnetti Open Mall\n",
    "\n",
    "**Cliente:** JD Construções e Pré-Fabricados\n",
    "\n",
    "**Data:** 23/02/2022\n",
    "\n",
    "**Cálculo:** Gabriel\n",
    "\n",
    "\n",
    "Todas as grandezas apresentadas possuem como unidades base kN [força] e cm [comprimento]."
   ]
  },
  {
   "cell_type": "code",
   "execution_count": 1,
   "id": "36ead105",
   "metadata": {},
   "outputs": [],
   "source": [
    "import handcalcs.render\n",
    "import pandas as pd\n",
    "from math import floor,ceil,sqrt,exp\n",
    "from numpy import log\n",
    "\n",
    "def calcpsi(tensao):\n",
    "    if (tensao <= 0.5):\n",
    "        return 0\n",
    "    elif (tensao <= 0.6):\n",
    "        extra = tensao - 0.5\n",
    "        adicional = 13*extra\n",
    "        return (0+adicional)/100\n",
    "    elif (tensao <= 0.7):\n",
    "        extra = tensao - 0.6\n",
    "        adicional = 12*extra\n",
    "        return (1.3+adicional)/100\n",
    "    else:\n",
    "        extra = tensao - 0.7\n",
    "        adicional = 10*extra\n",
    "        return (2.5+adicional)/100"
   ]
  },
  {
   "cell_type": "markdown",
   "id": "0827d7c6",
   "metadata": {},
   "source": [
    "# Informações Iniciais:\n",
    "\n",
    "## Geometria da Viga:"
   ]
  },
  {
   "cell_type": "code",
   "execution_count": 2,
   "id": "9ae2ffd6",
   "metadata": {},
   "outputs": [
    {
     "data": {
      "text/latex": [
       "\\[\n",
       "\\begin{aligned}\n",
       "h &= 120 \\; \n",
       "\\\\[10pt]\n",
       "b &= 30 \\; \n",
       "\\\\[10pt]\n",
       "\\mathrm{Area} &= b \\cdot h  = 30 \\cdot 120 &= 3600  \n",
       "\\\\[10pt]\n",
       "\\mathrm{Inercia} &= b \\cdot \\frac{ \\left( h \\right) ^{ 3 } }{ 12 }  = 30 \\cdot \\frac{ \\left( 120 \\right) ^{ 3 } }{ 12 } &= 4320000.0  \n",
       "\\\\[10pt]\n",
       "W_{i} &= \\frac{ \\mathrm{Inercia} }{ \\frac{ h }{ 2 } }  = \\frac{ 4320000.0 }{ \\frac{ 120 }{ 2 } } &= 72000.0  \n",
       "\\\\[10pt]\n",
       "W_{s} &= \\frac{ \\mathrm{Inercia} }{ \\frac{ h }{ 2 } }  = \\frac{ 4320000.0 }{ \\frac{ 120 }{ 2 } } &= 72000.0  \n",
       "\\\\[10pt]\n",
       "e_{p} &= 55 \\; \n",
       "\\\\[10pt]\n",
       "\\mathrm{Vao} &= 2391 \\; \n",
       "\\\\[10pt]\n",
       "& \\textrm{ Número de seções para dividir o vão:}\\\\[10pt]\n",
       "\\mathrm{nS} &= 11 \\; \n",
       "\\end{aligned}\n",
       "\\]"
      ],
      "text/plain": [
       "<IPython.core.display.Latex object>"
      ]
     },
     "metadata": {},
     "output_type": "display_data"
    }
   ],
   "source": [
    "%%render\n",
    "# Geometria da Viga:\n",
    "\n",
    "h = 120\n",
    "b = 30\n",
    "Area = b*h\n",
    "Inercia = b*h**3/12\n",
    "W_i = Inercia/(h/2)\n",
    "W_s = Inercia/(h/2)\n",
    "e_p = 55\n",
    "Vao = 2391\n",
    "\n",
    "## Número de seções para dividir o vão:\n",
    "# Escolher número impar\n",
    "nS = 11"
   ]
  },
  {
   "cell_type": "markdown",
   "id": "14134ea3",
   "metadata": {},
   "source": [
    "## Propriedades dos Materiais:"
   ]
  },
  {
   "cell_type": "code",
   "execution_count": 3,
   "id": "a7d62aa8",
   "metadata": {},
   "outputs": [
    {
     "data": {
      "text/latex": [
       "\\[\n",
       "\\begin{aligned}\n",
       "f_{ck} &= 4 \\; \n",
       "\\\\[10pt]\n",
       "f_{ptk} &= 190 \\; \n",
       "\\\\[10pt]\n",
       "f_{yk} &= 50 \\; \n",
       "\\\\[10pt]\n",
       "f_{cj} &= 3.2 \\; \n",
       "\\\\[10pt]\n",
       "E_{s} &= 21000 \\; \n",
       "\\\\[10pt]\n",
       "E_{p} &= 20000 \\; \n",
       "\\end{aligned}\n",
       "\\]"
      ],
      "text/plain": [
       "<IPython.core.display.Latex object>"
      ]
     },
     "metadata": {},
     "output_type": "display_data"
    }
   ],
   "source": [
    "%%render\n",
    "# Propriedades dos Materiais:\n",
    "\n",
    "# Concreto:\n",
    "f_ck = 4\n",
    "f_ptk = 190\n",
    "f_yk = 50\n",
    "f_cj = 3.2\n",
    "\n",
    "E_s = 21000\n",
    "E_p = 20000"
   ]
  },
  {
   "cell_type": "code",
   "execution_count": 4,
   "id": "3fecd76f",
   "metadata": {},
   "outputs": [
    {
     "data": {
      "text/latex": [
       "\\[\n",
       "\\begin{aligned}\n",
       "E_{ci} &= 560 \\cdot \\left( f_{ck} \\cdot 10 \\right) ^{ \\left( \\frac{ 1 }{ 2 } \\right) }  = 560 \\cdot \\left( 4 \\cdot 10 \\right) ^{ \\left( \\frac{ 1 }{ 2 } \\right) } &= 3541.75  \n",
       "\\\\[10pt]\n",
       "E_{cs} &= E_{ci} \\cdot \\left( 0.8 + 0.2 \\cdot \\frac{ f_{ck} }{ 8 } \\right)  = 3541.75 \\cdot \\left( 0.8 + 0.2 \\cdot \\frac{ 4 }{ 8 } \\right) &= 3187.58  \n",
       "\\\\[10pt]\n",
       "E_{cit0} &= \\left( \\frac{ f_{cj} }{ f_{ck} } \\right) ^{ \\left( \\frac{ 1 }{ 2 } \\right) } \\cdot E_{ci}  = \\left( \\frac{ 3.2 }{ 4 } \\right) ^{ \\left( \\frac{ 1 }{ 2 } \\right) } \\cdot 3541.75 &= 3167.84  \n",
       "\\\\[10pt]\n",
       "E_{cst0} &= E_{cit0} \\cdot \\left( 0.8 + 0.2 \\cdot \\frac{ f_{cj} }{ 8 } \\right)  = 3167.84 \\cdot \\left( 0.8 + 0.2 \\cdot \\frac{ 3.2 }{ 8 } \\right) &= 2787.7  \n",
       "\\\\[10pt]\n",
       "f_{yd} &= \\frac{ f_{yk} }{ 1.15 }  = \\frac{ 50 }{ 1.15 } &= 43.48  \n",
       "\\\\[10pt]\n",
       "\\sigma_{p0} &= 0.8 \\cdot f_{ptk}  = 0.8 \\cdot 190 &= 152.0  \n",
       "\\end{aligned}\n",
       "\\]"
      ],
      "text/plain": [
       "<IPython.core.display.Latex object>"
      ]
     },
     "metadata": {},
     "output_type": "display_data"
    }
   ],
   "source": [
    "%%render 2 short\n",
    "\n",
    "E_ci = 560*(f_ck*10)**(1/2)\n",
    "E_cs = E_ci*(0.8+0.2*f_ck/8)\n",
    "\n",
    "E_cit0 = (f_cj/f_ck)**(1/2)*E_ci\n",
    "E_cst0 = E_cit0*(0.8+0.2*f_cj/8)\n",
    "\n",
    "f_yd = f_yk/1.15\n",
    "sigma_p0 = 0.8*f_ptk"
   ]
  },
  {
   "cell_type": "markdown",
   "id": "3d992512",
   "metadata": {},
   "source": [
    "## Carregamentos:"
   ]
  },
  {
   "cell_type": "code",
   "execution_count": 5,
   "id": "d578be19",
   "metadata": {
    "scrolled": true
   },
   "outputs": [
    {
     "data": {
      "text/latex": [
       "\\[\n",
       "\\begin{aligned}\n",
       "Q_{t0} &= 0.000025 \\cdot \\mathrm{Area}  = 0.000025 \\cdot 3600 &= 0.09  \n",
       "\\\\[10pt]\n",
       "Q_{tF} &= 1.56 \\times 10 ^ {-1 } \\; \n",
       "\\end{aligned}\n",
       "\\]"
      ],
      "text/plain": [
       "<IPython.core.display.Latex object>"
      ]
     },
     "metadata": {},
     "output_type": "display_data"
    }
   ],
   "source": [
    "%%render 2 short\n",
    "\n",
    "Q_t0 = 0.000025*Area\n",
    "Q_tF = 0.156\n",
    "\n"
   ]
  },
  {
   "cell_type": "markdown",
   "id": "c82c1fa3",
   "metadata": {},
   "source": [
    "## Esforços no Centro do Vão:"
   ]
  },
  {
   "cell_type": "code",
   "execution_count": 6,
   "id": "21d314b4",
   "metadata": {},
   "outputs": [
    {
     "data": {
      "text/latex": [
       "\\[\n",
       "\\begin{aligned}\n",
       "M_{F} &= Q_{tF} \\cdot \\left( \\mathrm{Vao} \\right) ^{ 2 } \\cdot 0.125  = 1.56 \\times 10 ^ {-1 } \\cdot \\left( 2391 \\right) ^{ 2 } \\cdot 0.125 &= 111479.18  \n",
       "\\\\[10pt]\n",
       "M_{0} &= Q_{t0} \\cdot \\left( \\mathrm{Vao} \\right) ^{ 2 } \\cdot 0.125  = 0.09 \\cdot \\left( 2391 \\right) ^{ 2 } \\cdot 0.125 &= 64314.91  \n",
       "\\\\[10pt]\n",
       "V_{F} &= Q_{tF} \\cdot \\frac{ \\mathrm{Vao} }{ 2 }  = 1.56 \\times 10 ^ {-1 } \\cdot \\frac{ 2391 }{ 2 } &= 186.5  \n",
       "\\end{aligned}\n",
       "\\]"
      ],
      "text/plain": [
       "<IPython.core.display.Latex object>"
      ]
     },
     "metadata": {},
     "output_type": "display_data"
    }
   ],
   "source": [
    "%%render 2 short\n",
    "M_F = (Q_tF)*Vao**2*0.125\n",
    "M_0 = (Q_t0)*Vao**2*0.125\n",
    "V_F = (Q_tF)*Vao/2"
   ]
  },
  {
   "cell_type": "markdown",
   "id": "9b0ada7b",
   "metadata": {},
   "source": [
    "# Deteminação da Força de Protensão:\n",
    "\n",
    "## Limites de Tensão:"
   ]
  },
  {
   "cell_type": "code",
   "execution_count": 7,
   "id": "9b94d2e4",
   "metadata": {
    "scrolled": true
   },
   "outputs": [
    {
     "data": {
      "text/latex": [
       "\\[\n",
       "\\begin{aligned}\n",
       "\\sigma_{ct0} &= \\left( - 1.2 \\right) \\cdot 0.03 \\cdot \\left( f_{cj} \\cdot 10 \\right) ^{ \\left( \\frac{ 2 }{ 3 } \\right) }  = \\left( - 1.2 \\right) \\cdot 0.03 \\cdot \\left( 3.2 \\cdot 10 \\right) ^{ \\left( \\frac{ 2 }{ 3 } \\right) } &= -3.629 \\times 10 ^ {-1 }  \n",
       "\\\\[10pt]\n",
       "\\sigma_{cc0} &= 0.7 \\cdot f_{cj}  = 0.7 \\cdot 3.2 &= 2.24  \n",
       "\\\\[10pt]\n",
       "\\sigma_{ctF} &= \\left( - 1.2 \\right) \\cdot 0.03 \\cdot \\left( f_{ck} \\cdot 10 \\right) ^{ \\left( \\frac{ 2 }{ 3 } \\right) }  = \\left( - 1.2 \\right) \\cdot 0.03 \\cdot \\left( 4 \\cdot 10 \\right) ^{ \\left( \\frac{ 2 }{ 3 } \\right) } &= -4.211 \\times 10 ^ {-1 }  \n",
       "\\\\[10pt]\n",
       "\\sigma_{ccF} &= 0.5 \\cdot f_{ck}  = 0.5 \\cdot 4 &= 2.0  \n",
       "\\\\[10pt]\n",
       "r_{0} &= 0.95 \\; \n",
       "\\\\[10pt]\n",
       "r_{F} &= 0.8 \\; \n",
       "\\end{aligned}\n",
       "\\]"
      ],
      "text/plain": [
       "<IPython.core.display.Latex object>"
      ]
     },
     "metadata": {},
     "output_type": "display_data"
    }
   ],
   "source": [
    "%%render short\n",
    "\n",
    "sigma_ct0 = -1.2*0.03*(f_cj*10)**(2/3)\n",
    "sigma_cc0 = 0.7*f_cj\n",
    "sigma_ctF = -1.2*0.03*(f_ck*10)**(2/3)\n",
    "sigma_ccF = 0.5*f_ck\n",
    "\n",
    "r_0 = 0.95\n",
    "r_F = 0.80"
   ]
  },
  {
   "cell_type": "markdown",
   "id": "01901b13",
   "metadata": {},
   "source": [
    "## Cálculo da Força de Protensão:"
   ]
  },
  {
   "cell_type": "code",
   "execution_count": 8,
   "id": "654ce266",
   "metadata": {},
   "outputs": [
    {
     "data": {
      "text/latex": [
       "\\[\n",
       "\\begin{aligned}\n",
       "P_{1} &= \\frac{ \\sigma_{cc0} + \\frac{ M_{0} }{ W_{i} } }{ r_{0} \\cdot \\left( \\frac{ 1 }{ \\mathrm{Area} } + \\frac{ e_{p} }{ W_{i} } \\right) }  = \\frac{ 2.24 + \\frac{ 64314.91 }{ 72000.0 } }{ 0.95 \\cdot \\left( \\frac{ 1 }{ 3600 } + \\frac{ 55 }{ 72000.0 } \\right) } &= 3166.24  \n",
       "\\\\[10pt]\n",
       "P_{2} &= \\frac{ \\sigma_{ct0} - \\frac{ M_{0} }{ W_{s} } }{ r_{0} \\cdot \\left( \\frac{ 1 }{ \\mathrm{Area} } - \\frac{ e_{p} }{ W_{s} } \\right) }  = \\frac{ -3.63 \\times 10 ^ {-1 } - \\frac{ 64314.91 }{ 72000.0 } }{ 0.95 \\cdot \\left( \\frac{ 1 }{ 3600 } - \\frac{ 55 }{ 72000.0 } \\right) } &= 2720.02  \n",
       "\\\\[10pt]\n",
       "P_{3} &= \\frac{ \\sigma_{ctF} + \\frac{ M_{F} }{ W_{i} } }{ r_{F} \\cdot \\left( \\frac{ 1 }{ \\mathrm{Area} } + \\frac{ e_{p} }{ W_{i} } \\right) }  = \\frac{ -4.21 \\times 10 ^ {-1 } + \\frac{ 111479.18 }{ 72000.0 } }{ 0.8 \\cdot \\left( \\frac{ 1 }{ 3600 } + \\frac{ 55 }{ 72000.0 } \\right) } &= 1352.72  \n",
       "\\\\[10pt]\n",
       "P_{4} &= \\frac{ \\sigma_{ccF} - \\frac{ M_{F} }{ W_{s} } }{ r_{F} \\cdot \\left( \\frac{ 1 }{ \\mathrm{Area} } - \\frac{ e_{p} }{ W_{s} } \\right) }  = \\frac{ 2.0 - \\frac{ 111479.18 }{ 72000.0 } }{ 0.8 \\cdot \\left( \\frac{ 1 }{ 3600 } - \\frac{ 55 }{ 72000.0 } \\right) } &= -1161.46  \n",
       "\\\\[10pt]\n",
       "& \\textrm{Adotar valores entre:}\\\\[10pt]\n",
       "P_{min} &= \\operatorname{max} { \\left( P_{3} ,\\  P_{4} \\right) }  = \\operatorname{max} { \\left( 1352.72 ,\\  -1161.46 \\right) } &= 1352.72  \n",
       "\\\\[10pt]\n",
       "P_{max} &= \\operatorname{min} { \\left( P_{1} ,\\  P_{2} \\right) }  = \\operatorname{min} { \\left( 3166.24 ,\\  2720.02 \\right) } &= 2720.02  \n",
       "\\end{aligned}\n",
       "\\]"
      ],
      "text/plain": [
       "<IPython.core.display.Latex object>"
      ]
     },
     "metadata": {},
     "output_type": "display_data"
    }
   ],
   "source": [
    "%%render short 2\n",
    "\n",
    "P_1 = (sigma_cc0+M_0/W_i)/(r_0*(1/Area + e_p/W_i)) \n",
    "P_2 = (sigma_ct0-M_0/W_s)/(r_0*(1/Area - e_p/W_s)) \n",
    "P_3 = (sigma_ctF+M_F/W_i)/(r_F*(1/Area + e_p/W_i))\n",
    "P_4 = (sigma_ccF-M_F/W_s)/(r_F*(1/Area - e_p/W_s))\n",
    "\n",
    "\n",
    "##Adotar valores entre:\n",
    "P_min = max(P_3, P_4)\n",
    "P_max = min(P_1, P_2)\n"
   ]
  },
  {
   "cell_type": "markdown",
   "id": "f125dec8",
   "metadata": {},
   "source": [
    "## Escolha da Protensão:"
   ]
  },
  {
   "cell_type": "code",
   "execution_count": 9,
   "id": "1643d970",
   "metadata": {},
   "outputs": [
    {
     "data": {
      "text/latex": [
       "\\[\n",
       "\\begin{aligned}\n",
       "P &= 2720 \\; \n",
       "\\\\[10pt]\n",
       "\\phi_{1} &= 1.52 \\; \n",
       "\\\\[10pt]\n",
       "A_{p1} &= 1.4 \\; \n",
       "\\\\[10pt]\n",
       "& \\textrm{ Número de cordoalhas para adotar:}\\\\[10pt]\n",
       "n &= \\left \\lfloor \\frac{ P }{ A_{p1} \\cdot \\sigma_{p0} } \\right \\rfloor  = \\left \\lfloor \\frac{ 2720 }{ 1.4 \\cdot 152.0 } \\right \\rfloor &= 12  \n",
       "\\end{aligned}\n",
       "\\]"
      ],
      "text/plain": [
       "<IPython.core.display.Latex object>"
      ]
     },
     "metadata": {},
     "output_type": "display_data"
    }
   ],
   "source": [
    "%%render short\n",
    "# Força de Protensão Adotada:\n",
    "\n",
    "P = 2720\n",
    "phi_1 = 1.52\n",
    "A_p1 = 1.40\n",
    "\n",
    "## Número de cordoalhas para adotar:\n",
    "n = floor(P/(A_p1*sigma_p0))"
   ]
  },
  {
   "cell_type": "markdown",
   "id": "08fc61b2",
   "metadata": {},
   "source": [
    "## Ancoragem das Cordoalhas:\n",
    "\n",
    "### Comprimento de Ancoragem Básico:"
   ]
  },
  {
   "cell_type": "code",
   "execution_count": 10,
   "id": "20d2c7ff",
   "metadata": {},
   "outputs": [
    {
     "data": {
      "text/latex": [
       "\\[\n",
       "\\begin{aligned}\n",
       "f_{pyd} &= 0.9 \\cdot \\frac{ f_{ptk} }{ 1.15 }  = 0.9 \\cdot \\frac{ 190 }{ 1.15 } &= 148.696  \n",
       "\\\\[10pt]\n",
       "\\eta_{p1} &= 1.2 \\; \n",
       "\\\\[10pt]\n",
       "\\eta_{p2} &= 1.0 \\; \n",
       "\\\\[10pt]\n",
       "f_{ctd} &= \\frac{ 0.7 \\cdot 0.03 \\cdot \\left( f_{cj} \\cdot 10 \\right) ^{ \\left( \\frac{ 2 }{ 3 } \\right) } }{ 1.4 }  = \\frac{ 0.7 \\cdot 0.03 \\cdot \\left( 3.2 \\cdot 10 \\right) ^{ \\left( \\frac{ 2 }{ 3 } \\right) } }{ 1.4 } &= 1.512 \\times 10 ^ {-1 }  \n",
       "\\\\[10pt]\n",
       "f_{bpd} &= \\eta_{p1} \\cdot \\eta_{p2} \\cdot f_{ctd}  = 1.2 \\cdot 1.0 \\cdot 1.512 \\times 10 ^ {-1 } &= 1.814 \\times 10 ^ {-1 }  \n",
       "\\\\[10pt]\n",
       "l_{bp} &= \\frac{ 7 \\cdot \\phi_{1} }{ 36 } \\cdot \\frac{ f_{pyd} }{ f_{bpd} }  = \\frac{ 7 \\cdot 1.52 }{ 36 } \\cdot \\frac{ 148.696 }{ 1.814 \\times 10 ^ {-1 } } &= 242.232  \n",
       "\\end{aligned}\n",
       "\\]"
      ],
      "text/plain": [
       "<IPython.core.display.Latex object>"
      ]
     },
     "metadata": {},
     "output_type": "display_data"
    }
   ],
   "source": [
    "%%render short\n",
    "f_pyd = 0.9* f_ptk / 1.15\n",
    "\n",
    "eta_p1 = 1.2\n",
    "\n",
    "# Valores de Eta_p1:\n",
    "#     \n",
    "#     1.0 para fios lisos\n",
    "#     1.2 para cordoalhas de 3 e 7 fios\n",
    "#     1.5 para fios dentados\n",
    "\n",
    "eta_p2 = 1.0\n",
    "\n",
    "# Valores de Eta_p2:\n",
    "#     \n",
    "#     1.0 para situação de boa aderência\n",
    "#     0.7 para situação de má aderência\n",
    "\n",
    "f_ctd = (0.7*0.03*(f_cj*10)**(2/3))/1.4\n",
    "f_bpd = eta_p1 * eta_p2 * f_ctd\n",
    "\n",
    "l_bp = (7*phi_1)/36 * f_pyd/f_bpd"
   ]
  },
  {
   "cell_type": "markdown",
   "id": "a58b5804",
   "metadata": {},
   "source": [
    "### Cálculo do comprimento de Transferência:"
   ]
  },
  {
   "cell_type": "code",
   "execution_count": 11,
   "id": "d61ba68b",
   "metadata": {},
   "outputs": [
    {
     "data": {
      "text/latex": [
       "\\[\n",
       "\\begin{aligned}\n",
       "& \\textrm{ para fios lisos ou dentados:}\\\\[10pt]\n",
       "l_{bpt1} &= 0.7 \\cdot l_{bp} \\cdot \\frac{ \\sigma_{p0} }{ f_{pyd} }  = 0.7 \\cdot 242.232 \\cdot \\frac{ 152.0 }{ 148.696 } &= 173.33  \n",
       "\\\\[10pt]\n",
       "& \\textrm{ para cordoalhas de 3 e 7 fios:}\\\\[10pt]\n",
       "l_{bpt2} &= 0.5 \\cdot l_{bp} \\cdot \\frac{ \\sigma_{p0} }{ f_{pyd} }  = 0.5 \\cdot 242.232 \\cdot \\frac{ 152.0 }{ 148.696 } &= 123.807  \n",
       "\\\\[10pt]\n",
       "& \\textrm{ para transferência não gradual, os valores devem ser multiplicados por 1.25}\\\\[10pt]\n",
       "& \\textrm{ valor adotado:}\\\\[10pt]\n",
       "l_{bpt} &= 1.25 \\cdot l_{bpt2}  = 1.25 \\cdot 123.807 &= 154.759  \n",
       "\\\\[10pt]\n",
       "l_{p} &= \\left( \\left( h \\right) ^{ 2 } + \\left( 0.6 \\cdot l_{bpt} \\right) ^{ 2 } \\right) ^{ 0.5 }  = \\left( \\left( 120 \\right) ^{ 2 } + \\left( 0.6 \\cdot 154.759 \\right) ^{ 2 } \\right) ^{ 0.5 } &= 151.731  \n",
       "\\end{aligned}\n",
       "\\]"
      ],
      "text/plain": [
       "<IPython.core.display.Latex object>"
      ]
     },
     "metadata": {},
     "output_type": "display_data"
    }
   ],
   "source": [
    "%%render short\n",
    "\n",
    "## para fios lisos ou dentados:\n",
    "l_bpt1 = 0.7 * l_bp * sigma_p0/f_pyd\n",
    "\n",
    "## para cordoalhas de 3 e 7 fios:\n",
    "l_bpt2 = 0.5 * l_bp * sigma_p0/f_pyd\n",
    "\n",
    "## para transferência não gradual, os valores devem ser multiplicados por 1.25\n",
    "## valor adotado:\n",
    "\n",
    "l_bpt = 1.25 * l_bpt2\n",
    "\n",
    "l_p = (h**2 + (0.6*l_bpt)**2)**(0.5)\n"
   ]
  },
  {
   "cell_type": "markdown",
   "id": "9db35554",
   "metadata": {},
   "source": [
    "#  Esforços nas Seções:\n",
    "\n",
    "## Momento Fletor e Cortante:"
   ]
  },
  {
   "cell_type": "code",
   "execution_count": 12,
   "id": "e615317a",
   "metadata": {},
   "outputs": [
    {
     "data": {
      "text/html": [
       "<div>\n",
       "<style scoped>\n",
       "    .dataframe tbody tr th:only-of-type {\n",
       "        vertical-align: middle;\n",
       "    }\n",
       "\n",
       "    .dataframe tbody tr th {\n",
       "        vertical-align: top;\n",
       "    }\n",
       "\n",
       "    .dataframe thead th {\n",
       "        text-align: right;\n",
       "    }\n",
       "</style>\n",
       "<table border=\"1\" class=\"dataframe\">\n",
       "  <thead>\n",
       "    <tr style=\"text-align: right;\">\n",
       "      <th></th>\n",
       "      <th>Pos (cm)</th>\n",
       "      <th>M (kNcm)</th>\n",
       "      <th>V (kN)</th>\n",
       "    </tr>\n",
       "  </thead>\n",
       "  <tbody>\n",
       "    <tr>\n",
       "      <th>0</th>\n",
       "      <td>0.0</td>\n",
       "      <td>0.0</td>\n",
       "      <td>186.5</td>\n",
       "    </tr>\n",
       "    <tr>\n",
       "      <th>1</th>\n",
       "      <td>239.1</td>\n",
       "      <td>40132.5</td>\n",
       "      <td>149.2</td>\n",
       "    </tr>\n",
       "    <tr>\n",
       "      <th>2</th>\n",
       "      <td>478.2</td>\n",
       "      <td>71346.7</td>\n",
       "      <td>111.9</td>\n",
       "    </tr>\n",
       "    <tr>\n",
       "      <th>3</th>\n",
       "      <td>717.3</td>\n",
       "      <td>93642.5</td>\n",
       "      <td>74.6</td>\n",
       "    </tr>\n",
       "    <tr>\n",
       "      <th>4</th>\n",
       "      <td>956.4</td>\n",
       "      <td>107020.0</td>\n",
       "      <td>37.3</td>\n",
       "    </tr>\n",
       "    <tr>\n",
       "      <th>5</th>\n",
       "      <td>1195.5</td>\n",
       "      <td>111479.2</td>\n",
       "      <td>0.0</td>\n",
       "    </tr>\n",
       "    <tr>\n",
       "      <th>6</th>\n",
       "      <td>1434.6</td>\n",
       "      <td>107020.0</td>\n",
       "      <td>-37.3</td>\n",
       "    </tr>\n",
       "    <tr>\n",
       "      <th>7</th>\n",
       "      <td>1673.7</td>\n",
       "      <td>93642.5</td>\n",
       "      <td>-74.6</td>\n",
       "    </tr>\n",
       "    <tr>\n",
       "      <th>8</th>\n",
       "      <td>1912.8</td>\n",
       "      <td>71346.7</td>\n",
       "      <td>-111.9</td>\n",
       "    </tr>\n",
       "    <tr>\n",
       "      <th>9</th>\n",
       "      <td>2151.9</td>\n",
       "      <td>40132.5</td>\n",
       "      <td>-149.2</td>\n",
       "    </tr>\n",
       "    <tr>\n",
       "      <th>10</th>\n",
       "      <td>2391.0</td>\n",
       "      <td>0.0</td>\n",
       "      <td>-186.5</td>\n",
       "    </tr>\n",
       "  </tbody>\n",
       "</table>\n",
       "</div>"
      ],
      "text/plain": [
       "    Pos (cm)  M (kNcm)  V (kN)\n",
       "0        0.0       0.0   186.5\n",
       "1      239.1   40132.5   149.2\n",
       "2      478.2   71346.7   111.9\n",
       "3      717.3   93642.5    74.6\n",
       "4      956.4  107020.0    37.3\n",
       "5     1195.5  111479.2     0.0\n",
       "6     1434.6  107020.0   -37.3\n",
       "7     1673.7   93642.5   -74.6\n",
       "8     1912.8   71346.7  -111.9\n",
       "9     2151.9   40132.5  -149.2\n",
       "10    2391.0       0.0  -186.5"
      ]
     },
     "metadata": {},
     "output_type": "display_data"
    }
   ],
   "source": [
    "esforcos = []\n",
    "for i in range(3):\n",
    "    esforcos.append( [0]*(nS) )\n",
    "    \n",
    "# primeiro vetor contem X (cm)\n",
    "# segundo vetor contem Momentos (kNcm)\n",
    "# terceiro vetor contém cortante (kN)\n",
    "\n",
    "for i in range(nS):\n",
    "    esforcos[0][i] = round(i*(Vao/(nS-1)),1)\n",
    "    esforcos[1][i] = round( 0.5*Q_tF*esforcos[0][i]*(Vao-esforcos[0][i]) ,1)\n",
    "    esforcos[2][i] = round( 0.5*Q_tF*(Vao-2*esforcos[0][i]), 1 )\n",
    "    \n",
    "tabela = pd.DataFrame(esforcos)\n",
    "tabela = tabela.transpose()\n",
    "tabela.rename(columns={0:'Pos (cm)',1:'M (kNcm)',2:'V (kN)'},inplace = True)\n",
    "display(tabela)"
   ]
  },
  {
   "cell_type": "markdown",
   "id": "72990506",
   "metadata": {},
   "source": [
    "# Escalonamento da Protensão:\n",
    "\n",
    "## Limites de Tensão na Seção S1:\n",
    "\n",
    "São testados os limites de tensão para t0:\n",
    "\n",
    "Limitação pela borda superior:"
   ]
  },
  {
   "cell_type": "code",
   "execution_count": 13,
   "id": "12477f6f",
   "metadata": {},
   "outputs": [
    {
     "data": {
      "text/latex": [
       "\\[\n",
       "\\begin{aligned}\n",
       "M_{s1} &= 23153.4 \\; \n",
       "\\\\[10pt]\n",
       "P_{1} &= \\frac{ \\sigma_{cc0} + \\frac{ M_{s1} }{ W_{i} } }{ r_{0} \\cdot \\left( \\frac{ 1 }{ \\mathrm{Area} } + \\frac{ e_{p} }{ W_{i} } \\right) }  = \\frac{ 2.24 + \\frac{ 23153.4 }{ 72000.0 } }{ 0.95 \\cdot \\left( \\frac{ 1 }{ 3600 } + \\frac{ 55 }{ 72000.0 } \\right) } &= 2588.539  \n",
       "\\\\[10pt]\n",
       "P_{2} &= \\frac{ \\sigma_{ct0} - \\frac{ M_{s1} }{ W_{s} } }{ r_{0} \\cdot \\left( \\frac{ 1 }{ \\mathrm{Area} } - \\frac{ e_{p} }{ W_{s} } \\right) }  = \\frac{ -3.629 \\times 10 ^ {-1 } - \\frac{ 23153.4 }{ 72000.0 } }{ 0.95 \\cdot \\left( \\frac{ 1 }{ 3600 } - \\frac{ 55 }{ 72000.0 } \\right) } &= 1482.079  \n",
       "\\end{aligned}\n",
       "\\]"
      ],
      "text/plain": [
       "<IPython.core.display.Latex object>"
      ]
     },
     "metadata": {},
     "output_type": "display_data"
    }
   ],
   "source": [
    "%%render short\n",
    "\n",
    "M_s1 = round( 0.5*Q_t0*esforcos[0][1]*(Vao-esforcos[0][1]) ,1)\n",
    "P_1 = (sigma_cc0+M_s1/W_i)/(r_0*(1/Area + e_p/W_i))\n",
    "P_2 = (sigma_ct0-M_s1/W_s)/(r_0*(1/Area - e_p/W_s))\n"
   ]
  },
  {
   "cell_type": "code",
   "execution_count": 14,
   "id": "f0d85e33",
   "metadata": {},
   "outputs": [
    {
     "data": {
      "text/latex": [
       "\\[\n",
       "\\begin{aligned}\n",
       "P_{s1} &= \\operatorname{min} { \\left( P_{1} ,\\  P_{2} \\right) }  = \\operatorname{min} { \\left( 2588.5 ,\\  1482.1 \\right) } &= 1482.1  \n",
       "\\\\[10pt]\n",
       "n_{s1} &= \\left \\lfloor \\frac{ P_{s1} }{ A_{p1} \\cdot \\sigma_{p0} } \\right \\rfloor  = \\left \\lfloor \\frac{ 1482.1 }{ 1.4 \\cdot 152.0 } \\right \\rfloor &= 6  \n",
       "\\end{aligned}\n",
       "\\]"
      ],
      "text/plain": [
       "<IPython.core.display.Latex object>"
      ]
     },
     "metadata": {},
     "output_type": "display_data"
    }
   ],
   "source": [
    "%%render 1\n",
    "\n",
    "P_s1 = min(P_1 , P_2)\n",
    "\n",
    "n_s1 = floor(P_s1/(A_p1*sigma_p0))\n"
   ]
  },
  {
   "cell_type": "markdown",
   "id": "fc122191",
   "metadata": {},
   "source": [
    "## Escolha do Número de Cordoalhas:"
   ]
  },
  {
   "cell_type": "code",
   "execution_count": 15,
   "id": "e9c685e3",
   "metadata": {
    "scrolled": false
   },
   "outputs": [
    {
     "data": {
      "text/latex": [
       "\\[\n",
       "\\begin{aligned}\n",
       "\\mathrm{qntCordoalhas} &= [5,\\ 10,\\ 12] \\; \n",
       "\\\\[10pt]\n",
       "e_{p_{i}} &= [55,\\ 52.5,\\ 51] \\; \n",
       "\\end{aligned}\n",
       "\\]"
      ],
      "text/plain": [
       "<IPython.core.display.Latex object>"
      ]
     },
     "metadata": {},
     "output_type": "display_data"
    }
   ],
   "source": [
    "%%render\n",
    "\n",
    "# Vetor com o número de cordoalhas em cada ponto de escalonamento:\n",
    "\n",
    "qntCordoalhas = (5,10,12 )\n",
    "\n",
    "# Vetor com a excentricidade da protensão em cada ponto de escalonamento:\n",
    "\n",
    "e_p_i = [55,52.5, 51]"
   ]
  },
  {
   "cell_type": "markdown",
   "id": "7b042987",
   "metadata": {},
   "source": [
    "# Esforços Devidos À Protensão:"
   ]
  },
  {
   "cell_type": "code",
   "execution_count": 16,
   "id": "960e77a5",
   "metadata": {},
   "outputs": [
    {
     "data": {
      "text/html": [
       "<div>\n",
       "<style scoped>\n",
       "    .dataframe tbody tr th:only-of-type {\n",
       "        vertical-align: middle;\n",
       "    }\n",
       "\n",
       "    .dataframe tbody tr th {\n",
       "        vertical-align: top;\n",
       "    }\n",
       "\n",
       "    .dataframe thead th {\n",
       "        text-align: right;\n",
       "    }\n",
       "</style>\n",
       "<table border=\"1\" class=\"dataframe\">\n",
       "  <thead>\n",
       "    <tr style=\"text-align: right;\">\n",
       "      <th></th>\n",
       "      <th>Ap</th>\n",
       "      <th>Wcp</th>\n",
       "      <th>Kp0</th>\n",
       "      <th>Sigma,p</th>\n",
       "      <th>Np</th>\n",
       "      <th>Mp</th>\n",
       "    </tr>\n",
       "  </thead>\n",
       "  <tbody>\n",
       "    <tr>\n",
       "      <th>0</th>\n",
       "      <td>7.0</td>\n",
       "      <td>78545.0</td>\n",
       "      <td>0.0491</td>\n",
       "      <td>144.89</td>\n",
       "      <td>-1014.2</td>\n",
       "      <td>-55781.0</td>\n",
       "    </tr>\n",
       "    <tr>\n",
       "      <th>1</th>\n",
       "      <td>14.0</td>\n",
       "      <td>82286.0</td>\n",
       "      <td>0.0920</td>\n",
       "      <td>139.19</td>\n",
       "      <td>-1948.7</td>\n",
       "      <td>-102306.8</td>\n",
       "    </tr>\n",
       "    <tr>\n",
       "      <th>2</th>\n",
       "      <td>16.8</td>\n",
       "      <td>84706.0</td>\n",
       "      <td>0.1060</td>\n",
       "      <td>137.43</td>\n",
       "      <td>-2308.8</td>\n",
       "      <td>-117748.8</td>\n",
       "    </tr>\n",
       "  </tbody>\n",
       "</table>\n",
       "</div>"
      ],
      "text/plain": [
       "     Ap      Wcp     Kp0  Sigma,p      Np        Mp\n",
       "0   7.0  78545.0  0.0491   144.89 -1014.2  -55781.0\n",
       "1  14.0  82286.0  0.0920   139.19 -1948.7 -102306.8\n",
       "2  16.8  84706.0  0.1060   137.43 -2308.8 -117748.8"
      ]
     },
     "metadata": {},
     "output_type": "display_data"
    }
   ],
   "source": [
    "A_p = []\n",
    "\n",
    "for i in range(len(qntCordoalhas)):\n",
    "    A_p.append(qntCordoalhas[i] * A_p1)\n",
    "\n",
    "W_cp = []\n",
    "\n",
    "for i in range(len(qntCordoalhas)):\n",
    "    W_cp.append(round(Inercia/e_p_i[i],0))\n",
    "    \n",
    "alpha_p0 = E_p / E_cst0\n",
    "\n",
    "K_p0 = []\n",
    "for i in range(len(qntCordoalhas)):\n",
    "    K_p0.append(round(alpha_p0*A_p[i]*(1/Area+e_p_i[i]/W_cp[i]),4))\n",
    "    \n",
    "sigma_p = []\n",
    "for i in range(len(qntCordoalhas)):\n",
    "    sigma_p.append(round(sigma_p0/(1+K_p0[i]),2))\n",
    "    \n",
    "N_p = []\n",
    "for i in range(len(qntCordoalhas)):\n",
    "    N_p.append(round(-sigma_p[i]*A_p[i],1))\n",
    "    \n",
    "M_p = []\n",
    "for i in range(len(qntCordoalhas)):\n",
    "    M_p.append(round(N_p[i]*e_p_i[i],1))\n",
    "    \n",
    "tabela1 = pd.DataFrame([A_p, W_cp, K_p0, sigma_p, N_p, M_p])\n",
    "tabela1 = tabela1.transpose()\n",
    "tabela1.rename(columns={0:'Ap',1:'Wcp',2:'Kp0',3:'Sigma,p',4:'Np',5:'Mp'},inplace = True)\n",
    "display(tabela1)"
   ]
  },
  {
   "cell_type": "markdown",
   "id": "3b3910c3",
   "metadata": {},
   "source": [
    "# Escalonamento da Força de Protensão:"
   ]
  },
  {
   "cell_type": "code",
   "execution_count": 17,
   "id": "e6f6ff1c",
   "metadata": {},
   "outputs": [
    {
     "data": {
      "text/html": [
       "<div>\n",
       "<style scoped>\n",
       "    .dataframe tbody tr th:only-of-type {\n",
       "        vertical-align: middle;\n",
       "    }\n",
       "\n",
       "    .dataframe tbody tr th {\n",
       "        vertical-align: top;\n",
       "    }\n",
       "\n",
       "    .dataframe thead th {\n",
       "        text-align: right;\n",
       "    }\n",
       "</style>\n",
       "<table border=\"1\" class=\"dataframe\">\n",
       "  <thead>\n",
       "    <tr style=\"text-align: right;\">\n",
       "      <th></th>\n",
       "      <th>Mg</th>\n",
       "      <th>x1</th>\n",
       "      <th>x2</th>\n",
       "      <th>x1-lbpt</th>\n",
       "      <th>x2+lbpt</th>\n",
       "    </tr>\n",
       "  </thead>\n",
       "  <tbody>\n",
       "    <tr>\n",
       "      <th>0</th>\n",
       "      <td>9371.28</td>\n",
       "      <td>90.53</td>\n",
       "      <td>2300.47</td>\n",
       "      <td>0.00</td>\n",
       "      <td>2391.00</td>\n",
       "    </tr>\n",
       "    <tr>\n",
       "      <th>1</th>\n",
       "      <td>37207.08</td>\n",
       "      <td>419.36</td>\n",
       "      <td>1971.64</td>\n",
       "      <td>264.60</td>\n",
       "      <td>2126.40</td>\n",
       "    </tr>\n",
       "    <tr>\n",
       "      <th>2</th>\n",
       "      <td>45447.08</td>\n",
       "      <td>547.98</td>\n",
       "      <td>1843.02</td>\n",
       "      <td>393.22</td>\n",
       "      <td>1997.78</td>\n",
       "    </tr>\n",
       "  </tbody>\n",
       "</table>\n",
       "</div>"
      ],
      "text/plain": [
       "         Mg      x1       x2  x1-lbpt  x2+lbpt\n",
       "0   9371.28   90.53  2300.47     0.00  2391.00\n",
       "1  37207.08  419.36  1971.64   264.60  2126.40\n",
       "2  45447.08  547.98  1843.02   393.22  1997.78"
      ]
     },
     "metadata": {},
     "output_type": "display_data"
    }
   ],
   "source": [
    "M_g = []\n",
    "x1 = []\n",
    "x2 = []\n",
    "x1_anc = []\n",
    "x2_anc = []\n",
    "\n",
    "for i in range(len(qntCordoalhas)):\n",
    "    M_g.append(round( W_s*( (N_p[i]/Area) -(M_p[i]/W_s) + sigma_ct0),2) )\n",
    "        \n",
    "for i in range(len(qntCordoalhas)):\n",
    "    #Bhaskara:\n",
    "    x1.append(round( (Vao - ( Vao**2 - 8*M_g[i]/Q_t0 )**0.5)/2  ,2))\n",
    "    x2.append(round( (Vao + ( Vao**2 - 8*M_g[i]/Q_t0 )**0.5)/2  ,2))\n",
    "    \n",
    "for i in range(len(qntCordoalhas)):\n",
    "    x1_anc.append(x1[i]-round(l_bpt,2))\n",
    "    x2_anc.append(x2[i]+round(l_bpt,2))\n",
    "    if x1_anc[i] < 0:\n",
    "        x1_anc[i] = 0\n",
    "    if x2_anc[i] > Vao:\n",
    "        x2_anc[i] = Vao\n",
    "    \n",
    "\n",
    "tabela2 = pd.DataFrame([M_g, x1,x2, x1_anc,x2_anc])\n",
    "tabela2 = tabela2.transpose()\n",
    "tabela2.rename(columns={0:'Mg',1:'x1',2:'x2',3:'x1-lbpt',4:'x2+lbpt'},inplace = True)\n",
    "display(tabela2)"
   ]
  },
  {
   "cell_type": "markdown",
   "id": "7e1e952a",
   "metadata": {},
   "source": [
    "# Perdas Progressivas da Força de Protensão:\n",
    "\n",
    "## Fluência do Concreto:\n",
    "\n",
    "### Fluência Rápida Irreversível"
   ]
  },
  {
   "cell_type": "code",
   "execution_count": 18,
   "id": "c3dbfb93",
   "metadata": {},
   "outputs": [
    {
     "data": {
      "text/latex": [
       "\\[\n",
       "\\begin{aligned}\n",
       "s &= 0.2 \\; \n",
       "\\\\[10pt]\n",
       "t_{0} &= 10 \\; \n",
       "\\\\[10pt]\n",
       "t_{F} &= 10000 \\; \n",
       "\\\\[10pt]\n",
       "\\beta_{0} &= \\exp \\left( s \\cdot \\left( 1 - \\left( \\frac{ 28 }{ t_{0} } \\right) ^{ 0.5 } \\right) \\right)  = \\exp \\left( 0.2 \\cdot \\left( 1 - \\left( \\frac{ 28 }{ 10 } \\right) ^{ 0.5 } \\right) \\right) &= 0.874  \n",
       "\\\\[10pt]\n",
       "\\beta_{F} &= \\exp \\left( s \\cdot \\left( 1 - \\left( \\frac{ 28 }{ t_{F} } \\right) ^{ 0.5 } \\right) \\right)  = \\exp \\left( 0.2 \\cdot \\left( 1 - \\left( \\frac{ 28 }{ 10000 } \\right) ^{ 0.5 } \\right) \\right) &= 1.209  \n",
       "\\\\[10pt]\n",
       "\\phi_{a} &= 0.8 \\cdot \\left( 1 - \\left( \\frac{ \\beta_{0} }{ \\beta_{F} } \\right) \\right)  = 0.8 \\cdot \\left( 1 - \\left( \\frac{ 0.874 }{ 1.209 } \\right) \\right) &= 2.214 \\times 10 ^ {-1 }  \n",
       "\\end{aligned}\n",
       "\\]"
      ],
      "text/plain": [
       "<IPython.core.display.Latex object>"
      ]
     },
     "metadata": {},
     "output_type": "display_data"
    }
   ],
   "source": [
    "%%render\n",
    "\n",
    "# VER ITEM 12.3.3 da NBR6118:2014\n",
    "# Valores para adotar:\n",
    "# s = 0.38 para concreto de cimento CP-III e CP-IV\n",
    "# s = 0.25 para concreto de cimento CP-I e CP-II\n",
    "# s = 0.20 para concreto de cimento CP-V\n",
    "s = 0.20\n",
    "t_0 = 10\n",
    "t_F = 10000\n",
    "\n",
    "\n",
    "beta_0 = exp(s*(1-(28/t_0)**0.5))\n",
    "beta_F = exp(s*(1-(28/t_F)**0.5))\n",
    "\n",
    "phi_a = 0.8*(1 - (beta_0/beta_F))"
   ]
  },
  {
   "cell_type": "markdown",
   "id": "ec305c4e",
   "metadata": {},
   "source": [
    "### Fluência Lenta Irreversível:"
   ]
  },
  {
   "cell_type": "code",
   "execution_count": 28,
   "id": "bb095c40",
   "metadata": {},
   "outputs": [
    {
     "data": {
      "text/latex": [
       "\\[\n",
       "\\begin{aligned}\n",
       "U &= 55 \\; \\;\\textrm{(umidade média do ar)}\n",
       "\\\\[10pt]\n",
       "\\phi_{c1} &= 4.45 - 0.035 \\cdot U  = 4.45 - 0.035 \\cdot 55 &= 2.52 \\; \\;\\textrm{(para abatimentos entre 5cm e 9cm)}\n",
       "\\\\[10pt]\n",
       "\\gamma &= 1 + \\exp \\left( \\left( - 7.8 \\right) + 0.1 \\cdot U \\right)  = 1 + \\exp \\left( \\left( - 7.8 \\right) + 0.1 \\cdot 55 \\right) &= 1.1  \n",
       "\\\\[10pt]\n",
       "u_{ar} &= 300 \\; \n",
       "\\\\[10pt]\n",
       "h_{fic} &= \\gamma \\cdot \\frac{ 2 \\cdot \\mathrm{Area} }{ u_{ar} }  = 1.1 \\cdot \\frac{ 2 \\cdot 3600 }{ 300 } &= 26.41  \n",
       "\\\\[10pt]\n",
       "\\phi_{c2} &= \\frac{ 42 + h_{fic} }{ 20 + h_{fic} }  = \\frac{ 42 + 26.41 }{ 20 + 26.41 } &= 1.47  \n",
       "\\\\[10pt]\n",
       "\\phi_{fF} &= \\phi_{c1} \\cdot \\phi_{c2}  = 2.52 \\cdot 1.47 &= 3.72  \n",
       "\\\\[10pt]\n",
       "h_{fm} &= \\frac{ h_{fic} }{ 100 }  = \\frac{ 26.41 }{ 100 } &= 2.64 \\times 10 ^ {-1 } \\; \\;\\textrm{(espessura fictícia em metros)}\n",
       "\\\\[10pt]\n",
       "A_{\\beta_{f}} &= 42 \\cdot \\left( h_{fm} \\right) ^{ 3 } - 350 \\cdot \\left( h_{fm} \\right) ^{ 2 } + 588 \\cdot h_{fm} + 113 \\\\&= 42 \\cdot \\left( 2.64 \\times 10 ^ {-1 } \\right) ^{ 3 } - 350 \\cdot \\left( 2.64 \\times 10 ^ {-1 } \\right) ^{ 2 } + 588 \\cdot 2.64 \\times 10 ^ {-1 } + 113 \\\\&= 244.64  \\\\\n",
       "\\\\[10pt]\n",
       "B_{\\beta_{f}} &= 768 \\cdot \\left( h_{fm} \\right) ^{ 3 } - 3060 \\cdot \\left( h_{fm} \\right) ^{ 2 } + 3234 \\cdot h_{fm} - 23 \\\\&= 768 \\cdot \\left( 2.64 \\times 10 ^ {-1 } \\right) ^{ 3 } - 3060 \\cdot \\left( 2.64 \\times 10 ^ {-1 } \\right) ^{ 2 } + 3234 \\cdot 2.64 \\times 10 ^ {-1 } - 23 \\\\&= 631.75  \\\\\n",
       "\\\\[10pt]\n",
       "C_{\\beta_{f}} &= \\left( - 200 \\right) \\cdot \\left( h_{fm} \\right) ^{ 3 } + 13 \\cdot \\left( h_{fm} \\right) ^{ 2 } + 1090 \\cdot h_{fm} + 183 \\\\&= \\left( - 200 \\right) \\cdot \\left( 2.64 \\times 10 ^ {-1 } \\right) ^{ 3 } + 13 \\cdot \\left( 2.64 \\times 10 ^ {-1 } \\right) ^{ 2 } + 1090 \\cdot 2.64 \\times 10 ^ {-1 } + 183 \\\\&= 468.05  \\\\\n",
       "\\\\[10pt]\n",
       "D_{\\beta_{f}} &= 7579 \\cdot \\left( h_{fm} \\right) ^{ 3 } - 31916 \\cdot \\left( h_{fm} \\right) ^{ 2 } + 35343 \\cdot h_{fm} + 1931 \\\\&= 7579 \\cdot \\left( 2.64 \\times 10 ^ {-1 } \\right) ^{ 3 } - 31916 \\cdot \\left( 2.64 \\times 10 ^ {-1 } \\right) ^{ 2 } + 35343 \\cdot 2.64 \\times 10 ^ {-1 } + 1931 \\\\&= 9177.83  \\\\\n",
       "\\\\[10pt]\n",
       "\\beta_{f_{t0}} &= \\frac{ \\left( t_{0} \\right) ^{ 2 } + A_{\\beta_{f}} \\cdot t_{0} + B_{\\beta_{f}} }{ \\left( t_{0} \\right) ^{ 2 } + C_{\\beta_{f}} \\cdot t_{0} + D_{\\beta_{f}} } \\\\&= \\frac{ \\left( 10 \\right) ^{ 2 } + 244.64 \\cdot 10 + 631.75 }{ \\left( 10 \\right) ^{ 2 } + 468.05 \\cdot 10 + 9177.83 } \\\\&= 2.28 \\times 10 ^ {-1 }  \\\\\n",
       "\\\\[10pt]\n",
       "\\beta_{f_{tF}} &= \\frac{ \\left( t_{F} \\right) ^{ 2 } + A_{\\beta_{f}} \\cdot t_{F} + B_{\\beta_{f}} }{ \\left( t_{F} \\right) ^{ 2 } + C_{\\beta_{f}} \\cdot t_{F} + D_{\\beta_{f}} } \\\\&= \\frac{ \\left( 10000 \\right) ^{ 2 } + 244.64 \\cdot 10000 + 631.75 }{ \\left( 10000 \\right) ^{ 2 } + 468.05 \\cdot 10000 + 9177.83 } \\\\&= 9.79 \\times 10 ^ {-1 }  \\\\\n",
       "\\end{aligned}\n",
       "\\]"
      ],
      "text/plain": [
       "<IPython.core.display.Latex object>"
      ]
     },
     "metadata": {},
     "output_type": "display_data"
    }
   ],
   "source": [
    "%%render 2\n",
    "\n",
    "U = 55 #umidade média do ar\n",
    "\n",
    "phi_c1 = 4.45 - 0.035*U # para abatimentos entre 5cm e 9cm\n",
    "\n",
    "gamma = 1 + exp(-7.8 + 0.1 * U)\n",
    "\n",
    "u_ar = ( 2*h + 2*b )\n",
    "\n",
    "h_fic = gamma*(2*Area)/u_ar\n",
    "\n",
    "phi_c2 = (42+h_fic)/(20+h_fic)\n",
    "\n",
    "phi_fF = phi_c1*phi_c2\n",
    "\n",
    "h_fm = h_fic/100 # espessura fictícia em metros\n",
    "\n",
    "A_beta_f = 42*h_fm**3 - 350*h_fm**2 + 588*h_fm + 113\n",
    "B_beta_f = 768*h_fm**3 - 3060*h_fm**2 + 3234*h_fm - 23\n",
    "C_beta_f = -200*h_fm**3 + 13*h_fm**2 + 1090*h_fm + 183\n",
    "D_beta_f = 7579*h_fm**3 - 31916*h_fm**2 + 35343*h_fm + 1931\n",
    "\n",
    "beta_f_t0 = (t_0**2 + A_beta_f*t_0 + B_beta_f )/(t_0**2 + C_beta_f*t_0 + D_beta_f)\n",
    "beta_f_tF = (t_F**2 + A_beta_f*t_F + B_beta_f )/(t_F**2 + C_beta_f*t_F + D_beta_f) "
   ]
  },
  {
   "cell_type": "markdown",
   "id": "bd808c0d",
   "metadata": {},
   "source": [
    "### Fluência Lenta Reversível:"
   ]
  },
  {
   "cell_type": "code",
   "execution_count": 20,
   "id": "9a489151",
   "metadata": {},
   "outputs": [
    {
     "data": {
      "text/latex": [
       "\\[\n",
       "\\begin{aligned}\n",
       "\\phi_{dF} &= 0.4 \\; \n",
       "\\\\[10pt]\n",
       "\\beta_{d} &= \\frac{ t_{F} - t_{0} + 20 }{ t_{F} - t_{0} + 70 }  = \\frac{ 10000 - 10 + 20 }{ 10000 - 10 + 70 } &= 0.995  \n",
       "\\end{aligned}\n",
       "\\]"
      ],
      "text/plain": [
       "<IPython.core.display.Latex object>"
      ]
     },
     "metadata": {},
     "output_type": "display_data"
    }
   ],
   "source": [
    "%%render short\n",
    "\n",
    "phi_dF = 0.4\n",
    "\n",
    "beta_d = (t_F-t_0+20)/(t_F-t_0+70)"
   ]
  },
  {
   "cell_type": "markdown",
   "id": "96bd76c7",
   "metadata": {},
   "source": [
    "### Fluência Total:"
   ]
  },
  {
   "cell_type": "code",
   "execution_count": 29,
   "id": "a5a83321",
   "metadata": {},
   "outputs": [
    {
     "data": {
      "text/latex": [
       "\\[\n",
       "\\begin{aligned}\n",
       "\\phi_{t} &= \\phi_{a} + \\phi_{fF} \\cdot \\left( \\beta_{f_{tF}} - \\beta_{f_{t0}} \\right) + \\phi_{dF} \\cdot \\beta_{d} \\\\&= 2.21 \\times 10 ^ {-1 } + 3.72 \\cdot \\left( 9.79 \\times 10 ^ {-1 } - 2.28 \\times 10 ^ {-1 } \\right) + 0.4 \\cdot 1.0 \\\\&= 3.41  \\\\\n",
       "\\end{aligned}\n",
       "\\]"
      ],
      "text/plain": [
       "<IPython.core.display.Latex object>"
      ]
     },
     "metadata": {},
     "output_type": "display_data"
    }
   ],
   "source": [
    "%%render 2\n",
    "phi_t = phi_a + phi_fF*(beta_f_tF - beta_f_t0) + phi_dF * beta_d"
   ]
  },
  {
   "cell_type": "markdown",
   "id": "865b57fe",
   "metadata": {},
   "source": [
    "### Retração do Concreto:"
   ]
  },
  {
   "cell_type": "code",
   "execution_count": 27,
   "id": "1bac914d",
   "metadata": {},
   "outputs": [
    {
     "data": {
      "text/latex": [
       "\\[\n",
       "\\begin{aligned}\n",
       "\\epsilon_{1s} &= \\left( \\left( - 8.09 \\right) + \\frac{ U }{ 15 } - \\frac{ \\left( U \\right) ^{ 2 } }{ 2284 } + \\frac{ \\left( U \\right) ^{ 3 } }{ 133765 } - \\frac{ \\left( U \\right) ^{ 4 } }{ 7608150 } \\right) \\cdot \\left( 10 \\right) ^{ -4 } \\\\&= \\left( \\left( - 8.09 \\right) + \\frac{ 55 }{ 15 } - \\frac{ \\left( 55 \\right) ^{ 2 } }{ 2284 } + \\frac{ \\left( 55 \\right) ^{ 3 } }{ 133765 } - \\frac{ \\left( 55 \\right) ^{ 4 } }{ 7608150 } \\right) \\cdot \\left( 10 \\right) ^{ -4 } \\\\&= -5.71 \\times 10 ^ {-4 }  \\\\\n",
       "\\\\[10pt]\n",
       "\\epsilon_{2s} &= \\frac{ 33 + 2 \\cdot h_{fic} }{ 20.8 + 3 \\cdot h_{fic} }  = \\frac{ 33 + 2 \\cdot 26.41 }{ 20.8 + 3 \\cdot 26.41 } &= 8.58 \\times 10 ^ {-1 }  \n",
       "\\\\[10pt]\n",
       "A_{\\beta_{s}} &= 40 \\; \n",
       "\\\\[10pt]\n",
       "B_{\\beta_{s}} &= 116 \\cdot \\left( h_{fm} \\right) ^{ 3 } - 282 \\cdot \\left( h_{fm} \\right) ^{ 2 } + 220 \\cdot h_{fm} - 4.8 \\\\&= 116 \\cdot \\left( 2.64 \\times 10 ^ {-1 } \\right) ^{ 3 } - 282 \\cdot \\left( 2.64 \\times 10 ^ {-1 } \\right) ^{ 2 } + 220 \\cdot 2.64 \\times 10 ^ {-1 } - 4.8 \\\\&= 35.77  \\\\\n",
       "\\\\[10pt]\n",
       "C_{\\beta_{s}} &= 2.5 \\cdot \\left( h_{fm} \\right) ^{ 3 } - 8.8 \\cdot h_{fm} + 40.7 \\\\&= 2.5 \\cdot \\left( 2.64 \\times 10 ^ {-1 } \\right) ^{ 3 } - 8.8 \\cdot 2.64 \\times 10 ^ {-1 } + 40.7 \\\\&= 38.42  \\\\\n",
       "\\\\[10pt]\n",
       "D_{\\beta_{s}} &= \\left( - 75 \\right) \\cdot \\left( h_{fm} \\right) ^{ 3 } + 585 \\cdot \\left( h_{fm} \\right) ^{ 2 } + 496 \\cdot h_{fm} - 6.8 \\\\&= \\left( - 75 \\right) \\cdot \\left( 2.64 \\times 10 ^ {-1 } \\right) ^{ 3 } + 585 \\cdot \\left( 2.64 \\times 10 ^ {-1 } \\right) ^{ 2 } + 496 \\cdot 2.64 \\times 10 ^ {-1 } - 6.8 \\\\&= 163.59  \\\\\n",
       "\\\\[10pt]\n",
       "E_{\\beta_{s}} &= \\left( - 169 \\right) \\cdot \\left( h_{fm} \\right) ^{ 4 } + 88 \\cdot \\left( h_{fm} \\right) ^{ 3 } + 584 \\cdot \\left( h_{fm} \\right) ^{ 2 } - 39 \\cdot h_{fm} + 0.8 \\\\&= \\left( - 169 \\right) \\cdot \\left( 2.64 \\times 10 ^ {-1 } \\right) ^{ 4 } + 88 \\cdot \\left( 2.64 \\times 10 ^ {-1 } \\right) ^{ 3 } + 584 \\cdot \\left( 2.64 \\times 10 ^ {-1 } \\right) ^{ 2 } - 39 \\cdot 2.64 \\times 10 ^ {-1 } + 0.8 \\\\&= 32.02  \\\\\n",
       "\\\\[10pt]\n",
       "\\beta_{s_{t0}} &= \\frac{ \\left( \\frac{ t_{0} }{ 100 } \\right) ^{ 3 } + A_{\\beta_{s}} \\cdot \\left( \\frac{ t_{0} }{ 100 } \\right) ^{ 2 } + B_{\\beta_{s}} \\cdot \\left( \\frac{ t_{0} }{ 100 } \\right) }{ \\left( \\frac{ t_{0} }{ 100 } \\right) ^{ 3 } + C_{\\beta_{s}} \\cdot \\left( \\frac{ t_{0} }{ 100 } \\right) ^{ 2 } + D_{\\beta_{s}} \\cdot \\left( \\frac{ t_{0} }{ 100 } \\right) + E_{\\beta_{s}} } \\\\&= \\frac{ \\left( \\frac{ 10 }{ 100 } \\right) ^{ 3 } + 40 \\cdot \\left( \\frac{ 10 }{ 100 } \\right) ^{ 2 } + 35.77 \\cdot \\left( \\frac{ 10 }{ 100 } \\right) }{ \\left( \\frac{ 10 }{ 100 } \\right) ^{ 3 } + 38.42 \\cdot \\left( \\frac{ 10 }{ 100 } \\right) ^{ 2 } + 163.59 \\cdot \\left( \\frac{ 10 }{ 100 } \\right) + 32.02 } \\\\&= 8.16 \\times 10 ^ {-2 }  \\\\\n",
       "\\\\[10pt]\n",
       "\\beta_{s_{tF}} &= \\frac{ \\left( \\frac{ t_{F} }{ 100 } \\right) ^{ 3 } + A_{\\beta_{s}} \\cdot \\left( \\frac{ t_{F} }{ 100 } \\right) ^{ 2 } + B_{\\beta_{s}} \\cdot \\left( \\frac{ t_{F} }{ 100 } \\right) }{ \\left( \\frac{ t_{F} }{ 100 } \\right) ^{ 3 } + C_{\\beta_{s}} \\cdot \\left( \\frac{ t_{F} }{ 100 } \\right) ^{ 2 } + D_{\\beta_{s}} \\cdot \\left( \\frac{ t_{F} }{ 100 } \\right) + E_{\\beta_{s}} } \\\\&= \\frac{ \\left( \\frac{ 10000 }{ 100 } \\right) ^{ 3 } + 40 \\cdot \\left( \\frac{ 10000 }{ 100 } \\right) ^{ 2 } + 35.77 \\cdot \\left( \\frac{ 10000 }{ 100 } \\right) }{ \\left( \\frac{ 10000 }{ 100 } \\right) ^{ 3 } + 38.42 \\cdot \\left( \\frac{ 10000 }{ 100 } \\right) ^{ 2 } + 163.59 \\cdot \\left( \\frac{ 10000 }{ 100 } \\right) + 32.02 } \\\\&= 1.0  \\\\\n",
       "\\\\[10pt]\n",
       "\\epsilon_{cs} &= \\epsilon_{1s} \\cdot \\epsilon_{2s} \\cdot \\left( \\beta_{s_{tF}} - \\beta_{s_{t0}} \\right) \\\\&= -5.71 \\times 10 ^ {-4 } \\cdot 8.58 \\times 10 ^ {-1 } \\cdot \\left( 1.0 - 8.16 \\times 10 ^ {-2 } \\right) \\\\&= -4.51 \\times 10 ^ {-4 }  \\\\\n",
       "\\end{aligned}\n",
       "\\]"
      ],
      "text/plain": [
       "<IPython.core.display.Latex object>"
      ]
     },
     "metadata": {},
     "output_type": "display_data"
    }
   ],
   "source": [
    "%%render 2\n",
    "\n",
    "epsilon_1s = (-8.09 + U/15 - U**2/2284 + U**3/133765 - U**4/7608150)*10**-4\n",
    "\n",
    "epsilon_2s = (33+2*h_fic)/(20.8 + 3*h_fic)\n",
    "\n",
    "A_beta_s = 40  \n",
    "B_beta_s = 116*h_fm**3 - 282*h_fm**2 + 220*h_fm - 4.8  \n",
    "C_beta_s = 2.5*h_fm**3 - 8.8*h_fm + 40.7  \n",
    "D_beta_s = -75*h_fm**3 + 585*h_fm**2 + 496*h_fm - 6.8  \n",
    "E_beta_s = -169*h_fm**4 + 88*h_fm**3 + 584*h_fm**2 - 39*h_fm + 0.8  \n",
    "\n",
    "beta_s_t0 = ((t_0/100)**3 + A_beta_s*(t_0/100)**2 +  B_beta_s*(t_0/100))/((t_0/100)**3 + C_beta_s*(t_0/100)**2 +  D_beta_s*(t_0/100) + E_beta_s)\n",
    "\n",
    "beta_s_tF = ((t_F/100)**3 + A_beta_s*(t_F/100)**2 +  B_beta_s*(t_F/100))/((t_F/100)**3 + C_beta_s*(t_F/100)**2 +  D_beta_s*(t_F/100) + E_beta_s)\n",
    "\n",
    "epsilon_cs = epsilon_1s*epsilon_2s*(beta_s_tF - beta_s_t0)\n"
   ]
  },
  {
   "cell_type": "markdown",
   "id": "26653758",
   "metadata": {},
   "source": [
    "## Relaxação do Aço de Protensão:"
   ]
  },
  {
   "cell_type": "code",
   "execution_count": 23,
   "id": "59b4e706",
   "metadata": {},
   "outputs": [
    {
     "data": {
      "text/html": [
       "<div>\n",
       "<style scoped>\n",
       "    .dataframe tbody tr th:only-of-type {\n",
       "        vertical-align: middle;\n",
       "    }\n",
       "\n",
       "    .dataframe tbody tr th {\n",
       "        vertical-align: top;\n",
       "    }\n",
       "\n",
       "    .dataframe thead th {\n",
       "        text-align: right;\n",
       "    }\n",
       "</style>\n",
       "<table border=\"1\" class=\"dataframe\">\n",
       "  <thead>\n",
       "    <tr style=\"text-align: right;\">\n",
       "      <th></th>\n",
       "      <th>Seção</th>\n",
       "      <th>Pos</th>\n",
       "      <th>Sigma,p</th>\n",
       "      <th>Sigma,p/fptk</th>\n",
       "      <th>Ψ1000</th>\n",
       "      <th>Ψ,inf</th>\n",
       "      <th>X,inf</th>\n",
       "    </tr>\n",
       "  </thead>\n",
       "  <tbody>\n",
       "    <tr>\n",
       "      <th>0</th>\n",
       "      <td>1.0</td>\n",
       "      <td>0.0</td>\n",
       "      <td>144.89</td>\n",
       "      <td>0.763</td>\n",
       "      <td>0.031</td>\n",
       "      <td>0.077</td>\n",
       "      <td>0.08</td>\n",
       "    </tr>\n",
       "    <tr>\n",
       "      <th>1</th>\n",
       "      <td>2.0</td>\n",
       "      <td>239.1</td>\n",
       "      <td>144.89</td>\n",
       "      <td>0.763</td>\n",
       "      <td>0.031</td>\n",
       "      <td>0.077</td>\n",
       "      <td>0.08</td>\n",
       "    </tr>\n",
       "    <tr>\n",
       "      <th>2</th>\n",
       "      <td>3.0</td>\n",
       "      <td>478.2</td>\n",
       "      <td>137.43</td>\n",
       "      <td>0.723</td>\n",
       "      <td>0.027</td>\n",
       "      <td>0.068</td>\n",
       "      <td>0.07</td>\n",
       "    </tr>\n",
       "    <tr>\n",
       "      <th>3</th>\n",
       "      <td>4.0</td>\n",
       "      <td>717.3</td>\n",
       "      <td>137.43</td>\n",
       "      <td>0.723</td>\n",
       "      <td>0.027</td>\n",
       "      <td>0.068</td>\n",
       "      <td>0.07</td>\n",
       "    </tr>\n",
       "    <tr>\n",
       "      <th>4</th>\n",
       "      <td>5.0</td>\n",
       "      <td>956.4</td>\n",
       "      <td>137.43</td>\n",
       "      <td>0.723</td>\n",
       "      <td>0.027</td>\n",
       "      <td>0.068</td>\n",
       "      <td>0.07</td>\n",
       "    </tr>\n",
       "    <tr>\n",
       "      <th>5</th>\n",
       "      <td>6.0</td>\n",
       "      <td>1195.5</td>\n",
       "      <td>137.43</td>\n",
       "      <td>0.723</td>\n",
       "      <td>0.027</td>\n",
       "      <td>0.068</td>\n",
       "      <td>0.07</td>\n",
       "    </tr>\n",
       "    <tr>\n",
       "      <th>6</th>\n",
       "      <td>7.0</td>\n",
       "      <td>1434.6</td>\n",
       "      <td>137.43</td>\n",
       "      <td>0.723</td>\n",
       "      <td>0.027</td>\n",
       "      <td>0.068</td>\n",
       "      <td>0.07</td>\n",
       "    </tr>\n",
       "    <tr>\n",
       "      <th>7</th>\n",
       "      <td>8.0</td>\n",
       "      <td>1673.7</td>\n",
       "      <td>137.43</td>\n",
       "      <td>0.723</td>\n",
       "      <td>0.027</td>\n",
       "      <td>0.068</td>\n",
       "      <td>0.07</td>\n",
       "    </tr>\n",
       "    <tr>\n",
       "      <th>8</th>\n",
       "      <td>9.0</td>\n",
       "      <td>1912.8</td>\n",
       "      <td>137.43</td>\n",
       "      <td>0.723</td>\n",
       "      <td>0.027</td>\n",
       "      <td>0.068</td>\n",
       "      <td>0.07</td>\n",
       "    </tr>\n",
       "    <tr>\n",
       "      <th>9</th>\n",
       "      <td>10.0</td>\n",
       "      <td>2151.9</td>\n",
       "      <td>144.89</td>\n",
       "      <td>0.763</td>\n",
       "      <td>0.031</td>\n",
       "      <td>0.077</td>\n",
       "      <td>0.08</td>\n",
       "    </tr>\n",
       "    <tr>\n",
       "      <th>10</th>\n",
       "      <td>11.0</td>\n",
       "      <td>2391.0</td>\n",
       "      <td>144.89</td>\n",
       "      <td>0.763</td>\n",
       "      <td>0.031</td>\n",
       "      <td>0.077</td>\n",
       "      <td>0.08</td>\n",
       "    </tr>\n",
       "  </tbody>\n",
       "</table>\n",
       "</div>"
      ],
      "text/plain": [
       "    Seção     Pos  Sigma,p  Sigma,p/fptk  Ψ1000  Ψ,inf  X,inf\n",
       "0     1.0     0.0   144.89         0.763  0.031  0.077   0.08\n",
       "1     2.0   239.1   144.89         0.763  0.031  0.077   0.08\n",
       "2     3.0   478.2   137.43         0.723  0.027  0.068   0.07\n",
       "3     4.0   717.3   137.43         0.723  0.027  0.068   0.07\n",
       "4     5.0   956.4   137.43         0.723  0.027  0.068   0.07\n",
       "5     6.0  1195.5   137.43         0.723  0.027  0.068   0.07\n",
       "6     7.0  1434.6   137.43         0.723  0.027  0.068   0.07\n",
       "7     8.0  1673.7   137.43         0.723  0.027  0.068   0.07\n",
       "8     9.0  1912.8   137.43         0.723  0.027  0.068   0.07\n",
       "9    10.0  2151.9   144.89         0.763  0.031  0.077   0.08\n",
       "10   11.0  2391.0   144.89         0.763  0.031  0.077   0.08"
      ]
     },
     "metadata": {},
     "output_type": "display_data"
    }
   ],
   "source": [
    "relax = []\n",
    "for i in range(7):\n",
    "    relax.append([0]*nS)\n",
    "\n",
    "for i in range (nS):\n",
    "    relax[0][i] = i+1\n",
    "    relax[1][i] = esforcos[0][i] #posição x da seção\n",
    "    for j in range(len(qntCordoalhas)-1,-1,-1):\n",
    "        if(relax[1][i] >= x1_anc[j] and relax[1][i] <= x2_anc[j]):\n",
    "            relax[2][i] = round(sigma_p[j],2)\n",
    "            break\n",
    "    relax[3][i] = round(relax[2][i]/f_ptk,3)\n",
    "    relax[4][i] = round(calcpsi(relax[3][i]),3)\n",
    "    relax[5][i] = round(relax[4][i]*2.5,3)\n",
    "    relax[6][i] = round(-log(1-relax[5][i]),3)\n",
    "    \n",
    "    \n",
    "tabela3 = pd.DataFrame(relax)\n",
    "tabela3 = tabela3.transpose()\n",
    "tabela3.rename(columns={0:'Seção',1:'Pos',2:'Sigma,p',3:'Sigma,p/fptk',4:'\\u03A81000',5:'\\u03A8,inf',6:'X,inf'},inplace = True)\n",
    "display(tabela3)"
   ]
  },
  {
   "cell_type": "markdown",
   "id": "b0d5874e",
   "metadata": {},
   "source": [
    "## Cálculo das Perdas Progressivas:"
   ]
  },
  {
   "cell_type": "code",
   "execution_count": 24,
   "id": "5d841862",
   "metadata": {},
   "outputs": [
    {
     "data": {
      "text/html": [
       "<div>\n",
       "<style scoped>\n",
       "    .dataframe tbody tr th:only-of-type {\n",
       "        vertical-align: middle;\n",
       "    }\n",
       "\n",
       "    .dataframe tbody tr th {\n",
       "        vertical-align: top;\n",
       "    }\n",
       "\n",
       "    .dataframe thead th {\n",
       "        text-align: right;\n",
       "    }\n",
       "</style>\n",
       "<table border=\"1\" class=\"dataframe\">\n",
       "  <thead>\n",
       "    <tr style=\"text-align: right;\">\n",
       "      <th></th>\n",
       "      <th>Sigma,c,t0</th>\n",
       "      <th>ΔSigma,p</th>\n",
       "      <th>ΔNp</th>\n",
       "      <th>ΔMp</th>\n",
       "    </tr>\n",
       "  </thead>\n",
       "  <tbody>\n",
       "    <tr>\n",
       "      <th>0</th>\n",
       "      <td>-0.99</td>\n",
       "      <td>-34.95</td>\n",
       "      <td>244.65</td>\n",
       "      <td>13455.8</td>\n",
       "    </tr>\n",
       "    <tr>\n",
       "      <th>1</th>\n",
       "      <td>-0.48</td>\n",
       "      <td>-25.82</td>\n",
       "      <td>180.74</td>\n",
       "      <td>9940.7</td>\n",
       "    </tr>\n",
       "    <tr>\n",
       "      <th>2</th>\n",
       "      <td>-1.19</td>\n",
       "      <td>-33.40</td>\n",
       "      <td>561.12</td>\n",
       "      <td>28617.1</td>\n",
       "    </tr>\n",
       "    <tr>\n",
       "      <th>3</th>\n",
       "      <td>-0.93</td>\n",
       "      <td>-29.19</td>\n",
       "      <td>490.39</td>\n",
       "      <td>25009.9</td>\n",
       "    </tr>\n",
       "    <tr>\n",
       "      <th>4</th>\n",
       "      <td>-0.77</td>\n",
       "      <td>-26.59</td>\n",
       "      <td>446.71</td>\n",
       "      <td>22782.2</td>\n",
       "    </tr>\n",
       "    <tr>\n",
       "      <th>5</th>\n",
       "      <td>-0.72</td>\n",
       "      <td>-25.78</td>\n",
       "      <td>433.10</td>\n",
       "      <td>22088.1</td>\n",
       "    </tr>\n",
       "    <tr>\n",
       "      <th>6</th>\n",
       "      <td>-0.77</td>\n",
       "      <td>-26.59</td>\n",
       "      <td>446.71</td>\n",
       "      <td>22782.2</td>\n",
       "    </tr>\n",
       "    <tr>\n",
       "      <th>7</th>\n",
       "      <td>-0.93</td>\n",
       "      <td>-29.19</td>\n",
       "      <td>490.39</td>\n",
       "      <td>25009.9</td>\n",
       "    </tr>\n",
       "    <tr>\n",
       "      <th>8</th>\n",
       "      <td>-1.19</td>\n",
       "      <td>-33.40</td>\n",
       "      <td>561.12</td>\n",
       "      <td>28617.1</td>\n",
       "    </tr>\n",
       "    <tr>\n",
       "      <th>9</th>\n",
       "      <td>-0.48</td>\n",
       "      <td>-25.82</td>\n",
       "      <td>180.74</td>\n",
       "      <td>9940.7</td>\n",
       "    </tr>\n",
       "    <tr>\n",
       "      <th>10</th>\n",
       "      <td>-0.99</td>\n",
       "      <td>-34.95</td>\n",
       "      <td>244.65</td>\n",
       "      <td>13455.8</td>\n",
       "    </tr>\n",
       "  </tbody>\n",
       "</table>\n",
       "</div>"
      ],
      "text/plain": [
       "    Sigma,c,t0  ΔSigma,p     ΔNp      ΔMp\n",
       "0        -0.99    -34.95  244.65  13455.8\n",
       "1        -0.48    -25.82  180.74   9940.7\n",
       "2        -1.19    -33.40  561.12  28617.1\n",
       "3        -0.93    -29.19  490.39  25009.9\n",
       "4        -0.77    -26.59  446.71  22782.2\n",
       "5        -0.72    -25.78  433.10  22088.1\n",
       "6        -0.77    -26.59  446.71  22782.2\n",
       "7        -0.93    -29.19  490.39  25009.9\n",
       "8        -1.19    -33.40  561.12  28617.1\n",
       "9        -0.48    -25.82  180.74   9940.7\n",
       "10       -0.99    -34.95  244.65  13455.8"
      ]
     },
     "metadata": {},
     "output_type": "display_data"
    }
   ],
   "source": [
    "progressivas = []\n",
    "\n",
    "for i in range(4):\n",
    "    progressivas.append([0] * nS)\n",
    "    \n",
    "alpha_p = E_p/E_cs\n",
    "    \n",
    "for i in range(nS):\n",
    "    momento = esforcos[1][i]\n",
    "    for j in range(len(qntCordoalhas)-1,-1,-1):\n",
    "        if(relax[1][i] >= x1_anc[j] and relax[1][i] <= x2_anc[j]):\n",
    "            sigma_pi = sigma_p[j]\n",
    "            Npi = N_p[j]\n",
    "            Mpi = M_p[j]\n",
    "            Wcpi = W_cp[j]\n",
    "            e_pp = e_p_i[j]\n",
    "            A_pp = A_p[j]\n",
    "            break\n",
    "    progressivas[0][i] = round(Npi/Area + Mpi/Wcpi + momento/Wcpi,2)\n",
    "    K_p = alpha_p*A_pp*(1/Area + e_pp/Wcpi)\n",
    "    progressivas[1][i] = round( (( progressivas[0][i]*phi_t/E_cs + epsilon_cs - sigma_pi/E_p*relax[6][i] ) / (1 + relax[6][i] + K_p*(1+0.5*phi_t)) )*E_p,2)\n",
    "    progressivas[2][i] = -round(progressivas[1][i]*A_pp  ,2)\n",
    "    progressivas[3][i] = round(progressivas[2][i]*e_pp ,1)\n",
    "    \n",
    "    \n",
    "\n",
    "tabela4 = pd.DataFrame(progressivas)\n",
    "tabela4 = tabela4.transpose()\n",
    "tabela4.rename(columns={0:'Sigma,c,t0',1:'\\u0394Sigma,p',2:'\\u0394Np',3:'\\u0394Mp'},inplace = True)\n",
    "display(tabela4)"
   ]
  },
  {
   "cell_type": "markdown",
   "id": "6d844d65",
   "metadata": {},
   "source": [
    "# Tensões Normais nas Bordas:\n",
    "\n",
    "## Bordas Superiores:"
   ]
  },
  {
   "cell_type": "code",
   "execution_count": 25,
   "id": "90627a03",
   "metadata": {
    "scrolled": false
   },
   "outputs": [
    {
     "data": {
      "text/html": [
       "<div>\n",
       "<style scoped>\n",
       "    .dataframe tbody tr th:only-of-type {\n",
       "        vertical-align: middle;\n",
       "    }\n",
       "\n",
       "    .dataframe tbody tr th {\n",
       "        vertical-align: top;\n",
       "    }\n",
       "\n",
       "    .dataframe thead th {\n",
       "        text-align: right;\n",
       "    }\n",
       "</style>\n",
       "<table border=\"1\" class=\"dataframe\">\n",
       "  <thead>\n",
       "    <tr style=\"text-align: right;\">\n",
       "      <th></th>\n",
       "      <th>Pos (cm)</th>\n",
       "      <th>Sigma,s</th>\n",
       "      <th>OK</th>\n",
       "    </tr>\n",
       "  </thead>\n",
       "  <tbody>\n",
       "    <tr>\n",
       "      <th>0</th>\n",
       "      <td>0.0</td>\n",
       "      <td>0.374</td>\n",
       "      <td>OK</td>\n",
       "    </tr>\n",
       "    <tr>\n",
       "      <th>1</th>\n",
       "      <td>239.1</td>\n",
       "      <td>-0.152</td>\n",
       "      <td>OK</td>\n",
       "    </tr>\n",
       "    <tr>\n",
       "      <th>2</th>\n",
       "      <td>478.2</td>\n",
       "      <td>-0.238</td>\n",
       "      <td>OK</td>\n",
       "    </tr>\n",
       "    <tr>\n",
       "      <th>3</th>\n",
       "      <td>717.3</td>\n",
       "      <td>-0.518</td>\n",
       "      <td>OK</td>\n",
       "    </tr>\n",
       "    <tr>\n",
       "      <th>4</th>\n",
       "      <td>956.4</td>\n",
       "      <td>-0.685</td>\n",
       "      <td>OK</td>\n",
       "    </tr>\n",
       "    <tr>\n",
       "      <th>5</th>\n",
       "      <td>1195.5</td>\n",
       "      <td>-0.741</td>\n",
       "      <td>OK</td>\n",
       "    </tr>\n",
       "    <tr>\n",
       "      <th>6</th>\n",
       "      <td>1434.6</td>\n",
       "      <td>-0.685</td>\n",
       "      <td>OK</td>\n",
       "    </tr>\n",
       "    <tr>\n",
       "      <th>7</th>\n",
       "      <td>1673.7</td>\n",
       "      <td>-0.518</td>\n",
       "      <td>OK</td>\n",
       "    </tr>\n",
       "    <tr>\n",
       "      <th>8</th>\n",
       "      <td>1912.8</td>\n",
       "      <td>-0.238</td>\n",
       "      <td>OK</td>\n",
       "    </tr>\n",
       "    <tr>\n",
       "      <th>9</th>\n",
       "      <td>2151.9</td>\n",
       "      <td>-0.152</td>\n",
       "      <td>OK</td>\n",
       "    </tr>\n",
       "    <tr>\n",
       "      <th>10</th>\n",
       "      <td>2391.0</td>\n",
       "      <td>0.374</td>\n",
       "      <td>OK</td>\n",
       "    </tr>\n",
       "  </tbody>\n",
       "</table>\n",
       "</div>"
      ],
      "text/plain": [
       "   Pos (cm) Sigma,s  OK\n",
       "0       0.0   0.374  OK\n",
       "1     239.1  -0.152  OK\n",
       "2     478.2  -0.238  OK\n",
       "3     717.3  -0.518  OK\n",
       "4     956.4  -0.685  OK\n",
       "5    1195.5  -0.741  OK\n",
       "6    1434.6  -0.685  OK\n",
       "7    1673.7  -0.518  OK\n",
       "8    1912.8  -0.238  OK\n",
       "9    2151.9  -0.152  OK\n",
       "10   2391.0   0.374  OK"
      ]
     },
     "metadata": {},
     "output_type": "display_data"
    }
   ],
   "source": [
    "tensaosup = []\n",
    "\n",
    "for i in range(3):\n",
    "    tensaosup.append([0]*nS)\n",
    "    \n",
    "for i in range(nS):\n",
    "    tensaosup[0][i] = relax[1][i]\n",
    "    for j in range(len(qntCordoalhas)-1,-1,-1):\n",
    "        if(relax[1][i] >= x1_anc[j] and relax[1][i] <= x2_anc[j]):\n",
    "            sigma_pi = sigma_p[j]\n",
    "            Npi = N_p[j]\n",
    "            Mpi = M_p[j]\n",
    "            Wcpi = W_cp[j]\n",
    "            e_pp = e_p_i[j]\n",
    "            A_pp = A_p[j]\n",
    "            break\n",
    "    Npx = Npi + progressivas[2][i]\n",
    "    Mpx = Mpi + progressivas[3][i]\n",
    "    tensaosup[1][i] = round( -abs(Npx/Area) + abs(Mpx/W_s) - abs(esforcos[1][i]/W_s) ,3)\n",
    "    if tensaosup[1][i] > -sigma_ccF:\n",
    "        tensaosup[2][i] = \"OK\"\n",
    "    else:\n",
    "        tensaosup[2][i] = \"--> NAO OK <--\"\n",
    "    \n",
    "    \n",
    "\n",
    "tabela5 = pd.DataFrame(tensaosup)\n",
    "tabela5 = tabela5.transpose()\n",
    "tabela5.rename(columns={0:'Pos (cm)',1:'Sigma,s',2:'OK'},inplace = True)\n",
    "display(tabela5)"
   ]
  },
  {
   "cell_type": "markdown",
   "id": "75627f5a",
   "metadata": {},
   "source": [
    "## Bordas Inferiores:"
   ]
  },
  {
   "cell_type": "code",
   "execution_count": 26,
   "id": "43ea2740",
   "metadata": {},
   "outputs": [
    {
     "data": {
      "text/html": [
       "<div>\n",
       "<style scoped>\n",
       "    .dataframe tbody tr th:only-of-type {\n",
       "        vertical-align: middle;\n",
       "    }\n",
       "\n",
       "    .dataframe tbody tr th {\n",
       "        vertical-align: top;\n",
       "    }\n",
       "\n",
       "    .dataframe thead th {\n",
       "        text-align: right;\n",
       "    }\n",
       "</style>\n",
       "<table border=\"1\" class=\"dataframe\">\n",
       "  <thead>\n",
       "    <tr style=\"text-align: right;\">\n",
       "      <th></th>\n",
       "      <th>Pos (cm)</th>\n",
       "      <th>Sigma,i</th>\n",
       "      <th>OK</th>\n",
       "    </tr>\n",
       "  </thead>\n",
       "  <tbody>\n",
       "    <tr>\n",
       "      <th>0</th>\n",
       "      <td>0</td>\n",
       "      <td>-0.802</td>\n",
       "      <td>OK</td>\n",
       "    </tr>\n",
       "    <tr>\n",
       "      <th>1</th>\n",
       "      <td>0</td>\n",
       "      <td>-0.311</td>\n",
       "      <td>OK</td>\n",
       "    </tr>\n",
       "    <tr>\n",
       "      <th>2</th>\n",
       "      <td>0</td>\n",
       "      <td>-0.732</td>\n",
       "      <td>OK</td>\n",
       "    </tr>\n",
       "    <tr>\n",
       "      <th>3</th>\n",
       "      <td>0</td>\n",
       "      <td>-0.493</td>\n",
       "      <td>OK</td>\n",
       "    </tr>\n",
       "    <tr>\n",
       "      <th>4</th>\n",
       "      <td>0</td>\n",
       "      <td>-0.35</td>\n",
       "      <td>OK</td>\n",
       "    </tr>\n",
       "    <tr>\n",
       "      <th>5</th>\n",
       "      <td>0</td>\n",
       "      <td>-0.301</td>\n",
       "      <td>OK</td>\n",
       "    </tr>\n",
       "    <tr>\n",
       "      <th>6</th>\n",
       "      <td>0</td>\n",
       "      <td>-0.35</td>\n",
       "      <td>OK</td>\n",
       "    </tr>\n",
       "    <tr>\n",
       "      <th>7</th>\n",
       "      <td>0</td>\n",
       "      <td>-0.493</td>\n",
       "      <td>OK</td>\n",
       "    </tr>\n",
       "    <tr>\n",
       "      <th>8</th>\n",
       "      <td>0</td>\n",
       "      <td>-0.732</td>\n",
       "      <td>OK</td>\n",
       "    </tr>\n",
       "    <tr>\n",
       "      <th>9</th>\n",
       "      <td>0</td>\n",
       "      <td>-0.311</td>\n",
       "      <td>OK</td>\n",
       "    </tr>\n",
       "    <tr>\n",
       "      <th>10</th>\n",
       "      <td>0</td>\n",
       "      <td>-0.802</td>\n",
       "      <td>OK</td>\n",
       "    </tr>\n",
       "  </tbody>\n",
       "</table>\n",
       "</div>"
      ],
      "text/plain": [
       "   Pos (cm) Sigma,i  OK\n",
       "0         0  -0.802  OK\n",
       "1         0  -0.311  OK\n",
       "2         0  -0.732  OK\n",
       "3         0  -0.493  OK\n",
       "4         0   -0.35  OK\n",
       "5         0  -0.301  OK\n",
       "6         0   -0.35  OK\n",
       "7         0  -0.493  OK\n",
       "8         0  -0.732  OK\n",
       "9         0  -0.311  OK\n",
       "10        0  -0.802  OK"
      ]
     },
     "metadata": {},
     "output_type": "display_data"
    }
   ],
   "source": [
    "tensaoinf = []\n",
    "\n",
    "for i in range(3):\n",
    "    tensaoinf.append([0]*nS)\n",
    "    \n",
    "for i in range(nS):\n",
    "    tensaosup[0][i] = relax[1][i]\n",
    "    for j in range(len(qntCordoalhas)-1,-1,-1):\n",
    "        if(relax[1][i] >= x1_anc[j] and relax[1][i] <= x2_anc[j]):\n",
    "            sigma_pi = sigma_p[j]\n",
    "            Npi = N_p[j]\n",
    "            Mpi = M_p[j]\n",
    "            Wcpi = W_cp[j]\n",
    "            e_pp = e_p_i[j]\n",
    "            A_pp = A_p[j]\n",
    "            break\n",
    "    Npx = Npi + progressivas[2][i]\n",
    "    Mpx = Mpi + progressivas[3][i]\n",
    "    tensaoinf[1][i] = round( -abs(Npx/Area) - abs(Mpx/W_i) + abs(esforcos[1][i]/W_i) ,3)\n",
    "    if tensaoinf[1][i] < -sigma_ctF:\n",
    "        tensaoinf[2][i] = \"OK\"\n",
    "    else:\n",
    "        tensaoinf[2][i] = \"--> NAO OK <--\"\n",
    "    \n",
    "    \n",
    "\n",
    "tabela6 = pd.DataFrame(tensaoinf)\n",
    "tabela6 = tabela6.transpose()\n",
    "tabela6.rename(columns={0:'Pos (cm)',1:'Sigma,i',2:'OK'},inplace = True)\n",
    "display(tabela6)"
   ]
  }
 ],
 "metadata": {
  "kernelspec": {
   "display_name": "Python 3 (ipykernel)",
   "language": "python",
   "name": "python3"
  },
  "language_info": {
   "codemirror_mode": {
    "name": "ipython",
    "version": 3
   },
   "file_extension": ".py",
   "mimetype": "text/x-python",
   "name": "python",
   "nbconvert_exporter": "python",
   "pygments_lexer": "ipython3",
   "version": "3.9.7"
  }
 },
 "nbformat": 4,
 "nbformat_minor": 5
}
