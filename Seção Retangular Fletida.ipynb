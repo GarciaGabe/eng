{
 "cells": [
  {
   "cell_type": "code",
   "execution_count": 1,
   "id": "a492661f",
   "metadata": {},
   "outputs": [],
   "source": [
    "import handcalcs.render"
   ]
  },
  {
   "cell_type": "markdown",
   "id": "7808117b",
   "metadata": {},
   "source": [
    "# SEÇÃO RETANGULAR FLETIDA:\n",
    "\n",
    "Todas as unidades em kN e cm;"
   ]
  },
  {
   "cell_type": "code",
   "execution_count": 8,
   "id": "7f33e268",
   "metadata": {
    "scrolled": false
   },
   "outputs": [
    {
     "data": {
      "text/latex": [
       "\\[\n",
       "\\begin{aligned}\n",
       "b &= 30 \\; \n",
       "\\\\[10pt]\n",
       "h &= 50 \\; \n",
       "\\\\[10pt]\n",
       "d &= h - 7  = 50 - 7 &= 43  \n",
       "\\end{aligned}\n",
       "\\]"
      ],
      "text/plain": [
       "<IPython.core.display.Latex object>"
      ]
     },
     "metadata": {},
     "output_type": "display_data"
    }
   ],
   "source": [
    "%%render 2\n",
    "\n",
    "b = 30\n",
    "h = 50\n",
    "d = h - 7\n",
    "\n"
   ]
  },
  {
   "cell_type": "code",
   "execution_count": 3,
   "id": "76f62adb",
   "metadata": {},
   "outputs": [
    {
     "data": {
      "text/latex": [
       "\\[\n",
       "\\begin{aligned}\n",
       "\\mathrm{Fck} &= 4 \\; \n",
       "\\\\[10pt]\n",
       "\\mathrm{Fcd} &= \\frac{ \\mathrm{Fck} }{ 1.4 }  = \\frac{ 4 }{ 1.4 } &= 2.86  \n",
       "\\\\[10pt]\n",
       "\\mathrm{Fc} &= 0.85 \\cdot \\mathrm{Fcd}  = 0.85 \\cdot 2.86 &= 2.43  \n",
       "\\\\[10pt]\n",
       "\\mathrm{Fyk} &= 50 \\; \n",
       "\\\\[10pt]\n",
       "\\mathrm{Fyd} &= \\frac{ \\mathrm{Fyk} }{ 1.15 }  = \\frac{ 50 }{ 1.15 } &= 43.48  \n",
       "\\end{aligned}\n",
       "\\]"
      ],
      "text/plain": [
       "<IPython.core.display.Latex object>"
      ]
     },
     "metadata": {},
     "output_type": "display_data"
    }
   ],
   "source": [
    "%%render 2\n",
    "\n",
    "Fck = 4\n",
    "Fcd = Fck / 1.4\n",
    "Fc = 0.85 * Fcd\n",
    "\n",
    "Fyk = 50\n",
    "Fyd = Fyk/1.15\n",
    "\n"
   ]
  },
  {
   "cell_type": "code",
   "execution_count": 9,
   "id": "d866abd3",
   "metadata": {},
   "outputs": [
    {
     "data": {
      "text/latex": [
       "\\[\n",
       "\\begin{aligned}\n",
       "\\mathrm{Mk} &= 285.3 \\cdot 100 &= 28530.0  \n",
       "\\end{aligned}\n",
       "\\]"
      ],
      "text/plain": [
       "<IPython.core.display.Latex object>"
      ]
     },
     "metadata": {},
     "output_type": "display_data"
    }
   ],
   "source": [
    "%%render 2\n",
    "\n",
    "Mk = 285.3* 100\n"
   ]
  },
  {
   "cell_type": "code",
   "execution_count": 10,
   "id": "1a5a547b",
   "metadata": {},
   "outputs": [
    {
     "data": {
      "text/latex": [
       "\\[\n",
       "\\begin{aligned}\n",
       "y &= d - \\left( \\left( d \\right) ^{ 2 } - \\left( 2.8 \\cdot \\frac{ \\mathrm{Mk} }{ \\mathrm{Fc} \\cdot b } \\right) \\right) ^{ 0.5 }  = 43 - \\left( \\left( 43 \\right) ^{ 2 } - \\left( 2.8 \\cdot \\frac{ 28530.0 }{ 2.43 \\cdot 30 } \\right) \\right) ^{ 0.5 } &= 15.57  \n",
       "\\\\[10pt]\n",
       "\\mathrm{ydutil} &= \\frac{ y }{ d }  = \\frac{ 15.57 }{ 43 } &= 3.62 \\times 10 ^ {-1 }  \n",
       "\\\\[10pt]\n",
       "\\mathrm{As} &= \\frac{ y \\cdot \\mathrm{Fc} \\cdot b }{ \\mathrm{Fyd} }  = \\frac{ 15.57 \\cdot 2.43 \\cdot 30 }{ 43.48 } &= 26.09  \n",
       "\\end{aligned}\n",
       "\\]"
      ],
      "text/plain": [
       "<IPython.core.display.Latex object>"
      ]
     },
     "metadata": {},
     "output_type": "display_data"
    }
   ],
   "source": [
    "%%render 2\n",
    "\n",
    "y = d - (d**2 - (2.8*Mk/(Fc*b)))**0.5\n",
    "ydutil = y/d\n",
    "\n",
    "\n",
    "As = (y*Fc*b)/Fyd"
   ]
  }
 ],
 "metadata": {
  "kernelspec": {
   "display_name": "Python 3 (ipykernel)",
   "language": "python",
   "name": "python3"
  },
  "language_info": {
   "codemirror_mode": {
    "name": "ipython",
    "version": 3
   },
   "file_extension": ".py",
   "mimetype": "text/x-python",
   "name": "python",
   "nbconvert_exporter": "python",
   "pygments_lexer": "ipython3",
   "version": "3.9.7"
  }
 },
 "nbformat": 4,
 "nbformat_minor": 5
}
