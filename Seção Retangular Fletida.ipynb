{
 "cells": [
  {
   "cell_type": "code",
   "execution_count": 7,
   "id": "62c3fd89",
   "metadata": {},
   "outputs": [],
   "source": [
    "import handcalcs.render\n",
    "import numpy"
   ]
  },
  {
   "cell_type": "markdown",
   "id": "f636cda8",
   "metadata": {},
   "source": [
    "# SEÇÃO RETANGULAR FLETIDA:\n",
    "\n",
    "Todas as unidades em kN e cm;"
   ]
  },
  {
   "cell_type": "code",
   "execution_count": 15,
   "id": "0bd9272d",
   "metadata": {
    "scrolled": false
   },
   "outputs": [
    {
     "data": {
      "text/latex": [
       "\\[\n",
       "\\begin{aligned}\n",
       "b &= 30 \\; \n",
       "\\\\[10pt]\n",
       "h &= 55 \\; \n",
       "\\\\[10pt]\n",
       "d &= 55 - 5 &= 50  \n",
       "\\end{aligned}\n",
       "\\]"
      ],
      "text/plain": [
       "<IPython.core.display.Latex object>"
      ]
     },
     "metadata": {},
     "output_type": "display_data"
    }
   ],
   "source": [
    "%%render 2\n",
    "\n",
    "b = 30\n",
    "h = 55\n",
    "d = 55 - 5\n",
    "\n"
   ]
  },
  {
   "cell_type": "code",
   "execution_count": 24,
   "id": "8b01efa1",
   "metadata": {},
   "outputs": [
    {
     "data": {
      "text/latex": [
       "\\[\n",
       "\\begin{aligned}\n",
       "\\mathrm{Fck} &= 4 \\; \n",
       "\\\\[10pt]\n",
       "\\mathrm{Fcd} &= \\frac{ \\mathrm{Fck} }{ 1.4 }  = \\frac{ 4 }{ 1.4 } &= 2.86  \n",
       "\\\\[10pt]\n",
       "\\mathrm{Fc} &= 0.85 \\cdot \\mathrm{Fcd}  = 0.85 \\cdot 2.86 &= 2.43  \n",
       "\\\\[10pt]\n",
       "\\mathrm{Fyk} &= 50 \\; \n",
       "\\\\[10pt]\n",
       "\\mathrm{Fyd} &= \\frac{ \\mathrm{Fyk} }{ 1.15 }  = \\frac{ 50 }{ 1.15 } &= 43.48  \n",
       "\\end{aligned}\n",
       "\\]"
      ],
      "text/plain": [
       "<IPython.core.display.Latex object>"
      ]
     },
     "metadata": {},
     "output_type": "display_data"
    }
   ],
   "source": [
    "%%render 2\n",
    "\n",
    "Fck = 4\n",
    "Fcd = Fck / 1.4\n",
    "Fc = 0.85 * Fcd\n",
    "\n",
    "Fyk = 50\n",
    "Fyd = Fyk/1.15\n",
    "\n"
   ]
  },
  {
   "cell_type": "code",
   "execution_count": 21,
   "id": "cec3d8f0",
   "metadata": {},
   "outputs": [
    {
     "data": {
      "text/latex": [
       "\\[\n",
       "\\begin{aligned}\n",
       "\\mathrm{Mk} &= 242.3 \\cdot 100 &= 24230.0  \n",
       "\\end{aligned}\n",
       "\\]"
      ],
      "text/plain": [
       "<IPython.core.display.Latex object>"
      ]
     },
     "metadata": {},
     "output_type": "display_data"
    }
   ],
   "source": [
    "%%render 2\n",
    "\n",
    "Mk = 242.3  * 100\n"
   ]
  },
  {
   "cell_type": "code",
   "execution_count": 25,
   "id": "2884148d",
   "metadata": {},
   "outputs": [
    {
     "data": {
      "text/latex": [
       "\\[\n",
       "\\begin{aligned}\n",
       "y &= d - \\left( \\left( d \\right) ^{ 2 } - \\left( 2.8 \\cdot \\frac{ \\mathrm{Mk} }{ \\mathrm{Fc} \\cdot b } \\right) \\right) ^{ 0.5 }  = 50 - \\left( \\left( 50 \\right) ^{ 2 } - \\left( 2.8 \\cdot \\frac{ 24230.0 }{ 2.43 \\cdot 30 } \\right) \\right) ^{ 0.5 } &= 10.39  \n",
       "\\\\[10pt]\n",
       "\\mathrm{As} &= \\frac{ y \\cdot \\mathrm{Fc} \\cdot b }{ \\mathrm{Fyd} }  = \\frac{ 10.39 \\cdot 2.43 \\cdot 30 }{ 43.48 } &= 17.41  \n",
       "\\end{aligned}\n",
       "\\]"
      ],
      "text/plain": [
       "<IPython.core.display.Latex object>"
      ]
     },
     "metadata": {},
     "output_type": "display_data"
    }
   ],
   "source": [
    "%%render 2\n",
    "\n",
    "y = d - (d**2 - (2.8*Mk/(Fc*b)))**0.5\n",
    "\n",
    "As = (y*Fc*b)/Fyd"
   ]
  }
 ],
 "metadata": {
  "kernelspec": {
   "display_name": "Python 3 (ipykernel)",
   "language": "python",
   "name": "python3"
  },
  "language_info": {
   "codemirror_mode": {
    "name": "ipython",
    "version": 3
   },
   "file_extension": ".py",
   "mimetype": "text/x-python",
   "name": "python",
   "nbconvert_exporter": "python",
   "pygments_lexer": "ipython3",
   "version": "3.9.7"
  }
 },
 "nbformat": 4,
 "nbformat_minor": 5
}
