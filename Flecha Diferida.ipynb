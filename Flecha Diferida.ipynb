{
 "cells": [
  {
   "cell_type": "code",
   "execution_count": 24,
   "id": "2b103340",
   "metadata": {},
   "outputs": [],
   "source": [
    "import handcalcs.render\n",
    "from math import sqrt"
   ]
  },
  {
   "cell_type": "markdown",
   "id": "3fbff530",
   "metadata": {},
   "source": [
    "# Flecha Diferida:\n",
    "\n",
    "Algorítmo para calculo do Alfa,f - coeficiente para multiplicação da flecha imediata de uma viga, a fim de obter-se a flecha diferida - e da rigidez equivalente da viga\n",
    "\n",
    "Todas as unidades estão dadas em kN e cm.\n",
    "\n",
    "## Dados dos materiais:\n",
    "\n",
    "### Concreto:"
   ]
  },
  {
   "cell_type": "code",
   "execution_count": 2,
   "id": "e3081d07",
   "metadata": {},
   "outputs": [
    {
     "data": {
      "text/latex": [
       "\\[\n",
       "\\begin{aligned}\n",
       "f_{ck} &= 4 \\; \n",
       "\\\\[10pt]\n",
       "f_{cd} &= \\frac{ f_{ck} }{ 1.4 }  = \\frac{ 4 }{ 1.4 } &= 2.857  \n",
       "\\\\[10pt]\n",
       "f_{c} &= f_{cd} \\cdot 0.85  = 2.857 \\cdot 0.85 &= 2.429  \n",
       "\\\\[10pt]\n",
       "f_{ctm} &= 0.3 \\cdot \\frac{ \\left( f_{ck} \\cdot 10 \\right) ^{ \\left( \\frac{ 2 }{ 3 } \\right) } }{ 10 }  = 0.3 \\cdot \\frac{ \\left( 4 \\cdot 10 \\right) ^{ \\left( \\frac{ 2 }{ 3 } \\right) } }{ 10 } &= 3.509 \\times 10 ^ {-1 }  \n",
       "\\\\[10pt]\n",
       "f_{ctkinf} &= 0.7 \\cdot f_{ctm}  = 0.7 \\cdot 3.509 \\times 10 ^ {-1 } &= 2.456 \\times 10 ^ {-1 }  \n",
       "\\\\[10pt]\n",
       "f_{ctksup} &= 1.3 \\cdot f_{ctm}  = 1.3 \\cdot 3.509 \\times 10 ^ {-1 } &= 4.561 \\times 10 ^ {-1 }  \n",
       "\\\\[10pt]\n",
       "\\alpha_{e} &= 1.0 \\; \n",
       "\\\\[10pt]\n",
       "E_{ci} &= \\alpha_{e} \\cdot 560 \\cdot \\left( f_{ck} \\cdot 10 \\right) ^{ \\left( \\frac{ 1 }{ 2 } \\right) }  = 1.0 \\cdot 560 \\cdot \\left( 4 \\cdot 10 \\right) ^{ \\left( \\frac{ 1 }{ 2 } \\right) } &= 3541.751  \n",
       "\\\\[10pt]\n",
       "\\alpha_{i} &= 0.8 + 0.2 \\cdot \\frac{ f_{ck} }{ 8 }  = 0.8 + 0.2 \\cdot \\frac{ 4 }{ 8 } &= 0.9  \n",
       "\\\\[10pt]\n",
       "E_{cs} &= E_{ci} \\cdot \\alpha_{i}  = 3541.751 \\cdot 0.9 &= 3187.576  \n",
       "\\end{aligned}\n",
       "\\]"
      ],
      "text/plain": [
       "<IPython.core.display.Latex object>"
      ]
     },
     "metadata": {},
     "output_type": "display_data"
    }
   ],
   "source": [
    "%%render short\n",
    "# Concreto em compressão:\n",
    "f_ck = 4\n",
    "f_cd = f_ck / 1.4\n",
    "f_c = f_cd * 0.85\n",
    "\n",
    "# Concreto em tração:\n",
    "f_ctm = 0.3 * (f_ck*10)**(2/3)/10\n",
    "f_ctkinf = 0.7*f_ctm\n",
    "f_ctksup = 1.3*f_ctm\n",
    "\n",
    "# Módulo de elasticidade:\n",
    "alpha_e = 1.0\n",
    "E_ci = alpha_e * 560 * (f_ck*10)**(1/2)\n",
    "alpha_i = 0.8+0.2*f_ck/8\n",
    "E_cs = E_ci*alpha_i"
   ]
  },
  {
   "cell_type": "markdown",
   "id": "aee9f789",
   "metadata": {},
   "source": [
    "### Aço:"
   ]
  },
  {
   "cell_type": "code",
   "execution_count": 11,
   "id": "c96df6a8",
   "metadata": {},
   "outputs": [
    {
     "data": {
      "text/latex": [
       "\\[\n",
       "\\begin{aligned}\n",
       "f_{yk} &= 50 \\; \n",
       "\\\\[10pt]\n",
       "f_{yd} &= \\frac{ f_{yk} }{ 1.15 }  = \\frac{ 50 }{ 1.15 } &= 43.478  \n",
       "\\\\[10pt]\n",
       "E_{s} &= 20000 \\; \n",
       "\\end{aligned}\n",
       "\\]"
      ],
      "text/plain": [
       "<IPython.core.display.Latex object>"
      ]
     },
     "metadata": {},
     "output_type": "display_data"
    }
   ],
   "source": [
    "%%render\n",
    "\n",
    "f_yk = 50\n",
    "f_yd = f_yk / 1.15\n",
    "\n",
    "E_s = 20000"
   ]
  },
  {
   "cell_type": "markdown",
   "id": "ad9bba71",
   "metadata": {},
   "source": [
    "## Dados de geometria da seção:"
   ]
  },
  {
   "cell_type": "code",
   "execution_count": 21,
   "id": "5d13891e",
   "metadata": {},
   "outputs": [
    {
     "data": {
      "text/latex": [
       "\\[\n",
       "\\begin{aligned}\n",
       "b &= 30 \\; \n",
       "\\\\[10pt]\n",
       "h &= 60 \\; \n",
       "\\\\[10pt]\n",
       "d &= h - 5  = 60 - 5 &= 55  \n",
       "\\\\[10pt]\n",
       "I_{c} &= \\frac{ b \\cdot \\left( h \\right) ^{ 3 } }{ 12 }  = \\frac{ 30 \\cdot \\left( 60 \\right) ^{ 3 } }{ 12 } &= 540000.0  \n",
       "\\\\[10pt]\n",
       "A_{c} &= b \\cdot h  = 30 \\cdot 60 &= 1800  \n",
       "\\\\[10pt]\n",
       "W_{i} &= \\frac{ I }{ \\frac{ h }{ 2 } }  = \\frac{ 540000.0 }{ \\frac{ 60 }{ 2 } } &= 18000.0  \n",
       "\\end{aligned}\n",
       "\\]"
      ],
      "text/plain": [
       "<IPython.core.display.Latex object>"
      ]
     },
     "metadata": {},
     "output_type": "display_data"
    }
   ],
   "source": [
    "%%render\n",
    "\n",
    "b = 30\n",
    "h = 60\n",
    "d = h - 5\n",
    "\n",
    "I_c = (b*h**3)/12\n",
    "A_c = b*h\n",
    "W_i = I/(h/2)"
   ]
  },
  {
   "cell_type": "markdown",
   "id": "28013225",
   "metadata": {},
   "source": [
    "### Momento de Fissuração:"
   ]
  },
  {
   "cell_type": "code",
   "execution_count": 7,
   "id": "86cba955",
   "metadata": {},
   "outputs": [
    {
     "data": {
      "text/latex": [
       "\\[\n",
       "\\begin{aligned}\n",
       "M_{r} &= \\frac{ 1.5 \\cdot f_{ctm} \\cdot I_{c} }{ \\frac{ h }{ 2 } }  = \\frac{ 1.5 \\cdot 3.509 \\times 10 ^ {-1 } \\cdot 540000.0 }{ \\frac{ 60 }{ 2 } } &= 9473.817  \n",
       "\\end{aligned}\n",
       "\\]"
      ],
      "text/plain": [
       "<IPython.core.display.Latex object>"
      ]
     },
     "metadata": {},
     "output_type": "display_data"
    }
   ],
   "source": [
    "%%render\n",
    "\n",
    "M_r = (1.5 * f_ctm * I_c)/(h/2) "
   ]
  },
  {
   "cell_type": "markdown",
   "id": "54504363",
   "metadata": {},
   "source": [
    "### Momento Atuante:"
   ]
  },
  {
   "cell_type": "code",
   "execution_count": 9,
   "id": "03156618",
   "metadata": {},
   "outputs": [
    {
     "data": {
      "text/latex": [
       "\\[\n",
       "\\begin{aligned}\n",
       "M_{a} &= 100000 \\; \n",
       "\\end{aligned}\n",
       "\\]"
      ],
      "text/plain": [
       "<IPython.core.display.Latex object>"
      ]
     },
     "metadata": {},
     "output_type": "display_data"
    }
   ],
   "source": [
    "%%render\n",
    "\n",
    "M_a = 100000"
   ]
  },
  {
   "cell_type": "markdown",
   "id": "6dbf7033",
   "metadata": {},
   "source": [
    "## Cálculo da Inércia Equivalente:"
   ]
  },
  {
   "cell_type": "code",
   "execution_count": 28,
   "id": "171f14cb",
   "metadata": {},
   "outputs": [
    {
     "data": {
      "text/latex": [
       "\\[\n",
       "\\begin{aligned}\n",
       "\\alpha_{e} &= \\frac{ E_{s} }{ E_{cs} }  = \\frac{ 20000 }{ 3187.576 } &= 6.274  \n",
       "\\\\[10pt]\n",
       "& \\textrm{ Bhaskara:}\\\\[10pt]\n",
       "a_{b} &= \\frac{ b }{ 6 }  = \\frac{ 30 }{ 6 } &= 5.0  \n",
       "\\\\[10pt]\n",
       "b_{b} &= \\left( - b \\right) \\cdot \\frac{ d }{ 2 }  = \\left( - 30 \\right) \\cdot \\frac{ 55 }{ 2 } &= -825.0  \n",
       "\\\\[10pt]\n",
       "c_{b} &= 100000 \\; \n",
       "\\\\[10pt]\n",
       "x_{1} &= \\frac{ b + \\left( \\left( b_{b} \\right) ^{ 2 } - 4 \\cdot a_{b} \\cdot c_{b} \\right) ^{ 0.5 } }{ 2 \\cdot a_{b} }  = \\frac{ 30 + \\left( \\left( -825.0 \\right) ^{ 2 } - 4 \\cdot 5.0 \\cdot 100000 \\right) ^{ 0.5 } }{ 2 \\cdot 5.0 } &= (3+114.864j)  \n",
       "\\end{aligned}\n",
       "\\]"
      ],
      "text/plain": [
       "<IPython.core.display.Latex object>"
      ]
     },
     "metadata": {},
     "output_type": "display_data"
    }
   ],
   "source": [
    "%%render\n",
    "\n",
    "alpha_e = E_s/E_cs\n",
    "\n",
    "## Bhaskara:\n",
    "\n",
    "a_b = b/6\n",
    "b_b = -b*d/2\n",
    "c_b = M_a\n",
    "\n",
    "x_1 = (b + (b_b**2 - 4 * a_b * c_b)**(0.5))/(2*a_b)"
   ]
  }
 ],
 "metadata": {
  "kernelspec": {
   "display_name": "Python 3 (ipykernel)",
   "language": "python",
   "name": "python3"
  },
  "language_info": {
   "codemirror_mode": {
    "name": "ipython",
    "version": 3
   },
   "file_extension": ".py",
   "mimetype": "text/x-python",
   "name": "python",
   "nbconvert_exporter": "python",
   "pygments_lexer": "ipython3",
   "version": "3.9.7"
  }
 },
 "nbformat": 4,
 "nbformat_minor": 5
}
